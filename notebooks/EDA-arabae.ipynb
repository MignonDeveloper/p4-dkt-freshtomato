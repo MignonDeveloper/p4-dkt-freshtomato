{
 "cells": [
  {
   "cell_type": "markdown",
   "metadata": {
    "id": "Nv5EvIVPnz0y"
   },
   "source": [
    "# EDA 및 baseline 코드 확인"
   ]
  },
  {
   "cell_type": "code",
   "execution_count": 1,
   "metadata": {
    "id": "wtJhitPznz06"
   },
   "outputs": [],
   "source": [
    "import pandas as pd\n",
    "import os\n",
    "import torch\n",
    "import easydict\n",
    "import numpy as np\n",
    "from sklearn.preprocessing import LabelEncoder\n",
    "import time\n",
    "import datetime\n",
    "from datetime import datetime\n",
    "import random\n",
    "import wandb"
   ]
  },
  {
   "cell_type": "code",
   "execution_count": 2,
   "metadata": {},
   "outputs": [],
   "source": [
    "df = pd.read_csv('/opt/ml/p4-dkt-freshtomato/input/data/train_dataset/train_data.csv') "
   ]
  },
  {
   "cell_type": "code",
   "execution_count": 3,
   "metadata": {},
   "outputs": [
    {
     "output_type": "execute_result",
     "data": {
      "text/plain": [
       "         userID assessmentItemID      testId  answerCode            Timestamp  \\\n",
       "0             0       A060001001  A060000001           1  2020-03-24 00:17:11   \n",
       "1             0       A060001002  A060000001           1  2020-03-24 00:17:14   \n",
       "2             0       A060001003  A060000001           1  2020-03-24 00:17:22   \n",
       "3             0       A060001004  A060000001           1  2020-03-24 00:17:29   \n",
       "4             0       A060001005  A060000001           1  2020-03-24 00:17:36   \n",
       "...         ...              ...         ...         ...                  ...   \n",
       "2266581    7441       A030071005  A030000071           0  2020-06-05 06:50:21   \n",
       "2266582    7441       A040165001  A040000165           1  2020-08-21 01:06:39   \n",
       "2266583    7441       A040165002  A040000165           1  2020-08-21 01:06:50   \n",
       "2266584    7441       A040165003  A040000165           1  2020-08-21 01:07:36   \n",
       "2266585    7441       A040165004  A040000165           1  2020-08-21 01:08:49   \n",
       "\n",
       "         KnowledgeTag  \n",
       "0                7224  \n",
       "1                7225  \n",
       "2                7225  \n",
       "3                7225  \n",
       "4                7225  \n",
       "...               ...  \n",
       "2266581           438  \n",
       "2266582          8836  \n",
       "2266583          8836  \n",
       "2266584          8836  \n",
       "2266585          8836  \n",
       "\n",
       "[2266586 rows x 6 columns]"
      ],
      "text/html": "<div>\n<style scoped>\n    .dataframe tbody tr th:only-of-type {\n        vertical-align: middle;\n    }\n\n    .dataframe tbody tr th {\n        vertical-align: top;\n    }\n\n    .dataframe thead th {\n        text-align: right;\n    }\n</style>\n<table border=\"1\" class=\"dataframe\">\n  <thead>\n    <tr style=\"text-align: right;\">\n      <th></th>\n      <th>userID</th>\n      <th>assessmentItemID</th>\n      <th>testId</th>\n      <th>answerCode</th>\n      <th>Timestamp</th>\n      <th>KnowledgeTag</th>\n    </tr>\n  </thead>\n  <tbody>\n    <tr>\n      <th>0</th>\n      <td>0</td>\n      <td>A060001001</td>\n      <td>A060000001</td>\n      <td>1</td>\n      <td>2020-03-24 00:17:11</td>\n      <td>7224</td>\n    </tr>\n    <tr>\n      <th>1</th>\n      <td>0</td>\n      <td>A060001002</td>\n      <td>A060000001</td>\n      <td>1</td>\n      <td>2020-03-24 00:17:14</td>\n      <td>7225</td>\n    </tr>\n    <tr>\n      <th>2</th>\n      <td>0</td>\n      <td>A060001003</td>\n      <td>A060000001</td>\n      <td>1</td>\n      <td>2020-03-24 00:17:22</td>\n      <td>7225</td>\n    </tr>\n    <tr>\n      <th>3</th>\n      <td>0</td>\n      <td>A060001004</td>\n      <td>A060000001</td>\n      <td>1</td>\n      <td>2020-03-24 00:17:29</td>\n      <td>7225</td>\n    </tr>\n    <tr>\n      <th>4</th>\n      <td>0</td>\n      <td>A060001005</td>\n      <td>A060000001</td>\n      <td>1</td>\n      <td>2020-03-24 00:17:36</td>\n      <td>7225</td>\n    </tr>\n    <tr>\n      <th>...</th>\n      <td>...</td>\n      <td>...</td>\n      <td>...</td>\n      <td>...</td>\n      <td>...</td>\n      <td>...</td>\n    </tr>\n    <tr>\n      <th>2266581</th>\n      <td>7441</td>\n      <td>A030071005</td>\n      <td>A030000071</td>\n      <td>0</td>\n      <td>2020-06-05 06:50:21</td>\n      <td>438</td>\n    </tr>\n    <tr>\n      <th>2266582</th>\n      <td>7441</td>\n      <td>A040165001</td>\n      <td>A040000165</td>\n      <td>1</td>\n      <td>2020-08-21 01:06:39</td>\n      <td>8836</td>\n    </tr>\n    <tr>\n      <th>2266583</th>\n      <td>7441</td>\n      <td>A040165002</td>\n      <td>A040000165</td>\n      <td>1</td>\n      <td>2020-08-21 01:06:50</td>\n      <td>8836</td>\n    </tr>\n    <tr>\n      <th>2266584</th>\n      <td>7441</td>\n      <td>A040165003</td>\n      <td>A040000165</td>\n      <td>1</td>\n      <td>2020-08-21 01:07:36</td>\n      <td>8836</td>\n    </tr>\n    <tr>\n      <th>2266585</th>\n      <td>7441</td>\n      <td>A040165004</td>\n      <td>A040000165</td>\n      <td>1</td>\n      <td>2020-08-21 01:08:49</td>\n      <td>8836</td>\n    </tr>\n  </tbody>\n</table>\n<p>2266586 rows × 6 columns</p>\n</div>"
     },
     "metadata": {},
     "execution_count": 3
    }
   ],
   "source": [
    "df # assessmentItemID, testId, KnowledgeTag를 "
   ]
  },
  {
   "cell_type": "code",
   "execution_count": 4,
   "metadata": {},
   "outputs": [],
   "source": [
    "df = df.sort_values(by=['userID','Timestamp'], axis=0) # 차이가 없어보이는데 이거는 왜 하는거지?"
   ]
  },
  {
   "cell_type": "code",
   "execution_count": 5,
   "metadata": {},
   "outputs": [
    {
     "output_type": "execute_result",
     "data": {
      "text/plain": [
       "         userID assessmentItemID      testId  answerCode            Timestamp  \\\n",
       "0             0       A060001001  A060000001           1  2020-03-24 00:17:11   \n",
       "1             0       A060001002  A060000001           1  2020-03-24 00:17:14   \n",
       "2             0       A060001003  A060000001           1  2020-03-24 00:17:22   \n",
       "3             0       A060001004  A060000001           1  2020-03-24 00:17:29   \n",
       "4             0       A060001005  A060000001           1  2020-03-24 00:17:36   \n",
       "...         ...              ...         ...         ...                  ...   \n",
       "2266581    7441       A030071005  A030000071           0  2020-06-05 06:50:21   \n",
       "2266582    7441       A040165001  A040000165           1  2020-08-21 01:06:39   \n",
       "2266583    7441       A040165002  A040000165           1  2020-08-21 01:06:50   \n",
       "2266584    7441       A040165003  A040000165           1  2020-08-21 01:07:36   \n",
       "2266585    7441       A040165004  A040000165           1  2020-08-21 01:08:49   \n",
       "\n",
       "         KnowledgeTag  \n",
       "0                7224  \n",
       "1                7225  \n",
       "2                7225  \n",
       "3                7225  \n",
       "4                7225  \n",
       "...               ...  \n",
       "2266581           438  \n",
       "2266582          8836  \n",
       "2266583          8836  \n",
       "2266584          8836  \n",
       "2266585          8836  \n",
       "\n",
       "[2266586 rows x 6 columns]"
      ],
      "text/html": "<div>\n<style scoped>\n    .dataframe tbody tr th:only-of-type {\n        vertical-align: middle;\n    }\n\n    .dataframe tbody tr th {\n        vertical-align: top;\n    }\n\n    .dataframe thead th {\n        text-align: right;\n    }\n</style>\n<table border=\"1\" class=\"dataframe\">\n  <thead>\n    <tr style=\"text-align: right;\">\n      <th></th>\n      <th>userID</th>\n      <th>assessmentItemID</th>\n      <th>testId</th>\n      <th>answerCode</th>\n      <th>Timestamp</th>\n      <th>KnowledgeTag</th>\n    </tr>\n  </thead>\n  <tbody>\n    <tr>\n      <th>0</th>\n      <td>0</td>\n      <td>A060001001</td>\n      <td>A060000001</td>\n      <td>1</td>\n      <td>2020-03-24 00:17:11</td>\n      <td>7224</td>\n    </tr>\n    <tr>\n      <th>1</th>\n      <td>0</td>\n      <td>A060001002</td>\n      <td>A060000001</td>\n      <td>1</td>\n      <td>2020-03-24 00:17:14</td>\n      <td>7225</td>\n    </tr>\n    <tr>\n      <th>2</th>\n      <td>0</td>\n      <td>A060001003</td>\n      <td>A060000001</td>\n      <td>1</td>\n      <td>2020-03-24 00:17:22</td>\n      <td>7225</td>\n    </tr>\n    <tr>\n      <th>3</th>\n      <td>0</td>\n      <td>A060001004</td>\n      <td>A060000001</td>\n      <td>1</td>\n      <td>2020-03-24 00:17:29</td>\n      <td>7225</td>\n    </tr>\n    <tr>\n      <th>4</th>\n      <td>0</td>\n      <td>A060001005</td>\n      <td>A060000001</td>\n      <td>1</td>\n      <td>2020-03-24 00:17:36</td>\n      <td>7225</td>\n    </tr>\n    <tr>\n      <th>...</th>\n      <td>...</td>\n      <td>...</td>\n      <td>...</td>\n      <td>...</td>\n      <td>...</td>\n      <td>...</td>\n    </tr>\n    <tr>\n      <th>2266581</th>\n      <td>7441</td>\n      <td>A030071005</td>\n      <td>A030000071</td>\n      <td>0</td>\n      <td>2020-06-05 06:50:21</td>\n      <td>438</td>\n    </tr>\n    <tr>\n      <th>2266582</th>\n      <td>7441</td>\n      <td>A040165001</td>\n      <td>A040000165</td>\n      <td>1</td>\n      <td>2020-08-21 01:06:39</td>\n      <td>8836</td>\n    </tr>\n    <tr>\n      <th>2266583</th>\n      <td>7441</td>\n      <td>A040165002</td>\n      <td>A040000165</td>\n      <td>1</td>\n      <td>2020-08-21 01:06:50</td>\n      <td>8836</td>\n    </tr>\n    <tr>\n      <th>2266584</th>\n      <td>7441</td>\n      <td>A040165003</td>\n      <td>A040000165</td>\n      <td>1</td>\n      <td>2020-08-21 01:07:36</td>\n      <td>8836</td>\n    </tr>\n    <tr>\n      <th>2266585</th>\n      <td>7441</td>\n      <td>A040165004</td>\n      <td>A040000165</td>\n      <td>1</td>\n      <td>2020-08-21 01:08:49</td>\n      <td>8836</td>\n    </tr>\n  </tbody>\n</table>\n<p>2266586 rows × 6 columns</p>\n</div>"
     },
     "metadata": {},
     "execution_count": 5
    }
   ],
   "source": [
    "df"
   ]
  },
  {
   "source": [
    "## USER의 TestID(시험지)별 정답률 추가"
   ],
   "cell_type": "markdown",
   "metadata": {}
  },
  {
   "cell_type": "code",
   "execution_count": 6,
   "metadata": {},
   "outputs": [
    {
     "output_type": "execute_result",
     "data": {
      "text/plain": [
       "numpy.int64"
      ]
     },
     "metadata": {},
     "execution_count": 6
    }
   ],
   "source": [
    "type(df['answerCode'][0])"
   ]
  },
  {
   "cell_type": "code",
   "execution_count": 7,
   "metadata": {},
   "outputs": [],
   "source": [
    "total_count, answer_count = 1, 0\n",
    "pr_user_id, pr_test_id, pr_answer_code = 0, 'A060000001', 1\n",
    "user_test_correct_ratio = []\n",
    "\n",
    "for user_id, test_id, answer_code in zip(df['userID'], df['testId'], df['answerCode']):\n",
    "    if (user_id != pr_user_id) or (test_id != pr_test_id): # 다른 user 시작 or 다른 시험지 시작\n",
    "        total_count, answer_count = 1, 0\n",
    "        pr_user_id = user_id\n",
    "        pr_test_id = test_id\n",
    "    if answer_code == 1:\n",
    "        answer_count += 1\n",
    "    user_test_correct_ratio.append(answer_count/total_count)\n",
    "    total_count += 1"
   ]
  },
  {
   "cell_type": "code",
   "execution_count": 8,
   "metadata": {},
   "outputs": [],
   "source": [
    "user_test_correct_ratio = pd.DataFrame(user_test_correct_ratio, columns=['correctRatio'])"
   ]
  },
  {
   "cell_type": "code",
   "execution_count": 9,
   "metadata": {},
   "outputs": [
    {
     "output_type": "execute_result",
     "data": {
      "text/plain": [
       "         correctRatio\n",
       "0                 1.0\n",
       "1                 1.0\n",
       "2                 1.0\n",
       "3                 1.0\n",
       "4                 1.0\n",
       "...               ...\n",
       "2266581           0.2\n",
       "2266582           1.0\n",
       "2266583           1.0\n",
       "2266584           1.0\n",
       "2266585           1.0\n",
       "\n",
       "[2266586 rows x 1 columns]"
      ],
      "text/html": "<div>\n<style scoped>\n    .dataframe tbody tr th:only-of-type {\n        vertical-align: middle;\n    }\n\n    .dataframe tbody tr th {\n        vertical-align: top;\n    }\n\n    .dataframe thead th {\n        text-align: right;\n    }\n</style>\n<table border=\"1\" class=\"dataframe\">\n  <thead>\n    <tr style=\"text-align: right;\">\n      <th></th>\n      <th>correctRatio</th>\n    </tr>\n  </thead>\n  <tbody>\n    <tr>\n      <th>0</th>\n      <td>1.0</td>\n    </tr>\n    <tr>\n      <th>1</th>\n      <td>1.0</td>\n    </tr>\n    <tr>\n      <th>2</th>\n      <td>1.0</td>\n    </tr>\n    <tr>\n      <th>3</th>\n      <td>1.0</td>\n    </tr>\n    <tr>\n      <th>4</th>\n      <td>1.0</td>\n    </tr>\n    <tr>\n      <th>...</th>\n      <td>...</td>\n    </tr>\n    <tr>\n      <th>2266581</th>\n      <td>0.2</td>\n    </tr>\n    <tr>\n      <th>2266582</th>\n      <td>1.0</td>\n    </tr>\n    <tr>\n      <th>2266583</th>\n      <td>1.0</td>\n    </tr>\n    <tr>\n      <th>2266584</th>\n      <td>1.0</td>\n    </tr>\n    <tr>\n      <th>2266585</th>\n      <td>1.0</td>\n    </tr>\n  </tbody>\n</table>\n<p>2266586 rows × 1 columns</p>\n</div>"
     },
     "metadata": {},
     "execution_count": 9
    }
   ],
   "source": [
    "user_test_correct_ratio"
   ]
  },
  {
   "cell_type": "code",
   "execution_count": 10,
   "metadata": {},
   "outputs": [],
   "source": [
    "df = df.join(user_test_correct_ratio)"
   ]
  },
  {
   "cell_type": "code",
   "execution_count": 12,
   "metadata": {},
   "outputs": [
    {
     "output_type": "execute_result",
     "data": {
      "text/plain": [
       "    userID assessmentItemID      testId  answerCode            Timestamp  \\\n",
       "0        0       A060001001  A060000001           1  2020-03-24 00:17:11   \n",
       "1        0       A060001002  A060000001           1  2020-03-24 00:17:14   \n",
       "2        0       A060001003  A060000001           1  2020-03-24 00:17:22   \n",
       "3        0       A060001004  A060000001           1  2020-03-24 00:17:29   \n",
       "4        0       A060001005  A060000001           1  2020-03-24 00:17:36   \n",
       "5        0       A060001007  A060000001           1  2020-03-24 00:17:47   \n",
       "6        0       A060003001  A060000003           0  2020-03-26 05:52:03   \n",
       "7        0       A060003002  A060000003           1  2020-03-26 05:52:10   \n",
       "8        0       A060003003  A060000003           1  2020-03-26 05:53:14   \n",
       "9        0       A060003004  A060000003           1  2020-03-26 05:53:29   \n",
       "10       0       A060003005  A060000003           1  2020-03-26 05:53:48   \n",
       "11       0       A060003006  A060000003           1  2020-03-26 05:53:55   \n",
       "12       0       A060003007  A060000003           1  2020-03-26 05:54:11   \n",
       "13       0       A060005001  A060000005           1  2020-03-31 05:02:52   \n",
       "14       0       A060005002  A060000005           1  2020-03-31 05:03:04   \n",
       "\n",
       "    KnowledgeTag  correctRatio  \n",
       "0           7224      1.000000  \n",
       "1           7225      1.000000  \n",
       "2           7225      1.000000  \n",
       "3           7225      1.000000  \n",
       "4           7225      1.000000  \n",
       "5           7225      1.000000  \n",
       "6           7226      0.000000  \n",
       "7           7226      0.500000  \n",
       "8           7226      0.666667  \n",
       "9           7226      0.750000  \n",
       "10          7226      0.800000  \n",
       "11          7226      0.833333  \n",
       "12          7226      0.857143  \n",
       "13          7227      1.000000  \n",
       "14          7228      1.000000  "
      ],
      "text/html": "<div>\n<style scoped>\n    .dataframe tbody tr th:only-of-type {\n        vertical-align: middle;\n    }\n\n    .dataframe tbody tr th {\n        vertical-align: top;\n    }\n\n    .dataframe thead th {\n        text-align: right;\n    }\n</style>\n<table border=\"1\" class=\"dataframe\">\n  <thead>\n    <tr style=\"text-align: right;\">\n      <th></th>\n      <th>userID</th>\n      <th>assessmentItemID</th>\n      <th>testId</th>\n      <th>answerCode</th>\n      <th>Timestamp</th>\n      <th>KnowledgeTag</th>\n      <th>correctRatio</th>\n    </tr>\n  </thead>\n  <tbody>\n    <tr>\n      <th>0</th>\n      <td>0</td>\n      <td>A060001001</td>\n      <td>A060000001</td>\n      <td>1</td>\n      <td>2020-03-24 00:17:11</td>\n      <td>7224</td>\n      <td>1.000000</td>\n    </tr>\n    <tr>\n      <th>1</th>\n      <td>0</td>\n      <td>A060001002</td>\n      <td>A060000001</td>\n      <td>1</td>\n      <td>2020-03-24 00:17:14</td>\n      <td>7225</td>\n      <td>1.000000</td>\n    </tr>\n    <tr>\n      <th>2</th>\n      <td>0</td>\n      <td>A060001003</td>\n      <td>A060000001</td>\n      <td>1</td>\n      <td>2020-03-24 00:17:22</td>\n      <td>7225</td>\n      <td>1.000000</td>\n    </tr>\n    <tr>\n      <th>3</th>\n      <td>0</td>\n      <td>A060001004</td>\n      <td>A060000001</td>\n      <td>1</td>\n      <td>2020-03-24 00:17:29</td>\n      <td>7225</td>\n      <td>1.000000</td>\n    </tr>\n    <tr>\n      <th>4</th>\n      <td>0</td>\n      <td>A060001005</td>\n      <td>A060000001</td>\n      <td>1</td>\n      <td>2020-03-24 00:17:36</td>\n      <td>7225</td>\n      <td>1.000000</td>\n    </tr>\n    <tr>\n      <th>5</th>\n      <td>0</td>\n      <td>A060001007</td>\n      <td>A060000001</td>\n      <td>1</td>\n      <td>2020-03-24 00:17:47</td>\n      <td>7225</td>\n      <td>1.000000</td>\n    </tr>\n    <tr>\n      <th>6</th>\n      <td>0</td>\n      <td>A060003001</td>\n      <td>A060000003</td>\n      <td>0</td>\n      <td>2020-03-26 05:52:03</td>\n      <td>7226</td>\n      <td>0.000000</td>\n    </tr>\n    <tr>\n      <th>7</th>\n      <td>0</td>\n      <td>A060003002</td>\n      <td>A060000003</td>\n      <td>1</td>\n      <td>2020-03-26 05:52:10</td>\n      <td>7226</td>\n      <td>0.500000</td>\n    </tr>\n    <tr>\n      <th>8</th>\n      <td>0</td>\n      <td>A060003003</td>\n      <td>A060000003</td>\n      <td>1</td>\n      <td>2020-03-26 05:53:14</td>\n      <td>7226</td>\n      <td>0.666667</td>\n    </tr>\n    <tr>\n      <th>9</th>\n      <td>0</td>\n      <td>A060003004</td>\n      <td>A060000003</td>\n      <td>1</td>\n      <td>2020-03-26 05:53:29</td>\n      <td>7226</td>\n      <td>0.750000</td>\n    </tr>\n    <tr>\n      <th>10</th>\n      <td>0</td>\n      <td>A060003005</td>\n      <td>A060000003</td>\n      <td>1</td>\n      <td>2020-03-26 05:53:48</td>\n      <td>7226</td>\n      <td>0.800000</td>\n    </tr>\n    <tr>\n      <th>11</th>\n      <td>0</td>\n      <td>A060003006</td>\n      <td>A060000003</td>\n      <td>1</td>\n      <td>2020-03-26 05:53:55</td>\n      <td>7226</td>\n      <td>0.833333</td>\n    </tr>\n    <tr>\n      <th>12</th>\n      <td>0</td>\n      <td>A060003007</td>\n      <td>A060000003</td>\n      <td>1</td>\n      <td>2020-03-26 05:54:11</td>\n      <td>7226</td>\n      <td>0.857143</td>\n    </tr>\n    <tr>\n      <th>13</th>\n      <td>0</td>\n      <td>A060005001</td>\n      <td>A060000005</td>\n      <td>1</td>\n      <td>2020-03-31 05:02:52</td>\n      <td>7227</td>\n      <td>1.000000</td>\n    </tr>\n    <tr>\n      <th>14</th>\n      <td>0</td>\n      <td>A060005002</td>\n      <td>A060000005</td>\n      <td>1</td>\n      <td>2020-03-31 05:03:04</td>\n      <td>7228</td>\n      <td>1.000000</td>\n    </tr>\n  </tbody>\n</table>\n</div>"
     },
     "metadata": {},
     "execution_count": 12
    }
   ],
   "source": [
    "df[:15]"
   ]
  },
  {
   "cell_type": "code",
   "execution_count": 17,
   "metadata": {},
   "outputs": [
    {
     "output_type": "stream",
     "name": "stdout",
     "text": [
      "['0.0' '0.05555555555555555' '0.058823529411764705' '0.0625'\n '0.07692307692307693' '0.08333333333333333' '0.09090909090909091' '0.1'\n '0.1111111111111111' '0.125' '0.13333333333333333' '0.14285714285714285'\n '0.15384615384615385' '0.16666666666666666' '0.17647058823529413'\n '0.18181818181818182' '0.1875' '0.2' '0.21428571428571427'\n '0.2222222222222222' '0.23076923076923078' '0.25' '0.26666666666666666'\n '0.2727272727272727' '0.2857142857142857' '0.29411764705882354' '0.3'\n '0.3076923076923077' '0.3125' '0.3333333333333333' '0.35294117647058826'\n '0.35714285714285715' '0.36363636363636365' '0.3684210526315789' '0.375'\n '0.38095238095238093' '0.38461538461538464' '0.4' '0.4090909090909091'\n '0.4117647058823529' '0.4166666666666667' '0.42105263157894735'\n '0.42857142857142855' '0.43478260869565216' '0.4375' '0.4444444444444444'\n '0.45454545454545453' '0.4583333333333333' '0.46153846153846156'\n '0.4666666666666667' '0.47058823529411764' '0.4782608695652174' '0.5'\n '0.5217391304347826' '0.5238095238095238' '0.5263157894736842'\n '0.5294117647058824' '0.5333333333333333' '0.5384615384615384'\n '0.5416666666666666' '0.5454545454545454' '0.55' '0.5555555555555556'\n '0.5625' '0.5714285714285714' '0.5833333333333334' '0.5882352941176471'\n '0.5909090909090909' '0.6' '0.6111111111111112' '0.6153846153846154'\n '0.625' '0.631578947368421' '0.6363636363636364' '0.6428571428571429'\n '0.65' '0.6666666666666666' '0.6875' '0.6923076923076923' '0.7'\n '0.7058823529411765' '0.7142857142857143' '0.7222222222222222'\n '0.7272727272727273' '0.7333333333333333' '0.7368421052631579' '0.75'\n '0.7647058823529411' '0.7692307692307693' '0.7777777777777778'\n '0.7857142857142857' '0.8' '0.8125' '0.8181818181818182'\n '0.8235294117647058' '0.8333333333333334' '0.8461538461538461'\n '0.8571428571428571' '0.8666666666666667' '0.875' '0.8888888888888888'\n '0.9' '0.9090909090909091' '0.9166666666666666' '0.9230769230769231'\n '0.9285714285714286' '0.9333333333333333' '0.9375' '1.0' 'unknown']\n110\n"
     ]
    }
   ],
   "source": [
    "cr = np.load(\"/opt/ml/p4-dkt-freshtomato/code/asset/correctRate_classes.npy\")\n",
    "print(cr)\n",
    "print(len(cr))"
   ]
  },
  {
   "cell_type": "code",
   "execution_count": 6,
   "metadata": {},
   "outputs": [],
   "source": [
    "cate_cols = ['assessmentItemID', 'testId', 'KnowledgeTag']\n",
    "\n",
    "for col in cate_cols:\n",
    "    le = LabelEncoder() # LabelEncoder: 문자를 0부터 시작하는 정수형 숫자로 바꿔주는 기능을 제공\n",
    "    #For UNKNOWN class\n",
    "    a = df[col].unique().tolist() + ['unknown'] # unknown class를 추가하고, 정수형 숫자로 label을 변경\n",
    "    le.fit(a) # 결과값을 asset 폴더 밑 ~.npy로 저장\n",
    "\n",
    "    #모든 컬럼이 범주형이라고 가정\n",
    "    df[col] = df[col].astype(str)\n",
    "    test = le.transform(df[col])\n",
    "    df[col] = test\n",
    "\n",
    "def convert_time(s):\n",
    "    timestamp = time.mktime(datetime.strptime(s, '%Y-%m-%d %H:%M:%S').timetuple()) # 날짜를 초 단위로 변경\n",
    "    return int(timestamp)\n",
    "\n",
    "df['Timestamp'] = df['Timestamp'].apply(convert_time) # -- 여기까지 결과가 get_train_data를 해서 가져오는 것!"
   ]
  },
  {
   "cell_type": "code",
   "execution_count": 7,
   "metadata": {},
   "outputs": [
    {
     "output_type": "execute_result",
     "data": {
      "text/plain": [
       "'\\ngroup -> len(group.values): 6,698 - train/test셋이 userID를 기준으로 90/10의 비율로 나누어져 있음 (총 7,442명)\\n    - user 0 -> len(group.values[0]): 4\\n        - testId\\n        - assessmentItemID\\n        - KnowledgeTag\\n        - answerCode\\n    - user 1\\n    ...\\n    - user 7441\\n'"
      ]
     },
     "metadata": {},
     "execution_count": 7
    }
   ],
   "source": [
    "columns = ['userID', 'assessmentItemID', 'testId', 'answerCode', 'KnowledgeTag']\n",
    "group = df[columns].groupby('userID').apply(\n",
    "        lambda r: (\n",
    "            r['testId'].values, \n",
    "            r['assessmentItemID'].values,\n",
    "            r['KnowledgeTag'].values,\n",
    "            r['answerCode'].values\n",
    "        )\n",
    "    )\n",
    "# userID 별로 다음의 value들을 묶어서 정보를 가지게 됨\n",
    "'''\n",
    "group -> len(group.values): 6,698 - train/test셋이 userID를 기준으로 90/10의 비율로 나누어져 있음 (총 7,442명)\n",
    "    - user 0 -> len(group.values[0]): 4\n",
    "        - testId\n",
    "        - assessmentItemID\n",
    "        - KnowledgeTag\n",
    "        - answerCode\n",
    "    - user 1\n",
    "    ...\n",
    "    - user 7441\n",
    "'''"
   ]
  },
  {
   "cell_type": "code",
   "execution_count": 13,
   "metadata": {},
   "outputs": [],
   "source": [
    "data = group.values"
   ]
  },
  {
   "cell_type": "code",
   "execution_count": 14,
   "metadata": {},
   "outputs": [],
   "source": [
    "random.seed(0) # fix to default seed 0\n",
    "random.shuffle(data)\n",
    "\n",
    "ratio = 0.1\n",
    "size = int(len(data) * ratio)\n",
    "data_1 = data[:size] # valid - 669\n",
    "data_2 = data[size:] # train - 6029"
   ]
  },
  {
   "cell_type": "code",
   "execution_count": 19,
   "metadata": {},
   "outputs": [],
   "source": [
    "from sklearn.model_selection import train_test_split\n",
    "sk_data2, sk_data1 = train_test_split(data, test_size=0.1, random_state=0) # 6028, 670"
   ]
  },
  {
   "cell_type": "code",
   "execution_count": null,
   "metadata": {},
   "outputs": [],
   "source": []
  },
  {
   "source": [
    "### Lable에 사용되는 class 확인"
   ],
   "cell_type": "markdown",
   "metadata": {}
  },
  {
   "cell_type": "code",
   "execution_count": 20,
   "metadata": {},
   "outputs": [],
   "source": [
    "itemID_class = np.load('asset/assessmentItemID_classes.npy')"
   ]
  },
  {
   "cell_type": "code",
   "execution_count": 23,
   "metadata": {},
   "outputs": [
    {
     "output_type": "stream",
     "name": "stdout",
     "text": [
      "['A010001001' 'A010001002' 'A010001003' ... 'A090074005' 'A090074006'\n 'unknown']\n9455\n"
     ]
    }
   ],
   "source": [
    "print(itemID_class)\n",
    "print(len(itemID_class))"
   ]
  },
  {
   "cell_type": "code",
   "execution_count": 27,
   "metadata": {},
   "outputs": [],
   "source": [
    "knowledgeTag_class = np.load('asset/KnowledgeTag_classes.npy')"
   ]
  },
  {
   "cell_type": "code",
   "execution_count": 28,
   "metadata": {},
   "outputs": [
    {
     "output_type": "stream",
     "name": "stdout",
     "text": [
      "['1000' '1002' '1009' '1010' '1011' '10168' '10169' '10174' '10180'\n '10181' '10182' '10190' '10196' '10313' '10328' '10329' '10330' '10332'\n '10333' '10335' '10395' '10396' '10397' '10398' '10399' '10400' '10402'\n '10403' '10404' '10405' '10421' '10450' '10568' '10569' '10572' '10573'\n '10590' '10603' '10604' '10605' '10606' '10607' '10608' '10610' '10615'\n '10618' '10624' '10625' '10741' '10747' '10749' '10759' '10760' '10764'\n '10766' '10778' '10784' '10795' '10819' '10834' '10837' '10838' '10841'\n '1107' '1108' '1110' '1117' '1120' '11214' '11235' '11236' '11241'\n '11246' '11253' '11265' '11269' '11270' '11271' '116' '117' '1180' '1181'\n '1182' '1183' '1184' '1185' '1200' '1201' '1202' '1203' '121' '1248'\n '1249' '1250' '1251' '1252' '1253' '1255' '1256' '1257' '1259' '1260'\n '1261' '1262' '1263' '1264' '1266' '1267' '1268' '1269' '1271' '1273'\n '1356' '1394' '1395' '1396' '1397' '1422' '1439' '1442' '1443' '1444'\n '1450' '1451' '1452' '1453' '1454' '1455' '1456' '1458' '1463' '1464'\n '1465' '1494' '1531' '1532' '1533' '1534' '1548' '1575' '1576' '1577'\n '1578' '1579' '1580' '1581' '1582' '1583' '162' '163' '164' '169' '1707'\n '1720' '1721' '1726' '1727' '1728' '1872' '1873' '1874' '1875' '1876'\n '1877' '1878' '1879' '1880' '192' '1931' '1934' '1935' '1962' '1963'\n '1964' '1982' '1984' '2010' '202' '2047' '2048' '2049' '2050' '2053'\n '2054' '2055' '2065' '2067' '2068' '2069' '2070' '2071' '2072' '2074'\n '2075' '2076' '2077' '2078' '2079' '2085' '2087' '2089' '2090' '2091'\n '2092' '2093' '2094' '2096' '2097' '2098' '2099' '2100' '2101' '2102'\n '2103' '2104' '2105' '2107' '2108' '2109' '2110' '2111' '2112' '2113'\n '2114' '2115' '2116' '2118' '2119' '2120' '2121' '2122' '2123' '2125'\n '2127' '2128' '2129' '2131' '2132' '2133' '23' '24' '25' '2598' '26'\n '2600' '2601' '2602' '2603' '2604' '2605' '2607' '2608' '2610' '2611'\n '2612' '2613' '2614' '2615' '2616' '2617' '2618' '2619' '2620' '2621'\n '2622' '2623' '2625' '2626' '2644' '2647' '2648' '2652' '2711' '2712'\n '2714' '2715' '2717' '2718' '2719' '2721' '2723' '2725' '2726' '2727'\n '2848' '2849' '2852' '2853' '2868' '2869' '2870' '2871' '2887' '30' '307'\n '308' '309' '3097' '31' '32' '3288' '331' '332' '334' '339' '342' '346'\n '351' '355' '360' '363' '365' '3681' '3682' '3691' '3693' '3703' '3704'\n '371' '3728' '3729' '373' '374' '3751' '3752' '3753' '3755' '3756' '3757'\n '3792' '3793' '3794' '3795' '3798' '3804' '3806' '3820' '3821' '3824'\n '3825' '3826' '3827' '3828' '392' '393' '394' '395' '396' '397' '398'\n '405' '407' '409' '411' '417' '419' '4209' '4210' '4211' '4232' '4234'\n '4236' '4242' '4243' '425' '426' '427' '428' '429' '431' '433' '434'\n '435' '436' '437' '438' '439' '440' '441' '443' '444' '445' '446' '447'\n '448' '449' '4498' '451' '452' '454' '455' '456' '457' '458' '459' '4604'\n '4605' '461' '464' '465' '4657' '4658' '4659' '4660' '4661' '4662' '4663'\n '4664' '4665' '4667' '4668' '4669' '4671' '4672' '4673' '4678' '4679'\n '4680' '4681' '4682' '4683' '4684' '4685' '4686' '4687' '4688' '4697'\n '4699' '4709' '471' '4723' '4724' '4725' '4746' '475' '4783' '4784'\n '4793' '4795' '4797' '4799' '4800' '4801' '4802' '4803' '4804' '4805'\n '481' '4957' '4959' '4961' '4962' '4963' '4964' '4965' '4967' '4969'\n '4970' '4971' '4972' '4974' '4975' '4976' '4978' '4979' '4980' '5141'\n '5142' '5258' '5259' '5260' '5261' '5267' '5268' '5269' '5270' '5271'\n '5283' '5284' '5285' '5286' '5288' '5289' '5290' '5297' '5298' '5300'\n '5308' '5311' '5317' '547' '5485' '551' '5532' '554' '5542' '5543' '5544'\n '559' '5595' '5596' '5619' '5620' '5653' '5654' '5655' '5656' '5705'\n '5707' '574' '5761' '5762' '5763' '5780' '5781' '5782' '5783' '5788'\n '5808' '5809' '5810' '5814' '5834' '5836' '5844' '5845' '5846' '586'\n '587' '588' '589' '590' '592' '593' '594' '595' '596' '598' '599' '600'\n '601' '602' '603' '605' '606' '607' '608' '609' '610' '611' '612' '614'\n '615' '616' '618' '623' '624' '625' '626' '627' '628' '6307' '6308'\n '6453' '6454' '6455' '6456' '6555' '6556' '6557' '6647' '6648' '6649'\n '6774' '6775' '6777' '6784' '6785' '6794' '6795' '6796' '6800' '6801'\n '6802' '6803' '6804' '6805' '6806' '6807' '6825' '6826' '6827' '6828'\n '7034' '705' '706' '707' '7070' '7072' '7073' '7075' '7076' '708' '709'\n '710' '711' '7118' '712' '7120' '7125' '7126' '7127' '713' '714' '7167'\n '7170' '7171' '7172' '7224' '7225' '7226' '7227' '7228' '7229' '7230'\n '7248' '7259' '7268' '7271' '7305' '7307' '7308' '7309' '7310' '7321'\n '7333' '7334' '7581' '7593' '7595' '7596' '7597' '7598' '7599' '7600'\n '7601' '7618' '7620' '7621' '7626' '7629' '7636' '7637' '7653' '7665'\n '7667' '7690' '7691' '7693' '7694' '7696' '770' '7747' '7751' '7781'\n '7782' '7788' '7789' '7797' '7798' '7799' '78' '7800' '7801' '7802'\n '7803' '7804' '7805' '7807' '7808' '7809' '7810' '7811' '7812' '7813'\n '7815' '7817' '7818' '7822' '7823' '7829' '7856' '7862' '7863' '7866'\n '7867' '7912' '7913' '7914' '7915' '7916' '7918' '7919' '7920' '7921'\n '7922' '7924' '7925' '7926' '7927' '7928' '7929' '7930' '7932' '7933'\n '7934' '7935' '7936' '7938' '7941' '7943' '7944' '8002' '8003' '8004'\n '8005' '8006' '8014' '8015' '8016' '8017' '8018' '8019' '8020' '8021'\n '8022' '8023' '8027' '8091' '8092' '8093' '8094' '8095' '8096' '8097'\n '8122' '8123' '8124' '8125' '8126' '8127' '8129' '8130' '8131' '8132'\n '8133' '8134' '8135' '8136' '8137' '8238' '8244' '8247' '8289' '8343'\n '8403' '8404' '8420' '8421' '8422' '8423' '8424' '8425' '8426' '8427'\n '8428' '8429' '8431' '8432' '8433' '8794' '8830' '8831' '8832' '8836'\n '8868' '8871' '8872' '8874' '8875' '8877' '8878' '8879' '8880' '8881'\n '8885' '8886' '8887' '8889' '8890' '8891' '8892' '8893' '8894' '8895'\n '8896' '8897' '8899' '8900' '8901' '8902' '8904' '8905' '8906' '8908'\n '8910' '8911' '8913' '8931' '9021' '9022' '9044' '9046' '9049' '9050'\n '9051' '9052' '9053' '9054' '9055' '9062' '9064' '9065' '9066' '9067'\n '9068' '9069' '9070' '9071' '9072' '9073' '9075' '9077' '9078' '9079'\n '9080' '9081' '9082' '9083' '9086' '9090' '9091' '9098' '9099' '9120'\n '9121' '9122' '9124' '9125' '9126' '9160' '9161' '9162' '9164' '9165'\n '9166' '9167' '9168' '9169' '9170' '9171' '9172' '9184' '9185' '9186'\n '9187' '9232' '9497' '9498' '9500' '9519' '9557' '9590' '9592' '9660'\n '9661' '971' '972' '9728' '974' '9743' '9744' '9745' '975' '9765' '9787'\n '9797' '9811' '9829' '9832' '9846' '9852' '9857' '9858' '9923' '9924'\n '9925' '9926' '9927' '9928' '9929' '9931' 'unknown']\n913\n"
     ]
    }
   ],
   "source": [
    "print(knowledgeTag_class)\n",
    "print(len(knowledgeTag_class))"
   ]
  },
  {
   "cell_type": "code",
   "execution_count": 30,
   "metadata": {},
   "outputs": [],
   "source": [
    "testId_class = np.load('asset/testId_classes.npy')"
   ]
  },
  {
   "cell_type": "code",
   "execution_count": 31,
   "metadata": {},
   "outputs": [
    {
     "output_type": "stream",
     "name": "stdout",
     "text": [
      "['A010000001' 'A010000002' 'A010000003' ... 'A090000073' 'A090000074'\n 'unknown']\n1538\n"
     ]
    }
   ],
   "source": [
    "print(testId_class)\n",
    "print(len(testId_class))"
   ]
  },
  {
   "cell_type": "code",
   "execution_count": 3,
   "metadata": {
    "id": "od9O-ttAnz08"
   },
   "outputs": [],
   "source": [
    "import os\n",
    "from datetime import datetime\n",
    "import time\n",
    "import tqdm\n",
    "import pandas as pd\n",
    "import random\n",
    "from sklearn.preprocessing import LabelEncoder\n",
    "import numpy as np\n",
    "import torch\n",
    "\n",
    "class Preprocess:\n",
    "    def __init__(self,args):\n",
    "        self.args = args\n",
    "        self.train_data = None\n",
    "        self.test_data = None\n",
    "        \n",
    "\n",
    "    def get_train_data(self):\n",
    "        return self.train_data\n",
    "\n",
    "    def get_test_data(self):\n",
    "        return self.test_data\n",
    "\n",
    "    def split_data(self, data, ratio=0.7, shuffle=True, seed=0):\n",
    "        \"\"\"\n",
    "        split data into two parts with a given ratio.\n",
    "        \"\"\"\n",
    "        if shuffle:\n",
    "            random.seed(seed) # fix to default seed 0\n",
    "            random.shuffle(data)\n",
    "\n",
    "        size = int(len(data) * ratio) # data가 userID별로 묶여 있으므로, 이를 기준으로 나눔\n",
    "        data_1 = data[:size]\n",
    "        data_2 = data[size:]\n",
    "\n",
    "        return data_1, data_2\n",
    "\n",
    "    def __save_labels(self, encoder, name):\n",
    "        le_path = os.path.join(self.args.asset_dir, name + '_classes.npy')\n",
    "        np.save(le_path, encoder.classes_)\n",
    "\n",
    "    def __preprocessing(self, df, is_train = True):\n",
    "        cate_cols = ['assessmentItemID', 'testId', 'KnowledgeTag']\n",
    "\n",
    "        if not os.path.exists(self.args.asset_dir):\n",
    "            os.makedirs(self.args.asset_dir)\n",
    "            \n",
    "        for col in cate_cols:\n",
    "            \n",
    "            \n",
    "            le = LabelEncoder() # LabelEncoder: 문자를 0부터 시작하는 정수형 숫자로 바꿔주는 기능을 제공\n",
    "            if is_train:\n",
    "                #For UNKNOWN class\n",
    "                a = df[col].unique().tolist() + ['unknown']\n",
    "                le.fit(a)\n",
    "                self.__save_labels(le, col)\n",
    "            else:\n",
    "                label_path = os.path.join(self.args.asset_dir,col+'_classes.npy')\n",
    "                le.classes_ = np.load(label_path)\n",
    "                \n",
    "                df[col] = df[col].apply(lambda x: x if x in le.classes_ else 'unknown')\n",
    "\n",
    "            #모든 컬럼이 범주형이라고 가정\n",
    "            df[col]= df[col].astype(str)\n",
    "            test = le.transform(df[col])\n",
    "            df[col] = test\n",
    "            \n",
    "\n",
    "        def convert_time(s):\n",
    "            timestamp = time.mktime(datetime.strptime(s, '%Y-%m-%d %H:%M:%S').timetuple())\n",
    "            return int(timestamp)\n",
    "\n",
    "        df['Timestamp'] = df['Timestamp'].apply(convert_time)\n",
    "        \n",
    "        return df\n",
    "\n",
    "    def __feature_engineering(self, df):\n",
    "        #TODO\n",
    "        return df\n",
    "\n",
    "    def load_data_from_file(self, file_name, is_train=True):\n",
    "        csv_file_path = os.path.join(self.args.data_dir, file_name)\n",
    "        df = pd.read_csv(csv_file_path)#, nrows=100000)\n",
    "        df = self.__feature_engineering(df)\n",
    "        df = self.__preprocessing(df, is_train)\n",
    "\n",
    "        # 추후 feature를 embedding할 시에 embedding_layer의 input 크기를 결정할때 사용\n",
    "\n",
    "                \n",
    "        self.args.n_questions = len(np.load(os.path.join(self.args.asset_dir,'assessmentItemID_classes.npy')))\n",
    "        self.args.n_test = len(np.load(os.path.join(self.args.asset_dir,'testId_classes.npy')))\n",
    "        self.args.n_tag = len(np.load(os.path.join(self.args.asset_dir,'KnowledgeTag_classes.npy')))\n",
    "        \n",
    "\n",
    "        df = df.sort_values(by=['userID','Timestamp'], axis=0)\n",
    "        columns = ['userID', 'assessmentItemID', 'testId', 'answerCode', 'KnowledgeTag']\n",
    "        group = df[columns].groupby('userID').apply(\n",
    "                lambda r: (\n",
    "                    r['testId'].values, \n",
    "                    r['assessmentItemID'].values,\n",
    "                    r['KnowledgeTag'].values,\n",
    "                    r['answerCode'].values\n",
    "                )\n",
    "            )\n",
    "\n",
    "        return group.values\n",
    "\n",
    "    def load_train_data(self, file_name):\n",
    "        self.train_data = self.load_data_from_file(file_name)\n",
    "\n",
    "    def load_test_data(self, file_name):\n",
    "        self.test_data = self.load_data_from_file(file_name, is_train= False)\n",
    "\n",
    "\n"
   ]
  },
  {
   "cell_type": "code",
   "execution_count": 10,
   "metadata": {
    "id": "rNaRoFrLnz1E"
   },
   "outputs": [],
   "source": [
    "set_seed(args.seed)\n",
    "\n",
    "preprocess = Preprocess(args)"
   ]
  },
  {
   "cell_type": "code",
   "execution_count": 11,
   "metadata": {},
   "outputs": [],
   "source": [
    "preprocess.load_train_data(file_name)\n",
    "\n",
    "train_data = preprocess.get_train_data()"
   ]
  },
  {
   "cell_type": "code",
   "execution_count": 12,
   "metadata": {},
   "outputs": [
    {
     "output_type": "execute_result",
     "data": {
      "text/plain": [
       "numpy.ndarray"
      ]
     },
     "metadata": {},
     "execution_count": 12
    }
   ],
   "source": [
    "type(train_data)"
   ]
  },
  {
   "cell_type": "code",
   "execution_count": null,
   "metadata": {},
   "outputs": [],
   "source": []
  }
 ],
 "metadata": {
  "colab": {
   "collapsed_sections": [],
   "name": "3강_lstm_baseline.ipynb",
   "provenance": []
  },
  "kernelspec": {
   "display_name": "Python 3",
   "language": "python",
   "name": "python3"
  }
 },
 "nbformat": 4,
 "nbformat_minor": 4
}