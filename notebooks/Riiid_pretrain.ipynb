{
 "cells": [
  {
   "cell_type": "markdown",
   "metadata": {
    "id": "UDPqQUzNIkLN",
    "tags": []
   },
   "source": [
    "### 데이터 읽어오기 \n",
    "Riiid 데이터는 pickle형태로 /opt/ml/input/data/RIIID에 따로 저장해준다.\n",
    "\n",
    "#### 학습 구성 파일\n",
    "* [pickle] riiid_train.pkl.gzip\n",
    "* [csv] questions.csv\n",
    "* [csv] lectures.csv"
   ]
  },
  {
   "cell_type": "code",
   "execution_count": 117,
   "metadata": {
    "id": "NT2s8RaWKNBy"
   },
   "outputs": [],
   "source": [
    "import os, sys\n",
    "import time\n",
    "from datetime import datetime\n",
    "import random\n",
    "\n",
    "import pandas as pd\n",
    "import numpy as np\n",
    "\n",
    "import torch\n",
    "import torch.nn as nn\n",
    "import torch.nn.functional as F \n",
    "try:\n",
    "    from transformers.modeling_bert import BertConfig, BertEncoder, BertModel    \n",
    "except:\n",
    "    from transformers.models.bert.modeling_bert import BertConfig, BertEncoder, BertModel    \n",
    "\n",
    "import copy\n",
    "import math\n",
    "\n",
    "import easydict\n",
    "import tqdm\n",
    "\n",
    "DRIVE_PATH = \"/opt/ml\"\n",
    "DATA_PATH = \"/opt/ml/input/data/RIIID\"\n",
    "file_name = \"riiid_train.pkl.gzip\"\n",
    "config = {}\n",
    "\n",
    "# 설정\n",
    "config['seed'] = 42\n",
    "config['device'] = \"cuda\" if torch.cuda.is_available() else \"cpu\"\n",
    "config['data_dir'] = DATA_PATH\n",
    "config['asset_dir'] = os.path.join(DRIVE_PATH, 'code/asset')\n",
    "config['model_dir'] = os.path.join(DRIVE_PATH, 'models')\n",
    "config['model_name'] = 'model.pt'\n",
    "config['output_dir'] = os.path.join(DRIVE_PATH, 'outputs')\n",
    "\n",
    "# 데이터\n",
    "config['max_seq_len'] = 20\n",
    "config['num_workers'] = 1\n",
    "\n",
    "\n",
    "# 모델\n",
    "config['hidden_dim'] = 64\n",
    "config['n_layers'] = 2\n",
    "config['dropout'] = 0.2\n",
    "\n",
    "# 훈련\n",
    "config['n_epochs'] = 20\n",
    "config['batch_size'] = 64\n",
    "config['lr'] = 0.0001\n",
    "config['clip_grad'] = 10\n",
    "config['log_steps'] = 50\n",
    "config['patience'] = 5\n",
    "\n",
    "\n",
    "\n",
    "### 중요 ###\n",
    "config['model'] = 'lstm'\n",
    "config['optimizer'] = 'adam'\n",
    "config['scheduler'] = 'plateau'\n",
    "\n",
    "\n",
    "args = easydict.EasyDict(config)    "
   ]
  },
  {
   "cell_type": "code",
   "execution_count": 118,
   "metadata": {
    "id": "cKD2-cWzLB42"
   },
   "outputs": [],
   "source": [
    "import pandas as pd\n",
    "\n",
    "train_df = pd.read_pickle(os.path.join(args.data_dir, 'riiid_train.pkl.gzip'))\n",
    "questions_df = pd.read_csv(os.path.join(args.data_dir, 'questions.csv'))\n",
    "lectures_df = pd.read_csv(os.path.join(args.data_dir, 'lectures.csv'))"
   ]
  },
  {
   "cell_type": "code",
   "execution_count": 119,
   "metadata": {
    "id": "LKGe2rQg6yGh"
   },
   "outputs": [],
   "source": [
    "train_df = train_df.iloc[:int(1e7)+1,:]"
   ]
  },
  {
   "cell_type": "code",
   "execution_count": 120,
   "metadata": {},
   "outputs": [],
   "source": [
    "# remove lecture type row \n",
    "train_df = train_df[train_df['content_type_id'] != 1]"
   ]
  },
  {
   "cell_type": "markdown",
   "metadata": {
    "id": "L3ZFgyVEaM6Q"
   },
   "source": [
    "### 📗 EDA (Exploratory Data Analysis)\n",
    "> 간단하게 데이터를 살펴보면서 이 데이터를 어떻게 하면 Transformer input으로 바꿀 수 있을지 생각해보자!"
   ]
  },
  {
   "cell_type": "code",
   "execution_count": 121,
   "metadata": {
    "colab": {
     "base_uri": "https://localhost:8080/",
     "height": 224
    },
    "id": "oUOJDEhJbZHp",
    "outputId": "7e242866-a832-4670-9940-ccae0ae4d045"
   },
   "outputs": [
    {
     "data": {
      "text/html": [
       "<div>\n",
       "<style scoped>\n",
       "    .dataframe tbody tr th:only-of-type {\n",
       "        vertical-align: middle;\n",
       "    }\n",
       "\n",
       "    .dataframe tbody tr th {\n",
       "        vertical-align: top;\n",
       "    }\n",
       "\n",
       "    .dataframe thead th {\n",
       "        text-align: right;\n",
       "    }\n",
       "</style>\n",
       "<table border=\"1\" class=\"dataframe\">\n",
       "  <thead>\n",
       "    <tr style=\"text-align: right;\">\n",
       "      <th></th>\n",
       "      <th>row_id</th>\n",
       "      <th>timestamp</th>\n",
       "      <th>user_id</th>\n",
       "      <th>content_id</th>\n",
       "      <th>content_type_id</th>\n",
       "      <th>task_container_id</th>\n",
       "      <th>user_answer</th>\n",
       "      <th>answered_correctly</th>\n",
       "      <th>prior_question_elapsed_time</th>\n",
       "      <th>prior_question_had_explanation</th>\n",
       "    </tr>\n",
       "  </thead>\n",
       "  <tbody>\n",
       "    <tr>\n",
       "      <th>7784811</th>\n",
       "      <td>7784811</td>\n",
       "      <td>4152318007</td>\n",
       "      <td>169433648</td>\n",
       "      <td>2357</td>\n",
       "      <td>False</td>\n",
       "      <td>227</td>\n",
       "      <td>2</td>\n",
       "      <td>1</td>\n",
       "      <td>27000.0</td>\n",
       "      <td>True</td>\n",
       "    </tr>\n",
       "    <tr>\n",
       "      <th>9838001</th>\n",
       "      <td>9838001</td>\n",
       "      <td>29558987479</td>\n",
       "      <td>213573510</td>\n",
       "      <td>894</td>\n",
       "      <td>False</td>\n",
       "      <td>821</td>\n",
       "      <td>3</td>\n",
       "      <td>1</td>\n",
       "      <td>18000.0</td>\n",
       "      <td>True</td>\n",
       "    </tr>\n",
       "    <tr>\n",
       "      <th>943892</th>\n",
       "      <td>943892</td>\n",
       "      <td>2419052454</td>\n",
       "      <td>19594546</td>\n",
       "      <td>7068</td>\n",
       "      <td>False</td>\n",
       "      <td>1060</td>\n",
       "      <td>3</td>\n",
       "      <td>1</td>\n",
       "      <td>35500.0</td>\n",
       "      <td>True</td>\n",
       "    </tr>\n",
       "    <tr>\n",
       "      <th>5165340</th>\n",
       "      <td>5165340</td>\n",
       "      <td>865702930</td>\n",
       "      <td>110773765</td>\n",
       "      <td>7602</td>\n",
       "      <td>False</td>\n",
       "      <td>2349</td>\n",
       "      <td>2</td>\n",
       "      <td>1</td>\n",
       "      <td>43400.0</td>\n",
       "      <td>True</td>\n",
       "    </tr>\n",
       "    <tr>\n",
       "      <th>6034381</th>\n",
       "      <td>6034381</td>\n",
       "      <td>542217101</td>\n",
       "      <td>129795932</td>\n",
       "      <td>4831</td>\n",
       "      <td>False</td>\n",
       "      <td>29</td>\n",
       "      <td>1</td>\n",
       "      <td>1</td>\n",
       "      <td>31000.0</td>\n",
       "      <td>True</td>\n",
       "    </tr>\n",
       "  </tbody>\n",
       "</table>\n",
       "</div>"
      ],
      "text/plain": [
       "          row_id    timestamp    user_id  content_id  content_type_id  \\\n",
       "7784811  7784811   4152318007  169433648        2357            False   \n",
       "9838001  9838001  29558987479  213573510         894            False   \n",
       "943892    943892   2419052454   19594546        7068            False   \n",
       "5165340  5165340    865702930  110773765        7602            False   \n",
       "6034381  6034381    542217101  129795932        4831            False   \n",
       "\n",
       "         task_container_id  user_answer  answered_correctly  \\\n",
       "7784811                227            2                   1   \n",
       "9838001                821            3                   1   \n",
       "943892                1060            3                   1   \n",
       "5165340               2349            2                   1   \n",
       "6034381                 29            1                   1   \n",
       "\n",
       "         prior_question_elapsed_time prior_question_had_explanation  \n",
       "7784811                      27000.0                           True  \n",
       "9838001                      18000.0                           True  \n",
       "943892                       35500.0                           True  \n",
       "5165340                      43400.0                           True  \n",
       "6034381                      31000.0                           True  "
      ]
     },
     "execution_count": 121,
     "metadata": {},
     "output_type": "execute_result"
    }
   ],
   "source": [
    "train_df.sample(5)"
   ]
  },
  {
   "cell_type": "code",
   "execution_count": 122,
   "metadata": {
    "colab": {
     "base_uri": "https://localhost:8080/",
     "height": 204
    },
    "id": "7pC6wn6lJqYa",
    "outputId": "b2490cb2-4a00-425d-e26d-6383b63d341f"
   },
   "outputs": [
    {
     "data": {
      "text/html": [
       "<div>\n",
       "<style scoped>\n",
       "    .dataframe tbody tr th:only-of-type {\n",
       "        vertical-align: middle;\n",
       "    }\n",
       "\n",
       "    .dataframe tbody tr th {\n",
       "        vertical-align: top;\n",
       "    }\n",
       "\n",
       "    .dataframe thead th {\n",
       "        text-align: right;\n",
       "    }\n",
       "</style>\n",
       "<table border=\"1\" class=\"dataframe\">\n",
       "  <thead>\n",
       "    <tr style=\"text-align: right;\">\n",
       "      <th></th>\n",
       "      <th>lecture_id</th>\n",
       "      <th>tag</th>\n",
       "      <th>part</th>\n",
       "      <th>type_of</th>\n",
       "    </tr>\n",
       "  </thead>\n",
       "  <tbody>\n",
       "    <tr>\n",
       "      <th>80</th>\n",
       "      <td>7097</td>\n",
       "      <td>13</td>\n",
       "      <td>1</td>\n",
       "      <td>solving question</td>\n",
       "    </tr>\n",
       "    <tr>\n",
       "      <th>129</th>\n",
       "      <td>10928</td>\n",
       "      <td>136</td>\n",
       "      <td>3</td>\n",
       "      <td>solving question</td>\n",
       "    </tr>\n",
       "    <tr>\n",
       "      <th>89</th>\n",
       "      <td>8138</td>\n",
       "      <td>151</td>\n",
       "      <td>6</td>\n",
       "      <td>concept</td>\n",
       "    </tr>\n",
       "    <tr>\n",
       "      <th>372</th>\n",
       "      <td>29695</td>\n",
       "      <td>27</td>\n",
       "      <td>6</td>\n",
       "      <td>concept</td>\n",
       "    </tr>\n",
       "    <tr>\n",
       "      <th>293</th>\n",
       "      <td>23262</td>\n",
       "      <td>66</td>\n",
       "      <td>5</td>\n",
       "      <td>concept</td>\n",
       "    </tr>\n",
       "  </tbody>\n",
       "</table>\n",
       "</div>"
      ],
      "text/plain": [
       "     lecture_id  tag  part           type_of\n",
       "80         7097   13     1  solving question\n",
       "129       10928  136     3  solving question\n",
       "89         8138  151     6           concept\n",
       "372       29695   27     6           concept\n",
       "293       23262   66     5           concept"
      ]
     },
     "execution_count": 122,
     "metadata": {},
     "output_type": "execute_result"
    }
   ],
   "source": [
    "lectures_df.sample(5)"
   ]
  },
  {
   "cell_type": "code",
   "execution_count": 123,
   "metadata": {
    "colab": {
     "base_uri": "https://localhost:8080/",
     "height": 204
    },
    "id": "FGNaN28qZ0l-",
    "outputId": "a75803f7-aad7-4352-ae60-a72b8dab69f3"
   },
   "outputs": [
    {
     "data": {
      "text/html": [
       "<div>\n",
       "<style scoped>\n",
       "    .dataframe tbody tr th:only-of-type {\n",
       "        vertical-align: middle;\n",
       "    }\n",
       "\n",
       "    .dataframe tbody tr th {\n",
       "        vertical-align: top;\n",
       "    }\n",
       "\n",
       "    .dataframe thead th {\n",
       "        text-align: right;\n",
       "    }\n",
       "</style>\n",
       "<table border=\"1\" class=\"dataframe\">\n",
       "  <thead>\n",
       "    <tr style=\"text-align: right;\">\n",
       "      <th></th>\n",
       "      <th>question_id</th>\n",
       "      <th>bundle_id</th>\n",
       "      <th>correct_answer</th>\n",
       "      <th>part</th>\n",
       "      <th>tags</th>\n",
       "    </tr>\n",
       "  </thead>\n",
       "  <tbody>\n",
       "    <tr>\n",
       "      <th>755</th>\n",
       "      <td>755</td>\n",
       "      <td>755</td>\n",
       "      <td>1</td>\n",
       "      <td>2</td>\n",
       "      <td>143 71 81 92</td>\n",
       "    </tr>\n",
       "    <tr>\n",
       "      <th>3317</th>\n",
       "      <td>3317</td>\n",
       "      <td>3315</td>\n",
       "      <td>2</td>\n",
       "      <td>4</td>\n",
       "      <td>136 12 92</td>\n",
       "    </tr>\n",
       "    <tr>\n",
       "      <th>3258</th>\n",
       "      <td>3258</td>\n",
       "      <td>3258</td>\n",
       "      <td>2</td>\n",
       "      <td>4</td>\n",
       "      <td>136 67 38</td>\n",
       "    </tr>\n",
       "    <tr>\n",
       "      <th>7599</th>\n",
       "      <td>7599</td>\n",
       "      <td>7599</td>\n",
       "      <td>3</td>\n",
       "      <td>7</td>\n",
       "      <td>97 37 21</td>\n",
       "    </tr>\n",
       "    <tr>\n",
       "      <th>11812</th>\n",
       "      <td>11812</td>\n",
       "      <td>11812</td>\n",
       "      <td>3</td>\n",
       "      <td>4</td>\n",
       "      <td>136 81 59</td>\n",
       "    </tr>\n",
       "  </tbody>\n",
       "</table>\n",
       "</div>"
      ],
      "text/plain": [
       "       question_id  bundle_id  correct_answer  part          tags\n",
       "755            755        755               1     2  143 71 81 92\n",
       "3317          3317       3315               2     4     136 12 92\n",
       "3258          3258       3258               2     4     136 67 38\n",
       "7599          7599       7599               3     7      97 37 21\n",
       "11812        11812      11812               3     4     136 81 59"
      ]
     },
     "execution_count": 123,
     "metadata": {},
     "output_type": "execute_result"
    }
   ],
   "source": [
    "questions_df.sample(5)"
   ]
  },
  {
   "cell_type": "markdown",
   "metadata": {
    "id": "sHRQwYcCQACS"
   },
   "source": [
    "#### 🟡 데이터셋으로 사용될 각 sequence들의 indices목록 생성\n",
    "> 우리는 transformer input으로 sequence 데이터를 주어야 하기에 현재 pandas DataFrame을 sequence 데이터로 바꾸어야 한다. 이 sequence 데이터로 변환하는 것은 추후 Dataset이 수행할 것이고 **우리는 각 sequence 데이터가 이 pandas DataFrame의 어떤 indices의 데이터들을 결합해서 만들 것인지 목록을 생성**해야 한다."
   ]
  },
  {
   "cell_type": "code",
   "execution_count": 124,
   "metadata": {
    "colab": {
     "base_uri": "https://localhost:8080/",
     "height": 204
    },
    "id": "3Pu0_T3iSN1g",
    "outputId": "9b67b564-4251-4294-a58f-83ae14b6aeac"
   },
   "outputs": [
    {
     "data": {
      "text/html": [
       "<div>\n",
       "<style scoped>\n",
       "    .dataframe tbody tr th:only-of-type {\n",
       "        vertical-align: middle;\n",
       "    }\n",
       "\n",
       "    .dataframe tbody tr th {\n",
       "        vertical-align: top;\n",
       "    }\n",
       "\n",
       "    .dataframe thead th {\n",
       "        text-align: right;\n",
       "    }\n",
       "</style>\n",
       "<table border=\"1\" class=\"dataframe\">\n",
       "  <thead>\n",
       "    <tr style=\"text-align: right;\">\n",
       "      <th></th>\n",
       "      <th>user_id</th>\n",
       "      <th>0</th>\n",
       "    </tr>\n",
       "  </thead>\n",
       "  <tbody>\n",
       "    <tr>\n",
       "      <th>19864</th>\n",
       "      <td>108615840</td>\n",
       "      <td>[5072371, 5072372, 5072373, 5072374, 5072375, ...</td>\n",
       "    </tr>\n",
       "    <tr>\n",
       "      <th>29335</th>\n",
       "      <td>161204474</td>\n",
       "      <td>[7432163, 7432164, 7432165, 7432166, 7432167, ...</td>\n",
       "    </tr>\n",
       "    <tr>\n",
       "      <th>32451</th>\n",
       "      <td>178288107</td>\n",
       "      <td>[8199463, 8199464, 8199465, 8199466, 8199467, ...</td>\n",
       "    </tr>\n",
       "    <tr>\n",
       "      <th>14096</th>\n",
       "      <td>76849752</td>\n",
       "      <td>[3570490, 3570491, 3570492, 3570493, 3570494, ...</td>\n",
       "    </tr>\n",
       "    <tr>\n",
       "      <th>9240</th>\n",
       "      <td>50427074</td>\n",
       "      <td>[2347735, 2347736, 2347737, 2347738, 2347739, ...</td>\n",
       "    </tr>\n",
       "  </tbody>\n",
       "</table>\n",
       "</div>"
      ],
      "text/plain": [
       "         user_id                                                  0\n",
       "19864  108615840  [5072371, 5072372, 5072373, 5072374, 5072375, ...\n",
       "29335  161204474  [7432163, 7432164, 7432165, 7432166, 7432167, ...\n",
       "32451  178288107  [8199463, 8199464, 8199465, 8199466, 8199467, ...\n",
       "14096   76849752  [3570490, 3570491, 3570492, 3570493, 3570494, ...\n",
       "9240    50427074  [2347735, 2347736, 2347737, 2347738, 2347739, ..."
      ]
     },
     "execution_count": 124,
     "metadata": {},
     "output_type": "execute_result"
    }
   ],
   "source": [
    "# 문제 푸는 데이터들의 index\n",
    "question_bool = train_df['content_type_id'] == 0\n",
    "\n",
    "# 학습 과정에서 학습 샘플을 생성하기 위해서 필요한 유저별 row_ids를 저장\n",
    "question_row_ids_by_user_id = train_df[question_bool].groupby('user_id').apply(lambda x: x['row_id'].values)\n",
    "question_row_ids_by_user_id.reset_index().sample(5)"
   ]
  },
  {
   "cell_type": "code",
   "execution_count": 125,
   "metadata": {
    "colab": {
     "base_uri": "https://localhost:8080/",
     "height": 204
    },
    "id": "T2zhLKTdUbz-",
    "outputId": "da6569f7-382d-45f6-9e28-8120d06f21f1"
   },
   "outputs": [
    {
     "data": {
      "text/html": [
       "<div>\n",
       "<style scoped>\n",
       "    .dataframe tbody tr th:only-of-type {\n",
       "        vertical-align: middle;\n",
       "    }\n",
       "\n",
       "    .dataframe tbody tr th {\n",
       "        vertical-align: top;\n",
       "    }\n",
       "\n",
       "    .dataframe thead th {\n",
       "        text-align: right;\n",
       "    }\n",
       "</style>\n",
       "<table border=\"1\" class=\"dataframe\">\n",
       "  <thead>\n",
       "    <tr style=\"text-align: right;\">\n",
       "      <th></th>\n",
       "      <th>user_id</th>\n",
       "      <th>0</th>\n",
       "    </tr>\n",
       "  </thead>\n",
       "  <tbody>\n",
       "    <tr>\n",
       "      <th>3324</th>\n",
       "      <td>18066275</td>\n",
       "      <td>861157</td>\n",
       "    </tr>\n",
       "    <tr>\n",
       "      <th>10598</th>\n",
       "      <td>57764310</td>\n",
       "      <td>2641979</td>\n",
       "    </tr>\n",
       "    <tr>\n",
       "      <th>38532</th>\n",
       "      <td>211631374</td>\n",
       "      <td>9729627</td>\n",
       "    </tr>\n",
       "    <tr>\n",
       "      <th>13707</th>\n",
       "      <td>74647908</td>\n",
       "      <td>3469218</td>\n",
       "    </tr>\n",
       "    <tr>\n",
       "      <th>20104</th>\n",
       "      <td>109907841</td>\n",
       "      <td>5119212</td>\n",
       "    </tr>\n",
       "  </tbody>\n",
       "</table>\n",
       "</div>"
      ],
      "text/plain": [
       "         user_id        0\n",
       "3324    18066275   861157\n",
       "10598   57764310  2641979\n",
       "38532  211631374  9729627\n",
       "13707   74647908  3469218\n",
       "20104  109907841  5119212"
      ]
     },
     "execution_count": 125,
     "metadata": {},
     "output_type": "execute_result"
    }
   ],
   "source": [
    "# 학습 과정에서 학습 샘플을 생성하기 위해서 필요한 유저별 시작 row_id를 저장\n",
    "start_row_id_by_user_id = train_df.groupby('user_id').apply(lambda x: x['row_id'].values[0])\n",
    "start_row_id_by_user_id.reset_index().sample(5)"
   ]
  },
  {
   "cell_type": "markdown",
   "metadata": {
    "id": "rib9D7NYYy7z"
   },
   "source": [
    "#### 🟡 questions_df / lectures_df wrangling\n",
    "> 데이터셋을 우리가 원하는 형태의 데이터셋으로 바꿔가는 wrangling은 언제나 필수적인 요소다.우리는 여기서 데이터셋을 다듬고 `questions_df`와 `lectures_df`를 하나로 합칠 것이다.\n",
    "\n",
    "- column 이름 변경\n",
    "- NaN 값 채우기\n",
    "- 데이터 타입 변경\n",
    "- 필요없는 column 삭제\n",
    "- 새로운 feature 생성\n",
    "- 데이터셋 합치기"
   ]
  },
  {
   "cell_type": "code",
   "execution_count": 126,
   "metadata": {
    "id": "0HA-tz9yjwC_"
   },
   "outputs": [],
   "source": [
    "# column 이름 변경\n",
    "questions_df = questions_df.rename({'question_id':'content_id'}, axis=1)\n",
    "lectures_df = lectures_df.rename({'lecture_id':'content_id', 'tag':'tags'}, axis=1)\n",
    "\n",
    "# NaN값 채우기\n",
    "questions_df['tags'] = questions_df['tags'].fillna('')        \n",
    "\n",
    "# 데이터 타입 변경\n",
    "lectures_df['tags'] = lectures_df['tags'].astype(str)\n",
    "\n",
    "# 필요없는 column 삭제\n",
    "questions_df = questions_df.drop('bundle_id', axis=1)\n",
    "\n",
    "# 새로운 feature 생성\n",
    "questions_df['content_type_id'] = 0\n",
    "lectures_df['content_type_id'] = 1\n",
    "\n",
    "# 데이터셋 합치기\n",
    "question_lectures_df = pd.concat([questions_df, lectures_df])"
   ]
  },
  {
   "cell_type": "code",
   "execution_count": 127,
   "metadata": {
    "colab": {
     "base_uri": "https://localhost:8080/",
     "height": 142
    },
    "id": "JnALlJQ9plrZ",
    "outputId": "01a09b19-4b8e-44ec-b152-92627aca2b66"
   },
   "outputs": [
    {
     "data": {
      "text/html": [
       "<div>\n",
       "<style scoped>\n",
       "    .dataframe tbody tr th:only-of-type {\n",
       "        vertical-align: middle;\n",
       "    }\n",
       "\n",
       "    .dataframe tbody tr th {\n",
       "        vertical-align: top;\n",
       "    }\n",
       "\n",
       "    .dataframe thead th {\n",
       "        text-align: right;\n",
       "    }\n",
       "</style>\n",
       "<table border=\"1\" class=\"dataframe\">\n",
       "  <thead>\n",
       "    <tr style=\"text-align: right;\">\n",
       "      <th></th>\n",
       "      <th>content_id</th>\n",
       "      <th>correct_answer</th>\n",
       "      <th>part</th>\n",
       "      <th>tags</th>\n",
       "      <th>content_type_id</th>\n",
       "    </tr>\n",
       "  </thead>\n",
       "  <tbody>\n",
       "    <tr>\n",
       "      <th>0</th>\n",
       "      <td>0</td>\n",
       "      <td>0</td>\n",
       "      <td>1</td>\n",
       "      <td>51 131 162 38</td>\n",
       "      <td>0</td>\n",
       "    </tr>\n",
       "    <tr>\n",
       "      <th>1</th>\n",
       "      <td>1</td>\n",
       "      <td>1</td>\n",
       "      <td>1</td>\n",
       "      <td>131 36 81</td>\n",
       "      <td>0</td>\n",
       "    </tr>\n",
       "    <tr>\n",
       "      <th>2</th>\n",
       "      <td>2</td>\n",
       "      <td>0</td>\n",
       "      <td>1</td>\n",
       "      <td>131 101 162 92</td>\n",
       "      <td>0</td>\n",
       "    </tr>\n",
       "  </tbody>\n",
       "</table>\n",
       "</div>"
      ],
      "text/plain": [
       "   content_id  correct_answer  part            tags  content_type_id\n",
       "0           0               0     1   51 131 162 38                0\n",
       "1           1               1     1       131 36 81                0\n",
       "2           2               0     1  131 101 162 92                0"
      ]
     },
     "execution_count": 127,
     "metadata": {},
     "output_type": "execute_result"
    }
   ],
   "source": [
    "questions_df.head(3)"
   ]
  },
  {
   "cell_type": "code",
   "execution_count": 128,
   "metadata": {
    "colab": {
     "base_uri": "https://localhost:8080/",
     "height": 142
    },
    "id": "8G3YbKJcpoPN",
    "outputId": "85f9cd59-16ec-4b95-e666-8adb4cb2c8d7"
   },
   "outputs": [
    {
     "data": {
      "text/html": [
       "<div>\n",
       "<style scoped>\n",
       "    .dataframe tbody tr th:only-of-type {\n",
       "        vertical-align: middle;\n",
       "    }\n",
       "\n",
       "    .dataframe tbody tr th {\n",
       "        vertical-align: top;\n",
       "    }\n",
       "\n",
       "    .dataframe thead th {\n",
       "        text-align: right;\n",
       "    }\n",
       "</style>\n",
       "<table border=\"1\" class=\"dataframe\">\n",
       "  <thead>\n",
       "    <tr style=\"text-align: right;\">\n",
       "      <th></th>\n",
       "      <th>content_id</th>\n",
       "      <th>tags</th>\n",
       "      <th>part</th>\n",
       "      <th>type_of</th>\n",
       "      <th>content_type_id</th>\n",
       "    </tr>\n",
       "  </thead>\n",
       "  <tbody>\n",
       "    <tr>\n",
       "      <th>0</th>\n",
       "      <td>89</td>\n",
       "      <td>159</td>\n",
       "      <td>5</td>\n",
       "      <td>concept</td>\n",
       "      <td>1</td>\n",
       "    </tr>\n",
       "    <tr>\n",
       "      <th>1</th>\n",
       "      <td>100</td>\n",
       "      <td>70</td>\n",
       "      <td>1</td>\n",
       "      <td>concept</td>\n",
       "      <td>1</td>\n",
       "    </tr>\n",
       "    <tr>\n",
       "      <th>2</th>\n",
       "      <td>185</td>\n",
       "      <td>45</td>\n",
       "      <td>6</td>\n",
       "      <td>concept</td>\n",
       "      <td>1</td>\n",
       "    </tr>\n",
       "  </tbody>\n",
       "</table>\n",
       "</div>"
      ],
      "text/plain": [
       "   content_id tags  part  type_of  content_type_id\n",
       "0          89  159     5  concept                1\n",
       "1         100   70     1  concept                1\n",
       "2         185   45     6  concept                1"
      ]
     },
     "execution_count": 128,
     "metadata": {},
     "output_type": "execute_result"
    }
   ],
   "source": [
    "lectures_df.head(3)"
   ]
  },
  {
   "cell_type": "code",
   "execution_count": 129,
   "metadata": {
    "colab": {
     "base_uri": "https://localhost:8080/",
     "height": 142
    },
    "id": "bijbF0mcjwDA",
    "outputId": "cc553fee-2e41-4cb2-afd8-f609508b0bb7"
   },
   "outputs": [
    {
     "data": {
      "text/html": [
       "<div>\n",
       "<style scoped>\n",
       "    .dataframe tbody tr th:only-of-type {\n",
       "        vertical-align: middle;\n",
       "    }\n",
       "\n",
       "    .dataframe tbody tr th {\n",
       "        vertical-align: top;\n",
       "    }\n",
       "\n",
       "    .dataframe thead th {\n",
       "        text-align: right;\n",
       "    }\n",
       "</style>\n",
       "<table border=\"1\" class=\"dataframe\">\n",
       "  <thead>\n",
       "    <tr style=\"text-align: right;\">\n",
       "      <th></th>\n",
       "      <th>content_id</th>\n",
       "      <th>correct_answer</th>\n",
       "      <th>part</th>\n",
       "      <th>tags</th>\n",
       "      <th>content_type_id</th>\n",
       "      <th>type_of</th>\n",
       "    </tr>\n",
       "  </thead>\n",
       "  <tbody>\n",
       "    <tr>\n",
       "      <th>0</th>\n",
       "      <td>0</td>\n",
       "      <td>0.0</td>\n",
       "      <td>1</td>\n",
       "      <td>51 131 162 38</td>\n",
       "      <td>0</td>\n",
       "      <td>NaN</td>\n",
       "    </tr>\n",
       "    <tr>\n",
       "      <th>1</th>\n",
       "      <td>1</td>\n",
       "      <td>1.0</td>\n",
       "      <td>1</td>\n",
       "      <td>131 36 81</td>\n",
       "      <td>0</td>\n",
       "      <td>NaN</td>\n",
       "    </tr>\n",
       "    <tr>\n",
       "      <th>2</th>\n",
       "      <td>2</td>\n",
       "      <td>0.0</td>\n",
       "      <td>1</td>\n",
       "      <td>131 101 162 92</td>\n",
       "      <td>0</td>\n",
       "      <td>NaN</td>\n",
       "    </tr>\n",
       "  </tbody>\n",
       "</table>\n",
       "</div>"
      ],
      "text/plain": [
       "   content_id  correct_answer  part            tags  content_type_id type_of\n",
       "0           0             0.0     1   51 131 162 38                0     NaN\n",
       "1           1             1.0     1       131 36 81                0     NaN\n",
       "2           2             0.0     1  131 101 162 92                0     NaN"
      ]
     },
     "execution_count": 129,
     "metadata": {},
     "output_type": "execute_result"
    }
   ],
   "source": [
    "# 합쳐진 데이터셋 확인\n",
    "question_lectures_df.head(3)"
   ]
  },
  {
   "cell_type": "markdown",
   "metadata": {
    "id": "QvAjgx1sjwDB"
   },
   "source": [
    "#### 🟡 데이터셋 합치기\n",
    "> 위에서 만든 `questions_lectures_df`를 `train_df`에 합치자!"
   ]
  },
  {
   "cell_type": "code",
   "execution_count": 130,
   "metadata": {
    "id": "S5n_hbhVjwDB"
   },
   "outputs": [],
   "source": [
    "train_df = train_df.merge(question_lectures_df, how='left', on=['content_id', 'content_type_id']) "
   ]
  },
  {
   "cell_type": "code",
   "execution_count": 131,
   "metadata": {
    "colab": {
     "base_uri": "https://localhost:8080/",
     "height": 213
    },
    "id": "TVz1yn13jwDB",
    "outputId": "0e04273b-e6a9-482e-c6ae-309fe423e443"
   },
   "outputs": [
    {
     "data": {
      "text/html": [
       "<div>\n",
       "<style scoped>\n",
       "    .dataframe tbody tr th:only-of-type {\n",
       "        vertical-align: middle;\n",
       "    }\n",
       "\n",
       "    .dataframe tbody tr th {\n",
       "        vertical-align: top;\n",
       "    }\n",
       "\n",
       "    .dataframe thead th {\n",
       "        text-align: right;\n",
       "    }\n",
       "</style>\n",
       "<table border=\"1\" class=\"dataframe\">\n",
       "  <thead>\n",
       "    <tr style=\"text-align: right;\">\n",
       "      <th></th>\n",
       "      <th>row_id</th>\n",
       "      <th>timestamp</th>\n",
       "      <th>user_id</th>\n",
       "      <th>content_id</th>\n",
       "      <th>content_type_id</th>\n",
       "      <th>task_container_id</th>\n",
       "      <th>user_answer</th>\n",
       "      <th>answered_correctly</th>\n",
       "      <th>prior_question_elapsed_time</th>\n",
       "      <th>prior_question_had_explanation</th>\n",
       "      <th>correct_answer</th>\n",
       "      <th>part</th>\n",
       "      <th>tags</th>\n",
       "      <th>type_of</th>\n",
       "    </tr>\n",
       "  </thead>\n",
       "  <tbody>\n",
       "    <tr>\n",
       "      <th>5812750</th>\n",
       "      <td>5927802</td>\n",
       "      <td>27648030420</td>\n",
       "      <td>127730967</td>\n",
       "      <td>4163</td>\n",
       "      <td>False</td>\n",
       "      <td>1723</td>\n",
       "      <td>1</td>\n",
       "      <td>0</td>\n",
       "      <td>20000.0</td>\n",
       "      <td>True</td>\n",
       "      <td>0.0</td>\n",
       "      <td>5</td>\n",
       "      <td>79</td>\n",
       "      <td>NaN</td>\n",
       "    </tr>\n",
       "    <tr>\n",
       "      <th>6996983</th>\n",
       "      <td>7136331</td>\n",
       "      <td>1180500891</td>\n",
       "      <td>155120014</td>\n",
       "      <td>1582</td>\n",
       "      <td>False</td>\n",
       "      <td>268</td>\n",
       "      <td>1</td>\n",
       "      <td>1</td>\n",
       "      <td>27666.0</td>\n",
       "      <td>True</td>\n",
       "      <td>1.0</td>\n",
       "      <td>3</td>\n",
       "      <td>157 92 29</td>\n",
       "      <td>NaN</td>\n",
       "    </tr>\n",
       "    <tr>\n",
       "      <th>1950255</th>\n",
       "      <td>1989027</td>\n",
       "      <td>112525386</td>\n",
       "      <td>41894694</td>\n",
       "      <td>335</td>\n",
       "      <td>False</td>\n",
       "      <td>35</td>\n",
       "      <td>1</td>\n",
       "      <td>0</td>\n",
       "      <td>17000.0</td>\n",
       "      <td>True</td>\n",
       "      <td>0.0</td>\n",
       "      <td>2</td>\n",
       "      <td>2 107 162 92 29</td>\n",
       "      <td>NaN</td>\n",
       "    </tr>\n",
       "  </tbody>\n",
       "</table>\n",
       "</div>"
      ],
      "text/plain": [
       "          row_id    timestamp    user_id  content_id content_type_id  \\\n",
       "5812750  5927802  27648030420  127730967        4163           False   \n",
       "6996983  7136331   1180500891  155120014        1582           False   \n",
       "1950255  1989027    112525386   41894694         335           False   \n",
       "\n",
       "         task_container_id  user_answer  answered_correctly  \\\n",
       "5812750               1723            1                   0   \n",
       "6996983                268            1                   1   \n",
       "1950255                 35            1                   0   \n",
       "\n",
       "         prior_question_elapsed_time prior_question_had_explanation  \\\n",
       "5812750                      20000.0                           True   \n",
       "6996983                      27666.0                           True   \n",
       "1950255                      17000.0                           True   \n",
       "\n",
       "         correct_answer  part             tags type_of  \n",
       "5812750             0.0     5               79     NaN  \n",
       "6996983             1.0     3        157 92 29     NaN  \n",
       "1950255             0.0     2  2 107 162 92 29     NaN  "
      ]
     },
     "execution_count": 131,
     "metadata": {},
     "output_type": "execute_result"
    }
   ],
   "source": [
    "train_df.sample(3)"
   ]
  },
  {
   "cell_type": "markdown",
   "metadata": {
    "id": "MxiXIiNdqnq_"
   },
   "source": [
    "#### 🟡 Category to index 생성 및 mapping\n",
    "> 데이터셋을 embedding하기 위해서는 범주형(category) feature들을 숫자로 변환할 필요가 있다. 이를 위해서 우리는 각 범주형 feature마다 `cate2idx`을 만들고 mapping을 할 것이다."
   ]
  },
  {
   "cell_type": "code",
   "execution_count": 132,
   "metadata": {
    "colab": {
     "base_uri": "https://localhost:8080/"
    },
    "id": "9e_iDXxlrB71",
    "outputId": "81906030-b330-46f2-97d7-918cd4f4faff"
   },
   "outputs": [
    {
     "name": "stdout",
     "output_type": "stream",
     "text": [
      "25131\n"
     ]
    }
   ],
   "source": [
    "cate2id_dict = {}\n",
    "\n",
    "# 0은 nan이 사용한다\n",
    "offset = 1\n",
    "\n",
    "# type2id\n",
    "type2id = dict([(v, i+offset) for i, v in enumerate(lectures_df['type_of'].unique())])\n",
    "cate2id_dict['type2id'] = type2id\n",
    "offset += len(type2id)\n",
    "\n",
    "# part2id\n",
    "part2id = dict([(v, i+offset) for i, v in enumerate(lectures_df['part'].unique())])\n",
    "cate2id_dict['part2id'] = part2id\n",
    "offset += len(part2id)\n",
    "        \n",
    "# tags2id\n",
    "tags2id = dict([(v, i+offset) for i, v in enumerate(pd.concat([questions_df['tags'], lectures_df['tags']]).unique())])\n",
    "cate2id_dict['tags2id'] = tags2id\n",
    "offset += len(tags2id)\n",
    "\n",
    "# # lec_content2id\n",
    "# lec_content2id = dict([(v, i+offset) for i, v in enumerate(lectures_df['content_id'].unique())])\n",
    "# cate2id_dict['lec_content2id'] = lec_content2id\n",
    "# offset += len(lec_content2id)\n",
    "\n",
    "# qu_content2id\n",
    "qu_content2id = dict([(v, i+offset) for i, v in enumerate(questions_df['content_id'].unique())])\n",
    "cate2id_dict['qu_content2id'] = qu_content2id\n",
    "offset += len(qu_content2id)\n",
    "\n",
    "# container2id\n",
    "task_2id = dict([(v, i+offset) for i, v in enumerate(train_df['task_container_id'].unique())])\n",
    "cate2id_dict['task_2id'] = task_2id \n",
    "offset += len(task_2id)\n",
    "print(offset)"
   ]
  },
  {
   "cell_type": "code",
   "execution_count": 133,
   "metadata": {
    "colab": {
     "base_uri": "https://localhost:8080/"
    },
    "id": "OZx3HKoSuHrW",
    "outputId": "9f52dddd-5ac2-4989-c6cc-670756d2cc95"
   },
   "outputs": [
    {
     "data": {
      "text/plain": [
       "dict_keys(['type2id', 'part2id', 'tags2id', 'qu_content2id', 'task_2id'])"
      ]
     },
     "execution_count": 133,
     "metadata": {},
     "output_type": "execute_result"
    }
   ],
   "source": [
    "cate2id_dict.keys()"
   ]
  },
  {
   "cell_type": "code",
   "execution_count": 134,
   "metadata": {
    "colab": {
     "base_uri": "https://localhost:8080/"
    },
    "id": "2UHdkv7ot-P0",
    "outputId": "1f72b3a9-b3f7-4e53-caca-bb9567109a73"
   },
   "outputs": [
    {
     "data": {
      "text/plain": [
       "{5: 5, 1: 6, 6: 7, 2: 8, 7: 9, 3: 10, 4: 11}"
      ]
     },
     "execution_count": 134,
     "metadata": {},
     "output_type": "execute_result"
    }
   ],
   "source": [
    "cate2id_dict['part2id']"
   ]
  },
  {
   "cell_type": "code",
   "execution_count": 135,
   "metadata": {
    "colab": {
     "base_uri": "https://localhost:8080/"
    },
    "id": "inI7WzNfeir1",
    "outputId": "ec3cc7a6-93b5-4de0-e1ee-5d9a70cecacb"
   },
   "outputs": [],
   "source": [
    "import numpy as np\n",
    "\n",
    "for dict_key, dict_value in cate2id_dict.items():\n",
    "    np.save(os.path.join(args.asset_dir, dict_key + '_classes.npy'), list(dict_value.keys()))"
   ]
  },
  {
   "cell_type": "code",
   "execution_count": 136,
   "metadata": {
    "id": "sY3I6Kf9ypgb"
   },
   "outputs": [],
   "source": [
    "# mapping\n",
    "question_bool = train_df['content_type_id'] == 0\n",
    "train_df.loc[question_bool, 'content_id'] = train_df.loc[question_bool, 'content_id'].map(qu_content2id)\n",
    "# train_df.loc[~question_bool, 'content_id'] = train_df.loc[~question_bool, 'content_id'].map(lec_content2id)\n",
    "\n",
    "train_df['task_container_id'] = train_df['task_container_id'].map(task_2id)\n",
    "train_df['type_of'] = train_df['type_of'].map(type2id)\n",
    "train_df['part'] = train_df['part'].map(part2id)\n",
    "train_df['tags'] = train_df['tags'].map(tags2id)\n",
    "train_df['type_of'] = train_df['type_of'].fillna(0).astype(np.int32)"
   ]
  },
  {
   "cell_type": "code",
   "execution_count": 137,
   "metadata": {
    "colab": {
     "base_uri": "https://localhost:8080/",
     "height": 162
    },
    "id": "F3PY4vZEy8Wc",
    "outputId": "6aa0961e-2ff6-45ad-b52b-15579ef2dc7e"
   },
   "outputs": [
    {
     "data": {
      "text/html": [
       "<div>\n",
       "<style scoped>\n",
       "    .dataframe tbody tr th:only-of-type {\n",
       "        vertical-align: middle;\n",
       "    }\n",
       "\n",
       "    .dataframe tbody tr th {\n",
       "        vertical-align: top;\n",
       "    }\n",
       "\n",
       "    .dataframe thead th {\n",
       "        text-align: right;\n",
       "    }\n",
       "</style>\n",
       "<table border=\"1\" class=\"dataframe\">\n",
       "  <thead>\n",
       "    <tr style=\"text-align: right;\">\n",
       "      <th></th>\n",
       "      <th>row_id</th>\n",
       "      <th>timestamp</th>\n",
       "      <th>user_id</th>\n",
       "      <th>content_id</th>\n",
       "      <th>content_type_id</th>\n",
       "      <th>task_container_id</th>\n",
       "      <th>user_answer</th>\n",
       "      <th>answered_correctly</th>\n",
       "      <th>prior_question_elapsed_time</th>\n",
       "      <th>prior_question_had_explanation</th>\n",
       "      <th>correct_answer</th>\n",
       "      <th>part</th>\n",
       "      <th>tags</th>\n",
       "      <th>type_of</th>\n",
       "    </tr>\n",
       "  </thead>\n",
       "  <tbody>\n",
       "    <tr>\n",
       "      <th>5461910</th>\n",
       "      <td>5570720</td>\n",
       "      <td>1055719963</td>\n",
       "      <td>119192119</td>\n",
       "      <td>3727</td>\n",
       "      <td>False</td>\n",
       "      <td>15282</td>\n",
       "      <td>0</td>\n",
       "      <td>0</td>\n",
       "      <td>17000.0</td>\n",
       "      <td>True</td>\n",
       "      <td>3.0</td>\n",
       "      <td>10</td>\n",
       "      <td>571</td>\n",
       "      <td>0</td>\n",
       "    </tr>\n",
       "    <tr>\n",
       "      <th>4135298</th>\n",
       "      <td>4217960</td>\n",
       "      <td>1022045980</td>\n",
       "      <td>89504683</td>\n",
       "      <td>5820</td>\n",
       "      <td>False</td>\n",
       "      <td>15584</td>\n",
       "      <td>0</td>\n",
       "      <td>0</td>\n",
       "      <td>44000.0</td>\n",
       "      <td>True</td>\n",
       "      <td>3.0</td>\n",
       "      <td>5</td>\n",
       "      <td>1023</td>\n",
       "      <td>0</td>\n",
       "    </tr>\n",
       "    <tr>\n",
       "      <th>6135374</th>\n",
       "      <td>6256697</td>\n",
       "      <td>1809087896</td>\n",
       "      <td>134888946</td>\n",
       "      <td>3808</td>\n",
       "      <td>False</td>\n",
       "      <td>16186</td>\n",
       "      <td>3</td>\n",
       "      <td>1</td>\n",
       "      <td>24666.0</td>\n",
       "      <td>True</td>\n",
       "      <td>3.0</td>\n",
       "      <td>10</td>\n",
       "      <td>610</td>\n",
       "      <td>0</td>\n",
       "    </tr>\n",
       "  </tbody>\n",
       "</table>\n",
       "</div>"
      ],
      "text/plain": [
       "          row_id   timestamp    user_id  content_id content_type_id  \\\n",
       "5461910  5570720  1055719963  119192119        3727           False   \n",
       "4135298  4217960  1022045980   89504683        5820           False   \n",
       "6135374  6256697  1809087896  134888946        3808           False   \n",
       "\n",
       "         task_container_id  user_answer  answered_correctly  \\\n",
       "5461910              15282            0                   0   \n",
       "4135298              15584            0                   0   \n",
       "6135374              16186            3                   1   \n",
       "\n",
       "         prior_question_elapsed_time prior_question_had_explanation  \\\n",
       "5461910                      17000.0                           True   \n",
       "4135298                      44000.0                           True   \n",
       "6135374                      24666.0                           True   \n",
       "\n",
       "         correct_answer  part  tags  type_of  \n",
       "5461910             3.0    10   571        0  \n",
       "4135298             3.0     5  1023        0  \n",
       "6135374             3.0    10   610        0  "
      ]
     },
     "execution_count": 137,
     "metadata": {},
     "output_type": "execute_result"
    }
   ],
   "source": [
    "train_df.sample(3)"
   ]
  },
  {
   "cell_type": "code",
   "execution_count": 138,
   "metadata": {},
   "outputs": [],
   "source": [
    "train_df = train_df.drop(['content_type_id'], axis=1)"
   ]
  },
  {
   "cell_type": "code",
   "execution_count": 139,
   "metadata": {},
   "outputs": [
    {
     "data": {
      "text/html": [
       "<div>\n",
       "<style scoped>\n",
       "    .dataframe tbody tr th:only-of-type {\n",
       "        vertical-align: middle;\n",
       "    }\n",
       "\n",
       "    .dataframe tbody tr th {\n",
       "        vertical-align: top;\n",
       "    }\n",
       "\n",
       "    .dataframe thead th {\n",
       "        text-align: right;\n",
       "    }\n",
       "</style>\n",
       "<table border=\"1\" class=\"dataframe\">\n",
       "  <thead>\n",
       "    <tr style=\"text-align: right;\">\n",
       "      <th></th>\n",
       "      <th>row_id</th>\n",
       "      <th>timestamp</th>\n",
       "      <th>user_id</th>\n",
       "      <th>content_id</th>\n",
       "      <th>task_container_id</th>\n",
       "      <th>user_answer</th>\n",
       "      <th>answered_correctly</th>\n",
       "      <th>prior_question_elapsed_time</th>\n",
       "      <th>prior_question_had_explanation</th>\n",
       "      <th>correct_answer</th>\n",
       "      <th>part</th>\n",
       "      <th>tags</th>\n",
       "      <th>type_of</th>\n",
       "    </tr>\n",
       "  </thead>\n",
       "  <tbody>\n",
       "    <tr>\n",
       "      <th>267753</th>\n",
       "      <td>272916</td>\n",
       "      <td>1732137152</td>\n",
       "      <td>5243685</td>\n",
       "      <td>9357</td>\n",
       "      <td>15807</td>\n",
       "      <td>0</td>\n",
       "      <td>0</td>\n",
       "      <td>13333.0</td>\n",
       "      <td>True</td>\n",
       "      <td>2.0</td>\n",
       "      <td>9</td>\n",
       "      <td>1325</td>\n",
       "      <td>0</td>\n",
       "    </tr>\n",
       "    <tr>\n",
       "      <th>4952779</th>\n",
       "      <td>5051687</td>\n",
       "      <td>1565626557</td>\n",
       "      <td>108064542</td>\n",
       "      <td>8482</td>\n",
       "      <td>15247</td>\n",
       "      <td>2</td>\n",
       "      <td>0</td>\n",
       "      <td>15000.0</td>\n",
       "      <td>False</td>\n",
       "      <td>3.0</td>\n",
       "      <td>7</td>\n",
       "      <td>1114</td>\n",
       "      <td>0</td>\n",
       "    </tr>\n",
       "    <tr>\n",
       "      <th>8630322</th>\n",
       "      <td>8802668</td>\n",
       "      <td>172094126</td>\n",
       "      <td>191624533</td>\n",
       "      <td>9936</td>\n",
       "      <td>15162</td>\n",
       "      <td>0</td>\n",
       "      <td>0</td>\n",
       "      <td>51000.0</td>\n",
       "      <td>True</td>\n",
       "      <td>1.0</td>\n",
       "      <td>5</td>\n",
       "      <td>1048</td>\n",
       "      <td>0</td>\n",
       "    </tr>\n",
       "    <tr>\n",
       "      <th>5449780</th>\n",
       "      <td>5558411</td>\n",
       "      <td>4150274328</td>\n",
       "      <td>118752844</td>\n",
       "      <td>10856</td>\n",
       "      <td>15217</td>\n",
       "      <td>0</td>\n",
       "      <td>1</td>\n",
       "      <td>7000.0</td>\n",
       "      <td>True</td>\n",
       "      <td>0.0</td>\n",
       "      <td>5</td>\n",
       "      <td>1053</td>\n",
       "      <td>0</td>\n",
       "    </tr>\n",
       "    <tr>\n",
       "      <th>9598922</th>\n",
       "      <td>9790658</td>\n",
       "      <td>12528580127</td>\n",
       "      <td>212874547</td>\n",
       "      <td>3205</td>\n",
       "      <td>16002</td>\n",
       "      <td>2</td>\n",
       "      <td>0</td>\n",
       "      <td>32500.0</td>\n",
       "      <td>False</td>\n",
       "      <td>0.0</td>\n",
       "      <td>10</td>\n",
       "      <td>537</td>\n",
       "      <td>0</td>\n",
       "    </tr>\n",
       "  </tbody>\n",
       "</table>\n",
       "</div>"
      ],
      "text/plain": [
       "          row_id    timestamp    user_id  content_id  task_container_id  \\\n",
       "267753    272916   1732137152    5243685        9357              15807   \n",
       "4952779  5051687   1565626557  108064542        8482              15247   \n",
       "8630322  8802668    172094126  191624533        9936              15162   \n",
       "5449780  5558411   4150274328  118752844       10856              15217   \n",
       "9598922  9790658  12528580127  212874547        3205              16002   \n",
       "\n",
       "         user_answer  answered_correctly  prior_question_elapsed_time  \\\n",
       "267753             0                   0                      13333.0   \n",
       "4952779            2                   0                      15000.0   \n",
       "8630322            0                   0                      51000.0   \n",
       "5449780            0                   1                       7000.0   \n",
       "9598922            2                   0                      32500.0   \n",
       "\n",
       "        prior_question_had_explanation  correct_answer  part  tags  type_of  \n",
       "267753                            True             2.0     9  1325        0  \n",
       "4952779                          False             3.0     7  1114        0  \n",
       "8630322                           True             1.0     5  1048        0  \n",
       "5449780                           True             0.0     5  1053        0  \n",
       "9598922                          False             0.0    10   537        0  "
      ]
     },
     "execution_count": 139,
     "metadata": {},
     "output_type": "execute_result"
    }
   ],
   "source": [
    "train_df.sample(5)"
   ]
  },
  {
   "cell_type": "markdown",
   "metadata": {
    "id": "G9EjdOvxtbZv"
   },
   "source": [
    "#### 🟡 특성 공학 (Feature Engineering)\n",
    "> 우리의 학습을 더욱 쉽게 하기 위한 새로운 feature들을 생성하자! 주로 수치형 feature를 생성한다\n",
    "\n",
    "- `correct_answer` NaN값 채우기\n",
    "- `timestamp` 시간 단위 초로 변경하기\n",
    "- `lag_time` 생성\n",
    "- `prior_questions` 관련 column 처리\n",
    "- `정확도 (accuracy)` feature 생성\n",
    "- `상대적 (relative)` feature 생성\n",
    "- `과거 (prior)` feature 생성\n",
    "- `바로전 (previous)` feature 생성"
   ]
  },
  {
   "cell_type": "markdown",
   "metadata": {
    "id": "AePLPiSFzkuN"
   },
   "source": [
    "##### `correct_answer` NaN값 채우기\n",
    "> feature engineering에 속하지는 않지만 겸사겸사 진행한다"
   ]
  },
  {
   "cell_type": "code",
   "execution_count": 140,
   "metadata": {
    "colab": {
     "base_uri": "https://localhost:8080/"
    },
    "id": "MQ5YvH-KzxUd",
    "outputId": "202d035c-1dc7-4719-b71e-81a921bcfc06"
   },
   "outputs": [
    {
     "data": {
      "text/plain": [
       "0"
      ]
     },
     "execution_count": 140,
     "metadata": {},
     "output_type": "execute_result"
    }
   ],
   "source": [
    "# 237개의 nan값이 존재한다\n",
    "train_df['correct_answer'].isna().sum()"
   ]
  },
  {
   "cell_type": "code",
   "execution_count": 141,
   "metadata": {
    "id": "bW3dsuEyzpIQ"
   },
   "outputs": [],
   "source": [
    "train_df['correct_answer'] = train_df['correct_answer'].fillna(-1).astype(np.int16)"
   ]
  },
  {
   "cell_type": "markdown",
   "metadata": {
    "id": "OgTnAcMK0a0b"
   },
   "source": [
    "##### `timestamp` 시간 단위 초로 변경하기"
   ]
  },
  {
   "cell_type": "code",
   "execution_count": 142,
   "metadata": {
    "colab": {
     "base_uri": "https://localhost:8080/"
    },
    "id": "Bqx5kfIfjefn",
    "outputId": "e4d063ca-2e46-434d-ef63-07db264baa73"
   },
   "outputs": [
    {
     "data": {
      "text/plain": [
       "255"
      ]
     },
     "execution_count": 142,
     "metadata": {},
     "output_type": "execute_result"
    }
   ],
   "source": [
    "train_df['timestamp'] = (train_df['timestamp'] / 1e03).astype(np.int32)\n",
    "train_df['timestamp'][10]"
   ]
  },
  {
   "cell_type": "markdown",
   "metadata": {
    "id": "rA-HU2_1MiH9"
   },
   "source": [
    "##### `lag_time` 생성"
   ]
  },
  {
   "cell_type": "code",
   "execution_count": 143,
   "metadata": {
    "colab": {
     "base_uri": "https://localhost:8080/"
    },
    "id": "yKBU4SbWMebw",
    "outputId": "c9c23649-4d9d-4cea-d9f7-a3357442f5f5"
   },
   "outputs": [
    {
     "data": {
      "text/plain": [
       "0     0.0\n",
       "1    56.0\n",
       "2    62.0\n",
       "Name: lag_time, dtype: float64"
      ]
     },
     "execution_count": 143,
     "metadata": {},
     "output_type": "execute_result"
    }
   ],
   "source": [
    "train_df['lag_time'] = train_df['timestamp'].diff().fillna(0)\n",
    "train_df['lag_time'][:3]"
   ]
  },
  {
   "cell_type": "markdown",
   "metadata": {
    "id": "xDChQ3R109gl"
   },
   "source": [
    "##### `prior_questions` 관련 column 처리\n",
    "- `prior_question_elapsed_time` : nan값 채우기와 시간 단위 초로 변경\n",
    "- `prior_question_had_explanation` : nan값 채우기"
   ]
  },
  {
   "cell_type": "code",
   "execution_count": 144,
   "metadata": {
    "id": "7CNWVflr0tmG"
   },
   "outputs": [],
   "source": [
    "train_df['prior_question_elapsed_time'] = train_df['prior_question_elapsed_time'].fillna(0) / 1e03\n",
    "train_df['prior_question_had_explanation'] = train_df['prior_question_had_explanation'].fillna(0).astype(np.int32)"
   ]
  },
  {
   "cell_type": "markdown",
   "metadata": {
    "id": "bKWWCfthIYOl"
   },
   "source": [
    "#### 🟡 트랜스폼 (Transform)\n",
    "> 로그 스케일링! skew한 분포를 normal 분포로!"
   ]
  },
  {
   "cell_type": "code",
   "execution_count": 145,
   "metadata": {
    "colab": {
     "base_uri": "https://localhost:8080/",
     "height": 351
    },
    "id": "ASjGvpHdU2X6",
    "outputId": "dce1c59e-6a04-4212-c504-cc9d528d4ba0"
   },
   "outputs": [
    {
     "data": {
      "image/png": "[encoded data removed]",
      "text/plain": [
       "<Figure size 720x360 with 1 Axes>"
      ]
     },
     "metadata": {
      "needs_background": "light"
     },
     "output_type": "display_data"
    }
   ],
   "source": [
    "import matplotlib.pyplot as plt\n",
    "\n",
    "plt.figure(figsize=(10, 5))\n",
    "train_df['prior_question_elapsed_time'].hist(bins=20)\n",
    "\n",
    "plt.grid('False')\n",
    "plt.title('histogram of prior_question_elapsed_time')\n",
    "plt.xlabel('prior_question_elapsed_time');\n",
    "plt.ylabel('count');"
   ]
  },
  {
   "cell_type": "code",
   "execution_count": 146,
   "metadata": {
    "colab": {
     "base_uri": "https://localhost:8080/"
    },
    "id": "Lkyg_A2-BmzK",
    "outputId": "7410393c-f21e-46ab-c833-0aed8e91fc91",
    "tags": []
   },
   "outputs": [],
   "source": [
    "import numpy as np\n",
    "\n",
    "log1p_cols = ['timestamp',\n",
    "              'prior_question_elapsed_time',\n",
    "            #   'prior_part_frequency',\n",
    "            #   'prior_tags_frequency',\n",
    "            #   'prior_content_id_frequency',\n",
    "#               'diff_time_btw_content_ids',\n",
    "              'lag_time']\n",
    "\n",
    "train_df[log1p_cols] = np.log1p(train_df[log1p_cols])"
   ]
  },
  {
   "cell_type": "code",
   "execution_count": 147,
   "metadata": {
    "colab": {
     "base_uri": "https://localhost:8080/",
     "height": 351
    },
    "id": "PQzR8-RSU2Ce",
    "outputId": "470f59ab-936c-439c-ae75-a0e2cdafd546"
   },
   "outputs": [
    {
     "data": {
      "image/png": "[encoded data removed]",
      "text/plain": [
       "<Figure size 720x360 with 1 Axes>"
      ]
     },
     "metadata": {
      "needs_background": "light"
     },
     "output_type": "display_data"
    }
   ],
   "source": [
    "import matplotlib.pyplot as plt\n",
    "\n",
    "plt.figure(figsize=(10, 5))\n",
    "train_df['prior_question_elapsed_time'].hist(bins=20)\n",
    "\n",
    "plt.grid('False')\n",
    "plt.title('histogram of Log Scaled prior_question_elapsed_time')\n",
    "plt.xlabel('prior_question_elapsed_time');\n",
    "plt.ylabel('count');"
   ]
  },
  {
   "cell_type": "markdown",
   "metadata": {
    "id": "F8iGut5aV2Ti"
   },
   "source": [
    "#### 🟡 범주형 / 수치형 feature 데이터 타입 변환"
   ]
  },
  {
   "cell_type": "code",
   "execution_count": 148,
   "metadata": {
    "id": "Ioxdg8niV8x_"
   },
   "outputs": [],
   "source": [
    "cont_cols = ['timestamp',\n",
    "             'prior_question_elapsed_time',\n",
    "             'prior_question_had_explanation',\n",
    "             'lag_time',\n",
    "             'answered_correctly']\n",
    "\n",
    "cate_cols = ['content_id', 'task_container_id', 'tags', 'type_of', 'part'] \n",
    "\n",
    "train_df[cate_cols] = train_df[cate_cols].astype(np.int16)\n",
    "train_df[cont_cols] = train_df[cont_cols].astype(np.float32)     "
   ]
  },
  {
   "cell_type": "markdown",
   "metadata": {
    "id": "frS_JwBMW7Gr"
   },
   "source": [
    "#### 🟡 전처리가 끝나고 우리에게 남은 것\n",
    "> 긴 전처리 과정이 끝나고 3개의 pandas DataFrame에서 출발하여 우리는 훈련에 필요한 데이터들을 얻었다. 이는 다음과 같다.\n",
    "\n",
    "- `train_df` : 핵심 훈련 데이터. feature engineering을 통해 feature수가 많이 증가했다.\n",
    "- `cate2id_dict` : 각 범주형 feature를 embedding이 가능하도록 index로 바꿔주는 dictionary\n",
    "\n",
    "**column 이름**\n",
    "- `offset` : 범주형 feature들의 값들의 총 갯수\n",
    "- `cate_cols` : 범주형 feature들의 column 이름\n",
    "- `cont_cols` : 수치형 feature들의 column 이름\n",
    "\n",
    "**훈련 데이터셋 sequence 정보**\n",
    "- `question_row_ids_by_user_id` : 훈련셋의 sequence 데이터들의 `train_df`에서의 indices\n",
    "- `start_row_id_by_user_id` : 훈련셋의 각 sequence 데이터들의 `train_df`에서의 첫 row의 index"
   ]
  },
  {
   "cell_type": "code",
   "execution_count": 149,
   "metadata": {
    "colab": {
     "base_uri": "https://localhost:8080/"
    },
    "id": "J_iWp-QAX28P",
    "outputId": "7666365f-2169-4192-d63b-8c50e139e37a"
   },
   "outputs": [
    {
     "name": "stdout",
     "output_type": "stream",
     "text": [
      "훈련 데이터셋 shape : (9804605, 14)\n",
      "category 값들의 총 갯수 : 25131\n",
      "category feature들의 column 이름 : ['content_id', 'task_container_id', 'tags', 'type_of', 'part']\n",
      "continuous feature들의 column 이름 : ['timestamp', 'prior_question_elapsed_time', 'prior_question_had_explanation', 'lag_time', 'answered_correctly']\n"
     ]
    }
   ],
   "source": [
    "print(f\"훈련 데이터셋 shape : {train_df.shape}\")\n",
    "print(f\"category 값들의 총 갯수 : {offset}\")\n",
    "print(f\"category feature들의 column 이름 : {cate_cols}\")\n",
    "print(f\"continuous feature들의 column 이름 : {cont_cols}\")"
   ]
  },
  {
   "cell_type": "code",
   "execution_count": 150,
   "metadata": {
    "colab": {
     "base_uri": "https://localhost:8080/"
    },
    "collapsed": true,
    "id": "kK5whT89X28Q",
    "jupyter": {
     "outputs_hidden": true
    },
    "outputId": "4dc7b1b0-d6e6-44a7-e515-670ed82b03b2",
    "tags": []
   },
   "outputs": [
    {
     "name": "stdout",
     "output_type": "stream",
     "text": [
      "category feature들의 index : {'type2id': {'concept': 1, 'solving question': 2, 'intention': 3, 'starter': 4}, 'part2id': {5: 5, 1: 6, 6: 7, 2: 8, 7: 9, 3: 10, 4: 11}, 'tags2id': {'51 131 162 38': 12, '131 36 81': 13, '131 101 162 92': 14, '131 149 162 29': 15, '131 5 162 38': 16, '131 149 162 81': 17, '10 94 162 92': 18, '61 110 162 29': 19, '131 13 162 92': 20, '10 164 81': 21, '131 36 38': 22, '51 131 81': 23, '51 131 92': 24, '131 5 29': 25, '131 101 38': 26, '61 110 81': 27, '131 99 92': 28, '131 93 162 29': 29, '61 110 92': 30, '10 70 162 81': 31, '131 149 162 38': 32, '9 10 162 81': 33, '131 5 92': 34, '9 10 29': 35, '9 10 38': 36, '9 10 81': 37, '131 104 162 92': 38, '131 104 92': 39, '131 13 162 81': 40, '131 40 162 81': 41, '131 93 162 38': 42, '9 10 92': 43, '131 5 81': 44, '131 40 81': 45, '10 70 162 92': 46, '10 94 38': 47, '131 104 38': 48, '131 93 162 81': 49, '131 130 92': 50, '131 13 162 29': 51, '10 164 162 81': 52, '9 10 162 92': 53, '131 187 81': 54, '131 36 162 81': 55, '61 110 162 92': 56, '10 164 92': 57, '131 101 162 81': 58, '10 164 102': 59, '131 104 102': 60, '131 149 38': 61, '131 111 92': 62, '131 36 102': 63, '131 187 102': 64, '51 131 102': 65, '131 93 162 92': 66, '10 94 92': 67, '10 164 29': 68, '131 5 102': 69, '9 10 102': 70, '61 110 38': 71, '131 36 92': 72, '131 13 102': 73, '10 70 38': 74, '131 111 102': 75, '131 101 102': 76, '131 104 81': 77, '131 187 92': 78, '51 131 162 29': 79, '10 178 162 81': 80, '131 187 38': 81, '131 187 162 92': 82, '131 104 29': 83, '10 70 81': 84, '131 111 81': 85, '131 13 38': 86, '131 101 92': 87, '10 70 162 38': 88, '131 130 162 81': 89, '61 110 102': 90, '131 5 38': 91, '131 149 92': 92, '131 99 38': 93, '131 111 162 81': 94, '131 5 162 92': 95, '131 93 38': 96, '131 130 162 38': 97, '131 13 92': 98, '9 10 162 38': 99, '131 101 81': 100, '131 93 81': 101, '131 5 162 81': 102, '10 178 38': 103, '131 101 162 38': 104, '131 149 102': 105, '131 40 92': 106, '10 178 102': 107, '131 187 162 81': 108, '131 149 29': 109, '10 70 92': 110, '131 149 81': 111, '131 36 29': 112, '131 36 162 92': 113, '131 99 102': 114, '131 40 102': 115, '10 70 102': 116, '10 164 38': 117, '143 30 38 92': 118, '90 100 92 102': 119, '143 176 92 29': 120, '143 140 6 38 102': 121, '2 107 92 29': 122, '143 114 38 102': 123, '138 41 92 102': 124, '143 141 38 102': 125, '137 142 38 102': 126, '143 176 6 38 81': 127, '90 119 38 102': 128, '100 148 38 102': 129, '2 107 38 92': 130, '143 140 69 92 29': 131, '143 69 114 92 102': 132, '62 155 163 92 102': 133, '129 143 30 92 29': 134, '143 105 38 102': 135, '143 71 29 102': 136, '137 88 29 102': 137, '69 90 100 38 102': 138, '148 32 92 102': 139, '143 176 38 92': 140, '2 100 92 102': 141, '62 155 163 38 102': 142, '143 20 29 102': 143, '129 143 30 38 92': 144, '143 140 92 102': 145, '143 176 92 102': 146, '143 105 38 92': 147, '143 176 29 102': 148, '2 107 38 102': 149, '129 143 30 38 102': 150, '143 176 38 102': 151, '137 88 92 102': 152, '129 17 56 38 102': 153, '143 140 69 38 92': 154, '155 163 38 102': 155, '143 114 38 92': 156, '143 141 92 102': 157, '69 2 107 92 102': 158, '143 30 92 102': 159, '143 62 71 92 102': 160, '90 100 38 102': 161, '143 114 38 29': 162, '69 138 41 29 102': 163, '138 41 162 38 102': 164, '148 32 92 29': 165, '143 141 38 92': 166, '155 119 92 29': 167, '62 148 32 38 92': 168, '17 56 81 29': 169, '143 30 81 92': 170, '62 138 41 81 29': 171, '90 100 38 29': 172, '137 88 81 92': 173, '143 105 38 29': 174, '138 41 162 81 29': 175, '143 176 38 81': 176, '143 140 38 29': 177, '2 107 62 92 29': 178, '143 20 38 29': 179, '62 155 163 38 29': 180, '148 32 81 92': 181, '90 100 92 29': 182, '137 88 162 38 92': 183, '143 114 81 29': 184, '62 155 163 162 38 29': 185, '62 155 163 81 92': 186, '90 100 38 81': 187, '69 17 56 38 92': 188, '2 107 81 92': 189, '138 41 38 81': 190, '137 88 81 29': 191, '138 41 38 92': 192, '143 30 69 162 81 29': 193, '143 69 176 81 92': 194, '155 163 81 29': 195, '62 155 163 38 81': 196, '143 140 38 81': 197, '143 176 6 81 92': 198, '143 140 92 29': 199, '143 141 38 81': 200, '90 100 81 92': 201, '143 114 38 81': 202, '143 20 81 92': 203, '155 119 38 81': 204, '143 69 105 38 81': 205, '143 114 92 29': 206, '129 143 30 81 92': 207, '69 155 163 38 81': 208, '137 88 38 81': 209, '155 119 81 92': 210, '62 155 119 38 81': 211, '143 140 81 92': 212, '62 138 41 38 81': 213, '143 62 105 38 81': 214, '2 32 81 92': 215, '155 163 92 29': 216, '143 20 92 102': 217, '143 140 38 92': 218, '90 100 29 102': 219, '129 143 30 162 92 102': 220, '148 32 38 102': 221, '129 143 176 92 102': 222, '62 90 100 38 102': 223, '143 140 38 102': 224, '138 41 38 102': 225, '143 20 38 92': 226, '62 100 148 92 102': 227, '137 88 162 92 102': 228, '62 138 41 162 92 102': 229, '155 163 92 102': 230, '62 148 32 38 29': 231, '137 88 38 102': 232, '2 107 162 92 29': 233, '155 163 38 92': 234, '62 138 41 92 29': 235, '17 56 162 38 92': 236, '143 30 81 29': 237, '143 140 81 29': 238, '155 163 162 81 29': 239, '62 90 100 38 29': 240, '17 56 162 38 81': 241, '2 107 38 29': 242, '143 30 92 29': 243, '137 88 38 29': 244, '62 138 41 38 92': 245, '62 155 119 38 92': 246, '2 62 32 81 29': 247, '143 141 81 92': 248, '2 107 62 38 81': 249, '90 100 38 92': 250, '62 155 119 81 92': 251, '143 62 176 92 102': 252, '143 140 69 38 102': 253, '129 143 30 92 102': 254, '62 90 100 92 102': 255, '138 41 92 29': 256, '62 148 32 92 102': 257, '155 163 29 102': 258, '143 71 38 92': 259, '143 62 20 92 29': 260, '17 56 92 102': 261, '143 140 62 38 92': 262, '62 137 88 92 29': 263, '17 56 38 92': 264, '155 163 38 29': 265, '90 119 92 102': 266, '143 20 38 102': 267, '62 155 119 38 102': 268, '90 119 92 29': 269, '2 107 62 38 102': 270, '62 155 163 38 92': 271, '155 119 92 102': 272, '143 114 92 102': 273, '17 56 38 29': 274, '129 143 176 38 102': 275, '143 140 69 92 102': 276, '148 32 38 92': 277, '143 20 162 92 102': 278, '143 69 141 38 102': 279, '2 119 38 92': 280, '137 142 92 102': 281, '2 107 62 162 29 102': 282, '62 155 163 162 92 102': 283, '143 141 162 92 102': 284, '155 119 38 102': 285, '143 114 81 92': 286, '129 143 176 81 29': 287, '138 41 81 29': 288, '143 20 38 81': 289, '143 62 176 38 29': 290, '143 71 92 29': 291, '69 138 41 162 38 29': 292, '155 163 162 38 92': 293, '69 17 56 92 29': 294, '2 107 162 81 29': 295, '143 140 69 162 38 29': 296, '155 119 162 81 92': 297, '148 32 38 81': 298, '90 100 81 29': 299, '137 88 38 92': 300, '155 119 81 29': 301, '143 114 162 81 92': 302, '143 20 81 29': 303, '62 155 119 38 29': 304, '62 155 163 81 29': 305, '2 107 62 162 81 92': 306, '155 163 162 38 29': 307, '143 20 92 29': 308, '2 107 62 162 38 29': 309, '143 114 162 38 92': 310, '143 30 62 38 92': 311, '143 140 69 81 29': 312, '155 163 81 92': 313, '143 71 81 92': 314, '143 69 141 38 92': 315, '148 32 38 29': 316, '143 176 162 38 92': 317, '143 140 29 102': 318, '143 30 38 102': 319, '62 148 32 38 102': 320, '143 62 114 38 102': 321, '62 155 119 162 38 102': 322, '2 107 92 102': 323, '155 163 162 92 102': 324, '143 62 114 92 102': 325, '143 71 38 29': 326, '2 107 62 29 102': 327, '62 138 41 162 38 92': 328, '155 163 162 38 102': 329, '2 88 92 29': 330, '62 90 100 38 92': 331, '62 90 142 81 29': 332, '62 138 41 162 38 29': 333, '69 2 107 162 38 29': 334, '143 62 20 81 29': 335, '143 141 38 29': 336, '69 148 32 38 92': 337, '143 62 114 92 29': 338, '148 32 81 29': 339, '143 105 81 92': 340, '143 62 114 81 92': 341, '2 107 162 38 29': 342, '62 137 88 81 29': 343, '143 69 20 38 29': 344, '143 176 81 92': 345, '90 32 81 29': 346, '143 30 69 38 29': 347, '143 141 81 29': 348, '143 71 81 29': 349, '129 143 176 38 29': 350, '143 30 38 81': 351, '32 138 38 29': 352, '138 41 38 29': 353, '62 90 100 81 92': 354, '138 41 81 92': 355, '129 143 176 38 92': 356, '137 88 162 81 92': 357, '2 107 81 29': 358, '2 107 62 81 29': 359, '62 137 88 38 29': 360, '155 119 38 29': 361, '143 176 6 38 92': 362, '62 90 100 162 81 29': 363, '2 32 38 29': 364, '100 155 38 81': 365, '2 32 38 92': 366, '69 17 56 81 92': 367, '62 137 88 38 81': 368, '143 105 162 38 92': 369, '143 140 62 81 92': 370, '69 2 88 162 38 81': 371, '62 90 100 162 38 92': 372, '62 155 163 162 81 92': 373, '2 62 142 38 81': 374, '32 138 38 81': 375, '143 62 114 38 92': 376, '62 100 148 81 92': 377, '62 90 100 38 81': 378, '32 138 81 92': 379, '143 176 81 29': 380, '129 143 30 38 29': 381, '62 138 41 162 81 29': 382, '137 88 162 38 29': 383, '62 90 119 92 29': 384, '2 107 62 38 92': 385, '69 137 88 81 29': 386, '143 30 62 81 92': 387, '2 62 32 38 81': 388, '143 71 162 38 92': 389, '2 107 38 81': 390, '143 30 162 38 92': 391, '143 71 92 102': 392, '138 41 29 102': 393, '62 90 100 92 29': 394, '155 119 162 38 102': 395, '143 176 6 38 102': 396, '69 137 88 162 29 102': 397, '62 155 163 92 29': 398, '143 30 62 38 81': 399, '69 138 41 81 92': 400, '143 62 88 92 29': 401, '143 69 20 38 81': 402, '143 141 92 29': 403, '17 56 38 81': 404, '129 143 176 38 81': 405, '143 62 141 92 29': 406, '62 137 88 81 92': 407, '90 100 162 38 102': 408, '143 140 162 38 102': 409, '143 30 38 29': 410, '90 119 38 92': 411, '90 100 162 92 102': 412, '2 163 92 29': 413, '17 56 162 38 102': 414, '155 163 162 92 29': 415, '62 138 41 38 29': 416, '2 100 38 29': 417, '138 41 162 38 29': 418, '148 32 162 92 102': 419, '17 56 81 92': 420, '62 90 100 81 29': 421, '69 2 88 81 29': 422, '143 176 38 29': 423, '143 114 29 102': 424, '143 71 38 102': 425, '62 90 100 162 29 102': 426, '69 148 32 92 29': 427, '137 88 162 38 102': 428, '143 140 6 38 92': 429, '143 30 69 92 29': 430, '69 137 88 162 38 81': 431, '129 143 30 38 81': 432, '137 142 92 29': 433, '155 163 38 81': 434, '62 155 119 92 29': 435, '62 148 32 81 92': 436, '62 17 56 38 29': 437, '143 69 105 92 29': 438, '143 105 81 29': 439, '143 140 69 81 92': 440, '155 119 162 38 92': 441, '69 148 32 81 29': 442, '129 143 176 92 29': 443, '143 71 162 92 29': 444, '2 100 38 92': 445, '2 62 56 162 38 81': 446, '129 143 30 162 38 81': 447, '100 148 38 81': 448, '143 69 114 38 92': 449, '143 140 6 81 92': 450, '62 90 119 81 29': 451, '129 143 30 81 29': 452, '62 90 119 38 81': 453, '137 88 92 29': 454, '69 32 138 38 81': 455, '90 100 162 38 92': 456, '17 56 92 29': 457, '143 105 162 92 29': 458, '143 69 141 38 81': 459, '137 142 162 38 92': 460, '129 143 176 29 102': 461, '62 90 100 162 38 102': 462, '155 119 38 92': 463, '143 69 20 92 102': 464, '143 30 62 38 102': 465, '143 30 69 92 102': 466, '143 62 176 38 102': 467, '138 41 162 38 92': 468, '138 41 162 92 102': 469, '129 2 56 162 38 92': 470, '69 137 88 38 92': 471, '148 32 162 81 92': 472, '155 163 162 81 92': 473, '2 107 162 38 102': 474, '41 17 162 38 92': 475, '143 141 29 102': 476, '143 69 71 92 102': 477, '137 142 162 92 102': 478, '148 32 29 102': 479, '155 119 162 92 102': 480, '90 100 162 92 29': 481, '143 62 141 81 92': 482, '143 69 114 38 29': 483, '62 137 88 38 92': 484, '38 29': 485, '143 30 69 38 92': 486, '143 20 162 81 29': 487, '155 163 162 38 81': 488, '69 155 119 81 29': 489, '90 88 162 81 92': 490, '17 56 162 81 92': 491, '90 100 162 81 29': 492, '90 100 162 38 29': 493, '2 107 162 81 92': 494, '32 138 81 29': 495, '143 62 20 92 102': 496, '2 107 62 92 102': 497, '62 155 119 29 102': 498, '129 143 176 162 92 102': 499, '143 105 92 29': 500, '129 143 30 162 38 102': 501, '69 2 88 38 102': 502, '2 32 92 29': 503, '62 90 119 92 102': 504, '62 148 32 92 29': 505, '17 56 29 102': 506, '2 62 32 92 102': 507, '69 155 119 38 92': 508, '2 119 92 102': 509, '143 69 141 162 38 102': 510, '62 155 163 29 102': 511, '90 88 38 92': 512, '90 88 81 29': 513, '143 141 162 38 29': 514, '155 119 162 38 29': 515, '143 62 20 81 92': 516, '2 20 38 92': 517, '138 41 162 38 81': 518, '62 137 88 38 102': 519, '2 107 29 102': 520, '62 138 41 38 102': 521, '143 105 92 102': 522, '62 17 56 162 92 102': 523, '143 88 162 38 29': 524, '62 148 32 38 81': 525, '143 62 176 38 92': 526, '2 107 62 38 29': 527, '74 92 102': 528, '136 92 102': 529, '82 92 102': 530, '106 38 29': 531, '136 38 29': 532, '82 38 29': 533, '106 38 102': 534, '136 38 102': 535, '157 38 102': 536, '82 92 29': 537, '136 92 29': 538, '74 38 29': 539, '74 38 102': 540, '82 38 102': 541, '74 92 29': 542, '157 92 29': 543, '157 38 29': 544, '106 92 29': 545, '106 162 38 102': 546, '82 162 92 29': 547, '136 162 38 102': 548, '136 162 92 29': 549, '74 29 102': 550, '136 29 102': 551, '82 29 102': 552, '106 38 81 29': 553, '136 38 81 29': 554, '82 38 81 29': 555, '136 81 92 29': 556, '157 81 92 29': 557, '106 38 81 92': 558, '74 38 81 92': 559, '82 38 81 92': 560, '136 38 81 92': 561, '74 81 92 29': 562, '82 81 92 29': 563, '136 162 38 81 29': 564, '157 38 81 92': 565, '113 38 102': 566, '113 92 29': 567, '113 92 102': 568, '74 81 92': 569, '74 162 81 92': 570, '157 81 92': 571, '74 162 92 29': 572, '74 38 81': 573, '82 38 81': 574, '82 81 92': 575, '157 38 81': 576, '74 38 92': 577, '157 38 92': 578, '106 38 81': 579, '136 162 38 81': 580, '74 162 38 81': 581, '106 92 29 102': 582, '161 92 29 102': 583, '136 92 29 102': 584, '74 38 29 102': 585, '136 38 29 102': 586, '74 38 92 102': 587, '161 38 92 102': 588, '136 38 92 102': 589, '106 38 92 102': 590, '82 38 92 102': 591, '74 92 29 102': 592, '113 38 81': 593, '136 38 81': 594, '82 162 38 81': 595, '113 81 92': 596, '136 81 92': 597, '82 162 81 92': 598, '157 162 38 81': 599, '161 81 92': 600, '161 38 81': 601, '161 162 38 29': 602, '106 81 92': 603, '161 162 38 81': 604, '74 162 38 29': 605, '161 38 29': 606, '136 38 92': 607, '106 29 102': 608, '157 29 102': 609, '106 92 102': 610, '157 92 102': 611, '106 162 92 29': 612, '82 162 38 102': 613, '74 162 92 102': 614, '113 162 92 102': 615, '113 162 92 29': 616, '113 38 29': 617, '136 102 186': 618, '113 102 186': 619, '82 102 186': 620, '157 162 92 29 102': 621, '157 38 92 102': 622, '74 162 92 29 102': 623, '157 92 29 102': 624, '74 38 92 29': 625, '136 38 92 29': 626, '161 38 92 29': 627, '161 38 29 102': 628, '82 92 29 102': 629, '82 38 29 102': 630, '82 38 92 29': 631, '106 162 81 92': 632, '82 162 92 102': 633, '136 162 38 29': 634, '113 162 38 81': 635, '161 162 81 92': 636, '157 38 81 29': 637, '161 92 29': 638, '74 162 38 102': 639, '157 162 81 92': 640, '136 162 81 92': 641, '136 162 81 29': 642, '106 81 29': 643, '82 81 29': 644, '74 81 29': 645, '157 81 29': 646, '106 38 29 102': 647, '161 92 102': 648, '161 38 102': 649, '106 162 38 29': 650, '161 38 81 92': 651, '74 38 81 29': 652, '161 38 81 29': 653, '157 162 38 102': 654, '106 162 38 81': 655, '106 12 102': 656, '161 12 102': 657, '82 12 102': 658, '106 103 102': 659, '82 103 102': 660, '161 103 102': 661, '136 67 92': 662, '161 67 92': 663, '82 67 92': 664, '106 12 38': 665, '161 12 38': 666, '82 12 38': 667, '106 67 92': 668, '157 67 92': 669, '157 103 102': 670, '106 171 162 38': 671, '161 171 162 38': 672, '136 171 162 38': 673, '136 103 102': 674, '74 12 38': 675, '157 12 38': 676, '136 144 162 38': 677, '161 144 162 38': 678, '74 12 162 102': 679, '161 12 162 102': 680, '136 12 162 102': 681, '74 171 162 92': 682, '161 171 162 92': 683, '157 171 162 92': 684, '106 67 162 92': 685, '161 67 162 92': 686, '157 67 162 92': 687, '106 12 81': 688, '82 12 81': 689, '74 171 38': 690, '136 171 38': 691, '106 67 29': 692, '136 67 29': 693, '82 67 29': 694, '136 12 81': 695, '74 144 162 92': 696, '136 144 162 92': 697, '157 144 162 92': 698, '136 12 162 29': 699, '82 12 162 29': 700, '136 169 162 81': 701, '82 169 162 81': 702, '74 67 92': 703, '74 103 38': 704, '106 103 38': 705, '136 103 38': 706, '74 144 92': 707, '82 144 92': 708, '157 144 92': 709, '106 144 162 92': 710, '82 144 162 92': 711, '106 103 29': 712, '136 103 29': 713, '157 103 29': 714, '106 126 29': 715, '74 126 29': 716, '157 126 29': 717, '74 12 81': 718, '106 171 162 29': 719, '136 171 162 29': 720, '74 158 38': 721, '136 158 38': 722, '82 158 38': 723, '106 103 162 81': 724, '136 103 162 81': 725, '82 103 162 81': 726, '106 144 38': 727, '82 144 38': 728, '106 144 162 38': 729, '82 144 162 38': 730, '74 67 102': 731, '136 67 102': 732, '106 83 162 102': 733, '82 83 162 102': 734, '136 83 162 102': 735, '74 144 162 38': 736, '106 158 102': 737, '136 158 102': 738, '82 158 102': 739, '106 144 92': 740, '136 144 92': 741, '136 144 38': 742, '136 12 38': 743, '74 103 92': 744, '136 103 92': 745, '74 169 92': 746, '136 169 92': 747, '82 169 92': 748, '106 67 81': 749, '82 67 81': 750, '157 67 81': 751, '106 150 81': 752, '82 150 81': 753, '136 150 81': 754, '74 67 81': 755, '136 67 81': 756, '74 126 81': 757, '136 126 81': 758, '157 126 81': 759, '106 169 81': 760, '136 169 81': 761, '82 169 81': 762, '106 103 81': 763, '136 103 81': 764, '82 103 81': 765, '106 126 81': 766, '82 126 81': 767, '74 83 81': 768, '82 83 81': 769, '106 183 81': 770, '136 183 81': 771, '157 183 81': 772, '106 144 81': 773, '136 144 81': 774, '82 144 81': 775, '113 67 81': 776, '113 126 81': 777, '113 169 81': 778, '74 144 81': 779, '113 144 81': 780, '157 150 81': 781, '74 171 81': 782, '136 171 81': 783, '157 171 81': 784, '74 12 92': 785, '136 12 92': 786, '74 144 38': 787, '82 12 92': 788, '74 12 29': 789, '136 12 29': 790, '82 12 29': 791, '74 103 162 102': 792, '136 103 162 102': 793, '82 103 162 102': 794, '106 67 38': 795, '136 67 38': 796, '82 67 38': 797, '74 103 102': 798, '106 67 102': 799, '82 67 102': 800, '74 103 162 92': 801, '136 103 162 92': 802, '157 103 162 92': 803, '74 120 162 38': 804, '136 120 162 38': 805, '157 120 162 38': 806, '106 12 29': 807, '106 144 162 102': 808, '136 144 162 102': 809, '136 12 102': 810, '74 67 162 102': 811, '136 67 162 102': 812, '82 67 162 102': 813, '106 103 92': 814, '157 103 92': 815, '157 144 81': 816, '157 144 38': 817, '136 158 162 29': 818, '82 158 162 29': 819, '106 169 162 81': 820, '157 169 162 81': 821, '157 103 38': 822, '106 171 162 92': 823, '136 171 162 92': 824, '82 171 162 92': 825, '106 103 162 92': 826, '82 103 162 92': 827, '74 144 102': 828, '136 144 102': 829, '157 144 102': 830, '74 67 38': 831, '74 12 102': 832, '106 120 162 92': 833, '136 120 162 92': 834, '82 120 162 92': 835, '106 171 92': 836, '74 171 92': 837, '136 171 92': 838, '74 144 29': 839, '136 144 29': 840, '82 144 29': 841, '74 171 162 38': 842, '157 171 162 38': 843, '74 169 102': 844, '136 169 102': 845, '157 169 102': 846, '74 171 162 102': 847, '136 171 162 102': 848, '106 103 162 102': 849, '157 103 162 102': 850, '106 169 162 38': 851, '136 169 162 38': 852, '106 67 162 29': 853, '136 67 162 29': 854, '157 67 162 29': 855, '106 12 162 81': 856, '74 12 162 81': 857, '157 12 162 81': 858, '74 12 162 29': 859, '136 126 38': 860, '106 126 38': 861, '157 126 38': 862, '106 171 81': 863, '82 171 81': 864, '106 150 102': 865, '136 150 102': 866, '157 150 102': 867, '157 12 102': 868, '161 67 38': 869, '106 169 102': 870, '157 67 102': 871, '157 171 92': 872, '161 171 92': 873, '113 12 38': 874, '113 67 29': 875, '157 67 29': 876, '136 12 162 81': 877, '113 12 162 81': 878, '113 67 38': 879, '113 12 29': 880, '113 103 162 92': 881, '106 103 162 29': 882, '113 103 162 29': 883, '157 103 162 29': 884, '113 144 162 92': 885, '113 144 38': 886, '113 103 81': 887, '157 103 81': 888, '113 12 102': 889, '106 144 102': 890, '113 144 102': 891, '82 144 102': 892, '113 67 92': 893, '106 12 162 38': 894, '74 12 162 38': 895, '113 12 162 38': 896, '106 150 162 38': 897, '113 150 162 38': 898, '82 150 162 38': 899, '74 183 92': 900, '113 183 92': 901, '157 183 92': 902, '113 12 92': 903, '106 83 29': 904, '136 83 29': 905, '82 83 29': 906, '106 144 29': 907, '74 67 29': 908, '106 169 29': 909, '136 169 29': 910, '82 169 29': 911, '136 126 29': 912, '106 150 38': 913, '82 150 38': 914, '157 150 38': 915, '161 12 92': 916, '157 12 92': 917, '161 103 38': 918, '82 103 38': 919, '161 103 162 81': 920, '161 144 162 92': 921, '74 12 162 92': 922, '161 12 162 92': 923, '136 12 162 92': 924, '161 103 162 29': 925, '136 103 162 29': 926, '161 67 81': 927, '161 12 81': 928, '161 103 92': 929, '82 103 92': 930, '161 144 38': 931, '136 150 162 81': 932, '161 150 162 81': 933, '161 83 29': 934, '157 83 29': 935, '106 183 162 92': 936, '136 183 162 92': 937, '161 183 162 92': 938, '161 144 29': 939, '113 169 162 38': 940, '157 169 162 38': 941, '106 12 92': 942, '106 169 162 29': 943, '82 169 162 29': 944, '113 169 162 29': 945, '74 126 92': 946, '136 126 92': 947, '113 126 92': 948, '157 67 38': 949, '74 83 162 29': 950, '82 83 162 29': 951, '136 83 162 29': 952, '157 158 162 29': 953, '106 150 162 92': 954, '74 150 162 92': 955, '82 150 162 92': 956, '113 12 81': 957, '113 126 29': 958, '113 83 92': 959, '136 83 92': 960, '82 12 162 38': 961, '136 67 162 92': 962, '113 67 162 92': 963, '82 67 162 92': 964, '113 169 29': 965, '106 67 162 38': 966, '82 67 162 38': 967, '157 67 162 38': 968, '74 120 162 81': 969, '82 120 162 81': 970, '157 120 162 81': 971, '106 183 162 29': 972, '136 183 162 29': 973, '157 183 162 29': 974, '106 144 162 81': 975, '136 144 162 81': 976, '82 144 162 81': 977, '113 169 92': 978, '106 158 162 29': 979, '82 12 162 92': 980, '74 103 29': 981, '106 183 162 81': 982, '136 183 162 81': 983, '74 67 162 38': 984, '106 171 162 102': 985, '136 144 162 29': 986, '82 144 162 29': 987, '106 126 162 92': 988, '136 126 162 92': 989, '82 126 162 92': 990, '82 144 162 102': 991, '74 103 162 29': 992, '82 103 162 29': 993, '157 12 81': 994, '74 126 162 38': 995, '136 126 162 38': 996, '82 126 162 38': 997, '74 103 162 38': 998, '136 103 162 38': 999, '82 103 162 38': 1000, '106 169 162 92': 1001, '136 169 162 92': 1002, '82 169 162 92': 1003, '106 67 162 81': 1004, '136 67 162 81': 1005, '161 67 162 81': 1006, '161 144 92': 1007, '161 67 29': 1008, '106 158 38': 1009, '161 158 38': 1010, '161 67 162 38': 1011, '8': 1012, '4': 1013, '166': 1014, '85': 1015, '156': 1016, '53': 1017, '73': 1018, '66': 1019, '108': 1020, '173': 1021, '72': 1022, '95': 1023, '7': 1024, '15': 1025, '132': 1026, '180': 1027, '75': 1028, '49': 1029, '55': 1030, '109': 1031, '60': 1032, '125': 1033, '133': 1034, '152': 1035, '181': 1036, '57': 1037, '91': 1038, '96': 1039, '116': 1040, '79': 1041, '89': 1042, '47': 1043, '65': 1044, '80': 1045, '43': 1046, '52': 1047, '1': 1048, '28': 1049, '177': 1050, '112': 1051, '134': 1052, '123': 1053, '168': 1054, '24': 1055, '147': 1056, '174': 1057, '14': 1058, '64': 1059, '48': 1060, '128': 1061, '44': 1062, '170': 1063, '179': 1064, '175': 1065, '45': 1066, '78': 1067, '23': 1068, '159': 1069, '31': 1070, '25': 1071, '151': 1072, '34': 1073, '33': 1074, '127': 1075, '172': 1076, '124': 1077, '115': 1078, '26': 1079, '54': 1080, '182': 1081, '167': 1082, '58': 1083, '27': 1084, '159 162': 1085, '53 162': 1086, '109 162': 1087, '27 162': 1088, '96 162': 1089, '91 162': 1090, '147 162': 1091, '179 162': 1092, '60 162': 1093, '8 162': 1094, '89 162': 1095, '73 162': 1096, '44 162': 1097, '1 162': 1098, '173 162': 1099, '172 162': 1100, '128 162': 1101, '55 162': 1102, '127 162': 1103, '54 162': 1104, '180 162': 1105, '79 162': 1106, '7 162': 1107, '116 162': 1108, '64 162': 1109, '65 162': 1110, '52 162': 1111, '33 162': 1112, '26 162': 1113, '23 162': 1114, '170 162': 1115, '123 162': 1116, '132 162': 1117, '80 162': 1118, '48 162': 1119, '118 42 21': 1120, '42 18 21': 1121, '42 19 21': 1122, '97 184 21': 1123, '118 184 21': 1124, '184 19 21': 1125, '97 42 21': 1126, '97 16 21': 1127, '18 16 21': 1128, '16 19 21': 1129, '84 97 50 154 122 162': 1130, '84 39 50 154 122 162': 1131, '145 184 21': 1132, '98 145 21': 1133, '98 118 21': 1134, '98 18 21': 1135, '98 19 21': 1136, '76 16 21': 1137, '118 16 21': 1138, '18 16 35 117 122': 1139, '97 16 35 117 122': 1140, '118 16 35 117 122': 1141, '39 16 35 117 122': 1142, '98 39 35 146 122': 1143, '98 145 35 146 122': 1144, '98 97 35 146 122': 1145, '98 118 35 146 122': 1146, '39 42 160 35 122': 1147, '145 42 160 35 122': 1148, '118 42 160 35 122': 1149, '97 42 160 35 122': 1150, '98 39 160 35 122': 1151, '98 118 160 35 122': 1152, '98 97 160 35 122': 1153, '39 77 42 35 122': 1154, '97 77 42 35 122': 1155, '118 77 42 35 122': 1156, '145 77 42 35 122': 1157, '84 118 42 135': 1158, '84 97 42 135': 1159, '84 39 42 135': 1160, '84 76 42 135': 1161, '98 118 160 135': 1162, '98 39 160 135': 1163, '98 97 160 135': 1164, '118 16 185 135': 1165, '76 184 21': 1166, '98 39 21': 1167, '76 42 21': 1168, '145 42 21': 1169, '76 37 21': 1170, '97 37 21': 1171, '37 153 21': 1172, '37 153 21 162': 1173, '97 37 21 162': 1174, '118 37 21': 1175, '118 37 21 162': 1176, '97 42 160 35 122 162': 1177, '39 42 160 35 122 162': 1178, '98 76 21': 1179, '98 97 21': 1180, '118 184 21 162': 1181, '97 184 21 162': 1182, '97 50 21': 1183, '50 118 21': 1184, '145 16 21': 1185, '84 145 42 135': 1186, '84 97 16 135': 1187, '84 145 16 135': 1188, '84 76 50 135': 1189, '84 97 50 135': 1190, '84 145 50 135': 1191, '84 97 184 135': 1192, '84 39 184 135': 1193, '84 118 184 135': 1194, '84 145 184 135': 1195, '145 37 21': 1196, '18 37 21': 1197, '98 84 97 35 122 162': 1198, '98 84 118 35 122 162': 1199, '98 84 18 35 122 162': 1200, '98 145 160 154 122 162': 1201, '98 97 160 154 122 162': 1202, '98 118 160 154 122 162': 1203, '98 118 160 22 122 162': 1204, '98 97 160 22 122 162': 1205, '97 184 160 35 122': 1206, '39 184 160 35 122': 1207, '76 184 160 35 122': 1208, '145 16 35 117 122': 1209, '98 145 160 35 122 162': 1210, '98 97 160 35 122 162': 1211, '98 18 160 35 122 162': 1212, '98 84 76 135 162': 1213, '98 84 97 135 162': 1214, '98 84 145 135 162': 1215, '98 84 39 135 162': 1216, '84 97 50 135 162': 1217, '84 50 118 135 162': 1218, '50 18 21': 1219, '50 19 21': 1220, '18 184 21': 1221, '84 145 35 0 122': 1222, '84 97 35 0 122': 1223, '84 39 35 0 122': 1224, '84 118 35 0 122': 1225, '39 42 21': 1226, '39 184 21': 1227, '39 16 21': 1228, '98 118 21 162': 1229, '76 42 21 162': 1230, '97 42 21 162': 1231, '145 42 21 162': 1232, '39 160 16 35 122 162': 1233, '145 160 16 35 122 162': 1234, '97 160 16 35 122 162': 1235, '76 42 160 35 122 162': 1236, '145 42 160 35 122 162': 1237, '118 42 160 35 122 162': 1238, '98 76 185 35 122 162': 1239, '98 39 185 35 122 162': 1240, '98 97 185 35 122 162': 1241, '98 118 185 35 122 162': 1242, '98 118 77 135 162': 1243, '98 97 77 135 162': 1244, '84 42 18 135': 1245, '84 76 184 135': 1246, '98 84 118 135 162': 1247, '98 84 18 135 162': 1248, '98 84 39 35 122': 1249, '98 84 118 35 122': 1250, '98 84 76 35 122': 1251, '98 84 97 35 122': 1252, '98 84 18 35 122': 1253, '42 18 35 117 122': 1254, '97 42 35 117 122': 1255, '145 42 35 117 122': 1256, '39 42 35 117 122': 1257, '98 84 145 35 122': 1258, '39 160 16 35 122': 1259, '18 160 16 35 122': 1260, '97 160 16 35 122': 1261, '145 160 16 35 122': 1262, '39 0 146 11 122': 1263, '97 0 146 11 122': 1264, '145 0 146 11 122': 1265, '18 0 146 11 122': 1266, '98 145 160 135': 1267, '98 84 118 135': 1268, '98 84 97 135': 1269, '98 84 145 135': 1270, '98 84 18 135': 1271, '84 118 16 135': 1272, '84 18 16 135': 1273, '76 42 46 135': 1274, '97 42 46 135': 1275, '39 42 46 135': 1276, '145 42 46 135': 1277, '118 42 46 135': 1278, '98 84 76 87 122 162': 1279, '98 84 118 87 122 162': 1280, '98 84 18 87 122 162': 1281, '98 84 97 87 122 162': 1282, '76 160 16 35 122 162': 1283, '118 0 21': 1284, '19 0 21': 1285, '42 18 160 35 122': 1286, '76 16 146 121 122': 1287, '145 16 146 121 122': 1288, '97 16 146 121 122': 1289, '118 16 146 121 122': 1290, '145 160 35 0 122': 1291, '18 160 35 0 122': 1292, '97 160 35 0 122': 1293, '118 160 35 0 122': 1294, '76 16 21 162': 1295, '18 16 21 162': 1296, '97 139 21': 1297, '118 139 21': 1298, '118 42 21 162': 1299, '98': 1300, '98 118 35 117 122 162': 1301, '98 97 35 117 122 162': 1302, '118 160 16 35 122 162': 1303, '18 160 16 35 122 162': 1304, '118 16 21 162': 1305, '42 18 21 162': 1306, '98 84 76 87 122': 1307, '98 84 97 87 122': 1308, '98 84 39 87 122': 1309, '84 145 42 35 122': 1310, '84 42 18 35 122': 1311, '84 97 42 35 122': 1312, '84 39 42 35 122': 1313, '118 160 16 35 122': 1314, '76 160 16 35 122': 1315, '118 185 87 139 122': 1316, '97 185 87 139 122': 1317, '118 16 35 146 122': 1318, '97 16 35 146 122': 1319, '39 16 35 146 122': 1320, '98 18 160 35 122': 1321, '76 42 160 35 122': 1322, '97 0 146 63 122': 1323, '118 0 146 63 122': 1324, '39 160 35 0 122': 1325, '76 184 21 162': 1326, '184 19 21 162': 1327, '97 0 21': 1328, '18 0 21': 1329, '97 42 35 146 122': 1330, '145 42 35 146 122': 1331, '76 42 35 146 122': 1332, '97 160 16 22 122': 1333, '39 160 16 22 122': 1334, '84 76 16 22 122': 1335, '84 97 16 22 122': 1336, '84 39 16 22 122': 1337, '84 118 16 22 122': 1338, '145 160 16 22 122': 1339, '118 160 16 22 122': 1340, '131 93 29': 1341, '131 68 92': 1342, '131 104 162 81': 1343, '131 130 38': 1344, '131 13 162 38': 1345, '131 99 29': 1346, '131 101 29': 1347, '10 178 92': 1348, '51 131 29': 1349, '51 131 162 92': 1350, '131 40 38': 1351, '10 178 29': 1352, '10 164 162 92': 1353, '131 111 38': 1354, '10 164 162 29': 1355, '131 40 162 38': 1356, '131 187 29': 1357, '131 111 162 29': 1358, '131 93 92': 1359, '10 70 29': 1360, '131 130 162 92': 1361, '131 36 162 38': 1362, '10 178 162 92': 1363, '98 18 46 135': 1364, '98 97 46 135': 1365, '98 118 46 135': 1366, '98 39 46 135': 1367, '84 18 184 135': 1368, '118 77 42 135 162': 1369, '145 77 42 135 162': 1370, '97 77 42 135 162': 1371, '98 84 39 135': 1372, '76 160 16 135': 1373, '118 160 16 135': 1374, '39 160 16 135': 1375, '97 160 16 135': 1376, '18 160 16 135': 1377, '76 42 160 135': 1378, '39 42 160 135': 1379, '97 42 160 135': 1380, '84 76 16 135': 1381, '76 42 117 135': 1382, '118 42 117 135': 1383, '97 42 117 135': 1384, '84 39 50 135 162': 1385, '84 50 18 135 162': 1386, '84 76 42 135 162': 1387, '84 145 42 135 162': 1388, '84 118 42 135 162': 1389, '84 39 42 135 162': 1390, '84 97 42 135 162': 1391, '98 76 160 135 162': 1392, '98 118 160 135 162': 1393, '98 97 160 135 162': 1394, '84 50 118 135': 1395, '84 39 50 135': 1396, '84 50 18 135': 1397, '84 118 16 135 162': 1398, '84 76 16 135 162': 1399, '84 97 16 135 162': 1400, '84 145 16 135 162': 1401, '76 42 160 135 162': 1402, '118 42 160 135 162': 1403, '97 42 160 135 162': 1404, '98 84 76 135': 1405, '84 42 18 135 162': 1406, '145 42 160 135 162': 1407, '39 42 160 135 162': 1408, '': 1409, '82 126 29': 1410, '106 169 92': 1411, '131 99 81': 1412, '51 131 38': 1413, '131 111 29': 1414, '131 68 29': 1415, '10 94 81': 1416, '131 13 29': 1417, '131 130 81': 1418, '131 40 29': 1419, '10 111 92': 1420, '131 130 29': 1421, '61 110 29': 1422, '131 68 81': 1423, '131 68 38': 1424, '10 94 29': 1425, '10 178 81': 1426, '131 130 102': 1427, '62 137 142 92 29': 1428, '69 137 142 38 29': 1429, '62 137 142 38 29': 1430, '62 137 142 81 92': 1431, '74 120 81': 1432, '136 120 81': 1433, '157 120 81': 1434, '106 120 38': 1435, '136 120 38': 1436, '157 120 38': 1437, '106 120 92': 1438, '136 120 92': 1439, '82 120 92': 1440, '106 81 3': 1441, '136 81 3': 1442, '82 81 3': 1443, '106 38 3': 1444, '136 38 3': 1445, '82 38 3': 1446, '74 92 3': 1447, '136 92 3': 1448, '157 92 3': 1449, '74 38 3': 1450, '106 92 3': 1451, '82 92 3': 1452, '74 81 3': 1453, '113 92 3': 1454, '113 38 3': 1455, '98 118 117 135': 1456, '98 117 135 165': 1457, '98 18 117 135': 1458, '37': 1459, '118 42 160 154 122': 1460, '145 42 160 154 122': 1461, '42 160 154 122 165': 1462, '39 42 160 11 122': 1463, '42 160 11 122 165': 1464, '118 42 160 11 122': 1465, '145 42 160 11 122': 1466, '82 171 92': 1467, '106 92 59': 1468, '161 92 59': 1469, '157 92 59': 1470, '106 38 59': 1471, '136 38 59': 1472, '113 38 59': 1473, '86': 1474, '76 0 21': 1475, '145 0 21': 1476, '76 50 21': 1477, '145 50 21': 1478, '42 18 160 11 122': 1479, '76 160 35 0 122': 1480, '160 35 0 122 165': 1481, '98 76 117 87 122': 1482, '98 117 87 122 165': 1483, '98 97 117 87 122': 1484, '98 39 117 87 122': 1485, '136 81 59': 1486, '113 81 59': 1487, '157 81 59': 1488, '113 158 38': 1489, '98 84 135 165': 1490, '118 117 0 135': 1491, '145 117 0 135': 1492, '117 0 135 165': 1493, '143 105 38 81': 1494, '143 71 38 81': 1495, '90 142 92 29': 1496, '69 137 88 92 29': 1497, '143 69 114 38 81': 1498, '69 2 107 38 29': 1499, '69 148 32 81 92': 1500, '90 119 81 92': 1501, '136 29': 1502, '113 29': 1503, '82 29': 1504, '136 171 29': 1505, '82 103 29': 1506, '74 171 29': 1507, '161 12 29': 1508, '161 103 29': 1509, '136 29 59': 1510, '161 29 59': 1511, '106 29 59': 1512, '82 38 59': 1513, '82 29 59': 1514, '106 38 92 29': 1515, '157 38 92 29': 1516, '74 81 59': 1517, '82 81 59': 1518, '161 169 92': 1519, '161 103 81': 1520, '161 81 59': 1521, '113 144 92': 1522, '74 92 59': 1523, '113 92 59': 1524, '82 92 59': 1525, '106 158 81': 1526, '136 158 81': 1527, '113 158 81': 1528, '136 92 59': 1529, '106 81 59': 1530, '157 169 92': 1531, '70': 1532, '114': 1533, '93': 1534, '101': 1535, '74': 1536, '142': 1537, '140': 1538, '104': 1539, '155': 1540, '178': 1541, '171': 1542, '62': 1543, '141': 1544, '161': 1545, '94': 1546, '119': 1547, '157': 1548, '6': 1549, '67': 1550, '50': 1551, '136': 1552, '20': 1553, '129': 1554, '130': 1555, '13': 1556, '42': 1557, '36': 1558, '9': 1559, '187': 1560, '164': 1561, '163': 1562, '139': 1563, '158': 1564, '69': 1565, '76': 1566, '18': 1567, '0': 1568, '19': 1569, '149': 1570, '99': 1571, '39': 1572, '61': 1573, '113': 1574, '145': 1575, '12': 1576, '106': 1577, '126': 1578, '105': 1579, '5': 1580, '71': 1581, '82': 1582, '143': 1583, '90': 1584, '16': 1585, '40': 1586, '111': 1587, '51': 1588, '97': 1589, '138': 1590, '150': 1591, '120': 1592, '68': 1593, '184': 1594, '30': 1595, '153': 1596, '17': 1597, '83': 1598, '183': 1599, '148': 1600, '144': 1601, '103': 1602, '118': 1603, '176': 1604, '137': 1605, '169': 1606, '2': 1607}, 'qu_content2id': {0: 1608, 1: 1609, 2: 1610, 3: 1611, 4: 1612, 5: 1613, 6: 1614, 7: 1615, 8: 1616, 9: 1617, 10: 1618, 11: 1619, 12: 1620, 13: 1621, 14: 1622, 15: 1623, 16: 1624, 17: 1625, 18: 1626, 19: 1627, 20: 1628, 21: 1629, 22: 1630, 23: 1631, 24: 1632, 25: 1633, 26: 1634, 27: 1635, 28: 1636, 29: 1637, 30: 1638, 31: 1639, 32: 1640, 33: 1641, 34: 1642, 35: 1643, 36: 1644, 37: 1645, 38: 1646, 39: 1647, 40: 1648, 41: 1649, 42: 1650, 43: 1651, 44: 1652, 45: 1653, 46: 1654, 47: 1655, 48: 1656, 49: 1657, 50: 1658, 51: 1659, 52: 1660, 53: 1661, 54: 1662, 55: 1663, 56: 1664, 57: 1665, 58: 1666, 59: 1667, 60: 1668, 61: 1669, 62: 1670, 63: 1671, 64: 1672, 65: 1673, 66: 1674, 67: 1675, 68: 1676, 69: 1677, 70: 1678, 71: 1679, 72: 1680, 73: 1681, 74: 1682, 75: 1683, 76: 1684, 77: 1685, 78: 1686, 79: 1687, 80: 1688, 81: 1689, 82: 1690, 83: 1691, 84: 1692, 85: 1693, 86: 1694, 87: 1695, 88: 1696, 89: 1697, 90: 1698, 91: 1699, 92: 1700, 93: 1701, 94: 1702, 95: 1703, 96: 1704, 97: 1705, 98: 1706, 99: 1707, 100: 1708, 101: 1709, 102: 1710, 103: 1711, 104: 1712, 105: 1713, 106: 1714, 107: 1715, 108: 1716, 109: 1717, 110: 1718, 111: 1719, 112: 1720, 113: 1721, 114: 1722, 115: 1723, 116: 1724, 117: 1725, 118: 1726, 119: 1727, 120: 1728, 121: 1729, 122: 1730, 123: 1731, 124: 1732, 125: 1733, 126: 1734, 127: 1735, 128: 1736, 129: 1737, 130: 1738, 131: 1739, 132: 1740, 133: 1741, 134: 1742, 135: 1743, 136: 1744, 137: 1745, 138: 1746, 139: 1747, 140: 1748, 141: 1749, 142: 1750, 143: 1751, 144: 1752, 145: 1753, 146: 1754, 147: 1755, 148: 1756, 149: 1757, 150: 1758, 151: 1759, 152: 1760, 153: 1761, 154: 1762, 155: 1763, 156: 1764, 157: 1765, 158: 1766, 159: 1767, 160: 1768, 161: 1769, 162: 1770, 163: 1771, 164: 1772, 165: 1773, 166: 1774, 167: 1775, 168: 1776, 169: 1777, 170: 1778, 171: 1779, 172: 1780, 173: 1781, 174: 1782, 175: 1783, 176: 1784, 177: 1785, 178: 1786, 179: 1787, 180: 1788, 181: 1789, 182: 1790, 183: 1791, 184: 1792, 185: 1793, 186: 1794, 187: 1795, 188: 1796, 189: 1797, 190: 1798, 191: 1799, 192: 1800, 193: 1801, 194: 1802, 195: 1803, 196: 1804, 197: 1805, 198: 1806, 199: 1807, 200: 1808, 201: 1809, 202: 1810, 203: 1811, 204: 1812, 205: 1813, 206: 1814, 207: 1815, 208: 1816, 209: 1817, 210: 1818, 211: 1819, 212: 1820, 213: 1821, 214: 1822, 215: 1823, 216: 1824, 217: 1825, 218: 1826, 219: 1827, 220: 1828, 221: 1829, 222: 1830, 223: 1831, 224: 1832, 225: 1833, 226: 1834, 227: 1835, 228: 1836, 229: 1837, 230: 1838, 231: 1839, 232: 1840, 233: 1841, 234: 1842, 235: 1843, 236: 1844, 237: 1845, 238: 1846, 239: 1847, 240: 1848, 241: 1849, 242: 1850, 243: 1851, 244: 1852, 245: 1853, 246: 1854, 247: 1855, 248: 1856, 249: 1857, 250: 1858, 251: 1859, 252: 1860, 253: 1861, 254: 1862, 255: 1863, 256: 1864, 257: 1865, 258: 1866, 259: 1867, 260: 1868, 261: 1869, 262: 1870, 263: 1871, 264: 1872, 265: 1873, 266: 1874, 267: 1875, 268: 1876, 269: 1877, 270: 1878, 271: 1879, 272: 1880, 273: 1881, 274: 1882, 275: 1883, 276: 1884, 277: 1885, 278: 1886, 279: 1887, 280: 1888, 281: 1889, 282: 1890, 283: 1891, 284: 1892, 285: 1893, 286: 1894, 287: 1895, 288: 1896, 289: 1897, 290: 1898, 291: 1899, 292: 1900, 293: 1901, 294: 1902, 295: 1903, 296: 1904, 297: 1905, 298: 1906, 299: 1907, 300: 1908, 301: 1909, 302: 1910, 303: 1911, 304: 1912, 305: 1913, 306: 1914, 307: 1915, 308: 1916, 309: 1917, 310: 1918, 311: 1919, 312: 1920, 313: 1921, 314: 1922, 315: 1923, 316: 1924, 317: 1925, 318: 1926, 319: 1927, 320: 1928, 321: 1929, 322: 1930, 323: 1931, 324: 1932, 325: 1933, 326: 1934, 327: 1935, 328: 1936, 329: 1937, 330: 1938, 331: 1939, 332: 1940, 333: 1941, 334: 1942, 335: 1943, 336: 1944, 337: 1945, 338: 1946, 339: 1947, 340: 1948, 341: 1949, 342: 1950, 343: 1951, 344: 1952, 345: 1953, 346: 1954, 347: 1955, 348: 1956, 349: 1957, 350: 1958, 351: 1959, 352: 1960, 353: 1961, 354: 1962, 355: 1963, 356: 1964, 357: 1965, 358: 1966, 359: 1967, 360: 1968, 361: 1969, 362: 1970, 363: 1971, 364: 1972, 365: 1973, 366: 1974, 367: 1975, 368: 1976, 369: 1977, 370: 1978, 371: 1979, 372: 1980, 373: 1981, 374: 1982, 375: 1983, 376: 1984, 377: 1985, 378: 1986, 379: 1987, 380: 1988, 381: 1989, 382: 1990, 383: 1991, 384: 1992, 385: 1993, 386: 1994, 387: 1995, 388: 1996, 389: 1997, 390: 1998, 391: 1999, 392: 2000, 393: 2001, 394: 2002, 395: 2003, 396: 2004, 397: 2005, 398: 2006, 399: 2007, 400: 2008, 401: 2009, 402: 2010, 403: 2011, 404: 2012, 405: 2013, 406: 2014, 407: 2015, 408: 2016, 409: 2017, 410: 2018, 411: 2019, 412: 2020, 413: 2021, 414: 2022, 415: 2023, 416: 2024, 417: 2025, 418: 2026, 419: 2027, 420: 2028, 421: 2029, 422: 2030, 423: 2031, 424: 2032, 425: 2033, 426: 2034, 427: 2035, 428: 2036, 429: 2037, 430: 2038, 431: 2039, 432: 2040, 433: 2041, 434: 2042, 435: 2043, 436: 2044, 437: 2045, 438: 2046, 439: 2047, 440: 2048, 441: 2049, 442: 2050, 443: 2051, 444: 2052, 445: 2053, 446: 2054, 447: 2055, 448: 2056, 449: 2057, 450: 2058, 451: 2059, 452: 2060, 453: 2061, 454: 2062, 455: 2063, 456: 2064, 457: 2065, 458: 2066, 459: 2067, 460: 2068, 461: 2069, 462: 2070, 463: 2071, 464: 2072, 465: 2073, 466: 2074, 467: 2075, 468: 2076, 469: 2077, 470: 2078, 471: 2079, 472: 2080, 473: 2081, 474: 2082, 475: 2083, 476: 2084, 477: 2085, 478: 2086, 479: 2087, 480: 2088, 481: 2089, 482: 2090, 483: 2091, 484: 2092, 485: 2093, 486: 2094, 487: 2095, 488: 2096, 489: 2097, 490: 2098, 491: 2099, 492: 2100, 493: 2101, 494: 2102, 495: 2103, 496: 2104, 497: 2105, 498: 2106, 499: 2107, 500: 2108, 501: 2109, 502: 2110, 503: 2111, 504: 2112, 505: 2113, 506: 2114, 507: 2115, 508: 2116, 509: 2117, 510: 2118, 511: 2119, 512: 2120, 513: 2121, 514: 2122, 515: 2123, 516: 2124, 517: 2125, 518: 2126, 519: 2127, 520: 2128, 521: 2129, 522: 2130, 523: 2131, 524: 2132, 525: 2133, 526: 2134, 527: 2135, 528: 2136, 529: 2137, 530: 2138, 531: 2139, 532: 2140, 533: 2141, 534: 2142, 535: 2143, 536: 2144, 537: 2145, 538: 2146, 539: 2147, 540: 2148, 541: 2149, 542: 2150, 543: 2151, 544: 2152, 545: 2153, 546: 2154, 547: 2155, 548: 2156, 549: 2157, 550: 2158, 551: 2159, 552: 2160, 553: 2161, 554: 2162, 555: 2163, 556: 2164, 557: 2165, 558: 2166, 559: 2167, 560: 2168, 561: 2169, 562: 2170, 563: 2171, 564: 2172, 565: 2173, 566: 2174, 567: 2175, 568: 2176, 569: 2177, 570: 2178, 571: 2179, 572: 2180, 573: 2181, 574: 2182, 575: 2183, 576: 2184, 577: 2185, 578: 2186, 579: 2187, 580: 2188, 581: 2189, 582: 2190, 583: 2191, 584: 2192, 585: 2193, 586: 2194, 587: 2195, 588: 2196, 589: 2197, 590: 2198, 591: 2199, 592: 2200, 593: 2201, 594: 2202, 595: 2203, 596: 2204, 597: 2205, 598: 2206, 599: 2207, 600: 2208, 601: 2209, 602: 2210, 603: 2211, 604: 2212, 605: 2213, 606: 2214, 607: 2215, 608: 2216, 609: 2217, 610: 2218, 611: 2219, 612: 2220, 613: 2221, 614: 2222, 615: 2223, 616: 2224, 617: 2225, 618: 2226, 619: 2227, 620: 2228, 621: 2229, 622: 2230, 623: 2231, 624: 2232, 625: 2233, 626: 2234, 627: 2235, 628: 2236, 629: 2237, 630: 2238, 631: 2239, 632: 2240, 633: 2241, 634: 2242, 635: 2243, 636: 2244, 637: 2245, 638: 2246, 639: 2247, 640: 2248, 641: 2249, 642: 2250, 643: 2251, 644: 2252, 645: 2253, 646: 2254, 647: 2255, 648: 2256, 649: 2257, 650: 2258, 651: 2259, 652: 2260, 653: 2261, 654: 2262, 655: 2263, 656: 2264, 657: 2265, 658: 2266, 659: 2267, 660: 2268, 661: 2269, 662: 2270, 663: 2271, 664: 2272, 665: 2273, 666: 2274, 667: 2275, 668: 2276, 669: 2277, 670: 2278, 671: 2279, 672: 2280, 673: 2281, 674: 2282, 675: 2283, 676: 2284, 677: 2285, 678: 2286, 679: 2287, 680: 2288, 681: 2289, 682: 2290, 683: 2291, 684: 2292, 685: 2293, 686: 2294, 687: 2295, 688: 2296, 689: 2297, 690: 2298, 691: 2299, 692: 2300, 693: 2301, 694: 2302, 695: 2303, 696: 2304, 697: 2305, 698: 2306, 699: 2307, 700: 2308, 701: 2309, 702: 2310, 703: 2311, 704: 2312, 705: 2313, 706: 2314, 707: 2315, 708: 2316, 709: 2317, 710: 2318, 711: 2319, 712: 2320, 713: 2321, 714: 2322, 715: 2323, 716: 2324, 717: 2325, 718: 2326, 719: 2327, 720: 2328, 721: 2329, 722: 2330, 723: 2331, 724: 2332, 725: 2333, 726: 2334, 727: 2335, 728: 2336, 729: 2337, 730: 2338, 731: 2339, 732: 2340, 733: 2341, 734: 2342, 735: 2343, 736: 2344, 737: 2345, 738: 2346, 739: 2347, 740: 2348, 741: 2349, 742: 2350, 743: 2351, 744: 2352, 745: 2353, 746: 2354, 747: 2355, 748: 2356, 749: 2357, 750: 2358, 751: 2359, 752: 2360, 753: 2361, 754: 2362, 755: 2363, 756: 2364, 757: 2365, 758: 2366, 759: 2367, 760: 2368, 761: 2369, 762: 2370, 763: 2371, 764: 2372, 765: 2373, 766: 2374, 767: 2375, 768: 2376, 769: 2377, 770: 2378, 771: 2379, 772: 2380, 773: 2381, 774: 2382, 775: 2383, 776: 2384, 777: 2385, 778: 2386, 779: 2387, 780: 2388, 781: 2389, 782: 2390, 783: 2391, 784: 2392, 785: 2393, 786: 2394, 787: 2395, 788: 2396, 789: 2397, 790: 2398, 791: 2399, 792: 2400, 793: 2401, 794: 2402, 795: 2403, 796: 2404, 797: 2405, 798: 2406, 799: 2407, 800: 2408, 801: 2409, 802: 2410, 803: 2411, 804: 2412, 805: 2413, 806: 2414, 807: 2415, 808: 2416, 809: 2417, 810: 2418, 811: 2419, 812: 2420, 813: 2421, 814: 2422, 815: 2423, 816: 2424, 817: 2425, 818: 2426, 819: 2427, 820: 2428, 821: 2429, 822: 2430, 823: 2431, 824: 2432, 825: 2433, 826: 2434, 827: 2435, 828: 2436, 829: 2437, 830: 2438, 831: 2439, 832: 2440, 833: 2441, 834: 2442, 835: 2443, 836: 2444, 837: 2445, 838: 2446, 839: 2447, 840: 2448, 841: 2449, 842: 2450, 843: 2451, 844: 2452, 845: 2453, 846: 2454, 847: 2455, 848: 2456, 849: 2457, 850: 2458, 851: 2459, 852: 2460, 853: 2461, 854: 2462, 855: 2463, 856: 2464, 857: 2465, 858: 2466, 859: 2467, 860: 2468, 861: 2469, 862: 2470, 863: 2471, 864: 2472, 865: 2473, 866: 2474, 867: 2475, 868: 2476, 869: 2477, 870: 2478, 871: 2479, 872: 2480, 873: 2481, 874: 2482, 875: 2483, 876: 2484, 877: 2485, 878: 2486, 879: 2487, 880: 2488, 881: 2489, 882: 2490, 883: 2491, 884: 2492, 885: 2493, 886: 2494, 887: 2495, 888: 2496, 889: 2497, 890: 2498, 891: 2499, 892: 2500, 893: 2501, 894: 2502, 895: 2503, 896: 2504, 897: 2505, 898: 2506, 899: 2507, 900: 2508, 901: 2509, 902: 2510, 903: 2511, 904: 2512, 905: 2513, 906: 2514, 907: 2515, 908: 2516, 909: 2517, 910: 2518, 911: 2519, 912: 2520, 913: 2521, 914: 2522, 915: 2523, 916: 2524, 917: 2525, 918: 2526, 919: 2527, 920: 2528, 921: 2529, 922: 2530, 923: 2531, 924: 2532, 925: 2533, 926: 2534, 927: 2535, 928: 2536, 929: 2537, 930: 2538, 931: 2539, 932: 2540, 933: 2541, 934: 2542, 935: 2543, 936: 2544, 937: 2545, 938: 2546, 939: 2547, 940: 2548, 941: 2549, 942: 2550, 943: 2551, 944: 2552, 945: 2553, 946: 2554, 947: 2555, 948: 2556, 949: 2557, 950: 2558, 951: 2559, 952: 2560, 953: 2561, 954: 2562, 955: 2563, 956: 2564, 957: 2565, 958: 2566, 959: 2567, 960: 2568, 961: 2569, 962: 2570, 963: 2571, 964: 2572, 965: 2573, 966: 2574, 967: 2575, 968: 2576, 969: 2577, 970: 2578, 971: 2579, 972: 2580, 973: 2581, 974: 2582, 975: 2583, 976: 2584, 977: 2585, 978: 2586, 979: 2587, 980: 2588, 981: 2589, 982: 2590, 983: 2591, 984: 2592, 985: 2593, 986: 2594, 987: 2595, 988: 2596, 989: 2597, 990: 2598, 991: 2599, 992: 2600, 993: 2601, 994: 2602, 995: 2603, 996: 2604, 997: 2605, 998: 2606, 999: 2607, 1000: 2608, 1001: 2609, 1002: 2610, 1003: 2611, 1004: 2612, 1005: 2613, 1006: 2614, 1007: 2615, 1008: 2616, 1009: 2617, 1010: 2618, 1011: 2619, 1012: 2620, 1013: 2621, 1014: 2622, 1015: 2623, 1016: 2624, 1017: 2625, 1018: 2626, 1019: 2627, 1020: 2628, 1021: 2629, 1022: 2630, 1023: 2631, 1024: 2632, 1025: 2633, 1026: 2634, 1027: 2635, 1028: 2636, 1029: 2637, 1030: 2638, 1031: 2639, 1032: 2640, 1033: 2641, 1034: 2642, 1035: 2643, 1036: 2644, 1037: 2645, 1038: 2646, 1039: 2647, 1040: 2648, 1041: 2649, 1042: 2650, 1043: 2651, 1044: 2652, 1045: 2653, 1046: 2654, 1047: 2655, 1048: 2656, 1049: 2657, 1050: 2658, 1051: 2659, 1052: 2660, 1053: 2661, 1054: 2662, 1055: 2663, 1056: 2664, 1057: 2665, 1058: 2666, 1059: 2667, 1060: 2668, 1061: 2669, 1062: 2670, 1063: 2671, 1064: 2672, 1065: 2673, 1066: 2674, 1067: 2675, 1068: 2676, 1069: 2677, 1070: 2678, 1071: 2679, 1072: 2680, 1073: 2681, 1074: 2682, 1075: 2683, 1076: 2684, 1077: 2685, 1078: 2686, 1079: 2687, 1080: 2688, 1081: 2689, 1082: 2690, 1083: 2691, 1084: 2692, 1085: 2693, 1086: 2694, 1087: 2695, 1088: 2696, 1089: 2697, 1090: 2698, 1091: 2699, 1092: 2700, 1093: 2701, 1094: 2702, 1095: 2703, 1096: 2704, 1097: 2705, 1098: 2706, 1099: 2707, 1100: 2708, 1101: 2709, 1102: 2710, 1103: 2711, 1104: 2712, 1105: 2713, 1106: 2714, 1107: 2715, 1108: 2716, 1109: 2717, 1110: 2718, 1111: 2719, 1112: 2720, 1113: 2721, 1114: 2722, 1115: 2723, 1116: 2724, 1117: 2725, 1118: 2726, 1119: 2727, 1120: 2728, 1121: 2729, 1122: 2730, 1123: 2731, 1124: 2732, 1125: 2733, 1126: 2734, 1127: 2735, 1128: 2736, 1129: 2737, 1130: 2738, 1131: 2739, 1132: 2740, 1133: 2741, 1134: 2742, 1135: 2743, 1136: 2744, 1137: 2745, 1138: 2746, 1139: 2747, 1140: 2748, 1141: 2749, 1142: 2750, 1143: 2751, 1144: 2752, 1145: 2753, 1146: 2754, 1147: 2755, 1148: 2756, 1149: 2757, 1150: 2758, 1151: 2759, 1152: 2760, 1153: 2761, 1154: 2762, 1155: 2763, 1156: 2764, 1157: 2765, 1158: 2766, 1159: 2767, 1160: 2768, 1161: 2769, 1162: 2770, 1163: 2771, 1164: 2772, 1165: 2773, 1166: 2774, 1167: 2775, 1168: 2776, 1169: 2777, 1170: 2778, 1171: 2779, 1172: 2780, 1173: 2781, 1174: 2782, 1175: 2783, 1176: 2784, 1177: 2785, 1178: 2786, 1179: 2787, 1180: 2788, 1181: 2789, 1182: 2790, 1183: 2791, 1184: 2792, 1185: 2793, 1186: 2794, 1187: 2795, 1188: 2796, 1189: 2797, 1190: 2798, 1191: 2799, 1192: 2800, 1193: 2801, 1194: 2802, 1195: 2803, 1196: 2804, 1197: 2805, 1198: 2806, 1199: 2807, 1200: 2808, 1201: 2809, 1202: 2810, 1203: 2811, 1204: 2812, 1205: 2813, 1206: 2814, 1207: 2815, 1208: 2816, 1209: 2817, 1210: 2818, 1211: 2819, 1212: 2820, 1213: 2821, 1214: 2822, 1215: 2823, 1216: 2824, 1217: 2825, 1218: 2826, 1219: 2827, 1220: 2828, 1221: 2829, 1222: 2830, 1223: 2831, 1224: 2832, 1225: 2833, 1226: 2834, 1227: 2835, 1228: 2836, 1229: 2837, 1230: 2838, 1231: 2839, 1232: 2840, 1233: 2841, 1234: 2842, 1235: 2843, 1236: 2844, 1237: 2845, 1238: 2846, 1239: 2847, 1240: 2848, 1241: 2849, 1242: 2850, 1243: 2851, 1244: 2852, 1245: 2853, 1246: 2854, 1247: 2855, 1248: 2856, 1249: 2857, 1250: 2858, 1251: 2859, 1252: 2860, 1253: 2861, 1254: 2862, 1255: 2863, 1256: 2864, 1257: 2865, 1258: 2866, 1259: 2867, 1260: 2868, 1261: 2869, 1262: 2870, 1263: 2871, 1264: 2872, 1265: 2873, 1266: 2874, 1267: 2875, 1268: 2876, 1269: 2877, 1270: 2878, 1271: 2879, 1272: 2880, 1273: 2881, 1274: 2882, 1275: 2883, 1276: 2884, 1277: 2885, 1278: 2886, 1279: 2887, 1280: 2888, 1281: 2889, 1282: 2890, 1283: 2891, 1284: 2892, 1285: 2893, 1286: 2894, 1287: 2895, 1288: 2896, 1289: 2897, 1290: 2898, 1291: 2899, 1292: 2900, 1293: 2901, 1294: 2902, 1295: 2903, 1296: 2904, 1297: 2905, 1298: 2906, 1299: 2907, 1300: 2908, 1301: 2909, 1302: 2910, 1303: 2911, 1304: 2912, 1305: 2913, 1306: 2914, 1307: 2915, 1308: 2916, 1309: 2917, 1310: 2918, 1311: 2919, 1312: 2920, 1313: 2921, 1314: 2922, 1315: 2923, 1316: 2924, 1317: 2925, 1318: 2926, 1319: 2927, 1320: 2928, 1321: 2929, 1322: 2930, 1323: 2931, 1324: 2932, 1325: 2933, 1326: 2934, 1327: 2935, 1328: 2936, 1329: 2937, 1330: 2938, 1331: 2939, 1332: 2940, 1333: 2941, 1334: 2942, 1335: 2943, 1336: 2944, 1337: 2945, 1338: 2946, 1339: 2947, 1340: 2948, 1341: 2949, 1342: 2950, 1343: 2951, 1344: 2952, 1345: 2953, 1346: 2954, 1347: 2955, 1348: 2956, 1349: 2957, 1350: 2958, 1351: 2959, 1352: 2960, 1353: 2961, 1354: 2962, 1355: 2963, 1356: 2964, 1357: 2965, 1358: 2966, 1359: 2967, 1360: 2968, 1361: 2969, 1362: 2970, 1363: 2971, 1364: 2972, 1365: 2973, 1366: 2974, 1367: 2975, 1368: 2976, 1369: 2977, 1370: 2978, 1371: 2979, 1372: 2980, 1373: 2981, 1374: 2982, 1375: 2983, 1376: 2984, 1377: 2985, 1378: 2986, 1379: 2987, 1380: 2988, 1381: 2989, 1382: 2990, 1383: 2991, 1384: 2992, 1385: 2993, 1386: 2994, 1387: 2995, 1388: 2996, 1389: 2997, 1390: 2998, 1391: 2999, 1392: 3000, 1393: 3001, 1394: 3002, 1395: 3003, 1396: 3004, 1397: 3005, 1398: 3006, 1399: 3007, 1400: 3008, 1401: 3009, 1402: 3010, 1403: 3011, 1404: 3012, 1405: 3013, 1406: 3014, 1407: 3015, 1408: 3016, 1409: 3017, 1410: 3018, 1411: 3019, 1412: 3020, 1413: 3021, 1414: 3022, 1415: 3023, 1416: 3024, 1417: 3025, 1418: 3026, 1419: 3027, 1420: 3028, 1421: 3029, 1422: 3030, 1423: 3031, 1424: 3032, 1425: 3033, 1426: 3034, 1427: 3035, 1428: 3036, 1429: 3037, 1430: 3038, 1431: 3039, 1432: 3040, 1433: 3041, 1434: 3042, 1435: 3043, 1436: 3044, 1437: 3045, 1438: 3046, 1439: 3047, 1440: 3048, 1441: 3049, 1442: 3050, 1443: 3051, 1444: 3052, 1445: 3053, 1446: 3054, 1447: 3055, 1448: 3056, 1449: 3057, 1450: 3058, 1451: 3059, 1452: 3060, 1453: 3061, 1454: 3062, 1455: 3063, 1456: 3064, 1457: 3065, 1458: 3066, 1459: 3067, 1460: 3068, 1461: 3069, 1462: 3070, 1463: 3071, 1464: 3072, 1465: 3073, 1466: 3074, 1467: 3075, 1468: 3076, 1469: 3077, 1470: 3078, 1471: 3079, 1472: 3080, 1473: 3081, 1474: 3082, 1475: 3083, 1476: 3084, 1477: 3085, 1478: 3086, 1479: 3087, 1480: 3088, 1481: 3089, 1482: 3090, 1483: 3091, 1484: 3092, 1485: 3093, 1486: 3094, 1487: 3095, 1488: 3096, 1489: 3097, 1490: 3098, 1491: 3099, 1492: 3100, 1493: 3101, 1494: 3102, 1495: 3103, 1496: 3104, 1497: 3105, 1498: 3106, 1499: 3107, 1500: 3108, 1501: 3109, 1502: 3110, 1503: 3111, 1504: 3112, 1505: 3113, 1506: 3114, 1507: 3115, 1508: 3116, 1509: 3117, 1510: 3118, 1511: 3119, 1512: 3120, 1513: 3121, 1514: 3122, 1515: 3123, 1516: 3124, 1517: 3125, 1518: 3126, 1519: 3127, 1520: 3128, 1521: 3129, 1522: 3130, 1523: 3131, 1524: 3132, 1525: 3133, 1526: 3134, 1527: 3135, 1528: 3136, 1529: 3137, 1530: 3138, 1531: 3139, 1532: 3140, 1533: 3141, 1534: 3142, 1535: 3143, 1536: 3144, 1537: 3145, 1538: 3146, 1539: 3147, 1540: 3148, 1541: 3149, 1542: 3150, 1543: 3151, 1544: 3152, 1545: 3153, 1546: 3154, 1547: 3155, 1548: 3156, 1549: 3157, 1550: 3158, 1551: 3159, 1552: 3160, 1553: 3161, 1554: 3162, 1555: 3163, 1556: 3164, 1557: 3165, 1558: 3166, 1559: 3167, 1560: 3168, 1561: 3169, 1562: 3170, 1563: 3171, 1564: 3172, 1565: 3173, 1566: 3174, 1567: 3175, 1568: 3176, 1569: 3177, 1570: 3178, 1571: 3179, 1572: 3180, 1573: 3181, 1574: 3182, 1575: 3183, 1576: 3184, 1577: 3185, 1578: 3186, 1579: 3187, 1580: 3188, 1581: 3189, 1582: 3190, 1583: 3191, 1584: 3192, 1585: 3193, 1586: 3194, 1587: 3195, 1588: 3196, 1589: 3197, 1590: 3198, 1591: 3199, 1592: 3200, 1593: 3201, 1594: 3202, 1595: 3203, 1596: 3204, 1597: 3205, 1598: 3206, 1599: 3207, 1600: 3208, 1601: 3209, 1602: 3210, 1603: 3211, 1604: 3212, 1605: 3213, 1606: 3214, 1607: 3215, 1608: 3216, 1609: 3217, 1610: 3218, 1611: 3219, 1612: 3220, 1613: 3221, 1614: 3222, 1615: 3223, 1616: 3224, 1617: 3225, 1618: 3226, 1619: 3227, 1620: 3228, 1621: 3229, 1622: 3230, 1623: 3231, 1624: 3232, 1625: 3233, 1626: 3234, 1627: 3235, 1628: 3236, 1629: 3237, 1630: 3238, 1631: 3239, 1632: 3240, 1633: 3241, 1634: 3242, 1635: 3243, 1636: 3244, 1637: 3245, 1638: 3246, 1639: 3247, 1640: 3248, 1641: 3249, 1642: 3250, 1643: 3251, 1644: 3252, 1645: 3253, 1646: 3254, 1647: 3255, 1648: 3256, 1649: 3257, 1650: 3258, 1651: 3259, 1652: 3260, 1653: 3261, 1654: 3262, 1655: 3263, 1656: 3264, 1657: 3265, 1658: 3266, 1659: 3267, 1660: 3268, 1661: 3269, 1662: 3270, 1663: 3271, 1664: 3272, 1665: 3273, 1666: 3274, 1667: 3275, 1668: 3276, 1669: 3277, 1670: 3278, 1671: 3279, 1672: 3280, 1673: 3281, 1674: 3282, 1675: 3283, 1676: 3284, 1677: 3285, 1678: 3286, 1679: 3287, 1680: 3288, 1681: 3289, 1682: 3290, 1683: 3291, 1684: 3292, 1685: 3293, 1686: 3294, 1687: 3295, 1688: 3296, 1689: 3297, 1690: 3298, 1691: 3299, 1692: 3300, 1693: 3301, 1694: 3302, 1695: 3303, 1696: 3304, 1697: 3305, 1698: 3306, 1699: 3307, 1700: 3308, 1701: 3309, 1702: 3310, 1703: 3311, 1704: 3312, 1705: 3313, 1706: 3314, 1707: 3315, 1708: 3316, 1709: 3317, 1710: 3318, 1711: 3319, 1712: 3320, 1713: 3321, 1714: 3322, 1715: 3323, 1716: 3324, 1717: 3325, 1718: 3326, 1719: 3327, 1720: 3328, 1721: 3329, 1722: 3330, 1723: 3331, 1724: 3332, 1725: 3333, 1726: 3334, 1727: 3335, 1728: 3336, 1729: 3337, 1730: 3338, 1731: 3339, 1732: 3340, 1733: 3341, 1734: 3342, 1735: 3343, 1736: 3344, 1737: 3345, 1738: 3346, 1739: 3347, 1740: 3348, 1741: 3349, 1742: 3350, 1743: 3351, 1744: 3352, 1745: 3353, 1746: 3354, 1747: 3355, 1748: 3356, 1749: 3357, 1750: 3358, 1751: 3359, 1752: 3360, 1753: 3361, 1754: 3362, 1755: 3363, 1756: 3364, 1757: 3365, 1758: 3366, 1759: 3367, 1760: 3368, 1761: 3369, 1762: 3370, 1763: 3371, 1764: 3372, 1765: 3373, 1766: 3374, 1767: 3375, 1768: 3376, 1769: 3377, 1770: 3378, 1771: 3379, 1772: 3380, 1773: 3381, 1774: 3382, 1775: 3383, 1776: 3384, 1777: 3385, 1778: 3386, 1779: 3387, 1780: 3388, 1781: 3389, 1782: 3390, 1783: 3391, 1784: 3392, 1785: 3393, 1786: 3394, 1787: 3395, 1788: 3396, 1789: 3397, 1790: 3398, 1791: 3399, 1792: 3400, 1793: 3401, 1794: 3402, 1795: 3403, 1796: 3404, 1797: 3405, 1798: 3406, 1799: 3407, 1800: 3408, 1801: 3409, 1802: 3410, 1803: 3411, 1804: 3412, 1805: 3413, 1806: 3414, 1807: 3415, 1808: 3416, 1809: 3417, 1810: 3418, 1811: 3419, 1812: 3420, 1813: 3421, 1814: 3422, 1815: 3423, 1816: 3424, 1817: 3425, 1818: 3426, 1819: 3427, 1820: 3428, 1821: 3429, 1822: 3430, 1823: 3431, 1824: 3432, 1825: 3433, 1826: 3434, 1827: 3435, 1828: 3436, 1829: 3437, 1830: 3438, 1831: 3439, 1832: 3440, 1833: 3441, 1834: 3442, 1835: 3443, 1836: 3444, 1837: 3445, 1838: 3446, 1839: 3447, 1840: 3448, 1841: 3449, 1842: 3450, 1843: 3451, 1844: 3452, 1845: 3453, 1846: 3454, 1847: 3455, 1848: 3456, 1849: 3457, 1850: 3458, 1851: 3459, 1852: 3460, 1853: 3461, 1854: 3462, 1855: 3463, 1856: 3464, 1857: 3465, 1858: 3466, 1859: 3467, 1860: 3468, 1861: 3469, 1862: 3470, 1863: 3471, 1864: 3472, 1865: 3473, 1866: 3474, 1867: 3475, 1868: 3476, 1869: 3477, 1870: 3478, 1871: 3479, 1872: 3480, 1873: 3481, 1874: 3482, 1875: 3483, 1876: 3484, 1877: 3485, 1878: 3486, 1879: 3487, 1880: 3488, 1881: 3489, 1882: 3490, 1883: 3491, 1884: 3492, 1885: 3493, 1886: 3494, 1887: 3495, 1888: 3496, 1889: 3497, 1890: 3498, 1891: 3499, 1892: 3500, 1893: 3501, 1894: 3502, 1895: 3503, 1896: 3504, 1897: 3505, 1898: 3506, 1899: 3507, 1900: 3508, 1901: 3509, 1902: 3510, 1903: 3511, 1904: 3512, 1905: 3513, 1906: 3514, 1907: 3515, 1908: 3516, 1909: 3517, 1910: 3518, 1911: 3519, 1912: 3520, 1913: 3521, 1914: 3522, 1915: 3523, 1916: 3524, 1917: 3525, 1918: 3526, 1919: 3527, 1920: 3528, 1921: 3529, 1922: 3530, 1923: 3531, 1924: 3532, 1925: 3533, 1926: 3534, 1927: 3535, 1928: 3536, 1929: 3537, 1930: 3538, 1931: 3539, 1932: 3540, 1933: 3541, 1934: 3542, 1935: 3543, 1936: 3544, 1937: 3545, 1938: 3546, 1939: 3547, 1940: 3548, 1941: 3549, 1942: 3550, 1943: 3551, 1944: 3552, 1945: 3553, 1946: 3554, 1947: 3555, 1948: 3556, 1949: 3557, 1950: 3558, 1951: 3559, 1952: 3560, 1953: 3561, 1954: 3562, 1955: 3563, 1956: 3564, 1957: 3565, 1958: 3566, 1959: 3567, 1960: 3568, 1961: 3569, 1962: 3570, 1963: 3571, 1964: 3572, 1965: 3573, 1966: 3574, 1967: 3575, 1968: 3576, 1969: 3577, 1970: 3578, 1971: 3579, 1972: 3580, 1973: 3581, 1974: 3582, 1975: 3583, 1976: 3584, 1977: 3585, 1978: 3586, 1979: 3587, 1980: 3588, 1981: 3589, 1982: 3590, 1983: 3591, 1984: 3592, 1985: 3593, 1986: 3594, 1987: 3595, 1988: 3596, 1989: 3597, 1990: 3598, 1991: 3599, 1992: 3600, 1993: 3601, 1994: 3602, 1995: 3603, 1996: 3604, 1997: 3605, 1998: 3606, 1999: 3607, 2000: 3608, 2001: 3609, 2002: 3610, 2003: 3611, 2004: 3612, 2005: 3613, 2006: 3614, 2007: 3615, 2008: 3616, 2009: 3617, 2010: 3618, 2011: 3619, 2012: 3620, 2013: 3621, 2014: 3622, 2015: 3623, 2016: 3624, 2017: 3625, 2018: 3626, 2019: 3627, 2020: 3628, 2021: 3629, 2022: 3630, 2023: 3631, 2024: 3632, 2025: 3633, 2026: 3634, 2027: 3635, 2028: 3636, 2029: 3637, 2030: 3638, 2031: 3639, 2032: 3640, 2033: 3641, 2034: 3642, 2035: 3643, 2036: 3644, 2037: 3645, 2038: 3646, 2039: 3647, 2040: 3648, 2041: 3649, 2042: 3650, 2043: 3651, 2044: 3652, 2045: 3653, 2046: 3654, 2047: 3655, 2048: 3656, 2049: 3657, 2050: 3658, 2051: 3659, 2052: 3660, 2053: 3661, 2054: 3662, 2055: 3663, 2056: 3664, 2057: 3665, 2058: 3666, 2059: 3667, 2060: 3668, 2061: 3669, 2062: 3670, 2063: 3671, 2064: 3672, 2065: 3673, 2066: 3674, 2067: 3675, 2068: 3676, 2069: 3677, 2070: 3678, 2071: 3679, 2072: 3680, 2073: 3681, 2074: 3682, 2075: 3683, 2076: 3684, 2077: 3685, 2078: 3686, 2079: 3687, 2080: 3688, 2081: 3689, 2082: 3690, 2083: 3691, 2084: 3692, 2085: 3693, 2086: 3694, 2087: 3695, 2088: 3696, 2089: 3697, 2090: 3698, 2091: 3699, 2092: 3700, 2093: 3701, 2094: 3702, 2095: 3703, 2096: 3704, 2097: 3705, 2098: 3706, 2099: 3707, 2100: 3708, 2101: 3709, 2102: 3710, 2103: 3711, 2104: 3712, 2105: 3713, 2106: 3714, 2107: 3715, 2108: 3716, 2109: 3717, 2110: 3718, 2111: 3719, 2112: 3720, 2113: 3721, 2114: 3722, 2115: 3723, 2116: 3724, 2117: 3725, 2118: 3726, 2119: 3727, 2120: 3728, 2121: 3729, 2122: 3730, 2123: 3731, 2124: 3732, 2125: 3733, 2126: 3734, 2127: 3735, 2128: 3736, 2129: 3737, 2130: 3738, 2131: 3739, 2132: 3740, 2133: 3741, 2134: 3742, 2135: 3743, 2136: 3744, 2137: 3745, 2138: 3746, 2139: 3747, 2140: 3748, 2141: 3749, 2142: 3750, 2143: 3751, 2144: 3752, 2145: 3753, 2146: 3754, 2147: 3755, 2148: 3756, 2149: 3757, 2150: 3758, 2151: 3759, 2152: 3760, 2153: 3761, 2154: 3762, 2155: 3763, 2156: 3764, 2157: 3765, 2158: 3766, 2159: 3767, 2160: 3768, 2161: 3769, 2162: 3770, 2163: 3771, 2164: 3772, 2165: 3773, 2166: 3774, 2167: 3775, 2168: 3776, 2169: 3777, 2170: 3778, 2171: 3779, 2172: 3780, 2173: 3781, 2174: 3782, 2175: 3783, 2176: 3784, 2177: 3785, 2178: 3786, 2179: 3787, 2180: 3788, 2181: 3789, 2182: 3790, 2183: 3791, 2184: 3792, 2185: 3793, 2186: 3794, 2187: 3795, 2188: 3796, 2189: 3797, 2190: 3798, 2191: 3799, 2192: 3800, 2193: 3801, 2194: 3802, 2195: 3803, 2196: 3804, 2197: 3805, 2198: 3806, 2199: 3807, 2200: 3808, 2201: 3809, 2202: 3810, 2203: 3811, 2204: 3812, 2205: 3813, 2206: 3814, 2207: 3815, 2208: 3816, 2209: 3817, 2210: 3818, 2211: 3819, 2212: 3820, 2213: 3821, 2214: 3822, 2215: 3823, 2216: 3824, 2217: 3825, 2218: 3826, 2219: 3827, 2220: 3828, 2221: 3829, 2222: 3830, 2223: 3831, 2224: 3832, 2225: 3833, 2226: 3834, 2227: 3835, 2228: 3836, 2229: 3837, 2230: 3838, 2231: 3839, 2232: 3840, 2233: 3841, 2234: 3842, 2235: 3843, 2236: 3844, 2237: 3845, 2238: 3846, 2239: 3847, 2240: 3848, 2241: 3849, 2242: 3850, 2243: 3851, 2244: 3852, 2245: 3853, 2246: 3854, 2247: 3855, 2248: 3856, 2249: 3857, 2250: 3858, 2251: 3859, 2252: 3860, 2253: 3861, 2254: 3862, 2255: 3863, 2256: 3864, 2257: 3865, 2258: 3866, 2259: 3867, 2260: 3868, 2261: 3869, 2262: 3870, 2263: 3871, 2264: 3872, 2265: 3873, 2266: 3874, 2267: 3875, 2268: 3876, 2269: 3877, 2270: 3878, 2271: 3879, 2272: 3880, 2273: 3881, 2274: 3882, 2275: 3883, 2276: 3884, 2277: 3885, 2278: 3886, 2279: 3887, 2280: 3888, 2281: 3889, 2282: 3890, 2283: 3891, 2284: 3892, 2285: 3893, 2286: 3894, 2287: 3895, 2288: 3896, 2289: 3897, 2290: 3898, 2291: 3899, 2292: 3900, 2293: 3901, 2294: 3902, 2295: 3903, 2296: 3904, 2297: 3905, 2298: 3906, 2299: 3907, 2300: 3908, 2301: 3909, 2302: 3910, 2303: 3911, 2304: 3912, 2305: 3913, 2306: 3914, 2307: 3915, 2308: 3916, 2309: 3917, 2310: 3918, 2311: 3919, 2312: 3920, 2313: 3921, 2314: 3922, 2315: 3923, 2316: 3924, 2317: 3925, 2318: 3926, 2319: 3927, 2320: 3928, 2321: 3929, 2322: 3930, 2323: 3931, 2324: 3932, 2325: 3933, 2326: 3934, 2327: 3935, 2328: 3936, 2329: 3937, 2330: 3938, 2331: 3939, 2332: 3940, 2333: 3941, 2334: 3942, 2335: 3943, 2336: 3944, 2337: 3945, 2338: 3946, 2339: 3947, 2340: 3948, 2341: 3949, 2342: 3950, 2343: 3951, 2344: 3952, 2345: 3953, 2346: 3954, 2347: 3955, 2348: 3956, 2349: 3957, 2350: 3958, 2351: 3959, 2352: 3960, 2353: 3961, 2354: 3962, 2355: 3963, 2356: 3964, 2357: 3965, 2358: 3966, 2359: 3967, 2360: 3968, 2361: 3969, 2362: 3970, 2363: 3971, 2364: 3972, 2365: 3973, 2366: 3974, 2367: 3975, 2368: 3976, 2369: 3977, 2370: 3978, 2371: 3979, 2372: 3980, 2373: 3981, 2374: 3982, 2375: 3983, 2376: 3984, 2377: 3985, 2378: 3986, 2379: 3987, 2380: 3988, 2381: 3989, 2382: 3990, 2383: 3991, 2384: 3992, 2385: 3993, 2386: 3994, 2387: 3995, 2388: 3996, 2389: 3997, 2390: 3998, 2391: 3999, 2392: 4000, 2393: 4001, 2394: 4002, 2395: 4003, 2396: 4004, 2397: 4005, 2398: 4006, 2399: 4007, 2400: 4008, 2401: 4009, 2402: 4010, 2403: 4011, 2404: 4012, 2405: 4013, 2406: 4014, 2407: 4015, 2408: 4016, 2409: 4017, 2410: 4018, 2411: 4019, 2412: 4020, 2413: 4021, 2414: 4022, 2415: 4023, 2416: 4024, 2417: 4025, 2418: 4026, 2419: 4027, 2420: 4028, 2421: 4029, 2422: 4030, 2423: 4031, 2424: 4032, 2425: 4033, 2426: 4034, 2427: 4035, 2428: 4036, 2429: 4037, 2430: 4038, 2431: 4039, 2432: 4040, 2433: 4041, 2434: 4042, 2435: 4043, 2436: 4044, 2437: 4045, 2438: 4046, 2439: 4047, 2440: 4048, 2441: 4049, 2442: 4050, 2443: 4051, 2444: 4052, 2445: 4053, 2446: 4054, 2447: 4055, 2448: 4056, 2449: 4057, 2450: 4058, 2451: 4059, 2452: 4060, 2453: 4061, 2454: 4062, 2455: 4063, 2456: 4064, 2457: 4065, 2458: 4066, 2459: 4067, 2460: 4068, 2461: 4069, 2462: 4070, 2463: 4071, 2464: 4072, 2465: 4073, 2466: 4074, 2467: 4075, 2468: 4076, 2469: 4077, 2470: 4078, 2471: 4079, 2472: 4080, 2473: 4081, 2474: 4082, 2475: 4083, 2476: 4084, 2477: 4085, 2478: 4086, 2479: 4087, 2480: 4088, 2481: 4089, 2482: 4090, 2483: 4091, 2484: 4092, 2485: 4093, 2486: 4094, 2487: 4095, 2488: 4096, 2489: 4097, 2490: 4098, 2491: 4099, 2492: 4100, 2493: 4101, 2494: 4102, 2495: 4103, 2496: 4104, 2497: 4105, 2498: 4106, 2499: 4107, 2500: 4108, 2501: 4109, 2502: 4110, 2503: 4111, 2504: 4112, 2505: 4113, 2506: 4114, 2507: 4115, 2508: 4116, 2509: 4117, 2510: 4118, 2511: 4119, 2512: 4120, 2513: 4121, 2514: 4122, 2515: 4123, 2516: 4124, 2517: 4125, 2518: 4126, 2519: 4127, 2520: 4128, 2521: 4129, 2522: 4130, 2523: 4131, 2524: 4132, 2525: 4133, 2526: 4134, 2527: 4135, 2528: 4136, 2529: 4137, 2530: 4138, 2531: 4139, 2532: 4140, 2533: 4141, 2534: 4142, 2535: 4143, 2536: 4144, 2537: 4145, 2538: 4146, 2539: 4147, 2540: 4148, 2541: 4149, 2542: 4150, 2543: 4151, 2544: 4152, 2545: 4153, 2546: 4154, 2547: 4155, 2548: 4156, 2549: 4157, 2550: 4158, 2551: 4159, 2552: 4160, 2553: 4161, 2554: 4162, 2555: 4163, 2556: 4164, 2557: 4165, 2558: 4166, 2559: 4167, 2560: 4168, 2561: 4169, 2562: 4170, 2563: 4171, 2564: 4172, 2565: 4173, 2566: 4174, 2567: 4175, 2568: 4176, 2569: 4177, 2570: 4178, 2571: 4179, 2572: 4180, 2573: 4181, 2574: 4182, 2575: 4183, 2576: 4184, 2577: 4185, 2578: 4186, 2579: 4187, 2580: 4188, 2581: 4189, 2582: 4190, 2583: 4191, 2584: 4192, 2585: 4193, 2586: 4194, 2587: 4195, 2588: 4196, 2589: 4197, 2590: 4198, 2591: 4199, 2592: 4200, 2593: 4201, 2594: 4202, 2595: 4203, 2596: 4204, 2597: 4205, 2598: 4206, 2599: 4207, 2600: 4208, 2601: 4209, 2602: 4210, 2603: 4211, 2604: 4212, 2605: 4213, 2606: 4214, 2607: 4215, 2608: 4216, 2609: 4217, 2610: 4218, 2611: 4219, 2612: 4220, 2613: 4221, 2614: 4222, 2615: 4223, 2616: 4224, 2617: 4225, 2618: 4226, 2619: 4227, 2620: 4228, 2621: 4229, 2622: 4230, 2623: 4231, 2624: 4232, 2625: 4233, 2626: 4234, 2627: 4235, 2628: 4236, 2629: 4237, 2630: 4238, 2631: 4239, 2632: 4240, 2633: 4241, 2634: 4242, 2635: 4243, 2636: 4244, 2637: 4245, 2638: 4246, 2639: 4247, 2640: 4248, 2641: 4249, 2642: 4250, 2643: 4251, 2644: 4252, 2645: 4253, 2646: 4254, 2647: 4255, 2648: 4256, 2649: 4257, 2650: 4258, 2651: 4259, 2652: 4260, 2653: 4261, 2654: 4262, 2655: 4263, 2656: 4264, 2657: 4265, 2658: 4266, 2659: 4267, 2660: 4268, 2661: 4269, 2662: 4270, 2663: 4271, 2664: 4272, 2665: 4273, 2666: 4274, 2667: 4275, 2668: 4276, 2669: 4277, 2670: 4278, 2671: 4279, 2672: 4280, 2673: 4281, 2674: 4282, 2675: 4283, 2676: 4284, 2677: 4285, 2678: 4286, 2679: 4287, 2680: 4288, 2681: 4289, 2682: 4290, 2683: 4291, 2684: 4292, 2685: 4293, 2686: 4294, 2687: 4295, 2688: 4296, 2689: 4297, 2690: 4298, 2691: 4299, 2692: 4300, 2693: 4301, 2694: 4302, 2695: 4303, 2696: 4304, 2697: 4305, 2698: 4306, 2699: 4307, 2700: 4308, 2701: 4309, 2702: 4310, 2703: 4311, 2704: 4312, 2705: 4313, 2706: 4314, 2707: 4315, 2708: 4316, 2709: 4317, 2710: 4318, 2711: 4319, 2712: 4320, 2713: 4321, 2714: 4322, 2715: 4323, 2716: 4324, 2717: 4325, 2718: 4326, 2719: 4327, 2720: 4328, 2721: 4329, 2722: 4330, 2723: 4331, 2724: 4332, 2725: 4333, 2726: 4334, 2727: 4335, 2728: 4336, 2729: 4337, 2730: 4338, 2731: 4339, 2732: 4340, 2733: 4341, 2734: 4342, 2735: 4343, 2736: 4344, 2737: 4345, 2738: 4346, 2739: 4347, 2740: 4348, 2741: 4349, 2742: 4350, 2743: 4351, 2744: 4352, 2745: 4353, 2746: 4354, 2747: 4355, 2748: 4356, 2749: 4357, 2750: 4358, 2751: 4359, 2752: 4360, 2753: 4361, 2754: 4362, 2755: 4363, 2756: 4364, 2757: 4365, 2758: 4366, 2759: 4367, 2760: 4368, 2761: 4369, 2762: 4370, 2763: 4371, 2764: 4372, 2765: 4373, 2766: 4374, 2767: 4375, 2768: 4376, 2769: 4377, 2770: 4378, 2771: 4379, 2772: 4380, 2773: 4381, 2774: 4382, 2775: 4383, 2776: 4384, 2777: 4385, 2778: 4386, 2779: 4387, 2780: 4388, 2781: 4389, 2782: 4390, 2783: 4391, 2784: 4392, 2785: 4393, 2786: 4394, 2787: 4395, 2788: 4396, 2789: 4397, 2790: 4398, 2791: 4399, 2792: 4400, 2793: 4401, 2794: 4402, 2795: 4403, 2796: 4404, 2797: 4405, 2798: 4406, 2799: 4407, 2800: 4408, 2801: 4409, 2802: 4410, 2803: 4411, 2804: 4412, 2805: 4413, 2806: 4414, 2807: 4415, 2808: 4416, 2809: 4417, 2810: 4418, 2811: 4419, 2812: 4420, 2813: 4421, 2814: 4422, 2815: 4423, 2816: 4424, 2817: 4425, 2818: 4426, 2819: 4427, 2820: 4428, 2821: 4429, 2822: 4430, 2823: 4431, 2824: 4432, 2825: 4433, 2826: 4434, 2827: 4435, 2828: 4436, 2829: 4437, 2830: 4438, 2831: 4439, 2832: 4440, 2833: 4441, 2834: 4442, 2835: 4443, 2836: 4444, 2837: 4445, 2838: 4446, 2839: 4447, 2840: 4448, 2841: 4449, 2842: 4450, 2843: 4451, 2844: 4452, 2845: 4453, 2846: 4454, 2847: 4455, 2848: 4456, 2849: 4457, 2850: 4458, 2851: 4459, 2852: 4460, 2853: 4461, 2854: 4462, 2855: 4463, 2856: 4464, 2857: 4465, 2858: 4466, 2859: 4467, 2860: 4468, 2861: 4469, 2862: 4470, 2863: 4471, 2864: 4472, 2865: 4473, 2866: 4474, 2867: 4475, 2868: 4476, 2869: 4477, 2870: 4478, 2871: 4479, 2872: 4480, 2873: 4481, 2874: 4482, 2875: 4483, 2876: 4484, 2877: 4485, 2878: 4486, 2879: 4487, 2880: 4488, 2881: 4489, 2882: 4490, 2883: 4491, 2884: 4492, 2885: 4493, 2886: 4494, 2887: 4495, 2888: 4496, 2889: 4497, 2890: 4498, 2891: 4499, 2892: 4500, 2893: 4501, 2894: 4502, 2895: 4503, 2896: 4504, 2897: 4505, 2898: 4506, 2899: 4507, 2900: 4508, 2901: 4509, 2902: 4510, 2903: 4511, 2904: 4512, 2905: 4513, 2906: 4514, 2907: 4515, 2908: 4516, 2909: 4517, 2910: 4518, 2911: 4519, 2912: 4520, 2913: 4521, 2914: 4522, 2915: 4523, 2916: 4524, 2917: 4525, 2918: 4526, 2919: 4527, 2920: 4528, 2921: 4529, 2922: 4530, 2923: 4531, 2924: 4532, 2925: 4533, 2926: 4534, 2927: 4535, 2928: 4536, 2929: 4537, 2930: 4538, 2931: 4539, 2932: 4540, 2933: 4541, 2934: 4542, 2935: 4543, 2936: 4544, 2937: 4545, 2938: 4546, 2939: 4547, 2940: 4548, 2941: 4549, 2942: 4550, 2943: 4551, 2944: 4552, 2945: 4553, 2946: 4554, 2947: 4555, 2948: 4556, 2949: 4557, 2950: 4558, 2951: 4559, 2952: 4560, 2953: 4561, 2954: 4562, 2955: 4563, 2956: 4564, 2957: 4565, 2958: 4566, 2959: 4567, 2960: 4568, 2961: 4569, 2962: 4570, 2963: 4571, 2964: 4572, 2965: 4573, 2966: 4574, 2967: 4575, 2968: 4576, 2969: 4577, 2970: 4578, 2971: 4579, 2972: 4580, 2973: 4581, 2974: 4582, 2975: 4583, 2976: 4584, 2977: 4585, 2978: 4586, 2979: 4587, 2980: 4588, 2981: 4589, 2982: 4590, 2983: 4591, 2984: 4592, 2985: 4593, 2986: 4594, 2987: 4595, 2988: 4596, 2989: 4597, 2990: 4598, 2991: 4599, 2992: 4600, 2993: 4601, 2994: 4602, 2995: 4603, 2996: 4604, 2997: 4605, 2998: 4606, 2999: 4607, 3000: 4608, 3001: 4609, 3002: 4610, 3003: 4611, 3004: 4612, 3005: 4613, 3006: 4614, 3007: 4615, 3008: 4616, 3009: 4617, 3010: 4618, 3011: 4619, 3012: 4620, 3013: 4621, 3014: 4622, 3015: 4623, 3016: 4624, 3017: 4625, 3018: 4626, 3019: 4627, 3020: 4628, 3021: 4629, 3022: 4630, 3023: 4631, 3024: 4632, 3025: 4633, 3026: 4634, 3027: 4635, 3028: 4636, 3029: 4637, 3030: 4638, 3031: 4639, 3032: 4640, 3033: 4641, 3034: 4642, 3035: 4643, 3036: 4644, 3037: 4645, 3038: 4646, 3039: 4647, 3040: 4648, 3041: 4649, 3042: 4650, 3043: 4651, 3044: 4652, 3045: 4653, 3046: 4654, 3047: 4655, 3048: 4656, 3049: 4657, 3050: 4658, 3051: 4659, 3052: 4660, 3053: 4661, 3054: 4662, 3055: 4663, 3056: 4664, 3057: 4665, 3058: 4666, 3059: 4667, 3060: 4668, 3061: 4669, 3062: 4670, 3063: 4671, 3064: 4672, 3065: 4673, 3066: 4674, 3067: 4675, 3068: 4676, 3069: 4677, 3070: 4678, 3071: 4679, 3072: 4680, 3073: 4681, 3074: 4682, 3075: 4683, 3076: 4684, 3077: 4685, 3078: 4686, 3079: 4687, 3080: 4688, 3081: 4689, 3082: 4690, 3083: 4691, 3084: 4692, 3085: 4693, 3086: 4694, 3087: 4695, 3088: 4696, 3089: 4697, 3090: 4698, 3091: 4699, 3092: 4700, 3093: 4701, 3094: 4702, 3095: 4703, 3096: 4704, 3097: 4705, 3098: 4706, 3099: 4707, 3100: 4708, 3101: 4709, 3102: 4710, 3103: 4711, 3104: 4712, 3105: 4713, 3106: 4714, 3107: 4715, 3108: 4716, 3109: 4717, 3110: 4718, 3111: 4719, 3112: 4720, 3113: 4721, 3114: 4722, 3115: 4723, 3116: 4724, 3117: 4725, 3118: 4726, 3119: 4727, 3120: 4728, 3121: 4729, 3122: 4730, 3123: 4731, 3124: 4732, 3125: 4733, 3126: 4734, 3127: 4735, 3128: 4736, 3129: 4737, 3130: 4738, 3131: 4739, 3132: 4740, 3133: 4741, 3134: 4742, 3135: 4743, 3136: 4744, 3137: 4745, 3138: 4746, 3139: 4747, 3140: 4748, 3141: 4749, 3142: 4750, 3143: 4751, 3144: 4752, 3145: 4753, 3146: 4754, 3147: 4755, 3148: 4756, 3149: 4757, 3150: 4758, 3151: 4759, 3152: 4760, 3153: 4761, 3154: 4762, 3155: 4763, 3156: 4764, 3157: 4765, 3158: 4766, 3159: 4767, 3160: 4768, 3161: 4769, 3162: 4770, 3163: 4771, 3164: 4772, 3165: 4773, 3166: 4774, 3167: 4775, 3168: 4776, 3169: 4777, 3170: 4778, 3171: 4779, 3172: 4780, 3173: 4781, 3174: 4782, 3175: 4783, 3176: 4784, 3177: 4785, 3178: 4786, 3179: 4787, 3180: 4788, 3181: 4789, 3182: 4790, 3183: 4791, 3184: 4792, 3185: 4793, 3186: 4794, 3187: 4795, 3188: 4796, 3189: 4797, 3190: 4798, 3191: 4799, 3192: 4800, 3193: 4801, 3194: 4802, 3195: 4803, 3196: 4804, 3197: 4805, 3198: 4806, 3199: 4807, 3200: 4808, 3201: 4809, 3202: 4810, 3203: 4811, 3204: 4812, 3205: 4813, 3206: 4814, 3207: 4815, 3208: 4816, 3209: 4817, 3210: 4818, 3211: 4819, 3212: 4820, 3213: 4821, 3214: 4822, 3215: 4823, 3216: 4824, 3217: 4825, 3218: 4826, 3219: 4827, 3220: 4828, 3221: 4829, 3222: 4830, 3223: 4831, 3224: 4832, 3225: 4833, 3226: 4834, 3227: 4835, 3228: 4836, 3229: 4837, 3230: 4838, 3231: 4839, 3232: 4840, 3233: 4841, 3234: 4842, 3235: 4843, 3236: 4844, 3237: 4845, 3238: 4846, 3239: 4847, 3240: 4848, 3241: 4849, 3242: 4850, 3243: 4851, 3244: 4852, 3245: 4853, 3246: 4854, 3247: 4855, 3248: 4856, 3249: 4857, 3250: 4858, 3251: 4859, 3252: 4860, 3253: 4861, 3254: 4862, 3255: 4863, 3256: 4864, 3257: 4865, 3258: 4866, 3259: 4867, 3260: 4868, 3261: 4869, 3262: 4870, 3263: 4871, 3264: 4872, 3265: 4873, 3266: 4874, 3267: 4875, 3268: 4876, 3269: 4877, 3270: 4878, 3271: 4879, 3272: 4880, 3273: 4881, 3274: 4882, 3275: 4883, 3276: 4884, 3277: 4885, 3278: 4886, 3279: 4887, 3280: 4888, 3281: 4889, 3282: 4890, 3283: 4891, 3284: 4892, 3285: 4893, 3286: 4894, 3287: 4895, 3288: 4896, 3289: 4897, 3290: 4898, 3291: 4899, 3292: 4900, 3293: 4901, 3294: 4902, 3295: 4903, 3296: 4904, 3297: 4905, 3298: 4906, 3299: 4907, 3300: 4908, 3301: 4909, 3302: 4910, 3303: 4911, 3304: 4912, 3305: 4913, 3306: 4914, 3307: 4915, 3308: 4916, 3309: 4917, 3310: 4918, 3311: 4919, 3312: 4920, 3313: 4921, 3314: 4922, 3315: 4923, 3316: 4924, 3317: 4925, 3318: 4926, 3319: 4927, 3320: 4928, 3321: 4929, 3322: 4930, 3323: 4931, 3324: 4932, 3325: 4933, 3326: 4934, 3327: 4935, 3328: 4936, 3329: 4937, 3330: 4938, 3331: 4939, 3332: 4940, 3333: 4941, 3334: 4942, 3335: 4943, 3336: 4944, 3337: 4945, 3338: 4946, 3339: 4947, 3340: 4948, 3341: 4949, 3342: 4950, 3343: 4951, 3344: 4952, 3345: 4953, 3346: 4954, 3347: 4955, 3348: 4956, 3349: 4957, 3350: 4958, 3351: 4959, 3352: 4960, 3353: 4961, 3354: 4962, 3355: 4963, 3356: 4964, 3357: 4965, 3358: 4966, 3359: 4967, 3360: 4968, 3361: 4969, 3362: 4970, 3363: 4971, 3364: 4972, 3365: 4973, 3366: 4974, 3367: 4975, 3368: 4976, 3369: 4977, 3370: 4978, 3371: 4979, 3372: 4980, 3373: 4981, 3374: 4982, 3375: 4983, 3376: 4984, 3377: 4985, 3378: 4986, 3379: 4987, 3380: 4988, 3381: 4989, 3382: 4990, 3383: 4991, 3384: 4992, 3385: 4993, 3386: 4994, 3387: 4995, 3388: 4996, 3389: 4997, 3390: 4998, 3391: 4999, 3392: 5000, 3393: 5001, 3394: 5002, 3395: 5003, 3396: 5004, 3397: 5005, 3398: 5006, 3399: 5007, 3400: 5008, 3401: 5009, 3402: 5010, 3403: 5011, 3404: 5012, 3405: 5013, 3406: 5014, 3407: 5015, 3408: 5016, 3409: 5017, 3410: 5018, 3411: 5019, 3412: 5020, 3413: 5021, 3414: 5022, 3415: 5023, 3416: 5024, 3417: 5025, 3418: 5026, 3419: 5027, 3420: 5028, 3421: 5029, 3422: 5030, 3423: 5031, 3424: 5032, 3425: 5033, 3426: 5034, 3427: 5035, 3428: 5036, 3429: 5037, 3430: 5038, 3431: 5039, 3432: 5040, 3433: 5041, 3434: 5042, 3435: 5043, 3436: 5044, 3437: 5045, 3438: 5046, 3439: 5047, 3440: 5048, 3441: 5049, 3442: 5050, 3443: 5051, 3444: 5052, 3445: 5053, 3446: 5054, 3447: 5055, 3448: 5056, 3449: 5057, 3450: 5058, 3451: 5059, 3452: 5060, 3453: 5061, 3454: 5062, 3455: 5063, 3456: 5064, 3457: 5065, 3458: 5066, 3459: 5067, 3460: 5068, 3461: 5069, 3462: 5070, 3463: 5071, 3464: 5072, 3465: 5073, 3466: 5074, 3467: 5075, 3468: 5076, 3469: 5077, 3470: 5078, 3471: 5079, 3472: 5080, 3473: 5081, 3474: 5082, 3475: 5083, 3476: 5084, 3477: 5085, 3478: 5086, 3479: 5087, 3480: 5088, 3481: 5089, 3482: 5090, 3483: 5091, 3484: 5092, 3485: 5093, 3486: 5094, 3487: 5095, 3488: 5096, 3489: 5097, 3490: 5098, 3491: 5099, 3492: 5100, 3493: 5101, 3494: 5102, 3495: 5103, 3496: 5104, 3497: 5105, 3498: 5106, 3499: 5107, 3500: 5108, 3501: 5109, 3502: 5110, 3503: 5111, 3504: 5112, 3505: 5113, 3506: 5114, 3507: 5115, 3508: 5116, 3509: 5117, 3510: 5118, 3511: 5119, 3512: 5120, 3513: 5121, 3514: 5122, 3515: 5123, 3516: 5124, 3517: 5125, 3518: 5126, 3519: 5127, 3520: 5128, 3521: 5129, 3522: 5130, 3523: 5131, 3524: 5132, 3525: 5133, 3526: 5134, 3527: 5135, 3528: 5136, 3529: 5137, 3530: 5138, 3531: 5139, 3532: 5140, 3533: 5141, 3534: 5142, 3535: 5143, 3536: 5144, 3537: 5145, 3538: 5146, 3539: 5147, 3540: 5148, 3541: 5149, 3542: 5150, 3543: 5151, 3544: 5152, 3545: 5153, 3546: 5154, 3547: 5155, 3548: 5156, 3549: 5157, 3550: 5158, 3551: 5159, 3552: 5160, 3553: 5161, 3554: 5162, 3555: 5163, 3556: 5164, 3557: 5165, 3558: 5166, 3559: 5167, 3560: 5168, 3561: 5169, 3562: 5170, 3563: 5171, 3564: 5172, 3565: 5173, 3566: 5174, 3567: 5175, 3568: 5176, 3569: 5177, 3570: 5178, 3571: 5179, 3572: 5180, 3573: 5181, 3574: 5182, 3575: 5183, 3576: 5184, 3577: 5185, 3578: 5186, 3579: 5187, 3580: 5188, 3581: 5189, 3582: 5190, 3583: 5191, 3584: 5192, 3585: 5193, 3586: 5194, 3587: 5195, 3588: 5196, 3589: 5197, 3590: 5198, 3591: 5199, 3592: 5200, 3593: 5201, 3594: 5202, 3595: 5203, 3596: 5204, 3597: 5205, 3598: 5206, 3599: 5207, 3600: 5208, 3601: 5209, 3602: 5210, 3603: 5211, 3604: 5212, 3605: 5213, 3606: 5214, 3607: 5215, 3608: 5216, 3609: 5217, 3610: 5218, 3611: 5219, 3612: 5220, 3613: 5221, 3614: 5222, 3615: 5223, 3616: 5224, 3617: 5225, 3618: 5226, 3619: 5227, 3620: 5228, 3621: 5229, 3622: 5230, 3623: 5231, 3624: 5232, 3625: 5233, 3626: 5234, 3627: 5235, 3628: 5236, 3629: 5237, 3630: 5238, 3631: 5239, 3632: 5240, 3633: 5241, 3634: 5242, 3635: 5243, 3636: 5244, 3637: 5245, 3638: 5246, 3639: 5247, 3640: 5248, 3641: 5249, 3642: 5250, 3643: 5251, 3644: 5252, 3645: 5253, 3646: 5254, 3647: 5255, 3648: 5256, 3649: 5257, 3650: 5258, 3651: 5259, 3652: 5260, 3653: 5261, 3654: 5262, 3655: 5263, 3656: 5264, 3657: 5265, 3658: 5266, 3659: 5267, 3660: 5268, 3661: 5269, 3662: 5270, 3663: 5271, 3664: 5272, 3665: 5273, 3666: 5274, 3667: 5275, 3668: 5276, 3669: 5277, 3670: 5278, 3671: 5279, 3672: 5280, 3673: 5281, 3674: 5282, 3675: 5283, 3676: 5284, 3677: 5285, 3678: 5286, 3679: 5287, 3680: 5288, 3681: 5289, 3682: 5290, 3683: 5291, 3684: 5292, 3685: 5293, 3686: 5294, 3687: 5295, 3688: 5296, 3689: 5297, 3690: 5298, 3691: 5299, 3692: 5300, 3693: 5301, 3694: 5302, 3695: 5303, 3696: 5304, 3697: 5305, 3698: 5306, 3699: 5307, 3700: 5308, 3701: 5309, 3702: 5310, 3703: 5311, 3704: 5312, 3705: 5313, 3706: 5314, 3707: 5315, 3708: 5316, 3709: 5317, 3710: 5318, 3711: 5319, 3712: 5320, 3713: 5321, 3714: 5322, 3715: 5323, 3716: 5324, 3717: 5325, 3718: 5326, 3719: 5327, 3720: 5328, 3721: 5329, 3722: 5330, 3723: 5331, 3724: 5332, 3725: 5333, 3726: 5334, 3727: 5335, 3728: 5336, 3729: 5337, 3730: 5338, 3731: 5339, 3732: 5340, 3733: 5341, 3734: 5342, 3735: 5343, 3736: 5344, 3737: 5345, 3738: 5346, 3739: 5347, 3740: 5348, 3741: 5349, 3742: 5350, 3743: 5351, 3744: 5352, 3745: 5353, 3746: 5354, 3747: 5355, 3748: 5356, 3749: 5357, 3750: 5358, 3751: 5359, 3752: 5360, 3753: 5361, 3754: 5362, 3755: 5363, 3756: 5364, 3757: 5365, 3758: 5366, 3759: 5367, 3760: 5368, 3761: 5369, 3762: 5370, 3763: 5371, 3764: 5372, 3765: 5373, 3766: 5374, 3767: 5375, 3768: 5376, 3769: 5377, 3770: 5378, 3771: 5379, 3772: 5380, 3773: 5381, 3774: 5382, 3775: 5383, 3776: 5384, 3777: 5385, 3778: 5386, 3779: 5387, 3780: 5388, 3781: 5389, 3782: 5390, 3783: 5391, 3784: 5392, 3785: 5393, 3786: 5394, 3787: 5395, 3788: 5396, 3789: 5397, 3790: 5398, 3791: 5399, 3792: 5400, 3793: 5401, 3794: 5402, 3795: 5403, 3796: 5404, 3797: 5405, 3798: 5406, 3799: 5407, 3800: 5408, 3801: 5409, 3802: 5410, 3803: 5411, 3804: 5412, 3805: 5413, 3806: 5414, 3807: 5415, 3808: 5416, 3809: 5417, 3810: 5418, 3811: 5419, 3812: 5420, 3813: 5421, 3814: 5422, 3815: 5423, 3816: 5424, 3817: 5425, 3818: 5426, 3819: 5427, 3820: 5428, 3821: 5429, 3822: 5430, 3823: 5431, 3824: 5432, 3825: 5433, 3826: 5434, 3827: 5435, 3828: 5436, 3829: 5437, 3830: 5438, 3831: 5439, 3832: 5440, 3833: 5441, 3834: 5442, 3835: 5443, 3836: 5444, 3837: 5445, 3838: 5446, 3839: 5447, 3840: 5448, 3841: 5449, 3842: 5450, 3843: 5451, 3844: 5452, 3845: 5453, 3846: 5454, 3847: 5455, 3848: 5456, 3849: 5457, 3850: 5458, 3851: 5459, 3852: 5460, 3853: 5461, 3854: 5462, 3855: 5463, 3856: 5464, 3857: 5465, 3858: 5466, 3859: 5467, 3860: 5468, 3861: 5469, 3862: 5470, 3863: 5471, 3864: 5472, 3865: 5473, 3866: 5474, 3867: 5475, 3868: 5476, 3869: 5477, 3870: 5478, 3871: 5479, 3872: 5480, 3873: 5481, 3874: 5482, 3875: 5483, 3876: 5484, 3877: 5485, 3878: 5486, 3879: 5487, 3880: 5488, 3881: 5489, 3882: 5490, 3883: 5491, 3884: 5492, 3885: 5493, 3886: 5494, 3887: 5495, 3888: 5496, 3889: 5497, 3890: 5498, 3891: 5499, 3892: 5500, 3893: 5501, 3894: 5502, 3895: 5503, 3896: 5504, 3897: 5505, 3898: 5506, 3899: 5507, 3900: 5508, 3901: 5509, 3902: 5510, 3903: 5511, 3904: 5512, 3905: 5513, 3906: 5514, 3907: 5515, 3908: 5516, 3909: 5517, 3910: 5518, 3911: 5519, 3912: 5520, 3913: 5521, 3914: 5522, 3915: 5523, 3916: 5524, 3917: 5525, 3918: 5526, 3919: 5527, 3920: 5528, 3921: 5529, 3922: 5530, 3923: 5531, 3924: 5532, 3925: 5533, 3926: 5534, 3927: 5535, 3928: 5536, 3929: 5537, 3930: 5538, 3931: 5539, 3932: 5540, 3933: 5541, 3934: 5542, 3935: 5543, 3936: 5544, 3937: 5545, 3938: 5546, 3939: 5547, 3940: 5548, 3941: 5549, 3942: 5550, 3943: 5551, 3944: 5552, 3945: 5553, 3946: 5554, 3947: 5555, 3948: 5556, 3949: 5557, 3950: 5558, 3951: 5559, 3952: 5560, 3953: 5561, 3954: 5562, 3955: 5563, 3956: 5564, 3957: 5565, 3958: 5566, 3959: 5567, 3960: 5568, 3961: 5569, 3962: 5570, 3963: 5571, 3964: 5572, 3965: 5573, 3966: 5574, 3967: 5575, 3968: 5576, 3969: 5577, 3970: 5578, 3971: 5579, 3972: 5580, 3973: 5581, 3974: 5582, 3975: 5583, 3976: 5584, 3977: 5585, 3978: 5586, 3979: 5587, 3980: 5588, 3981: 5589, 3982: 5590, 3983: 5591, 3984: 5592, 3985: 5593, 3986: 5594, 3987: 5595, 3988: 5596, 3989: 5597, 3990: 5598, 3991: 5599, 3992: 5600, 3993: 5601, 3994: 5602, 3995: 5603, 3996: 5604, 3997: 5605, 3998: 5606, 3999: 5607, 4000: 5608, 4001: 5609, 4002: 5610, 4003: 5611, 4004: 5612, 4005: 5613, 4006: 5614, 4007: 5615, 4008: 5616, 4009: 5617, 4010: 5618, 4011: 5619, 4012: 5620, 4013: 5621, 4014: 5622, 4015: 5623, 4016: 5624, 4017: 5625, 4018: 5626, 4019: 5627, 4020: 5628, 4021: 5629, 4022: 5630, 4023: 5631, 4024: 5632, 4025: 5633, 4026: 5634, 4027: 5635, 4028: 5636, 4029: 5637, 4030: 5638, 4031: 5639, 4032: 5640, 4033: 5641, 4034: 5642, 4035: 5643, 4036: 5644, 4037: 5645, 4038: 5646, 4039: 5647, 4040: 5648, 4041: 5649, 4042: 5650, 4043: 5651, 4044: 5652, 4045: 5653, 4046: 5654, 4047: 5655, 4048: 5656, 4049: 5657, 4050: 5658, 4051: 5659, 4052: 5660, 4053: 5661, 4054: 5662, 4055: 5663, 4056: 5664, 4057: 5665, 4058: 5666, 4059: 5667, 4060: 5668, 4061: 5669, 4062: 5670, 4063: 5671, 4064: 5672, 4065: 5673, 4066: 5674, 4067: 5675, 4068: 5676, 4069: 5677, 4070: 5678, 4071: 5679, 4072: 5680, 4073: 5681, 4074: 5682, 4075: 5683, 4076: 5684, 4077: 5685, 4078: 5686, 4079: 5687, 4080: 5688, 4081: 5689, 4082: 5690, 4083: 5691, 4084: 5692, 4085: 5693, 4086: 5694, 4087: 5695, 4088: 5696, 4089: 5697, 4090: 5698, 4091: 5699, 4092: 5700, 4093: 5701, 4094: 5702, 4095: 5703, 4096: 5704, 4097: 5705, 4098: 5706, 4099: 5707, 4100: 5708, 4101: 5709, 4102: 5710, 4103: 5711, 4104: 5712, 4105: 5713, 4106: 5714, 4107: 5715, 4108: 5716, 4109: 5717, 4110: 5718, 4111: 5719, 4112: 5720, 4113: 5721, 4114: 5722, 4115: 5723, 4116: 5724, 4117: 5725, 4118: 5726, 4119: 5727, 4120: 5728, 4121: 5729, 4122: 5730, 4123: 5731, 4124: 5732, 4125: 5733, 4126: 5734, 4127: 5735, 4128: 5736, 4129: 5737, 4130: 5738, 4131: 5739, 4132: 5740, 4133: 5741, 4134: 5742, 4135: 5743, 4136: 5744, 4137: 5745, 4138: 5746, 4139: 5747, 4140: 5748, 4141: 5749, 4142: 5750, 4143: 5751, 4144: 5752, 4145: 5753, 4146: 5754, 4147: 5755, 4148: 5756, 4149: 5757, 4150: 5758, 4151: 5759, 4152: 5760, 4153: 5761, 4154: 5762, 4155: 5763, 4156: 5764, 4157: 5765, 4158: 5766, 4159: 5767, 4160: 5768, 4161: 5769, 4162: 5770, 4163: 5771, 4164: 5772, 4165: 5773, 4166: 5774, 4167: 5775, 4168: 5776, 4169: 5777, 4170: 5778, 4171: 5779, 4172: 5780, 4173: 5781, 4174: 5782, 4175: 5783, 4176: 5784, 4177: 5785, 4178: 5786, 4179: 5787, 4180: 5788, 4181: 5789, 4182: 5790, 4183: 5791, 4184: 5792, 4185: 5793, 4186: 5794, 4187: 5795, 4188: 5796, 4189: 5797, 4190: 5798, 4191: 5799, 4192: 5800, 4193: 5801, 4194: 5802, 4195: 5803, 4196: 5804, 4197: 5805, 4198: 5806, 4199: 5807, 4200: 5808, 4201: 5809, 4202: 5810, 4203: 5811, 4204: 5812, 4205: 5813, 4206: 5814, 4207: 5815, 4208: 5816, 4209: 5817, 4210: 5818, 4211: 5819, 4212: 5820, 4213: 5821, 4214: 5822, 4215: 5823, 4216: 5824, 4217: 5825, 4218: 5826, 4219: 5827, 4220: 5828, 4221: 5829, 4222: 5830, 4223: 5831, 4224: 5832, 4225: 5833, 4226: 5834, 4227: 5835, 4228: 5836, 4229: 5837, 4230: 5838, 4231: 5839, 4232: 5840, 4233: 5841, 4234: 5842, 4235: 5843, 4236: 5844, 4237: 5845, 4238: 5846, 4239: 5847, 4240: 5848, 4241: 5849, 4242: 5850, 4243: 5851, 4244: 5852, 4245: 5853, 4246: 5854, 4247: 5855, 4248: 5856, 4249: 5857, 4250: 5858, 4251: 5859, 4252: 5860, 4253: 5861, 4254: 5862, 4255: 5863, 4256: 5864, 4257: 5865, 4258: 5866, 4259: 5867, 4260: 5868, 4261: 5869, 4262: 5870, 4263: 5871, 4264: 5872, 4265: 5873, 4266: 5874, 4267: 5875, 4268: 5876, 4269: 5877, 4270: 5878, 4271: 5879, 4272: 5880, 4273: 5881, 4274: 5882, 4275: 5883, 4276: 5884, 4277: 5885, 4278: 5886, 4279: 5887, 4280: 5888, 4281: 5889, 4282: 5890, 4283: 5891, 4284: 5892, 4285: 5893, 4286: 5894, 4287: 5895, 4288: 5896, 4289: 5897, 4290: 5898, 4291: 5899, 4292: 5900, 4293: 5901, 4294: 5902, 4295: 5903, 4296: 5904, 4297: 5905, 4298: 5906, 4299: 5907, 4300: 5908, 4301: 5909, 4302: 5910, 4303: 5911, 4304: 5912, 4305: 5913, 4306: 5914, 4307: 5915, 4308: 5916, 4309: 5917, 4310: 5918, 4311: 5919, 4312: 5920, 4313: 5921, 4314: 5922, 4315: 5923, 4316: 5924, 4317: 5925, 4318: 5926, 4319: 5927, 4320: 5928, 4321: 5929, 4322: 5930, 4323: 5931, 4324: 5932, 4325: 5933, 4326: 5934, 4327: 5935, 4328: 5936, 4329: 5937, 4330: 5938, 4331: 5939, 4332: 5940, 4333: 5941, 4334: 5942, 4335: 5943, 4336: 5944, 4337: 5945, 4338: 5946, 4339: 5947, 4340: 5948, 4341: 5949, 4342: 5950, 4343: 5951, 4344: 5952, 4345: 5953, 4346: 5954, 4347: 5955, 4348: 5956, 4349: 5957, 4350: 5958, 4351: 5959, 4352: 5960, 4353: 5961, 4354: 5962, 4355: 5963, 4356: 5964, 4357: 5965, 4358: 5966, 4359: 5967, 4360: 5968, 4361: 5969, 4362: 5970, 4363: 5971, 4364: 5972, 4365: 5973, 4366: 5974, 4367: 5975, 4368: 5976, 4369: 5977, 4370: 5978, 4371: 5979, 4372: 5980, 4373: 5981, 4374: 5982, 4375: 5983, 4376: 5984, 4377: 5985, 4378: 5986, 4379: 5987, 4380: 5988, 4381: 5989, 4382: 5990, 4383: 5991, 4384: 5992, 4385: 5993, 4386: 5994, 4387: 5995, 4388: 5996, 4389: 5997, 4390: 5998, 4391: 5999, 4392: 6000, 4393: 6001, 4394: 6002, 4395: 6003, 4396: 6004, 4397: 6005, 4398: 6006, 4399: 6007, 4400: 6008, 4401: 6009, 4402: 6010, 4403: 6011, 4404: 6012, 4405: 6013, 4406: 6014, 4407: 6015, 4408: 6016, 4409: 6017, 4410: 6018, 4411: 6019, 4412: 6020, 4413: 6021, 4414: 6022, 4415: 6023, 4416: 6024, 4417: 6025, 4418: 6026, 4419: 6027, 4420: 6028, 4421: 6029, 4422: 6030, 4423: 6031, 4424: 6032, 4425: 6033, 4426: 6034, 4427: 6035, 4428: 6036, 4429: 6037, 4430: 6038, 4431: 6039, 4432: 6040, 4433: 6041, 4434: 6042, 4435: 6043, 4436: 6044, 4437: 6045, 4438: 6046, 4439: 6047, 4440: 6048, 4441: 6049, 4442: 6050, 4443: 6051, 4444: 6052, 4445: 6053, 4446: 6054, 4447: 6055, 4448: 6056, 4449: 6057, 4450: 6058, 4451: 6059, 4452: 6060, 4453: 6061, 4454: 6062, 4455: 6063, 4456: 6064, 4457: 6065, 4458: 6066, 4459: 6067, 4460: 6068, 4461: 6069, 4462: 6070, 4463: 6071, 4464: 6072, 4465: 6073, 4466: 6074, 4467: 6075, 4468: 6076, 4469: 6077, 4470: 6078, 4471: 6079, 4472: 6080, 4473: 6081, 4474: 6082, 4475: 6083, 4476: 6084, 4477: 6085, 4478: 6086, 4479: 6087, 4480: 6088, 4481: 6089, 4482: 6090, 4483: 6091, 4484: 6092, 4485: 6093, 4486: 6094, 4487: 6095, 4488: 6096, 4489: 6097, 4490: 6098, 4491: 6099, 4492: 6100, 4493: 6101, 4494: 6102, 4495: 6103, 4496: 6104, 4497: 6105, 4498: 6106, 4499: 6107, 4500: 6108, 4501: 6109, 4502: 6110, 4503: 6111, 4504: 6112, 4505: 6113, 4506: 6114, 4507: 6115, 4508: 6116, 4509: 6117, 4510: 6118, 4511: 6119, 4512: 6120, 4513: 6121, 4514: 6122, 4515: 6123, 4516: 6124, 4517: 6125, 4518: 6126, 4519: 6127, 4520: 6128, 4521: 6129, 4522: 6130, 4523: 6131, 4524: 6132, 4525: 6133, 4526: 6134, 4527: 6135, 4528: 6136, 4529: 6137, 4530: 6138, 4531: 6139, 4532: 6140, 4533: 6141, 4534: 6142, 4535: 6143, 4536: 6144, 4537: 6145, 4538: 6146, 4539: 6147, 4540: 6148, 4541: 6149, 4542: 6150, 4543: 6151, 4544: 6152, 4545: 6153, 4546: 6154, 4547: 6155, 4548: 6156, 4549: 6157, 4550: 6158, 4551: 6159, 4552: 6160, 4553: 6161, 4554: 6162, 4555: 6163, 4556: 6164, 4557: 6165, 4558: 6166, 4559: 6167, 4560: 6168, 4561: 6169, 4562: 6170, 4563: 6171, 4564: 6172, 4565: 6173, 4566: 6174, 4567: 6175, 4568: 6176, 4569: 6177, 4570: 6178, 4571: 6179, 4572: 6180, 4573: 6181, 4574: 6182, 4575: 6183, 4576: 6184, 4577: 6185, 4578: 6186, 4579: 6187, 4580: 6188, 4581: 6189, 4582: 6190, 4583: 6191, 4584: 6192, 4585: 6193, 4586: 6194, 4587: 6195, 4588: 6196, 4589: 6197, 4590: 6198, 4591: 6199, 4592: 6200, 4593: 6201, 4594: 6202, 4595: 6203, 4596: 6204, 4597: 6205, 4598: 6206, 4599: 6207, 4600: 6208, 4601: 6209, 4602: 6210, 4603: 6211, 4604: 6212, 4605: 6213, 4606: 6214, 4607: 6215, 4608: 6216, 4609: 6217, 4610: 6218, 4611: 6219, 4612: 6220, 4613: 6221, 4614: 6222, 4615: 6223, 4616: 6224, 4617: 6225, 4618: 6226, 4619: 6227, 4620: 6228, 4621: 6229, 4622: 6230, 4623: 6231, 4624: 6232, 4625: 6233, 4626: 6234, 4627: 6235, 4628: 6236, 4629: 6237, 4630: 6238, 4631: 6239, 4632: 6240, 4633: 6241, 4634: 6242, 4635: 6243, 4636: 6244, 4637: 6245, 4638: 6246, 4639: 6247, 4640: 6248, 4641: 6249, 4642: 6250, 4643: 6251, 4644: 6252, 4645: 6253, 4646: 6254, 4647: 6255, 4648: 6256, 4649: 6257, 4650: 6258, 4651: 6259, 4652: 6260, 4653: 6261, 4654: 6262, 4655: 6263, 4656: 6264, 4657: 6265, 4658: 6266, 4659: 6267, 4660: 6268, 4661: 6269, 4662: 6270, 4663: 6271, 4664: 6272, 4665: 6273, 4666: 6274, 4667: 6275, 4668: 6276, 4669: 6277, 4670: 6278, 4671: 6279, 4672: 6280, 4673: 6281, 4674: 6282, 4675: 6283, 4676: 6284, 4677: 6285, 4678: 6286, 4679: 6287, 4680: 6288, 4681: 6289, 4682: 6290, 4683: 6291, 4684: 6292, 4685: 6293, 4686: 6294, 4687: 6295, 4688: 6296, 4689: 6297, 4690: 6298, 4691: 6299, 4692: 6300, 4693: 6301, 4694: 6302, 4695: 6303, 4696: 6304, 4697: 6305, 4698: 6306, 4699: 6307, 4700: 6308, 4701: 6309, 4702: 6310, 4703: 6311, 4704: 6312, 4705: 6313, 4706: 6314, 4707: 6315, 4708: 6316, 4709: 6317, 4710: 6318, 4711: 6319, 4712: 6320, 4713: 6321, 4714: 6322, 4715: 6323, 4716: 6324, 4717: 6325, 4718: 6326, 4719: 6327, 4720: 6328, 4721: 6329, 4722: 6330, 4723: 6331, 4724: 6332, 4725: 6333, 4726: 6334, 4727: 6335, 4728: 6336, 4729: 6337, 4730: 6338, 4731: 6339, 4732: 6340, 4733: 6341, 4734: 6342, 4735: 6343, 4736: 6344, 4737: 6345, 4738: 6346, 4739: 6347, 4740: 6348, 4741: 6349, 4742: 6350, 4743: 6351, 4744: 6352, 4745: 6353, 4746: 6354, 4747: 6355, 4748: 6356, 4749: 6357, 4750: 6358, 4751: 6359, 4752: 6360, 4753: 6361, 4754: 6362, 4755: 6363, 4756: 6364, 4757: 6365, 4758: 6366, 4759: 6367, 4760: 6368, 4761: 6369, 4762: 6370, 4763: 6371, 4764: 6372, 4765: 6373, 4766: 6374, 4767: 6375, 4768: 6376, 4769: 6377, 4770: 6378, 4771: 6379, 4772: 6380, 4773: 6381, 4774: 6382, 4775: 6383, 4776: 6384, 4777: 6385, 4778: 6386, 4779: 6387, 4780: 6388, 4781: 6389, 4782: 6390, 4783: 6391, 4784: 6392, 4785: 6393, 4786: 6394, 4787: 6395, 4788: 6396, 4789: 6397, 4790: 6398, 4791: 6399, 4792: 6400, 4793: 6401, 4794: 6402, 4795: 6403, 4796: 6404, 4797: 6405, 4798: 6406, 4799: 6407, 4800: 6408, 4801: 6409, 4802: 6410, 4803: 6411, 4804: 6412, 4805: 6413, 4806: 6414, 4807: 6415, 4808: 6416, 4809: 6417, 4810: 6418, 4811: 6419, 4812: 6420, 4813: 6421, 4814: 6422, 4815: 6423, 4816: 6424, 4817: 6425, 4818: 6426, 4819: 6427, 4820: 6428, 4821: 6429, 4822: 6430, 4823: 6431, 4824: 6432, 4825: 6433, 4826: 6434, 4827: 6435, 4828: 6436, 4829: 6437, 4830: 6438, 4831: 6439, 4832: 6440, 4833: 6441, 4834: 6442, 4835: 6443, 4836: 6444, 4837: 6445, 4838: 6446, 4839: 6447, 4840: 6448, 4841: 6449, 4842: 6450, 4843: 6451, 4844: 6452, 4845: 6453, 4846: 6454, 4847: 6455, 4848: 6456, 4849: 6457, 4850: 6458, 4851: 6459, 4852: 6460, 4853: 6461, 4854: 6462, 4855: 6463, 4856: 6464, 4857: 6465, 4858: 6466, 4859: 6467, 4860: 6468, 4861: 6469, 4862: 6470, 4863: 6471, 4864: 6472, 4865: 6473, 4866: 6474, 4867: 6475, 4868: 6476, 4869: 6477, 4870: 6478, 4871: 6479, 4872: 6480, 4873: 6481, 4874: 6482, 4875: 6483, 4876: 6484, 4877: 6485, 4878: 6486, 4879: 6487, 4880: 6488, 4881: 6489, 4882: 6490, 4883: 6491, 4884: 6492, 4885: 6493, 4886: 6494, 4887: 6495, 4888: 6496, 4889: 6497, 4890: 6498, 4891: 6499, 4892: 6500, 4893: 6501, 4894: 6502, 4895: 6503, 4896: 6504, 4897: 6505, 4898: 6506, 4899: 6507, 4900: 6508, 4901: 6509, 4902: 6510, 4903: 6511, 4904: 6512, 4905: 6513, 4906: 6514, 4907: 6515, 4908: 6516, 4909: 6517, 4910: 6518, 4911: 6519, 4912: 6520, 4913: 6521, 4914: 6522, 4915: 6523, 4916: 6524, 4917: 6525, 4918: 6526, 4919: 6527, 4920: 6528, 4921: 6529, 4922: 6530, 4923: 6531, 4924: 6532, 4925: 6533, 4926: 6534, 4927: 6535, 4928: 6536, 4929: 6537, 4930: 6538, 4931: 6539, 4932: 6540, 4933: 6541, 4934: 6542, 4935: 6543, 4936: 6544, 4937: 6545, 4938: 6546, 4939: 6547, 4940: 6548, 4941: 6549, 4942: 6550, 4943: 6551, 4944: 6552, 4945: 6553, 4946: 6554, 4947: 6555, 4948: 6556, 4949: 6557, 4950: 6558, 4951: 6559, 4952: 6560, 4953: 6561, 4954: 6562, 4955: 6563, 4956: 6564, 4957: 6565, 4958: 6566, 4959: 6567, 4960: 6568, 4961: 6569, 4962: 6570, 4963: 6571, 4964: 6572, 4965: 6573, 4966: 6574, 4967: 6575, 4968: 6576, 4969: 6577, 4970: 6578, 4971: 6579, 4972: 6580, 4973: 6581, 4974: 6582, 4975: 6583, 4976: 6584, 4977: 6585, 4978: 6586, 4979: 6587, 4980: 6588, 4981: 6589, 4982: 6590, 4983: 6591, 4984: 6592, 4985: 6593, 4986: 6594, 4987: 6595, 4988: 6596, 4989: 6597, 4990: 6598, 4991: 6599, 4992: 6600, 4993: 6601, 4994: 6602, 4995: 6603, 4996: 6604, 4997: 6605, 4998: 6606, 4999: 6607, 5000: 6608, 5001: 6609, 5002: 6610, 5003: 6611, 5004: 6612, 5005: 6613, 5006: 6614, 5007: 6615, 5008: 6616, 5009: 6617, 5010: 6618, 5011: 6619, 5012: 6620, 5013: 6621, 5014: 6622, 5015: 6623, 5016: 6624, 5017: 6625, 5018: 6626, 5019: 6627, 5020: 6628, 5021: 6629, 5022: 6630, 5023: 6631, 5024: 6632, 5025: 6633, 5026: 6634, 5027: 6635, 5028: 6636, 5029: 6637, 5030: 6638, 5031: 6639, 5032: 6640, 5033: 6641, 5034: 6642, 5035: 6643, 5036: 6644, 5037: 6645, 5038: 6646, 5039: 6647, 5040: 6648, 5041: 6649, 5042: 6650, 5043: 6651, 5044: 6652, 5045: 6653, 5046: 6654, 5047: 6655, 5048: 6656, 5049: 6657, 5050: 6658, 5051: 6659, 5052: 6660, 5053: 6661, 5054: 6662, 5055: 6663, 5056: 6664, 5057: 6665, 5058: 6666, 5059: 6667, 5060: 6668, 5061: 6669, 5062: 6670, 5063: 6671, 5064: 6672, 5065: 6673, 5066: 6674, 5067: 6675, 5068: 6676, 5069: 6677, 5070: 6678, 5071: 6679, 5072: 6680, 5073: 6681, 5074: 6682, 5075: 6683, 5076: 6684, 5077: 6685, 5078: 6686, 5079: 6687, 5080: 6688, 5081: 6689, 5082: 6690, 5083: 6691, 5084: 6692, 5085: 6693, 5086: 6694, 5087: 6695, 5088: 6696, 5089: 6697, 5090: 6698, 5091: 6699, 5092: 6700, 5093: 6701, 5094: 6702, 5095: 6703, 5096: 6704, 5097: 6705, 5098: 6706, 5099: 6707, 5100: 6708, 5101: 6709, 5102: 6710, 5103: 6711, 5104: 6712, 5105: 6713, 5106: 6714, 5107: 6715, 5108: 6716, 5109: 6717, 5110: 6718, 5111: 6719, 5112: 6720, 5113: 6721, 5114: 6722, 5115: 6723, 5116: 6724, 5117: 6725, 5118: 6726, 5119: 6727, 5120: 6728, 5121: 6729, 5122: 6730, 5123: 6731, 5124: 6732, 5125: 6733, 5126: 6734, 5127: 6735, 5128: 6736, 5129: 6737, 5130: 6738, 5131: 6739, 5132: 6740, 5133: 6741, 5134: 6742, 5135: 6743, 5136: 6744, 5137: 6745, 5138: 6746, 5139: 6747, 5140: 6748, 5141: 6749, 5142: 6750, 5143: 6751, 5144: 6752, 5145: 6753, 5146: 6754, 5147: 6755, 5148: 6756, 5149: 6757, 5150: 6758, 5151: 6759, 5152: 6760, 5153: 6761, 5154: 6762, 5155: 6763, 5156: 6764, 5157: 6765, 5158: 6766, 5159: 6767, 5160: 6768, 5161: 6769, 5162: 6770, 5163: 6771, 5164: 6772, 5165: 6773, 5166: 6774, 5167: 6775, 5168: 6776, 5169: 6777, 5170: 6778, 5171: 6779, 5172: 6780, 5173: 6781, 5174: 6782, 5175: 6783, 5176: 6784, 5177: 6785, 5178: 6786, 5179: 6787, 5180: 6788, 5181: 6789, 5182: 6790, 5183: 6791, 5184: 6792, 5185: 6793, 5186: 6794, 5187: 6795, 5188: 6796, 5189: 6797, 5190: 6798, 5191: 6799, 5192: 6800, 5193: 6801, 5194: 6802, 5195: 6803, 5196: 6804, 5197: 6805, 5198: 6806, 5199: 6807, 5200: 6808, 5201: 6809, 5202: 6810, 5203: 6811, 5204: 6812, 5205: 6813, 5206: 6814, 5207: 6815, 5208: 6816, 5209: 6817, 5210: 6818, 5211: 6819, 5212: 6820, 5213: 6821, 5214: 6822, 5215: 6823, 5216: 6824, 5217: 6825, 5218: 6826, 5219: 6827, 5220: 6828, 5221: 6829, 5222: 6830, 5223: 6831, 5224: 6832, 5225: 6833, 5226: 6834, 5227: 6835, 5228: 6836, 5229: 6837, 5230: 6838, 5231: 6839, 5232: 6840, 5233: 6841, 5234: 6842, 5235: 6843, 5236: 6844, 5237: 6845, 5238: 6846, 5239: 6847, 5240: 6848, 5241: 6849, 5242: 6850, 5243: 6851, 5244: 6852, 5245: 6853, 5246: 6854, 5247: 6855, 5248: 6856, 5249: 6857, 5250: 6858, 5251: 6859, 5252: 6860, 5253: 6861, 5254: 6862, 5255: 6863, 5256: 6864, 5257: 6865, 5258: 6866, 5259: 6867, 5260: 6868, 5261: 6869, 5262: 6870, 5263: 6871, 5264: 6872, 5265: 6873, 5266: 6874, 5267: 6875, 5268: 6876, 5269: 6877, 5270: 6878, 5271: 6879, 5272: 6880, 5273: 6881, 5274: 6882, 5275: 6883, 5276: 6884, 5277: 6885, 5278: 6886, 5279: 6887, 5280: 6888, 5281: 6889, 5282: 6890, 5283: 6891, 5284: 6892, 5285: 6893, 5286: 6894, 5287: 6895, 5288: 6896, 5289: 6897, 5290: 6898, 5291: 6899, 5292: 6900, 5293: 6901, 5294: 6902, 5295: 6903, 5296: 6904, 5297: 6905, 5298: 6906, 5299: 6907, 5300: 6908, 5301: 6909, 5302: 6910, 5303: 6911, 5304: 6912, 5305: 6913, 5306: 6914, 5307: 6915, 5308: 6916, 5309: 6917, 5310: 6918, 5311: 6919, 5312: 6920, 5313: 6921, 5314: 6922, 5315: 6923, 5316: 6924, 5317: 6925, 5318: 6926, 5319: 6927, 5320: 6928, 5321: 6929, 5322: 6930, 5323: 6931, 5324: 6932, 5325: 6933, 5326: 6934, 5327: 6935, 5328: 6936, 5329: 6937, 5330: 6938, 5331: 6939, 5332: 6940, 5333: 6941, 5334: 6942, 5335: 6943, 5336: 6944, 5337: 6945, 5338: 6946, 5339: 6947, 5340: 6948, 5341: 6949, 5342: 6950, 5343: 6951, 5344: 6952, 5345: 6953, 5346: 6954, 5347: 6955, 5348: 6956, 5349: 6957, 5350: 6958, 5351: 6959, 5352: 6960, 5353: 6961, 5354: 6962, 5355: 6963, 5356: 6964, 5357: 6965, 5358: 6966, 5359: 6967, 5360: 6968, 5361: 6969, 5362: 6970, 5363: 6971, 5364: 6972, 5365: 6973, 5366: 6974, 5367: 6975, 5368: 6976, 5369: 6977, 5370: 6978, 5371: 6979, 5372: 6980, 5373: 6981, 5374: 6982, 5375: 6983, 5376: 6984, 5377: 6985, 5378: 6986, 5379: 6987, 5380: 6988, 5381: 6989, 5382: 6990, 5383: 6991, 5384: 6992, 5385: 6993, 5386: 6994, 5387: 6995, 5388: 6996, 5389: 6997, 5390: 6998, 5391: 6999, 5392: 7000, 5393: 7001, 5394: 7002, 5395: 7003, 5396: 7004, 5397: 7005, 5398: 7006, 5399: 7007, 5400: 7008, 5401: 7009, 5402: 7010, 5403: 7011, 5404: 7012, 5405: 7013, 5406: 7014, 5407: 7015, 5408: 7016, 5409: 7017, 5410: 7018, 5411: 7019, 5412: 7020, 5413: 7021, 5414: 7022, 5415: 7023, 5416: 7024, 5417: 7025, 5418: 7026, 5419: 7027, 5420: 7028, 5421: 7029, 5422: 7030, 5423: 7031, 5424: 7032, 5425: 7033, 5426: 7034, 5427: 7035, 5428: 7036, 5429: 7037, 5430: 7038, 5431: 7039, 5432: 7040, 5433: 7041, 5434: 7042, 5435: 7043, 5436: 7044, 5437: 7045, 5438: 7046, 5439: 7047, 5440: 7048, 5441: 7049, 5442: 7050, 5443: 7051, 5444: 7052, 5445: 7053, 5446: 7054, 5447: 7055, 5448: 7056, 5449: 7057, 5450: 7058, 5451: 7059, 5452: 7060, 5453: 7061, 5454: 7062, 5455: 7063, 5456: 7064, 5457: 7065, 5458: 7066, 5459: 7067, 5460: 7068, 5461: 7069, 5462: 7070, 5463: 7071, 5464: 7072, 5465: 7073, 5466: 7074, 5467: 7075, 5468: 7076, 5469: 7077, 5470: 7078, 5471: 7079, 5472: 7080, 5473: 7081, 5474: 7082, 5475: 7083, 5476: 7084, 5477: 7085, 5478: 7086, 5479: 7087, 5480: 7088, 5481: 7089, 5482: 7090, 5483: 7091, 5484: 7092, 5485: 7093, 5486: 7094, 5487: 7095, 5488: 7096, 5489: 7097, 5490: 7098, 5491: 7099, 5492: 7100, 5493: 7101, 5494: 7102, 5495: 7103, 5496: 7104, 5497: 7105, 5498: 7106, 5499: 7107, 5500: 7108, 5501: 7109, 5502: 7110, 5503: 7111, 5504: 7112, 5505: 7113, 5506: 7114, 5507: 7115, 5508: 7116, 5509: 7117, 5510: 7118, 5511: 7119, 5512: 7120, 5513: 7121, 5514: 7122, 5515: 7123, 5516: 7124, 5517: 7125, 5518: 7126, 5519: 7127, 5520: 7128, 5521: 7129, 5522: 7130, 5523: 7131, 5524: 7132, 5525: 7133, 5526: 7134, 5527: 7135, 5528: 7136, 5529: 7137, 5530: 7138, 5531: 7139, 5532: 7140, 5533: 7141, 5534: 7142, 5535: 7143, 5536: 7144, 5537: 7145, 5538: 7146, 5539: 7147, 5540: 7148, 5541: 7149, 5542: 7150, 5543: 7151, 5544: 7152, 5545: 7153, 5546: 7154, 5547: 7155, 5548: 7156, 5549: 7157, 5550: 7158, 5551: 7159, 5552: 7160, 5553: 7161, 5554: 7162, 5555: 7163, 5556: 7164, 5557: 7165, 5558: 7166, 5559: 7167, 5560: 7168, 5561: 7169, 5562: 7170, 5563: 7171, 5564: 7172, 5565: 7173, 5566: 7174, 5567: 7175, 5568: 7176, 5569: 7177, 5570: 7178, 5571: 7179, 5572: 7180, 5573: 7181, 5574: 7182, 5575: 7183, 5576: 7184, 5577: 7185, 5578: 7186, 5579: 7187, 5580: 7188, 5581: 7189, 5582: 7190, 5583: 7191, 5584: 7192, 5585: 7193, 5586: 7194, 5587: 7195, 5588: 7196, 5589: 7197, 5590: 7198, 5591: 7199, 5592: 7200, 5593: 7201, 5594: 7202, 5595: 7203, 5596: 7204, 5597: 7205, 5598: 7206, 5599: 7207, 5600: 7208, 5601: 7209, 5602: 7210, 5603: 7211, 5604: 7212, 5605: 7213, 5606: 7214, 5607: 7215, 5608: 7216, 5609: 7217, 5610: 7218, 5611: 7219, 5612: 7220, 5613: 7221, 5614: 7222, 5615: 7223, 5616: 7224, 5617: 7225, 5618: 7226, 5619: 7227, 5620: 7228, 5621: 7229, 5622: 7230, 5623: 7231, 5624: 7232, 5625: 7233, 5626: 7234, 5627: 7235, 5628: 7236, 5629: 7237, 5630: 7238, 5631: 7239, 5632: 7240, 5633: 7241, 5634: 7242, 5635: 7243, 5636: 7244, 5637: 7245, 5638: 7246, 5639: 7247, 5640: 7248, 5641: 7249, 5642: 7250, 5643: 7251, 5644: 7252, 5645: 7253, 5646: 7254, 5647: 7255, 5648: 7256, 5649: 7257, 5650: 7258, 5651: 7259, 5652: 7260, 5653: 7261, 5654: 7262, 5655: 7263, 5656: 7264, 5657: 7265, 5658: 7266, 5659: 7267, 5660: 7268, 5661: 7269, 5662: 7270, 5663: 7271, 5664: 7272, 5665: 7273, 5666: 7274, 5667: 7275, 5668: 7276, 5669: 7277, 5670: 7278, 5671: 7279, 5672: 7280, 5673: 7281, 5674: 7282, 5675: 7283, 5676: 7284, 5677: 7285, 5678: 7286, 5679: 7287, 5680: 7288, 5681: 7289, 5682: 7290, 5683: 7291, 5684: 7292, 5685: 7293, 5686: 7294, 5687: 7295, 5688: 7296, 5689: 7297, 5690: 7298, 5691: 7299, 5692: 7300, 5693: 7301, 5694: 7302, 5695: 7303, 5696: 7304, 5697: 7305, 5698: 7306, 5699: 7307, 5700: 7308, 5701: 7309, 5702: 7310, 5703: 7311, 5704: 7312, 5705: 7313, 5706: 7314, 5707: 7315, 5708: 7316, 5709: 7317, 5710: 7318, 5711: 7319, 5712: 7320, 5713: 7321, 5714: 7322, 5715: 7323, 5716: 7324, 5717: 7325, 5718: 7326, 5719: 7327, 5720: 7328, 5721: 7329, 5722: 7330, 5723: 7331, 5724: 7332, 5725: 7333, 5726: 7334, 5727: 7335, 5728: 7336, 5729: 7337, 5730: 7338, 5731: 7339, 5732: 7340, 5733: 7341, 5734: 7342, 5735: 7343, 5736: 7344, 5737: 7345, 5738: 7346, 5739: 7347, 5740: 7348, 5741: 7349, 5742: 7350, 5743: 7351, 5744: 7352, 5745: 7353, 5746: 7354, 5747: 7355, 5748: 7356, 5749: 7357, 5750: 7358, 5751: 7359, 5752: 7360, 5753: 7361, 5754: 7362, 5755: 7363, 5756: 7364, 5757: 7365, 5758: 7366, 5759: 7367, 5760: 7368, 5761: 7369, 5762: 7370, 5763: 7371, 5764: 7372, 5765: 7373, 5766: 7374, 5767: 7375, 5768: 7376, 5769: 7377, 5770: 7378, 5771: 7379, 5772: 7380, 5773: 7381, 5774: 7382, 5775: 7383, 5776: 7384, 5777: 7385, 5778: 7386, 5779: 7387, 5780: 7388, 5781: 7389, 5782: 7390, 5783: 7391, 5784: 7392, 5785: 7393, 5786: 7394, 5787: 7395, 5788: 7396, 5789: 7397, 5790: 7398, 5791: 7399, 5792: 7400, 5793: 7401, 5794: 7402, 5795: 7403, 5796: 7404, 5797: 7405, 5798: 7406, 5799: 7407, 5800: 7408, 5801: 7409, 5802: 7410, 5803: 7411, 5804: 7412, 5805: 7413, 5806: 7414, 5807: 7415, 5808: 7416, 5809: 7417, 5810: 7418, 5811: 7419, 5812: 7420, 5813: 7421, 5814: 7422, 5815: 7423, 5816: 7424, 5817: 7425, 5818: 7426, 5819: 7427, 5820: 7428, 5821: 7429, 5822: 7430, 5823: 7431, 5824: 7432, 5825: 7433, 5826: 7434, 5827: 7435, 5828: 7436, 5829: 7437, 5830: 7438, 5831: 7439, 5832: 7440, 5833: 7441, 5834: 7442, 5835: 7443, 5836: 7444, 5837: 7445, 5838: 7446, 5839: 7447, 5840: 7448, 5841: 7449, 5842: 7450, 5843: 7451, 5844: 7452, 5845: 7453, 5846: 7454, 5847: 7455, 5848: 7456, 5849: 7457, 5850: 7458, 5851: 7459, 5852: 7460, 5853: 7461, 5854: 7462, 5855: 7463, 5856: 7464, 5857: 7465, 5858: 7466, 5859: 7467, 5860: 7468, 5861: 7469, 5862: 7470, 5863: 7471, 5864: 7472, 5865: 7473, 5866: 7474, 5867: 7475, 5868: 7476, 5869: 7477, 5870: 7478, 5871: 7479, 5872: 7480, 5873: 7481, 5874: 7482, 5875: 7483, 5876: 7484, 5877: 7485, 5878: 7486, 5879: 7487, 5880: 7488, 5881: 7489, 5882: 7490, 5883: 7491, 5884: 7492, 5885: 7493, 5886: 7494, 5887: 7495, 5888: 7496, 5889: 7497, 5890: 7498, 5891: 7499, 5892: 7500, 5893: 7501, 5894: 7502, 5895: 7503, 5896: 7504, 5897: 7505, 5898: 7506, 5899: 7507, 5900: 7508, 5901: 7509, 5902: 7510, 5903: 7511, 5904: 7512, 5905: 7513, 5906: 7514, 5907: 7515, 5908: 7516, 5909: 7517, 5910: 7518, 5911: 7519, 5912: 7520, 5913: 7521, 5914: 7522, 5915: 7523, 5916: 7524, 5917: 7525, 5918: 7526, 5919: 7527, 5920: 7528, 5921: 7529, 5922: 7530, 5923: 7531, 5924: 7532, 5925: 7533, 5926: 7534, 5927: 7535, 5928: 7536, 5929: 7537, 5930: 7538, 5931: 7539, 5932: 7540, 5933: 7541, 5934: 7542, 5935: 7543, 5936: 7544, 5937: 7545, 5938: 7546, 5939: 7547, 5940: 7548, 5941: 7549, 5942: 7550, 5943: 7551, 5944: 7552, 5945: 7553, 5946: 7554, 5947: 7555, 5948: 7556, 5949: 7557, 5950: 7558, 5951: 7559, 5952: 7560, 5953: 7561, 5954: 7562, 5955: 7563, 5956: 7564, 5957: 7565, 5958: 7566, 5959: 7567, 5960: 7568, 5961: 7569, 5962: 7570, 5963: 7571, 5964: 7572, 5965: 7573, 5966: 7574, 5967: 7575, 5968: 7576, 5969: 7577, 5970: 7578, 5971: 7579, 5972: 7580, 5973: 7581, 5974: 7582, 5975: 7583, 5976: 7584, 5977: 7585, 5978: 7586, 5979: 7587, 5980: 7588, 5981: 7589, 5982: 7590, 5983: 7591, 5984: 7592, 5985: 7593, 5986: 7594, 5987: 7595, 5988: 7596, 5989: 7597, 5990: 7598, 5991: 7599, 5992: 7600, 5993: 7601, 5994: 7602, 5995: 7603, 5996: 7604, 5997: 7605, 5998: 7606, 5999: 7607, 6000: 7608, 6001: 7609, 6002: 7610, 6003: 7611, 6004: 7612, 6005: 7613, 6006: 7614, 6007: 7615, 6008: 7616, 6009: 7617, 6010: 7618, 6011: 7619, 6012: 7620, 6013: 7621, 6014: 7622, 6015: 7623, 6016: 7624, 6017: 7625, 6018: 7626, 6019: 7627, 6020: 7628, 6021: 7629, 6022: 7630, 6023: 7631, 6024: 7632, 6025: 7633, 6026: 7634, 6027: 7635, 6028: 7636, 6029: 7637, 6030: 7638, 6031: 7639, 6032: 7640, 6033: 7641, 6034: 7642, 6035: 7643, 6036: 7644, 6037: 7645, 6038: 7646, 6039: 7647, 6040: 7648, 6041: 7649, 6042: 7650, 6043: 7651, 6044: 7652, 6045: 7653, 6046: 7654, 6047: 7655, 6048: 7656, 6049: 7657, 6050: 7658, 6051: 7659, 6052: 7660, 6053: 7661, 6054: 7662, 6055: 7663, 6056: 7664, 6057: 7665, 6058: 7666, 6059: 7667, 6060: 7668, 6061: 7669, 6062: 7670, 6063: 7671, 6064: 7672, 6065: 7673, 6066: 7674, 6067: 7675, 6068: 7676, 6069: 7677, 6070: 7678, 6071: 7679, 6072: 7680, 6073: 7681, 6074: 7682, 6075: 7683, 6076: 7684, 6077: 7685, 6078: 7686, 6079: 7687, 6080: 7688, 6081: 7689, 6082: 7690, 6083: 7691, 6084: 7692, 6085: 7693, 6086: 7694, 6087: 7695, 6088: 7696, 6089: 7697, 6090: 7698, 6091: 7699, 6092: 7700, 6093: 7701, 6094: 7702, 6095: 7703, 6096: 7704, 6097: 7705, 6098: 7706, 6099: 7707, 6100: 7708, 6101: 7709, 6102: 7710, 6103: 7711, 6104: 7712, 6105: 7713, 6106: 7714, 6107: 7715, 6108: 7716, 6109: 7717, 6110: 7718, 6111: 7719, 6112: 7720, 6113: 7721, 6114: 7722, 6115: 7723, 6116: 7724, 6117: 7725, 6118: 7726, 6119: 7727, 6120: 7728, 6121: 7729, 6122: 7730, 6123: 7731, 6124: 7732, 6125: 7733, 6126: 7734, 6127: 7735, 6128: 7736, 6129: 7737, 6130: 7738, 6131: 7739, 6132: 7740, 6133: 7741, 6134: 7742, 6135: 7743, 6136: 7744, 6137: 7745, 6138: 7746, 6139: 7747, 6140: 7748, 6141: 7749, 6142: 7750, 6143: 7751, 6144: 7752, 6145: 7753, 6146: 7754, 6147: 7755, 6148: 7756, 6149: 7757, 6150: 7758, 6151: 7759, 6152: 7760, 6153: 7761, 6154: 7762, 6155: 7763, 6156: 7764, 6157: 7765, 6158: 7766, 6159: 7767, 6160: 7768, 6161: 7769, 6162: 7770, 6163: 7771, 6164: 7772, 6165: 7773, 6166: 7774, 6167: 7775, 6168: 7776, 6169: 7777, 6170: 7778, 6171: 7779, 6172: 7780, 6173: 7781, 6174: 7782, 6175: 7783, 6176: 7784, 6177: 7785, 6178: 7786, 6179: 7787, 6180: 7788, 6181: 7789, 6182: 7790, 6183: 7791, 6184: 7792, 6185: 7793, 6186: 7794, 6187: 7795, 6188: 7796, 6189: 7797, 6190: 7798, 6191: 7799, 6192: 7800, 6193: 7801, 6194: 7802, 6195: 7803, 6196: 7804, 6197: 7805, 6198: 7806, 6199: 7807, 6200: 7808, 6201: 7809, 6202: 7810, 6203: 7811, 6204: 7812, 6205: 7813, 6206: 7814, 6207: 7815, 6208: 7816, 6209: 7817, 6210: 7818, 6211: 7819, 6212: 7820, 6213: 7821, 6214: 7822, 6215: 7823, 6216: 7824, 6217: 7825, 6218: 7826, 6219: 7827, 6220: 7828, 6221: 7829, 6222: 7830, 6223: 7831, 6224: 7832, 6225: 7833, 6226: 7834, 6227: 7835, 6228: 7836, 6229: 7837, 6230: 7838, 6231: 7839, 6232: 7840, 6233: 7841, 6234: 7842, 6235: 7843, 6236: 7844, 6237: 7845, 6238: 7846, 6239: 7847, 6240: 7848, 6241: 7849, 6242: 7850, 6243: 7851, 6244: 7852, 6245: 7853, 6246: 7854, 6247: 7855, 6248: 7856, 6249: 7857, 6250: 7858, 6251: 7859, 6252: 7860, 6253: 7861, 6254: 7862, 6255: 7863, 6256: 7864, 6257: 7865, 6258: 7866, 6259: 7867, 6260: 7868, 6261: 7869, 6262: 7870, 6263: 7871, 6264: 7872, 6265: 7873, 6266: 7874, 6267: 7875, 6268: 7876, 6269: 7877, 6270: 7878, 6271: 7879, 6272: 7880, 6273: 7881, 6274: 7882, 6275: 7883, 6276: 7884, 6277: 7885, 6278: 7886, 6279: 7887, 6280: 7888, 6281: 7889, 6282: 7890, 6283: 7891, 6284: 7892, 6285: 7893, 6286: 7894, 6287: 7895, 6288: 7896, 6289: 7897, 6290: 7898, 6291: 7899, 6292: 7900, 6293: 7901, 6294: 7902, 6295: 7903, 6296: 7904, 6297: 7905, 6298: 7906, 6299: 7907, 6300: 7908, 6301: 7909, 6302: 7910, 6303: 7911, 6304: 7912, 6305: 7913, 6306: 7914, 6307: 7915, 6308: 7916, 6309: 7917, 6310: 7918, 6311: 7919, 6312: 7920, 6313: 7921, 6314: 7922, 6315: 7923, 6316: 7924, 6317: 7925, 6318: 7926, 6319: 7927, 6320: 7928, 6321: 7929, 6322: 7930, 6323: 7931, 6324: 7932, 6325: 7933, 6326: 7934, 6327: 7935, 6328: 7936, 6329: 7937, 6330: 7938, 6331: 7939, 6332: 7940, 6333: 7941, 6334: 7942, 6335: 7943, 6336: 7944, 6337: 7945, 6338: 7946, 6339: 7947, 6340: 7948, 6341: 7949, 6342: 7950, 6343: 7951, 6344: 7952, 6345: 7953, 6346: 7954, 6347: 7955, 6348: 7956, 6349: 7957, 6350: 7958, 6351: 7959, 6352: 7960, 6353: 7961, 6354: 7962, 6355: 7963, 6356: 7964, 6357: 7965, 6358: 7966, 6359: 7967, 6360: 7968, 6361: 7969, 6362: 7970, 6363: 7971, 6364: 7972, 6365: 7973, 6366: 7974, 6367: 7975, 6368: 7976, 6369: 7977, 6370: 7978, 6371: 7979, 6372: 7980, 6373: 7981, 6374: 7982, 6375: 7983, 6376: 7984, 6377: 7985, 6378: 7986, 6379: 7987, 6380: 7988, 6381: 7989, 6382: 7990, 6383: 7991, 6384: 7992, 6385: 7993, 6386: 7994, 6387: 7995, 6388: 7996, 6389: 7997, 6390: 7998, 6391: 7999, 6392: 8000, 6393: 8001, 6394: 8002, 6395: 8003, 6396: 8004, 6397: 8005, 6398: 8006, 6399: 8007, 6400: 8008, 6401: 8009, 6402: 8010, 6403: 8011, 6404: 8012, 6405: 8013, 6406: 8014, 6407: 8015, 6408: 8016, 6409: 8017, 6410: 8018, 6411: 8019, 6412: 8020, 6413: 8021, 6414: 8022, 6415: 8023, 6416: 8024, 6417: 8025, 6418: 8026, 6419: 8027, 6420: 8028, 6421: 8029, 6422: 8030, 6423: 8031, 6424: 8032, 6425: 8033, 6426: 8034, 6427: 8035, 6428: 8036, 6429: 8037, 6430: 8038, 6431: 8039, 6432: 8040, 6433: 8041, 6434: 8042, 6435: 8043, 6436: 8044, 6437: 8045, 6438: 8046, 6439: 8047, 6440: 8048, 6441: 8049, 6442: 8050, 6443: 8051, 6444: 8052, 6445: 8053, 6446: 8054, 6447: 8055, 6448: 8056, 6449: 8057, 6450: 8058, 6451: 8059, 6452: 8060, 6453: 8061, 6454: 8062, 6455: 8063, 6456: 8064, 6457: 8065, 6458: 8066, 6459: 8067, 6460: 8068, 6461: 8069, 6462: 8070, 6463: 8071, 6464: 8072, 6465: 8073, 6466: 8074, 6467: 8075, 6468: 8076, 6469: 8077, 6470: 8078, 6471: 8079, 6472: 8080, 6473: 8081, 6474: 8082, 6475: 8083, 6476: 8084, 6477: 8085, 6478: 8086, 6479: 8087, 6480: 8088, 6481: 8089, 6482: 8090, 6483: 8091, 6484: 8092, 6485: 8093, 6486: 8094, 6487: 8095, 6488: 8096, 6489: 8097, 6490: 8098, 6491: 8099, 6492: 8100, 6493: 8101, 6494: 8102, 6495: 8103, 6496: 8104, 6497: 8105, 6498: 8106, 6499: 8107, 6500: 8108, 6501: 8109, 6502: 8110, 6503: 8111, 6504: 8112, 6505: 8113, 6506: 8114, 6507: 8115, 6508: 8116, 6509: 8117, 6510: 8118, 6511: 8119, 6512: 8120, 6513: 8121, 6514: 8122, 6515: 8123, 6516: 8124, 6517: 8125, 6518: 8126, 6519: 8127, 6520: 8128, 6521: 8129, 6522: 8130, 6523: 8131, 6524: 8132, 6525: 8133, 6526: 8134, 6527: 8135, 6528: 8136, 6529: 8137, 6530: 8138, 6531: 8139, 6532: 8140, 6533: 8141, 6534: 8142, 6535: 8143, 6536: 8144, 6537: 8145, 6538: 8146, 6539: 8147, 6540: 8148, 6541: 8149, 6542: 8150, 6543: 8151, 6544: 8152, 6545: 8153, 6546: 8154, 6547: 8155, 6548: 8156, 6549: 8157, 6550: 8158, 6551: 8159, 6552: 8160, 6553: 8161, 6554: 8162, 6555: 8163, 6556: 8164, 6557: 8165, 6558: 8166, 6559: 8167, 6560: 8168, 6561: 8169, 6562: 8170, 6563: 8171, 6564: 8172, 6565: 8173, 6566: 8174, 6567: 8175, 6568: 8176, 6569: 8177, 6570: 8178, 6571: 8179, 6572: 8180, 6573: 8181, 6574: 8182, 6575: 8183, 6576: 8184, 6577: 8185, 6578: 8186, 6579: 8187, 6580: 8188, 6581: 8189, 6582: 8190, 6583: 8191, 6584: 8192, 6585: 8193, 6586: 8194, 6587: 8195, 6588: 8196, 6589: 8197, 6590: 8198, 6591: 8199, 6592: 8200, 6593: 8201, 6594: 8202, 6595: 8203, 6596: 8204, 6597: 8205, 6598: 8206, 6599: 8207, 6600: 8208, 6601: 8209, 6602: 8210, 6603: 8211, 6604: 8212, 6605: 8213, 6606: 8214, 6607: 8215, 6608: 8216, 6609: 8217, 6610: 8218, 6611: 8219, 6612: 8220, 6613: 8221, 6614: 8222, 6615: 8223, 6616: 8224, 6617: 8225, 6618: 8226, 6619: 8227, 6620: 8228, 6621: 8229, 6622: 8230, 6623: 8231, 6624: 8232, 6625: 8233, 6626: 8234, 6627: 8235, 6628: 8236, 6629: 8237, 6630: 8238, 6631: 8239, 6632: 8240, 6633: 8241, 6634: 8242, 6635: 8243, 6636: 8244, 6637: 8245, 6638: 8246, 6639: 8247, 6640: 8248, 6641: 8249, 6642: 8250, 6643: 8251, 6644: 8252, 6645: 8253, 6646: 8254, 6647: 8255, 6648: 8256, 6649: 8257, 6650: 8258, 6651: 8259, 6652: 8260, 6653: 8261, 6654: 8262, 6655: 8263, 6656: 8264, 6657: 8265, 6658: 8266, 6659: 8267, 6660: 8268, 6661: 8269, 6662: 8270, 6663: 8271, 6664: 8272, 6665: 8273, 6666: 8274, 6667: 8275, 6668: 8276, 6669: 8277, 6670: 8278, 6671: 8279, 6672: 8280, 6673: 8281, 6674: 8282, 6675: 8283, 6676: 8284, 6677: 8285, 6678: 8286, 6679: 8287, 6680: 8288, 6681: 8289, 6682: 8290, 6683: 8291, 6684: 8292, 6685: 8293, 6686: 8294, 6687: 8295, 6688: 8296, 6689: 8297, 6690: 8298, 6691: 8299, 6692: 8300, 6693: 8301, 6694: 8302, 6695: 8303, 6696: 8304, 6697: 8305, 6698: 8306, 6699: 8307, 6700: 8308, 6701: 8309, 6702: 8310, 6703: 8311, 6704: 8312, 6705: 8313, 6706: 8314, 6707: 8315, 6708: 8316, 6709: 8317, 6710: 8318, 6711: 8319, 6712: 8320, 6713: 8321, 6714: 8322, 6715: 8323, 6716: 8324, 6717: 8325, 6718: 8326, 6719: 8327, 6720: 8328, 6721: 8329, 6722: 8330, 6723: 8331, 6724: 8332, 6725: 8333, 6726: 8334, 6727: 8335, 6728: 8336, 6729: 8337, 6730: 8338, 6731: 8339, 6732: 8340, 6733: 8341, 6734: 8342, 6735: 8343, 6736: 8344, 6737: 8345, 6738: 8346, 6739: 8347, 6740: 8348, 6741: 8349, 6742: 8350, 6743: 8351, 6744: 8352, 6745: 8353, 6746: 8354, 6747: 8355, 6748: 8356, 6749: 8357, 6750: 8358, 6751: 8359, 6752: 8360, 6753: 8361, 6754: 8362, 6755: 8363, 6756: 8364, 6757: 8365, 6758: 8366, 6759: 8367, 6760: 8368, 6761: 8369, 6762: 8370, 6763: 8371, 6764: 8372, 6765: 8373, 6766: 8374, 6767: 8375, 6768: 8376, 6769: 8377, 6770: 8378, 6771: 8379, 6772: 8380, 6773: 8381, 6774: 8382, 6775: 8383, 6776: 8384, 6777: 8385, 6778: 8386, 6779: 8387, 6780: 8388, 6781: 8389, 6782: 8390, 6783: 8391, 6784: 8392, 6785: 8393, 6786: 8394, 6787: 8395, 6788: 8396, 6789: 8397, 6790: 8398, 6791: 8399, 6792: 8400, 6793: 8401, 6794: 8402, 6795: 8403, 6796: 8404, 6797: 8405, 6798: 8406, 6799: 8407, 6800: 8408, 6801: 8409, 6802: 8410, 6803: 8411, 6804: 8412, 6805: 8413, 6806: 8414, 6807: 8415, 6808: 8416, 6809: 8417, 6810: 8418, 6811: 8419, 6812: 8420, 6813: 8421, 6814: 8422, 6815: 8423, 6816: 8424, 6817: 8425, 6818: 8426, 6819: 8427, 6820: 8428, 6821: 8429, 6822: 8430, 6823: 8431, 6824: 8432, 6825: 8433, 6826: 8434, 6827: 8435, 6828: 8436, 6829: 8437, 6830: 8438, 6831: 8439, 6832: 8440, 6833: 8441, 6834: 8442, 6835: 8443, 6836: 8444, 6837: 8445, 6838: 8446, 6839: 8447, 6840: 8448, 6841: 8449, 6842: 8450, 6843: 8451, 6844: 8452, 6845: 8453, 6846: 8454, 6847: 8455, 6848: 8456, 6849: 8457, 6850: 8458, 6851: 8459, 6852: 8460, 6853: 8461, 6854: 8462, 6855: 8463, 6856: 8464, 6857: 8465, 6858: 8466, 6859: 8467, 6860: 8468, 6861: 8469, 6862: 8470, 6863: 8471, 6864: 8472, 6865: 8473, 6866: 8474, 6867: 8475, 6868: 8476, 6869: 8477, 6870: 8478, 6871: 8479, 6872: 8480, 6873: 8481, 6874: 8482, 6875: 8483, 6876: 8484, 6877: 8485, 6878: 8486, 6879: 8487, 6880: 8488, 6881: 8489, 6882: 8490, 6883: 8491, 6884: 8492, 6885: 8493, 6886: 8494, 6887: 8495, 6888: 8496, 6889: 8497, 6890: 8498, 6891: 8499, 6892: 8500, 6893: 8501, 6894: 8502, 6895: 8503, 6896: 8504, 6897: 8505, 6898: 8506, 6899: 8507, 6900: 8508, 6901: 8509, 6902: 8510, 6903: 8511, 6904: 8512, 6905: 8513, 6906: 8514, 6907: 8515, 6908: 8516, 6909: 8517, 6910: 8518, 6911: 8519, 6912: 8520, 6913: 8521, 6914: 8522, 6915: 8523, 6916: 8524, 6917: 8525, 6918: 8526, 6919: 8527, 6920: 8528, 6921: 8529, 6922: 8530, 6923: 8531, 6924: 8532, 6925: 8533, 6926: 8534, 6927: 8535, 6928: 8536, 6929: 8537, 6930: 8538, 6931: 8539, 6932: 8540, 6933: 8541, 6934: 8542, 6935: 8543, 6936: 8544, 6937: 8545, 6938: 8546, 6939: 8547, 6940: 8548, 6941: 8549, 6942: 8550, 6943: 8551, 6944: 8552, 6945: 8553, 6946: 8554, 6947: 8555, 6948: 8556, 6949: 8557, 6950: 8558, 6951: 8559, 6952: 8560, 6953: 8561, 6954: 8562, 6955: 8563, 6956: 8564, 6957: 8565, 6958: 8566, 6959: 8567, 6960: 8568, 6961: 8569, 6962: 8570, 6963: 8571, 6964: 8572, 6965: 8573, 6966: 8574, 6967: 8575, 6968: 8576, 6969: 8577, 6970: 8578, 6971: 8579, 6972: 8580, 6973: 8581, 6974: 8582, 6975: 8583, 6976: 8584, 6977: 8585, 6978: 8586, 6979: 8587, 6980: 8588, 6981: 8589, 6982: 8590, 6983: 8591, 6984: 8592, 6985: 8593, 6986: 8594, 6987: 8595, 6988: 8596, 6989: 8597, 6990: 8598, 6991: 8599, 6992: 8600, 6993: 8601, 6994: 8602, 6995: 8603, 6996: 8604, 6997: 8605, 6998: 8606, 6999: 8607, 7000: 8608, 7001: 8609, 7002: 8610, 7003: 8611, 7004: 8612, 7005: 8613, 7006: 8614, 7007: 8615, 7008: 8616, 7009: 8617, 7010: 8618, 7011: 8619, 7012: 8620, 7013: 8621, 7014: 8622, 7015: 8623, 7016: 8624, 7017: 8625, 7018: 8626, 7019: 8627, 7020: 8628, 7021: 8629, 7022: 8630, 7023: 8631, 7024: 8632, 7025: 8633, 7026: 8634, 7027: 8635, 7028: 8636, 7029: 8637, 7030: 8638, 7031: 8639, 7032: 8640, 7033: 8641, 7034: 8642, 7035: 8643, 7036: 8644, 7037: 8645, 7038: 8646, 7039: 8647, 7040: 8648, 7041: 8649, 7042: 8650, 7043: 8651, 7044: 8652, 7045: 8653, 7046: 8654, 7047: 8655, 7048: 8656, 7049: 8657, 7050: 8658, 7051: 8659, 7052: 8660, 7053: 8661, 7054: 8662, 7055: 8663, 7056: 8664, 7057: 8665, 7058: 8666, 7059: 8667, 7060: 8668, 7061: 8669, 7062: 8670, 7063: 8671, 7064: 8672, 7065: 8673, 7066: 8674, 7067: 8675, 7068: 8676, 7069: 8677, 7070: 8678, 7071: 8679, 7072: 8680, 7073: 8681, 7074: 8682, 7075: 8683, 7076: 8684, 7077: 8685, 7078: 8686, 7079: 8687, 7080: 8688, 7081: 8689, 7082: 8690, 7083: 8691, 7084: 8692, 7085: 8693, 7086: 8694, 7087: 8695, 7088: 8696, 7089: 8697, 7090: 8698, 7091: 8699, 7092: 8700, 7093: 8701, 7094: 8702, 7095: 8703, 7096: 8704, 7097: 8705, 7098: 8706, 7099: 8707, 7100: 8708, 7101: 8709, 7102: 8710, 7103: 8711, 7104: 8712, 7105: 8713, 7106: 8714, 7107: 8715, 7108: 8716, 7109: 8717, 7110: 8718, 7111: 8719, 7112: 8720, 7113: 8721, 7114: 8722, 7115: 8723, 7116: 8724, 7117: 8725, 7118: 8726, 7119: 8727, 7120: 8728, 7121: 8729, 7122: 8730, 7123: 8731, 7124: 8732, 7125: 8733, 7126: 8734, 7127: 8735, 7128: 8736, 7129: 8737, 7130: 8738, 7131: 8739, 7132: 8740, 7133: 8741, 7134: 8742, 7135: 8743, 7136: 8744, 7137: 8745, 7138: 8746, 7139: 8747, 7140: 8748, 7141: 8749, 7142: 8750, 7143: 8751, 7144: 8752, 7145: 8753, 7146: 8754, 7147: 8755, 7148: 8756, 7149: 8757, 7150: 8758, 7151: 8759, 7152: 8760, 7153: 8761, 7154: 8762, 7155: 8763, 7156: 8764, 7157: 8765, 7158: 8766, 7159: 8767, 7160: 8768, 7161: 8769, 7162: 8770, 7163: 8771, 7164: 8772, 7165: 8773, 7166: 8774, 7167: 8775, 7168: 8776, 7169: 8777, 7170: 8778, 7171: 8779, 7172: 8780, 7173: 8781, 7174: 8782, 7175: 8783, 7176: 8784, 7177: 8785, 7178: 8786, 7179: 8787, 7180: 8788, 7181: 8789, 7182: 8790, 7183: 8791, 7184: 8792, 7185: 8793, 7186: 8794, 7187: 8795, 7188: 8796, 7189: 8797, 7190: 8798, 7191: 8799, 7192: 8800, 7193: 8801, 7194: 8802, 7195: 8803, 7196: 8804, 7197: 8805, 7198: 8806, 7199: 8807, 7200: 8808, 7201: 8809, 7202: 8810, 7203: 8811, 7204: 8812, 7205: 8813, 7206: 8814, 7207: 8815, 7208: 8816, 7209: 8817, 7210: 8818, 7211: 8819, 7212: 8820, 7213: 8821, 7214: 8822, 7215: 8823, 7216: 8824, 7217: 8825, 7218: 8826, 7219: 8827, 7220: 8828, 7221: 8829, 7222: 8830, 7223: 8831, 7224: 8832, 7225: 8833, 7226: 8834, 7227: 8835, 7228: 8836, 7229: 8837, 7230: 8838, 7231: 8839, 7232: 8840, 7233: 8841, 7234: 8842, 7235: 8843, 7236: 8844, 7237: 8845, 7238: 8846, 7239: 8847, 7240: 8848, 7241: 8849, 7242: 8850, 7243: 8851, 7244: 8852, 7245: 8853, 7246: 8854, 7247: 8855, 7248: 8856, 7249: 8857, 7250: 8858, 7251: 8859, 7252: 8860, 7253: 8861, 7254: 8862, 7255: 8863, 7256: 8864, 7257: 8865, 7258: 8866, 7259: 8867, 7260: 8868, 7261: 8869, 7262: 8870, 7263: 8871, 7264: 8872, 7265: 8873, 7266: 8874, 7267: 8875, 7268: 8876, 7269: 8877, 7270: 8878, 7271: 8879, 7272: 8880, 7273: 8881, 7274: 8882, 7275: 8883, 7276: 8884, 7277: 8885, 7278: 8886, 7279: 8887, 7280: 8888, 7281: 8889, 7282: 8890, 7283: 8891, 7284: 8892, 7285: 8893, 7286: 8894, 7287: 8895, 7288: 8896, 7289: 8897, 7290: 8898, 7291: 8899, 7292: 8900, 7293: 8901, 7294: 8902, 7295: 8903, 7296: 8904, 7297: 8905, 7298: 8906, 7299: 8907, 7300: 8908, 7301: 8909, 7302: 8910, 7303: 8911, 7304: 8912, 7305: 8913, 7306: 8914, 7307: 8915, 7308: 8916, 7309: 8917, 7310: 8918, 7311: 8919, 7312: 8920, 7313: 8921, 7314: 8922, 7315: 8923, 7316: 8924, 7317: 8925, 7318: 8926, 7319: 8927, 7320: 8928, 7321: 8929, 7322: 8930, 7323: 8931, 7324: 8932, 7325: 8933, 7326: 8934, 7327: 8935, 7328: 8936, 7329: 8937, 7330: 8938, 7331: 8939, 7332: 8940, 7333: 8941, 7334: 8942, 7335: 8943, 7336: 8944, 7337: 8945, 7338: 8946, 7339: 8947, 7340: 8948, 7341: 8949, 7342: 8950, 7343: 8951, 7344: 8952, 7345: 8953, 7346: 8954, 7347: 8955, 7348: 8956, 7349: 8957, 7350: 8958, 7351: 8959, 7352: 8960, 7353: 8961, 7354: 8962, 7355: 8963, 7356: 8964, 7357: 8965, 7358: 8966, 7359: 8967, 7360: 8968, 7361: 8969, 7362: 8970, 7363: 8971, 7364: 8972, 7365: 8973, 7366: 8974, 7367: 8975, 7368: 8976, 7369: 8977, 7370: 8978, 7371: 8979, 7372: 8980, 7373: 8981, 7374: 8982, 7375: 8983, 7376: 8984, 7377: 8985, 7378: 8986, 7379: 8987, 7380: 8988, 7381: 8989, 7382: 8990, 7383: 8991, 7384: 8992, 7385: 8993, 7386: 8994, 7387: 8995, 7388: 8996, 7389: 8997, 7390: 8998, 7391: 8999, 7392: 9000, 7393: 9001, 7394: 9002, 7395: 9003, 7396: 9004, 7397: 9005, 7398: 9006, 7399: 9007, 7400: 9008, 7401: 9009, 7402: 9010, 7403: 9011, 7404: 9012, 7405: 9013, 7406: 9014, 7407: 9015, 7408: 9016, 7409: 9017, 7410: 9018, 7411: 9019, 7412: 9020, 7413: 9021, 7414: 9022, 7415: 9023, 7416: 9024, 7417: 9025, 7418: 9026, 7419: 9027, 7420: 9028, 7421: 9029, 7422: 9030, 7423: 9031, 7424: 9032, 7425: 9033, 7426: 9034, 7427: 9035, 7428: 9036, 7429: 9037, 7430: 9038, 7431: 9039, 7432: 9040, 7433: 9041, 7434: 9042, 7435: 9043, 7436: 9044, 7437: 9045, 7438: 9046, 7439: 9047, 7440: 9048, 7441: 9049, 7442: 9050, 7443: 9051, 7444: 9052, 7445: 9053, 7446: 9054, 7447: 9055, 7448: 9056, 7449: 9057, 7450: 9058, 7451: 9059, 7452: 9060, 7453: 9061, 7454: 9062, 7455: 9063, 7456: 9064, 7457: 9065, 7458: 9066, 7459: 9067, 7460: 9068, 7461: 9069, 7462: 9070, 7463: 9071, 7464: 9072, 7465: 9073, 7466: 9074, 7467: 9075, 7468: 9076, 7469: 9077, 7470: 9078, 7471: 9079, 7472: 9080, 7473: 9081, 7474: 9082, 7475: 9083, 7476: 9084, 7477: 9085, 7478: 9086, 7479: 9087, 7480: 9088, 7481: 9089, 7482: 9090, 7483: 9091, 7484: 9092, 7485: 9093, 7486: 9094, 7487: 9095, 7488: 9096, 7489: 9097, 7490: 9098, 7491: 9099, 7492: 9100, 7493: 9101, 7494: 9102, 7495: 9103, 7496: 9104, 7497: 9105, 7498: 9106, 7499: 9107, 7500: 9108, 7501: 9109, 7502: 9110, 7503: 9111, 7504: 9112, 7505: 9113, 7506: 9114, 7507: 9115, 7508: 9116, 7509: 9117, 7510: 9118, 7511: 9119, 7512: 9120, 7513: 9121, 7514: 9122, 7515: 9123, 7516: 9124, 7517: 9125, 7518: 9126, 7519: 9127, 7520: 9128, 7521: 9129, 7522: 9130, 7523: 9131, 7524: 9132, 7525: 9133, 7526: 9134, 7527: 9135, 7528: 9136, 7529: 9137, 7530: 9138, 7531: 9139, 7532: 9140, 7533: 9141, 7534: 9142, 7535: 9143, 7536: 9144, 7537: 9145, 7538: 9146, 7539: 9147, 7540: 9148, 7541: 9149, 7542: 9150, 7543: 9151, 7544: 9152, 7545: 9153, 7546: 9154, 7547: 9155, 7548: 9156, 7549: 9157, 7550: 9158, 7551: 9159, 7552: 9160, 7553: 9161, 7554: 9162, 7555: 9163, 7556: 9164, 7557: 9165, 7558: 9166, 7559: 9167, 7560: 9168, 7561: 9169, 7562: 9170, 7563: 9171, 7564: 9172, 7565: 9173, 7566: 9174, 7567: 9175, 7568: 9176, 7569: 9177, 7570: 9178, 7571: 9179, 7572: 9180, 7573: 9181, 7574: 9182, 7575: 9183, 7576: 9184, 7577: 9185, 7578: 9186, 7579: 9187, 7580: 9188, 7581: 9189, 7582: 9190, 7583: 9191, 7584: 9192, 7585: 9193, 7586: 9194, 7587: 9195, 7588: 9196, 7589: 9197, 7590: 9198, 7591: 9199, 7592: 9200, 7593: 9201, 7594: 9202, 7595: 9203, 7596: 9204, 7597: 9205, 7598: 9206, 7599: 9207, 7600: 9208, 7601: 9209, 7602: 9210, 7603: 9211, 7604: 9212, 7605: 9213, 7606: 9214, 7607: 9215, 7608: 9216, 7609: 9217, 7610: 9218, 7611: 9219, 7612: 9220, 7613: 9221, 7614: 9222, 7615: 9223, 7616: 9224, 7617: 9225, 7618: 9226, 7619: 9227, 7620: 9228, 7621: 9229, 7622: 9230, 7623: 9231, 7624: 9232, 7625: 9233, 7626: 9234, 7627: 9235, 7628: 9236, 7629: 9237, 7630: 9238, 7631: 9239, 7632: 9240, 7633: 9241, 7634: 9242, 7635: 9243, 7636: 9244, 7637: 9245, 7638: 9246, 7639: 9247, 7640: 9248, 7641: 9249, 7642: 9250, 7643: 9251, 7644: 9252, 7645: 9253, 7646: 9254, 7647: 9255, 7648: 9256, 7649: 9257, 7650: 9258, 7651: 9259, 7652: 9260, 7653: 9261, 7654: 9262, 7655: 9263, 7656: 9264, 7657: 9265, 7658: 9266, 7659: 9267, 7660: 9268, 7661: 9269, 7662: 9270, 7663: 9271, 7664: 9272, 7665: 9273, 7666: 9274, 7667: 9275, 7668: 9276, 7669: 9277, 7670: 9278, 7671: 9279, 7672: 9280, 7673: 9281, 7674: 9282, 7675: 9283, 7676: 9284, 7677: 9285, 7678: 9286, 7679: 9287, 7680: 9288, 7681: 9289, 7682: 9290, 7683: 9291, 7684: 9292, 7685: 9293, 7686: 9294, 7687: 9295, 7688: 9296, 7689: 9297, 7690: 9298, 7691: 9299, 7692: 9300, 7693: 9301, 7694: 9302, 7695: 9303, 7696: 9304, 7697: 9305, 7698: 9306, 7699: 9307, 7700: 9308, 7701: 9309, 7702: 9310, 7703: 9311, 7704: 9312, 7705: 9313, 7706: 9314, 7707: 9315, 7708: 9316, 7709: 9317, 7710: 9318, 7711: 9319, 7712: 9320, 7713: 9321, 7714: 9322, 7715: 9323, 7716: 9324, 7717: 9325, 7718: 9326, 7719: 9327, 7720: 9328, 7721: 9329, 7722: 9330, 7723: 9331, 7724: 9332, 7725: 9333, 7726: 9334, 7727: 9335, 7728: 9336, 7729: 9337, 7730: 9338, 7731: 9339, 7732: 9340, 7733: 9341, 7734: 9342, 7735: 9343, 7736: 9344, 7737: 9345, 7738: 9346, 7739: 9347, 7740: 9348, 7741: 9349, 7742: 9350, 7743: 9351, 7744: 9352, 7745: 9353, 7746: 9354, 7747: 9355, 7748: 9356, 7749: 9357, 7750: 9358, 7751: 9359, 7752: 9360, 7753: 9361, 7754: 9362, 7755: 9363, 7756: 9364, 7757: 9365, 7758: 9366, 7759: 9367, 7760: 9368, 7761: 9369, 7762: 9370, 7763: 9371, 7764: 9372, 7765: 9373, 7766: 9374, 7767: 9375, 7768: 9376, 7769: 9377, 7770: 9378, 7771: 9379, 7772: 9380, 7773: 9381, 7774: 9382, 7775: 9383, 7776: 9384, 7777: 9385, 7778: 9386, 7779: 9387, 7780: 9388, 7781: 9389, 7782: 9390, 7783: 9391, 7784: 9392, 7785: 9393, 7786: 9394, 7787: 9395, 7788: 9396, 7789: 9397, 7790: 9398, 7791: 9399, 7792: 9400, 7793: 9401, 7794: 9402, 7795: 9403, 7796: 9404, 7797: 9405, 7798: 9406, 7799: 9407, 7800: 9408, 7801: 9409, 7802: 9410, 7803: 9411, 7804: 9412, 7805: 9413, 7806: 9414, 7807: 9415, 7808: 9416, 7809: 9417, 7810: 9418, 7811: 9419, 7812: 9420, 7813: 9421, 7814: 9422, 7815: 9423, 7816: 9424, 7817: 9425, 7818: 9426, 7819: 9427, 7820: 9428, 7821: 9429, 7822: 9430, 7823: 9431, 7824: 9432, 7825: 9433, 7826: 9434, 7827: 9435, 7828: 9436, 7829: 9437, 7830: 9438, 7831: 9439, 7832: 9440, 7833: 9441, 7834: 9442, 7835: 9443, 7836: 9444, 7837: 9445, 7838: 9446, 7839: 9447, 7840: 9448, 7841: 9449, 7842: 9450, 7843: 9451, 7844: 9452, 7845: 9453, 7846: 9454, 7847: 9455, 7848: 9456, 7849: 9457, 7850: 9458, 7851: 9459, 7852: 9460, 7853: 9461, 7854: 9462, 7855: 9463, 7856: 9464, 7857: 9465, 7858: 9466, 7859: 9467, 7860: 9468, 7861: 9469, 7862: 9470, 7863: 9471, 7864: 9472, 7865: 9473, 7866: 9474, 7867: 9475, 7868: 9476, 7869: 9477, 7870: 9478, 7871: 9479, 7872: 9480, 7873: 9481, 7874: 9482, 7875: 9483, 7876: 9484, 7877: 9485, 7878: 9486, 7879: 9487, 7880: 9488, 7881: 9489, 7882: 9490, 7883: 9491, 7884: 9492, 7885: 9493, 7886: 9494, 7887: 9495, 7888: 9496, 7889: 9497, 7890: 9498, 7891: 9499, 7892: 9500, 7893: 9501, 7894: 9502, 7895: 9503, 7896: 9504, 7897: 9505, 7898: 9506, 7899: 9507, 7900: 9508, 7901: 9509, 7902: 9510, 7903: 9511, 7904: 9512, 7905: 9513, 7906: 9514, 7907: 9515, 7908: 9516, 7909: 9517, 7910: 9518, 7911: 9519, 7912: 9520, 7913: 9521, 7914: 9522, 7915: 9523, 7916: 9524, 7917: 9525, 7918: 9526, 7919: 9527, 7920: 9528, 7921: 9529, 7922: 9530, 7923: 9531, 7924: 9532, 7925: 9533, 7926: 9534, 7927: 9535, 7928: 9536, 7929: 9537, 7930: 9538, 7931: 9539, 7932: 9540, 7933: 9541, 7934: 9542, 7935: 9543, 7936: 9544, 7937: 9545, 7938: 9546, 7939: 9547, 7940: 9548, 7941: 9549, 7942: 9550, 7943: 9551, 7944: 9552, 7945: 9553, 7946: 9554, 7947: 9555, 7948: 9556, 7949: 9557, 7950: 9558, 7951: 9559, 7952: 9560, 7953: 9561, 7954: 9562, 7955: 9563, 7956: 9564, 7957: 9565, 7958: 9566, 7959: 9567, 7960: 9568, 7961: 9569, 7962: 9570, 7963: 9571, 7964: 9572, 7965: 9573, 7966: 9574, 7967: 9575, 7968: 9576, 7969: 9577, 7970: 9578, 7971: 9579, 7972: 9580, 7973: 9581, 7974: 9582, 7975: 9583, 7976: 9584, 7977: 9585, 7978: 9586, 7979: 9587, 7980: 9588, 7981: 9589, 7982: 9590, 7983: 9591, 7984: 9592, 7985: 9593, 7986: 9594, 7987: 9595, 7988: 9596, 7989: 9597, 7990: 9598, 7991: 9599, 7992: 9600, 7993: 9601, 7994: 9602, 7995: 9603, 7996: 9604, 7997: 9605, 7998: 9606, 7999: 9607, 8000: 9608, 8001: 9609, 8002: 9610, 8003: 9611, 8004: 9612, 8005: 9613, 8006: 9614, 8007: 9615, 8008: 9616, 8009: 9617, 8010: 9618, 8011: 9619, 8012: 9620, 8013: 9621, 8014: 9622, 8015: 9623, 8016: 9624, 8017: 9625, 8018: 9626, 8019: 9627, 8020: 9628, 8021: 9629, 8022: 9630, 8023: 9631, 8024: 9632, 8025: 9633, 8026: 9634, 8027: 9635, 8028: 9636, 8029: 9637, 8030: 9638, 8031: 9639, 8032: 9640, 8033: 9641, 8034: 9642, 8035: 9643, 8036: 9644, 8037: 9645, 8038: 9646, 8039: 9647, 8040: 9648, 8041: 9649, 8042: 9650, 8043: 9651, 8044: 9652, 8045: 9653, 8046: 9654, 8047: 9655, 8048: 9656, 8049: 9657, 8050: 9658, 8051: 9659, 8052: 9660, 8053: 9661, 8054: 9662, 8055: 9663, 8056: 9664, 8057: 9665, 8058: 9666, 8059: 9667, 8060: 9668, 8061: 9669, 8062: 9670, 8063: 9671, 8064: 9672, 8065: 9673, 8066: 9674, 8067: 9675, 8068: 9676, 8069: 9677, 8070: 9678, 8071: 9679, 8072: 9680, 8073: 9681, 8074: 9682, 8075: 9683, 8076: 9684, 8077: 9685, 8078: 9686, 8079: 9687, 8080: 9688, 8081: 9689, 8082: 9690, 8083: 9691, 8084: 9692, 8085: 9693, 8086: 9694, 8087: 9695, 8088: 9696, 8089: 9697, 8090: 9698, 8091: 9699, 8092: 9700, 8093: 9701, 8094: 9702, 8095: 9703, 8096: 9704, 8097: 9705, 8098: 9706, 8099: 9707, 8100: 9708, 8101: 9709, 8102: 9710, 8103: 9711, 8104: 9712, 8105: 9713, 8106: 9714, 8107: 9715, 8108: 9716, 8109: 9717, 8110: 9718, 8111: 9719, 8112: 9720, 8113: 9721, 8114: 9722, 8115: 9723, 8116: 9724, 8117: 9725, 8118: 9726, 8119: 9727, 8120: 9728, 8121: 9729, 8122: 9730, 8123: 9731, 8124: 9732, 8125: 9733, 8126: 9734, 8127: 9735, 8128: 9736, 8129: 9737, 8130: 9738, 8131: 9739, 8132: 9740, 8133: 9741, 8134: 9742, 8135: 9743, 8136: 9744, 8137: 9745, 8138: 9746, 8139: 9747, 8140: 9748, 8141: 9749, 8142: 9750, 8143: 9751, 8144: 9752, 8145: 9753, 8146: 9754, 8147: 9755, 8148: 9756, 8149: 9757, 8150: 9758, 8151: 9759, 8152: 9760, 8153: 9761, 8154: 9762, 8155: 9763, 8156: 9764, 8157: 9765, 8158: 9766, 8159: 9767, 8160: 9768, 8161: 9769, 8162: 9770, 8163: 9771, 8164: 9772, 8165: 9773, 8166: 9774, 8167: 9775, 8168: 9776, 8169: 9777, 8170: 9778, 8171: 9779, 8172: 9780, 8173: 9781, 8174: 9782, 8175: 9783, 8176: 9784, 8177: 9785, 8178: 9786, 8179: 9787, 8180: 9788, 8181: 9789, 8182: 9790, 8183: 9791, 8184: 9792, 8185: 9793, 8186: 9794, 8187: 9795, 8188: 9796, 8189: 9797, 8190: 9798, 8191: 9799, 8192: 9800, 8193: 9801, 8194: 9802, 8195: 9803, 8196: 9804, 8197: 9805, 8198: 9806, 8199: 9807, 8200: 9808, 8201: 9809, 8202: 9810, 8203: 9811, 8204: 9812, 8205: 9813, 8206: 9814, 8207: 9815, 8208: 9816, 8209: 9817, 8210: 9818, 8211: 9819, 8212: 9820, 8213: 9821, 8214: 9822, 8215: 9823, 8216: 9824, 8217: 9825, 8218: 9826, 8219: 9827, 8220: 9828, 8221: 9829, 8222: 9830, 8223: 9831, 8224: 9832, 8225: 9833, 8226: 9834, 8227: 9835, 8228: 9836, 8229: 9837, 8230: 9838, 8231: 9839, 8232: 9840, 8233: 9841, 8234: 9842, 8235: 9843, 8236: 9844, 8237: 9845, 8238: 9846, 8239: 9847, 8240: 9848, 8241: 9849, 8242: 9850, 8243: 9851, 8244: 9852, 8245: 9853, 8246: 9854, 8247: 9855, 8248: 9856, 8249: 9857, 8250: 9858, 8251: 9859, 8252: 9860, 8253: 9861, 8254: 9862, 8255: 9863, 8256: 9864, 8257: 9865, 8258: 9866, 8259: 9867, 8260: 9868, 8261: 9869, 8262: 9870, 8263: 9871, 8264: 9872, 8265: 9873, 8266: 9874, 8267: 9875, 8268: 9876, 8269: 9877, 8270: 9878, 8271: 9879, 8272: 9880, 8273: 9881, 8274: 9882, 8275: 9883, 8276: 9884, 8277: 9885, 8278: 9886, 8279: 9887, 8280: 9888, 8281: 9889, 8282: 9890, 8283: 9891, 8284: 9892, 8285: 9893, 8286: 9894, 8287: 9895, 8288: 9896, 8289: 9897, 8290: 9898, 8291: 9899, 8292: 9900, 8293: 9901, 8294: 9902, 8295: 9903, 8296: 9904, 8297: 9905, 8298: 9906, 8299: 9907, 8300: 9908, 8301: 9909, 8302: 9910, 8303: 9911, 8304: 9912, 8305: 9913, 8306: 9914, 8307: 9915, 8308: 9916, 8309: 9917, 8310: 9918, 8311: 9919, 8312: 9920, 8313: 9921, 8314: 9922, 8315: 9923, 8316: 9924, 8317: 9925, 8318: 9926, 8319: 9927, 8320: 9928, 8321: 9929, 8322: 9930, 8323: 9931, 8324: 9932, 8325: 9933, 8326: 9934, 8327: 9935, 8328: 9936, 8329: 9937, 8330: 9938, 8331: 9939, 8332: 9940, 8333: 9941, 8334: 9942, 8335: 9943, 8336: 9944, 8337: 9945, 8338: 9946, 8339: 9947, 8340: 9948, 8341: 9949, 8342: 9950, 8343: 9951, 8344: 9952, 8345: 9953, 8346: 9954, 8347: 9955, 8348: 9956, 8349: 9957, 8350: 9958, 8351: 9959, 8352: 9960, 8353: 9961, 8354: 9962, 8355: 9963, 8356: 9964, 8357: 9965, 8358: 9966, 8359: 9967, 8360: 9968, 8361: 9969, 8362: 9970, 8363: 9971, 8364: 9972, 8365: 9973, 8366: 9974, 8367: 9975, 8368: 9976, 8369: 9977, 8370: 9978, 8371: 9979, 8372: 9980, 8373: 9981, 8374: 9982, 8375: 9983, 8376: 9984, 8377: 9985, 8378: 9986, 8379: 9987, 8380: 9988, 8381: 9989, 8382: 9990, 8383: 9991, 8384: 9992, 8385: 9993, 8386: 9994, 8387: 9995, 8388: 9996, 8389: 9997, 8390: 9998, 8391: 9999, 8392: 10000, 8393: 10001, 8394: 10002, 8395: 10003, 8396: 10004, 8397: 10005, 8398: 10006, 8399: 10007, 8400: 10008, 8401: 10009, 8402: 10010, 8403: 10011, 8404: 10012, 8405: 10013, 8406: 10014, 8407: 10015, 8408: 10016, 8409: 10017, 8410: 10018, 8411: 10019, 8412: 10020, 8413: 10021, 8414: 10022, 8415: 10023, 8416: 10024, 8417: 10025, 8418: 10026, 8419: 10027, 8420: 10028, 8421: 10029, 8422: 10030, 8423: 10031, 8424: 10032, 8425: 10033, 8426: 10034, 8427: 10035, 8428: 10036, 8429: 10037, 8430: 10038, 8431: 10039, 8432: 10040, 8433: 10041, 8434: 10042, 8435: 10043, 8436: 10044, 8437: 10045, 8438: 10046, 8439: 10047, 8440: 10048, 8441: 10049, 8442: 10050, 8443: 10051, 8444: 10052, 8445: 10053, 8446: 10054, 8447: 10055, 8448: 10056, 8449: 10057, 8450: 10058, 8451: 10059, 8452: 10060, 8453: 10061, 8454: 10062, 8455: 10063, 8456: 10064, 8457: 10065, 8458: 10066, 8459: 10067, 8460: 10068, 8461: 10069, 8462: 10070, 8463: 10071, 8464: 10072, 8465: 10073, 8466: 10074, 8467: 10075, 8468: 10076, 8469: 10077, 8470: 10078, 8471: 10079, 8472: 10080, 8473: 10081, 8474: 10082, 8475: 10083, 8476: 10084, 8477: 10085, 8478: 10086, 8479: 10087, 8480: 10088, 8481: 10089, 8482: 10090, 8483: 10091, 8484: 10092, 8485: 10093, 8486: 10094, 8487: 10095, 8488: 10096, 8489: 10097, 8490: 10098, 8491: 10099, 8492: 10100, 8493: 10101, 8494: 10102, 8495: 10103, 8496: 10104, 8497: 10105, 8498: 10106, 8499: 10107, 8500: 10108, 8501: 10109, 8502: 10110, 8503: 10111, 8504: 10112, 8505: 10113, 8506: 10114, 8507: 10115, 8508: 10116, 8509: 10117, 8510: 10118, 8511: 10119, 8512: 10120, 8513: 10121, 8514: 10122, 8515: 10123, 8516: 10124, 8517: 10125, 8518: 10126, 8519: 10127, 8520: 10128, 8521: 10129, 8522: 10130, 8523: 10131, 8524: 10132, 8525: 10133, 8526: 10134, 8527: 10135, 8528: 10136, 8529: 10137, 8530: 10138, 8531: 10139, 8532: 10140, 8533: 10141, 8534: 10142, 8535: 10143, 8536: 10144, 8537: 10145, 8538: 10146, 8539: 10147, 8540: 10148, 8541: 10149, 8542: 10150, 8543: 10151, 8544: 10152, 8545: 10153, 8546: 10154, 8547: 10155, 8548: 10156, 8549: 10157, 8550: 10158, 8551: 10159, 8552: 10160, 8553: 10161, 8554: 10162, 8555: 10163, 8556: 10164, 8557: 10165, 8558: 10166, 8559: 10167, 8560: 10168, 8561: 10169, 8562: 10170, 8563: 10171, 8564: 10172, 8565: 10173, 8566: 10174, 8567: 10175, 8568: 10176, 8569: 10177, 8570: 10178, 8571: 10179, 8572: 10180, 8573: 10181, 8574: 10182, 8575: 10183, 8576: 10184, 8577: 10185, 8578: 10186, 8579: 10187, 8580: 10188, 8581: 10189, 8582: 10190, 8583: 10191, 8584: 10192, 8585: 10193, 8586: 10194, 8587: 10195, 8588: 10196, 8589: 10197, 8590: 10198, 8591: 10199, 8592: 10200, 8593: 10201, 8594: 10202, 8595: 10203, 8596: 10204, 8597: 10205, 8598: 10206, 8599: 10207, 8600: 10208, 8601: 10209, 8602: 10210, 8603: 10211, 8604: 10212, 8605: 10213, 8606: 10214, 8607: 10215, 8608: 10216, 8609: 10217, 8610: 10218, 8611: 10219, 8612: 10220, 8613: 10221, 8614: 10222, 8615: 10223, 8616: 10224, 8617: 10225, 8618: 10226, 8619: 10227, 8620: 10228, 8621: 10229, 8622: 10230, 8623: 10231, 8624: 10232, 8625: 10233, 8626: 10234, 8627: 10235, 8628: 10236, 8629: 10237, 8630: 10238, 8631: 10239, 8632: 10240, 8633: 10241, 8634: 10242, 8635: 10243, 8636: 10244, 8637: 10245, 8638: 10246, 8639: 10247, 8640: 10248, 8641: 10249, 8642: 10250, 8643: 10251, 8644: 10252, 8645: 10253, 8646: 10254, 8647: 10255, 8648: 10256, 8649: 10257, 8650: 10258, 8651: 10259, 8652: 10260, 8653: 10261, 8654: 10262, 8655: 10263, 8656: 10264, 8657: 10265, 8658: 10266, 8659: 10267, 8660: 10268, 8661: 10269, 8662: 10270, 8663: 10271, 8664: 10272, 8665: 10273, 8666: 10274, 8667: 10275, 8668: 10276, 8669: 10277, 8670: 10278, 8671: 10279, 8672: 10280, 8673: 10281, 8674: 10282, 8675: 10283, 8676: 10284, 8677: 10285, 8678: 10286, 8679: 10287, 8680: 10288, 8681: 10289, 8682: 10290, 8683: 10291, 8684: 10292, 8685: 10293, 8686: 10294, 8687: 10295, 8688: 10296, 8689: 10297, 8690: 10298, 8691: 10299, 8692: 10300, 8693: 10301, 8694: 10302, 8695: 10303, 8696: 10304, 8697: 10305, 8698: 10306, 8699: 10307, 8700: 10308, 8701: 10309, 8702: 10310, 8703: 10311, 8704: 10312, 8705: 10313, 8706: 10314, 8707: 10315, 8708: 10316, 8709: 10317, 8710: 10318, 8711: 10319, 8712: 10320, 8713: 10321, 8714: 10322, 8715: 10323, 8716: 10324, 8717: 10325, 8718: 10326, 8719: 10327, 8720: 10328, 8721: 10329, 8722: 10330, 8723: 10331, 8724: 10332, 8725: 10333, 8726: 10334, 8727: 10335, 8728: 10336, 8729: 10337, 8730: 10338, 8731: 10339, 8732: 10340, 8733: 10341, 8734: 10342, 8735: 10343, 8736: 10344, 8737: 10345, 8738: 10346, 8739: 10347, 8740: 10348, 8741: 10349, 8742: 10350, 8743: 10351, 8744: 10352, 8745: 10353, 8746: 10354, 8747: 10355, 8748: 10356, 8749: 10357, 8750: 10358, 8751: 10359, 8752: 10360, 8753: 10361, 8754: 10362, 8755: 10363, 8756: 10364, 8757: 10365, 8758: 10366, 8759: 10367, 8760: 10368, 8761: 10369, 8762: 10370, 8763: 10371, 8764: 10372, 8765: 10373, 8766: 10374, 8767: 10375, 8768: 10376, 8769: 10377, 8770: 10378, 8771: 10379, 8772: 10380, 8773: 10381, 8774: 10382, 8775: 10383, 8776: 10384, 8777: 10385, 8778: 10386, 8779: 10387, 8780: 10388, 8781: 10389, 8782: 10390, 8783: 10391, 8784: 10392, 8785: 10393, 8786: 10394, 8787: 10395, 8788: 10396, 8789: 10397, 8790: 10398, 8791: 10399, 8792: 10400, 8793: 10401, 8794: 10402, 8795: 10403, 8796: 10404, 8797: 10405, 8798: 10406, 8799: 10407, 8800: 10408, 8801: 10409, 8802: 10410, 8803: 10411, 8804: 10412, 8805: 10413, 8806: 10414, 8807: 10415, 8808: 10416, 8809: 10417, 8810: 10418, 8811: 10419, 8812: 10420, 8813: 10421, 8814: 10422, 8815: 10423, 8816: 10424, 8817: 10425, 8818: 10426, 8819: 10427, 8820: 10428, 8821: 10429, 8822: 10430, 8823: 10431, 8824: 10432, 8825: 10433, 8826: 10434, 8827: 10435, 8828: 10436, 8829: 10437, 8830: 10438, 8831: 10439, 8832: 10440, 8833: 10441, 8834: 10442, 8835: 10443, 8836: 10444, 8837: 10445, 8838: 10446, 8839: 10447, 8840: 10448, 8841: 10449, 8842: 10450, 8843: 10451, 8844: 10452, 8845: 10453, 8846: 10454, 8847: 10455, 8848: 10456, 8849: 10457, 8850: 10458, 8851: 10459, 8852: 10460, 8853: 10461, 8854: 10462, 8855: 10463, 8856: 10464, 8857: 10465, 8858: 10466, 8859: 10467, 8860: 10468, 8861: 10469, 8862: 10470, 8863: 10471, 8864: 10472, 8865: 10473, 8866: 10474, 8867: 10475, 8868: 10476, 8869: 10477, 8870: 10478, 8871: 10479, 8872: 10480, 8873: 10481, 8874: 10482, 8875: 10483, 8876: 10484, 8877: 10485, 8878: 10486, 8879: 10487, 8880: 10488, 8881: 10489, 8882: 10490, 8883: 10491, 8884: 10492, 8885: 10493, 8886: 10494, 8887: 10495, 8888: 10496, 8889: 10497, 8890: 10498, 8891: 10499, 8892: 10500, 8893: 10501, 8894: 10502, 8895: 10503, 8896: 10504, 8897: 10505, 8898: 10506, 8899: 10507, 8900: 10508, 8901: 10509, 8902: 10510, 8903: 10511, 8904: 10512, 8905: 10513, 8906: 10514, 8907: 10515, 8908: 10516, 8909: 10517, 8910: 10518, 8911: 10519, 8912: 10520, 8913: 10521, 8914: 10522, 8915: 10523, 8916: 10524, 8917: 10525, 8918: 10526, 8919: 10527, 8920: 10528, 8921: 10529, 8922: 10530, 8923: 10531, 8924: 10532, 8925: 10533, 8926: 10534, 8927: 10535, 8928: 10536, 8929: 10537, 8930: 10538, 8931: 10539, 8932: 10540, 8933: 10541, 8934: 10542, 8935: 10543, 8936: 10544, 8937: 10545, 8938: 10546, 8939: 10547, 8940: 10548, 8941: 10549, 8942: 10550, 8943: 10551, 8944: 10552, 8945: 10553, 8946: 10554, 8947: 10555, 8948: 10556, 8949: 10557, 8950: 10558, 8951: 10559, 8952: 10560, 8953: 10561, 8954: 10562, 8955: 10563, 8956: 10564, 8957: 10565, 8958: 10566, 8959: 10567, 8960: 10568, 8961: 10569, 8962: 10570, 8963: 10571, 8964: 10572, 8965: 10573, 8966: 10574, 8967: 10575, 8968: 10576, 8969: 10577, 8970: 10578, 8971: 10579, 8972: 10580, 8973: 10581, 8974: 10582, 8975: 10583, 8976: 10584, 8977: 10585, 8978: 10586, 8979: 10587, 8980: 10588, 8981: 10589, 8982: 10590, 8983: 10591, 8984: 10592, 8985: 10593, 8986: 10594, 8987: 10595, 8988: 10596, 8989: 10597, 8990: 10598, 8991: 10599, 8992: 10600, 8993: 10601, 8994: 10602, 8995: 10603, 8996: 10604, 8997: 10605, 8998: 10606, 8999: 10607, 9000: 10608, 9001: 10609, 9002: 10610, 9003: 10611, 9004: 10612, 9005: 10613, 9006: 10614, 9007: 10615, 9008: 10616, 9009: 10617, 9010: 10618, 9011: 10619, 9012: 10620, 9013: 10621, 9014: 10622, 9015: 10623, 9016: 10624, 9017: 10625, 9018: 10626, 9019: 10627, 9020: 10628, 9021: 10629, 9022: 10630, 9023: 10631, 9024: 10632, 9025: 10633, 9026: 10634, 9027: 10635, 9028: 10636, 9029: 10637, 9030: 10638, 9031: 10639, 9032: 10640, 9033: 10641, 9034: 10642, 9035: 10643, 9036: 10644, 9037: 10645, 9038: 10646, 9039: 10647, 9040: 10648, 9041: 10649, 9042: 10650, 9043: 10651, 9044: 10652, 9045: 10653, 9046: 10654, 9047: 10655, 9048: 10656, 9049: 10657, 9050: 10658, 9051: 10659, 9052: 10660, 9053: 10661, 9054: 10662, 9055: 10663, 9056: 10664, 9057: 10665, 9058: 10666, 9059: 10667, 9060: 10668, 9061: 10669, 9062: 10670, 9063: 10671, 9064: 10672, 9065: 10673, 9066: 10674, 9067: 10675, 9068: 10676, 9069: 10677, 9070: 10678, 9071: 10679, 9072: 10680, 9073: 10681, 9074: 10682, 9075: 10683, 9076: 10684, 9077: 10685, 9078: 10686, 9079: 10687, 9080: 10688, 9081: 10689, 9082: 10690, 9083: 10691, 9084: 10692, 9085: 10693, 9086: 10694, 9087: 10695, 9088: 10696, 9089: 10697, 9090: 10698, 9091: 10699, 9092: 10700, 9093: 10701, 9094: 10702, 9095: 10703, 9096: 10704, 9097: 10705, 9098: 10706, 9099: 10707, 9100: 10708, 9101: 10709, 9102: 10710, 9103: 10711, 9104: 10712, 9105: 10713, 9106: 10714, 9107: 10715, 9108: 10716, 9109: 10717, 9110: 10718, 9111: 10719, 9112: 10720, 9113: 10721, 9114: 10722, 9115: 10723, 9116: 10724, 9117: 10725, 9118: 10726, 9119: 10727, 9120: 10728, 9121: 10729, 9122: 10730, 9123: 10731, 9124: 10732, 9125: 10733, 9126: 10734, 9127: 10735, 9128: 10736, 9129: 10737, 9130: 10738, 9131: 10739, 9132: 10740, 9133: 10741, 9134: 10742, 9135: 10743, 9136: 10744, 9137: 10745, 9138: 10746, 9139: 10747, 9140: 10748, 9141: 10749, 9142: 10750, 9143: 10751, 9144: 10752, 9145: 10753, 9146: 10754, 9147: 10755, 9148: 10756, 9149: 10757, 9150: 10758, 9151: 10759, 9152: 10760, 9153: 10761, 9154: 10762, 9155: 10763, 9156: 10764, 9157: 10765, 9158: 10766, 9159: 10767, 9160: 10768, 9161: 10769, 9162: 10770, 9163: 10771, 9164: 10772, 9165: 10773, 9166: 10774, 9167: 10775, 9168: 10776, 9169: 10777, 9170: 10778, 9171: 10779, 9172: 10780, 9173: 10781, 9174: 10782, 9175: 10783, 9176: 10784, 9177: 10785, 9178: 10786, 9179: 10787, 9180: 10788, 9181: 10789, 9182: 10790, 9183: 10791, 9184: 10792, 9185: 10793, 9186: 10794, 9187: 10795, 9188: 10796, 9189: 10797, 9190: 10798, 9191: 10799, 9192: 10800, 9193: 10801, 9194: 10802, 9195: 10803, 9196: 10804, 9197: 10805, 9198: 10806, 9199: 10807, 9200: 10808, 9201: 10809, 9202: 10810, 9203: 10811, 9204: 10812, 9205: 10813, 9206: 10814, 9207: 10815, 9208: 10816, 9209: 10817, 9210: 10818, 9211: 10819, 9212: 10820, 9213: 10821, 9214: 10822, 9215: 10823, 9216: 10824, 9217: 10825, 9218: 10826, 9219: 10827, 9220: 10828, 9221: 10829, 9222: 10830, 9223: 10831, 9224: 10832, 9225: 10833, 9226: 10834, 9227: 10835, 9228: 10836, 9229: 10837, 9230: 10838, 9231: 10839, 9232: 10840, 9233: 10841, 9234: 10842, 9235: 10843, 9236: 10844, 9237: 10845, 9238: 10846, 9239: 10847, 9240: 10848, 9241: 10849, 9242: 10850, 9243: 10851, 9244: 10852, 9245: 10853, 9246: 10854, 9247: 10855, 9248: 10856, 9249: 10857, 9250: 10858, 9251: 10859, 9252: 10860, 9253: 10861, 9254: 10862, 9255: 10863, 9256: 10864, 9257: 10865, 9258: 10866, 9259: 10867, 9260: 10868, 9261: 10869, 9262: 10870, 9263: 10871, 9264: 10872, 9265: 10873, 9266: 10874, 9267: 10875, 9268: 10876, 9269: 10877, 9270: 10878, 9271: 10879, 9272: 10880, 9273: 10881, 9274: 10882, 9275: 10883, 9276: 10884, 9277: 10885, 9278: 10886, 9279: 10887, 9280: 10888, 9281: 10889, 9282: 10890, 9283: 10891, 9284: 10892, 9285: 10893, 9286: 10894, 9287: 10895, 9288: 10896, 9289: 10897, 9290: 10898, 9291: 10899, 9292: 10900, 9293: 10901, 9294: 10902, 9295: 10903, 9296: 10904, 9297: 10905, 9298: 10906, 9299: 10907, 9300: 10908, 9301: 10909, 9302: 10910, 9303: 10911, 9304: 10912, 9305: 10913, 9306: 10914, 9307: 10915, 9308: 10916, 9309: 10917, 9310: 10918, 9311: 10919, 9312: 10920, 9313: 10921, 9314: 10922, 9315: 10923, 9316: 10924, 9317: 10925, 9318: 10926, 9319: 10927, 9320: 10928, 9321: 10929, 9322: 10930, 9323: 10931, 9324: 10932, 9325: 10933, 9326: 10934, 9327: 10935, 9328: 10936, 9329: 10937, 9330: 10938, 9331: 10939, 9332: 10940, 9333: 10941, 9334: 10942, 9335: 10943, 9336: 10944, 9337: 10945, 9338: 10946, 9339: 10947, 9340: 10948, 9341: 10949, 9342: 10950, 9343: 10951, 9344: 10952, 9345: 10953, 9346: 10954, 9347: 10955, 9348: 10956, 9349: 10957, 9350: 10958, 9351: 10959, 9352: 10960, 9353: 10961, 9354: 10962, 9355: 10963, 9356: 10964, 9357: 10965, 9358: 10966, 9359: 10967, 9360: 10968, 9361: 10969, 9362: 10970, 9363: 10971, 9364: 10972, 9365: 10973, 9366: 10974, 9367: 10975, 9368: 10976, 9369: 10977, 9370: 10978, 9371: 10979, 9372: 10980, 9373: 10981, 9374: 10982, 9375: 10983, 9376: 10984, 9377: 10985, 9378: 10986, 9379: 10987, 9380: 10988, 9381: 10989, 9382: 10990, 9383: 10991, 9384: 10992, 9385: 10993, 9386: 10994, 9387: 10995, 9388: 10996, 9389: 10997, 9390: 10998, 9391: 10999, 9392: 11000, 9393: 11001, 9394: 11002, 9395: 11003, 9396: 11004, 9397: 11005, 9398: 11006, 9399: 11007, 9400: 11008, 9401: 11009, 9402: 11010, 9403: 11011, 9404: 11012, 9405: 11013, 9406: 11014, 9407: 11015, 9408: 11016, 9409: 11017, 9410: 11018, 9411: 11019, 9412: 11020, 9413: 11021, 9414: 11022, 9415: 11023, 9416: 11024, 9417: 11025, 9418: 11026, 9419: 11027, 9420: 11028, 9421: 11029, 9422: 11030, 9423: 11031, 9424: 11032, 9425: 11033, 9426: 11034, 9427: 11035, 9428: 11036, 9429: 11037, 9430: 11038, 9431: 11039, 9432: 11040, 9433: 11041, 9434: 11042, 9435: 11043, 9436: 11044, 9437: 11045, 9438: 11046, 9439: 11047, 9440: 11048, 9441: 11049, 9442: 11050, 9443: 11051, 9444: 11052, 9445: 11053, 9446: 11054, 9447: 11055, 9448: 11056, 9449: 11057, 9450: 11058, 9451: 11059, 9452: 11060, 9453: 11061, 9454: 11062, 9455: 11063, 9456: 11064, 9457: 11065, 9458: 11066, 9459: 11067, 9460: 11068, 9461: 11069, 9462: 11070, 9463: 11071, 9464: 11072, 9465: 11073, 9466: 11074, 9467: 11075, 9468: 11076, 9469: 11077, 9470: 11078, 9471: 11079, 9472: 11080, 9473: 11081, 9474: 11082, 9475: 11083, 9476: 11084, 9477: 11085, 9478: 11086, 9479: 11087, 9480: 11088, 9481: 11089, 9482: 11090, 9483: 11091, 9484: 11092, 9485: 11093, 9486: 11094, 9487: 11095, 9488: 11096, 9489: 11097, 9490: 11098, 9491: 11099, 9492: 11100, 9493: 11101, 9494: 11102, 9495: 11103, 9496: 11104, 9497: 11105, 9498: 11106, 9499: 11107, 9500: 11108, 9501: 11109, 9502: 11110, 9503: 11111, 9504: 11112, 9505: 11113, 9506: 11114, 9507: 11115, 9508: 11116, 9509: 11117, 9510: 11118, 9511: 11119, 9512: 11120, 9513: 11121, 9514: 11122, 9515: 11123, 9516: 11124, 9517: 11125, 9518: 11126, 9519: 11127, 9520: 11128, 9521: 11129, 9522: 11130, 9523: 11131, 9524: 11132, 9525: 11133, 9526: 11134, 9527: 11135, 9528: 11136, 9529: 11137, 9530: 11138, 9531: 11139, 9532: 11140, 9533: 11141, 9534: 11142, 9535: 11143, 9536: 11144, 9537: 11145, 9538: 11146, 9539: 11147, 9540: 11148, 9541: 11149, 9542: 11150, 9543: 11151, 9544: 11152, 9545: 11153, 9546: 11154, 9547: 11155, 9548: 11156, 9549: 11157, 9550: 11158, 9551: 11159, 9552: 11160, 9553: 11161, 9554: 11162, 9555: 11163, 9556: 11164, 9557: 11165, 9558: 11166, 9559: 11167, 9560: 11168, 9561: 11169, 9562: 11170, 9563: 11171, 9564: 11172, 9565: 11173, 9566: 11174, 9567: 11175, 9568: 11176, 9569: 11177, 9570: 11178, 9571: 11179, 9572: 11180, 9573: 11181, 9574: 11182, 9575: 11183, 9576: 11184, 9577: 11185, 9578: 11186, 9579: 11187, 9580: 11188, 9581: 11189, 9582: 11190, 9583: 11191, 9584: 11192, 9585: 11193, 9586: 11194, 9587: 11195, 9588: 11196, 9589: 11197, 9590: 11198, 9591: 11199, 9592: 11200, 9593: 11201, 9594: 11202, 9595: 11203, 9596: 11204, 9597: 11205, 9598: 11206, 9599: 11207, 9600: 11208, 9601: 11209, 9602: 11210, 9603: 11211, 9604: 11212, 9605: 11213, 9606: 11214, 9607: 11215, 9608: 11216, 9609: 11217, 9610: 11218, 9611: 11219, 9612: 11220, 9613: 11221, 9614: 11222, 9615: 11223, 9616: 11224, 9617: 11225, 9618: 11226, 9619: 11227, 9620: 11228, 9621: 11229, 9622: 11230, 9623: 11231, 9624: 11232, 9625: 11233, 9626: 11234, 9627: 11235, 9628: 11236, 9629: 11237, 9630: 11238, 9631: 11239, 9632: 11240, 9633: 11241, 9634: 11242, 9635: 11243, 9636: 11244, 9637: 11245, 9638: 11246, 9639: 11247, 9640: 11248, 9641: 11249, 9642: 11250, 9643: 11251, 9644: 11252, 9645: 11253, 9646: 11254, 9647: 11255, 9648: 11256, 9649: 11257, 9650: 11258, 9651: 11259, 9652: 11260, 9653: 11261, 9654: 11262, 9655: 11263, 9656: 11264, 9657: 11265, 9658: 11266, 9659: 11267, 9660: 11268, 9661: 11269, 9662: 11270, 9663: 11271, 9664: 11272, 9665: 11273, 9666: 11274, 9667: 11275, 9668: 11276, 9669: 11277, 9670: 11278, 9671: 11279, 9672: 11280, 9673: 11281, 9674: 11282, 9675: 11283, 9676: 11284, 9677: 11285, 9678: 11286, 9679: 11287, 9680: 11288, 9681: 11289, 9682: 11290, 9683: 11291, 9684: 11292, 9685: 11293, 9686: 11294, 9687: 11295, 9688: 11296, 9689: 11297, 9690: 11298, 9691: 11299, 9692: 11300, 9693: 11301, 9694: 11302, 9695: 11303, 9696: 11304, 9697: 11305, 9698: 11306, 9699: 11307, 9700: 11308, 9701: 11309, 9702: 11310, 9703: 11311, 9704: 11312, 9705: 11313, 9706: 11314, 9707: 11315, 9708: 11316, 9709: 11317, 9710: 11318, 9711: 11319, 9712: 11320, 9713: 11321, 9714: 11322, 9715: 11323, 9716: 11324, 9717: 11325, 9718: 11326, 9719: 11327, 9720: 11328, 9721: 11329, 9722: 11330, 9723: 11331, 9724: 11332, 9725: 11333, 9726: 11334, 9727: 11335, 9728: 11336, 9729: 11337, 9730: 11338, 9731: 11339, 9732: 11340, 9733: 11341, 9734: 11342, 9735: 11343, 9736: 11344, 9737: 11345, 9738: 11346, 9739: 11347, 9740: 11348, 9741: 11349, 9742: 11350, 9743: 11351, 9744: 11352, 9745: 11353, 9746: 11354, 9747: 11355, 9748: 11356, 9749: 11357, 9750: 11358, 9751: 11359, 9752: 11360, 9753: 11361, 9754: 11362, 9755: 11363, 9756: 11364, 9757: 11365, 9758: 11366, 9759: 11367, 9760: 11368, 9761: 11369, 9762: 11370, 9763: 11371, 9764: 11372, 9765: 11373, 9766: 11374, 9767: 11375, 9768: 11376, 9769: 11377, 9770: 11378, 9771: 11379, 9772: 11380, 9773: 11381, 9774: 11382, 9775: 11383, 9776: 11384, 9777: 11385, 9778: 11386, 9779: 11387, 9780: 11388, 9781: 11389, 9782: 11390, 9783: 11391, 9784: 11392, 9785: 11393, 9786: 11394, 9787: 11395, 9788: 11396, 9789: 11397, 9790: 11398, 9791: 11399, 9792: 11400, 9793: 11401, 9794: 11402, 9795: 11403, 9796: 11404, 9797: 11405, 9798: 11406, 9799: 11407, 9800: 11408, 9801: 11409, 9802: 11410, 9803: 11411, 9804: 11412, 9805: 11413, 9806: 11414, 9807: 11415, 9808: 11416, 9809: 11417, 9810: 11418, 9811: 11419, 9812: 11420, 9813: 11421, 9814: 11422, 9815: 11423, 9816: 11424, 9817: 11425, 9818: 11426, 9819: 11427, 9820: 11428, 9821: 11429, 9822: 11430, 9823: 11431, 9824: 11432, 9825: 11433, 9826: 11434, 9827: 11435, 9828: 11436, 9829: 11437, 9830: 11438, 9831: 11439, 9832: 11440, 9833: 11441, 9834: 11442, 9835: 11443, 9836: 11444, 9837: 11445, 9838: 11446, 9839: 11447, 9840: 11448, 9841: 11449, 9842: 11450, 9843: 11451, 9844: 11452, 9845: 11453, 9846: 11454, 9847: 11455, 9848: 11456, 9849: 11457, 9850: 11458, 9851: 11459, 9852: 11460, 9853: 11461, 9854: 11462, 9855: 11463, 9856: 11464, 9857: 11465, 9858: 11466, 9859: 11467, 9860: 11468, 9861: 11469, 9862: 11470, 9863: 11471, 9864: 11472, 9865: 11473, 9866: 11474, 9867: 11475, 9868: 11476, 9869: 11477, 9870: 11478, 9871: 11479, 9872: 11480, 9873: 11481, 9874: 11482, 9875: 11483, 9876: 11484, 9877: 11485, 9878: 11486, 9879: 11487, 9880: 11488, 9881: 11489, 9882: 11490, 9883: 11491, 9884: 11492, 9885: 11493, 9886: 11494, 9887: 11495, 9888: 11496, 9889: 11497, 9890: 11498, 9891: 11499, 9892: 11500, 9893: 11501, 9894: 11502, 9895: 11503, 9896: 11504, 9897: 11505, 9898: 11506, 9899: 11507, 9900: 11508, 9901: 11509, 9902: 11510, 9903: 11511, 9904: 11512, 9905: 11513, 9906: 11514, 9907: 11515, 9908: 11516, 9909: 11517, 9910: 11518, 9911: 11519, 9912: 11520, 9913: 11521, 9914: 11522, 9915: 11523, 9916: 11524, 9917: 11525, 9918: 11526, 9919: 11527, 9920: 11528, 9921: 11529, 9922: 11530, 9923: 11531, 9924: 11532, 9925: 11533, 9926: 11534, 9927: 11535, 9928: 11536, 9929: 11537, 9930: 11538, 9931: 11539, 9932: 11540, 9933: 11541, 9934: 11542, 9935: 11543, 9936: 11544, 9937: 11545, 9938: 11546, 9939: 11547, 9940: 11548, 9941: 11549, 9942: 11550, 9943: 11551, 9944: 11552, 9945: 11553, 9946: 11554, 9947: 11555, 9948: 11556, 9949: 11557, 9950: 11558, 9951: 11559, 9952: 11560, 9953: 11561, 9954: 11562, 9955: 11563, 9956: 11564, 9957: 11565, 9958: 11566, 9959: 11567, 9960: 11568, 9961: 11569, 9962: 11570, 9963: 11571, 9964: 11572, 9965: 11573, 9966: 11574, 9967: 11575, 9968: 11576, 9969: 11577, 9970: 11578, 9971: 11579, 9972: 11580, 9973: 11581, 9974: 11582, 9975: 11583, 9976: 11584, 9977: 11585, 9978: 11586, 9979: 11587, 9980: 11588, 9981: 11589, 9982: 11590, 9983: 11591, 9984: 11592, 9985: 11593, 9986: 11594, 9987: 11595, 9988: 11596, 9989: 11597, 9990: 11598, 9991: 11599, 9992: 11600, 9993: 11601, 9994: 11602, 9995: 11603, 9996: 11604, 9997: 11605, 9998: 11606, 9999: 11607, 10000: 11608, 10001: 11609, 10002: 11610, 10003: 11611, 10004: 11612, 10005: 11613, 10006: 11614, 10007: 11615, 10008: 11616, 10009: 11617, 10010: 11618, 10011: 11619, 10012: 11620, 10013: 11621, 10014: 11622, 10015: 11623, 10016: 11624, 10017: 11625, 10018: 11626, 10019: 11627, 10020: 11628, 10021: 11629, 10022: 11630, 10023: 11631, 10024: 11632, 10025: 11633, 10026: 11634, 10027: 11635, 10028: 11636, 10029: 11637, 10030: 11638, 10031: 11639, 10032: 11640, 10033: 11641, 10034: 11642, 10035: 11643, 10036: 11644, 10037: 11645, 10038: 11646, 10039: 11647, 10040: 11648, 10041: 11649, 10042: 11650, 10043: 11651, 10044: 11652, 10045: 11653, 10046: 11654, 10047: 11655, 10048: 11656, 10049: 11657, 10050: 11658, 10051: 11659, 10052: 11660, 10053: 11661, 10054: 11662, 10055: 11663, 10056: 11664, 10057: 11665, 10058: 11666, 10059: 11667, 10060: 11668, 10061: 11669, 10062: 11670, 10063: 11671, 10064: 11672, 10065: 11673, 10066: 11674, 10067: 11675, 10068: 11676, 10069: 11677, 10070: 11678, 10071: 11679, 10072: 11680, 10073: 11681, 10074: 11682, 10075: 11683, 10076: 11684, 10077: 11685, 10078: 11686, 10079: 11687, 10080: 11688, 10081: 11689, 10082: 11690, 10083: 11691, 10084: 11692, 10085: 11693, 10086: 11694, 10087: 11695, 10088: 11696, 10089: 11697, 10090: 11698, 10091: 11699, 10092: 11700, 10093: 11701, 10094: 11702, 10095: 11703, 10096: 11704, 10097: 11705, 10098: 11706, 10099: 11707, 10100: 11708, 10101: 11709, 10102: 11710, 10103: 11711, 10104: 11712, 10105: 11713, 10106: 11714, 10107: 11715, 10108: 11716, 10109: 11717, 10110: 11718, 10111: 11719, 10112: 11720, 10113: 11721, 10114: 11722, 10115: 11723, 10116: 11724, 10117: 11725, 10118: 11726, 10119: 11727, 10120: 11728, 10121: 11729, 10122: 11730, 10123: 11731, 10124: 11732, 10125: 11733, 10126: 11734, 10127: 11735, 10128: 11736, 10129: 11737, 10130: 11738, 10131: 11739, 10132: 11740, 10133: 11741, 10134: 11742, 10135: 11743, 10136: 11744, 10137: 11745, 10138: 11746, 10139: 11747, 10140: 11748, 10141: 11749, 10142: 11750, 10143: 11751, 10144: 11752, 10145: 11753, 10146: 11754, 10147: 11755, 10148: 11756, 10149: 11757, 10150: 11758, 10151: 11759, 10152: 11760, 10153: 11761, 10154: 11762, 10155: 11763, 10156: 11764, 10157: 11765, 10158: 11766, 10159: 11767, 10160: 11768, 10161: 11769, 10162: 11770, 10163: 11771, 10164: 11772, 10165: 11773, 10166: 11774, 10167: 11775, 10168: 11776, 10169: 11777, 10170: 11778, 10171: 11779, 10172: 11780, 10173: 11781, 10174: 11782, 10175: 11783, 10176: 11784, 10177: 11785, 10178: 11786, 10179: 11787, 10180: 11788, 10181: 11789, 10182: 11790, 10183: 11791, 10184: 11792, 10185: 11793, 10186: 11794, 10187: 11795, 10188: 11796, 10189: 11797, 10190: 11798, 10191: 11799, 10192: 11800, 10193: 11801, 10194: 11802, 10195: 11803, 10196: 11804, 10197: 11805, 10198: 11806, 10199: 11807, 10200: 11808, 10201: 11809, 10202: 11810, 10203: 11811, 10204: 11812, 10205: 11813, 10206: 11814, 10207: 11815, 10208: 11816, 10209: 11817, 10210: 11818, 10211: 11819, 10212: 11820, 10213: 11821, 10214: 11822, 10215: 11823, 10216: 11824, 10217: 11825, 10218: 11826, 10219: 11827, 10220: 11828, 10221: 11829, 10222: 11830, 10223: 11831, 10224: 11832, 10225: 11833, 10226: 11834, 10227: 11835, 10228: 11836, 10229: 11837, 10230: 11838, 10231: 11839, 10232: 11840, 10233: 11841, 10234: 11842, 10235: 11843, 10236: 11844, 10237: 11845, 10238: 11846, 10239: 11847, 10240: 11848, 10241: 11849, 10242: 11850, 10243: 11851, 10244: 11852, 10245: 11853, 10246: 11854, 10247: 11855, 10248: 11856, 10249: 11857, 10250: 11858, 10251: 11859, 10252: 11860, 10253: 11861, 10254: 11862, 10255: 11863, 10256: 11864, 10257: 11865, 10258: 11866, 10259: 11867, 10260: 11868, 10261: 11869, 10262: 11870, 10263: 11871, 10264: 11872, 10265: 11873, 10266: 11874, 10267: 11875, 10268: 11876, 10269: 11877, 10270: 11878, 10271: 11879, 10272: 11880, 10273: 11881, 10274: 11882, 10275: 11883, 10276: 11884, 10277: 11885, 10278: 11886, 10279: 11887, 10280: 11888, 10281: 11889, 10282: 11890, 10283: 11891, 10284: 11892, 10285: 11893, 10286: 11894, 10287: 11895, 10288: 11896, 10289: 11897, 10290: 11898, 10291: 11899, 10292: 11900, 10293: 11901, 10294: 11902, 10295: 11903, 10296: 11904, 10297: 11905, 10298: 11906, 10299: 11907, 10300: 11908, 10301: 11909, 10302: 11910, 10303: 11911, 10304: 11912, 10305: 11913, 10306: 11914, 10307: 11915, 10308: 11916, 10309: 11917, 10310: 11918, 10311: 11919, 10312: 11920, 10313: 11921, 10314: 11922, 10315: 11923, 10316: 11924, 10317: 11925, 10318: 11926, 10319: 11927, 10320: 11928, 10321: 11929, 10322: 11930, 10323: 11931, 10324: 11932, 10325: 11933, 10326: 11934, 10327: 11935, 10328: 11936, 10329: 11937, 10330: 11938, 10331: 11939, 10332: 11940, 10333: 11941, 10334: 11942, 10335: 11943, 10336: 11944, 10337: 11945, 10338: 11946, 10339: 11947, 10340: 11948, 10341: 11949, 10342: 11950, 10343: 11951, 10344: 11952, 10345: 11953, 10346: 11954, 10347: 11955, 10348: 11956, 10349: 11957, 10350: 11958, 10351: 11959, 10352: 11960, 10353: 11961, 10354: 11962, 10355: 11963, 10356: 11964, 10357: 11965, 10358: 11966, 10359: 11967, 10360: 11968, 10361: 11969, 10362: 11970, 10363: 11971, 10364: 11972, 10365: 11973, 10366: 11974, 10367: 11975, 10368: 11976, 10369: 11977, 10370: 11978, 10371: 11979, 10372: 11980, 10373: 11981, 10374: 11982, 10375: 11983, 10376: 11984, 10377: 11985, 10378: 11986, 10379: 11987, 10380: 11988, 10381: 11989, 10382: 11990, 10383: 11991, 10384: 11992, 10385: 11993, 10386: 11994, 10387: 11995, 10388: 11996, 10389: 11997, 10390: 11998, 10391: 11999, 10392: 12000, 10393: 12001, 10394: 12002, 10395: 12003, 10396: 12004, 10397: 12005, 10398: 12006, 10399: 12007, 10400: 12008, 10401: 12009, 10402: 12010, 10403: 12011, 10404: 12012, 10405: 12013, 10406: 12014, 10407: 12015, 10408: 12016, 10409: 12017, 10410: 12018, 10411: 12019, 10412: 12020, 10413: 12021, 10414: 12022, 10415: 12023, 10416: 12024, 10417: 12025, 10418: 12026, 10419: 12027, 10420: 12028, 10421: 12029, 10422: 12030, 10423: 12031, 10424: 12032, 10425: 12033, 10426: 12034, 10427: 12035, 10428: 12036, 10429: 12037, 10430: 12038, 10431: 12039, 10432: 12040, 10433: 12041, 10434: 12042, 10435: 12043, 10436: 12044, 10437: 12045, 10438: 12046, 10439: 12047, 10440: 12048, 10441: 12049, 10442: 12050, 10443: 12051, 10444: 12052, 10445: 12053, 10446: 12054, 10447: 12055, 10448: 12056, 10449: 12057, 10450: 12058, 10451: 12059, 10452: 12060, 10453: 12061, 10454: 12062, 10455: 12063, 10456: 12064, 10457: 12065, 10458: 12066, 10459: 12067, 10460: 12068, 10461: 12069, 10462: 12070, 10463: 12071, 10464: 12072, 10465: 12073, 10466: 12074, 10467: 12075, 10468: 12076, 10469: 12077, 10470: 12078, 10471: 12079, 10472: 12080, 10473: 12081, 10474: 12082, 10475: 12083, 10476: 12084, 10477: 12085, 10478: 12086, 10479: 12087, 10480: 12088, 10481: 12089, 10482: 12090, 10483: 12091, 10484: 12092, 10485: 12093, 10486: 12094, 10487: 12095, 10488: 12096, 10489: 12097, 10490: 12098, 10491: 12099, 10492: 12100, 10493: 12101, 10494: 12102, 10495: 12103, 10496: 12104, 10497: 12105, 10498: 12106, 10499: 12107, 10500: 12108, 10501: 12109, 10502: 12110, 10503: 12111, 10504: 12112, 10505: 12113, 10506: 12114, 10507: 12115, 10508: 12116, 10509: 12117, 10510: 12118, 10511: 12119, 10512: 12120, 10513: 12121, 10514: 12122, 10515: 12123, 10516: 12124, 10517: 12125, 10518: 12126, 10519: 12127, 10520: 12128, 10521: 12129, 10522: 12130, 10523: 12131, 10524: 12132, 10525: 12133, 10526: 12134, 10527: 12135, 10528: 12136, 10529: 12137, 10530: 12138, 10531: 12139, 10532: 12140, 10533: 12141, 10534: 12142, 10535: 12143, 10536: 12144, 10537: 12145, 10538: 12146, 10539: 12147, 10540: 12148, 10541: 12149, 10542: 12150, 10543: 12151, 10544: 12152, 10545: 12153, 10546: 12154, 10547: 12155, 10548: 12156, 10549: 12157, 10550: 12158, 10551: 12159, 10552: 12160, 10553: 12161, 10554: 12162, 10555: 12163, 10556: 12164, 10557: 12165, 10558: 12166, 10559: 12167, 10560: 12168, 10561: 12169, 10562: 12170, 10563: 12171, 10564: 12172, 10565: 12173, 10566: 12174, 10567: 12175, 10568: 12176, 10569: 12177, 10570: 12178, 10571: 12179, 10572: 12180, 10573: 12181, 10574: 12182, 10575: 12183, 10576: 12184, 10577: 12185, 10578: 12186, 10579: 12187, 10580: 12188, 10581: 12189, 10582: 12190, 10583: 12191, 10584: 12192, 10585: 12193, 10586: 12194, 10587: 12195, 10588: 12196, 10589: 12197, 10590: 12198, 10591: 12199, 10592: 12200, 10593: 12201, 10594: 12202, 10595: 12203, 10596: 12204, 10597: 12205, 10598: 12206, 10599: 12207, 10600: 12208, 10601: 12209, 10602: 12210, 10603: 12211, 10604: 12212, 10605: 12213, 10606: 12214, 10607: 12215, 10608: 12216, 10609: 12217, 10610: 12218, 10611: 12219, 10612: 12220, 10613: 12221, 10614: 12222, 10615: 12223, 10616: 12224, 10617: 12225, 10618: 12226, 10619: 12227, 10620: 12228, 10621: 12229, 10622: 12230, 10623: 12231, 10624: 12232, 10625: 12233, 10626: 12234, 10627: 12235, 10628: 12236, 10629: 12237, 10630: 12238, 10631: 12239, 10632: 12240, 10633: 12241, 10634: 12242, 10635: 12243, 10636: 12244, 10637: 12245, 10638: 12246, 10639: 12247, 10640: 12248, 10641: 12249, 10642: 12250, 10643: 12251, 10644: 12252, 10645: 12253, 10646: 12254, 10647: 12255, 10648: 12256, 10649: 12257, 10650: 12258, 10651: 12259, 10652: 12260, 10653: 12261, 10654: 12262, 10655: 12263, 10656: 12264, 10657: 12265, 10658: 12266, 10659: 12267, 10660: 12268, 10661: 12269, 10662: 12270, 10663: 12271, 10664: 12272, 10665: 12273, 10666: 12274, 10667: 12275, 10668: 12276, 10669: 12277, 10670: 12278, 10671: 12279, 10672: 12280, 10673: 12281, 10674: 12282, 10675: 12283, 10676: 12284, 10677: 12285, 10678: 12286, 10679: 12287, 10680: 12288, 10681: 12289, 10682: 12290, 10683: 12291, 10684: 12292, 10685: 12293, 10686: 12294, 10687: 12295, 10688: 12296, 10689: 12297, 10690: 12298, 10691: 12299, 10692: 12300, 10693: 12301, 10694: 12302, 10695: 12303, 10696: 12304, 10697: 12305, 10698: 12306, 10699: 12307, 10700: 12308, 10701: 12309, 10702: 12310, 10703: 12311, 10704: 12312, 10705: 12313, 10706: 12314, 10707: 12315, 10708: 12316, 10709: 12317, 10710: 12318, 10711: 12319, 10712: 12320, 10713: 12321, 10714: 12322, 10715: 12323, 10716: 12324, 10717: 12325, 10718: 12326, 10719: 12327, 10720: 12328, 10721: 12329, 10722: 12330, 10723: 12331, 10724: 12332, 10725: 12333, 10726: 12334, 10727: 12335, 10728: 12336, 10729: 12337, 10730: 12338, 10731: 12339, 10732: 12340, 10733: 12341, 10734: 12342, 10735: 12343, 10736: 12344, 10737: 12345, 10738: 12346, 10739: 12347, 10740: 12348, 10741: 12349, 10742: 12350, 10743: 12351, 10744: 12352, 10745: 12353, 10746: 12354, 10747: 12355, 10748: 12356, 10749: 12357, 10750: 12358, 10751: 12359, 10752: 12360, 10753: 12361, 10754: 12362, 10755: 12363, 10756: 12364, 10757: 12365, 10758: 12366, 10759: 12367, 10760: 12368, 10761: 12369, 10762: 12370, 10763: 12371, 10764: 12372, 10765: 12373, 10766: 12374, 10767: 12375, 10768: 12376, 10769: 12377, 10770: 12378, 10771: 12379, 10772: 12380, 10773: 12381, 10774: 12382, 10775: 12383, 10776: 12384, 10777: 12385, 10778: 12386, 10779: 12387, 10780: 12388, 10781: 12389, 10782: 12390, 10783: 12391, 10784: 12392, 10785: 12393, 10786: 12394, 10787: 12395, 10788: 12396, 10789: 12397, 10790: 12398, 10791: 12399, 10792: 12400, 10793: 12401, 10794: 12402, 10795: 12403, 10796: 12404, 10797: 12405, 10798: 12406, 10799: 12407, 10800: 12408, 10801: 12409, 10802: 12410, 10803: 12411, 10804: 12412, 10805: 12413, 10806: 12414, 10807: 12415, 10808: 12416, 10809: 12417, 10810: 12418, 10811: 12419, 10812: 12420, 10813: 12421, 10814: 12422, 10815: 12423, 10816: 12424, 10817: 12425, 10818: 12426, 10819: 12427, 10820: 12428, 10821: 12429, 10822: 12430, 10823: 12431, 10824: 12432, 10825: 12433, 10826: 12434, 10827: 12435, 10828: 12436, 10829: 12437, 10830: 12438, 10831: 12439, 10832: 12440, 10833: 12441, 10834: 12442, 10835: 12443, 10836: 12444, 10837: 12445, 10838: 12446, 10839: 12447, 10840: 12448, 10841: 12449, 10842: 12450, 10843: 12451, 10844: 12452, 10845: 12453, 10846: 12454, 10847: 12455, 10848: 12456, 10849: 12457, 10850: 12458, 10851: 12459, 10852: 12460, 10853: 12461, 10854: 12462, 10855: 12463, 10856: 12464, 10857: 12465, 10858: 12466, 10859: 12467, 10860: 12468, 10861: 12469, 10862: 12470, 10863: 12471, 10864: 12472, 10865: 12473, 10866: 12474, 10867: 12475, 10868: 12476, 10869: 12477, 10870: 12478, 10871: 12479, 10872: 12480, 10873: 12481, 10874: 12482, 10875: 12483, 10876: 12484, 10877: 12485, 10878: 12486, 10879: 12487, 10880: 12488, 10881: 12489, 10882: 12490, 10883: 12491, 10884: 12492, 10885: 12493, 10886: 12494, 10887: 12495, 10888: 12496, 10889: 12497, 10890: 12498, 10891: 12499, 10892: 12500, 10893: 12501, 10894: 12502, 10895: 12503, 10896: 12504, 10897: 12505, 10898: 12506, 10899: 12507, 10900: 12508, 10901: 12509, 10902: 12510, 10903: 12511, 10904: 12512, 10905: 12513, 10906: 12514, 10907: 12515, 10908: 12516, 10909: 12517, 10910: 12518, 10911: 12519, 10912: 12520, 10913: 12521, 10914: 12522, 10915: 12523, 10916: 12524, 10917: 12525, 10918: 12526, 10919: 12527, 10920: 12528, 10921: 12529, 10922: 12530, 10923: 12531, 10924: 12532, 10925: 12533, 10926: 12534, 10927: 12535, 10928: 12536, 10929: 12537, 10930: 12538, 10931: 12539, 10932: 12540, 10933: 12541, 10934: 12542, 10935: 12543, 10936: 12544, 10937: 12545, 10938: 12546, 10939: 12547, 10940: 12548, 10941: 12549, 10942: 12550, 10943: 12551, 10944: 12552, 10945: 12553, 10946: 12554, 10947: 12555, 10948: 12556, 10949: 12557, 10950: 12558, 10951: 12559, 10952: 12560, 10953: 12561, 10954: 12562, 10955: 12563, 10956: 12564, 10957: 12565, 10958: 12566, 10959: 12567, 10960: 12568, 10961: 12569, 10962: 12570, 10963: 12571, 10964: 12572, 10965: 12573, 10966: 12574, 10967: 12575, 10968: 12576, 10969: 12577, 10970: 12578, 10971: 12579, 10972: 12580, 10973: 12581, 10974: 12582, 10975: 12583, 10976: 12584, 10977: 12585, 10978: 12586, 10979: 12587, 10980: 12588, 10981: 12589, 10982: 12590, 10983: 12591, 10984: 12592, 10985: 12593, 10986: 12594, 10987: 12595, 10988: 12596, 10989: 12597, 10990: 12598, 10991: 12599, 10992: 12600, 10993: 12601, 10994: 12602, 10995: 12603, 10996: 12604, 10997: 12605, 10998: 12606, 10999: 12607, 11000: 12608, 11001: 12609, 11002: 12610, 11003: 12611, 11004: 12612, 11005: 12613, 11006: 12614, 11007: 12615, 11008: 12616, 11009: 12617, 11010: 12618, 11011: 12619, 11012: 12620, 11013: 12621, 11014: 12622, 11015: 12623, 11016: 12624, 11017: 12625, 11018: 12626, 11019: 12627, 11020: 12628, 11021: 12629, 11022: 12630, 11023: 12631, 11024: 12632, 11025: 12633, 11026: 12634, 11027: 12635, 11028: 12636, 11029: 12637, 11030: 12638, 11031: 12639, 11032: 12640, 11033: 12641, 11034: 12642, 11035: 12643, 11036: 12644, 11037: 12645, 11038: 12646, 11039: 12647, 11040: 12648, 11041: 12649, 11042: 12650, 11043: 12651, 11044: 12652, 11045: 12653, 11046: 12654, 11047: 12655, 11048: 12656, 11049: 12657, 11050: 12658, 11051: 12659, 11052: 12660, 11053: 12661, 11054: 12662, 11055: 12663, 11056: 12664, 11057: 12665, 11058: 12666, 11059: 12667, 11060: 12668, 11061: 12669, 11062: 12670, 11063: 12671, 11064: 12672, 11065: 12673, 11066: 12674, 11067: 12675, 11068: 12676, 11069: 12677, 11070: 12678, 11071: 12679, 11072: 12680, 11073: 12681, 11074: 12682, 11075: 12683, 11076: 12684, 11077: 12685, 11078: 12686, 11079: 12687, 11080: 12688, 11081: 12689, 11082: 12690, 11083: 12691, 11084: 12692, 11085: 12693, 11086: 12694, 11087: 12695, 11088: 12696, 11089: 12697, 11090: 12698, 11091: 12699, 11092: 12700, 11093: 12701, 11094: 12702, 11095: 12703, 11096: 12704, 11097: 12705, 11098: 12706, 11099: 12707, 11100: 12708, 11101: 12709, 11102: 12710, 11103: 12711, 11104: 12712, 11105: 12713, 11106: 12714, 11107: 12715, 11108: 12716, 11109: 12717, 11110: 12718, 11111: 12719, 11112: 12720, 11113: 12721, 11114: 12722, 11115: 12723, 11116: 12724, 11117: 12725, 11118: 12726, 11119: 12727, 11120: 12728, 11121: 12729, 11122: 12730, 11123: 12731, 11124: 12732, 11125: 12733, 11126: 12734, 11127: 12735, 11128: 12736, 11129: 12737, 11130: 12738, 11131: 12739, 11132: 12740, 11133: 12741, 11134: 12742, 11135: 12743, 11136: 12744, 11137: 12745, 11138: 12746, 11139: 12747, 11140: 12748, 11141: 12749, 11142: 12750, 11143: 12751, 11144: 12752, 11145: 12753, 11146: 12754, 11147: 12755, 11148: 12756, 11149: 12757, 11150: 12758, 11151: 12759, 11152: 12760, 11153: 12761, 11154: 12762, 11155: 12763, 11156: 12764, 11157: 12765, 11158: 12766, 11159: 12767, 11160: 12768, 11161: 12769, 11162: 12770, 11163: 12771, 11164: 12772, 11165: 12773, 11166: 12774, 11167: 12775, 11168: 12776, 11169: 12777, 11170: 12778, 11171: 12779, 11172: 12780, 11173: 12781, 11174: 12782, 11175: 12783, 11176: 12784, 11177: 12785, 11178: 12786, 11179: 12787, 11180: 12788, 11181: 12789, 11182: 12790, 11183: 12791, 11184: 12792, 11185: 12793, 11186: 12794, 11187: 12795, 11188: 12796, 11189: 12797, 11190: 12798, 11191: 12799, 11192: 12800, 11193: 12801, 11194: 12802, 11195: 12803, 11196: 12804, 11197: 12805, 11198: 12806, 11199: 12807, 11200: 12808, 11201: 12809, 11202: 12810, 11203: 12811, 11204: 12812, 11205: 12813, 11206: 12814, 11207: 12815, 11208: 12816, 11209: 12817, 11210: 12818, 11211: 12819, 11212: 12820, 11213: 12821, 11214: 12822, 11215: 12823, 11216: 12824, 11217: 12825, 11218: 12826, 11219: 12827, 11220: 12828, 11221: 12829, 11222: 12830, 11223: 12831, 11224: 12832, 11225: 12833, 11226: 12834, 11227: 12835, 11228: 12836, 11229: 12837, 11230: 12838, 11231: 12839, 11232: 12840, 11233: 12841, 11234: 12842, 11235: 12843, 11236: 12844, 11237: 12845, 11238: 12846, 11239: 12847, 11240: 12848, 11241: 12849, 11242: 12850, 11243: 12851, 11244: 12852, 11245: 12853, 11246: 12854, 11247: 12855, 11248: 12856, 11249: 12857, 11250: 12858, 11251: 12859, 11252: 12860, 11253: 12861, 11254: 12862, 11255: 12863, 11256: 12864, 11257: 12865, 11258: 12866, 11259: 12867, 11260: 12868, 11261: 12869, 11262: 12870, 11263: 12871, 11264: 12872, 11265: 12873, 11266: 12874, 11267: 12875, 11268: 12876, 11269: 12877, 11270: 12878, 11271: 12879, 11272: 12880, 11273: 12881, 11274: 12882, 11275: 12883, 11276: 12884, 11277: 12885, 11278: 12886, 11279: 12887, 11280: 12888, 11281: 12889, 11282: 12890, 11283: 12891, 11284: 12892, 11285: 12893, 11286: 12894, 11287: 12895, 11288: 12896, 11289: 12897, 11290: 12898, 11291: 12899, 11292: 12900, 11293: 12901, 11294: 12902, 11295: 12903, 11296: 12904, 11297: 12905, 11298: 12906, 11299: 12907, 11300: 12908, 11301: 12909, 11302: 12910, 11303: 12911, 11304: 12912, 11305: 12913, 11306: 12914, 11307: 12915, 11308: 12916, 11309: 12917, 11310: 12918, 11311: 12919, 11312: 12920, 11313: 12921, 11314: 12922, 11315: 12923, 11316: 12924, 11317: 12925, 11318: 12926, 11319: 12927, 11320: 12928, 11321: 12929, 11322: 12930, 11323: 12931, 11324: 12932, 11325: 12933, 11326: 12934, 11327: 12935, 11328: 12936, 11329: 12937, 11330: 12938, 11331: 12939, 11332: 12940, 11333: 12941, 11334: 12942, 11335: 12943, 11336: 12944, 11337: 12945, 11338: 12946, 11339: 12947, 11340: 12948, 11341: 12949, 11342: 12950, 11343: 12951, 11344: 12952, 11345: 12953, 11346: 12954, 11347: 12955, 11348: 12956, 11349: 12957, 11350: 12958, 11351: 12959, 11352: 12960, 11353: 12961, 11354: 12962, 11355: 12963, 11356: 12964, 11357: 12965, 11358: 12966, 11359: 12967, 11360: 12968, 11361: 12969, 11362: 12970, 11363: 12971, 11364: 12972, 11365: 12973, 11366: 12974, 11367: 12975, 11368: 12976, 11369: 12977, 11370: 12978, 11371: 12979, 11372: 12980, 11373: 12981, 11374: 12982, 11375: 12983, 11376: 12984, 11377: 12985, 11378: 12986, 11379: 12987, 11380: 12988, 11381: 12989, 11382: 12990, 11383: 12991, 11384: 12992, 11385: 12993, 11386: 12994, 11387: 12995, 11388: 12996, 11389: 12997, 11390: 12998, 11391: 12999, 11392: 13000, 11393: 13001, 11394: 13002, 11395: 13003, 11396: 13004, 11397: 13005, 11398: 13006, 11399: 13007, 11400: 13008, 11401: 13009, 11402: 13010, 11403: 13011, 11404: 13012, 11405: 13013, 11406: 13014, 11407: 13015, 11408: 13016, 11409: 13017, 11410: 13018, 11411: 13019, 11412: 13020, 11413: 13021, 11414: 13022, 11415: 13023, 11416: 13024, 11417: 13025, 11418: 13026, 11419: 13027, 11420: 13028, 11421: 13029, 11422: 13030, 11423: 13031, 11424: 13032, 11425: 13033, 11426: 13034, 11427: 13035, 11428: 13036, 11429: 13037, 11430: 13038, 11431: 13039, 11432: 13040, 11433: 13041, 11434: 13042, 11435: 13043, 11436: 13044, 11437: 13045, 11438: 13046, 11439: 13047, 11440: 13048, 11441: 13049, 11442: 13050, 11443: 13051, 11444: 13052, 11445: 13053, 11446: 13054, 11447: 13055, 11448: 13056, 11449: 13057, 11450: 13058, 11451: 13059, 11452: 13060, 11453: 13061, 11454: 13062, 11455: 13063, 11456: 13064, 11457: 13065, 11458: 13066, 11459: 13067, 11460: 13068, 11461: 13069, 11462: 13070, 11463: 13071, 11464: 13072, 11465: 13073, 11466: 13074, 11467: 13075, 11468: 13076, 11469: 13077, 11470: 13078, 11471: 13079, 11472: 13080, 11473: 13081, 11474: 13082, 11475: 13083, 11476: 13084, 11477: 13085, 11478: 13086, 11479: 13087, 11480: 13088, 11481: 13089, 11482: 13090, 11483: 13091, 11484: 13092, 11485: 13093, 11486: 13094, 11487: 13095, 11488: 13096, 11489: 13097, 11490: 13098, 11491: 13099, 11492: 13100, 11493: 13101, 11494: 13102, 11495: 13103, 11496: 13104, 11497: 13105, 11498: 13106, 11499: 13107, 11500: 13108, 11501: 13109, 11502: 13110, 11503: 13111, 11504: 13112, 11505: 13113, 11506: 13114, 11507: 13115, 11508: 13116, 11509: 13117, 11510: 13118, 11511: 13119, 11512: 13120, 11513: 13121, 11514: 13122, 11515: 13123, 11516: 13124, 11517: 13125, 11518: 13126, 11519: 13127, 11520: 13128, 11521: 13129, 11522: 13130, 11523: 13131, 11524: 13132, 11525: 13133, 11526: 13134, 11527: 13135, 11528: 13136, 11529: 13137, 11530: 13138, 11531: 13139, 11532: 13140, 11533: 13141, 11534: 13142, 11535: 13143, 11536: 13144, 11537: 13145, 11538: 13146, 11539: 13147, 11540: 13148, 11541: 13149, 11542: 13150, 11543: 13151, 11544: 13152, 11545: 13153, 11546: 13154, 11547: 13155, 11548: 13156, 11549: 13157, 11550: 13158, 11551: 13159, 11552: 13160, 11553: 13161, 11554: 13162, 11555: 13163, 11556: 13164, 11557: 13165, 11558: 13166, 11559: 13167, 11560: 13168, 11561: 13169, 11562: 13170, 11563: 13171, 11564: 13172, 11565: 13173, 11566: 13174, 11567: 13175, 11568: 13176, 11569: 13177, 11570: 13178, 11571: 13179, 11572: 13180, 11573: 13181, 11574: 13182, 11575: 13183, 11576: 13184, 11577: 13185, 11578: 13186, 11579: 13187, 11580: 13188, 11581: 13189, 11582: 13190, 11583: 13191, 11584: 13192, 11585: 13193, 11586: 13194, 11587: 13195, 11588: 13196, 11589: 13197, 11590: 13198, 11591: 13199, 11592: 13200, 11593: 13201, 11594: 13202, 11595: 13203, 11596: 13204, 11597: 13205, 11598: 13206, 11599: 13207, 11600: 13208, 11601: 13209, 11602: 13210, 11603: 13211, 11604: 13212, 11605: 13213, 11606: 13214, 11607: 13215, 11608: 13216, 11609: 13217, 11610: 13218, 11611: 13219, 11612: 13220, 11613: 13221, 11614: 13222, 11615: 13223, 11616: 13224, 11617: 13225, 11618: 13226, 11619: 13227, 11620: 13228, 11621: 13229, 11622: 13230, 11623: 13231, 11624: 13232, 11625: 13233, 11626: 13234, 11627: 13235, 11628: 13236, 11629: 13237, 11630: 13238, 11631: 13239, 11632: 13240, 11633: 13241, 11634: 13242, 11635: 13243, 11636: 13244, 11637: 13245, 11638: 13246, 11639: 13247, 11640: 13248, 11641: 13249, 11642: 13250, 11643: 13251, 11644: 13252, 11645: 13253, 11646: 13254, 11647: 13255, 11648: 13256, 11649: 13257, 11650: 13258, 11651: 13259, 11652: 13260, 11653: 13261, 11654: 13262, 11655: 13263, 11656: 13264, 11657: 13265, 11658: 13266, 11659: 13267, 11660: 13268, 11661: 13269, 11662: 13270, 11663: 13271, 11664: 13272, 11665: 13273, 11666: 13274, 11667: 13275, 11668: 13276, 11669: 13277, 11670: 13278, 11671: 13279, 11672: 13280, 11673: 13281, 11674: 13282, 11675: 13283, 11676: 13284, 11677: 13285, 11678: 13286, 11679: 13287, 11680: 13288, 11681: 13289, 11682: 13290, 11683: 13291, 11684: 13292, 11685: 13293, 11686: 13294, 11687: 13295, 11688: 13296, 11689: 13297, 11690: 13298, 11691: 13299, 11692: 13300, 11693: 13301, 11694: 13302, 11695: 13303, 11696: 13304, 11697: 13305, 11698: 13306, 11699: 13307, 11700: 13308, 11701: 13309, 11702: 13310, 11703: 13311, 11704: 13312, 11705: 13313, 11706: 13314, 11707: 13315, 11708: 13316, 11709: 13317, 11710: 13318, 11711: 13319, 11712: 13320, 11713: 13321, 11714: 13322, 11715: 13323, 11716: 13324, 11717: 13325, 11718: 13326, 11719: 13327, 11720: 13328, 11721: 13329, 11722: 13330, 11723: 13331, 11724: 13332, 11725: 13333, 11726: 13334, 11727: 13335, 11728: 13336, 11729: 13337, 11730: 13338, 11731: 13339, 11732: 13340, 11733: 13341, 11734: 13342, 11735: 13343, 11736: 13344, 11737: 13345, 11738: 13346, 11739: 13347, 11740: 13348, 11741: 13349, 11742: 13350, 11743: 13351, 11744: 13352, 11745: 13353, 11746: 13354, 11747: 13355, 11748: 13356, 11749: 13357, 11750: 13358, 11751: 13359, 11752: 13360, 11753: 13361, 11754: 13362, 11755: 13363, 11756: 13364, 11757: 13365, 11758: 13366, 11759: 13367, 11760: 13368, 11761: 13369, 11762: 13370, 11763: 13371, 11764: 13372, 11765: 13373, 11766: 13374, 11767: 13375, 11768: 13376, 11769: 13377, 11770: 13378, 11771: 13379, 11772: 13380, 11773: 13381, 11774: 13382, 11775: 13383, 11776: 13384, 11777: 13385, 11778: 13386, 11779: 13387, 11780: 13388, 11781: 13389, 11782: 13390, 11783: 13391, 11784: 13392, 11785: 13393, 11786: 13394, 11787: 13395, 11788: 13396, 11789: 13397, 11790: 13398, 11791: 13399, 11792: 13400, 11793: 13401, 11794: 13402, 11795: 13403, 11796: 13404, 11797: 13405, 11798: 13406, 11799: 13407, 11800: 13408, 11801: 13409, 11802: 13410, 11803: 13411, 11804: 13412, 11805: 13413, 11806: 13414, 11807: 13415, 11808: 13416, 11809: 13417, 11810: 13418, 11811: 13419, 11812: 13420, 11813: 13421, 11814: 13422, 11815: 13423, 11816: 13424, 11817: 13425, 11818: 13426, 11819: 13427, 11820: 13428, 11821: 13429, 11822: 13430, 11823: 13431, 11824: 13432, 11825: 13433, 11826: 13434, 11827: 13435, 11828: 13436, 11829: 13437, 11830: 13438, 11831: 13439, 11832: 13440, 11833: 13441, 11834: 13442, 11835: 13443, 11836: 13444, 11837: 13445, 11838: 13446, 11839: 13447, 11840: 13448, 11841: 13449, 11842: 13450, 11843: 13451, 11844: 13452, 11845: 13453, 11846: 13454, 11847: 13455, 11848: 13456, 11849: 13457, 11850: 13458, 11851: 13459, 11852: 13460, 11853: 13461, 11854: 13462, 11855: 13463, 11856: 13464, 11857: 13465, 11858: 13466, 11859: 13467, 11860: 13468, 11861: 13469, 11862: 13470, 11863: 13471, 11864: 13472, 11865: 13473, 11866: 13474, 11867: 13475, 11868: 13476, 11869: 13477, 11870: 13478, 11871: 13479, 11872: 13480, 11873: 13481, 11874: 13482, 11875: 13483, 11876: 13484, 11877: 13485, 11878: 13486, 11879: 13487, 11880: 13488, 11881: 13489, 11882: 13490, 11883: 13491, 11884: 13492, 11885: 13493, 11886: 13494, 11887: 13495, 11888: 13496, 11889: 13497, 11890: 13498, 11891: 13499, 11892: 13500, 11893: 13501, 11894: 13502, 11895: 13503, 11896: 13504, 11897: 13505, 11898: 13506, 11899: 13507, 11900: 13508, 11901: 13509, 11902: 13510, 11903: 13511, 11904: 13512, 11905: 13513, 11906: 13514, 11907: 13515, 11908: 13516, 11909: 13517, 11910: 13518, 11911: 13519, 11912: 13520, 11913: 13521, 11914: 13522, 11915: 13523, 11916: 13524, 11917: 13525, 11918: 13526, 11919: 13527, 11920: 13528, 11921: 13529, 11922: 13530, 11923: 13531, 11924: 13532, 11925: 13533, 11926: 13534, 11927: 13535, 11928: 13536, 11929: 13537, 11930: 13538, 11931: 13539, 11932: 13540, 11933: 13541, 11934: 13542, 11935: 13543, 11936: 13544, 11937: 13545, 11938: 13546, 11939: 13547, 11940: 13548, 11941: 13549, 11942: 13550, 11943: 13551, 11944: 13552, 11945: 13553, 11946: 13554, 11947: 13555, 11948: 13556, 11949: 13557, 11950: 13558, 11951: 13559, 11952: 13560, 11953: 13561, 11954: 13562, 11955: 13563, 11956: 13564, 11957: 13565, 11958: 13566, 11959: 13567, 11960: 13568, 11961: 13569, 11962: 13570, 11963: 13571, 11964: 13572, 11965: 13573, 11966: 13574, 11967: 13575, 11968: 13576, 11969: 13577, 11970: 13578, 11971: 13579, 11972: 13580, 11973: 13581, 11974: 13582, 11975: 13583, 11976: 13584, 11977: 13585, 11978: 13586, 11979: 13587, 11980: 13588, 11981: 13589, 11982: 13590, 11983: 13591, 11984: 13592, 11985: 13593, 11986: 13594, 11987: 13595, 11988: 13596, 11989: 13597, 11990: 13598, 11991: 13599, 11992: 13600, 11993: 13601, 11994: 13602, 11995: 13603, 11996: 13604, 11997: 13605, 11998: 13606, 11999: 13607, 12000: 13608, 12001: 13609, 12002: 13610, 12003: 13611, 12004: 13612, 12005: 13613, 12006: 13614, 12007: 13615, 12008: 13616, 12009: 13617, 12010: 13618, 12011: 13619, 12012: 13620, 12013: 13621, 12014: 13622, 12015: 13623, 12016: 13624, 12017: 13625, 12018: 13626, 12019: 13627, 12020: 13628, 12021: 13629, 12022: 13630, 12023: 13631, 12024: 13632, 12025: 13633, 12026: 13634, 12027: 13635, 12028: 13636, 12029: 13637, 12030: 13638, 12031: 13639, 12032: 13640, 12033: 13641, 12034: 13642, 12035: 13643, 12036: 13644, 12037: 13645, 12038: 13646, 12039: 13647, 12040: 13648, 12041: 13649, 12042: 13650, 12043: 13651, 12044: 13652, 12045: 13653, 12046: 13654, 12047: 13655, 12048: 13656, 12049: 13657, 12050: 13658, 12051: 13659, 12052: 13660, 12053: 13661, 12054: 13662, 12055: 13663, 12056: 13664, 12057: 13665, 12058: 13666, 12059: 13667, 12060: 13668, 12061: 13669, 12062: 13670, 12063: 13671, 12064: 13672, 12065: 13673, 12066: 13674, 12067: 13675, 12068: 13676, 12069: 13677, 12070: 13678, 12071: 13679, 12072: 13680, 12073: 13681, 12074: 13682, 12075: 13683, 12076: 13684, 12077: 13685, 12078: 13686, 12079: 13687, 12080: 13688, 12081: 13689, 12082: 13690, 12083: 13691, 12084: 13692, 12085: 13693, 12086: 13694, 12087: 13695, 12088: 13696, 12089: 13697, 12090: 13698, 12091: 13699, 12092: 13700, 12093: 13701, 12094: 13702, 12095: 13703, 12096: 13704, 12097: 13705, 12098: 13706, 12099: 13707, 12100: 13708, 12101: 13709, 12102: 13710, 12103: 13711, 12104: 13712, 12105: 13713, 12106: 13714, 12107: 13715, 12108: 13716, 12109: 13717, 12110: 13718, 12111: 13719, 12112: 13720, 12113: 13721, 12114: 13722, 12115: 13723, 12116: 13724, 12117: 13725, 12118: 13726, 12119: 13727, 12120: 13728, 12121: 13729, 12122: 13730, 12123: 13731, 12124: 13732, 12125: 13733, 12126: 13734, 12127: 13735, 12128: 13736, 12129: 13737, 12130: 13738, 12131: 13739, 12132: 13740, 12133: 13741, 12134: 13742, 12135: 13743, 12136: 13744, 12137: 13745, 12138: 13746, 12139: 13747, 12140: 13748, 12141: 13749, 12142: 13750, 12143: 13751, 12144: 13752, 12145: 13753, 12146: 13754, 12147: 13755, 12148: 13756, 12149: 13757, 12150: 13758, 12151: 13759, 12152: 13760, 12153: 13761, 12154: 13762, 12155: 13763, 12156: 13764, 12157: 13765, 12158: 13766, 12159: 13767, 12160: 13768, 12161: 13769, 12162: 13770, 12163: 13771, 12164: 13772, 12165: 13773, 12166: 13774, 12167: 13775, 12168: 13776, 12169: 13777, 12170: 13778, 12171: 13779, 12172: 13780, 12173: 13781, 12174: 13782, 12175: 13783, 12176: 13784, 12177: 13785, 12178: 13786, 12179: 13787, 12180: 13788, 12181: 13789, 12182: 13790, 12183: 13791, 12184: 13792, 12185: 13793, 12186: 13794, 12187: 13795, 12188: 13796, 12189: 13797, 12190: 13798, 12191: 13799, 12192: 13800, 12193: 13801, 12194: 13802, 12195: 13803, 12196: 13804, 12197: 13805, 12198: 13806, 12199: 13807, 12200: 13808, 12201: 13809, 12202: 13810, 12203: 13811, 12204: 13812, 12205: 13813, 12206: 13814, 12207: 13815, 12208: 13816, 12209: 13817, 12210: 13818, 12211: 13819, 12212: 13820, 12213: 13821, 12214: 13822, 12215: 13823, 12216: 13824, 12217: 13825, 12218: 13826, 12219: 13827, 12220: 13828, 12221: 13829, 12222: 13830, 12223: 13831, 12224: 13832, 12225: 13833, 12226: 13834, 12227: 13835, 12228: 13836, 12229: 13837, 12230: 13838, 12231: 13839, 12232: 13840, 12233: 13841, 12234: 13842, 12235: 13843, 12236: 13844, 12237: 13845, 12238: 13846, 12239: 13847, 12240: 13848, 12241: 13849, 12242: 13850, 12243: 13851, 12244: 13852, 12245: 13853, 12246: 13854, 12247: 13855, 12248: 13856, 12249: 13857, 12250: 13858, 12251: 13859, 12252: 13860, 12253: 13861, 12254: 13862, 12255: 13863, 12256: 13864, 12257: 13865, 12258: 13866, 12259: 13867, 12260: 13868, 12261: 13869, 12262: 13870, 12263: 13871, 12264: 13872, 12265: 13873, 12266: 13874, 12267: 13875, 12268: 13876, 12269: 13877, 12270: 13878, 12271: 13879, 12272: 13880, 12273: 13881, 12274: 13882, 12275: 13883, 12276: 13884, 12277: 13885, 12278: 13886, 12279: 13887, 12280: 13888, 12281: 13889, 12282: 13890, 12283: 13891, 12284: 13892, 12285: 13893, 12286: 13894, 12287: 13895, 12288: 13896, 12289: 13897, 12290: 13898, 12291: 13899, 12292: 13900, 12293: 13901, 12294: 13902, 12295: 13903, 12296: 13904, 12297: 13905, 12298: 13906, 12299: 13907, 12300: 13908, 12301: 13909, 12302: 13910, 12303: 13911, 12304: 13912, 12305: 13913, 12306: 13914, 12307: 13915, 12308: 13916, 12309: 13917, 12310: 13918, 12311: 13919, 12312: 13920, 12313: 13921, 12314: 13922, 12315: 13923, 12316: 13924, 12317: 13925, 12318: 13926, 12319: 13927, 12320: 13928, 12321: 13929, 12322: 13930, 12323: 13931, 12324: 13932, 12325: 13933, 12326: 13934, 12327: 13935, 12328: 13936, 12329: 13937, 12330: 13938, 12331: 13939, 12332: 13940, 12333: 13941, 12334: 13942, 12335: 13943, 12336: 13944, 12337: 13945, 12338: 13946, 12339: 13947, 12340: 13948, 12341: 13949, 12342: 13950, 12343: 13951, 12344: 13952, 12345: 13953, 12346: 13954, 12347: 13955, 12348: 13956, 12349: 13957, 12350: 13958, 12351: 13959, 12352: 13960, 12353: 13961, 12354: 13962, 12355: 13963, 12356: 13964, 12357: 13965, 12358: 13966, 12359: 13967, 12360: 13968, 12361: 13969, 12362: 13970, 12363: 13971, 12364: 13972, 12365: 13973, 12366: 13974, 12367: 13975, 12368: 13976, 12369: 13977, 12370: 13978, 12371: 13979, 12372: 13980, 12373: 13981, 12374: 13982, 12375: 13983, 12376: 13984, 12377: 13985, 12378: 13986, 12379: 13987, 12380: 13988, 12381: 13989, 12382: 13990, 12383: 13991, 12384: 13992, 12385: 13993, 12386: 13994, 12387: 13995, 12388: 13996, 12389: 13997, 12390: 13998, 12391: 13999, 12392: 14000, 12393: 14001, 12394: 14002, 12395: 14003, 12396: 14004, 12397: 14005, 12398: 14006, 12399: 14007, 12400: 14008, 12401: 14009, 12402: 14010, 12403: 14011, 12404: 14012, 12405: 14013, 12406: 14014, 12407: 14015, 12408: 14016, 12409: 14017, 12410: 14018, 12411: 14019, 12412: 14020, 12413: 14021, 12414: 14022, 12415: 14023, 12416: 14024, 12417: 14025, 12418: 14026, 12419: 14027, 12420: 14028, 12421: 14029, 12422: 14030, 12423: 14031, 12424: 14032, 12425: 14033, 12426: 14034, 12427: 14035, 12428: 14036, 12429: 14037, 12430: 14038, 12431: 14039, 12432: 14040, 12433: 14041, 12434: 14042, 12435: 14043, 12436: 14044, 12437: 14045, 12438: 14046, 12439: 14047, 12440: 14048, 12441: 14049, 12442: 14050, 12443: 14051, 12444: 14052, 12445: 14053, 12446: 14054, 12447: 14055, 12448: 14056, 12449: 14057, 12450: 14058, 12451: 14059, 12452: 14060, 12453: 14061, 12454: 14062, 12455: 14063, 12456: 14064, 12457: 14065, 12458: 14066, 12459: 14067, 12460: 14068, 12461: 14069, 12462: 14070, 12463: 14071, 12464: 14072, 12465: 14073, 12466: 14074, 12467: 14075, 12468: 14076, 12469: 14077, 12470: 14078, 12471: 14079, 12472: 14080, 12473: 14081, 12474: 14082, 12475: 14083, 12476: 14084, 12477: 14085, 12478: 14086, 12479: 14087, 12480: 14088, 12481: 14089, 12482: 14090, 12483: 14091, 12484: 14092, 12485: 14093, 12486: 14094, 12487: 14095, 12488: 14096, 12489: 14097, 12490: 14098, 12491: 14099, 12492: 14100, 12493: 14101, 12494: 14102, 12495: 14103, 12496: 14104, 12497: 14105, 12498: 14106, 12499: 14107, 12500: 14108, 12501: 14109, 12502: 14110, 12503: 14111, 12504: 14112, 12505: 14113, 12506: 14114, 12507: 14115, 12508: 14116, 12509: 14117, 12510: 14118, 12511: 14119, 12512: 14120, 12513: 14121, 12514: 14122, 12515: 14123, 12516: 14124, 12517: 14125, 12518: 14126, 12519: 14127, 12520: 14128, 12521: 14129, 12522: 14130, 12523: 14131, 12524: 14132, 12525: 14133, 12526: 14134, 12527: 14135, 12528: 14136, 12529: 14137, 12530: 14138, 12531: 14139, 12532: 14140, 12533: 14141, 12534: 14142, 12535: 14143, 12536: 14144, 12537: 14145, 12538: 14146, 12539: 14147, 12540: 14148, 12541: 14149, 12542: 14150, 12543: 14151, 12544: 14152, 12545: 14153, 12546: 14154, 12547: 14155, 12548: 14156, 12549: 14157, 12550: 14158, 12551: 14159, 12552: 14160, 12553: 14161, 12554: 14162, 12555: 14163, 12556: 14164, 12557: 14165, 12558: 14166, 12559: 14167, 12560: 14168, 12561: 14169, 12562: 14170, 12563: 14171, 12564: 14172, 12565: 14173, 12566: 14174, 12567: 14175, 12568: 14176, 12569: 14177, 12570: 14178, 12571: 14179, 12572: 14180, 12573: 14181, 12574: 14182, 12575: 14183, 12576: 14184, 12577: 14185, 12578: 14186, 12579: 14187, 12580: 14188, 12581: 14189, 12582: 14190, 12583: 14191, 12584: 14192, 12585: 14193, 12586: 14194, 12587: 14195, 12588: 14196, 12589: 14197, 12590: 14198, 12591: 14199, 12592: 14200, 12593: 14201, 12594: 14202, 12595: 14203, 12596: 14204, 12597: 14205, 12598: 14206, 12599: 14207, 12600: 14208, 12601: 14209, 12602: 14210, 12603: 14211, 12604: 14212, 12605: 14213, 12606: 14214, 12607: 14215, 12608: 14216, 12609: 14217, 12610: 14218, 12611: 14219, 12612: 14220, 12613: 14221, 12614: 14222, 12615: 14223, 12616: 14224, 12617: 14225, 12618: 14226, 12619: 14227, 12620: 14228, 12621: 14229, 12622: 14230, 12623: 14231, 12624: 14232, 12625: 14233, 12626: 14234, 12627: 14235, 12628: 14236, 12629: 14237, 12630: 14238, 12631: 14239, 12632: 14240, 12633: 14241, 12634: 14242, 12635: 14243, 12636: 14244, 12637: 14245, 12638: 14246, 12639: 14247, 12640: 14248, 12641: 14249, 12642: 14250, 12643: 14251, 12644: 14252, 12645: 14253, 12646: 14254, 12647: 14255, 12648: 14256, 12649: 14257, 12650: 14258, 12651: 14259, 12652: 14260, 12653: 14261, 12654: 14262, 12655: 14263, 12656: 14264, 12657: 14265, 12658: 14266, 12659: 14267, 12660: 14268, 12661: 14269, 12662: 14270, 12663: 14271, 12664: 14272, 12665: 14273, 12666: 14274, 12667: 14275, 12668: 14276, 12669: 14277, 12670: 14278, 12671: 14279, 12672: 14280, 12673: 14281, 12674: 14282, 12675: 14283, 12676: 14284, 12677: 14285, 12678: 14286, 12679: 14287, 12680: 14288, 12681: 14289, 12682: 14290, 12683: 14291, 12684: 14292, 12685: 14293, 12686: 14294, 12687: 14295, 12688: 14296, 12689: 14297, 12690: 14298, 12691: 14299, 12692: 14300, 12693: 14301, 12694: 14302, 12695: 14303, 12696: 14304, 12697: 14305, 12698: 14306, 12699: 14307, 12700: 14308, 12701: 14309, 12702: 14310, 12703: 14311, 12704: 14312, 12705: 14313, 12706: 14314, 12707: 14315, 12708: 14316, 12709: 14317, 12710: 14318, 12711: 14319, 12712: 14320, 12713: 14321, 12714: 14322, 12715: 14323, 12716: 14324, 12717: 14325, 12718: 14326, 12719: 14327, 12720: 14328, 12721: 14329, 12722: 14330, 12723: 14331, 12724: 14332, 12725: 14333, 12726: 14334, 12727: 14335, 12728: 14336, 12729: 14337, 12730: 14338, 12731: 14339, 12732: 14340, 12733: 14341, 12734: 14342, 12735: 14343, 12736: 14344, 12737: 14345, 12738: 14346, 12739: 14347, 12740: 14348, 12741: 14349, 12742: 14350, 12743: 14351, 12744: 14352, 12745: 14353, 12746: 14354, 12747: 14355, 12748: 14356, 12749: 14357, 12750: 14358, 12751: 14359, 12752: 14360, 12753: 14361, 12754: 14362, 12755: 14363, 12756: 14364, 12757: 14365, 12758: 14366, 12759: 14367, 12760: 14368, 12761: 14369, 12762: 14370, 12763: 14371, 12764: 14372, 12765: 14373, 12766: 14374, 12767: 14375, 12768: 14376, 12769: 14377, 12770: 14378, 12771: 14379, 12772: 14380, 12773: 14381, 12774: 14382, 12775: 14383, 12776: 14384, 12777: 14385, 12778: 14386, 12779: 14387, 12780: 14388, 12781: 14389, 12782: 14390, 12783: 14391, 12784: 14392, 12785: 14393, 12786: 14394, 12787: 14395, 12788: 14396, 12789: 14397, 12790: 14398, 12791: 14399, 12792: 14400, 12793: 14401, 12794: 14402, 12795: 14403, 12796: 14404, 12797: 14405, 12798: 14406, 12799: 14407, 12800: 14408, 12801: 14409, 12802: 14410, 12803: 14411, 12804: 14412, 12805: 14413, 12806: 14414, 12807: 14415, 12808: 14416, 12809: 14417, 12810: 14418, 12811: 14419, 12812: 14420, 12813: 14421, 12814: 14422, 12815: 14423, 12816: 14424, 12817: 14425, 12818: 14426, 12819: 14427, 12820: 14428, 12821: 14429, 12822: 14430, 12823: 14431, 12824: 14432, 12825: 14433, 12826: 14434, 12827: 14435, 12828: 14436, 12829: 14437, 12830: 14438, 12831: 14439, 12832: 14440, 12833: 14441, 12834: 14442, 12835: 14443, 12836: 14444, 12837: 14445, 12838: 14446, 12839: 14447, 12840: 14448, 12841: 14449, 12842: 14450, 12843: 14451, 12844: 14452, 12845: 14453, 12846: 14454, 12847: 14455, 12848: 14456, 12849: 14457, 12850: 14458, 12851: 14459, 12852: 14460, 12853: 14461, 12854: 14462, 12855: 14463, 12856: 14464, 12857: 14465, 12858: 14466, 12859: 14467, 12860: 14468, 12861: 14469, 12862: 14470, 12863: 14471, 12864: 14472, 12865: 14473, 12866: 14474, 12867: 14475, 12868: 14476, 12869: 14477, 12870: 14478, 12871: 14479, 12872: 14480, 12873: 14481, 12874: 14482, 12875: 14483, 12876: 14484, 12877: 14485, 12878: 14486, 12879: 14487, 12880: 14488, 12881: 14489, 12882: 14490, 12883: 14491, 12884: 14492, 12885: 14493, 12886: 14494, 12887: 14495, 12888: 14496, 12889: 14497, 12890: 14498, 12891: 14499, 12892: 14500, 12893: 14501, 12894: 14502, 12895: 14503, 12896: 14504, 12897: 14505, 12898: 14506, 12899: 14507, 12900: 14508, 12901: 14509, 12902: 14510, 12903: 14511, 12904: 14512, 12905: 14513, 12906: 14514, 12907: 14515, 12908: 14516, 12909: 14517, 12910: 14518, 12911: 14519, 12912: 14520, 12913: 14521, 12914: 14522, 12915: 14523, 12916: 14524, 12917: 14525, 12918: 14526, 12919: 14527, 12920: 14528, 12921: 14529, 12922: 14530, 12923: 14531, 12924: 14532, 12925: 14533, 12926: 14534, 12927: 14535, 12928: 14536, 12929: 14537, 12930: 14538, 12931: 14539, 12932: 14540, 12933: 14541, 12934: 14542, 12935: 14543, 12936: 14544, 12937: 14545, 12938: 14546, 12939: 14547, 12940: 14548, 12941: 14549, 12942: 14550, 12943: 14551, 12944: 14552, 12945: 14553, 12946: 14554, 12947: 14555, 12948: 14556, 12949: 14557, 12950: 14558, 12951: 14559, 12952: 14560, 12953: 14561, 12954: 14562, 12955: 14563, 12956: 14564, 12957: 14565, 12958: 14566, 12959: 14567, 12960: 14568, 12961: 14569, 12962: 14570, 12963: 14571, 12964: 14572, 12965: 14573, 12966: 14574, 12967: 14575, 12968: 14576, 12969: 14577, 12970: 14578, 12971: 14579, 12972: 14580, 12973: 14581, 12974: 14582, 12975: 14583, 12976: 14584, 12977: 14585, 12978: 14586, 12979: 14587, 12980: 14588, 12981: 14589, 12982: 14590, 12983: 14591, 12984: 14592, 12985: 14593, 12986: 14594, 12987: 14595, 12988: 14596, 12989: 14597, 12990: 14598, 12991: 14599, 12992: 14600, 12993: 14601, 12994: 14602, 12995: 14603, 12996: 14604, 12997: 14605, 12998: 14606, 12999: 14607, 13000: 14608, 13001: 14609, 13002: 14610, 13003: 14611, 13004: 14612, 13005: 14613, 13006: 14614, 13007: 14615, 13008: 14616, 13009: 14617, 13010: 14618, 13011: 14619, 13012: 14620, 13013: 14621, 13014: 14622, 13015: 14623, 13016: 14624, 13017: 14625, 13018: 14626, 13019: 14627, 13020: 14628, 13021: 14629, 13022: 14630, 13023: 14631, 13024: 14632, 13025: 14633, 13026: 14634, 13027: 14635, 13028: 14636, 13029: 14637, 13030: 14638, 13031: 14639, 13032: 14640, 13033: 14641, 13034: 14642, 13035: 14643, 13036: 14644, 13037: 14645, 13038: 14646, 13039: 14647, 13040: 14648, 13041: 14649, 13042: 14650, 13043: 14651, 13044: 14652, 13045: 14653, 13046: 14654, 13047: 14655, 13048: 14656, 13049: 14657, 13050: 14658, 13051: 14659, 13052: 14660, 13053: 14661, 13054: 14662, 13055: 14663, 13056: 14664, 13057: 14665, 13058: 14666, 13059: 14667, 13060: 14668, 13061: 14669, 13062: 14670, 13063: 14671, 13064: 14672, 13065: 14673, 13066: 14674, 13067: 14675, 13068: 14676, 13069: 14677, 13070: 14678, 13071: 14679, 13072: 14680, 13073: 14681, 13074: 14682, 13075: 14683, 13076: 14684, 13077: 14685, 13078: 14686, 13079: 14687, 13080: 14688, 13081: 14689, 13082: 14690, 13083: 14691, 13084: 14692, 13085: 14693, 13086: 14694, 13087: 14695, 13088: 14696, 13089: 14697, 13090: 14698, 13091: 14699, 13092: 14700, 13093: 14701, 13094: 14702, 13095: 14703, 13096: 14704, 13097: 14705, 13098: 14706, 13099: 14707, 13100: 14708, 13101: 14709, 13102: 14710, 13103: 14711, 13104: 14712, 13105: 14713, 13106: 14714, 13107: 14715, 13108: 14716, 13109: 14717, 13110: 14718, 13111: 14719, 13112: 14720, 13113: 14721, 13114: 14722, 13115: 14723, 13116: 14724, 13117: 14725, 13118: 14726, 13119: 14727, 13120: 14728, 13121: 14729, 13122: 14730, 13123: 14731, 13124: 14732, 13125: 14733, 13126: 14734, 13127: 14735, 13128: 14736, 13129: 14737, 13130: 14738, 13131: 14739, 13132: 14740, 13133: 14741, 13134: 14742, 13135: 14743, 13136: 14744, 13137: 14745, 13138: 14746, 13139: 14747, 13140: 14748, 13141: 14749, 13142: 14750, 13143: 14751, 13144: 14752, 13145: 14753, 13146: 14754, 13147: 14755, 13148: 14756, 13149: 14757, 13150: 14758, 13151: 14759, 13152: 14760, 13153: 14761, 13154: 14762, 13155: 14763, 13156: 14764, 13157: 14765, 13158: 14766, 13159: 14767, 13160: 14768, 13161: 14769, 13162: 14770, 13163: 14771, 13164: 14772, 13165: 14773, 13166: 14774, 13167: 14775, 13168: 14776, 13169: 14777, 13170: 14778, 13171: 14779, 13172: 14780, 13173: 14781, 13174: 14782, 13175: 14783, 13176: 14784, 13177: 14785, 13178: 14786, 13179: 14787, 13180: 14788, 13181: 14789, 13182: 14790, 13183: 14791, 13184: 14792, 13185: 14793, 13186: 14794, 13187: 14795, 13188: 14796, 13189: 14797, 13190: 14798, 13191: 14799, 13192: 14800, 13193: 14801, 13194: 14802, 13195: 14803, 13196: 14804, 13197: 14805, 13198: 14806, 13199: 14807, 13200: 14808, 13201: 14809, 13202: 14810, 13203: 14811, 13204: 14812, 13205: 14813, 13206: 14814, 13207: 14815, 13208: 14816, 13209: 14817, 13210: 14818, 13211: 14819, 13212: 14820, 13213: 14821, 13214: 14822, 13215: 14823, 13216: 14824, 13217: 14825, 13218: 14826, 13219: 14827, 13220: 14828, 13221: 14829, 13222: 14830, 13223: 14831, 13224: 14832, 13225: 14833, 13226: 14834, 13227: 14835, 13228: 14836, 13229: 14837, 13230: 14838, 13231: 14839, 13232: 14840, 13233: 14841, 13234: 14842, 13235: 14843, 13236: 14844, 13237: 14845, 13238: 14846, 13239: 14847, 13240: 14848, 13241: 14849, 13242: 14850, 13243: 14851, 13244: 14852, 13245: 14853, 13246: 14854, 13247: 14855, 13248: 14856, 13249: 14857, 13250: 14858, 13251: 14859, 13252: 14860, 13253: 14861, 13254: 14862, 13255: 14863, 13256: 14864, 13257: 14865, 13258: 14866, 13259: 14867, 13260: 14868, 13261: 14869, 13262: 14870, 13263: 14871, 13264: 14872, 13265: 14873, 13266: 14874, 13267: 14875, 13268: 14876, 13269: 14877, 13270: 14878, 13271: 14879, 13272: 14880, 13273: 14881, 13274: 14882, 13275: 14883, 13276: 14884, 13277: 14885, 13278: 14886, 13279: 14887, 13280: 14888, 13281: 14889, 13282: 14890, 13283: 14891, 13284: 14892, 13285: 14893, 13286: 14894, 13287: 14895, 13288: 14896, 13289: 14897, 13290: 14898, 13291: 14899, 13292: 14900, 13293: 14901, 13294: 14902, 13295: 14903, 13296: 14904, 13297: 14905, 13298: 14906, 13299: 14907, 13300: 14908, 13301: 14909, 13302: 14910, 13303: 14911, 13304: 14912, 13305: 14913, 13306: 14914, 13307: 14915, 13308: 14916, 13309: 14917, 13310: 14918, 13311: 14919, 13312: 14920, 13313: 14921, 13314: 14922, 13315: 14923, 13316: 14924, 13317: 14925, 13318: 14926, 13319: 14927, 13320: 14928, 13321: 14929, 13322: 14930, 13323: 14931, 13324: 14932, 13325: 14933, 13326: 14934, 13327: 14935, 13328: 14936, 13329: 14937, 13330: 14938, 13331: 14939, 13332: 14940, 13333: 14941, 13334: 14942, 13335: 14943, 13336: 14944, 13337: 14945, 13338: 14946, 13339: 14947, 13340: 14948, 13341: 14949, 13342: 14950, 13343: 14951, 13344: 14952, 13345: 14953, 13346: 14954, 13347: 14955, 13348: 14956, 13349: 14957, 13350: 14958, 13351: 14959, 13352: 14960, 13353: 14961, 13354: 14962, 13355: 14963, 13356: 14964, 13357: 14965, 13358: 14966, 13359: 14967, 13360: 14968, 13361: 14969, 13362: 14970, 13363: 14971, 13364: 14972, 13365: 14973, 13366: 14974, 13367: 14975, 13368: 14976, 13369: 14977, 13370: 14978, 13371: 14979, 13372: 14980, 13373: 14981, 13374: 14982, 13375: 14983, 13376: 14984, 13377: 14985, 13378: 14986, 13379: 14987, 13380: 14988, 13381: 14989, 13382: 14990, 13383: 14991, 13384: 14992, 13385: 14993, 13386: 14994, 13387: 14995, 13388: 14996, 13389: 14997, 13390: 14998, 13391: 14999, 13392: 15000, 13393: 15001, 13394: 15002, 13395: 15003, 13396: 15004, 13397: 15005, 13398: 15006, 13399: 15007, 13400: 15008, 13401: 15009, 13402: 15010, 13403: 15011, 13404: 15012, 13405: 15013, 13406: 15014, 13407: 15015, 13408: 15016, 13409: 15017, 13410: 15018, 13411: 15019, 13412: 15020, 13413: 15021, 13414: 15022, 13415: 15023, 13416: 15024, 13417: 15025, 13418: 15026, 13419: 15027, 13420: 15028, 13421: 15029, 13422: 15030, 13423: 15031, 13424: 15032, 13425: 15033, 13426: 15034, 13427: 15035, 13428: 15036, 13429: 15037, 13430: 15038, 13431: 15039, 13432: 15040, 13433: 15041, 13434: 15042, 13435: 15043, 13436: 15044, 13437: 15045, 13438: 15046, 13439: 15047, 13440: 15048, 13441: 15049, 13442: 15050, 13443: 15051, 13444: 15052, 13445: 15053, 13446: 15054, 13447: 15055, 13448: 15056, 13449: 15057, 13450: 15058, 13451: 15059, 13452: 15060, 13453: 15061, 13454: 15062, 13455: 15063, 13456: 15064, 13457: 15065, 13458: 15066, 13459: 15067, 13460: 15068, 13461: 15069, 13462: 15070, 13463: 15071, 13464: 15072, 13465: 15073, 13466: 15074, 13467: 15075, 13468: 15076, 13469: 15077, 13470: 15078, 13471: 15079, 13472: 15080, 13473: 15081, 13474: 15082, 13475: 15083, 13476: 15084, 13477: 15085, 13478: 15086, 13479: 15087, 13480: 15088, 13481: 15089, 13482: 15090, 13483: 15091, 13484: 15092, 13485: 15093, 13486: 15094, 13487: 15095, 13488: 15096, 13489: 15097, 13490: 15098, 13491: 15099, 13492: 15100, 13493: 15101, 13494: 15102, 13495: 15103, 13496: 15104, 13497: 15105, 13498: 15106, 13499: 15107, 13500: 15108, 13501: 15109, 13502: 15110, 13503: 15111, 13504: 15112, 13505: 15113, 13506: 15114, 13507: 15115, 13508: 15116, 13509: 15117, 13510: 15118, 13511: 15119, 13512: 15120, 13513: 15121, 13514: 15122, 13515: 15123, 13516: 15124, 13517: 15125, 13518: 15126, 13519: 15127, 13520: 15128, 13521: 15129, 13522: 15130}, 'task_2id': {1: 15131, 2: 15132, 0: 15133, 3: 15134, 4: 15135, 5: 15136, 6: 15137, 7: 15138, 8: 15139, 9: 15140, 10: 15141, 11: 15142, 12: 15143, 13: 15144, 14: 15145, 15: 15146, 16: 15147, 17: 15148, 18: 15149, 19: 15150, 20: 15151, 21: 15152, 22: 15153, 23: 15154, 24: 15155, 25: 15156, 26: 15157, 27: 15158, 28: 15159, 29: 15160, 30: 15161, 31: 15162, 32: 15163, 33: 15164, 34: 15165, 35: 15166, 36: 15167, 37: 15168, 38: 15169, 39: 15170, 40: 15171, 41: 15172, 42: 15173, 43: 15174, 44: 15175, 45: 15176, 46: 15177, 47: 15178, 48: 15179, 49: 15180, 50: 15181, 51: 15182, 52: 15183, 53: 15184, 54: 15185, 55: 15186, 56: 15187, 57: 15188, 58: 15189, 59: 15190, 60: 15191, 61: 15192, 62: 15193, 63: 15194, 64: 15195, 65: 15196, 66: 15197, 67: 15198, 68: 15199, 69: 15200, 70: 15201, 71: 15202, 72: 15203, 73: 15204, 74: 15205, 75: 15206, 76: 15207, 77: 15208, 78: 15209, 79: 15210, 80: 15211, 81: 15212, 82: 15213, 83: 15214, 84: 15215, 85: 15216, 86: 15217, 87: 15218, 88: 15219, 89: 15220, 90: 15221, 91: 15222, 92: 15223, 93: 15224, 94: 15225, 95: 15226, 96: 15227, 97: 15228, 98: 15229, 99: 15230, 100: 15231, 101: 15232, 102: 15233, 103: 15234, 105: 15235, 106: 15236, 107: 15237, 108: 15238, 109: 15239, 110: 15240, 111: 15241, 112: 15242, 113: 15243, 114: 15244, 115: 15245, 116: 15246, 117: 15247, 118: 15248, 119: 15249, 122: 15250, 120: 15251, 123: 15252, 124: 15253, 125: 15254, 126: 15255, 127: 15256, 104: 15257, 121: 15258, 128: 15259, 129: 15260, 130: 15261, 131: 15262, 132: 15263, 133: 15264, 134: 15265, 135: 15266, 136: 15267, 137: 15268, 138: 15269, 139: 15270, 140: 15271, 141: 15272, 142: 15273, 143: 15274, 144: 15275, 145: 15276, 146: 15277, 147: 15278, 148: 15279, 149: 15280, 150: 15281, 151: 15282, 152: 15283, 153: 15284, 154: 15285, 155: 15286, 157: 15287, 158: 15288, 160: 15289, 161: 15290, 162: 15291, 163: 15292, 164: 15293, 165: 15294, 166: 15295, 167: 15296, 168: 15297, 169: 15298, 170: 15299, 171: 15300, 173: 15301, 174: 15302, 175: 15303, 176: 15304, 177: 15305, 178: 15306, 179: 15307, 180: 15308, 181: 15309, 182: 15310, 183: 15311, 184: 15312, 185: 15313, 186: 15314, 187: 15315, 188: 15316, 190: 15317, 191: 15318, 192: 15319, 189: 15320, 194: 15321, 195: 15322, 196: 15323, 197: 15324, 198: 15325, 199: 15326, 200: 15327, 201: 15328, 202: 15329, 193: 15330, 203: 15331, 204: 15332, 205: 15333, 206: 15334, 207: 15335, 208: 15336, 209: 15337, 210: 15338, 211: 15339, 212: 15340, 213: 15341, 214: 15342, 215: 15343, 216: 15344, 217: 15345, 218: 15346, 219: 15347, 220: 15348, 221: 15349, 222: 15350, 223: 15351, 224: 15352, 225: 15353, 226: 15354, 227: 15355, 228: 15356, 229: 15357, 230: 15358, 231: 15359, 232: 15360, 233: 15361, 234: 15362, 235: 15363, 236: 15364, 237: 15365, 238: 15366, 239: 15367, 240: 15368, 241: 15369, 243: 15370, 244: 15371, 245: 15372, 246: 15373, 242: 15374, 247: 15375, 248: 15376, 249: 15377, 250: 15378, 251: 15379, 252: 15380, 253: 15381, 254: 15382, 255: 15383, 256: 15384, 257: 15385, 258: 15386, 259: 15387, 260: 15388, 261: 15389, 262: 15390, 263: 15391, 264: 15392, 265: 15393, 266: 15394, 267: 15395, 268: 15396, 269: 15397, 270: 15398, 271: 15399, 272: 15400, 273: 15401, 274: 15402, 275: 15403, 276: 15404, 277: 15405, 278: 15406, 279: 15407, 280: 15408, 281: 15409, 282: 15410, 283: 15411, 284: 15412, 285: 15413, 286: 15414, 287: 15415, 288: 15416, 289: 15417, 290: 15418, 291: 15419, 292: 15420, 293: 15421, 294: 15422, 295: 15423, 296: 15424, 297: 15425, 298: 15426, 299: 15427, 300: 15428, 301: 15429, 302: 15430, 303: 15431, 304: 15432, 305: 15433, 306: 15434, 307: 15435, 308: 15436, 309: 15437, 310: 15438, 312: 15439, 313: 15440, 314: 15441, 315: 15442, 316: 15443, 317: 15444, 318: 15445, 319: 15446, 320: 15447, 321: 15448, 322: 15449, 323: 15450, 324: 15451, 325: 15452, 326: 15453, 327: 15454, 328: 15455, 329: 15456, 330: 15457, 331: 15458, 332: 15459, 333: 15460, 334: 15461, 335: 15462, 336: 15463, 337: 15464, 339: 15465, 340: 15466, 341: 15467, 342: 15468, 343: 15469, 344: 15470, 345: 15471, 346: 15472, 347: 15473, 348: 15474, 349: 15475, 350: 15476, 351: 15477, 352: 15478, 353: 15479, 354: 15480, 355: 15481, 356: 15482, 357: 15483, 358: 15484, 359: 15485, 360: 15486, 338: 15487, 361: 15488, 362: 15489, 363: 15490, 364: 15491, 365: 15492, 366: 15493, 367: 15494, 368: 15495, 369: 15496, 370: 15497, 371: 15498, 372: 15499, 373: 15500, 374: 15501, 375: 15502, 376: 15503, 377: 15504, 378: 15505, 379: 15506, 380: 15507, 381: 15508, 382: 15509, 383: 15510, 384: 15511, 385: 15512, 386: 15513, 387: 15514, 388: 15515, 389: 15516, 390: 15517, 391: 15518, 392: 15519, 393: 15520, 394: 15521, 395: 15522, 396: 15523, 397: 15524, 398: 15525, 399: 15526, 400: 15527, 401: 15528, 402: 15529, 403: 15530, 404: 15531, 405: 15532, 406: 15533, 407: 15534, 408: 15535, 409: 15536, 411: 15537, 412: 15538, 413: 15539, 414: 15540, 415: 15541, 416: 15542, 417: 15543, 418: 15544, 419: 15545, 420: 15546, 421: 15547, 422: 15548, 423: 15549, 424: 15550, 425: 15551, 426: 15552, 427: 15553, 428: 15554, 429: 15555, 430: 15556, 431: 15557, 432: 15558, 433: 15559, 434: 15560, 435: 15561, 436: 15562, 437: 15563, 438: 15564, 439: 15565, 440: 15566, 410: 15567, 441: 15568, 442: 15569, 443: 15570, 444: 15571, 445: 15572, 446: 15573, 447: 15574, 448: 15575, 449: 15576, 450: 15577, 451: 15578, 452: 15579, 453: 15580, 454: 15581, 455: 15582, 456: 15583, 457: 15584, 458: 15585, 459: 15586, 460: 15587, 461: 15588, 462: 15589, 463: 15590, 464: 15591, 465: 15592, 466: 15593, 467: 15594, 468: 15595, 469: 15596, 470: 15597, 471: 15598, 472: 15599, 474: 15600, 475: 15601, 476: 15602, 477: 15603, 478: 15604, 479: 15605, 480: 15606, 481: 15607, 482: 15608, 483: 15609, 484: 15610, 485: 15611, 486: 15612, 487: 15613, 488: 15614, 489: 15615, 490: 15616, 491: 15617, 492: 15618, 493: 15619, 494: 15620, 495: 15621, 496: 15622, 497: 15623, 498: 15624, 499: 15625, 500: 15626, 501: 15627, 502: 15628, 503: 15629, 504: 15630, 505: 15631, 506: 15632, 507: 15633, 508: 15634, 509: 15635, 510: 15636, 511: 15637, 512: 15638, 513: 15639, 514: 15640, 515: 15641, 516: 15642, 517: 15643, 518: 15644, 519: 15645, 520: 15646, 521: 15647, 522: 15648, 523: 15649, 524: 15650, 525: 15651, 526: 15652, 527: 15653, 528: 15654, 529: 15655, 530: 15656, 531: 15657, 532: 15658, 533: 15659, 534: 15660, 535: 15661, 536: 15662, 537: 15663, 538: 15664, 539: 15665, 540: 15666, 541: 15667, 542: 15668, 543: 15669, 544: 15670, 545: 15671, 546: 15672, 548: 15673, 549: 15674, 550: 15675, 551: 15676, 552: 15677, 553: 15678, 554: 15679, 555: 15680, 556: 15681, 557: 15682, 558: 15683, 559: 15684, 560: 15685, 561: 15686, 562: 15687, 563: 15688, 564: 15689, 565: 15690, 566: 15691, 567: 15692, 568: 15693, 569: 15694, 570: 15695, 571: 15696, 572: 15697, 573: 15698, 574: 15699, 575: 15700, 576: 15701, 577: 15702, 578: 15703, 579: 15704, 580: 15705, 581: 15706, 582: 15707, 583: 15708, 584: 15709, 585: 15710, 586: 15711, 587: 15712, 588: 15713, 589: 15714, 590: 15715, 591: 15716, 592: 15717, 593: 15718, 594: 15719, 595: 15720, 596: 15721, 597: 15722, 598: 15723, 599: 15724, 600: 15725, 601: 15726, 602: 15727, 603: 15728, 604: 15729, 605: 15730, 606: 15731, 607: 15732, 608: 15733, 609: 15734, 610: 15735, 611: 15736, 612: 15737, 613: 15738, 614: 15739, 615: 15740, 616: 15741, 617: 15742, 618: 15743, 619: 15744, 620: 15745, 621: 15746, 622: 15747, 624: 15748, 625: 15749, 626: 15750, 627: 15751, 628: 15752, 629: 15753, 630: 15754, 631: 15755, 632: 15756, 623: 15757, 633: 15758, 634: 15759, 635: 15760, 636: 15761, 637: 15762, 638: 15763, 639: 15764, 640: 15765, 641: 15766, 642: 15767, 643: 15768, 644: 15769, 645: 15770, 646: 15771, 647: 15772, 648: 15773, 649: 15774, 650: 15775, 651: 15776, 652: 15777, 653: 15778, 654: 15779, 655: 15780, 656: 15781, 657: 15782, 658: 15783, 659: 15784, 660: 15785, 661: 15786, 662: 15787, 663: 15788, 664: 15789, 665: 15790, 666: 15791, 667: 15792, 668: 15793, 669: 15794, 670: 15795, 671: 15796, 672: 15797, 673: 15798, 674: 15799, 675: 15800, 676: 15801, 677: 15802, 678: 15803, 679: 15804, 680: 15805, 681: 15806, 682: 15807, 683: 15808, 684: 15809, 685: 15810, 686: 15811, 687: 15812, 688: 15813, 689: 15814, 690: 15815, 691: 15816, 692: 15817, 693: 15818, 694: 15819, 695: 15820, 696: 15821, 697: 15822, 698: 15823, 699: 15824, 700: 15825, 701: 15826, 702: 15827, 703: 15828, 704: 15829, 705: 15830, 706: 15831, 707: 15832, 708: 15833, 709: 15834, 710: 15835, 711: 15836, 712: 15837, 713: 15838, 714: 15839, 715: 15840, 716: 15841, 717: 15842, 718: 15843, 719: 15844, 720: 15845, 721: 15846, 722: 15847, 723: 15848, 724: 15849, 725: 15850, 726: 15851, 727: 15852, 728: 15853, 729: 15854, 730: 15855, 731: 15856, 732: 15857, 733: 15858, 734: 15859, 735: 15860, 736: 15861, 737: 15862, 738: 15863, 739: 15864, 740: 15865, 741: 15866, 742: 15867, 743: 15868, 744: 15869, 745: 15870, 746: 15871, 747: 15872, 748: 15873, 749: 15874, 750: 15875, 751: 15876, 752: 15877, 753: 15878, 754: 15879, 755: 15880, 756: 15881, 757: 15882, 758: 15883, 759: 15884, 760: 15885, 761: 15886, 762: 15887, 763: 15888, 764: 15889, 765: 15890, 766: 15891, 767: 15892, 768: 15893, 769: 15894, 770: 15895, 771: 15896, 772: 15897, 773: 15898, 774: 15899, 775: 15900, 776: 15901, 777: 15902, 778: 15903, 779: 15904, 780: 15905, 781: 15906, 782: 15907, 783: 15908, 784: 15909, 785: 15910, 786: 15911, 787: 15912, 788: 15913, 789: 15914, 790: 15915, 791: 15916, 792: 15917, 793: 15918, 794: 15919, 795: 15920, 796: 15921, 797: 15922, 798: 15923, 799: 15924, 800: 15925, 801: 15926, 802: 15927, 803: 15928, 804: 15929, 805: 15930, 806: 15931, 807: 15932, 808: 15933, 809: 15934, 810: 15935, 811: 15936, 812: 15937, 813: 15938, 814: 15939, 815: 15940, 816: 15941, 817: 15942, 818: 15943, 819: 15944, 820: 15945, 821: 15946, 822: 15947, 823: 15948, 824: 15949, 825: 15950, 826: 15951, 827: 15952, 828: 15953, 829: 15954, 830: 15955, 831: 15956, 832: 15957, 834: 15958, 835: 15959, 836: 15960, 833: 15961, 837: 15962, 838: 15963, 839: 15964, 840: 15965, 841: 15966, 842: 15967, 843: 15968, 844: 15969, 845: 15970, 846: 15971, 847: 15972, 848: 15973, 849: 15974, 850: 15975, 851: 15976, 852: 15977, 853: 15978, 854: 15979, 855: 15980, 856: 15981, 857: 15982, 858: 15983, 859: 15984, 860: 15985, 861: 15986, 862: 15987, 863: 15988, 864: 15989, 865: 15990, 866: 15991, 867: 15992, 868: 15993, 869: 15994, 870: 15995, 871: 15996, 872: 15997, 873: 15998, 874: 15999, 875: 16000, 876: 16001, 877: 16002, 878: 16003, 879: 16004, 880: 16005, 881: 16006, 882: 16007, 883: 16008, 884: 16009, 885: 16010, 886: 16011, 887: 16012, 888: 16013, 889: 16014, 890: 16015, 891: 16016, 892: 16017, 893: 16018, 894: 16019, 895: 16020, 896: 16021, 897: 16022, 898: 16023, 899: 16024, 900: 16025, 901: 16026, 902: 16027, 904: 16028, 905: 16029, 906: 16030, 903: 16031, 907: 16032, 908: 16033, 909: 16034, 910: 16035, 911: 16036, 912: 16037, 913: 16038, 914: 16039, 915: 16040, 916: 16041, 917: 16042, 918: 16043, 919: 16044, 920: 16045, 921: 16046, 922: 16047, 923: 16048, 924: 16049, 925: 16050, 926: 16051, 927: 16052, 928: 16053, 929: 16054, 930: 16055, 931: 16056, 932: 16057, 933: 16058, 934: 16059, 935: 16060, 936: 16061, 937: 16062, 938: 16063, 939: 16064, 940: 16065, 941: 16066, 942: 16067, 943: 16068, 944: 16069, 945: 16070, 946: 16071, 947: 16072, 948: 16073, 949: 16074, 950: 16075, 951: 16076, 952: 16077, 953: 16078, 954: 16079, 955: 16080, 956: 16081, 957: 16082, 958: 16083, 959: 16084, 960: 16085, 961: 16086, 962: 16087, 963: 16088, 964: 16089, 965: 16090, 966: 16091, 967: 16092, 968: 16093, 969: 16094, 970: 16095, 971: 16096, 972: 16097, 973: 16098, 974: 16099, 975: 16100, 976: 16101, 977: 16102, 978: 16103, 979: 16104, 980: 16105, 981: 16106, 982: 16107, 983: 16108, 984: 16109, 985: 16110, 986: 16111, 987: 16112, 988: 16113, 989: 16114, 990: 16115, 991: 16116, 992: 16117, 993: 16118, 994: 16119, 995: 16120, 996: 16121, 997: 16122, 998: 16123, 999: 16124, 1000: 16125, 1001: 16126, 1002: 16127, 1003: 16128, 1004: 16129, 1005: 16130, 1006: 16131, 1007: 16132, 1008: 16133, 1009: 16134, 1010: 16135, 1011: 16136, 1012: 16137, 1013: 16138, 1014: 16139, 1015: 16140, 1016: 16141, 1017: 16142, 1018: 16143, 1019: 16144, 1020: 16145, 1021: 16146, 1022: 16147, 1023: 16148, 1024: 16149, 1025: 16150, 1026: 16151, 1027: 16152, 1028: 16153, 1029: 16154, 1030: 16155, 1031: 16156, 1032: 16157, 1033: 16158, 1034: 16159, 1035: 16160, 1036: 16161, 1038: 16162, 1039: 16163, 1040: 16164, 1037: 16165, 1041: 16166, 1042: 16167, 1043: 16168, 1044: 16169, 1045: 16170, 156: 16171, 159: 16172, 172: 16173, 311: 16174, 473: 16175, 547: 16176, 1047: 16177, 1048: 16178, 1049: 16179, 1052: 16180, 1053: 16181, 1050: 16182, 1055: 16183, 1056: 16184, 1057: 16185, 1058: 16186, 1059: 16187, 1054: 16188, 1060: 16189, 1061: 16190, 1062: 16191, 1063: 16192, 1064: 16193, 1065: 16194, 1068: 16195, 1066: 16196, 1069: 16197, 1070: 16198, 1072: 16199, 1073: 16200, 1075: 16201, 1076: 16202, 1077: 16203, 1078: 16204, 1079: 16205, 1080: 16206, 1081: 16207, 1082: 16208, 1083: 16209, 1084: 16210, 1085: 16211, 1086: 16212, 1087: 16213, 1088: 16214, 1091: 16215, 1092: 16216, 1089: 16217, 1093: 16218, 1094: 16219, 1095: 16220, 1096: 16221, 1097: 16222, 1098: 16223, 1101: 16224, 1102: 16225, 1099: 16226, 1103: 16227, 1104: 16228, 1105: 16229, 1106: 16230, 1107: 16231, 1108: 16232, 1109: 16233, 1110: 16234, 1111: 16235, 1112: 16236, 1113: 16237, 1114: 16238, 1115: 16239, 1116: 16240, 1117: 16241, 1118: 16242, 1119: 16243, 1120: 16244, 1121: 16245, 1122: 16246, 1123: 16247, 1124: 16248, 1125: 16249, 1126: 16250, 1127: 16251, 1128: 16252, 1129: 16253, 1130: 16254, 1131: 16255, 1132: 16256, 1133: 16257, 1134: 16258, 1135: 16259, 1136: 16260, 1137: 16261, 1138: 16262, 1139: 16263, 1140: 16264, 1141: 16265, 1142: 16266, 1143: 16267, 1146: 16268, 1144: 16269, 1147: 16270, 1148: 16271, 1149: 16272, 1150: 16273, 1151: 16274, 1152: 16275, 1153: 16276, 1154: 16277, 1155: 16278, 1156: 16279, 1157: 16280, 1158: 16281, 1159: 16282, 1160: 16283, 1161: 16284, 1162: 16285, 1165: 16286, 1166: 16287, 1163: 16288, 1167: 16289, 1168: 16290, 1169: 16291, 1170: 16292, 1171: 16293, 1172: 16294, 1173: 16295, 1174: 16296, 1175: 16297, 1176: 16298, 1177: 16299, 1178: 16300, 1179: 16301, 1180: 16302, 1181: 16303, 1182: 16304, 1183: 16305, 1184: 16306, 1185: 16307, 1186: 16308, 1187: 16309, 1188: 16310, 1189: 16311, 1190: 16312, 1191: 16313, 1192: 16314, 1193: 16315, 1194: 16316, 1195: 16317, 1196: 16318, 1197: 16319, 1198: 16320, 1199: 16321, 1200: 16322, 1201: 16323, 1202: 16324, 1205: 16325, 1203: 16326, 1206: 16327, 1207: 16328, 1208: 16329, 1209: 16330, 1210: 16331, 1211: 16332, 1212: 16333, 1213: 16334, 1215: 16335, 1216: 16336, 1217: 16337, 1218: 16338, 1219: 16339, 1214: 16340, 1220: 16341, 1221: 16342, 1222: 16343, 1223: 16344, 1224: 16345, 1225: 16346, 1226: 16347, 1227: 16348, 1228: 16349, 1229: 16350, 1230: 16351, 1231: 16352, 1232: 16353, 1233: 16354, 1234: 16355, 1235: 16356, 1236: 16357, 1237: 16358, 1238: 16359, 1239: 16360, 1240: 16361, 1241: 16362, 1242: 16363, 1243: 16364, 1244: 16365, 1245: 16366, 1246: 16367, 1247: 16368, 1248: 16369, 1249: 16370, 1250: 16371, 1251: 16372, 1252: 16373, 1253: 16374, 1254: 16375, 1255: 16376, 1256: 16377, 1257: 16378, 1258: 16379, 1259: 16380, 1260: 16381, 1261: 16382, 1262: 16383, 1263: 16384, 1264: 16385, 1265: 16386, 1266: 16387, 1267: 16388, 1268: 16389, 1269: 16390, 1270: 16391, 1272: 16392, 1274: 16393, 1275: 16394, 1276: 16395, 1277: 16396, 1278: 16397, 1279: 16398, 1280: 16399, 1281: 16400, 1282: 16401, 1273: 16402, 1283: 16403, 1284: 16404, 1285: 16405, 1286: 16406, 1287: 16407, 1288: 16408, 1289: 16409, 1290: 16410, 1293: 16411, 1294: 16412, 1291: 16413, 1295: 16414, 1296: 16415, 1297: 16416, 1298: 16417, 1299: 16418, 1300: 16419, 1301: 16420, 1302: 16421, 1303: 16422, 1304: 16423, 1305: 16424, 1307: 16425, 1308: 16426, 1309: 16427, 1311: 16428, 1312: 16429, 1313: 16430, 1314: 16431, 1315: 16432, 1310: 16433, 1316: 16434, 1317: 16435, 1318: 16436, 1319: 16437, 1320: 16438, 1321: 16439, 1322: 16440, 1323: 16441, 1324: 16442, 1325: 16443, 1326: 16444, 1327: 16445, 1328: 16446, 1329: 16447, 1330: 16448, 1331: 16449, 1334: 16450, 1335: 16451, 1332: 16452, 1336: 16453, 1337: 16454, 1338: 16455, 1339: 16456, 1340: 16457, 1341: 16458, 1342: 16459, 1343: 16460, 1344: 16461, 1345: 16462, 1346: 16463, 1347: 16464, 1348: 16465, 1349: 16466, 1350: 16467, 1351: 16468, 1352: 16469, 1353: 16470, 1354: 16471, 1355: 16472, 1356: 16473, 1358: 16474, 1359: 16475, 1360: 16476, 1361: 16477, 1362: 16478, 1357: 16479, 1363: 16480, 1366: 16481, 1364: 16482, 1367: 16483, 1368: 16484, 1369: 16485, 1370: 16486, 1371: 16487, 1372: 16488, 1373: 16489, 1374: 16490, 1375: 16491, 1376: 16492, 1377: 16493, 1380: 16494, 1378: 16495, 1381: 16496, 1382: 16497, 1383: 16498, 1384: 16499, 1385: 16500, 1386: 16501, 1387: 16502, 1390: 16503, 1391: 16504, 1388: 16505, 1392: 16506, 1393: 16507, 1394: 16508, 1395: 16509, 1396: 16510, 1397: 16511, 1399: 16512, 1400: 16513, 1401: 16514, 1402: 16515, 1403: 16516, 1398: 16517, 1404: 16518, 1405: 16519, 1406: 16520, 1407: 16521, 1410: 16522, 1411: 16523, 1408: 16524, 1412: 16525, 1414: 16526, 1415: 16527, 1416: 16528, 1417: 16529, 1418: 16530, 1413: 16531, 1419: 16532, 1420: 16533, 1421: 16534, 1422: 16535, 1423: 16536, 1424: 16537, 1425: 16538, 1426: 16539, 1427: 16540, 1428: 16541, 1429: 16542, 1430: 16543, 1431: 16544, 1432: 16545, 1433: 16546, 1434: 16547, 1435: 16548, 1436: 16549, 1437: 16550, 1438: 16551, 1439: 16552, 1440: 16553, 1441: 16554, 1442: 16555, 1443: 16556, 1444: 16557, 1445: 16558, 1446: 16559, 1447: 16560, 1448: 16561, 1450: 16562, 1451: 16563, 1452: 16564, 1453: 16565, 1454: 16566, 1455: 16567, 1456: 16568, 1457: 16569, 1458: 16570, 1459: 16571, 1460: 16572, 1461: 16573, 1462: 16574, 1463: 16575, 1464: 16576, 1465: 16577, 1466: 16578, 1467: 16579, 1468: 16580, 1469: 16581, 1470: 16582, 1471: 16583, 1472: 16584, 1473: 16585, 1474: 16586, 1475: 16587, 1478: 16588, 1479: 16589, 1476: 16590, 1480: 16591, 1481: 16592, 1482: 16593, 1483: 16594, 1484: 16595, 1071: 16596, 1485: 16597, 1487: 16598, 1488: 16599, 1489: 16600, 1490: 16601, 1491: 16602, 1492: 16603, 1493: 16604, 1494: 16605, 1495: 16606, 1497: 16607, 1498: 16608, 1499: 16609, 1500: 16610, 1501: 16611, 1496: 16612, 1502: 16613, 1503: 16614, 1506: 16615, 1507: 16616, 1504: 16617, 1508: 16618, 1509: 16619, 1510: 16620, 1511: 16621, 1512: 16622, 1513: 16623, 1514: 16624, 1515: 16625, 1516: 16626, 1517: 16627, 1518: 16628, 1519: 16629, 1520: 16630, 1521: 16631, 1522: 16632, 1523: 16633, 1524: 16634, 1525: 16635, 1526: 16636, 1527: 16637, 1530: 16638, 1531: 16639, 1528: 16640, 1532: 16641, 1535: 16642, 1536: 16643, 1533: 16644, 1537: 16645, 1538: 16646, 1539: 16647, 1540: 16648, 1541: 16649, 1542: 16650, 1543: 16651, 1544: 16652, 1545: 16653, 1546: 16654, 1549: 16655, 1547: 16656, 1550: 16657, 1551: 16658, 1552: 16659, 1553: 16660, 1554: 16661, 1555: 16662, 1558: 16663, 1556: 16664, 1559: 16665, 1560: 16666, 1563: 16667, 1561: 16668, 1564: 16669, 1565: 16670, 1566: 16671, 1567: 16672, 1568: 16673, 1570: 16674, 1571: 16675, 1572: 16676, 1573: 16677, 1574: 16678, 1569: 16679, 1575: 16680, 1577: 16681, 1578: 16682, 1579: 16683, 1580: 16684, 1581: 16685, 1576: 16686, 1582: 16687, 1583: 16688, 1584: 16689, 1585: 16690, 1587: 16691, 1588: 16692, 1589: 16693, 1590: 16694, 1591: 16695, 1586: 16696, 1592: 16697, 1593: 16698, 1594: 16699, 1597: 16700, 1598: 16701, 1595: 16702, 1599: 16703, 1600: 16704, 1601: 16705, 1603: 16706, 1604: 16707, 1605: 16708, 1606: 16709, 1607: 16710, 1602: 16711, 1608: 16712, 1609: 16713, 1610: 16714, 1611: 16715, 1613: 16716, 1614: 16717, 1615: 16718, 1616: 16719, 1617: 16720, 1612: 16721, 1618: 16722, 1621: 16723, 1622: 16724, 1619: 16725, 1623: 16726, 1626: 16727, 1627: 16728, 1624: 16729, 1629: 16730, 1630: 16731, 1631: 16732, 1632: 16733, 1633: 16734, 1628: 16735, 1636: 16736, 1637: 16737, 1634: 16738, 1638: 16739, 1639: 16740, 1640: 16741, 1641: 16742, 1642: 16743, 1643: 16744, 1646: 16745, 1644: 16746, 1650: 16747, 1648: 16748, 1651: 16749, 1652: 16750, 1653: 16751, 1654: 16752, 1655: 16753, 1656: 16754, 1657: 16755, 1658: 16756, 1659: 16757, 1660: 16758, 1661: 16759, 1662: 16760, 1663: 16761, 1664: 16762, 1665: 16763, 1666: 16764, 1669: 16765, 1670: 16766, 1667: 16767, 1671: 16768, 1672: 16769, 1673: 16770, 1674: 16771, 1675: 16772, 1676: 16773, 1677: 16774, 1679: 16775, 1680: 16776, 1681: 16777, 1682: 16778, 1683: 16779, 1684: 16780, 1685: 16781, 1686: 16782, 1687: 16783, 1688: 16784, 1689: 16785, 1690: 16786, 1691: 16787, 1692: 16788, 1693: 16789, 1694: 16790, 1695: 16791, 1696: 16792, 1697: 16793, 1698: 16794, 1699: 16795, 1700: 16796, 1701: 16797, 1702: 16798, 1703: 16799, 1704: 16800, 1705: 16801, 1706: 16802, 1707: 16803, 1709: 16804, 1710: 16805, 1711: 16806, 1712: 16807, 1713: 16808, 1708: 16809, 1714: 16810, 1715: 16811, 1716: 16812, 1717: 16813, 1718: 16814, 1719: 16815, 1720: 16816, 1721: 16817, 1722: 16818, 1723: 16819, 1726: 16820, 1727: 16821, 1724: 16822, 1728: 16823, 1729: 16824, 1731: 16825, 1732: 16826, 1733: 16827, 1734: 16828, 1735: 16829, 1730: 16830, 1736: 16831, 1737: 16832, 1738: 16833, 1739: 16834, 1740: 16835, 1741: 16836, 1742: 16837, 1743: 16838, 1744: 16839, 1745: 16840, 1746: 16841, 1747: 16842, 1748: 16843, 1751: 16844, 1752: 16845, 1749: 16846, 1755: 16847, 1756: 16848, 1753: 16849, 1757: 16850, 1758: 16851, 1759: 16852, 1760: 16853, 1761: 16854, 1762: 16855, 1763: 16856, 1764: 16857, 1765: 16858, 1766: 16859, 1767: 16860, 1768: 16861, 1769: 16862, 1770: 16863, 1771: 16864, 1772: 16865, 1773: 16866, 1774: 16867, 1775: 16868, 1776: 16869, 1777: 16870, 1779: 16871, 1780: 16872, 1781: 16873, 1784: 16874, 1782: 16875, 1785: 16876, 1786: 16877, 1787: 16878, 1788: 16879, 1789: 16880, 1790: 16881, 1791: 16882, 1793: 16883, 1794: 16884, 1795: 16885, 1796: 16886, 1797: 16887, 1798: 16888, 1799: 16889, 1800: 16890, 1801: 16891, 1802: 16892, 1803: 16893, 1804: 16894, 1805: 16895, 1806: 16896, 1807: 16897, 1808: 16898, 1809: 16899, 1810: 16900, 1811: 16901, 1812: 16902, 1813: 16903, 1814: 16904, 1815: 16905, 1816: 16906, 1817: 16907, 1818: 16908, 1819: 16909, 1820: 16910, 1821: 16911, 1822: 16912, 1823: 16913, 1824: 16914, 1825: 16915, 1826: 16916, 1828: 16917, 1829: 16918, 1830: 16919, 1831: 16920, 1833: 16921, 1834: 16922, 1835: 16923, 1836: 16924, 1837: 16925, 1832: 16926, 1838: 16927, 1839: 16928, 1840: 16929, 1842: 16930, 1843: 16931, 1844: 16932, 1845: 16933, 1846: 16934, 1841: 16935, 1847: 16936, 1848: 16937, 1849: 16938, 1850: 16939, 1851: 16940, 1852: 16941, 1853: 16942, 1854: 16943, 1855: 16944, 1856: 16945, 1857: 16946, 1858: 16947, 1861: 16948, 1862: 16949, 1859: 16950, 1863: 16951, 1864: 16952, 1865: 16953, 1866: 16954, 1867: 16955, 1870: 16956, 1871: 16957, 1868: 16958, 1872: 16959, 1873: 16960, 1874: 16961, 1875: 16962, 1876: 16963, 1879: 16964, 1880: 16965, 1877: 16966, 1881: 16967, 1882: 16968, 1883: 16969, 1884: 16970, 1885: 16971, 1886: 16972, 1887: 16973, 1888: 16974, 1889: 16975, 1890: 16976, 1891: 16977, 1892: 16978, 1895: 16979, 1896: 16980, 1893: 16981, 1897: 16982, 1898: 16983, 1899: 16984, 1900: 16985, 1901: 16986, 1902: 16987, 1903: 16988, 1904: 16989, 1905: 16990, 1908: 16991, 1909: 16992, 1906: 16993, 1912: 16994, 1913: 16995, 1910: 16996, 1914: 16997, 1915: 16998, 1916: 16999, 1917: 17000, 1919: 17001, 1920: 17002, 1921: 17003, 1922: 17004, 1923: 17005, 1918: 17006, 1924: 17007, 1925: 17008, 1926: 17009, 1927: 17010, 1928: 17011, 1929: 17012, 1930: 17013, 1933: 17014, 1934: 17015, 1931: 17016, 1935: 17017, 1936: 17018, 1937: 17019, 1938: 17020, 1940: 17021, 1941: 17022, 1942: 17023, 1943: 17024, 1944: 17025, 1945: 17026, 1946: 17027, 1947: 17028, 1948: 17029, 1949: 17030, 1950: 17031, 1951: 17032, 1952: 17033, 1953: 17034, 1954: 17035, 1955: 17036, 1956: 17037, 1957: 17038, 1958: 17039, 1959: 17040, 1961: 17041, 1962: 17042, 1960: 17043, 1963: 17044, 1964: 17045, 1965: 17046, 1966: 17047, 1967: 17048, 1968: 17049, 1969: 17050, 1970: 17051, 1971: 17052, 1972: 17053, 1973: 17054, 1976: 17055, 1977: 17056, 1974: 17057, 1978: 17058, 1979: 17059, 1980: 17060, 1983: 17061, 1984: 17062, 1981: 17063, 1985: 17064, 1986: 17065, 1987: 17066, 1988: 17067, 1989: 17068, 1990: 17069, 1991: 17070, 1992: 17071, 1993: 17072, 1994: 17073, 1996: 17074, 1997: 17075, 1998: 17076, 1999: 17077, 2000: 17078, 1995: 17079, 2001: 17080, 2002: 17081, 2003: 17082, 2004: 17083, 2007: 17084, 2008: 17085, 2005: 17086, 2009: 17087, 2010: 17088, 2013: 17089, 2014: 17090, 2011: 17091, 2015: 17092, 2016: 17093, 2017: 17094, 2018: 17095, 2019: 17096, 2020: 17097, 2021: 17098, 2022: 17099, 2023: 17100, 2024: 17101, 2025: 17102, 2026: 17103, 2029: 17104, 2027: 17105, 2030: 17106, 2031: 17107, 2032: 17108, 2033: 17109, 2034: 17110, 2035: 17111, 2036: 17112, 2038: 17113, 2039: 17114, 2040: 17115, 2041: 17116, 2042: 17117, 2043: 17118, 2044: 17119, 2045: 17120, 2046: 17121, 2047: 17122, 2048: 17123, 2049: 17124, 2052: 17125, 2053: 17126, 2050: 17127, 2054: 17128, 2055: 17129, 2056: 17130, 2057: 17131, 2058: 17132, 2059: 17133, 2060: 17134, 2062: 17135, 2063: 17136, 2064: 17137, 2065: 17138, 2061: 17139, 2066: 17140, 2067: 17141, 2068: 17142, 2070: 17143, 2071: 17144, 2072: 17145, 2073: 17146, 2074: 17147, 2069: 17148, 2075: 17149, 2076: 17150, 2077: 17151, 2078: 17152, 2079: 17153, 2080: 17154, 2081: 17155, 2082: 17156, 2083: 17157, 2084: 17158, 2085: 17159, 2086: 17160, 2087: 17161, 2088: 17162, 2089: 17163, 2090: 17164, 2091: 17165, 2092: 17166, 2093: 17167, 2094: 17168, 2095: 17169, 2096: 17170, 2097: 17171, 2098: 17172, 2099: 17173, 2100: 17174, 2101: 17175, 2102: 17176, 2103: 17177, 2104: 17178, 2105: 17179, 2106: 17180, 2108: 17181, 2109: 17182, 2110: 17183, 2111: 17184, 2112: 17185, 2113: 17186, 2114: 17187, 2115: 17188, 2116: 17189, 2119: 17190, 2120: 17191, 2117: 17192, 2121: 17193, 2122: 17194, 2123: 17195, 2124: 17196, 2125: 17197, 2126: 17198, 2127: 17199, 2128: 17200, 2129: 17201, 2130: 17202, 2131: 17203, 2132: 17204, 2133: 17205, 2135: 17206, 2136: 17207, 2137: 17208, 2138: 17209, 2139: 17210, 2140: 17211, 2141: 17212, 2142: 17213, 2143: 17214, 2144: 17215, 2145: 17216, 2147: 17217, 2148: 17218, 2149: 17219, 2150: 17220, 2151: 17221, 2152: 17222, 2153: 17223, 2154: 17224, 2157: 17225, 2158: 17226, 2155: 17227, 2159: 17228, 2160: 17229, 2161: 17230, 2162: 17231, 2163: 17232, 2164: 17233, 2146: 17234, 2165: 17235, 2166: 17236, 2167: 17237, 2168: 17238, 2169: 17239, 2170: 17240, 2171: 17241, 2172: 17242, 2173: 17243, 2174: 17244, 2175: 17245, 2176: 17246, 2177: 17247, 2178: 17248, 2179: 17249, 2180: 17250, 2181: 17251, 2184: 17252, 2182: 17253, 2185: 17254, 2186: 17255, 2187: 17256, 2189: 17257, 2190: 17258, 2191: 17259, 2192: 17260, 2193: 17261, 2196: 17262, 2197: 17263, 2194: 17264, 2198: 17265, 2199: 17266, 2200: 17267, 2201: 17268, 2202: 17269, 2203: 17270, 2204: 17271, 2205: 17272, 2206: 17273, 2207: 17274, 2208: 17275, 2209: 17276, 2212: 17277, 2213: 17278, 2210: 17279, 2214: 17280, 2215: 17281, 2216: 17282, 2217: 17283, 2218: 17284, 2219: 17285, 2222: 17286, 2223: 17287, 2220: 17288, 2226: 17289, 2227: 17290, 2224: 17291, 2228: 17292, 2229: 17293, 2230: 17294, 2231: 17295, 2233: 17296, 2234: 17297, 2235: 17298, 2236: 17299, 2237: 17300, 2238: 17301, 2240: 17302, 2241: 17303, 2242: 17304, 2243: 17305, 2244: 17306, 2239: 17307, 2245: 17308, 2246: 17309, 2249: 17310, 2250: 17311, 2247: 17312, 2251: 17313, 2252: 17314, 2253: 17315, 2254: 17316, 2255: 17317, 2256: 17318, 2257: 17319, 2258: 17320, 2259: 17321, 2260: 17322, 2261: 17323, 2262: 17324, 2263: 17325, 2264: 17326, 2265: 17327, 2266: 17328, 2267: 17329, 2268: 17330, 2271: 17331, 2272: 17332, 2269: 17333, 2273: 17334, 2274: 17335, 2275: 17336, 2276: 17337, 2277: 17338, 2278: 17339, 2279: 17340, 2281: 17341, 2282: 17342, 2283: 17343, 2284: 17344, 2285: 17345, 2280: 17346, 2286: 17347, 2287: 17348, 2288: 17349, 2289: 17350, 2290: 17351, 2291: 17352, 2292: 17353, 2293: 17354, 2294: 17355, 2295: 17356, 2296: 17357, 2297: 17358, 2298: 17359, 2300: 17360, 2301: 17361, 2302: 17362, 2303: 17363, 2304: 17364, 2299: 17365, 2305: 17366, 2306: 17367, 2307: 17368, 2308: 17369, 2309: 17370, 2310: 17371, 2311: 17372, 2312: 17373, 2313: 17374, 2314: 17375, 2315: 17376, 2316: 17377, 2317: 17378, 2318: 17379, 2319: 17380, 2320: 17381, 2321: 17382, 2322: 17383, 2323: 17384, 2324: 17385, 2325: 17386, 2326: 17387, 2327: 17388, 2328: 17389, 2329: 17390, 2330: 17391, 2331: 17392, 2332: 17393, 2333: 17394, 2334: 17395, 2335: 17396, 2336: 17397, 2337: 17398, 2339: 17399, 2338: 17400, 2341: 17401, 2342: 17402, 2343: 17403, 2344: 17404, 2345: 17405, 2346: 17406, 2347: 17407, 2349: 17408, 2350: 17409, 2351: 17410, 2352: 17411, 2353: 17412, 2354: 17413, 2355: 17414, 2356: 17415, 2357: 17416, 2360: 17417, 2358: 17418, 2361: 17419, 2362: 17420, 2363: 17421, 2364: 17422, 2366: 17423, 2367: 17424, 2368: 17425, 2369: 17426, 2370: 17427, 2365: 17428, 2371: 17429, 2372: 17430, 2373: 17431, 2374: 17432, 2375: 17433, 2376: 17434, 2377: 17435, 2378: 17436, 2379: 17437, 2380: 17438, 2381: 17439, 2382: 17440, 2383: 17441, 2384: 17442, 2385: 17443, 2386: 17444, 2387: 17445, 2390: 17446, 2391: 17447, 2388: 17448, 2392: 17449, 2393: 17450, 2394: 17451, 2395: 17452, 2396: 17453, 2397: 17454, 2398: 17455, 2399: 17456, 2400: 17457, 2401: 17458, 2402: 17459, 2403: 17460, 2404: 17461, 2405: 17462, 2406: 17463, 2407: 17464, 2409: 17465, 2410: 17466, 2411: 17467, 2412: 17468, 2413: 17469, 2408: 17470, 2416: 17471, 2417: 17472, 2414: 17473, 2419: 17474, 2420: 17475, 2421: 17476, 2422: 17477, 2423: 17478, 2418: 17479, 2425: 17480, 2426: 17481, 2427: 17482, 2428: 17483, 2429: 17484, 2424: 17485, 2430: 17486, 2431: 17487, 2432: 17488, 2434: 17489, 2435: 17490, 2436: 17491, 2437: 17492, 2438: 17493, 2433: 17494, 2439: 17495, 2440: 17496, 2441: 17497, 2442: 17498, 2443: 17499, 2444: 17500, 2445: 17501, 2446: 17502, 2447: 17503, 2448: 17504, 2449: 17505, 2450: 17506, 2451: 17507, 2452: 17508, 2454: 17509, 2453: 17510, 2455: 17511, 2456: 17512, 2457: 17513, 2458: 17514, 2459: 17515, 2460: 17516, 2461: 17517, 2462: 17518, 2463: 17519, 2464: 17520, 2465: 17521, 2466: 17522, 2467: 17523, 2468: 17524, 2471: 17525, 2472: 17526, 2469: 17527, 2473: 17528, 2474: 17529, 2475: 17530, 2476: 17531, 2479: 17532, 2480: 17533, 2477: 17534, 2481: 17535, 2482: 17536, 2483: 17537, 2484: 17538, 2485: 17539, 2486: 17540, 2487: 17541, 2488: 17542, 2489: 17543, 2492: 17544, 2493: 17545, 2490: 17546, 2494: 17547, 2497: 17548, 2498: 17549, 2495: 17550, 2499: 17551, 2500: 17552, 2501: 17553, 2503: 17554, 2504: 17555, 2505: 17556, 2506: 17557, 2507: 17558, 2508: 17559, 2509: 17560, 2510: 17561, 2511: 17562, 2512: 17563, 2514: 17564, 2515: 17565, 2516: 17566, 2517: 17567, 2518: 17568, 2513: 17569, 2519: 17570, 2520: 17571, 2521: 17572, 2502: 17573, 2522: 17574, 2523: 17575, 2524: 17576, 2525: 17577, 2526: 17578, 2527: 17579, 2528: 17580, 2529: 17581, 2530: 17582, 2531: 17583, 2534: 17584, 2535: 17585, 2532: 17586, 2536: 17587, 2537: 17588, 2538: 17589, 2539: 17590, 2540: 17591, 2541: 17592, 2542: 17593, 2543: 17594, 2544: 17595, 2545: 17596, 2548: 17597, 2549: 17598, 2546: 17599, 2550: 17600, 2551: 17601, 2552: 17602, 2553: 17603, 2554: 17604, 2555: 17605, 2556: 17606, 2557: 17607, 2558: 17608, 2559: 17609, 2562: 17610, 2563: 17611, 2560: 17612, 2564: 17613, 2567: 17614, 2568: 17615, 2565: 17616, 2569: 17617, 2570: 17618, 2571: 17619, 2572: 17620, 2573: 17621, 2574: 17622, 2575: 17623, 2576: 17624, 2577: 17625, 2578: 17626, 2579: 17627, 2580: 17628, 2581: 17629, 2582: 17630, 2583: 17631, 2584: 17632, 2585: 17633, 2586: 17634, 2587: 17635, 2588: 17636, 2589: 17637, 2590: 17638, 2591: 17639, 2592: 17640, 2593: 17641, 2596: 17642, 2594: 17643, 2597: 17644, 2598: 17645, 2599: 17646, 2600: 17647, 2601: 17648, 2602: 17649, 2603: 17650, 2604: 17651, 2605: 17652, 2606: 17653, 2607: 17654, 2608: 17655, 2609: 17656, 2610: 17657, 2611: 17658, 2612: 17659, 2613: 17660, 2614: 17661, 2615: 17662, 2617: 17663, 2618: 17664, 2619: 17665, 2620: 17666, 2621: 17667, 2616: 17668, 2622: 17669, 2623: 17670, 2626: 17671, 2627: 17672, 2624: 17673, 2628: 17674, 2629: 17675, 2630: 17676, 2631: 17677, 2632: 17678, 2634: 17679, 2635: 17680, 2636: 17681, 2637: 17682, 2638: 17683, 2639: 17684, 2640: 17685, 2641: 17686, 2642: 17687, 2643: 17688, 2644: 17689, 2645: 17690, 2646: 17691, 2647: 17692, 2648: 17693, 2649: 17694, 2650: 17695, 2651: 17696, 2653: 17697, 2654: 17698, 2655: 17699, 2656: 17700, 2657: 17701, 2652: 17702, 2658: 17703, 2659: 17704, 2660: 17705, 2661: 17706, 2662: 17707, 2663: 17708, 2664: 17709, 2665: 17710, 2666: 17711, 2667: 17712, 2668: 17713, 2669: 17714, 2670: 17715, 2671: 17716, 2672: 17717, 2673: 17718, 2674: 17719, 2675: 17720, 2676: 17721, 2677: 17722, 2678: 17723, 2679: 17724, 2682: 17725, 2683: 17726, 2680: 17727, 2684: 17728, 2685: 17729, 2686: 17730, 2687: 17731, 2688: 17732, 2689: 17733, 2690: 17734, 2691: 17735, 2692: 17736, 2693: 17737, 2694: 17738, 2695: 17739, 2696: 17740, 2697: 17741, 2698: 17742, 2699: 17743, 2700: 17744, 2701: 17745, 2702: 17746, 2703: 17747, 2704: 17748, 2705: 17749, 2706: 17750, 2707: 17751, 2708: 17752, 2709: 17753, 2710: 17754, 2711: 17755, 2712: 17756, 2713: 17757, 2714: 17758, 2715: 17759, 2716: 17760, 2717: 17761, 2718: 17762, 2719: 17763, 2720: 17764, 2721: 17765, 2722: 17766, 2723: 17767, 2724: 17768, 2726: 17769, 2727: 17770, 2728: 17771, 2729: 17772, 2730: 17773, 2725: 17774, 2731: 17775, 2733: 17776, 2734: 17777, 2735: 17778, 2736: 17779, 2737: 17780, 2732: 17781, 2738: 17782, 2739: 17783, 2740: 17784, 2741: 17785, 2742: 17786, 2743: 17787, 2744: 17788, 2745: 17789, 2746: 17790, 2747: 17791, 2748: 17792, 2749: 17793, 2750: 17794, 2751: 17795, 2752: 17796, 2753: 17797, 2754: 17798, 2755: 17799, 2756: 17800, 2757: 17801, 2758: 17802, 2759: 17803, 2760: 17804, 2761: 17805, 2762: 17806, 2763: 17807, 2764: 17808, 2765: 17809, 2766: 17810, 2767: 17811, 2768: 17812, 2769: 17813, 2770: 17814, 2771: 17815, 2772: 17816, 2773: 17817, 2774: 17818, 2775: 17819, 2776: 17820, 2777: 17821, 2778: 17822, 2779: 17823, 2780: 17824, 2781: 17825, 2782: 17826, 2783: 17827, 2784: 17828, 2785: 17829, 2786: 17830, 2787: 17831, 2788: 17832, 2789: 17833, 2790: 17834, 2793: 17835, 2794: 17836, 2791: 17837, 2795: 17838, 2796: 17839, 2798: 17840, 2799: 17841, 2800: 17842, 2801: 17843, 2802: 17844, 2803: 17845, 2804: 17846, 2805: 17847, 2806: 17848, 2807: 17849, 2808: 17850, 2809: 17851, 2810: 17852, 2811: 17853, 2812: 17854, 2813: 17855, 2814: 17856, 2815: 17857, 2816: 17858, 2817: 17859, 2818: 17860, 2819: 17861, 2822: 17862, 2820: 17863, 2823: 17864, 2824: 17865, 2826: 17866, 2827: 17867, 2828: 17868, 2829: 17869, 2830: 17870, 2825: 17871, 2831: 17872, 2832: 17873, 2833: 17874, 2834: 17875, 2835: 17876, 2836: 17877, 2837: 17878, 2838: 17879, 2840: 17880, 2841: 17881, 2842: 17882, 2843: 17883, 2844: 17884, 2839: 17885, 2846: 17886, 2847: 17887, 2848: 17888, 2849: 17889, 2850: 17890, 2845: 17891, 2851: 17892, 2852: 17893, 2853: 17894, 2855: 17895, 2856: 17896, 2857: 17897, 2858: 17898, 2859: 17899, 2860: 17900, 2861: 17901, 2862: 17902, 2863: 17903, 2864: 17904, 2865: 17905, 2866: 17906, 2867: 17907, 2868: 17908, 2869: 17909, 2870: 17910, 2871: 17911, 2872: 17912, 2873: 17913, 2874: 17914, 2875: 17915, 2876: 17916, 2877: 17917, 2878: 17918, 2879: 17919, 2880: 17920, 2882: 17921, 2883: 17922, 2884: 17923, 2885: 17924, 2886: 17925, 2887: 17926, 2888: 17927, 2889: 17928, 2890: 17929, 2891: 17930, 2892: 17931, 2893: 17932, 2894: 17933, 2895: 17934, 2896: 17935, 2897: 17936, 2898: 17937, 2899: 17938, 2900: 17939, 2903: 17940, 2904: 17941, 2901: 17942, 2905: 17943, 2906: 17944, 2907: 17945, 2908: 17946, 2909: 17947, 2910: 17948, 2911: 17949, 2912: 17950, 2913: 17951, 2914: 17952, 2915: 17953, 2916: 17954, 2919: 17955, 2920: 17956, 2917: 17957, 2921: 17958, 2922: 17959, 2923: 17960, 2924: 17961, 2925: 17962, 2926: 17963, 2928: 17964, 2929: 17965, 2930: 17966, 2931: 17967, 2932: 17968, 2927: 17969, 2933: 17970, 2934: 17971, 2935: 17972, 2936: 17973, 2937: 17974, 2938: 17975, 2939: 17976, 2940: 17977, 2941: 17978, 2942: 17979, 2943: 17980, 2944: 17981, 2945: 17982, 2946: 17983, 2947: 17984, 2948: 17985, 2949: 17986, 2950: 17987, 2951: 17988, 2952: 17989, 2953: 17990, 2954: 17991, 2955: 17992, 2956: 17993, 2957: 17994, 2881: 17995, 2958: 17996, 2959: 17997, 2960: 17998, 2961: 17999, 2962: 18000, 2963: 18001, 2964: 18002, 2965: 18003, 2966: 18004, 2967: 18005, 2968: 18006, 2970: 18007, 2971: 18008, 2972: 18009, 2973: 18010, 2974: 18011, 2969: 18012, 2975: 18013, 2976: 18014, 2977: 18015, 2978: 18016, 2979: 18017, 2980: 18018, 2983: 18019, 2984: 18020, 2981: 18021, 2985: 18022, 2986: 18023, 2987: 18024, 2988: 18025, 2989: 18026, 2990: 18027, 2991: 18028, 2992: 18029, 2994: 18030, 2995: 18031, 2996: 18032, 2997: 18033, 2998: 18034, 2993: 18035, 2999: 18036, 3002: 18037, 3003: 18038, 3000: 18039, 3004: 18040, 3005: 18041, 3006: 18042, 3007: 18043, 3008: 18044, 3009: 18045, 3010: 18046, 3011: 18047, 3012: 18048, 3013: 18049, 3014: 18050, 3015: 18051, 3018: 18052, 3016: 18053, 3019: 18054, 3020: 18055, 3021: 18056, 3022: 18057, 3023: 18058, 3024: 18059, 3025: 18060, 3026: 18061, 3029: 18062, 3030: 18063, 3027: 18064, 3031: 18065, 3032: 18066, 3033: 18067, 3036: 18068, 3037: 18069, 3034: 18070, 3038: 18071, 3039: 18072, 3040: 18073, 3041: 18074, 3042: 18075, 3043: 18076, 3044: 18077, 3045: 18078, 3046: 18079, 3047: 18080, 3048: 18081, 3049: 18082, 3050: 18083, 3051: 18084, 3052: 18085, 3054: 18086, 3055: 18087, 3056: 18088, 3057: 18089, 3058: 18090, 3061: 18091, 3062: 18092, 3059: 18093, 3063: 18094, 3064: 18095, 3065: 18096, 3066: 18097, 3067: 18098, 3068: 18099, 3069: 18100, 3070: 18101, 3071: 18102, 3072: 18103, 3073: 18104, 3074: 18105, 3075: 18106, 3076: 18107, 3077: 18108, 3078: 18109, 3079: 18110, 3080: 18111, 3081: 18112, 3082: 18113, 3083: 18114, 3084: 18115, 3085: 18116, 3088: 18117, 3089: 18118, 3086: 18119, 3090: 18120, 3091: 18121, 3092: 18122, 3093: 18123, 3094: 18124, 3095: 18125, 3096: 18126, 3097: 18127, 3098: 18128, 3099: 18129, 3100: 18130, 3101: 18131, 3102: 18132, 3103: 18133, 3104: 18134, 3105: 18135, 3107: 18136, 3106: 18137, 3108: 18138, 3110: 18139, 3109: 18140, 3111: 18141, 3112: 18142, 3113: 18143, 3114: 18144, 3115: 18145, 3116: 18146, 3117: 18147, 3118: 18148, 3119: 18149, 3120: 18150, 3121: 18151, 3122: 18152, 3123: 18153, 3124: 18154, 3125: 18155, 3126: 18156, 3127: 18157, 3128: 18158, 3129: 18159, 3130: 18160, 3131: 18161, 3132: 18162, 3133: 18163, 3134: 18164, 3135: 18165, 3136: 18166, 3139: 18167, 3140: 18168, 3137: 18169, 3141: 18170, 3142: 18171, 3143: 18172, 3144: 18173, 3145: 18174, 3146: 18175, 3149: 18176, 3150: 18177, 3147: 18178, 3151: 18179, 3152: 18180, 3153: 18181, 3154: 18182, 3155: 18183, 3156: 18184, 3157: 18185, 3158: 18186, 3160: 18187, 3161: 18188, 3162: 18189, 3163: 18190, 3164: 18191, 3159: 18192, 3165: 18193, 3166: 18194, 3167: 18195, 3168: 18196, 3169: 18197, 3170: 18198, 3171: 18199, 3172: 18200, 3173: 18201, 3174: 18202, 3175: 18203, 3176: 18204, 3177: 18205, 3178: 18206, 3181: 18207, 3182: 18208, 3179: 18209, 3183: 18210, 3184: 18211, 3185: 18212, 3186: 18213, 3187: 18214, 3188: 18215, 3189: 18216, 3190: 18217, 3191: 18218, 3192: 18219, 3193: 18220, 3194: 18221, 3195: 18222, 3196: 18223, 3197: 18224, 3198: 18225, 3199: 18226, 3200: 18227, 3201: 18228, 3202: 18229, 3203: 18230, 3204: 18231, 3205: 18232, 3206: 18233, 3207: 18234, 3208: 18235, 3209: 18236, 3210: 18237, 3211: 18238, 3213: 18239, 3214: 18240, 3215: 18241, 3216: 18242, 3217: 18243, 3212: 18244, 3218: 18245, 3219: 18246, 3220: 18247, 3221: 18248, 3222: 18249, 3223: 18250, 3224: 18251, 3225: 18252, 3226: 18253, 3227: 18254, 3228: 18255, 3229: 18256, 3230: 18257, 3231: 18258, 3232: 18259, 3233: 18260, 3234: 18261, 3235: 18262, 3236: 18263, 3237: 18264, 3238: 18265, 3239: 18266, 3241: 18267, 3240: 18268, 3242: 18269, 3243: 18270, 3244: 18271, 3245: 18272, 3246: 18273, 3247: 18274, 3248: 18275, 3249: 18276, 3250: 18277, 3251: 18278, 3252: 18279, 3254: 18280, 3255: 18281, 3256: 18282, 3257: 18283, 3258: 18284, 3253: 18285, 3259: 18286, 3260: 18287, 3261: 18288, 3262: 18289, 3263: 18290, 3264: 18291, 3266: 18292, 3267: 18293, 3268: 18294, 3269: 18295, 3270: 18296, 3265: 18297, 3271: 18298, 3272: 18299, 3273: 18300, 3274: 18301, 3275: 18302, 3276: 18303, 3277: 18304, 3278: 18305, 3279: 18306, 3282: 18307, 3280: 18308, 3283: 18309, 3284: 18310, 3285: 18311, 3286: 18312, 3287: 18313, 3288: 18314, 3289: 18315, 3290: 18316, 3291: 18317, 3292: 18318, 3293: 18319, 3294: 18320, 3295: 18321, 3296: 18322, 3297: 18323, 3298: 18324, 3299: 18325, 3300: 18326, 3301: 18327, 3302: 18328, 3303: 18329, 3304: 18330, 3305: 18331, 3306: 18332, 3307: 18333, 3308: 18334, 3309: 18335, 3310: 18336, 3311: 18337, 3312: 18338, 3313: 18339, 3314: 18340, 3315: 18341, 3317: 18342, 3318: 18343, 3319: 18344, 3320: 18345, 3321: 18346, 3316: 18347, 3322: 18348, 3323: 18349, 3324: 18350, 3325: 18351, 3326: 18352, 3327: 18353, 3328: 18354, 3329: 18355, 3330: 18356, 3331: 18357, 3332: 18358, 3335: 18359, 3336: 18360, 3333: 18361, 3337: 18362, 3338: 18363, 3339: 18364, 3342: 18365, 3343: 18366, 3340: 18367, 3344: 18368, 3345: 18369, 3347: 18370, 3348: 18371, 3349: 18372, 3350: 18373, 3351: 18374, 3346: 18375, 3352: 18376, 3353: 18377, 3354: 18378, 3355: 18379, 3356: 18380, 3357: 18381, 3358: 18382, 3361: 18383, 3362: 18384, 3359: 18385, 3363: 18386, 3364: 18387, 3365: 18388, 3366: 18389, 3367: 18390, 3369: 18391, 3368: 18392, 3370: 18393, 3372: 18394, 3371: 18395, 3373: 18396, 3374: 18397, 3375: 18398, 3376: 18399, 3377: 18400, 3378: 18401, 3379: 18402, 3380: 18403, 3381: 18404, 3382: 18405, 3383: 18406, 3384: 18407, 3385: 18408, 3386: 18409, 3387: 18410, 3388: 18411, 3389: 18412, 3390: 18413, 3391: 18414, 3392: 18415, 3393: 18416, 3394: 18417, 3395: 18418, 3396: 18419, 3397: 18420, 3398: 18421, 3399: 18422, 3400: 18423, 3401: 18424, 3402: 18425, 3403: 18426, 3404: 18427, 3405: 18428, 3406: 18429, 3407: 18430, 3408: 18431, 3409: 18432, 3410: 18433, 3411: 18434, 3412: 18435, 3413: 18436, 3414: 18437, 3415: 18438, 3416: 18439, 3417: 18440, 3418: 18441, 3419: 18442, 3420: 18443, 3421: 18444, 3422: 18445, 3423: 18446, 3424: 18447, 3425: 18448, 3426: 18449, 3427: 18450, 3428: 18451, 3429: 18452, 3430: 18453, 3431: 18454, 3432: 18455, 3433: 18456, 3434: 18457, 3435: 18458, 3436: 18459, 3437: 18460, 3438: 18461, 3439: 18462, 3440: 18463, 3441: 18464, 3442: 18465, 3443: 18466, 3444: 18467, 3445: 18468, 3446: 18469, 3447: 18470, 3448: 18471, 3449: 18472, 3450: 18473, 3451: 18474, 3452: 18475, 3453: 18476, 3454: 18477, 3455: 18478, 3457: 18479, 3458: 18480, 3459: 18481, 3460: 18482, 3461: 18483, 3462: 18484, 3463: 18485, 3464: 18486, 3465: 18487, 3466: 18488, 3467: 18489, 3468: 18490, 3469: 18491, 3470: 18492, 3471: 18493, 3472: 18494, 3473: 18495, 3474: 18496, 3475: 18497, 3476: 18498, 3477: 18499, 3478: 18500, 3481: 18501, 3482: 18502, 3479: 18503, 3484: 18504, 3485: 18505, 3486: 18506, 3487: 18507, 3488: 18508, 3489: 18509, 3490: 18510, 3491: 18511, 3492: 18512, 3493: 18513, 3494: 18514, 3495: 18515, 3496: 18516, 3497: 18517, 3498: 18518, 3499: 18519, 3500: 18520, 3501: 18521, 3502: 18522, 3503: 18523, 3504: 18524, 3505: 18525, 3506: 18526, 3507: 18527, 3508: 18528, 3509: 18529, 3510: 18530, 3511: 18531, 3512: 18532, 3513: 18533, 3515: 18534, 3516: 18535, 3517: 18536, 3518: 18537, 3519: 18538, 3514: 18539, 3520: 18540, 3521: 18541, 3522: 18542, 3523: 18543, 3526: 18544, 3527: 18545, 3524: 18546, 3528: 18547, 3529: 18548, 3530: 18549, 3531: 18550, 3532: 18551, 3533: 18552, 3534: 18553, 3535: 18554, 3536: 18555, 3537: 18556, 3538: 18557, 3540: 18558, 3541: 18559, 3542: 18560, 3543: 18561, 3544: 18562, 3539: 18563, 3546: 18564, 3547: 18565, 3548: 18566, 3549: 18567, 3550: 18568, 3545: 18569, 3551: 18570, 3552: 18571, 3553: 18572, 3554: 18573, 3555: 18574, 3556: 18575, 3557: 18576, 3558: 18577, 3559: 18578, 3560: 18579, 3561: 18580, 3562: 18581, 3563: 18582, 3564: 18583, 3565: 18584, 3566: 18585, 3567: 18586, 3568: 18587, 3569: 18588, 3570: 18589, 3571: 18590, 3572: 18591, 3573: 18592, 3574: 18593, 3575: 18594, 3576: 18595, 3577: 18596, 3578: 18597, 3579: 18598, 3581: 18599, 3582: 18600, 3583: 18601, 3584: 18602, 3585: 18603, 3580: 18604, 3586: 18605, 3587: 18606, 3588: 18607, 3589: 18608, 3590: 18609, 3591: 18610, 3592: 18611, 3593: 18612, 3594: 18613, 3595: 18614, 3596: 18615, 3597: 18616, 3598: 18617, 3599: 18618, 3600: 18619, 3603: 18620, 3604: 18621, 3601: 18622, 3605: 18623, 3606: 18624, 3607: 18625, 3608: 18626, 3609: 18627, 3610: 18628, 3611: 18629, 3612: 18630, 3613: 18631, 3614: 18632, 3615: 18633, 3616: 18634, 3619: 18635, 3620: 18636, 3617: 18637, 3621: 18638, 3622: 18639, 3623: 18640, 3624: 18641, 3625: 18642, 3626: 18643, 3627: 18644, 3629: 18645, 3630: 18646, 3631: 18647, 3632: 18648, 3633: 18649, 3628: 18650, 3634: 18651, 3636: 18652, 3637: 18653, 3638: 18654, 3639: 18655, 3640: 18656, 3641: 18657, 3642: 18658, 3643: 18659, 3644: 18660, 3645: 18661, 3646: 18662, 3647: 18663, 3648: 18664, 3649: 18665, 3650: 18666, 3651: 18667, 3652: 18668, 3653: 18669, 3654: 18670, 3655: 18671, 3656: 18672, 3657: 18673, 3658: 18674, 3659: 18675, 3660: 18676, 3661: 18677, 3662: 18678, 3663: 18679, 3664: 18680, 3665: 18681, 3666: 18682, 3667: 18683, 3668: 18684, 3669: 18685, 3670: 18686, 3671: 18687, 3672: 18688, 3673: 18689, 3674: 18690, 3675: 18691, 3676: 18692, 3677: 18693, 3678: 18694, 3679: 18695, 3680: 18696, 3681: 18697, 3682: 18698, 3683: 18699, 3684: 18700, 3685: 18701, 3686: 18702, 3688: 18703, 3689: 18704, 3690: 18705, 3691: 18706, 3692: 18707, 3687: 18708, 3693: 18709, 3694: 18710, 3695: 18711, 3696: 18712, 3697: 18713, 3698: 18714, 3699: 18715, 3700: 18716, 3701: 18717, 3703: 18718, 3704: 18719, 3705: 18720, 3706: 18721, 3707: 18722, 3702: 18723, 3708: 18724, 3635: 18725, 3709: 18726, 3710: 18727, 3711: 18728, 3712: 18729, 3713: 18730, 3714: 18731, 3715: 18732, 3716: 18733, 3717: 18734, 3718: 18735, 3719: 18736, 3720: 18737, 3721: 18738, 3722: 18739, 3724: 18740, 3725: 18741, 3726: 18742, 3727: 18743, 3728: 18744, 3723: 18745, 3729: 18746, 3732: 18747, 3733: 18748, 3730: 18749, 3734: 18750, 3735: 18751, 3736: 18752, 3737: 18753, 3738: 18754, 3739: 18755, 3740: 18756, 3741: 18757, 3742: 18758, 3743: 18759, 3744: 18760, 3745: 18761, 3746: 18762, 3747: 18763, 3748: 18764, 3749: 18765, 3750: 18766, 3751: 18767, 3752: 18768, 3753: 18769, 3754: 18770, 3755: 18771, 3756: 18772, 3757: 18773, 3758: 18774, 3759: 18775, 3760: 18776, 3761: 18777, 3762: 18778, 3763: 18779, 3765: 18780, 3766: 18781, 3767: 18782, 3768: 18783, 3769: 18784, 3764: 18785, 3770: 18786, 3771: 18787, 3772: 18788, 3773: 18789, 3774: 18790, 3777: 18791, 3778: 18792, 3775: 18793, 3779: 18794, 3780: 18795, 3781: 18796, 3782: 18797, 3783: 18798, 3784: 18799, 3786: 18800, 3787: 18801, 3788: 18802, 3789: 18803, 3790: 18804, 3785: 18805, 3791: 18806, 3792: 18807, 3793: 18808, 3795: 18809, 3796: 18810, 3797: 18811, 3798: 18812, 3799: 18813, 3800: 18814, 3801: 18815, 3802: 18816, 3803: 18817, 3804: 18818, 3805: 18819, 3806: 18820, 3807: 18821, 3808: 18822, 3809: 18823, 3810: 18824, 3811: 18825, 3812: 18826, 3813: 18827, 3814: 18828, 3815: 18829, 3816: 18830, 3817: 18831, 3819: 18832, 3820: 18833, 3821: 18834, 3822: 18835, 3823: 18836, 3818: 18837, 3824: 18838, 3825: 18839, 3826: 18840, 3827: 18841, 3828: 18842, 3829: 18843, 3830: 18844, 3831: 18845, 3832: 18846, 3833: 18847, 3834: 18848, 3835: 18849, 3838: 18850, 3836: 18851, 3839: 18852, 3794: 18853, 3840: 18854, 3841: 18855, 3842: 18856, 3843: 18857, 3844: 18858, 3845: 18859, 3846: 18860, 3847: 18861, 3848: 18862, 3849: 18863, 3850: 18864, 3853: 18865, 3854: 18866, 3851: 18867, 3855: 18868, 3856: 18869, 3857: 18870, 3858: 18871, 3859: 18872, 3860: 18873, 3861: 18874, 3862: 18875, 3863: 18876, 3864: 18877, 3865: 18878, 3866: 18879, 3869: 18880, 3870: 18881, 3867: 18882, 3871: 18883, 3872: 18884, 3874: 18885, 3875: 18886, 3876: 18887, 3877: 18888, 3878: 18889, 3873: 18890, 3879: 18891, 3880: 18892, 3881: 18893, 3882: 18894, 3883: 18895, 3884: 18896, 3885: 18897, 3886: 18898, 3889: 18899, 3890: 18900, 3887: 18901, 3891: 18902, 3893: 18903, 3894: 18904, 3895: 18905, 3896: 18906, 3897: 18907, 3892: 18908, 3898: 18909, 3899: 18910, 3900: 18911, 3902: 18912, 3903: 18913, 3904: 18914, 3905: 18915, 3906: 18916, 3901: 18917, 3907: 18918, 3908: 18919, 3909: 18920, 3910: 18921, 3911: 18922, 3912: 18923, 3913: 18924, 3914: 18925, 3915: 18926, 3916: 18927, 3917: 18928, 3919: 18929, 3920: 18930, 3921: 18931, 3922: 18932, 3923: 18933, 3918: 18934, 3924: 18935, 3925: 18936, 3926: 18937, 3927: 18938, 3928: 18939, 3929: 18940, 3930: 18941, 3931: 18942, 3932: 18943, 3933: 18944, 3934: 18945, 3935: 18946, 3936: 18947, 3937: 18948, 3938: 18949, 3939: 18950, 3940: 18951, 3941: 18952, 3942: 18953, 3943: 18954, 3944: 18955, 3945: 18956, 3946: 18957, 3947: 18958, 3948: 18959, 3949: 18960, 3950: 18961, 3951: 18962, 3952: 18963, 3953: 18964, 3954: 18965, 3956: 18966, 3957: 18967, 3958: 18968, 3959: 18969, 3960: 18970, 3955: 18971, 3961: 18972, 3962: 18973, 3963: 18974, 3964: 18975, 3965: 18976, 3966: 18977, 3967: 18978, 3968: 18979, 3969: 18980, 3970: 18981, 3971: 18982, 3972: 18983, 3973: 18984, 3974: 18985, 3975: 18986, 3976: 18987, 3977: 18988, 3978: 18989, 3980: 18990, 3981: 18991, 3982: 18992, 3983: 18993, 3984: 18994, 3979: 18995, 3985: 18996, 3987: 18997, 3989: 18998, 3990: 18999, 3991: 19000, 3992: 19001, 3993: 19002, 3994: 19003, 3995: 19004, 3988: 19005, 3996: 19006, 3997: 19007, 3998: 19008, 3999: 19009, 4000: 19010, 4001: 19011, 4002: 19012, 4003: 19013, 4004: 19014, 4005: 19015, 4006: 19016, 4007: 19017, 4008: 19018, 4009: 19019, 4010: 19020, 4012: 19021, 4013: 19022, 4014: 19023, 4015: 19024, 4016: 19025, 4011: 19026, 4017: 19027, 4018: 19028, 4019: 19029, 4020: 19030, 4021: 19031, 4022: 19032, 4023: 19033, 4024: 19034, 4025: 19035, 4026: 19036, 4027: 19037, 4028: 19038, 4029: 19039, 4030: 19040, 4031: 19041, 4032: 19042, 4033: 19043, 4034: 19044, 4035: 19045, 4036: 19046, 4037: 19047, 4038: 19048, 4039: 19049, 4040: 19050, 4041: 19051, 4042: 19052, 4043: 19053, 4044: 19054, 4045: 19055, 4046: 19056, 4047: 19057, 4048: 19058, 4049: 19059, 4050: 19060, 4051: 19061, 4052: 19062, 4055: 19063, 4056: 19064, 4053: 19065, 4057: 19066, 4058: 19067, 4059: 19068, 4060: 19069, 4061: 19070, 4062: 19071, 4063: 19072, 4064: 19073, 4065: 19074, 4066: 19075, 4067: 19076, 4068: 19077, 4069: 19078, 4070: 19079, 4071: 19080, 4072: 19081, 4073: 19082, 4074: 19083, 4076: 19084, 4077: 19085, 4078: 19086, 4079: 19087, 4080: 19088, 4075: 19089, 4081: 19090, 4082: 19091, 4083: 19092, 4084: 19093, 4085: 19094, 4086: 19095, 4088: 19096, 4089: 19097, 4090: 19098, 4091: 19099, 4092: 19100, 4094: 19101, 4095: 19102, 4096: 19103, 4097: 19104, 4098: 19105, 4099: 19106, 4100: 19107, 4101: 19108, 4102: 19109, 4103: 19110, 4104: 19111, 4105: 19112, 4108: 19113, 4109: 19114, 4106: 19115, 4110: 19116, 4111: 19117, 4112: 19118, 4113: 19119, 4114: 19120, 4117: 19121, 4118: 19122, 4115: 19123, 4119: 19124, 4120: 19125, 4121: 19126, 4122: 19127, 4123: 19128, 4124: 19129, 4125: 19130, 4126: 19131, 4127: 19132, 4128: 19133, 4129: 19134, 4130: 19135, 4131: 19136, 4132: 19137, 4133: 19138, 4134: 19139, 4135: 19140, 4136: 19141, 4137: 19142, 4138: 19143, 4139: 19144, 4140: 19145, 4141: 19146, 4142: 19147, 4143: 19148, 4144: 19149, 4145: 19150, 4146: 19151, 4147: 19152, 4148: 19153, 4149: 19154, 4150: 19155, 4151: 19156, 4152: 19157, 4153: 19158, 4154: 19159, 4155: 19160, 4156: 19161, 4157: 19162, 4158: 19163, 4159: 19164, 4160: 19165, 4161: 19166, 4162: 19167, 4163: 19168, 4164: 19169, 4165: 19170, 4166: 19171, 4167: 19172, 4168: 19173, 4169: 19174, 4170: 19175, 4171: 19176, 4172: 19177, 4173: 19178, 4174: 19179, 4175: 19180, 4176: 19181, 4178: 19182, 4179: 19183, 4180: 19184, 4181: 19185, 4182: 19186, 4177: 19187, 4183: 19188, 4184: 19189, 4185: 19190, 4186: 19191, 4187: 19192, 4188: 19193, 4189: 19194, 4190: 19195, 4191: 19196, 4192: 19197, 4193: 19198, 4194: 19199, 4195: 19200, 4196: 19201, 4197: 19202, 4198: 19203, 4201: 19204, 4202: 19205, 4199: 19206, 4204: 19207, 4205: 19208, 4207: 19209, 4208: 19210, 4209: 19211, 4210: 19212, 4211: 19213, 4206: 19214, 4212: 19215, 4213: 19216, 4214: 19217, 4215: 19218, 4216: 19219, 4217: 19220, 4218: 19221, 4219: 19222, 4220: 19223, 4221: 19224, 4222: 19225, 4225: 19226, 4226: 19227, 4223: 19228, 4227: 19229, 4228: 19230, 4229: 19231, 4230: 19232, 4231: 19233, 4232: 19234, 4233: 19235, 4203: 19236, 4234: 19237, 4235: 19238, 4236: 19239, 4237: 19240, 4238: 19241, 4239: 19242, 4240: 19243, 4241: 19244, 4242: 19245, 4243: 19246, 4244: 19247, 4245: 19248, 4246: 19249, 4247: 19250, 4248: 19251, 4249: 19252, 4251: 19253, 4252: 19254, 4253: 19255, 4254: 19256, 4255: 19257, 4258: 19258, 4259: 19259, 4256: 19260, 4260: 19261, 4261: 19262, 4262: 19263, 4263: 19264, 4264: 19265, 4265: 19266, 4266: 19267, 4267: 19268, 4268: 19269, 4269: 19270, 4270: 19271, 4271: 19272, 4272: 19273, 4273: 19274, 4274: 19275, 4275: 19276, 4276: 19277, 4277: 19278, 4278: 19279, 4279: 19280, 4280: 19281, 4281: 19282, 4282: 19283, 4283: 19284, 4284: 19285, 4285: 19286, 4286: 19287, 4287: 19288, 4288: 19289, 4289: 19290, 4290: 19291, 4291: 19292, 4292: 19293, 4293: 19294, 4294: 19295, 4295: 19296, 4296: 19297, 4297: 19298, 4298: 19299, 4299: 19300, 4300: 19301, 4301: 19302, 4302: 19303, 4304: 19304, 4305: 19305, 4306: 19306, 4307: 19307, 4308: 19308, 4309: 19309, 4310: 19310, 4311: 19311, 4312: 19312, 4313: 19313, 4314: 19314, 4315: 19315, 4316: 19316, 4317: 19317, 4318: 19318, 4319: 19319, 4320: 19320, 4321: 19321, 4323: 19322, 4324: 19323, 4325: 19324, 4326: 19325, 4327: 19326, 4322: 19327, 4328: 19328, 4330: 19329, 4331: 19330, 4332: 19331, 4333: 19332, 4334: 19333, 4329: 19334, 4335: 19335, 4337: 19336, 4338: 19337, 4339: 19338, 4340: 19339, 4341: 19340, 4336: 19341, 4342: 19342, 4343: 19343, 4344: 19344, 4345: 19345, 4346: 19346, 4347: 19347, 4348: 19348, 4349: 19349, 4350: 19350, 4351: 19351, 4352: 19352, 4353: 19353, 4354: 19354, 4355: 19355, 4356: 19356, 4357: 19357, 4358: 19358, 4360: 19359, 4361: 19360, 4362: 19361, 4363: 19362, 4364: 19363, 4359: 19364, 4365: 19365, 4366: 19366, 4367: 19367, 4368: 19368, 4369: 19369, 4370: 19370, 4371: 19371, 4372: 19372, 4373: 19373, 4374: 19374, 4375: 19375, 4376: 19376, 4377: 19377, 4378: 19378, 4379: 19379, 4380: 19380, 4381: 19381, 4382: 19382, 4383: 19383, 4384: 19384, 4385: 19385, 4386: 19386, 4387: 19387, 4388: 19388, 4389: 19389, 4390: 19390, 4391: 19391, 4392: 19392, 4393: 19393, 4394: 19394, 4395: 19395, 4396: 19396, 4397: 19397, 4398: 19398, 4399: 19399, 4400: 19400, 4401: 19401, 4402: 19402, 4403: 19403, 4404: 19404, 4405: 19405, 4406: 19406, 4407: 19407, 4408: 19408, 4409: 19409, 4410: 19410, 4411: 19411, 4412: 19412, 4413: 19413, 4414: 19414, 4415: 19415, 4416: 19416, 4417: 19417, 4418: 19418, 4419: 19419, 4420: 19420, 4421: 19421, 4422: 19422, 4423: 19423, 4424: 19424, 4425: 19425, 4426: 19426, 4427: 19427, 4428: 19428, 4429: 19429, 4430: 19430, 4431: 19431, 4432: 19432, 4433: 19433, 4434: 19434, 4435: 19435, 4436: 19436, 4437: 19437, 4438: 19438, 4439: 19439, 4440: 19440, 4441: 19441, 4442: 19442, 4443: 19443, 4444: 19444, 4445: 19445, 4447: 19446, 4448: 19447, 4446: 19448, 4450: 19449, 4451: 19450, 4452: 19451, 4453: 19452, 4454: 19453, 4455: 19454, 4456: 19455, 4457: 19456, 4458: 19457, 4459: 19458, 4460: 19459, 4461: 19460, 4462: 19461, 4463: 19462, 4464: 19463, 4465: 19464, 4466: 19465, 4467: 19466, 4468: 19467, 4469: 19468, 4470: 19469, 4471: 19470, 4473: 19471, 4474: 19472, 4475: 19473, 4476: 19474, 4477: 19475, 4478: 19476, 4479: 19477, 4480: 19478, 4481: 19479, 4482: 19480, 4483: 19481, 4484: 19482, 4487: 19483, 4488: 19484, 4485: 19485, 4489: 19486, 4490: 19487, 4491: 19488, 4492: 19489, 4493: 19490, 4494: 19491, 4495: 19492, 4496: 19493, 4497: 19494, 4498: 19495, 4499: 19496, 4500: 19497, 4501: 19498, 4502: 19499, 4504: 19500, 4505: 19501, 4506: 19502, 4507: 19503, 4508: 19504, 4503: 19505, 4509: 19506, 4510: 19507, 4511: 19508, 4512: 19509, 4513: 19510, 4514: 19511, 4516: 19512, 4517: 19513, 4518: 19514, 4515: 19515, 4519: 19516, 4520: 19517, 4521: 19518, 4522: 19519, 4523: 19520, 4524: 19521, 4525: 19522, 4526: 19523, 4527: 19524, 4528: 19525, 4529: 19526, 4530: 19527, 4531: 19528, 4532: 19529, 4533: 19530, 4534: 19531, 4535: 19532, 4536: 19533, 4537: 19534, 4538: 19535, 4539: 19536, 4540: 19537, 4541: 19538, 4542: 19539, 4543: 19540, 4545: 19541, 4546: 19542, 4544: 19543, 4547: 19544, 4548: 19545, 4549: 19546, 4550: 19547, 4551: 19548, 4552: 19549, 4553: 19550, 4556: 19551, 4557: 19552, 4554: 19553, 4558: 19554, 4559: 19555, 4560: 19556, 4561: 19557, 4563: 19558, 4564: 19559, 4565: 19560, 4566: 19561, 4567: 19562, 4562: 19563, 4568: 19564, 4569: 19565, 4570: 19566, 4571: 19567, 4572: 19568, 4573: 19569, 4574: 19570, 4575: 19571, 4576: 19572, 4577: 19573, 4578: 19574, 4580: 19575, 4581: 19576, 4582: 19577, 4583: 19578, 4584: 19579, 4579: 19580, 4585: 19581, 4586: 19582, 4589: 19583, 4590: 19584, 4587: 19585, 4591: 19586, 4592: 19587, 4593: 19588, 4594: 19589, 4595: 19590, 4596: 19591, 4597: 19592, 4598: 19593, 4599: 19594, 4600: 19595, 4601: 19596, 4602: 19597, 4603: 19598, 4604: 19599, 4605: 19600, 4606: 19601, 4607: 19602, 4608: 19603, 4609: 19604, 4610: 19605, 4611: 19606, 4612: 19607, 4613: 19608, 4614: 19609, 4615: 19610, 4616: 19611, 4617: 19612, 4618: 19613, 4619: 19614, 4620: 19615, 4621: 19616, 4622: 19617, 4623: 19618, 4624: 19619, 4625: 19620, 4627: 19621, 4628: 19622, 4629: 19623, 4630: 19624, 4631: 19625, 4626: 19626, 4632: 19627, 4633: 19628, 4635: 19629, 4636: 19630, 4637: 19631, 4638: 19632, 4639: 19633, 4634: 19634, 4640: 19635, 4641: 19636, 4642: 19637, 4643: 19638, 4644: 19639, 4645: 19640, 4646: 19641, 4647: 19642, 4648: 19643, 4649: 19644, 4650: 19645, 4652: 19646, 4653: 19647, 4654: 19648, 4655: 19649, 4656: 19650, 4651: 19651, 4657: 19652, 4658: 19653, 4659: 19654, 4662: 19655, 4663: 19656, 4660: 19657, 4664: 19658, 4665: 19659, 4666: 19660, 4667: 19661, 4668: 19662, 4669: 19663, 4670: 19664, 4671: 19665, 4672: 19666, 4673: 19667, 4674: 19668, 4675: 19669, 4676: 19670, 4677: 19671, 4678: 19672, 4679: 19673, 4680: 19674, 4681: 19675, 4682: 19676, 4683: 19677, 4684: 19678, 4685: 19679, 4686: 19680, 4687: 19681, 4688: 19682, 4689: 19683, 4690: 19684, 4691: 19685, 4692: 19686, 4693: 19687, 4694: 19688, 4696: 19689, 4697: 19690, 4698: 19691, 4699: 19692, 4700: 19693, 4695: 19694, 4701: 19695, 4702: 19696, 4703: 19697, 4704: 19698, 4705: 19699, 4706: 19700, 4707: 19701, 4708: 19702, 4709: 19703, 4710: 19704, 4711: 19705, 4712: 19706, 4713: 19707, 4714: 19708, 4715: 19709, 4716: 19710, 4717: 19711, 4718: 19712, 4719: 19713, 4720: 19714, 4721: 19715, 4722: 19716, 4723: 19717, 4724: 19718, 4725: 19719, 4726: 19720, 4727: 19721, 4728: 19722, 4729: 19723, 4730: 19724, 4731: 19725, 4732: 19726, 4733: 19727, 4734: 19728, 4735: 19729, 4736: 19730, 4737: 19731, 4738: 19732, 4739: 19733, 4740: 19734, 4741: 19735, 4742: 19736, 4743: 19737, 4744: 19738, 4746: 19739, 4747: 19740, 4748: 19741, 4749: 19742, 4750: 19743, 4745: 19744, 4751: 19745, 4752: 19746, 4753: 19747, 4754: 19748, 4755: 19749, 4756: 19750, 4757: 19751, 4758: 19752, 4759: 19753, 4760: 19754, 4761: 19755, 4763: 19756, 4764: 19757, 4765: 19758, 4766: 19759, 4767: 19760, 4762: 19761, 4768: 19762, 4769: 19763, 4770: 19764, 4771: 19765, 4772: 19766, 4773: 19767, 4774: 19768, 4775: 19769, 4776: 19770, 4777: 19771, 4778: 19772, 4779: 19773, 4780: 19774, 4781: 19775, 4782: 19776, 4783: 19777, 4784: 19778, 4785: 19779, 4786: 19780, 4787: 19781, 4789: 19782, 4790: 19783, 4791: 19784, 4792: 19785, 4793: 19786, 4794: 19787, 4795: 19788, 4796: 19789, 4797: 19790, 4798: 19791, 4799: 19792, 4800: 19793, 4801: 19794, 4802: 19795, 4803: 19796, 4804: 19797, 4805: 19798, 4806: 19799, 4808: 19800, 4809: 19801, 4810: 19802, 4811: 19803, 4812: 19804, 4807: 19805, 4813: 19806, 4814: 19807, 4815: 19808, 4816: 19809, 4817: 19810, 4818: 19811, 4819: 19812, 4820: 19813, 4821: 19814, 4823: 19815, 4824: 19816, 4825: 19817, 4826: 19818, 4827: 19819, 4822: 19820, 4828: 19821, 4829: 19822, 4830: 19823, 4831: 19824, 4832: 19825, 4833: 19826, 4834: 19827, 4835: 19828, 4788: 19829, 4836: 19830, 4837: 19831, 4838: 19832, 4839: 19833, 4840: 19834, 4841: 19835, 4842: 19836, 4843: 19837, 4844: 19838, 4845: 19839, 4848: 19840, 4849: 19841, 4846: 19842, 4850: 19843, 4851: 19844, 4852: 19845, 4853: 19846, 4854: 19847, 4855: 19848, 4856: 19849, 4859: 19850, 4860: 19851, 4857: 19852, 4861: 19853, 4862: 19854, 4863: 19855, 4864: 19856, 4865: 19857, 4866: 19858, 4867: 19859, 4868: 19860, 4869: 19861, 4870: 19862, 4871: 19863, 4872: 19864, 4873: 19865, 4874: 19866, 4875: 19867, 4876: 19868, 4877: 19869, 4878: 19870, 4879: 19871, 4880: 19872, 4881: 19873, 4882: 19874, 4883: 19875, 4884: 19876, 4885: 19877, 4886: 19878, 4887: 19879, 4888: 19880, 4889: 19881, 1046: 19882, 1051: 19883, 1067: 19884, 1074: 19885, 1090: 19886, 1100: 19887, 1145: 19888, 1164: 19889, 1204: 19890, 1271: 19891, 1292: 19892, 1306: 19893, 1333: 19894, 1365: 19895, 1379: 19896, 1389: 19897, 1409: 19898, 1449: 19899, 1477: 19900, 1486: 19901, 1505: 19902, 1529: 19903, 1534: 19904, 1548: 19905, 1557: 19906, 1562: 19907, 1596: 19908, 1620: 19909, 1625: 19910, 1635: 19911, 1645: 19912, 1647: 19913, 1649: 19914, 1668: 19915, 1678: 19916, 1725: 19917, 1750: 19918, 1754: 19919, 1778: 19920, 1783: 19921, 1792: 19922, 1827: 19923, 1860: 19924, 1869: 19925, 1878: 19926, 1894: 19927, 1907: 19928, 1911: 19929, 1932: 19930, 1939: 19931, 1975: 19932, 1982: 19933, 2006: 19934, 2012: 19935, 2028: 19936, 2037: 19937, 2051: 19938, 2107: 19939, 2118: 19940, 2134: 19941, 2156: 19942, 2183: 19943, 2188: 19944, 2195: 19945, 2221: 19946, 2225: 19947, 2232: 19948, 2211: 19949, 2248: 19950, 2270: 19951, 2340: 19952, 2348: 19953, 2359: 19954, 2389: 19955, 2415: 19956, 2470: 19957, 2478: 19958, 2491: 19959, 2496: 19960, 2547: 19961, 2561: 19962, 2566: 19963, 2625: 19964, 2633: 19965, 2681: 19966, 2792: 19967, 2821: 19968, 2854: 19969, 2902: 19970, 2918: 19971, 2533: 19972, 2595: 19973, 2797: 19974, 2982: 19975, 3001: 19976, 3017: 19977, 3028: 19978, 3035: 19979, 3053: 19980, 3060: 19981, 3087: 19982, 3138: 19983, 3148: 19984, 3180: 19985, 3281: 19986, 3334: 19987, 3341: 19988, 3360: 19989, 3456: 19990, 3480: 19991, 3483: 19992, 3525: 19993, 3602: 19994, 3618: 19995, 3731: 19996, 3776: 19997, 3837: 19998, 3852: 19999, 3868: 20000, 3888: 20001, 3986: 20002, 4054: 20003, 4087: 20004, 4093: 20005, 4107: 20006, 4116: 20007, 4200: 20008, 4224: 20009, 4250: 20010, 4257: 20011, 4303: 20012, 4449: 20013, 4472: 20014, 4486: 20015, 4555: 20016, 4588: 20017, 4661: 20018, 4847: 20019, 4858: 20020, 4890: 20021, 4891: 20022, 4892: 20023, 4893: 20024, 4894: 20025, 4895: 20026, 4896: 20027, 4897: 20028, 4898: 20029, 4899: 20030, 4900: 20031, 4901: 20032, 4902: 20033, 4903: 20034, 4904: 20035, 4905: 20036, 4906: 20037, 4907: 20038, 4908: 20039, 4909: 20040, 4910: 20041, 4911: 20042, 4912: 20043, 4913: 20044, 4914: 20045, 4915: 20046, 4916: 20047, 4917: 20048, 4918: 20049, 4919: 20050, 4920: 20051, 4921: 20052, 4922: 20053, 4923: 20054, 4924: 20055, 4925: 20056, 4926: 20057, 4927: 20058, 4928: 20059, 4929: 20060, 4930: 20061, 4931: 20062, 4932: 20063, 4933: 20064, 4934: 20065, 4935: 20066, 4936: 20067, 4937: 20068, 4938: 20069, 4939: 20070, 4940: 20071, 4941: 20072, 4942: 20073, 4943: 20074, 4944: 20075, 4945: 20076, 4946: 20077, 4947: 20078, 4948: 20079, 4949: 20080, 4950: 20081, 4951: 20082, 4952: 20083, 4953: 20084, 4954: 20085, 4955: 20086, 4956: 20087, 4957: 20088, 4958: 20089, 4959: 20090, 4960: 20091, 4961: 20092, 4962: 20093, 4963: 20094, 4964: 20095, 4965: 20096, 4966: 20097, 4967: 20098, 4968: 20099, 4969: 20100, 4970: 20101, 4971: 20102, 4972: 20103, 4973: 20104, 4974: 20105, 4975: 20106, 4976: 20107, 4977: 20108, 4978: 20109, 4979: 20110, 4980: 20111, 4981: 20112, 4982: 20113, 4983: 20114, 4984: 20115, 4985: 20116, 4986: 20117, 4987: 20118, 4988: 20119, 4989: 20120, 4990: 20121, 4991: 20122, 4992: 20123, 4993: 20124, 4994: 20125, 4995: 20126, 4996: 20127, 4997: 20128, 4998: 20129, 4999: 20130, 5000: 20131, 5001: 20132, 5002: 20133, 5003: 20134, 5004: 20135, 5005: 20136, 5006: 20137, 5007: 20138, 5008: 20139, 5009: 20140, 5010: 20141, 5011: 20142, 5012: 20143, 5013: 20144, 5014: 20145, 5015: 20146, 5016: 20147, 5017: 20148, 5018: 20149, 5019: 20150, 5020: 20151, 5021: 20152, 5022: 20153, 5023: 20154, 5024: 20155, 5025: 20156, 5026: 20157, 5027: 20158, 5028: 20159, 5029: 20160, 5030: 20161, 5031: 20162, 5032: 20163, 5033: 20164, 5034: 20165, 5035: 20166, 5036: 20167, 5037: 20168, 5038: 20169, 5039: 20170, 5040: 20171, 5041: 20172, 5042: 20173, 5043: 20174, 5044: 20175, 5045: 20176, 5046: 20177, 5047: 20178, 5048: 20179, 5049: 20180, 5050: 20181, 5051: 20182, 5052: 20183, 5053: 20184, 5054: 20185, 5055: 20186, 5056: 20187, 5057: 20188, 5058: 20189, 5059: 20190, 5060: 20191, 5061: 20192, 5062: 20193, 5063: 20194, 5064: 20195, 5065: 20196, 5066: 20197, 5067: 20198, 5068: 20199, 5069: 20200, 5070: 20201, 5071: 20202, 5072: 20203, 5073: 20204, 5074: 20205, 5075: 20206, 5076: 20207, 5077: 20208, 5078: 20209, 5079: 20210, 5080: 20211, 5081: 20212, 5082: 20213, 5083: 20214, 5084: 20215, 5085: 20216, 5086: 20217, 5087: 20218, 5088: 20219, 5089: 20220, 5090: 20221, 5091: 20222, 5092: 20223, 5093: 20224, 5094: 20225, 5095: 20226, 5096: 20227, 5097: 20228, 5098: 20229, 5099: 20230, 5100: 20231, 5101: 20232, 5102: 20233, 5103: 20234, 5104: 20235, 5105: 20236, 5106: 20237, 5107: 20238, 5108: 20239, 5109: 20240, 5110: 20241, 5111: 20242, 5112: 20243, 5113: 20244, 5114: 20245, 5115: 20246, 5116: 20247, 5117: 20248, 5118: 20249, 5119: 20250, 5120: 20251, 5121: 20252, 5122: 20253, 5123: 20254, 5124: 20255, 5125: 20256, 5126: 20257, 5127: 20258, 5128: 20259, 5129: 20260, 5130: 20261, 5131: 20262, 5132: 20263, 5133: 20264, 5134: 20265, 5135: 20266, 5136: 20267, 5137: 20268, 5138: 20269, 5139: 20270, 5140: 20271, 5141: 20272, 5142: 20273, 5143: 20274, 5144: 20275, 5145: 20276, 5146: 20277, 5147: 20278, 5148: 20279, 5149: 20280, 5150: 20281, 5151: 20282, 5152: 20283, 5153: 20284, 5154: 20285, 5155: 20286, 5156: 20287, 5157: 20288, 5158: 20289, 5159: 20290, 5160: 20291, 5161: 20292, 5162: 20293, 5163: 20294, 5164: 20295, 5165: 20296, 5166: 20297, 5167: 20298, 5168: 20299, 5169: 20300, 5170: 20301, 5171: 20302, 5172: 20303, 5173: 20304, 5174: 20305, 5175: 20306, 5176: 20307, 5177: 20308, 5178: 20309, 5179: 20310, 5180: 20311, 5181: 20312, 5182: 20313, 5183: 20314, 5184: 20315, 5185: 20316, 5186: 20317, 5187: 20318, 5188: 20319, 5189: 20320, 5190: 20321, 5191: 20322, 5192: 20323, 5193: 20324, 5194: 20325, 5195: 20326, 5196: 20327, 5197: 20328, 5198: 20329, 5199: 20330, 5200: 20331, 5201: 20332, 5202: 20333, 5203: 20334, 5204: 20335, 5205: 20336, 5206: 20337, 5207: 20338, 5208: 20339, 5209: 20340, 5210: 20341, 5211: 20342, 5212: 20343, 5213: 20344, 5214: 20345, 5215: 20346, 5216: 20347, 5217: 20348, 5218: 20349, 5219: 20350, 5220: 20351, 5221: 20352, 5222: 20353, 5223: 20354, 5224: 20355, 5225: 20356, 5226: 20357, 5227: 20358, 5228: 20359, 5229: 20360, 5230: 20361, 5231: 20362, 5232: 20363, 5233: 20364, 5234: 20365, 5235: 20366, 5236: 20367, 5237: 20368, 5238: 20369, 5239: 20370, 5240: 20371, 5241: 20372, 5242: 20373, 5243: 20374, 5244: 20375, 5245: 20376, 5246: 20377, 5247: 20378, 5248: 20379, 5249: 20380, 5250: 20381, 5251: 20382, 5252: 20383, 5253: 20384, 5254: 20385, 5255: 20386, 5256: 20387, 5257: 20388, 5258: 20389, 5259: 20390, 5260: 20391, 5261: 20392, 5262: 20393, 5263: 20394, 5264: 20395, 5265: 20396, 5266: 20397, 5267: 20398, 5268: 20399, 5269: 20400, 5270: 20401, 5271: 20402, 5272: 20403, 5273: 20404, 5274: 20405, 5275: 20406, 5276: 20407, 5277: 20408, 5278: 20409, 5279: 20410, 5280: 20411, 5281: 20412, 5282: 20413, 5283: 20414, 5284: 20415, 5285: 20416, 5286: 20417, 5287: 20418, 5288: 20419, 5289: 20420, 5290: 20421, 5291: 20422, 5292: 20423, 5293: 20424, 5294: 20425, 5295: 20426, 5296: 20427, 5297: 20428, 5298: 20429, 5299: 20430, 5300: 20431, 5301: 20432, 5302: 20433, 5303: 20434, 5304: 20435, 5305: 20436, 5306: 20437, 5307: 20438, 5308: 20439, 5309: 20440, 5310: 20441, 5311: 20442, 5312: 20443, 5313: 20444, 5314: 20445, 5315: 20446, 5316: 20447, 5317: 20448, 5318: 20449, 5319: 20450, 5320: 20451, 5321: 20452, 5322: 20453, 5323: 20454, 5324: 20455, 5325: 20456, 5326: 20457, 5327: 20458, 5328: 20459, 5329: 20460, 5330: 20461, 5331: 20462, 5332: 20463, 5333: 20464, 5334: 20465, 5335: 20466, 5336: 20467, 5337: 20468, 5338: 20469, 5339: 20470, 5340: 20471, 5341: 20472, 5342: 20473, 5343: 20474, 5344: 20475, 5345: 20476, 5346: 20477, 5347: 20478, 5348: 20479, 5349: 20480, 5350: 20481, 5351: 20482, 5352: 20483, 5353: 20484, 5354: 20485, 5355: 20486, 5356: 20487, 5357: 20488, 5358: 20489, 5359: 20490, 5360: 20491, 5361: 20492, 5362: 20493, 5363: 20494, 5364: 20495, 5365: 20496, 5366: 20497, 5367: 20498, 5368: 20499, 5369: 20500, 5370: 20501, 5371: 20502, 5372: 20503, 5373: 20504, 5374: 20505, 5375: 20506, 5376: 20507, 5377: 20508, 5378: 20509, 5379: 20510, 5380: 20511, 5381: 20512, 5382: 20513, 5383: 20514, 5384: 20515, 5385: 20516, 5386: 20517, 5387: 20518, 5388: 20519, 5389: 20520, 5390: 20521, 5391: 20522, 5392: 20523, 5393: 20524, 5394: 20525, 5395: 20526, 5396: 20527, 5397: 20528, 5398: 20529, 5399: 20530, 5400: 20531, 5401: 20532, 5402: 20533, 5403: 20534, 5404: 20535, 5405: 20536, 5406: 20537, 5407: 20538, 5408: 20539, 5409: 20540, 5410: 20541, 5411: 20542, 5412: 20543, 5413: 20544, 5414: 20545, 5415: 20546, 5416: 20547, 5417: 20548, 5418: 20549, 5419: 20550, 5420: 20551, 5421: 20552, 5422: 20553, 5423: 20554, 5424: 20555, 5425: 20556, 5426: 20557, 5427: 20558, 5428: 20559, 5429: 20560, 5430: 20561, 5431: 20562, 5432: 20563, 5433: 20564, 5434: 20565, 5435: 20566, 5436: 20567, 5437: 20568, 5438: 20569, 5439: 20570, 5440: 20571, 5441: 20572, 5442: 20573, 5443: 20574, 5444: 20575, 5445: 20576, 5446: 20577, 5447: 20578, 5448: 20579, 5449: 20580, 5450: 20581, 5451: 20582, 5452: 20583, 5453: 20584, 5454: 20585, 5455: 20586, 5456: 20587, 5457: 20588, 5458: 20589, 5459: 20590, 5460: 20591, 5461: 20592, 5462: 20593, 5463: 20594, 5464: 20595, 5465: 20596, 5466: 20597, 5467: 20598, 5468: 20599, 5469: 20600, 5470: 20601, 5471: 20602, 5472: 20603, 5473: 20604, 5474: 20605, 5475: 20606, 5476: 20607, 5477: 20608, 5478: 20609, 5479: 20610, 5480: 20611, 5481: 20612, 5482: 20613, 5483: 20614, 5484: 20615, 5485: 20616, 5486: 20617, 5487: 20618, 5488: 20619, 5489: 20620, 5490: 20621, 5491: 20622, 5492: 20623, 5493: 20624, 5494: 20625, 5495: 20626, 5496: 20627, 5497: 20628, 5498: 20629, 5499: 20630, 5500: 20631, 5501: 20632, 5502: 20633, 5503: 20634, 5504: 20635, 5505: 20636, 5506: 20637, 5507: 20638, 5508: 20639, 5509: 20640, 5510: 20641, 5511: 20642, 5512: 20643, 5513: 20644, 5514: 20645, 5515: 20646, 5516: 20647, 5517: 20648, 5518: 20649, 5519: 20650, 5520: 20651, 5521: 20652, 5522: 20653, 5523: 20654, 5524: 20655, 5525: 20656, 5526: 20657, 5527: 20658, 5528: 20659, 5529: 20660, 5530: 20661, 5531: 20662, 5532: 20663, 5533: 20664, 5534: 20665, 5535: 20666, 5536: 20667, 5537: 20668, 5538: 20669, 5539: 20670, 5540: 20671, 5541: 20672, 5542: 20673, 5543: 20674, 5544: 20675, 5545: 20676, 5546: 20677, 5547: 20678, 5548: 20679, 5549: 20680, 5550: 20681, 5551: 20682, 5552: 20683, 5553: 20684, 5554: 20685, 5555: 20686, 5556: 20687, 5557: 20688, 5558: 20689, 5559: 20690, 5560: 20691, 5561: 20692, 5562: 20693, 5563: 20694, 5564: 20695, 5565: 20696, 5566: 20697, 5567: 20698, 5568: 20699, 5569: 20700, 5570: 20701, 5571: 20702, 5572: 20703, 5573: 20704, 5574: 20705, 5575: 20706, 5576: 20707, 5577: 20708, 5578: 20709, 5579: 20710, 5580: 20711, 5581: 20712, 5582: 20713, 5583: 20714, 5584: 20715, 5585: 20716, 5586: 20717, 5587: 20718, 5588: 20719, 5589: 20720, 5590: 20721, 5591: 20722, 5592: 20723, 5593: 20724, 5594: 20725, 5595: 20726, 5596: 20727, 5597: 20728, 5598: 20729, 5599: 20730, 5600: 20731, 5601: 20732, 5602: 20733, 5603: 20734, 5604: 20735, 5605: 20736, 5606: 20737, 5607: 20738, 5608: 20739, 5609: 20740, 5610: 20741, 5611: 20742, 5612: 20743, 5613: 20744, 5614: 20745, 5615: 20746, 5616: 20747, 5617: 20748, 5618: 20749, 5619: 20750, 5620: 20751, 5621: 20752, 5622: 20753, 5623: 20754, 5624: 20755, 5625: 20756, 5626: 20757, 5627: 20758, 5628: 20759, 5629: 20760, 5630: 20761, 5631: 20762, 5632: 20763, 5633: 20764, 5634: 20765, 5635: 20766, 5636: 20767, 5637: 20768, 5638: 20769, 5639: 20770, 5640: 20771, 5641: 20772, 5642: 20773, 5643: 20774, 5644: 20775, 5645: 20776, 5646: 20777, 5647: 20778, 5648: 20779, 5649: 20780, 5650: 20781, 5651: 20782, 5652: 20783, 5653: 20784, 5654: 20785, 5655: 20786, 5656: 20787, 5657: 20788, 5658: 20789, 5659: 20790, 5660: 20791, 5661: 20792, 5662: 20793, 5663: 20794, 5664: 20795, 5665: 20796, 5666: 20797, 5667: 20798, 5668: 20799, 5669: 20800, 5670: 20801, 5671: 20802, 5672: 20803, 5673: 20804, 5674: 20805, 5675: 20806, 5676: 20807, 5677: 20808, 5678: 20809, 5679: 20810, 5680: 20811, 5681: 20812, 5682: 20813, 5683: 20814, 5684: 20815, 5685: 20816, 5686: 20817, 5687: 20818, 5688: 20819, 5689: 20820, 5690: 20821, 5691: 20822, 5692: 20823, 5693: 20824, 5694: 20825, 5695: 20826, 5696: 20827, 5697: 20828, 5698: 20829, 5699: 20830, 5700: 20831, 5701: 20832, 5702: 20833, 5703: 20834, 5704: 20835, 5705: 20836, 5706: 20837, 5707: 20838, 5708: 20839, 5709: 20840, 5710: 20841, 5711: 20842, 5712: 20843, 5713: 20844, 5714: 20845, 5715: 20846, 5716: 20847, 5717: 20848, 5718: 20849, 5719: 20850, 5720: 20851, 5721: 20852, 5722: 20853, 5723: 20854, 5724: 20855, 5725: 20856, 5726: 20857, 5727: 20858, 5728: 20859, 5729: 20860, 5730: 20861, 5731: 20862, 5732: 20863, 5733: 20864, 5734: 20865, 5735: 20866, 5736: 20867, 5737: 20868, 5738: 20869, 5739: 20870, 5740: 20871, 5741: 20872, 5742: 20873, 5743: 20874, 5744: 20875, 5745: 20876, 5746: 20877, 5747: 20878, 5748: 20879, 5749: 20880, 5750: 20881, 5751: 20882, 5752: 20883, 5753: 20884, 5754: 20885, 5755: 20886, 5756: 20887, 5757: 20888, 5758: 20889, 5759: 20890, 5760: 20891, 5761: 20892, 5762: 20893, 5763: 20894, 5764: 20895, 5765: 20896, 5766: 20897, 5767: 20898, 5768: 20899, 5769: 20900, 5770: 20901, 5771: 20902, 5772: 20903, 5773: 20904, 5774: 20905, 5775: 20906, 5776: 20907, 5777: 20908, 5778: 20909, 5779: 20910, 5780: 20911, 5781: 20912, 5782: 20913, 5783: 20914, 5784: 20915, 5785: 20916, 5786: 20917, 5787: 20918, 5788: 20919, 5789: 20920, 5790: 20921, 5791: 20922, 5792: 20923, 5793: 20924, 5794: 20925, 5795: 20926, 5796: 20927, 5797: 20928, 5798: 20929, 5799: 20930, 5800: 20931, 5801: 20932, 5802: 20933, 5803: 20934, 5804: 20935, 5805: 20936, 5806: 20937, 5807: 20938, 5808: 20939, 5809: 20940, 5810: 20941, 5811: 20942, 5812: 20943, 5813: 20944, 5814: 20945, 5815: 20946, 5816: 20947, 5817: 20948, 5818: 20949, 5819: 20950, 5820: 20951, 5821: 20952, 5822: 20953, 5823: 20954, 5824: 20955, 5825: 20956, 5826: 20957, 5827: 20958, 5828: 20959, 5829: 20960, 5830: 20961, 5831: 20962, 5832: 20963, 5833: 20964, 5834: 20965, 5835: 20966, 5836: 20967, 5837: 20968, 5838: 20969, 5839: 20970, 5840: 20971, 5841: 20972, 5842: 20973, 5843: 20974, 5844: 20975, 5845: 20976, 5846: 20977, 5847: 20978, 5848: 20979, 5849: 20980, 5850: 20981, 5851: 20982, 5852: 20983, 5853: 20984, 5854: 20985, 5855: 20986, 5856: 20987, 5857: 20988, 5858: 20989, 5859: 20990, 5860: 20991, 5861: 20992, 5862: 20993, 5863: 20994, 5864: 20995, 5865: 20996, 5866: 20997, 5867: 20998, 5868: 20999, 5869: 21000, 5870: 21001, 5871: 21002, 5872: 21003, 5873: 21004, 5874: 21005, 5875: 21006, 5876: 21007, 5877: 21008, 5878: 21009, 5879: 21010, 5880: 21011, 5881: 21012, 5882: 21013, 5883: 21014, 5884: 21015, 5885: 21016, 5886: 21017, 5887: 21018, 5888: 21019, 5889: 21020, 5890: 21021, 5891: 21022, 5892: 21023, 5893: 21024, 5894: 21025, 5895: 21026, 5896: 21027, 5897: 21028, 5898: 21029, 5899: 21030, 5900: 21031, 5901: 21032, 5902: 21033, 5903: 21034, 5904: 21035, 5905: 21036, 5906: 21037, 5907: 21038, 5908: 21039, 5909: 21040, 5910: 21041, 5911: 21042, 5912: 21043, 5913: 21044, 5914: 21045, 5915: 21046, 5916: 21047, 5917: 21048, 5918: 21049, 5919: 21050, 5920: 21051, 5921: 21052, 5922: 21053, 5923: 21054, 5924: 21055, 5925: 21056, 5926: 21057, 5927: 21058, 5928: 21059, 5929: 21060, 5930: 21061, 5931: 21062, 5932: 21063, 5933: 21064, 5934: 21065, 5935: 21066, 5936: 21067, 5937: 21068, 5938: 21069, 5939: 21070, 5940: 21071, 5941: 21072, 5942: 21073, 5943: 21074, 5944: 21075, 5945: 21076, 5946: 21077, 5947: 21078, 5948: 21079, 5949: 21080, 5950: 21081, 5951: 21082, 5952: 21083, 5953: 21084, 5954: 21085, 5955: 21086, 5956: 21087, 5957: 21088, 5958: 21089, 5959: 21090, 5960: 21091, 5961: 21092, 5962: 21093, 5963: 21094, 5964: 21095, 5965: 21096, 5966: 21097, 5967: 21098, 5968: 21099, 5969: 21100, 5970: 21101, 5971: 21102, 5972: 21103, 5973: 21104, 5974: 21105, 5975: 21106, 5976: 21107, 5977: 21108, 5978: 21109, 5979: 21110, 5980: 21111, 5981: 21112, 5982: 21113, 5983: 21114, 5984: 21115, 5985: 21116, 5986: 21117, 5987: 21118, 5988: 21119, 5989: 21120, 5990: 21121, 5991: 21122, 5992: 21123, 5993: 21124, 5994: 21125, 5995: 21126, 5996: 21127, 5997: 21128, 5998: 21129, 5999: 21130, 6000: 21131, 6001: 21132, 6002: 21133, 6003: 21134, 6004: 21135, 6005: 21136, 6006: 21137, 6007: 21138, 6008: 21139, 6009: 21140, 6010: 21141, 6011: 21142, 6012: 21143, 6013: 21144, 6014: 21145, 6015: 21146, 6016: 21147, 6017: 21148, 6018: 21149, 6019: 21150, 6020: 21151, 6021: 21152, 6022: 21153, 6023: 21154, 6024: 21155, 6025: 21156, 6026: 21157, 6027: 21158, 6028: 21159, 6029: 21160, 6030: 21161, 6031: 21162, 6032: 21163, 6033: 21164, 6034: 21165, 6035: 21166, 6036: 21167, 6037: 21168, 6038: 21169, 6039: 21170, 6040: 21171, 6041: 21172, 6042: 21173, 6043: 21174, 6044: 21175, 6045: 21176, 6046: 21177, 6047: 21178, 6048: 21179, 6049: 21180, 6050: 21181, 6051: 21182, 6052: 21183, 6053: 21184, 6054: 21185, 6055: 21186, 6056: 21187, 6057: 21188, 6058: 21189, 6059: 21190, 6060: 21191, 6061: 21192, 6062: 21193, 6063: 21194, 6064: 21195, 6065: 21196, 6066: 21197, 6067: 21198, 6068: 21199, 6069: 21200, 6070: 21201, 6071: 21202, 6072: 21203, 6073: 21204, 6074: 21205, 6075: 21206, 6076: 21207, 6077: 21208, 6078: 21209, 6079: 21210, 6080: 21211, 6081: 21212, 6082: 21213, 6083: 21214, 6084: 21215, 6085: 21216, 6086: 21217, 6087: 21218, 6088: 21219, 6089: 21220, 6090: 21221, 6091: 21222, 6092: 21223, 6093: 21224, 6094: 21225, 6095: 21226, 6096: 21227, 6097: 21228, 6098: 21229, 6099: 21230, 6100: 21231, 6101: 21232, 6102: 21233, 6103: 21234, 6104: 21235, 6105: 21236, 6106: 21237, 6107: 21238, 6108: 21239, 6109: 21240, 6110: 21241, 6111: 21242, 6112: 21243, 6113: 21244, 6114: 21245, 6115: 21246, 6116: 21247, 6117: 21248, 6118: 21249, 6119: 21250, 6120: 21251, 6121: 21252, 6122: 21253, 6123: 21254, 6124: 21255, 6125: 21256, 6126: 21257, 6127: 21258, 6128: 21259, 6129: 21260, 6130: 21261, 6131: 21262, 6132: 21263, 6133: 21264, 6134: 21265, 6135: 21266, 6136: 21267, 6137: 21268, 6138: 21269, 6139: 21270, 6140: 21271, 6141: 21272, 6142: 21273, 6143: 21274, 6144: 21275, 6145: 21276, 6146: 21277, 6147: 21278, 6148: 21279, 6149: 21280, 6150: 21281, 6151: 21282, 6152: 21283, 6153: 21284, 6154: 21285, 6155: 21286, 6156: 21287, 6157: 21288, 6158: 21289, 6159: 21290, 6160: 21291, 6161: 21292, 6162: 21293, 6163: 21294, 6164: 21295, 6165: 21296, 6166: 21297, 6167: 21298, 6168: 21299, 6169: 21300, 6170: 21301, 6171: 21302, 6172: 21303, 6173: 21304, 6174: 21305, 6175: 21306, 6176: 21307, 6177: 21308, 6178: 21309, 6179: 21310, 6180: 21311, 6181: 21312, 6182: 21313, 6183: 21314, 6184: 21315, 6185: 21316, 6186: 21317, 6187: 21318, 6188: 21319, 6189: 21320, 6190: 21321, 6191: 21322, 6192: 21323, 6193: 21324, 6194: 21325, 6195: 21326, 6196: 21327, 6197: 21328, 6198: 21329, 6199: 21330, 6200: 21331, 6201: 21332, 6202: 21333, 6203: 21334, 6204: 21335, 6205: 21336, 6206: 21337, 6207: 21338, 6208: 21339, 6209: 21340, 6210: 21341, 6211: 21342, 6212: 21343, 6213: 21344, 6214: 21345, 6215: 21346, 6216: 21347, 6217: 21348, 6218: 21349, 6219: 21350, 6220: 21351, 6221: 21352, 6222: 21353, 6223: 21354, 6224: 21355, 6225: 21356, 6226: 21357, 6227: 21358, 6228: 21359, 6229: 21360, 6230: 21361, 6231: 21362, 6232: 21363, 6233: 21364, 6234: 21365, 6235: 21366, 6236: 21367, 6237: 21368, 6238: 21369, 6239: 21370, 6240: 21371, 6241: 21372, 6242: 21373, 6243: 21374, 6244: 21375, 6245: 21376, 6246: 21377, 6247: 21378, 6248: 21379, 6249: 21380, 6250: 21381, 6251: 21382, 6252: 21383, 6253: 21384, 6254: 21385, 6255: 21386, 6256: 21387, 6257: 21388, 6258: 21389, 6259: 21390, 6260: 21391, 6261: 21392, 6262: 21393, 6263: 21394, 6264: 21395, 6265: 21396, 6266: 21397, 6267: 21398, 6268: 21399, 6269: 21400, 6270: 21401, 6271: 21402, 6272: 21403, 6273: 21404, 6274: 21405, 6275: 21406, 6276: 21407, 6277: 21408, 6278: 21409, 6279: 21410, 6280: 21411, 6281: 21412, 6282: 21413, 6283: 21414, 6284: 21415, 6285: 21416, 6286: 21417, 6287: 21418, 6288: 21419, 6289: 21420, 6290: 21421, 6291: 21422, 6292: 21423, 6293: 21424, 6294: 21425, 6295: 21426, 6296: 21427, 6297: 21428, 6298: 21429, 6299: 21430, 6300: 21431, 6301: 21432, 6302: 21433, 6303: 21434, 6304: 21435, 6305: 21436, 6306: 21437, 6307: 21438, 6308: 21439, 6309: 21440, 6310: 21441, 6311: 21442, 6312: 21443, 6313: 21444, 6314: 21445, 6315: 21446, 6316: 21447, 6317: 21448, 6318: 21449, 6319: 21450, 6320: 21451, 6321: 21452, 6322: 21453, 6323: 21454, 6324: 21455, 6325: 21456, 6326: 21457, 6327: 21458, 6328: 21459, 6329: 21460, 6330: 21461, 6331: 21462, 6332: 21463, 6333: 21464, 6334: 21465, 6335: 21466, 6336: 21467, 6337: 21468, 6338: 21469, 6339: 21470, 6340: 21471, 6341: 21472, 6342: 21473, 6343: 21474, 6344: 21475, 6345: 21476, 6346: 21477, 6347: 21478, 6348: 21479, 6349: 21480, 6350: 21481, 6351: 21482, 6352: 21483, 6353: 21484, 6354: 21485, 6355: 21486, 6356: 21487, 6357: 21488, 6358: 21489, 6359: 21490, 6360: 21491, 6361: 21492, 6362: 21493, 6363: 21494, 6364: 21495, 6365: 21496, 6366: 21497, 6367: 21498, 6368: 21499, 6369: 21500, 6370: 21501, 6371: 21502, 6372: 21503, 6373: 21504, 6374: 21505, 6375: 21506, 6376: 21507, 6377: 21508, 6378: 21509, 6379: 21510, 6380: 21511, 6381: 21512, 6382: 21513, 6383: 21514, 6384: 21515, 6385: 21516, 6386: 21517, 6387: 21518, 6388: 21519, 6389: 21520, 6390: 21521, 6391: 21522, 6392: 21523, 6393: 21524, 6394: 21525, 6395: 21526, 6396: 21527, 6397: 21528, 6398: 21529, 6399: 21530, 6400: 21531, 6401: 21532, 6402: 21533, 6403: 21534, 6404: 21535, 6405: 21536, 6406: 21537, 6407: 21538, 6408: 21539, 6409: 21540, 6410: 21541, 6411: 21542, 6412: 21543, 6413: 21544, 6414: 21545, 6415: 21546, 6416: 21547, 6417: 21548, 6418: 21549, 6419: 21550, 6420: 21551, 6421: 21552, 6422: 21553, 6423: 21554, 6424: 21555, 6425: 21556, 6426: 21557, 6427: 21558, 6428: 21559, 6429: 21560, 6430: 21561, 6431: 21562, 6432: 21563, 6433: 21564, 6434: 21565, 6435: 21566, 6436: 21567, 6437: 21568, 6438: 21569, 6439: 21570, 6440: 21571, 6441: 21572, 6442: 21573, 6443: 21574, 6444: 21575, 6445: 21576, 6446: 21577, 6447: 21578, 6448: 21579, 6449: 21580, 6450: 21581, 6451: 21582, 6452: 21583, 6453: 21584, 6454: 21585, 6455: 21586, 6456: 21587, 6457: 21588, 6458: 21589, 6459: 21590, 6460: 21591, 6461: 21592, 6462: 21593, 6463: 21594, 6464: 21595, 6465: 21596, 6466: 21597, 6467: 21598, 6468: 21599, 6469: 21600, 6470: 21601, 6471: 21602, 6472: 21603, 6473: 21604, 6474: 21605, 6475: 21606, 6476: 21607, 6477: 21608, 6478: 21609, 6479: 21610, 6480: 21611, 6481: 21612, 6482: 21613, 6483: 21614, 6484: 21615, 6485: 21616, 6486: 21617, 6487: 21618, 6488: 21619, 6489: 21620, 6490: 21621, 6491: 21622, 6492: 21623, 6493: 21624, 6494: 21625, 6495: 21626, 6496: 21627, 6497: 21628, 6498: 21629, 6499: 21630, 6500: 21631, 6501: 21632, 6502: 21633, 6503: 21634, 6504: 21635, 6505: 21636, 6506: 21637, 6507: 21638, 6508: 21639, 6509: 21640, 6510: 21641, 6511: 21642, 6512: 21643, 6513: 21644, 6514: 21645, 6515: 21646, 6516: 21647, 6517: 21648, 6518: 21649, 6519: 21650, 6520: 21651, 6521: 21652, 6522: 21653, 6523: 21654, 6524: 21655, 6525: 21656, 6526: 21657, 6527: 21658, 6528: 21659, 6529: 21660, 6530: 21661, 6531: 21662, 6532: 21663, 6533: 21664, 6534: 21665, 6535: 21666, 6536: 21667, 6537: 21668, 6538: 21669, 6539: 21670, 6540: 21671, 6541: 21672, 6542: 21673, 6543: 21674, 6544: 21675, 6545: 21676, 6546: 21677, 6547: 21678, 6548: 21679, 6549: 21680, 6550: 21681, 6551: 21682, 6552: 21683, 6553: 21684, 6554: 21685, 6555: 21686, 6556: 21687, 6557: 21688, 6558: 21689, 6559: 21690, 6560: 21691, 6561: 21692, 6562: 21693, 6563: 21694, 6564: 21695, 6565: 21696, 6566: 21697, 6567: 21698, 6568: 21699, 6569: 21700, 6570: 21701, 6571: 21702, 6572: 21703, 6573: 21704, 6574: 21705, 6575: 21706, 6576: 21707, 6577: 21708, 6578: 21709, 6579: 21710, 6580: 21711, 6581: 21712, 6582: 21713, 6583: 21714, 6584: 21715, 6585: 21716, 6586: 21717, 6587: 21718, 6588: 21719, 6589: 21720, 6590: 21721, 6591: 21722, 6592: 21723, 6593: 21724, 6594: 21725, 6595: 21726, 6596: 21727, 6597: 21728, 6598: 21729, 6599: 21730, 6600: 21731, 6601: 21732, 6602: 21733, 6603: 21734, 6604: 21735, 6605: 21736, 6606: 21737, 6607: 21738, 6608: 21739, 6609: 21740, 6610: 21741, 6611: 21742, 6612: 21743, 6613: 21744, 6614: 21745, 6615: 21746, 6616: 21747, 6617: 21748, 6618: 21749, 6619: 21750, 6620: 21751, 6621: 21752, 6622: 21753, 6623: 21754, 6624: 21755, 6625: 21756, 6626: 21757, 6627: 21758, 6628: 21759, 6629: 21760, 6630: 21761, 6631: 21762, 6632: 21763, 6633: 21764, 6634: 21765, 6635: 21766, 6636: 21767, 6637: 21768, 6638: 21769, 6639: 21770, 6640: 21771, 6641: 21772, 6642: 21773, 6643: 21774, 6644: 21775, 6645: 21776, 6646: 21777, 6647: 21778, 6648: 21779, 6649: 21780, 6650: 21781, 6651: 21782, 6652: 21783, 6653: 21784, 6654: 21785, 6655: 21786, 6656: 21787, 6657: 21788, 6658: 21789, 6659: 21790, 6660: 21791, 6661: 21792, 6662: 21793, 6663: 21794, 6664: 21795, 6665: 21796, 6666: 21797, 6667: 21798, 6668: 21799, 6669: 21800, 6670: 21801, 6671: 21802, 6672: 21803, 6673: 21804, 6674: 21805, 6675: 21806, 6676: 21807, 6677: 21808, 6678: 21809, 6679: 21810, 6680: 21811, 6681: 21812, 6682: 21813, 6683: 21814, 6684: 21815, 6685: 21816, 6686: 21817, 6687: 21818, 6688: 21819, 6689: 21820, 6690: 21821, 6691: 21822, 6692: 21823, 6693: 21824, 6694: 21825, 6695: 21826, 6696: 21827, 6697: 21828, 6698: 21829, 6699: 21830, 6700: 21831, 6701: 21832, 6702: 21833, 6703: 21834, 6704: 21835, 6705: 21836, 6706: 21837, 6707: 21838, 6708: 21839, 6709: 21840, 6710: 21841, 6711: 21842, 6712: 21843, 6713: 21844, 6714: 21845, 6715: 21846, 6716: 21847, 6717: 21848, 6718: 21849, 6719: 21850, 6720: 21851, 6721: 21852, 6722: 21853, 6723: 21854, 6724: 21855, 6725: 21856, 6726: 21857, 6727: 21858, 6728: 21859, 6729: 21860, 6730: 21861, 6731: 21862, 6732: 21863, 6733: 21864, 6734: 21865, 6735: 21866, 6736: 21867, 6737: 21868, 6738: 21869, 6739: 21870, 6740: 21871, 6741: 21872, 6742: 21873, 6743: 21874, 6744: 21875, 6745: 21876, 6746: 21877, 6747: 21878, 6748: 21879, 6749: 21880, 6750: 21881, 6751: 21882, 6752: 21883, 6753: 21884, 6754: 21885, 6755: 21886, 6756: 21887, 6757: 21888, 6758: 21889, 6759: 21890, 6760: 21891, 6761: 21892, 6762: 21893, 6763: 21894, 6764: 21895, 6765: 21896, 6766: 21897, 6767: 21898, 6768: 21899, 6769: 21900, 6770: 21901, 6771: 21902, 6772: 21903, 6773: 21904, 6774: 21905, 6775: 21906, 6776: 21907, 6777: 21908, 6778: 21909, 6779: 21910, 6780: 21911, 6781: 21912, 6782: 21913, 6783: 21914, 6784: 21915, 6785: 21916, 6786: 21917, 6787: 21918, 6788: 21919, 6789: 21920, 6790: 21921, 6791: 21922, 6792: 21923, 6793: 21924, 6794: 21925, 6795: 21926, 6796: 21927, 6797: 21928, 6798: 21929, 6799: 21930, 6800: 21931, 6801: 21932, 6802: 21933, 6803: 21934, 6804: 21935, 6805: 21936, 6806: 21937, 6807: 21938, 6808: 21939, 6809: 21940, 6810: 21941, 6811: 21942, 6812: 21943, 6813: 21944, 6814: 21945, 6815: 21946, 6816: 21947, 6817: 21948, 6818: 21949, 6819: 21950, 6820: 21951, 6821: 21952, 6822: 21953, 6823: 21954, 6824: 21955, 6825: 21956, 6826: 21957, 6827: 21958, 6828: 21959, 6829: 21960, 6830: 21961, 6831: 21962, 6832: 21963, 6833: 21964, 6834: 21965, 6835: 21966, 6836: 21967, 6837: 21968, 6838: 21969, 6839: 21970, 6840: 21971, 6841: 21972, 6842: 21973, 6843: 21974, 6844: 21975, 6845: 21976, 6846: 21977, 6847: 21978, 6848: 21979, 6849: 21980, 6850: 21981, 6851: 21982, 6852: 21983, 6853: 21984, 6854: 21985, 6855: 21986, 6856: 21987, 6857: 21988, 6858: 21989, 6859: 21990, 6860: 21991, 6861: 21992, 6862: 21993, 6863: 21994, 6864: 21995, 6865: 21996, 6866: 21997, 6867: 21998, 6868: 21999, 6869: 22000, 6870: 22001, 6871: 22002, 6872: 22003, 6873: 22004, 6874: 22005, 6875: 22006, 6876: 22007, 6877: 22008, 6878: 22009, 6879: 22010, 6880: 22011, 6881: 22012, 6882: 22013, 6883: 22014, 6884: 22015, 6885: 22016, 6886: 22017, 6887: 22018, 6888: 22019, 6889: 22020, 6890: 22021, 6891: 22022, 6892: 22023, 6893: 22024, 6894: 22025, 6895: 22026, 6896: 22027, 6897: 22028, 6898: 22029, 6899: 22030, 6900: 22031, 6901: 22032, 6902: 22033, 6903: 22034, 6904: 22035, 6905: 22036, 6906: 22037, 6907: 22038, 6908: 22039, 6909: 22040, 6910: 22041, 6911: 22042, 6912: 22043, 6913: 22044, 6914: 22045, 6915: 22046, 6916: 22047, 6917: 22048, 6918: 22049, 6919: 22050, 6920: 22051, 6921: 22052, 6922: 22053, 6923: 22054, 6924: 22055, 6925: 22056, 6926: 22057, 6927: 22058, 6928: 22059, 6929: 22060, 6930: 22061, 6931: 22062, 6932: 22063, 6933: 22064, 6934: 22065, 6935: 22066, 6936: 22067, 6937: 22068, 6938: 22069, 6939: 22070, 6940: 22071, 6941: 22072, 6942: 22073, 6943: 22074, 6944: 22075, 6945: 22076, 6946: 22077, 6947: 22078, 6948: 22079, 6949: 22080, 6950: 22081, 6951: 22082, 6952: 22083, 6953: 22084, 6954: 22085, 6955: 22086, 6956: 22087, 6957: 22088, 6958: 22089, 6959: 22090, 6960: 22091, 6961: 22092, 6962: 22093, 6963: 22094, 6964: 22095, 6965: 22096, 6966: 22097, 6967: 22098, 6968: 22099, 6969: 22100, 6970: 22101, 6971: 22102, 6972: 22103, 6973: 22104, 6974: 22105, 6975: 22106, 6976: 22107, 6977: 22108, 6978: 22109, 6979: 22110, 6980: 22111, 6981: 22112, 6982: 22113, 6983: 22114, 6984: 22115, 6985: 22116, 6986: 22117, 6987: 22118, 6988: 22119, 6989: 22120, 6990: 22121, 6991: 22122, 6992: 22123, 6993: 22124, 6994: 22125, 6995: 22126, 6996: 22127, 6997: 22128, 6998: 22129, 6999: 22130, 7000: 22131, 7001: 22132, 7002: 22133, 7003: 22134, 7004: 22135, 7005: 22136, 7006: 22137, 7007: 22138, 7008: 22139, 7009: 22140, 7010: 22141, 7011: 22142, 7012: 22143, 7013: 22144, 7014: 22145, 7015: 22146, 7016: 22147, 7017: 22148, 7018: 22149, 7019: 22150, 7020: 22151, 7021: 22152, 7022: 22153, 7023: 22154, 7024: 22155, 7025: 22156, 7026: 22157, 7027: 22158, 7028: 22159, 7029: 22160, 7030: 22161, 7031: 22162, 7032: 22163, 7033: 22164, 7034: 22165, 7035: 22166, 7036: 22167, 7037: 22168, 7038: 22169, 7039: 22170, 7040: 22171, 7041: 22172, 7042: 22173, 7043: 22174, 7044: 22175, 7045: 22176, 7046: 22177, 7047: 22178, 7048: 22179, 7049: 22180, 7050: 22181, 7051: 22182, 7052: 22183, 7053: 22184, 7054: 22185, 7055: 22186, 7056: 22187, 7057: 22188, 7058: 22189, 7059: 22190, 7060: 22191, 7061: 22192, 7062: 22193, 7063: 22194, 7064: 22195, 7065: 22196, 7066: 22197, 7067: 22198, 7068: 22199, 7069: 22200, 7070: 22201, 7071: 22202, 7072: 22203, 7073: 22204, 7074: 22205, 7075: 22206, 7076: 22207, 7077: 22208, 7078: 22209, 7079: 22210, 7080: 22211, 7081: 22212, 7082: 22213, 7083: 22214, 7084: 22215, 7085: 22216, 7086: 22217, 7087: 22218, 7088: 22219, 7089: 22220, 7090: 22221, 7091: 22222, 7092: 22223, 7093: 22224, 7094: 22225, 7095: 22226, 7096: 22227, 7097: 22228, 7098: 22229, 7099: 22230, 7100: 22231, 7101: 22232, 7102: 22233, 7103: 22234, 7104: 22235, 7105: 22236, 7106: 22237, 7107: 22238, 7108: 22239, 7109: 22240, 7110: 22241, 7111: 22242, 7112: 22243, 7113: 22244, 7114: 22245, 7115: 22246, 7116: 22247, 7117: 22248, 7118: 22249, 7119: 22250, 7120: 22251, 7121: 22252, 7122: 22253, 7123: 22254, 7124: 22255, 7125: 22256, 7126: 22257, 7127: 22258, 7128: 22259, 7129: 22260, 7130: 22261, 7131: 22262, 7132: 22263, 7133: 22264, 7134: 22265, 7135: 22266, 7136: 22267, 7137: 22268, 7138: 22269, 7139: 22270, 7140: 22271, 7141: 22272, 7142: 22273, 7143: 22274, 7144: 22275, 7145: 22276, 7146: 22277, 7147: 22278, 7148: 22279, 7149: 22280, 7150: 22281, 7151: 22282, 7152: 22283, 7153: 22284, 7154: 22285, 7155: 22286, 7156: 22287, 7157: 22288, 7158: 22289, 7159: 22290, 7160: 22291, 7161: 22292, 7162: 22293, 7163: 22294, 7164: 22295, 7165: 22296, 7166: 22297, 7167: 22298, 7168: 22299, 7169: 22300, 7170: 22301, 7171: 22302, 7172: 22303, 7173: 22304, 7174: 22305, 7175: 22306, 7176: 22307, 7177: 22308, 7178: 22309, 7179: 22310, 7180: 22311, 7181: 22312, 7182: 22313, 7183: 22314, 7184: 22315, 7185: 22316, 7186: 22317, 7187: 22318, 7188: 22319, 7189: 22320, 7190: 22321, 7191: 22322, 7192: 22323, 7193: 22324, 7194: 22325, 7195: 22326, 7196: 22327, 7197: 22328, 7198: 22329, 7199: 22330, 7200: 22331, 7201: 22332, 7202: 22333, 7203: 22334, 7204: 22335, 7205: 22336, 7206: 22337, 7207: 22338, 7208: 22339, 7209: 22340, 7210: 22341, 7211: 22342, 7212: 22343, 7213: 22344, 7214: 22345, 7215: 22346, 7216: 22347, 7217: 22348, 7218: 22349, 7219: 22350, 7220: 22351, 7221: 22352, 7222: 22353, 7223: 22354, 7224: 22355, 7225: 22356, 7226: 22357, 7227: 22358, 7228: 22359, 7229: 22360, 7230: 22361, 7231: 22362, 7232: 22363, 7233: 22364, 7234: 22365, 7235: 22366, 7236: 22367, 7237: 22368, 7238: 22369, 7239: 22370, 7240: 22371, 7241: 22372, 7242: 22373, 7243: 22374, 7244: 22375, 7245: 22376, 7246: 22377, 7247: 22378, 7248: 22379, 7249: 22380, 7250: 22381, 7251: 22382, 7252: 22383, 7253: 22384, 7254: 22385, 7255: 22386, 7256: 22387, 7257: 22388, 7258: 22389, 7259: 22390, 7260: 22391, 7261: 22392, 7262: 22393, 7263: 22394, 7264: 22395, 7265: 22396, 7266: 22397, 7267: 22398, 7268: 22399, 7269: 22400, 7270: 22401, 7271: 22402, 7272: 22403, 7273: 22404, 7274: 22405, 7275: 22406, 7276: 22407, 7277: 22408, 7278: 22409, 7279: 22410, 7280: 22411, 7281: 22412, 7282: 22413, 7283: 22414, 7284: 22415, 7285: 22416, 7286: 22417, 7287: 22418, 7288: 22419, 7289: 22420, 7290: 22421, 7291: 22422, 7292: 22423, 7293: 22424, 7294: 22425, 7295: 22426, 7296: 22427, 7297: 22428, 7298: 22429, 7299: 22430, 7300: 22431, 7301: 22432, 7302: 22433, 7303: 22434, 7304: 22435, 7305: 22436, 7306: 22437, 7307: 22438, 7308: 22439, 7309: 22440, 7310: 22441, 7311: 22442, 7312: 22443, 7313: 22444, 7314: 22445, 7315: 22446, 7316: 22447, 7317: 22448, 7318: 22449, 7319: 22450, 7320: 22451, 7321: 22452, 7322: 22453, 7323: 22454, 7324: 22455, 7325: 22456, 7326: 22457, 7327: 22458, 7328: 22459, 7329: 22460, 7330: 22461, 7331: 22462, 7332: 22463, 7333: 22464, 7334: 22465, 7335: 22466, 7336: 22467, 7337: 22468, 7338: 22469, 7339: 22470, 7340: 22471, 7341: 22472, 7342: 22473, 7343: 22474, 7344: 22475, 7345: 22476, 7346: 22477, 7347: 22478, 7348: 22479, 7349: 22480, 7350: 22481, 7351: 22482, 7352: 22483, 7353: 22484, 7354: 22485, 7355: 22486, 7356: 22487, 7357: 22488, 7358: 22489, 7359: 22490, 7360: 22491, 7361: 22492, 7362: 22493, 7363: 22494, 7364: 22495, 7365: 22496, 7366: 22497, 7367: 22498, 7368: 22499, 7369: 22500, 7370: 22501, 7371: 22502, 7372: 22503, 7373: 22504, 7374: 22505, 7375: 22506, 7376: 22507, 7377: 22508, 7378: 22509, 7379: 22510, 7380: 22511, 7381: 22512, 7382: 22513, 7383: 22514, 7384: 22515, 7385: 22516, 7386: 22517, 7387: 22518, 7388: 22519, 7389: 22520, 7390: 22521, 7391: 22522, 7392: 22523, 7393: 22524, 7394: 22525, 7395: 22526, 7396: 22527, 7397: 22528, 7398: 22529, 7399: 22530, 7400: 22531, 7401: 22532, 7402: 22533, 7403: 22534, 7404: 22535, 7405: 22536, 7406: 22537, 7407: 22538, 7408: 22539, 7409: 22540, 7410: 22541, 7411: 22542, 7412: 22543, 7413: 22544, 7414: 22545, 7415: 22546, 7416: 22547, 7417: 22548, 7418: 22549, 7419: 22550, 7420: 22551, 7421: 22552, 7422: 22553, 7423: 22554, 7424: 22555, 7425: 22556, 7426: 22557, 7427: 22558, 7428: 22559, 7429: 22560, 7430: 22561, 7431: 22562, 7432: 22563, 7433: 22564, 7434: 22565, 7435: 22566, 7436: 22567, 7437: 22568, 7438: 22569, 7439: 22570, 7440: 22571, 7441: 22572, 7442: 22573, 7443: 22574, 7444: 22575, 7445: 22576, 7446: 22577, 7447: 22578, 7448: 22579, 7449: 22580, 7450: 22581, 7451: 22582, 7452: 22583, 7453: 22584, 7454: 22585, 7455: 22586, 7456: 22587, 7457: 22588, 7458: 22589, 7459: 22590, 7460: 22591, 7461: 22592, 7462: 22593, 7463: 22594, 7464: 22595, 7465: 22596, 7466: 22597, 7467: 22598, 7468: 22599, 7469: 22600, 7470: 22601, 7471: 22602, 7472: 22603, 7473: 22604, 7474: 22605, 7475: 22606, 7476: 22607, 7477: 22608, 7478: 22609, 7479: 22610, 7480: 22611, 7481: 22612, 7482: 22613, 7483: 22614, 7484: 22615, 7485: 22616, 7486: 22617, 7487: 22618, 7488: 22619, 7489: 22620, 7490: 22621, 7491: 22622, 7492: 22623, 7493: 22624, 7494: 22625, 7495: 22626, 7496: 22627, 7497: 22628, 7498: 22629, 7499: 22630, 7500: 22631, 7501: 22632, 7502: 22633, 7503: 22634, 7504: 22635, 7505: 22636, 7506: 22637, 7507: 22638, 7508: 22639, 7509: 22640, 7510: 22641, 7511: 22642, 7512: 22643, 7513: 22644, 7514: 22645, 7515: 22646, 7516: 22647, 7517: 22648, 7518: 22649, 7519: 22650, 7520: 22651, 7521: 22652, 7522: 22653, 7523: 22654, 7524: 22655, 7525: 22656, 7526: 22657, 7527: 22658, 7528: 22659, 7529: 22660, 7530: 22661, 7531: 22662, 7532: 22663, 7533: 22664, 7534: 22665, 7535: 22666, 7536: 22667, 7537: 22668, 7538: 22669, 7539: 22670, 7540: 22671, 7541: 22672, 7542: 22673, 7543: 22674, 7544: 22675, 7545: 22676, 7546: 22677, 7547: 22678, 7548: 22679, 7549: 22680, 7550: 22681, 7551: 22682, 7552: 22683, 7553: 22684, 7554: 22685, 7555: 22686, 7556: 22687, 7557: 22688, 7558: 22689, 7559: 22690, 7560: 22691, 7561: 22692, 7562: 22693, 7563: 22694, 7564: 22695, 7565: 22696, 7566: 22697, 7567: 22698, 7568: 22699, 7569: 22700, 7570: 22701, 7571: 22702, 7572: 22703, 7573: 22704, 7574: 22705, 7575: 22706, 7576: 22707, 7577: 22708, 7578: 22709, 7579: 22710, 7580: 22711, 7581: 22712, 7582: 22713, 7583: 22714, 7584: 22715, 7585: 22716, 7586: 22717, 7587: 22718, 7588: 22719, 7589: 22720, 7590: 22721, 7591: 22722, 7592: 22723, 7593: 22724, 7594: 22725, 7595: 22726, 7596: 22727, 7597: 22728, 7598: 22729, 7599: 22730, 7600: 22731, 7601: 22732, 7602: 22733, 7603: 22734, 7604: 22735, 7605: 22736, 7606: 22737, 7607: 22738, 7608: 22739, 7609: 22740, 7610: 22741, 7611: 22742, 7612: 22743, 7613: 22744, 7614: 22745, 7615: 22746, 7616: 22747, 7617: 22748, 7618: 22749, 7619: 22750, 7620: 22751, 7621: 22752, 7622: 22753, 7623: 22754, 7624: 22755, 7625: 22756, 7626: 22757, 7627: 22758, 7628: 22759, 7629: 22760, 7630: 22761, 7631: 22762, 7632: 22763, 7633: 22764, 7634: 22765, 7635: 22766, 7636: 22767, 7637: 22768, 7638: 22769, 7639: 22770, 7640: 22771, 7641: 22772, 7642: 22773, 7643: 22774, 7644: 22775, 7645: 22776, 7646: 22777, 7647: 22778, 7648: 22779, 7649: 22780, 7650: 22781, 7652: 22782, 7653: 22783, 7654: 22784, 7655: 22785, 7656: 22786, 7657: 22787, 7658: 22788, 7659: 22789, 7660: 22790, 7661: 22791, 7662: 22792, 7663: 22793, 7664: 22794, 7665: 22795, 7666: 22796, 7667: 22797, 7668: 22798, 7669: 22799, 7670: 22800, 7671: 22801, 7672: 22802, 7673: 22803, 7674: 22804, 7675: 22805, 7676: 22806, 7677: 22807, 7678: 22808, 7679: 22809, 7680: 22810, 7681: 22811, 7682: 22812, 7683: 22813, 7684: 22814, 7685: 22815, 7686: 22816, 7687: 22817, 7688: 22818, 7689: 22819, 7651: 22820, 7690: 22821, 7691: 22822, 7692: 22823, 7693: 22824, 7694: 22825, 7695: 22826, 7696: 22827, 7697: 22828, 7698: 22829, 7699: 22830, 7700: 22831, 7701: 22832, 7702: 22833, 7703: 22834, 7704: 22835, 7705: 22836, 7706: 22837, 7707: 22838, 7708: 22839, 7709: 22840, 7710: 22841, 7711: 22842, 7712: 22843, 7713: 22844, 7714: 22845, 7715: 22846, 7716: 22847, 7717: 22848, 7718: 22849, 7719: 22850, 7720: 22851, 7721: 22852, 7722: 22853, 7723: 22854, 7724: 22855, 7725: 22856, 7726: 22857, 7727: 22858, 7728: 22859, 7729: 22860, 7730: 22861, 7731: 22862, 7732: 22863, 7733: 22864, 7734: 22865, 7735: 22866, 7736: 22867, 7737: 22868, 7738: 22869, 7739: 22870, 7740: 22871, 7741: 22872, 7742: 22873, 7743: 22874, 7744: 22875, 7745: 22876, 7746: 22877, 7747: 22878, 7748: 22879, 7749: 22880, 7750: 22881, 7751: 22882, 7752: 22883, 7753: 22884, 7754: 22885, 7755: 22886, 7756: 22887, 7757: 22888, 7758: 22889, 7759: 22890, 7760: 22891, 7761: 22892, 7762: 22893, 7763: 22894, 7764: 22895, 7765: 22896, 7766: 22897, 7767: 22898, 7768: 22899, 7769: 22900, 7770: 22901, 7771: 22902, 7772: 22903, 7773: 22904, 7774: 22905, 7775: 22906, 7776: 22907, 7777: 22908, 7778: 22909, 7779: 22910, 7780: 22911, 7781: 22912, 7782: 22913, 7783: 22914, 7784: 22915, 7785: 22916, 7786: 22917, 7787: 22918, 7788: 22919, 7789: 22920, 7790: 22921, 7791: 22922, 7792: 22923, 7793: 22924, 7794: 22925, 7795: 22926, 7796: 22927, 7797: 22928, 7798: 22929, 7799: 22930, 7800: 22931, 7801: 22932, 7802: 22933, 7803: 22934, 7804: 22935, 7805: 22936, 7806: 22937, 7807: 22938, 7808: 22939, 7809: 22940, 7810: 22941, 7811: 22942, 7812: 22943, 7813: 22944, 7814: 22945, 7815: 22946, 7816: 22947, 7817: 22948, 7818: 22949, 7819: 22950, 7820: 22951, 7821: 22952, 7822: 22953, 7823: 22954, 7824: 22955, 7825: 22956, 7826: 22957, 7827: 22958, 7828: 22959, 7829: 22960, 7830: 22961, 7831: 22962, 7832: 22963, 7833: 22964, 7834: 22965, 7835: 22966, 7836: 22967, 7837: 22968, 7838: 22969, 7839: 22970, 7840: 22971, 7841: 22972, 7842: 22973, 7843: 22974, 7844: 22975, 7845: 22976, 7846: 22977, 7847: 22978, 7848: 22979, 7849: 22980, 7850: 22981, 7851: 22982, 7852: 22983, 7853: 22984, 7854: 22985, 7855: 22986, 7856: 22987, 7857: 22988, 7858: 22989, 7859: 22990, 7860: 22991, 7861: 22992, 7862: 22993, 7863: 22994, 7864: 22995, 7865: 22996, 7866: 22997, 7867: 22998, 7868: 22999, 7869: 23000, 7870: 23001, 7871: 23002, 7872: 23003, 7873: 23004, 7874: 23005, 7875: 23006, 7876: 23007, 7877: 23008, 7878: 23009, 7879: 23010, 7880: 23011, 7881: 23012, 7882: 23013, 7883: 23014, 7884: 23015, 7885: 23016, 7886: 23017, 7887: 23018, 7888: 23019, 7889: 23020, 7890: 23021, 7891: 23022, 7892: 23023, 7893: 23024, 7894: 23025, 7895: 23026, 7896: 23027, 7897: 23028, 7898: 23029, 7899: 23030, 7900: 23031, 7901: 23032, 7902: 23033, 7903: 23034, 7904: 23035, 7905: 23036, 7906: 23037, 7907: 23038, 7908: 23039, 7909: 23040, 7910: 23041, 7911: 23042, 7912: 23043, 7913: 23044, 7914: 23045, 7915: 23046, 7916: 23047, 7917: 23048, 7918: 23049, 7919: 23050, 7920: 23051, 7921: 23052, 7922: 23053, 7923: 23054, 7924: 23055, 7925: 23056, 7928: 23057, 7929: 23058, 7926: 23059, 7930: 23060, 7931: 23061, 7932: 23062, 7933: 23063, 7934: 23064, 7935: 23065, 7936: 23066, 7937: 23067, 7938: 23068, 7939: 23069, 7940: 23070, 7941: 23071, 7942: 23072, 7943: 23073, 7944: 23074, 7945: 23075, 7946: 23076, 7947: 23077, 7948: 23078, 7949: 23079, 7950: 23080, 7951: 23081, 7952: 23082, 7953: 23083, 7954: 23084, 7955: 23085, 7956: 23086, 7957: 23087, 7958: 23088, 7959: 23089, 7960: 23090, 7961: 23091, 7962: 23092, 7963: 23093, 7964: 23094, 7965: 23095, 7966: 23096, 7967: 23097, 7968: 23098, 7969: 23099, 7970: 23100, 7971: 23101, 7972: 23102, 7973: 23103, 7974: 23104, 7975: 23105, 7976: 23106, 7977: 23107, 7978: 23108, 7979: 23109, 7980: 23110, 7981: 23111, 7982: 23112, 7983: 23113, 7984: 23114, 7985: 23115, 7986: 23116, 7987: 23117, 7988: 23118, 7989: 23119, 7990: 23120, 7991: 23121, 7992: 23122, 7993: 23123, 7994: 23124, 7995: 23125, 7996: 23126, 7997: 23127, 7998: 23128, 7999: 23129, 8000: 23130, 8001: 23131, 8002: 23132, 8003: 23133, 8004: 23134, 8005: 23135, 8006: 23136, 8007: 23137, 8008: 23138, 8009: 23139, 8010: 23140, 8011: 23141, 8012: 23142, 8013: 23143, 8014: 23144, 8015: 23145, 8016: 23146, 8017: 23147, 8018: 23148, 8019: 23149, 8020: 23150, 8021: 23151, 8022: 23152, 8023: 23153, 8024: 23154, 8025: 23155, 8026: 23156, 8027: 23157, 8028: 23158, 8029: 23159, 8030: 23160, 8031: 23161, 8032: 23162, 8033: 23163, 8034: 23164, 8035: 23165, 8036: 23166, 8037: 23167, 8038: 23168, 8039: 23169, 8040: 23170, 8041: 23171, 8042: 23172, 8043: 23173, 8044: 23174, 8045: 23175, 8046: 23176, 8047: 23177, 8048: 23178, 8049: 23179, 8050: 23180, 8051: 23181, 8052: 23182, 8053: 23183, 8054: 23184, 8055: 23185, 8056: 23186, 8057: 23187, 8058: 23188, 8059: 23189, 8060: 23190, 8061: 23191, 8062: 23192, 8063: 23193, 8064: 23194, 8065: 23195, 8066: 23196, 8067: 23197, 8068: 23198, 8069: 23199, 8070: 23200, 8071: 23201, 8072: 23202, 8073: 23203, 8074: 23204, 8075: 23205, 8076: 23206, 8077: 23207, 8078: 23208, 8079: 23209, 8080: 23210, 8081: 23211, 8082: 23212, 8083: 23213, 8084: 23214, 8085: 23215, 8086: 23216, 8087: 23217, 8088: 23218, 8089: 23219, 8090: 23220, 8091: 23221, 8092: 23222, 8093: 23223, 8094: 23224, 8095: 23225, 8096: 23226, 8097: 23227, 8098: 23228, 8099: 23229, 8100: 23230, 8101: 23231, 8102: 23232, 8103: 23233, 8104: 23234, 8105: 23235, 8106: 23236, 8107: 23237, 8108: 23238, 8109: 23239, 8110: 23240, 8111: 23241, 8112: 23242, 8113: 23243, 8114: 23244, 8115: 23245, 8116: 23246, 8117: 23247, 8118: 23248, 8119: 23249, 8120: 23250, 8121: 23251, 8122: 23252, 8123: 23253, 8124: 23254, 8125: 23255, 8126: 23256, 8127: 23257, 8128: 23258, 8129: 23259, 8130: 23260, 8131: 23261, 8132: 23262, 8133: 23263, 8134: 23264, 8135: 23265, 8136: 23266, 8137: 23267, 8138: 23268, 8139: 23269, 8140: 23270, 8141: 23271, 8142: 23272, 8143: 23273, 8144: 23274, 8145: 23275, 8146: 23276, 8147: 23277, 8148: 23278, 8149: 23279, 8150: 23280, 8151: 23281, 8152: 23282, 8153: 23283, 8154: 23284, 8155: 23285, 8156: 23286, 8157: 23287, 8158: 23288, 8159: 23289, 8160: 23290, 8161: 23291, 8162: 23292, 8163: 23293, 8164: 23294, 8165: 23295, 8166: 23296, 8167: 23297, 8168: 23298, 8169: 23299, 8170: 23300, 8171: 23301, 8172: 23302, 8173: 23303, 8174: 23304, 8175: 23305, 8176: 23306, 8177: 23307, 8178: 23308, 8179: 23309, 8180: 23310, 8181: 23311, 8182: 23312, 8183: 23313, 8184: 23314, 8185: 23315, 8186: 23316, 8187: 23317, 8188: 23318, 8189: 23319, 8190: 23320, 8191: 23321, 8192: 23322, 8193: 23323, 8194: 23324, 8195: 23325, 8196: 23326, 8197: 23327, 8198: 23328, 8199: 23329, 8200: 23330, 8201: 23331, 8202: 23332, 8203: 23333, 8204: 23334, 8205: 23335, 8206: 23336, 8207: 23337, 8208: 23338, 8209: 23339, 8210: 23340, 8211: 23341, 8212: 23342, 8213: 23343, 8214: 23344, 8215: 23345, 8216: 23346, 8217: 23347, 8218: 23348, 8219: 23349, 8220: 23350, 8221: 23351, 8222: 23352, 8223: 23353, 8224: 23354, 8225: 23355, 8226: 23356, 8227: 23357, 8228: 23358, 8229: 23359, 8230: 23360, 8231: 23361, 8232: 23362, 8233: 23363, 8234: 23364, 8235: 23365, 8236: 23366, 8237: 23367, 8238: 23368, 8239: 23369, 8240: 23370, 8241: 23371, 8242: 23372, 8243: 23373, 8244: 23374, 8245: 23375, 8246: 23376, 8247: 23377, 8248: 23378, 8249: 23379, 8250: 23380, 8251: 23381, 8252: 23382, 8253: 23383, 8254: 23384, 8255: 23385, 8256: 23386, 8257: 23387, 8258: 23388, 8259: 23389, 8260: 23390, 8261: 23391, 8262: 23392, 8263: 23393, 8264: 23394, 8265: 23395, 8266: 23396, 8267: 23397, 8268: 23398, 8269: 23399, 8270: 23400, 8271: 23401, 8272: 23402, 8273: 23403, 8274: 23404, 8275: 23405, 8276: 23406, 8277: 23407, 8278: 23408, 8279: 23409, 8280: 23410, 8281: 23411, 8282: 23412, 8283: 23413, 8284: 23414, 8285: 23415, 8286: 23416, 8287: 23417, 8288: 23418, 8289: 23419, 8290: 23420, 8291: 23421, 8292: 23422, 8293: 23423, 8294: 23424, 8295: 23425, 8296: 23426, 8297: 23427, 8298: 23428, 8299: 23429, 8300: 23430, 8301: 23431, 8302: 23432, 8303: 23433, 8304: 23434, 8305: 23435, 8306: 23436, 8307: 23437, 8308: 23438, 8309: 23439, 8310: 23440, 8311: 23441, 8312: 23442, 8313: 23443, 8314: 23444, 8315: 23445, 8316: 23446, 8317: 23447, 8318: 23448, 8319: 23449, 8320: 23450, 8321: 23451, 8322: 23452, 8323: 23453, 8324: 23454, 8325: 23455, 8326: 23456, 8327: 23457, 8328: 23458, 8329: 23459, 8330: 23460, 8331: 23461, 8332: 23462, 8334: 23463, 8335: 23464, 8336: 23465, 8337: 23466, 8338: 23467, 8339: 23468, 8340: 23469, 8341: 23470, 8342: 23471, 8343: 23472, 8344: 23473, 8345: 23474, 8346: 23475, 8347: 23476, 8348: 23477, 8349: 23478, 8350: 23479, 8351: 23480, 8352: 23481, 8353: 23482, 8354: 23483, 8355: 23484, 8357: 23485, 8358: 23486, 8359: 23487, 8360: 23488, 8361: 23489, 8362: 23490, 8363: 23491, 8364: 23492, 8365: 23493, 8366: 23494, 8367: 23495, 8368: 23496, 8369: 23497, 8370: 23498, 8371: 23499, 8372: 23500, 8373: 23501, 8374: 23502, 8375: 23503, 8376: 23504, 8377: 23505, 8378: 23506, 8379: 23507, 8380: 23508, 8381: 23509, 8382: 23510, 8383: 23511, 8384: 23512, 8385: 23513, 8386: 23514, 8387: 23515, 8388: 23516, 8389: 23517, 8390: 23518, 8391: 23519, 8392: 23520, 8393: 23521, 8394: 23522, 8395: 23523, 8396: 23524, 8397: 23525, 8398: 23526, 8399: 23527, 8400: 23528, 8401: 23529, 8402: 23530, 8403: 23531, 8404: 23532, 8405: 23533, 8406: 23534, 8407: 23535, 8408: 23536, 8409: 23537, 8410: 23538, 8411: 23539, 8412: 23540, 8413: 23541, 8414: 23542, 8415: 23543, 8416: 23544, 8417: 23545, 8418: 23546, 8419: 23547, 8420: 23548, 8421: 23549, 8422: 23550, 8423: 23551, 8424: 23552, 8425: 23553, 8426: 23554, 8427: 23555, 8428: 23556, 8429: 23557, 8430: 23558, 8431: 23559, 8432: 23560, 8433: 23561, 8434: 23562, 8435: 23563, 8436: 23564, 8437: 23565, 8438: 23566, 8439: 23567, 8440: 23568, 8441: 23569, 8442: 23570, 8443: 23571, 8444: 23572, 8445: 23573, 8446: 23574, 8447: 23575, 8448: 23576, 8449: 23577, 8450: 23578, 8451: 23579, 8452: 23580, 8453: 23581, 8454: 23582, 8455: 23583, 8456: 23584, 8457: 23585, 8458: 23586, 8459: 23587, 8460: 23588, 8461: 23589, 8462: 23590, 8463: 23591, 8464: 23592, 8465: 23593, 8466: 23594, 8467: 23595, 8468: 23596, 8469: 23597, 8470: 23598, 8471: 23599, 8472: 23600, 8473: 23601, 8474: 23602, 8475: 23603, 8476: 23604, 8477: 23605, 8479: 23606, 8480: 23607, 8482: 23608, 8484: 23609, 8485: 23610, 8486: 23611, 8487: 23612, 8488: 23613, 8489: 23614, 8490: 23615, 8491: 23616, 8492: 23617, 8493: 23618, 8494: 23619, 8495: 23620, 8496: 23621, 8497: 23622, 8498: 23623, 8499: 23624, 8500: 23625, 8501: 23626, 8502: 23627, 8503: 23628, 8504: 23629, 8505: 23630, 8506: 23631, 8507: 23632, 8508: 23633, 8509: 23634, 8510: 23635, 8511: 23636, 8512: 23637, 8513: 23638, 8514: 23639, 8515: 23640, 8516: 23641, 8517: 23642, 8518: 23643, 8519: 23644, 8520: 23645, 8521: 23646, 8522: 23647, 8523: 23648, 8524: 23649, 8525: 23650, 8526: 23651, 8527: 23652, 8528: 23653, 8529: 23654, 8530: 23655, 8531: 23656, 8532: 23657, 8533: 23658, 8534: 23659, 8535: 23660, 8536: 23661, 8537: 23662, 8538: 23663, 8539: 23664, 8540: 23665, 8541: 23666, 8542: 23667, 8543: 23668, 8544: 23669, 8545: 23670, 8546: 23671, 8547: 23672, 8548: 23673, 8550: 23674, 8551: 23675, 8552: 23676, 8554: 23677, 8555: 23678, 8556: 23679, 8557: 23680, 8558: 23681, 8559: 23682, 8560: 23683, 8561: 23684, 8562: 23685, 8563: 23686, 8564: 23687, 8565: 23688, 8566: 23689, 8567: 23690, 8568: 23691, 8569: 23692, 8570: 23693, 8571: 23694, 8572: 23695, 8573: 23696, 8574: 23697, 8575: 23698, 8576: 23699, 8577: 23700, 8579: 23701, 8580: 23702, 8581: 23703, 8582: 23704, 8583: 23705, 8584: 23706, 8585: 23707, 8586: 23708, 8587: 23709, 8588: 23710, 8589: 23711, 8590: 23712, 8591: 23713, 8592: 23714, 8593: 23715, 8594: 23716, 8595: 23717, 8596: 23718, 8597: 23719, 8598: 23720, 8599: 23721, 8600: 23722, 8601: 23723, 8602: 23724, 8603: 23725, 8604: 23726, 8605: 23727, 8606: 23728, 8607: 23729, 8608: 23730, 8609: 23731, 8610: 23732, 8611: 23733, 8612: 23734, 8613: 23735, 8614: 23736, 8615: 23737, 8616: 23738, 8617: 23739, 8618: 23740, 8619: 23741, 8620: 23742, 8621: 23743, 8622: 23744, 8623: 23745, 8624: 23746, 8625: 23747, 8626: 23748, 8627: 23749, 8628: 23750, 8629: 23751, 8630: 23752, 8631: 23753, 8632: 23754, 8633: 23755, 8634: 23756, 8635: 23757, 8636: 23758, 8637: 23759, 8638: 23760, 8639: 23761, 8640: 23762, 8641: 23763, 8642: 23764, 8643: 23765, 8644: 23766, 8645: 23767, 8646: 23768, 8647: 23769, 8648: 23770, 8649: 23771, 8650: 23772, 8651: 23773, 8652: 23774, 8653: 23775, 8654: 23776, 8655: 23777, 8656: 23778, 8657: 23779, 8658: 23780, 8659: 23781, 8660: 23782, 7927: 23783, 8333: 23784, 8356: 23785, 8481: 23786, 8483: 23787, 8478: 23788, 8549: 23789, 8553: 23790, 8578: 23791, 8661: 23792, 8662: 23793, 8663: 23794, 8664: 23795, 8665: 23796, 8666: 23797, 8667: 23798, 8668: 23799, 8669: 23800, 8670: 23801, 8671: 23802, 8672: 23803, 8673: 23804, 8674: 23805, 8675: 23806, 8676: 23807, 8677: 23808, 8678: 23809, 8679: 23810, 8680: 23811, 8681: 23812, 8682: 23813, 8683: 23814, 8684: 23815, 8685: 23816, 8686: 23817, 8687: 23818, 8688: 23819, 8689: 23820, 8690: 23821, 8691: 23822, 8692: 23823, 8693: 23824, 8694: 23825, 8695: 23826, 8696: 23827, 8697: 23828, 8698: 23829, 8699: 23830, 8700: 23831, 8701: 23832, 8702: 23833, 8703: 23834, 8704: 23835, 8705: 23836, 8706: 23837, 8707: 23838, 8708: 23839, 8709: 23840, 8710: 23841, 8711: 23842, 8712: 23843, 8713: 23844, 8714: 23845, 8715: 23846, 8716: 23847, 8717: 23848, 8718: 23849, 8719: 23850, 8720: 23851, 8721: 23852, 8722: 23853, 8723: 23854, 8724: 23855, 8725: 23856, 8726: 23857, 8727: 23858, 8728: 23859, 8729: 23860, 8730: 23861, 8731: 23862, 8732: 23863, 8733: 23864, 8734: 23865, 8735: 23866, 8736: 23867, 8737: 23868, 8738: 23869, 8739: 23870, 8740: 23871, 8741: 23872, 8742: 23873, 8743: 23874, 8744: 23875, 8745: 23876, 8746: 23877, 8747: 23878, 8748: 23879, 8749: 23880, 8750: 23881, 8751: 23882, 8752: 23883, 8753: 23884, 8754: 23885, 8755: 23886, 8756: 23887, 8757: 23888, 8758: 23889, 8759: 23890, 8760: 23891, 8761: 23892, 8762: 23893, 8763: 23894, 8764: 23895, 8765: 23896, 8766: 23897, 8767: 23898, 8768: 23899, 8769: 23900, 8770: 23901, 8771: 23902, 8772: 23903, 8773: 23904, 8774: 23905, 8775: 23906, 8776: 23907, 8777: 23908, 8778: 23909, 8779: 23910, 8780: 23911, 8781: 23912, 8782: 23913, 8783: 23914, 8784: 23915, 8785: 23916, 8786: 23917, 8787: 23918, 8788: 23919, 8789: 23920, 8790: 23921, 8791: 23922, 8792: 23923, 8793: 23924, 8794: 23925, 8795: 23926, 8796: 23927, 8797: 23928, 8798: 23929, 8799: 23930, 8800: 23931, 8801: 23932, 8802: 23933, 8803: 23934, 8804: 23935, 8805: 23936, 8806: 23937, 8807: 23938, 8808: 23939, 8809: 23940, 8810: 23941, 8811: 23942, 8812: 23943, 8813: 23944, 8814: 23945, 8815: 23946, 8816: 23947, 8817: 23948, 8818: 23949, 8819: 23950, 8820: 23951, 8821: 23952, 8822: 23953, 8823: 23954, 8824: 23955, 8825: 23956, 8826: 23957, 8827: 23958, 8828: 23959, 8829: 23960, 8830: 23961, 8831: 23962, 8832: 23963, 8833: 23964, 8834: 23965, 8835: 23966, 8836: 23967, 8837: 23968, 8838: 23969, 8839: 23970, 8840: 23971, 8841: 23972, 8842: 23973, 8843: 23974, 8844: 23975, 8845: 23976, 8846: 23977, 8847: 23978, 8848: 23979, 8849: 23980, 8850: 23981, 8851: 23982, 8852: 23983, 8853: 23984, 8854: 23985, 8855: 23986, 8856: 23987, 8857: 23988, 8858: 23989, 8859: 23990, 8860: 23991, 8861: 23992, 8862: 23993, 8863: 23994, 8864: 23995, 8865: 23996, 8866: 23997, 8867: 23998, 8868: 23999, 8869: 24000, 8870: 24001, 8871: 24002, 8872: 24003, 8873: 24004, 8874: 24005, 8875: 24006, 8877: 24007, 8876: 24008, 8878: 24009, 8879: 24010, 8880: 24011, 8881: 24012, 8882: 24013, 8883: 24014, 8884: 24015, 8885: 24016, 8886: 24017, 8887: 24018, 8888: 24019, 8889: 24020, 8891: 24021, 8892: 24022, 8890: 24023, 8893: 24024, 8894: 24025, 8896: 24026, 8897: 24027, 8898: 24028, 8899: 24029, 8900: 24030, 8901: 24031, 8902: 24032, 8903: 24033, 8904: 24034, 8905: 24035, 8906: 24036, 8907: 24037, 8908: 24038, 8895: 24039, 8909: 24040, 8910: 24041, 8911: 24042, 8912: 24043, 8913: 24044, 8914: 24045, 8915: 24046, 8916: 24047, 8917: 24048, 8918: 24049, 8919: 24050, 8920: 24051, 8921: 24052, 8922: 24053, 8923: 24054, 8924: 24055, 8925: 24056, 8926: 24057, 8927: 24058, 8928: 24059, 8929: 24060, 8930: 24061, 8931: 24062, 8932: 24063, 8933: 24064, 8934: 24065, 8935: 24066, 8936: 24067, 8937: 24068, 8938: 24069, 8939: 24070, 8940: 24071, 8941: 24072, 8942: 24073, 8943: 24074, 8944: 24075, 8945: 24076, 8946: 24077, 8947: 24078, 8948: 24079, 8949: 24080, 8950: 24081, 8951: 24082, 8952: 24083, 8953: 24084, 8954: 24085, 8955: 24086, 8956: 24087, 8957: 24088, 8958: 24089, 8959: 24090, 8960: 24091, 8961: 24092, 8962: 24093, 8963: 24094, 8964: 24095, 8965: 24096, 8966: 24097, 8967: 24098, 8968: 24099, 8969: 24100, 8971: 24101, 8972: 24102, 8973: 24103, 8970: 24104, 8974: 24105, 8975: 24106, 8976: 24107, 8978: 24108, 8977: 24109, 8979: 24110, 8980: 24111, 8981: 24112, 8982: 24113, 8983: 24114, 8984: 24115, 8985: 24116, 8986: 24117, 8987: 24118, 8988: 24119, 8989: 24120, 8990: 24121, 8991: 24122, 8992: 24123, 8993: 24124, 8994: 24125, 8995: 24126, 8996: 24127, 8997: 24128, 8998: 24129, 8999: 24130, 9000: 24131, 9001: 24132, 9002: 24133, 9003: 24134, 9004: 24135, 9005: 24136, 9006: 24137, 9007: 24138, 9008: 24139, 9009: 24140, 9010: 24141, 9011: 24142, 9012: 24143, 9013: 24144, 9014: 24145, 9015: 24146, 9016: 24147, 9017: 24148, 9018: 24149, 9019: 24150, 9020: 24151, 9021: 24152, 9022: 24153, 9023: 24154, 9024: 24155, 9025: 24156, 9026: 24157, 9027: 24158, 9028: 24159, 9029: 24160, 9030: 24161, 9031: 24162, 9032: 24163, 9033: 24164, 9035: 24165, 9036: 24166, 9037: 24167, 9038: 24168, 9039: 24169, 9040: 24170, 9041: 24171, 9042: 24172, 9043: 24173, 9044: 24174, 9045: 24175, 9046: 24176, 9047: 24177, 9048: 24178, 9049: 24179, 9050: 24180, 9051: 24181, 9052: 24182, 9053: 24183, 9054: 24184, 9034: 24185, 9055: 24186, 9056: 24187, 9057: 24188, 9058: 24189, 9059: 24190, 9060: 24191, 9061: 24192, 9062: 24193, 9063: 24194, 9064: 24195, 9065: 24196, 9066: 24197, 9067: 24198, 9068: 24199, 9069: 24200, 9070: 24201, 9071: 24202, 9072: 24203, 9073: 24204, 9074: 24205, 9075: 24206, 9076: 24207, 9077: 24208, 9078: 24209, 9080: 24210, 9081: 24211, 9082: 24212, 9083: 24213, 9084: 24214, 9085: 24215, 9086: 24216, 9087: 24217, 9088: 24218, 9089: 24219, 9090: 24220, 9091: 24221, 9092: 24222, 9093: 24223, 9094: 24224, 9095: 24225, 9096: 24226, 9097: 24227, 9098: 24228, 9099: 24229, 9100: 24230, 9101: 24231, 9102: 24232, 9103: 24233, 9104: 24234, 9105: 24235, 9106: 24236, 9107: 24237, 9108: 24238, 9109: 24239, 9110: 24240, 9111: 24241, 9112: 24242, 9113: 24243, 9114: 24244, 9115: 24245, 9116: 24246, 9117: 24247, 9118: 24248, 9119: 24249, 9120: 24250, 9121: 24251, 9122: 24252, 9123: 24253, 9124: 24254, 9125: 24255, 9126: 24256, 9127: 24257, 9128: 24258, 9129: 24259, 9130: 24260, 9131: 24261, 9132: 24262, 9133: 24263, 9134: 24264, 9135: 24265, 9136: 24266, 9137: 24267, 9138: 24268, 9139: 24269, 9140: 24270, 9141: 24271, 9142: 24272, 9143: 24273, 9144: 24274, 9145: 24275, 9146: 24276, 9147: 24277, 9148: 24278, 9149: 24279, 9150: 24280, 9151: 24281, 9152: 24282, 9154: 24283, 9155: 24284, 9156: 24285, 9157: 24286, 9158: 24287, 9160: 24288, 9161: 24289, 9162: 24290, 9163: 24291, 9164: 24292, 9165: 24293, 9166: 24294, 9167: 24295, 9168: 24296, 9169: 24297, 9170: 24298, 9171: 24299, 9172: 24300, 9173: 24301, 9174: 24302, 9175: 24303, 9176: 24304, 9177: 24305, 9178: 24306, 9179: 24307, 9180: 24308, 9181: 24309, 9182: 24310, 9183: 24311, 9184: 24312, 9185: 24313, 9186: 24314, 9187: 24315, 9188: 24316, 9189: 24317, 9190: 24318, 9191: 24319, 9192: 24320, 9193: 24321, 9079: 24322, 9194: 24323, 9195: 24324, 9196: 24325, 9197: 24326, 9198: 24327, 9199: 24328, 9200: 24329, 9201: 24330, 9202: 24331, 9203: 24332, 9204: 24333, 9205: 24334, 9206: 24335, 9207: 24336, 9208: 24337, 9209: 24338, 9210: 24339, 9211: 24340, 9212: 24341, 9213: 24342, 9214: 24343, 9215: 24344, 9216: 24345, 9217: 24346, 9218: 24347, 9219: 24348, 9220: 24349, 9221: 24350, 9222: 24351, 9223: 24352, 9224: 24353, 9225: 24354, 9226: 24355, 9227: 24356, 9228: 24357, 9229: 24358, 9230: 24359, 9231: 24360, 9232: 24361, 9233: 24362, 9234: 24363, 9235: 24364, 9236: 24365, 9237: 24366, 9238: 24367, 9239: 24368, 9159: 24369, 9240: 24370, 9241: 24371, 9242: 24372, 9243: 24373, 9244: 24374, 9245: 24375, 9246: 24376, 9248: 24377, 9249: 24378, 9250: 24379, 9251: 24380, 9252: 24381, 9253: 24382, 9247: 24383, 9254: 24384, 9255: 24385, 9256: 24386, 9257: 24387, 9258: 24388, 9259: 24389, 9260: 24390, 9261: 24391, 9262: 24392, 9263: 24393, 9264: 24394, 9265: 24395, 9266: 24396, 9267: 24397, 9269: 24398, 9270: 24399, 9271: 24400, 9272: 24401, 9273: 24402, 9274: 24403, 9268: 24404, 9276: 24405, 9277: 24406, 9275: 24407, 9278: 24408, 9279: 24409, 9280: 24410, 9281: 24411, 9282: 24412, 9283: 24413, 9284: 24414, 9285: 24415, 9286: 24416, 9287: 24417, 9288: 24418, 9289: 24419, 9290: 24420, 9291: 24421, 9292: 24422, 9293: 24423, 9294: 24424, 9295: 24425, 9296: 24426, 9297: 24427, 9298: 24428, 9299: 24429, 9300: 24430, 9301: 24431, 9302: 24432, 9303: 24433, 9304: 24434, 9305: 24435, 9306: 24436, 9307: 24437, 9308: 24438, 9309: 24439, 9310: 24440, 9311: 24441, 9312: 24442, 9313: 24443, 9314: 24444, 9315: 24445, 9316: 24446, 9317: 24447, 9318: 24448, 9319: 24449, 9320: 24450, 9321: 24451, 9322: 24452, 9323: 24453, 9324: 24454, 9325: 24455, 9326: 24456, 9327: 24457, 9328: 24458, 9329: 24459, 9330: 24460, 9331: 24461, 9332: 24462, 9333: 24463, 9334: 24464, 9335: 24465, 9336: 24466, 9337: 24467, 9338: 24468, 9339: 24469, 9340: 24470, 9341: 24471, 9342: 24472, 9343: 24473, 9344: 24474, 9345: 24475, 9346: 24476, 9348: 24477, 9349: 24478, 9347: 24479, 9350: 24480, 9351: 24481, 9352: 24482, 9353: 24483, 9354: 24484, 9355: 24485, 9356: 24486, 9357: 24487, 9358: 24488, 9359: 24489, 9360: 24490, 9361: 24491, 9362: 24492, 9363: 24493, 9364: 24494, 9365: 24495, 9366: 24496, 9367: 24497, 9368: 24498, 9369: 24499, 9370: 24500, 9371: 24501, 9372: 24502, 9373: 24503, 9374: 24504, 9375: 24505, 9376: 24506, 9377: 24507, 9378: 24508, 9379: 24509, 9380: 24510, 9381: 24511, 9382: 24512, 9383: 24513, 9385: 24514, 9386: 24515, 9387: 24516, 9388: 24517, 9384: 24518, 9389: 24519, 9390: 24520, 9391: 24521, 9392: 24522, 9393: 24523, 9394: 24524, 9395: 24525, 9396: 24526, 9397: 24527, 9398: 24528, 9399: 24529, 9400: 24530, 9401: 24531, 9402: 24532, 9403: 24533, 9404: 24534, 9405: 24535, 9406: 24536, 9407: 24537, 9408: 24538, 9409: 24539, 9410: 24540, 9411: 24541, 9412: 24542, 9413: 24543, 9414: 24544, 9415: 24545, 9416: 24546, 9417: 24547, 9418: 24548, 9419: 24549, 9420: 24550, 9421: 24551, 9422: 24552, 9423: 24553, 9424: 24554, 9425: 24555, 9426: 24556, 9427: 24557, 9428: 24558, 9429: 24559, 9430: 24560, 9431: 24561, 9432: 24562, 9433: 24563, 9434: 24564, 9435: 24565, 9436: 24566, 9437: 24567, 9438: 24568, 9439: 24569, 9440: 24570, 9441: 24571, 9442: 24572, 9443: 24573, 9444: 24574, 9445: 24575, 9446: 24576, 9447: 24577, 9448: 24578, 9449: 24579, 9450: 24580, 9451: 24581, 9452: 24582, 9453: 24583, 9454: 24584, 9455: 24585, 9456: 24586, 9457: 24587, 9458: 24588, 9459: 24589, 9460: 24590, 9461: 24591, 9462: 24592, 9463: 24593, 9464: 24594, 9465: 24595, 9466: 24596, 9467: 24597, 9468: 24598, 9469: 24599, 9470: 24600, 9471: 24601, 9472: 24602, 9473: 24603, 9474: 24604, 9475: 24605, 9476: 24606, 9477: 24607, 9478: 24608, 9479: 24609, 9480: 24610, 9481: 24611, 9482: 24612, 9483: 24613, 9484: 24614, 9486: 24615, 9487: 24616, 9488: 24617, 9489: 24618, 9490: 24619, 9491: 24620, 9492: 24621, 9493: 24622, 9494: 24623, 9495: 24624, 9496: 24625, 9497: 24626, 9498: 24627, 9499: 24628, 9500: 24629, 9501: 24630, 9502: 24631, 9503: 24632, 9504: 24633, 9505: 24634, 9506: 24635, 9507: 24636, 9508: 24637, 9509: 24638, 9510: 24639, 9511: 24640, 9512: 24641, 9513: 24642, 9514: 24643, 9515: 24644, 9516: 24645, 9517: 24646, 9518: 24647, 9519: 24648, 9520: 24649, 9521: 24650, 9522: 24651, 9523: 24652, 9524: 24653, 9525: 24654, 9526: 24655, 9527: 24656, 9528: 24657, 9529: 24658, 9530: 24659, 9531: 24660, 9532: 24661, 9533: 24662, 9534: 24663, 9535: 24664, 9536: 24665, 9537: 24666, 9538: 24667, 9539: 24668, 9540: 24669, 9541: 24670, 9542: 24671, 9543: 24672, 9544: 24673, 9545: 24674, 9546: 24675, 9547: 24676, 9548: 24677, 9549: 24678, 9550: 24679, 9551: 24680, 9552: 24681, 9553: 24682, 9554: 24683, 9555: 24684, 9153: 24685, 9556: 24686, 9557: 24687, 9558: 24688, 9559: 24689, 9560: 24690, 9561: 24691, 9562: 24692, 9563: 24693, 9564: 24694, 9565: 24695, 9566: 24696, 9567: 24697, 9568: 24698, 9569: 24699, 9570: 24700, 9485: 24701, 9571: 24702, 9572: 24703, 9573: 24704, 9574: 24705, 9575: 24706, 9576: 24707, 9577: 24708, 9578: 24709, 9579: 24710, 9580: 24711, 9581: 24712, 9582: 24713, 9583: 24714, 9584: 24715, 9585: 24716, 9586: 24717, 9587: 24718, 9588: 24719, 9589: 24720, 9590: 24721, 9591: 24722, 9592: 24723, 9593: 24724, 9594: 24725, 9595: 24726, 9596: 24727, 9597: 24728, 9598: 24729, 9599: 24730, 9600: 24731, 9601: 24732, 9602: 24733, 9603: 24734, 9604: 24735, 9605: 24736, 9606: 24737, 9607: 24738, 9608: 24739, 9609: 24740, 9610: 24741, 9611: 24742, 9612: 24743, 9613: 24744, 9614: 24745, 9615: 24746, 9616: 24747, 9617: 24748, 9618: 24749, 9619: 24750, 9620: 24751, 9621: 24752, 9622: 24753, 9623: 24754, 9624: 24755, 9625: 24756, 9626: 24757, 9627: 24758, 9628: 24759, 9629: 24760, 9630: 24761, 9631: 24762, 9632: 24763, 9633: 24764, 9634: 24765, 9635: 24766, 9636: 24767, 9637: 24768, 9638: 24769, 9639: 24770, 9643: 24771, 9641: 24772, 9644: 24773, 9645: 24774, 9646: 24775, 9647: 24776, 9648: 24777, 9649: 24778, 9652: 24779, 9653: 24780, 9650: 24781, 9654: 24782, 9655: 24783, 9656: 24784, 9657: 24785, 9658: 24786, 9659: 24787, 9660: 24788, 9661: 24789, 9662: 24790, 9663: 24791, 9664: 24792, 9665: 24793, 9666: 24794, 9667: 24795, 9668: 24796, 9669: 24797, 9670: 24798, 9671: 24799, 9672: 24800, 9673: 24801, 9674: 24802, 9675: 24803, 9676: 24804, 9677: 24805, 9678: 24806, 9679: 24807, 9680: 24808, 9681: 24809, 9682: 24810, 9683: 24811, 9684: 24812, 9685: 24813, 9686: 24814, 9687: 24815, 9688: 24816, 9689: 24817, 9690: 24818, 9691: 24819, 9692: 24820, 9693: 24821, 9694: 24822, 9695: 24823, 9696: 24824, 9697: 24825, 9698: 24826, 9699: 24827, 9700: 24828, 9701: 24829, 9702: 24830, 9703: 24831, 9704: 24832, 9705: 24833, 9706: 24834, 9707: 24835, 9708: 24836, 9709: 24837, 9710: 24838, 9711: 24839, 9712: 24840, 9713: 24841, 9714: 24842, 9715: 24843, 9716: 24844, 9717: 24845, 9718: 24846, 9719: 24847, 9720: 24848, 9721: 24849, 9722: 24850, 9723: 24851, 9724: 24852, 9725: 24853, 9726: 24854, 9727: 24855, 9728: 24856, 9729: 24857, 9730: 24858, 9731: 24859, 9732: 24860, 9733: 24861, 9734: 24862, 9735: 24863, 9736: 24864, 9737: 24865, 9738: 24866, 9739: 24867, 9740: 24868, 9741: 24869, 9742: 24870, 9743: 24871, 9744: 24872, 9745: 24873, 9746: 24874, 9747: 24875, 9748: 24876, 9749: 24877, 9750: 24878, 9751: 24879, 9752: 24880, 9753: 24881, 9754: 24882, 9755: 24883, 9756: 24884, 9757: 24885, 9758: 24886, 9759: 24887, 9760: 24888, 9761: 24889, 9762: 24890, 9764: 24891, 9765: 24892, 9766: 24893, 9767: 24894, 9768: 24895, 9763: 24896, 9769: 24897, 9770: 24898, 9771: 24899, 9772: 24900, 9773: 24901, 9774: 24902, 9775: 24903, 9776: 24904, 9777: 24905, 9778: 24906, 9779: 24907, 9780: 24908, 9781: 24909, 9782: 24910, 9783: 24911, 9784: 24912, 9786: 24913, 9787: 24914, 9789: 24915, 9790: 24916, 9640: 24917, 9791: 24918, 9792: 24919, 9793: 24920, 9794: 24921, 9795: 24922, 9796: 24923, 9797: 24924, 9798: 24925, 9799: 24926, 9800: 24927, 9801: 24928, 9802: 24929, 9803: 24930, 9804: 24931, 9805: 24932, 9806: 24933, 9807: 24934, 9808: 24935, 9809: 24936, 9810: 24937, 9811: 24938, 9812: 24939, 9813: 24940, 9814: 24941, 9815: 24942, 9816: 24943, 9817: 24944, 9818: 24945, 9819: 24946, 9820: 24947, 9821: 24948, 9822: 24949, 9823: 24950, 9824: 24951, 9825: 24952, 9826: 24953, 9827: 24954, 9828: 24955, 9829: 24956, 9830: 24957, 9831: 24958, 9832: 24959, 9833: 24960, 9834: 24961, 9835: 24962, 9836: 24963, 9837: 24964, 9838: 24965, 9839: 24966, 9840: 24967, 9841: 24968, 9842: 24969, 9843: 24970, 9844: 24971, 9845: 24972, 9846: 24973, 9847: 24974, 9848: 24975, 9849: 24976, 9850: 24977, 9851: 24978, 9852: 24979, 9853: 24980, 9854: 24981, 9855: 24982, 9856: 24983, 9857: 24984, 9858: 24985, 9859: 24986, 9860: 24987, 9861: 24988, 9862: 24989, 9863: 24990, 9864: 24991, 9865: 24992, 9866: 24993, 9867: 24994, 9868: 24995, 9869: 24996, 9870: 24997, 9871: 24998, 9872: 24999, 9873: 25000, 9874: 25001, 9875: 25002, 9876: 25003, 9877: 25004, 9878: 25005, 9879: 25006, 9880: 25007, 9881: 25008, 9882: 25009, 9883: 25010, 9884: 25011, 9885: 25012, 9886: 25013, 9887: 25014, 9888: 25015, 9889: 25016, 9890: 25017, 9891: 25018, 9892: 25019, 9893: 25020, 9894: 25021, 9895: 25022, 9896: 25023, 9897: 25024, 9898: 25025, 9899: 25026, 9900: 25027, 9901: 25028, 9902: 25029, 9903: 25030, 9904: 25031, 9905: 25032, 9906: 25033, 9907: 25034, 9908: 25035, 9909: 25036, 9910: 25037, 9911: 25038, 9912: 25039, 9913: 25040, 9914: 25041, 9915: 25042, 9916: 25043, 9642: 25044, 9917: 25045, 9918: 25046, 9919: 25047, 9920: 25048, 9921: 25049, 9922: 25050, 9923: 25051, 9924: 25052, 9925: 25053, 9926: 25054, 9927: 25055, 9928: 25056, 9929: 25057, 9930: 25058, 9931: 25059, 9932: 25060, 9933: 25061, 9934: 25062, 9935: 25063, 9936: 25064, 9937: 25065, 9938: 25066, 9939: 25067, 9940: 25068, 9941: 25069, 9942: 25070, 9943: 25071, 9944: 25072, 9945: 25073, 9946: 25074, 9947: 25075, 9948: 25076, 9949: 25077, 9950: 25078, 9951: 25079, 9952: 25080, 9953: 25081, 9954: 25082, 9955: 25083, 9956: 25084, 9957: 25085, 9958: 25086, 9959: 25087, 9960: 25088, 9961: 25089, 9962: 25090, 9963: 25091, 9964: 25092, 9965: 25093, 9966: 25094, 9967: 25095, 9968: 25096, 9969: 25097, 9970: 25098, 9971: 25099, 9972: 25100, 9973: 25101, 9974: 25102, 9975: 25103, 9976: 25104, 9977: 25105, 9978: 25106, 9979: 25107, 9980: 25108, 9981: 25109, 9982: 25110, 9984: 25111, 9985: 25112, 9986: 25113, 9987: 25114, 9988: 25115, 9989: 25116, 9991: 25117, 9992: 25118, 9994: 25119, 9995: 25120, 9997: 25121, 9999: 25122, 9651: 25123, 9788: 25124, 9983: 25125, 9990: 25126, 9993: 25127, 9996: 25128, 9998: 25129, 9785: 25130}}\n"
     ]
    }
   ],
   "source": [
    "print(f\"category feature들의 index : {cate2id_dict}\")"
   ]
  },
  {
   "cell_type": "code",
   "execution_count": 151,
   "metadata": {
    "colab": {
     "base_uri": "https://localhost:8080/"
    },
    "id": "887Gr3D1X28Q",
    "outputId": "c23e51a3-01ab-4485-f1a5-84e6adbd522a"
   },
   "outputs": [
    {
     "name": "stdout",
     "output_type": "stream",
     "text": [
      "train셋 sequence 데이터들의 indices : user_id\n",
      "115          [0, 1, 2, 3, 4, 5, 6, 7, 8, 9, 10, 11, 12, 13,...\n",
      "124          [46, 47, 48, 49, 50, 51, 52, 53, 54, 55, 56, 5...\n",
      "2746         [76, 77, 78, 79, 80, 81, 82, 83, 84, 85, 86, 8...\n",
      "5382         [96, 97, 98, 99, 100, 101, 102, 103, 104, 105,...\n",
      "8623         [224, 225, 226, 227, 228, 229, 230, 231, 232, ...\n",
      "                                   ...                        \n",
      "216740611    [9998450, 9998451, 9998452, 9998453, 9998454, ...\n",
      "216741934    [9998660, 9998661, 9998662, 9998663, 9998664, ...\n",
      "216743480    [9998764, 9998765, 9998766, 9998767, 9998768, ...\n",
      "216747710    [9998781, 9998782, 9998783, 9998784, 9998785, ...\n",
      "216747867    [9998958, 9998959, 9998960, 9998961, 9998962, ...\n",
      "Length: 39491, dtype: object\n",
      "\n",
      "train셋 각 sequence 데이터들의 첫 row의 index : user_id\n",
      "115                0\n",
      "124               46\n",
      "2746              76\n",
      "5382              96\n",
      "8623             224\n",
      "              ...   \n",
      "216740611    9998450\n",
      "216741934    9998660\n",
      "216743480    9998764\n",
      "216747710    9998781\n",
      "216747867    9998958\n",
      "Length: 39491, dtype: int64\n"
     ]
    }
   ],
   "source": [
    "print(f\"train셋 sequence 데이터들의 indices : {question_row_ids_by_user_id}\\n\")\n",
    "print(f\"train셋 각 sequence 데이터들의 첫 row의 index : {start_row_id_by_user_id}\")"
   ]
  },
  {
   "cell_type": "code",
   "execution_count": 152,
   "metadata": {
    "id": "VSVC72QHZqRV"
   },
   "outputs": [],
   "source": [
    "args.total_cate_size = offset\n",
    "args.cate_cols = cate_cols\n",
    "args.cont_cols = cont_cols\n",
    "args.start_row_id_by_user_id = start_row_id_by_user_id"
   ]
  },
  {
   "cell_type": "markdown",
   "metadata": {
    "id": "SSbB-cNvg-Ug"
   },
   "source": [
    "### 📗 데이터셋 및 데이터 로더 (Dataset and DataLoader)\n",
    "> 전처리에서 생성한 데이터들을 토대로 훈련에 바로 사용할 수 있는 데이터셋을 만들자. 우리는 여기서 범주형, 수치형 데이터로 나눠 출력한다! 아래를 살펴보면서 이렇게 출력된 데이터를 어떻게 embedding할 수 있을지 잠시 고민해보자!"
   ]
  },
  {
   "cell_type": "code",
   "execution_count": 153,
   "metadata": {
    "colab": {
     "base_uri": "https://localhost:8080/"
    },
    "id": "ffw4OIIga0s-",
    "outputId": "b645634c-c674-430d-c195-0b444f4e8001"
   },
   "outputs": [
    {
     "data": {
      "text/plain": [
       "[(115, 0),\n",
       " (115, 1),\n",
       " (115, 2),\n",
       " (115, 3),\n",
       " (115, 4),\n",
       " (115, 5),\n",
       " (115, 6),\n",
       " (115, 7),\n",
       " (115, 8),\n",
       " (115, 9)]"
      ]
     },
     "execution_count": 153,
     "metadata": {},
     "output_type": "execute_result"
    }
   ],
   "source": [
    "train_user_id_row_id_list = [(user_id, row_id)\n",
    "                             for user_id, row_ids in question_row_ids_by_user_id.items()\n",
    "                             for row_id in row_ids]\n",
    "train_user_id_row_id_list[:10]"
   ]
  },
  {
   "cell_type": "code",
   "execution_count": 154,
   "metadata": {
    "colab": {
     "base_uri": "https://localhost:8080/",
     "height": 419
    },
    "id": "UWjwyRlCsTIH",
    "outputId": "b5a22032-d65d-485c-dc01-ee63b6ef8050"
   },
   "outputs": [
    {
     "data": {
      "text/html": [
       "<div>\n",
       "<style scoped>\n",
       "    .dataframe tbody tr th:only-of-type {\n",
       "        vertical-align: middle;\n",
       "    }\n",
       "\n",
       "    .dataframe tbody tr th {\n",
       "        vertical-align: top;\n",
       "    }\n",
       "\n",
       "    .dataframe thead th {\n",
       "        text-align: right;\n",
       "    }\n",
       "</style>\n",
       "<table border=\"1\" class=\"dataframe\">\n",
       "  <thead>\n",
       "    <tr style=\"text-align: right;\">\n",
       "      <th></th>\n",
       "      <th>content_id</th>\n",
       "      <th>task_container_id</th>\n",
       "      <th>tags</th>\n",
       "      <th>type_of</th>\n",
       "      <th>part</th>\n",
       "    </tr>\n",
       "  </thead>\n",
       "  <tbody>\n",
       "    <tr>\n",
       "      <th>0</th>\n",
       "      <td>7300</td>\n",
       "      <td>15131</td>\n",
       "      <td>1072</td>\n",
       "      <td>0</td>\n",
       "      <td>5</td>\n",
       "    </tr>\n",
       "    <tr>\n",
       "      <th>1</th>\n",
       "      <td>7324</td>\n",
       "      <td>15132</td>\n",
       "      <td>1054</td>\n",
       "      <td>0</td>\n",
       "      <td>5</td>\n",
       "    </tr>\n",
       "    <tr>\n",
       "      <th>2</th>\n",
       "      <td>1736</td>\n",
       "      <td>15133</td>\n",
       "      <td>92</td>\n",
       "      <td>0</td>\n",
       "      <td>6</td>\n",
       "    </tr>\n",
       "    <tr>\n",
       "      <th>3</th>\n",
       "      <td>9468</td>\n",
       "      <td>15134</td>\n",
       "      <td>77</td>\n",
       "      <td>0</td>\n",
       "      <td>6</td>\n",
       "    </tr>\n",
       "    <tr>\n",
       "      <th>4</th>\n",
       "      <td>9530</td>\n",
       "      <td>15135</td>\n",
       "      <td>92</td>\n",
       "      <td>0</td>\n",
       "      <td>6</td>\n",
       "    </tr>\n",
       "    <tr>\n",
       "      <th>...</th>\n",
       "      <td>...</td>\n",
       "      <td>...</td>\n",
       "      <td>...</td>\n",
       "      <td>...</td>\n",
       "      <td>...</td>\n",
       "    </tr>\n",
       "    <tr>\n",
       "      <th>9804600</th>\n",
       "      <td>7316</td>\n",
       "      <td>15537</td>\n",
       "      <td>1075</td>\n",
       "      <td>0</td>\n",
       "      <td>5</td>\n",
       "    </tr>\n",
       "    <tr>\n",
       "      <th>9804601</th>\n",
       "      <td>7042</td>\n",
       "      <td>15538</td>\n",
       "      <td>1033</td>\n",
       "      <td>0</td>\n",
       "      <td>5</td>\n",
       "    </tr>\n",
       "    <tr>\n",
       "      <th>9804602</th>\n",
       "      <td>8037</td>\n",
       "      <td>15539</td>\n",
       "      <td>1063</td>\n",
       "      <td>0</td>\n",
       "      <td>5</td>\n",
       "    </tr>\n",
       "    <tr>\n",
       "      <th>9804603</th>\n",
       "      <td>10618</td>\n",
       "      <td>15540</td>\n",
       "      <td>1056</td>\n",
       "      <td>0</td>\n",
       "      <td>5</td>\n",
       "    </tr>\n",
       "    <tr>\n",
       "      <th>9804604</th>\n",
       "      <td>7446</td>\n",
       "      <td>15541</td>\n",
       "      <td>1038</td>\n",
       "      <td>0</td>\n",
       "      <td>5</td>\n",
       "    </tr>\n",
       "  </tbody>\n",
       "</table>\n",
       "<p>9804605 rows × 5 columns</p>\n",
       "</div>"
      ],
      "text/plain": [
       "         content_id  task_container_id  tags  type_of  part\n",
       "0              7300              15131  1072        0     5\n",
       "1              7324              15132  1054        0     5\n",
       "2              1736              15133    92        0     6\n",
       "3              9468              15134    77        0     6\n",
       "4              9530              15135    92        0     6\n",
       "...             ...                ...   ...      ...   ...\n",
       "9804600        7316              15537  1075        0     5\n",
       "9804601        7042              15538  1033        0     5\n",
       "9804602        8037              15539  1063        0     5\n",
       "9804603       10618              15540  1056        0     5\n",
       "9804604        7446              15541  1038        0     5\n",
       "\n",
       "[9804605 rows x 5 columns]"
      ]
     },
     "execution_count": 154,
     "metadata": {},
     "output_type": "execute_result"
    }
   ],
   "source": [
    "train_df[cate_cols]"
   ]
  },
  {
   "cell_type": "code",
   "execution_count": 155,
   "metadata": {
    "colab": {
     "base_uri": "https://localhost:8080/",
     "height": 439
    },
    "id": "i8EtoxbTr4fK",
    "outputId": "7b5375d6-3e1d-49e1-d73d-4d6546ba73bc"
   },
   "outputs": [
    {
     "data": {
      "text/html": [
       "<div>\n",
       "<style scoped>\n",
       "    .dataframe tbody tr th:only-of-type {\n",
       "        vertical-align: middle;\n",
       "    }\n",
       "\n",
       "    .dataframe tbody tr th {\n",
       "        vertical-align: top;\n",
       "    }\n",
       "\n",
       "    .dataframe thead th {\n",
       "        text-align: right;\n",
       "    }\n",
       "</style>\n",
       "<table border=\"1\" class=\"dataframe\">\n",
       "  <thead>\n",
       "    <tr style=\"text-align: right;\">\n",
       "      <th></th>\n",
       "      <th>timestamp</th>\n",
       "      <th>prior_question_elapsed_time</th>\n",
       "      <th>prior_question_had_explanation</th>\n",
       "      <th>lag_time</th>\n",
       "      <th>answered_correctly</th>\n",
       "    </tr>\n",
       "  </thead>\n",
       "  <tbody>\n",
       "    <tr>\n",
       "      <th>0</th>\n",
       "      <td>0.000000</td>\n",
       "      <td>0.000000</td>\n",
       "      <td>0.0</td>\n",
       "      <td>0.000000</td>\n",
       "      <td>1.0</td>\n",
       "    </tr>\n",
       "    <tr>\n",
       "      <th>1</th>\n",
       "      <td>4.043051</td>\n",
       "      <td>3.637586</td>\n",
       "      <td>0.0</td>\n",
       "      <td>4.043051</td>\n",
       "      <td>1.0</td>\n",
       "    </tr>\n",
       "    <tr>\n",
       "      <th>2</th>\n",
       "      <td>4.779123</td>\n",
       "      <td>4.025352</td>\n",
       "      <td>0.0</td>\n",
       "      <td>4.143135</td>\n",
       "      <td>1.0</td>\n",
       "    </tr>\n",
       "    <tr>\n",
       "      <th>3</th>\n",
       "      <td>4.882802</td>\n",
       "      <td>2.995732</td>\n",
       "      <td>0.0</td>\n",
       "      <td>2.639057</td>\n",
       "      <td>1.0</td>\n",
       "    </tr>\n",
       "    <tr>\n",
       "      <th>4</th>\n",
       "      <td>4.927254</td>\n",
       "      <td>2.484907</td>\n",
       "      <td>0.0</td>\n",
       "      <td>1.945910</td>\n",
       "      <td>1.0</td>\n",
       "    </tr>\n",
       "    <tr>\n",
       "      <th>...</th>\n",
       "      <td>...</td>\n",
       "      <td>...</td>\n",
       "      <td>...</td>\n",
       "      <td>...</td>\n",
       "      <td>...</td>\n",
       "    </tr>\n",
       "    <tr>\n",
       "      <th>9804600</th>\n",
       "      <td>13.379053</td>\n",
       "      <td>2.639057</td>\n",
       "      <td>1.0</td>\n",
       "      <td>4.543295</td>\n",
       "      <td>0.0</td>\n",
       "    </tr>\n",
       "    <tr>\n",
       "      <th>9804601</th>\n",
       "      <td>13.379165</td>\n",
       "      <td>4.204693</td>\n",
       "      <td>1.0</td>\n",
       "      <td>4.290460</td>\n",
       "      <td>0.0</td>\n",
       "    </tr>\n",
       "    <tr>\n",
       "      <th>9804602</th>\n",
       "      <td>13.379245</td>\n",
       "      <td>3.637586</td>\n",
       "      <td>1.0</td>\n",
       "      <td>3.970292</td>\n",
       "      <td>1.0</td>\n",
       "    </tr>\n",
       "    <tr>\n",
       "      <th>9804603</th>\n",
       "      <td>13.444775</td>\n",
       "      <td>2.833213</td>\n",
       "      <td>1.0</td>\n",
       "      <td>10.686955</td>\n",
       "      <td>1.0</td>\n",
       "    </tr>\n",
       "    <tr>\n",
       "      <th>9804604</th>\n",
       "      <td>13.444898</td>\n",
       "      <td>2.484907</td>\n",
       "      <td>1.0</td>\n",
       "      <td>4.454347</td>\n",
       "      <td>0.0</td>\n",
       "    </tr>\n",
       "  </tbody>\n",
       "</table>\n",
       "<p>9804605 rows × 5 columns</p>\n",
       "</div>"
      ],
      "text/plain": [
       "         timestamp  prior_question_elapsed_time  \\\n",
       "0         0.000000                     0.000000   \n",
       "1         4.043051                     3.637586   \n",
       "2         4.779123                     4.025352   \n",
       "3         4.882802                     2.995732   \n",
       "4         4.927254                     2.484907   \n",
       "...            ...                          ...   \n",
       "9804600  13.379053                     2.639057   \n",
       "9804601  13.379165                     4.204693   \n",
       "9804602  13.379245                     3.637586   \n",
       "9804603  13.444775                     2.833213   \n",
       "9804604  13.444898                     2.484907   \n",
       "\n",
       "         prior_question_had_explanation   lag_time  answered_correctly  \n",
       "0                                   0.0   0.000000                 1.0  \n",
       "1                                   0.0   4.043051                 1.0  \n",
       "2                                   0.0   4.143135                 1.0  \n",
       "3                                   0.0   2.639057                 1.0  \n",
       "4                                   0.0   1.945910                 1.0  \n",
       "...                                 ...        ...                 ...  \n",
       "9804600                             1.0   4.543295                 0.0  \n",
       "9804601                             1.0   4.290460                 0.0  \n",
       "9804602                             1.0   3.970292                 1.0  \n",
       "9804603                             1.0  10.686955                 1.0  \n",
       "9804604                             1.0   4.454347                 0.0  \n",
       "\n",
       "[9804605 rows x 5 columns]"
      ]
     },
     "execution_count": 155,
     "metadata": {},
     "output_type": "execute_result"
    }
   ],
   "source": [
    "train_df[cont_cols]"
   ]
  },
  {
   "cell_type": "code",
   "execution_count": 156,
   "metadata": {
    "id": "0f0Nmw5I3nG6"
   },
   "outputs": [],
   "source": [
    "class Preprocess:\n",
    "    def __init__(self,args):\n",
    "        self.args = args\n",
    "        self.train_data = None\n",
    "        self.test_data = None\n",
    "        \n",
    "    def get_train_data(self):\n",
    "        return self.train_data\n",
    "\n",
    "    def get_test_data(self):\n",
    "        return self.test_data\n",
    "\n",
    "    def split_data(self, data, ratio=0.7, shuffle=True, seed=0):\n",
    "        \"\"\"\n",
    "        split data into two parts with a given ratio.\n",
    "        \"\"\"\n",
    "        if shuffle:\n",
    "            random.seed(seed) # fix to default seed 0\n",
    "            random.shuffle(data)\n",
    "\n",
    "        size = int(len(data) * ratio)\n",
    "        data_1 = data[:size]\n",
    "        data_2 = data[size:]\n",
    "\n",
    "        return data_1, data_2\n",
    "\n",
    "    def __feature_engineering(self, df):\n",
    "        #TODO\n",
    "        return df\n",
    "\n",
    "    def load_data_from_file(self, df, is_train=True):\n",
    "        df = self.__feature_engineering(df)\n",
    "        \n",
    "        # 추후 feature를 embedding할 시에 embedding_layer의 input 크기를 결정할때 사용\n",
    "        self.args.n_questions = len(np.load(os.path.join(self.args.asset_dir,'qu_content2id_classes.npy')))\n",
    "        self.args.n_test = len(np.load(os.path.join(self.args.asset_dir,'task_2id_classes.npy')))\n",
    "        self.args.n_tag = len(np.load(os.path.join(self.args.asset_dir,'tags2id_classes.npy')))\n",
    "\n",
    "        # df = df.sort_values(by=['userID','Timestamp'], axis=0)\n",
    "        columns = ['user_id', 'task_container_id', 'content_id', 'answered_correctly', 'tags']\n",
    "        group = df[columns].groupby(['user_id']).apply(\n",
    "                lambda r: (\n",
    "                    r['task_container_id'].values,\n",
    "                    r['content_id'].values, \n",
    "                    r['answered_correctly'].values,\n",
    "                    r['tags'].values\n",
    "                )\n",
    "            )\n",
    "\n",
    "        return group.values\n",
    "\n",
    "    def load_train_data(self, df):\n",
    "        self.train_data = self.load_data_from_file(df)\n",
    "\n",
    "    def load_test_data(self, file_name):\n",
    "        self.test_data = self.load_data_from_file(file_name, is_train= False)\n"
   ]
  },
  {
   "cell_type": "code",
   "execution_count": 157,
   "metadata": {
    "id": "7Sxmi1kt3zPD"
   },
   "outputs": [],
   "source": [
    "class DKTDataset(torch.utils.data.Dataset):\n",
    "    def __init__(self, data, args):\n",
    "        self.data = data\n",
    "        self.args = args\n",
    "\n",
    "    def __getitem__(self, index):\n",
    "        row = self.data[index]\n",
    "\n",
    "        seq_len = len(row[0])\n",
    "\n",
    "        test, content, correct, tag = row[0], row[1], row[2], row[3]\n",
    "\n",
    "        cate_cols = [test, content, correct, tag]\n",
    "\n",
    "        # max seq len을 고려하여서 이보다 길면 자르고 아닐 경우 그대로 냅둔다\n",
    "        if seq_len > self.args.max_seq_len:\n",
    "            for i, col in enumerate(cate_cols):\n",
    "                cate_cols[i] = col[-self.args.max_seq_len:]\n",
    "            mask = np.ones(self.args.max_seq_len, dtype=np.int16)\n",
    "        else:\n",
    "            mask = np.zeros(self.args.max_seq_len, dtype=np.int16)\n",
    "            mask[-seq_len:] = 1\n",
    "\n",
    "        # mask도 columns 목록에 포함시킴\n",
    "        cate_cols.append(mask)\n",
    "\n",
    "        # np.array -> torch.tensor 형변환\n",
    "        for i, col in enumerate(cate_cols):\n",
    "            cate_cols[i] = torch.tensor(col)\n",
    "\n",
    "        return cate_cols\n",
    "\n",
    "    def __len__(self):\n",
    "        return len(self.data)\n",
    "\n",
    "\n",
    "def collate(batch):\n",
    "    col_n = len(batch[0])\n",
    "    col_list = [[] for _ in range(col_n)]\n",
    "    max_seq_len = len(batch[0][-1])\n",
    "\n",
    "        \n",
    "    # batch의 값들을 각 column끼리 그룹화\n",
    "    for row in batch:\n",
    "        for i, col in enumerate(row):\n",
    "            pre_padded = torch.zeros(max_seq_len)\n",
    "            pre_padded[-len(col):] = col\n",
    "            col_list[i].append(pre_padded)\n",
    "\n",
    "\n",
    "    for i, _ in enumerate(col_list):\n",
    "        col_list[i] =torch.stack(col_list[i])\n",
    "    \n",
    "    return tuple(col_list)\n",
    "\n",
    "\n",
    "def get_loaders(args, train, valid):\n",
    "\n",
    "    pin_memory = True\n",
    "    train_loader, valid_loader = None, None\n",
    "    \n",
    "    if train is not None:\n",
    "        trainset = DKTDataset(train, args)\n",
    "        train_loader = torch.utils.data.DataLoader(trainset, num_workers=args.num_workers, shuffle=True,\n",
    "                            batch_size=args.batch_size, pin_memory=pin_memory, collate_fn=collate)\n",
    "    if valid is not None:\n",
    "        valset = DKTDataset(valid, args)\n",
    "        valid_loader = torch.utils.data.DataLoader(valset, num_workers=args.num_workers, shuffle=False,\n",
    "                            batch_size=args.batch_size, pin_memory=pin_memory, collate_fn=collate)\n",
    "\n",
    "    return train_loader, valid_loader"
   ]
  },
  {
   "cell_type": "code",
   "execution_count": 158,
   "metadata": {
    "id": "1ET66goXYLPB"
   },
   "outputs": [],
   "source": [
    "def setSeeds(seed = 42):\n",
    "    # 랜덤 시드를 설정하여 매 코드를 실행할 때마다 동일한 결과를 얻게 합니다.\n",
    "    os.environ['PYTHONHASHSEED'] = str(seed)\n",
    "    random.seed(seed)\n",
    "    np.random.seed(seed)\n",
    "    torch.manual_seed(seed)    \n",
    "    torch.cuda.manual_seed(seed)\n",
    "    torch.backends.cudnn.deterministic = True"
   ]
  },
  {
   "cell_type": "code",
   "execution_count": 159,
   "metadata": {
    "colab": {
     "base_uri": "https://localhost:8080/"
    },
    "id": "xjQljRt9Xl2W",
    "outputId": "013f116c-3774-411a-b070-16e628abd66c"
   },
   "outputs": [
    {
     "name": "stdout",
     "output_type": "stream",
     "text": [
      "(27643,)\n",
      "(11848,)\n"
     ]
    }
   ],
   "source": [
    "setSeeds(42)\n",
    "\n",
    "preprocess = Preprocess(args)\n",
    "preprocess.load_train_data(train_df)\n",
    "\n",
    "train_data = preprocess.get_train_data()\n",
    "train_data, valid_data = preprocess.split_data(train_data)\n",
    "print(train_data.shape)\n",
    "print(valid_data.shape)"
   ]
  },
  {
   "cell_type": "markdown",
   "metadata": {
    "id": "CFNBuHHJqb6e"
   },
   "source": [
    "# 모델 정의 단계"
   ]
  },
  {
   "cell_type": "code",
   "execution_count": 160,
   "metadata": {
    "id": "ZZQwDUBjqelu"
   },
   "outputs": [],
   "source": [
    "class LSTM(nn.Module):\n",
    "\n",
    "    def __init__(self, args):\n",
    "        super(LSTM, self).__init__()\n",
    "        self.args = args\n",
    "        self.device = args.device\n",
    "\n",
    "        self.hidden_dim = self.args.hidden_dim\n",
    "        self.n_layers = self.args.n_layers\n",
    "\n",
    "        # Embedding \n",
    "        # interaction은 현재 correct로 구성되어있다. correct(1, 2) + padding(0)\n",
    "        self.embedding_interaction = nn.Embedding(3, self.hidden_dim//3)\n",
    "        self.embedding_test = nn.Embedding(self.args.n_test + 1, self.hidden_dim//3)\n",
    "        self.embedding_question = nn.Embedding(self.args.n_questions + 1, self.hidden_dim//3)\n",
    "        self.embedding_tag = nn.Embedding(self.args.n_tag + 1, self.hidden_dim//3)\n",
    "\n",
    "        # embedding combination projection\n",
    "        self.comb_proj = nn.Linear((self.hidden_dim//3)*4, self.hidden_dim)\n",
    "\n",
    "        self.lstm = nn.LSTM(self.hidden_dim,\n",
    "                            self.hidden_dim,\n",
    "                            self.n_layers,\n",
    "                            batch_first=True)\n",
    "        \n",
    "        # Fully connected layer\n",
    "        self.fc = nn.Linear(self.hidden_dim, 1)\n",
    "\n",
    "        self.activation = nn.Sigmoid()\n",
    "\n",
    "    def init_hidden(self, batch_size):\n",
    "        h = torch.zeros(\n",
    "            self.n_layers,\n",
    "            batch_size,\n",
    "            self.hidden_dim)\n",
    "        h = h.to(self.device)\n",
    "\n",
    "        c = torch.zeros(\n",
    "            self.n_layers,\n",
    "            batch_size,\n",
    "            self.hidden_dim)\n",
    "        c = c.to(self.device)\n",
    "\n",
    "        return (h, c)\n",
    "\n",
    "    def forward(self, input):\n",
    "\n",
    "        test, question, tag, _, mask, interaction, _ = input\n",
    "\n",
    "        batch_size = interaction.size(0)\n",
    "\n",
    "        # Embedding\n",
    "\n",
    "        embed_interaction = self.embedding_interaction(interaction)\n",
    "        embed_test = self.embedding_test(test)\n",
    "        embed_question = self.embedding_question(question)\n",
    "        embed_tag = self.embedding_tag(tag)\n",
    "        \n",
    "\n",
    "        embed = torch.cat([embed_interaction,\n",
    "                           embed_test,\n",
    "                           embed_question,\n",
    "                           embed_tag,], 2)\n",
    "\n",
    "        X = self.comb_proj(embed)\n",
    "\n",
    "        hidden = self.init_hidden(batch_size)\n",
    "        out, hidden = self.lstm(X, hidden)\n",
    "        out = out.contiguous().view(batch_size, -1, self.hidden_dim)\n",
    "\n",
    "        out = self.fc(out)\n",
    "        preds = self.activation(out).view(batch_size, -1)\n",
    "\n",
    "        return preds"
   ]
  },
  {
   "cell_type": "markdown",
   "metadata": {
    "id": "-xZNgy5dqa3C"
   },
   "source": [
    "# 학습을 담당하는 함수들"
   ]
  },
  {
   "cell_type": "code",
   "execution_count": 161,
   "metadata": {
    "id": "2_awWEKDqnc4"
   },
   "outputs": [],
   "source": [
    "import tarfile\n",
    "\n",
    "from torch.optim import Adam, AdamW\n",
    "from torch.optim.lr_scheduler import ReduceLROnPlateau\n",
    "\n",
    "from transformers import get_linear_schedule_with_warmup\n",
    "from transformers import get_cosine_schedule_with_warmup\n",
    "\n",
    "from sklearn.metrics import roc_auc_score\n",
    "from sklearn.metrics import accuracy_score\n",
    "import scipy.stats\n",
    "\n",
    "# 훈련을 하기 위한 세팅\n",
    "def get_optimizer(model, args):\n",
    "    if args.optimizer == 'adam':\n",
    "        optimizer = Adam(model.parameters(), lr=args.lr, weight_decay=0.01)\n",
    "    if args.optimizer == 'adamW':\n",
    "        optimizer = AdamW(model.parameters(), lr=args.lr, weight_decay=0.01)\n",
    "    \n",
    "    # 모든 parameter들의 grad값을 0으로 초기화\n",
    "    optimizer.zero_grad()\n",
    "    \n",
    "    return optimizer\n",
    "\n",
    "def get_scheduler(optimizer, args):\n",
    "    if args.scheduler == 'plateau':\n",
    "        scheduler = ReduceLROnPlateau(optimizer, patience=10, factor=0.5, mode='max', verbose=True)\n",
    "    elif args.scheduler == 'linear_warmup':\n",
    "        scheduler = get_linear_schedule_with_warmup(optimizer,\n",
    "                                                    num_warmup_steps=args.warmup_steps,\n",
    "                                                    num_training_steps=args.total_steps)\n",
    "    return scheduler\n",
    "\n",
    "def get_criterion(pred, target):\n",
    "    loss = nn.BCELoss(reduction=\"none\")\n",
    "    return loss(pred, target)\n",
    "\n",
    "def get_metric(targets, preds):\n",
    "    auc = roc_auc_score(targets, preds)\n",
    "    acc = accuracy_score(targets, np.where(preds >= 0.5, 1, 0))\n",
    "\n",
    "    return auc, acc\n",
    "\n",
    "def get_model(args):\n",
    "    \"\"\"\n",
    "    Load model and move tensors to a given devices.\n",
    "    \"\"\"\n",
    "    if args.model == 'lstm': model = LSTM(args)\n",
    "    \n",
    "\n",
    "    model.to(args.device)\n",
    "\n",
    "    return model\n",
    "\n",
    "# 배치 전처리\n",
    "def process_batch(batch, args):\n",
    "    # question, correct, tag, mask\n",
    "    test, question, correct, tag, mask = batch\n",
    "    \n",
    "    \n",
    "    # change to float\n",
    "    mask = mask.type(torch.FloatTensor)\n",
    "    correct = correct.type(torch.FloatTensor)\n",
    "\n",
    "    interaction = correct + 1 \n",
    "    interaction = interaction.roll(shifts=1, dims=1)\n",
    "    interaction[:, 0] = 0 \n",
    "    interaction = (interaction * mask).to(torch.int64)\n",
    "\n",
    "    test = ((test + 1) * mask).to(torch.int64)\n",
    "    question = ((question + 1) * mask).to(torch.int64)\n",
    "    tag = ((tag + 1) * mask).to(torch.int64)\n",
    "\n",
    "    # gather index\n",
    "    # 마지막 sequence만 사용하기 위한 index\n",
    "    gather_index = torch.tensor(np.count_nonzero(mask, axis=1))\n",
    "    gather_index = gather_index.view(-1, 1) - 1\n",
    "\n",
    "\n",
    "    # device memory로 이동\n",
    "    test = test.to(args.device)\n",
    "    question = question.to(args.device)\n",
    "\n",
    "    tag = tag.to(args.device)\n",
    "    correct = correct.to(args.device)\n",
    "    mask = mask.to(args.device)\n",
    "\n",
    "    interaction = interaction.to(args.device)\n",
    "    gather_index = gather_index.to(args.device)\n",
    "\n",
    "    return (test, question,\n",
    "            tag, correct, mask,\n",
    "            interaction, gather_index)\n",
    "\n",
    "\n",
    "# loss계산하고 parameter update!\n",
    "def compute_loss(preds, targets):\n",
    "    \"\"\"\n",
    "    Args :\n",
    "        preds   : (batch_size, max_seq_len)\n",
    "        targets : (batch_size, max_seq_len)\n",
    "\n",
    "    \"\"\"\n",
    "    loss = get_criterion(preds, targets)\n",
    "    #마지막 시퀀드에 대한 값만 loss 계산\n",
    "    loss = loss[:,-1]\n",
    "    loss = torch.mean(loss)\n",
    "    return loss\n",
    "\n",
    "def update_params(loss, model, optimizer, args):\n",
    "    loss.backward()\n",
    "    torch.nn.utils.clip_grad_norm_(model.parameters(), args.clip_grad)\n",
    "    optimizer.step()\n",
    "    optimizer.zero_grad()\n",
    "\n",
    "\n",
    "def save_checkpoint(state, model_dir, model_filename):\n",
    "    print('saving model ...')\n",
    "    if not os.path.exists(model_dir):\n",
    "        os.makedirs(model_dir)    \n",
    "    torch.save(state, os.path.join(model_dir, model_filename))\n",
    "\n",
    "\n",
    "def load_model(args):\n",
    "    \n",
    "    model_path = os.path.join(args.model_dir, args.model_name)\n",
    "    print(\"Loading Model from:\", model_path)\n",
    "    load_state = torch.load(model_path)\n",
    "    model = get_model(args)\n",
    "\n",
    "    # 1. load model state\n",
    "    model.load_state_dict(load_state['state_dict'], strict=True)\n",
    "   \n",
    "    \n",
    "    print(\"Loading Model from:\", model_path, \"...Finished.\")\n",
    "    return model"
   ]
  },
  {
   "cell_type": "markdown",
   "metadata": {
    "id": "X75txhmBq33d"
   },
   "source": [
    "# 전체 프로세스를 담당하는 함수들"
   ]
  },
  {
   "cell_type": "code",
   "execution_count": 162,
   "metadata": {
    "id": "yCAMirfBq7Tq"
   },
   "outputs": [],
   "source": [
    "def run(args, train_data, valid_data):\n",
    "    train_loader, valid_loader = get_loaders(args, train_data, valid_data)\n",
    "    \n",
    "    # only when using warmup scheduler\n",
    "    args.total_steps = int(len(train_loader.dataset) / args.batch_size) * (args.n_epochs)\n",
    "    args.warmup_steps = args.total_steps // 10\n",
    "            \n",
    "    model = get_model(args)\n",
    "    optimizer = get_optimizer(model, args)\n",
    "    scheduler = get_scheduler(optimizer, args)\n",
    "\n",
    "    best_auc = -1\n",
    "    early_stopping_counter = 0\n",
    "    for epoch in range(args.n_epochs):\n",
    "\n",
    "        print(f\"Start Training: Epoch {epoch + 1}\")\n",
    "        \n",
    "        ### TRAIN\n",
    "        train_auc, train_acc, train_loss = train(train_loader, model, optimizer, args)\n",
    "        \n",
    "        ### VALID\n",
    "        auc, acc, _, _ = validate(valid_loader, model, args)\n",
    "\n",
    "        ### TODO: model save or early stopping\n",
    "        wandb.log({\"epoch\": epoch, \"train_loss\": train_loss, \"train_auc\": train_auc, \"train_acc\":train_acc,\n",
    "                  \"valid_auc\":auc, \"valid_acc\":acc})\n",
    "        if auc > best_auc:\n",
    "            best_auc = auc\n",
    "            # torch.nn.DataParallel로 감싸진 경우 원래의 model을 가져옵니다.\n",
    "            model_to_save = model.module if hasattr(model, 'module') else model\n",
    "            save_checkpoint({\n",
    "                'epoch': epoch + 1,\n",
    "                'state_dict': model_to_save.state_dict(),\n",
    "                },\n",
    "                args.model_dir, 'model.pt',\n",
    "            )\n",
    "            early_stopping_counter = 0\n",
    "        else:\n",
    "            early_stopping_counter += 1\n",
    "            if early_stopping_counter >= args.patience:\n",
    "                print(f'EarlyStopping counter: {early_stopping_counter} out of {args.patience}')\n",
    "                break\n",
    "\n",
    "        # scheduler\n",
    "        if args.scheduler == 'plateau':\n",
    "            scheduler.step(best_auc)\n",
    "        else:\n",
    "            scheduler.step()\n",
    "\n",
    "\n",
    "def train(train_loader, model, optimizer, args):\n",
    "    model.train()\n",
    "\n",
    "    total_preds = []\n",
    "    total_targets = []\n",
    "    losses = []\n",
    "    for step, batch in enumerate(train_loader):\n",
    "        input = process_batch(batch, args)\n",
    "        preds = model(input)\n",
    "        targets = input[3] # correct\n",
    "\n",
    "\n",
    "        loss = compute_loss(preds, targets)\n",
    "        update_params(loss, model, optimizer, args)\n",
    "\n",
    "        if step % args.log_steps == 0:\n",
    "            print(f\"Training steps: {step} Loss: {str(loss.item())}\")\n",
    "        \n",
    "        # predictions\n",
    "        preds = preds[:,-1]\n",
    "        targets = targets[:,-1]\n",
    "\n",
    "        if args.device == 'cuda':\n",
    "            preds = preds.to('cpu').detach().numpy()\n",
    "            targets = targets.to('cpu').detach().numpy()\n",
    "        else: # cpu\n",
    "            preds = preds.detach().numpy()\n",
    "            targets = targets.detach().numpy()\n",
    "        \n",
    "        total_preds.append(preds)\n",
    "        total_targets.append(targets)\n",
    "        losses.append(loss)\n",
    "      \n",
    "\n",
    "    total_preds = np.concatenate(total_preds)\n",
    "    total_targets = np.concatenate(total_targets)\n",
    "\n",
    "    # Train AUC / ACC\n",
    "    auc, acc = get_metric(total_targets, total_preds)\n",
    "    loss_avg = sum(losses)/len(losses)\n",
    "    print(f'TRAIN AUC : {auc} ACC : {acc}')\n",
    "    return auc, acc, loss_avg\n",
    "    \n",
    "\n",
    "def validate(valid_loader, model, args):\n",
    "    model.eval()\n",
    "\n",
    "    total_preds = []\n",
    "    total_targets = []\n",
    "    for step, batch in enumerate(valid_loader):\n",
    "        input = process_batch(batch, args)\n",
    "\n",
    "        preds = model(input)\n",
    "        targets = input[3] # correct\n",
    "\n",
    "\n",
    "        # predictions\n",
    "        preds = preds[:,-1]\n",
    "        targets = targets[:,-1]\n",
    "    \n",
    "        if args.device == 'cuda':\n",
    "            preds = preds.to('cpu').detach().numpy()\n",
    "            targets = targets.to('cpu').detach().numpy()\n",
    "        else: # cpu\n",
    "            preds = preds.detach().numpy()\n",
    "            targets = targets.detach().numpy()\n",
    "\n",
    "        total_preds.append(preds)\n",
    "        total_targets.append(targets)\n",
    "\n",
    "    total_preds = np.concatenate(total_preds)\n",
    "    total_targets = np.concatenate(total_targets)\n",
    "\n",
    "    # Train AUC / ACC\n",
    "    auc, acc = get_metric(total_targets, total_preds)\n",
    "    \n",
    "    print(f'VALID AUC : {auc} ACC : {acc}\\n')\n",
    "\n",
    "    return auc, acc, total_preds, total_targets\n",
    "\n",
    "\n",
    "\n",
    "def inference(args, test_data):\n",
    "    \n",
    "    model = load_model(args)\n",
    "    model.eval()\n",
    "    _, test_loader = get_loaders(args, None, test_data)\n",
    "    \n",
    "    \n",
    "    total_preds = []\n",
    "    \n",
    "    for step, batch in enumerate(test_loader):\n",
    "        input = process_batch(batch, args)\n",
    "\n",
    "        preds = model(input)\n",
    "        \n",
    "\n",
    "        # predictions\n",
    "        preds = preds[:,-1]\n",
    "        \n",
    "\n",
    "        if args.device == 'cuda':\n",
    "            preds = preds.to('cpu').detach().numpy()\n",
    "        else: # cpu\n",
    "            preds = preds.detach().numpy()\n",
    "            \n",
    "        total_preds+=list(preds)\n",
    "\n",
    "    write_path = os.path.join(args.output_dir, \"output.csv\")\n",
    "    if not os.path.exists(args.output_dir):\n",
    "        os.makedirs(args.output_dir)    \n",
    "    with open(write_path, 'w', encoding='utf8') as w:\n",
    "        print(\"writing prediction : {}\".format(write_path))\n",
    "        w.write(\"id,prediction\\n\")\n",
    "        for id, p in enumerate(total_preds):\n",
    "            w.write('{},{}\\n'.format(id,p))\n"
   ]
  },
  {
   "cell_type": "markdown",
   "metadata": {
    "id": "tXM5U6Bfq-zN"
   },
   "source": [
    "# 실행 부분"
   ]
  },
  {
   "cell_type": "code",
   "execution_count": 163,
   "metadata": {
    "colab": {
     "base_uri": "https://localhost:8080/",
     "height": 336
    },
    "id": "XsgGKvtArHfe",
    "outputId": "a72dd77a-51c8-4b70-caee-25c2c4bb2dea"
   },
   "outputs": [
    {
     "ename": "RuntimeError",
     "evalue": "CUDA error: device-side assert triggered",
     "output_type": "error",
     "traceback": [
      "\u001b[0;31m---------------------------------------------------------------------------\u001b[0m",
      "\u001b[0;31mRuntimeError\u001b[0m                              Traceback (most recent call last)",
      "\u001b[0;32m<ipython-input-163-3d179a1b5b11>\u001b[0m in \u001b[0;36m<module>\u001b[0;34m\u001b[0m\n\u001b[0;32m----> 1\u001b[0;31m \u001b[0mrun\u001b[0m\u001b[0;34m(\u001b[0m\u001b[0margs\u001b[0m\u001b[0;34m,\u001b[0m \u001b[0mtrain_data\u001b[0m\u001b[0;34m,\u001b[0m \u001b[0mvalid_data\u001b[0m\u001b[0;34m)\u001b[0m\u001b[0;34m\u001b[0m\u001b[0;34m\u001b[0m\u001b[0m\n\u001b[0m",
      "\u001b[0;32m<ipython-input-162-9ca1ebfeb3c1>\u001b[0m in \u001b[0;36mrun\u001b[0;34m(args, train_data, valid_data)\u001b[0m\n\u001b[1;32m      6\u001b[0m     \u001b[0margs\u001b[0m\u001b[0;34m.\u001b[0m\u001b[0mwarmup_steps\u001b[0m \u001b[0;34m=\u001b[0m \u001b[0margs\u001b[0m\u001b[0;34m.\u001b[0m\u001b[0mtotal_steps\u001b[0m \u001b[0;34m//\u001b[0m \u001b[0;36m10\u001b[0m\u001b[0;34m\u001b[0m\u001b[0;34m\u001b[0m\u001b[0m\n\u001b[1;32m      7\u001b[0m \u001b[0;34m\u001b[0m\u001b[0m\n\u001b[0;32m----> 8\u001b[0;31m     \u001b[0mmodel\u001b[0m \u001b[0;34m=\u001b[0m \u001b[0mget_model\u001b[0m\u001b[0;34m(\u001b[0m\u001b[0margs\u001b[0m\u001b[0;34m)\u001b[0m\u001b[0;34m\u001b[0m\u001b[0;34m\u001b[0m\u001b[0m\n\u001b[0m\u001b[1;32m      9\u001b[0m     \u001b[0moptimizer\u001b[0m \u001b[0;34m=\u001b[0m \u001b[0mget_optimizer\u001b[0m\u001b[0;34m(\u001b[0m\u001b[0mmodel\u001b[0m\u001b[0;34m,\u001b[0m \u001b[0margs\u001b[0m\u001b[0;34m)\u001b[0m\u001b[0;34m\u001b[0m\u001b[0;34m\u001b[0m\u001b[0m\n\u001b[1;32m     10\u001b[0m     \u001b[0mscheduler\u001b[0m \u001b[0;34m=\u001b[0m \u001b[0mget_scheduler\u001b[0m\u001b[0;34m(\u001b[0m\u001b[0moptimizer\u001b[0m\u001b[0;34m,\u001b[0m \u001b[0margs\u001b[0m\u001b[0;34m)\u001b[0m\u001b[0;34m\u001b[0m\u001b[0;34m\u001b[0m\u001b[0m\n",
      "\u001b[0;32m<ipython-input-161-1126dfa2874b>\u001b[0m in \u001b[0;36mget_model\u001b[0;34m(args)\u001b[0m\n\u001b[1;32m     49\u001b[0m \u001b[0;34m\u001b[0m\u001b[0m\n\u001b[1;32m     50\u001b[0m \u001b[0;34m\u001b[0m\u001b[0m\n\u001b[0;32m---> 51\u001b[0;31m     \u001b[0mmodel\u001b[0m\u001b[0;34m.\u001b[0m\u001b[0mto\u001b[0m\u001b[0;34m(\u001b[0m\u001b[0margs\u001b[0m\u001b[0;34m.\u001b[0m\u001b[0mdevice\u001b[0m\u001b[0;34m)\u001b[0m\u001b[0;34m\u001b[0m\u001b[0;34m\u001b[0m\u001b[0m\n\u001b[0m\u001b[1;32m     52\u001b[0m \u001b[0;34m\u001b[0m\u001b[0m\n\u001b[1;32m     53\u001b[0m     \u001b[0;32mreturn\u001b[0m \u001b[0mmodel\u001b[0m\u001b[0;34m\u001b[0m\u001b[0;34m\u001b[0m\u001b[0m\n",
      "\u001b[0;32m/opt/conda/lib/python3.7/site-packages/torch/nn/modules/module.py\u001b[0m in \u001b[0;36mto\u001b[0;34m(self, *args, **kwargs)\u001b[0m\n\u001b[1;32m    605\u001b[0m             \u001b[0;32mreturn\u001b[0m \u001b[0mt\u001b[0m\u001b[0;34m.\u001b[0m\u001b[0mto\u001b[0m\u001b[0;34m(\u001b[0m\u001b[0mdevice\u001b[0m\u001b[0;34m,\u001b[0m \u001b[0mdtype\u001b[0m \u001b[0;32mif\u001b[0m \u001b[0mt\u001b[0m\u001b[0;34m.\u001b[0m\u001b[0mis_floating_point\u001b[0m\u001b[0;34m(\u001b[0m\u001b[0;34m)\u001b[0m \u001b[0;32melse\u001b[0m \u001b[0;32mNone\u001b[0m\u001b[0;34m,\u001b[0m \u001b[0mnon_blocking\u001b[0m\u001b[0;34m)\u001b[0m\u001b[0;34m\u001b[0m\u001b[0;34m\u001b[0m\u001b[0m\n\u001b[1;32m    606\u001b[0m \u001b[0;34m\u001b[0m\u001b[0m\n\u001b[0;32m--> 607\u001b[0;31m         \u001b[0;32mreturn\u001b[0m \u001b[0mself\u001b[0m\u001b[0;34m.\u001b[0m\u001b[0m_apply\u001b[0m\u001b[0;34m(\u001b[0m\u001b[0mconvert\u001b[0m\u001b[0;34m)\u001b[0m\u001b[0;34m\u001b[0m\u001b[0;34m\u001b[0m\u001b[0m\n\u001b[0m\u001b[1;32m    608\u001b[0m \u001b[0;34m\u001b[0m\u001b[0m\n\u001b[1;32m    609\u001b[0m     def register_backward_hook(\n",
      "\u001b[0;32m/opt/conda/lib/python3.7/site-packages/torch/nn/modules/module.py\u001b[0m in \u001b[0;36m_apply\u001b[0;34m(self, fn)\u001b[0m\n\u001b[1;32m    352\u001b[0m     \u001b[0;32mdef\u001b[0m \u001b[0m_apply\u001b[0m\u001b[0;34m(\u001b[0m\u001b[0mself\u001b[0m\u001b[0;34m,\u001b[0m \u001b[0mfn\u001b[0m\u001b[0;34m)\u001b[0m\u001b[0;34m:\u001b[0m\u001b[0;34m\u001b[0m\u001b[0;34m\u001b[0m\u001b[0m\n\u001b[1;32m    353\u001b[0m         \u001b[0;32mfor\u001b[0m \u001b[0mmodule\u001b[0m \u001b[0;32min\u001b[0m \u001b[0mself\u001b[0m\u001b[0;34m.\u001b[0m\u001b[0mchildren\u001b[0m\u001b[0;34m(\u001b[0m\u001b[0;34m)\u001b[0m\u001b[0;34m:\u001b[0m\u001b[0;34m\u001b[0m\u001b[0;34m\u001b[0m\u001b[0m\n\u001b[0;32m--> 354\u001b[0;31m             \u001b[0mmodule\u001b[0m\u001b[0;34m.\u001b[0m\u001b[0m_apply\u001b[0m\u001b[0;34m(\u001b[0m\u001b[0mfn\u001b[0m\u001b[0;34m)\u001b[0m\u001b[0;34m\u001b[0m\u001b[0;34m\u001b[0m\u001b[0m\n\u001b[0m\u001b[1;32m    355\u001b[0m \u001b[0;34m\u001b[0m\u001b[0m\n\u001b[1;32m    356\u001b[0m         \u001b[0;32mdef\u001b[0m \u001b[0mcompute_should_use_set_data\u001b[0m\u001b[0;34m(\u001b[0m\u001b[0mtensor\u001b[0m\u001b[0;34m,\u001b[0m \u001b[0mtensor_applied\u001b[0m\u001b[0;34m)\u001b[0m\u001b[0;34m:\u001b[0m\u001b[0;34m\u001b[0m\u001b[0;34m\u001b[0m\u001b[0m\n",
      "\u001b[0;32m/opt/conda/lib/python3.7/site-packages/torch/nn/modules/module.py\u001b[0m in \u001b[0;36m_apply\u001b[0;34m(self, fn)\u001b[0m\n\u001b[1;32m    374\u001b[0m                 \u001b[0;31m# `with torch.no_grad():`\u001b[0m\u001b[0;34m\u001b[0m\u001b[0;34m\u001b[0m\u001b[0;34m\u001b[0m\u001b[0m\n\u001b[1;32m    375\u001b[0m                 \u001b[0;32mwith\u001b[0m \u001b[0mtorch\u001b[0m\u001b[0;34m.\u001b[0m\u001b[0mno_grad\u001b[0m\u001b[0;34m(\u001b[0m\u001b[0;34m)\u001b[0m\u001b[0;34m:\u001b[0m\u001b[0;34m\u001b[0m\u001b[0;34m\u001b[0m\u001b[0m\n\u001b[0;32m--> 376\u001b[0;31m                     \u001b[0mparam_applied\u001b[0m \u001b[0;34m=\u001b[0m \u001b[0mfn\u001b[0m\u001b[0;34m(\u001b[0m\u001b[0mparam\u001b[0m\u001b[0;34m)\u001b[0m\u001b[0;34m\u001b[0m\u001b[0;34m\u001b[0m\u001b[0m\n\u001b[0m\u001b[1;32m    377\u001b[0m                 \u001b[0mshould_use_set_data\u001b[0m \u001b[0;34m=\u001b[0m \u001b[0mcompute_should_use_set_data\u001b[0m\u001b[0;34m(\u001b[0m\u001b[0mparam\u001b[0m\u001b[0;34m,\u001b[0m \u001b[0mparam_applied\u001b[0m\u001b[0;34m)\u001b[0m\u001b[0;34m\u001b[0m\u001b[0;34m\u001b[0m\u001b[0m\n\u001b[1;32m    378\u001b[0m                 \u001b[0;32mif\u001b[0m \u001b[0mshould_use_set_data\u001b[0m\u001b[0;34m:\u001b[0m\u001b[0;34m\u001b[0m\u001b[0;34m\u001b[0m\u001b[0m\n",
      "\u001b[0;32m/opt/conda/lib/python3.7/site-packages/torch/nn/modules/module.py\u001b[0m in \u001b[0;36mconvert\u001b[0;34m(t)\u001b[0m\n\u001b[1;32m    603\u001b[0m             \u001b[0;32mif\u001b[0m \u001b[0mconvert_to_format\u001b[0m \u001b[0;32mis\u001b[0m \u001b[0;32mnot\u001b[0m \u001b[0;32mNone\u001b[0m \u001b[0;32mand\u001b[0m \u001b[0mt\u001b[0m\u001b[0;34m.\u001b[0m\u001b[0mdim\u001b[0m\u001b[0;34m(\u001b[0m\u001b[0;34m)\u001b[0m \u001b[0;34m==\u001b[0m \u001b[0;36m4\u001b[0m\u001b[0;34m:\u001b[0m\u001b[0;34m\u001b[0m\u001b[0;34m\u001b[0m\u001b[0m\n\u001b[1;32m    604\u001b[0m                 \u001b[0;32mreturn\u001b[0m \u001b[0mt\u001b[0m\u001b[0;34m.\u001b[0m\u001b[0mto\u001b[0m\u001b[0;34m(\u001b[0m\u001b[0mdevice\u001b[0m\u001b[0;34m,\u001b[0m \u001b[0mdtype\u001b[0m \u001b[0;32mif\u001b[0m \u001b[0mt\u001b[0m\u001b[0;34m.\u001b[0m\u001b[0mis_floating_point\u001b[0m\u001b[0;34m(\u001b[0m\u001b[0;34m)\u001b[0m \u001b[0;32melse\u001b[0m \u001b[0;32mNone\u001b[0m\u001b[0;34m,\u001b[0m \u001b[0mnon_blocking\u001b[0m\u001b[0;34m,\u001b[0m \u001b[0mmemory_format\u001b[0m\u001b[0;34m=\u001b[0m\u001b[0mconvert_to_format\u001b[0m\u001b[0;34m)\u001b[0m\u001b[0;34m\u001b[0m\u001b[0;34m\u001b[0m\u001b[0m\n\u001b[0;32m--> 605\u001b[0;31m             \u001b[0;32mreturn\u001b[0m \u001b[0mt\u001b[0m\u001b[0;34m.\u001b[0m\u001b[0mto\u001b[0m\u001b[0;34m(\u001b[0m\u001b[0mdevice\u001b[0m\u001b[0;34m,\u001b[0m \u001b[0mdtype\u001b[0m \u001b[0;32mif\u001b[0m \u001b[0mt\u001b[0m\u001b[0;34m.\u001b[0m\u001b[0mis_floating_point\u001b[0m\u001b[0;34m(\u001b[0m\u001b[0;34m)\u001b[0m \u001b[0;32melse\u001b[0m \u001b[0;32mNone\u001b[0m\u001b[0;34m,\u001b[0m \u001b[0mnon_blocking\u001b[0m\u001b[0;34m)\u001b[0m\u001b[0;34m\u001b[0m\u001b[0;34m\u001b[0m\u001b[0m\n\u001b[0m\u001b[1;32m    606\u001b[0m \u001b[0;34m\u001b[0m\u001b[0m\n\u001b[1;32m    607\u001b[0m         \u001b[0;32mreturn\u001b[0m \u001b[0mself\u001b[0m\u001b[0;34m.\u001b[0m\u001b[0m_apply\u001b[0m\u001b[0;34m(\u001b[0m\u001b[0mconvert\u001b[0m\u001b[0;34m)\u001b[0m\u001b[0;34m\u001b[0m\u001b[0;34m\u001b[0m\u001b[0m\n",
      "\u001b[0;31mRuntimeError\u001b[0m: CUDA error: device-side assert triggered"
     ]
    }
   ],
   "source": [
    "run(args, train_data, valid_data)"
   ]
  }
 ],
 "metadata": {
  "accelerator": "GPU",
  "colab": {
   "collapsed_sections": [],
   "machine_shape": "hm",
   "name": "Riiid competition EDA.ipynb",
   "provenance": []
  },
  "kernelspec": {
   "display_name": "Python 3",
   "language": "python",
   "name": "python3"
  },
  "language_info": {
   "codemirror_mode": {
    "name": "ipython",
    "version": 3
   },
   "file_extension": ".py",
   "mimetype": "text/x-python",
   "name": "python",
   "nbconvert_exporter": "python",
   "pygments_lexer": "ipython3",
   "version": "3.7.7"
  }
 },
 "nbformat": 4,
 "nbformat_minor": 4
}
