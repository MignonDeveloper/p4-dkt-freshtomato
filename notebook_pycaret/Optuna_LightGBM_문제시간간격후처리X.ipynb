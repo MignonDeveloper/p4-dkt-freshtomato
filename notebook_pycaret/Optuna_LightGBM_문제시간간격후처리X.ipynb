{
 "cells": [
  {
   "cell_type": "markdown",
   "metadata": {},
   "source": [
    "# OPTUNA & LGBM을 활용"
   ]
  },
  {
   "cell_type": "code",
   "execution_count": 1,
   "metadata": {},
   "outputs": [
    {
     "name": "stdout",
     "output_type": "stream",
     "text": [
      "Requirement already satisfied: lightgbm in /opt/conda/lib/python3.7/site-packages (3.2.1)\n",
      "Requirement already satisfied: plotly in /opt/conda/lib/python3.7/site-packages (4.14.3)\n",
      "Requirement already satisfied: optuna==0.18.1 in /opt/conda/lib/python3.7/site-packages (0.18.1)\n",
      "Requirement already satisfied: wheel in /opt/conda/lib/python3.7/site-packages (from lightgbm) (0.34.2)\n",
      "Requirement already satisfied: scikit-learn!=0.22.0 in /opt/conda/lib/python3.7/site-packages (from lightgbm) (0.24.2)\n",
      "Requirement already satisfied: scipy in /opt/conda/lib/python3.7/site-packages (from lightgbm) (1.6.3)\n",
      "Requirement already satisfied: numpy in /opt/conda/lib/python3.7/site-packages (from lightgbm) (1.18.5)\n",
      "Requirement already satisfied: six in /opt/conda/lib/python3.7/site-packages (from plotly) (1.14.0)\n",
      "Requirement already satisfied: retrying>=1.3.3 in /opt/conda/lib/python3.7/site-packages (from plotly) (1.3.3)\n",
      "Requirement already satisfied: alembic in /opt/conda/lib/python3.7/site-packages (from optuna==0.18.1) (1.6.4)\n",
      "Requirement already satisfied: cliff in /opt/conda/lib/python3.7/site-packages (from optuna==0.18.1) (3.7.0)\n",
      "Requirement already satisfied: typing in /opt/conda/lib/python3.7/site-packages (from optuna==0.18.1) (3.7.4.3)\n",
      "Requirement already satisfied: tqdm in /opt/conda/lib/python3.7/site-packages (from optuna==0.18.1) (4.46.0)\n",
      "Requirement already satisfied: colorlog in /opt/conda/lib/python3.7/site-packages (from optuna==0.18.1) (5.0.1)\n",
      "Requirement already satisfied: sqlalchemy>=1.1.0 in /opt/conda/lib/python3.7/site-packages (from optuna==0.18.1) (1.4.15)\n",
      "Requirement already satisfied: threadpoolctl>=2.0.0 in /opt/conda/lib/python3.7/site-packages (from scikit-learn!=0.22.0->lightgbm) (2.1.0)\n",
      "Requirement already satisfied: joblib>=0.11 in /opt/conda/lib/python3.7/site-packages (from scikit-learn!=0.22.0->lightgbm) (1.0.1)\n",
      "Requirement already satisfied: python-editor>=0.3 in /opt/conda/lib/python3.7/site-packages (from alembic->optuna==0.18.1) (1.0.4)\n",
      "Requirement already satisfied: Mako in /opt/conda/lib/python3.7/site-packages (from alembic->optuna==0.18.1) (1.1.4)\n",
      "Requirement already satisfied: python-dateutil in /opt/conda/lib/python3.7/site-packages (from alembic->optuna==0.18.1) (2.8.1)\n",
      "Requirement already satisfied: cmd2>=1.0.0 in /opt/conda/lib/python3.7/site-packages (from cliff->optuna==0.18.1) (1.5.0)\n",
      "Requirement already satisfied: pyparsing>=2.1.0 in /opt/conda/lib/python3.7/site-packages (from cliff->optuna==0.18.1) (2.4.7)\n",
      "Requirement already satisfied: pbr!=2.1.0,>=2.0.0 in /opt/conda/lib/python3.7/site-packages (from cliff->optuna==0.18.1) (5.6.0)\n",
      "Requirement already satisfied: PyYAML>=3.12 in /opt/conda/lib/python3.7/site-packages (from cliff->optuna==0.18.1) (5.3.1)\n",
      "Requirement already satisfied: stevedore>=2.0.1 in /opt/conda/lib/python3.7/site-packages (from cliff->optuna==0.18.1) (3.3.0)\n",
      "Requirement already satisfied: PrettyTable>=0.7.2 in /opt/conda/lib/python3.7/site-packages (from cliff->optuna==0.18.1) (2.1.0)\n",
      "Requirement already satisfied: importlib-metadata; python_version < \"3.8\" in /opt/conda/lib/python3.7/site-packages (from sqlalchemy>=1.1.0->optuna==0.18.1) (4.0.1)\n",
      "Requirement already satisfied: greenlet!=0.4.17; python_version >= \"3\" in /opt/conda/lib/python3.7/site-packages (from sqlalchemy>=1.1.0->optuna==0.18.1) (1.1.0)\n",
      "Requirement already satisfied: MarkupSafe>=0.9.2 in /opt/conda/lib/python3.7/site-packages (from Mako->alembic->optuna==0.18.1) (1.1.1)\n",
      "Requirement already satisfied: wcwidth>=0.1.7 in /opt/conda/lib/python3.7/site-packages (from cmd2>=1.0.0->cliff->optuna==0.18.1) (0.2.5)\n",
      "Requirement already satisfied: colorama>=0.3.7 in /opt/conda/lib/python3.7/site-packages (from cmd2>=1.0.0->cliff->optuna==0.18.1) (0.4.4)\n",
      "Requirement already satisfied: attrs>=16.3.0 in /opt/conda/lib/python3.7/site-packages (from cmd2>=1.0.0->cliff->optuna==0.18.1) (21.2.0)\n",
      "Requirement already satisfied: pyperclip>=1.6 in /opt/conda/lib/python3.7/site-packages (from cmd2>=1.0.0->cliff->optuna==0.18.1) (1.8.2)\n",
      "Requirement already satisfied: typing-extensions>=3.6.4; python_version < \"3.8\" in /opt/conda/lib/python3.7/site-packages (from importlib-metadata; python_version < \"3.8\"->sqlalchemy>=1.1.0->optuna==0.18.1) (3.10.0.0)\n",
      "Requirement already satisfied: zipp>=0.5 in /opt/conda/lib/python3.7/site-packages (from importlib-metadata; python_version < \"3.8\"->sqlalchemy>=1.1.0->optuna==0.18.1) (3.4.1)\n"
     ]
    }
   ],
   "source": [
    "!pip install lightgbm plotly optuna==0.18.1"
   ]
  },
  {
   "cell_type": "code",
   "execution_count": 1,
   "metadata": {
    "ExecuteTime": {
     "end_time": "2021-05-24T09:49:29.375544Z",
     "start_time": "2021-05-24T09:49:28.999092Z"
    }
   },
   "outputs": [],
   "source": [
    "import pandas as pd\n",
    "import os\n",
    "import random\n",
    "from datetime import datetime, timedelta\n",
    "import matplotlib.pyplot as plt\n",
    "import numpy as np\n",
    "from sklearn.model_selection import KFold, StratifiedKFold   # K-fold CV    \n",
    "import json\n",
    "import pickle\n"
   ]
  },
  {
   "cell_type": "markdown",
   "metadata": {},
   "source": [
    "## 1. 데이터 로딩"
   ]
  },
  {
   "cell_type": "code",
   "execution_count": 2,
   "metadata": {
    "ExecuteTime": {
     "end_time": "2021-05-24T09:49:29.678737Z",
     "start_time": "2021-05-24T09:49:29.376581Z"
    }
   },
   "outputs": [],
   "source": [
    "data_dir = '/opt/p4-dkt-freshtomato/input/data/train_dataset'\n",
    "# csv_file_path = os.path.join(data_dir, 'train_data.csv')\n",
    "csv_file_path = os.path.join(data_dir, 'new_train_data.csv')\n",
    "df = pd.read_csv(csv_file_path) \n",
    "test_csv_file_path = os.path.join(data_dir, 'test_data.csv')\n",
    "test_df = pd.read_csv(test_csv_file_path)"
   ]
  },
  {
   "cell_type": "markdown",
   "metadata": {},
   "source": [
    "## 2. Feature Engineering\n",
    "### 추가적으로 생각해야할 변수들 (아직 추가 못함)\n",
    "1. 유저가 똑같은 시험지를 여러번 보는가? \n",
    "    - 이 경우, test 유저도 똑같은 시험지를 여러번 보는 경우가 있는가?\n",
    "    - 만약 그렇다면 (해당 시험지를 현재 몇번째로 보는 것인가?)를 변수로 쓸 수 있을 것이다.\n",
    "1-2. 유저가 똑같은 문제를 여러번 보는가? \n",
    "    - 이 경우, test 유저도 똑같은 문제를 여러번 보는 경우가 있는가?\n",
    "    - 만약 그렇다면 (해당 문제를 현재 몇번째로 보는 것인가?)를 변수로 쓸 수 있을 것이다.\n",
    "\n",
    "2. 시험지 별로 총 시간제한이 있을 것이다\n",
    "3. 문제를 몇 초, 몇 분만에 풀었는가 (다음 두개의 코드 참고)\n",
    "    - df['db'] = df['b']-df['b'].shift(1)\n",
    "    - df['db'] = df['b'].diff()\n",
    "> 3번 코드 구현상의 문제점 : 해당 testid에 대하여 여러번 푼 적이 있는 사람에 대해서는 .groupby(['userid','testid']) 메소드를 사용해서 diff를 구할 수가 없다..\n",
    "\n",
    "4. 현재 풀고 있는 문제와 같은 Knowledge Tag를 접한적이 있는가?\n",
    "    - 여태까지 한 시험 내에서 같은 Tag를 몇번 접했는가\n",
    "    - 여태까지 전체에서 같은 Tag를 몇번 접했는가\n",
    "    - 해당 user는 전체적으로 해당 Tag와 같은 Tag를 몇번 접했는가\n",
    "    - 같은 Tag를 접한지 이전으로부터 시간이 얼마나 지났는가\n",
    "<!-- 5. KnowledgeTag 별 전체 정답률 -->\n",
    "6. 한 시험지를 풂에 있어서 총 걸린 시간\n",
    "7. 첫 문제를 풀기 시작한 시간으로부터 현재 문제를 풀기까지 경과시간\n",
    "8. (현재 풀고있는) 해당 시험지를 푸는데 user들이 평균적으로 걸린 시간\n",
    "    - 해당 시험지를 푸는데 user들이 걸린 시간들의 최대값, 최소값, 4분위수, 중앙값, 표준편차\n",
    "9. (현재 풀고있는) 해당 문제를 푸는데 user들이 평균적으로 걸린 시간\n",
    "    - 해당 문제를 푸는데 user들이 걸린 시간들의 최대값, 최소값, 4분위수, 중앙값, 표준편차\n",
    "10. 해당 KnowledgeTag를 푸는데 user들이 평균적으로 걸린 시간\n",
    "    - 해당 KnowledgeTag를 푸는데 user들이 걸린 시간들의 최대값, 최소값, 4분위수, 중앙값, 표준편차\n",
    "11. 해당 시험지가 가지고 있는 KnowledgeTag의 개수\n",
    "    - 같은 시험지면 등장한 KnowledgeTag의 개수가 같을까?\n",
    "        - 만약 다르다면, 이것 역시 평균, 중앙값, 표준편차 등의 대표값들을 추출해내야 할듯\n",
    "\n",
    "12. 이전까지 정답을 연속으로 몇번 맞혔는지 (누적카운팅)\n",
    "13. 이전까지 정답을 연속으로 몇번 틀렸는지 (누적카운팅)\n",
    "14. 직전에 정답을 맞혔는지 틀렸는지 여부 (binary 변수)\n"
   ]
  },
  {
   "cell_type": "code",
   "execution_count": 3,
   "metadata": {
    "ExecuteTime": {
     "end_time": "2021-05-24T09:49:29.682739Z",
     "start_time": "2021-05-24T09:49:28.979Z"
    }
   },
   "outputs": [],
   "source": [
    "from feature_engineering import feature_engineering\n",
    "def feature_engineering(df):\n",
    "\n",
    "    #유저별 시퀀스를 고려하기 위해 아래와 같이 정렬\n",
    "    df.sort_values(by=['userID','Timestamp'], inplace=True)\n",
    "\n",
    "    # assessmentItemID (문제 ID)\n",
    "    ## 문제의 식별번호 (범주형? 연속형?) - 9자리\n",
    "    print('make feature : problem_id_num')\n",
    "    df['problem_total_id'] = df['assessmentItemID'].map(lambda x: x[1:])\n",
    "    ## 문제번호 (시험지 내에서) (범주형? 연속형?) - 3자리\n",
    "    print('make feature : problem_num')\n",
    "    df['problem_num'] = df['assessmentItemID'].map(lambda x: x[-3:])\n",
    "    ## 시험지의 식별번호 전체 (범주형? 연속형?) - 6자리\n",
    "    print('make feature : test_total_id')\n",
    "    df['test_total_id'] = df['assessmentItemID'].map(lambda x: x[1:7])\n",
    "\n",
    "    ###############################################\n",
    "    # 해당 문제를 푸는데 몇 초가 걸렸는가 (연속형)\n",
    "    print('make feature : time_solve_problem_in_test')\n",
    "    new_df = df.copy()\n",
    "    new_df['Timestamp'] = new_df['Timestamp'].apply(lambda x: datetime.strptime(x, \"%Y-%m-%d %H:%M:%S\" ))\n",
    "    df['time_solve_problem_in_test'] = new_df.groupby(['userID','testId']).apply(lambda x: x['Timestamp'].diff().shift(-1)).values\n",
    "    del new_df\n",
    "\n",
    "    ###############################################\n",
    "\n",
    "    # UserID와 answerCode\n",
    "    #유저들의 문제 풀이수, 정답 수, 정답률을 시간순으로 누적해서 계산\n",
    "    # 유저의 총 정답 개수\n",
    "    print('make feature : user_correct_answer')\n",
    "    df['user_correct_answer'] = df.groupby('userID')['answerCode'].transform(lambda x: x.cumsum().shift(1))\n",
    "    # 유저의 풀이한 문제 누적합 개수\n",
    "    print('make feature : user_total_answer')\n",
    "    df['user_total_answer'] = df.groupby('userID')['answerCode'].cumcount()\n",
    "    # 유저의 정답률 변수\n",
    "    print('make feature : user_acc')\n",
    "    df['user_acc'] = df['user_correct_answer']/df['user_total_answer']\n",
    "    \n",
    "    # testId (시험 ID)\n",
    "    ## 시험 난이도 변수 (연속형)\n",
    "    print('make feature : test_level')\n",
    "    df['test_level'] = df['testId'].map(lambda x: int(x[2]))   # A030071005 이 있으면, 030을 뽑아내는게 아니라 3만 뽑아냈음\n",
    "    ## 시험 식별 아이디 뒷부분 (연속형? 범주형?)\n",
    "    print('make feature : test_part_id')\n",
    "    df['test_part_id'] = df['testId'].map(lambda x: x[-3:])   # A030071005 이 있으면, 030을 뽑아내는게 아니라 3만 뽑아냈음\n",
    "\n",
    "    ## Timestamp(시간) 변수 활용\n",
    "    # 연도\n",
    "    print('make feature : year')\n",
    "    df['year'] = df['Timestamp'].map(lambda x: datetime.strptime(x, \"%Y-%m-%d %H:%M:%S\" ).year)\n",
    "    # 요일 (범주형)\n",
    "    print('make feature : day_of_week')\n",
    "    df[\"day_of_week\"] = df[\"Timestamp\"].map(lambda x: datetime.strptime(x, \"%Y-%m-%d %H:%M:%S\" ).weekday())\n",
    "    # 월 (범주형)\n",
    "    print('make feature : month')\n",
    "    df[\"month\"] = df[\"Timestamp\"].map(lambda x: datetime.strptime(x, \"%Y-%m-%d %H:%M:%S\" ).month)\n",
    "    # 몇번째 주인지 (범주형? 연속형?)\n",
    "    print('make feature : week_number')\n",
    "    df[\"week_number\"] = df[\"Timestamp\"].map(lambda x: datetime.strptime(x, \"%Y-%m-%d %H:%M:%S\" ).strftime('%V'))\n",
    "    # 계절 변수 (범주형)\n",
    "    print('make feature : season')\n",
    "    seasons = [0,0,1,1,1,2,2,2,3,3,3,0] \n",
    "    df[\"season\"] = df[\"Timestamp\"].map(lambda x: seasons[(datetime.strptime(x, \"%Y-%m-%d %H:%M:%S\" ).month-1)])\n",
    "    # 시간대 (범주형? 연속형?)\n",
    "    print('make feature : hour')\n",
    "    df[\"hour\"] = df[\"Timestamp\"].map(lambda x: datetime.strptime(x, \"%Y-%m-%d %H:%M:%S\" ).hour)\n",
    "\n",
    "    # KnowledgeTag\n",
    "    print('make feature : slicing_ahead_KT')\n",
    "    df['slicing_ahead1_KT_no_pad'] = df['KnowledgeTag'].map(lambda x: str(x)[:1])\n",
    "    df['slicing_ahead2_KT_no_pad'] = df['KnowledgeTag'].map(lambda x: str(x)[:2])\n",
    "    df['slicing_ahead3_KT_no_pad'] = df['KnowledgeTag'].map(lambda x: str(x)[:3])\n",
    "    df['slicing_ahead3_KT_no_pad'] = df['KnowledgeTag'].map(lambda x: str(x)[:4])\n",
    "    print('make feature : slicing_ahead_KT_with_pad')\n",
    "    # df['slicing_ahead1_KT_with_pad'] = df['KnowledgeTag'].map(lambda x: str('0'*(5-len(str(x)))+str(x))[:1])\n",
    "    df['slicing_ahead2_KT_with_pad'] = df['KnowledgeTag'].map(lambda x: str('0'*(5-len(str(x)))+str(x))[:2])\n",
    "    df['slicing_ahead3_KT_with_pad'] = df['KnowledgeTag'].map(lambda x: str('0'*(5-len(str(x)))+str(x))[:3])\n",
    "    df['slicing_ahead4_KT_with_pad'] = df['KnowledgeTag'].map(lambda x: str('0'*(5-len(str(x)))+str(x))[:4])\n",
    "\n",
    "    ## 뒤에서부터도 슬라이싱해서 확인해보기\n",
    "    print('make feature : slicing_behind_KT_no_pad')\n",
    "    df['slicing_behind1_KT_no_pad'] = df['KnowledgeTag'].map(lambda x: str(x)[-1:])\n",
    "    df['slicing_behind2_KT_no_pad'] = df['KnowledgeTag'].map(lambda x: str(x)[-2:])\n",
    "    df['slicing_behind3_KT_no_pad'] = df['KnowledgeTag'].map(lambda x: str(x)[-3:])\n",
    "    df['slicing_behind3_KT_no_pad'] = df['KnowledgeTag'].map(lambda x: str(x)[-4:])\n",
    "\n",
    "    print('make feature : slicing_behind_KT_no_pad')\n",
    "    df['slicing_behind1_KT_with_pad'] = df['KnowledgeTag'].map(lambda x: str('0'*(5-len(str(x)))+str(x))[-1:])\n",
    "    df['slicing_behind2_KT_with_pad'] = df['KnowledgeTag'].map(lambda x: str('0'*(5-len(str(x)))+str(x))[-2:])\n",
    "    df['slicing_behind3_KT_with_pad'] = df['KnowledgeTag'].map(lambda x: str('0'*(5-len(str(x)))+str(x))[-3:])\n",
    "    df['slicing_behind4_KT_with_pad'] = df['KnowledgeTag'].map(lambda x: str('0'*(5-len(str(x)))+str(x))[-4:])\n",
    "\n",
    "\n",
    "    # testId와 KnowledgeTag와 assessmentItemID에 대한 전체 정답률은 한번에 계산\n",
    "    # 아래 데이터는 제출용 데이터셋에 대해서도 재사용\n",
    "    # 정답률, 정답개수, 총 풀이 개수\n",
    "    # testId별로 정답률, 정답개수, 총 풀이 개수\n",
    "    correct_t = df.groupby(['testId'])['answerCode'].agg(['mean', 'sum', 'count'])\n",
    "    correct_t.columns = [\"test_mean\", 'test_sum', 'test_count']\n",
    "    # KnowledgeTag별로 정답률, 정답개수, 총 풀이 개수\n",
    "    correct_k = df.groupby(['KnowledgeTag'])['answerCode'].agg(['mean', 'sum', 'count'])\n",
    "    correct_k.columns = [\"tag_mean\", 'tag_sum', 'tag_count']\n",
    "    # assessmentItemID별로 정답률, 정답개수, 총 풀이 개수\n",
    "    correct_ass = df.groupby(['assessmentItemID'])['answerCode'].agg(['mean', 'sum', 'count'])\n",
    "    correct_ass.columns = [\"problem_mean\", 'problem_sum', 'problem_count']\n",
    "    # user 별 총 풀이한 문제 개수\n",
    "    correct_user = df.groupby(['userID'])['answerCode'].agg(['count'])\n",
    "    correct_user.columns = [\"user_total_problem\"]\n",
    "\n",
    "    df = pd.merge(df, correct_t, on=['testId'], how=\"left\")\n",
    "    df = pd.merge(df, correct_k, on=['KnowledgeTag'], how=\"left\")\n",
    "    df = pd.merge(df, correct_ass, on=['assessmentItemID'], how=\"left\")\n",
    "    df = pd.merge(df, correct_user, on=['userID'], how=\"left\")\n",
    "    \n",
    "    return df"
   ]
  },
  {
   "cell_type": "code",
   "execution_count": 4,
   "metadata": {
    "ExecuteTime": {
     "end_time": "2021-05-24T09:49:29.683739Z",
     "start_time": "2021-05-24T09:49:28.981Z"
    },
    "scrolled": false
   },
   "outputs": [
    {
     "name": "stdout",
     "output_type": "stream",
     "text": [
      "make feature : problem_id_num\n",
      "make feature : problem_num\n",
      "make feature : test_total_id\n",
      "make feature : time_solve_problem_in_test\n",
      "make feature : user_correct_answer\n",
      "make feature : user_total_answer\n",
      "make feature : user_acc\n",
      "make feature : test_level\n",
      "make feature : test_part_id\n",
      "make feature : year\n",
      "make feature : day_of_week\n",
      "make feature : month\n",
      "make feature : week_number\n",
      "make feature : season\n",
      "make feature : hour\n",
      "make feature : slicing_ahead_KT\n",
      "make feature : slicing_ahead_KT_with_pad\n",
      "make feature : slicing_behind_KT_no_pad\n",
      "make feature : slicing_behind_KT_no_pad\n"
     ]
    }
   ],
   "source": [
    "df = feature_engineering(df)"
   ]
  },
  {
   "cell_type": "code",
   "execution_count": 20,
   "metadata": {},
   "outputs": [],
   "source": [
    "# 따로 후처리 안했음.\n",
    "df['time_solve_problem_in_test'] = df['time_solve_problem_in_test'].apply(lambda x: x.seconds)"
   ]
  },
  {
   "cell_type": "code",
   "execution_count": 21,
   "metadata": {},
   "outputs": [
    {
     "data": {
      "text/plain": "assessmentItemID    object\ntestId              object\nTimestamp           object\ndtype: object"
     },
     "execution_count": 21,
     "metadata": {},
     "output_type": "execute_result"
    }
   ],
   "source": [
    "df.dtypes[df.dtypes=='object']"
   ]
  },
  {
   "cell_type": "code",
   "execution_count": 22,
   "metadata": {},
   "outputs": [],
   "source": [
    "drop_features = ['assessmentItemID','testId','Timestamp']   # ,'userID'\n",
    "\n",
    "cat_features = ['problem_total_id','problem_num','test_total_id','test_part_id','week_number',\n",
    "                'slicing_ahead1_KT_no_pad','slicing_ahead2_KT_no_pad','slicing_ahead3_KT_no_pad',\n",
    "                'slicing_ahead2_KT_with_pad','slicing_ahead3_KT_with_pad','slicing_ahead4_KT_with_pad',\n",
    "                'slicing_behind1_KT_no_pad','slicing_behind2_KT_no_pad','slicing_behind3_KT_no_pad',\n",
    "                'slicing_behind1_KT_with_pad','slicing_behind2_KT_with_pad','slicing_behind3_KT_with_pad','slicing_behind4_KT_with_pad']\n",
    "\n",
    "df[cat_features] = df[cat_features].astype(int)"
   ]
  },
  {
   "cell_type": "code",
   "execution_count": 23,
   "metadata": {},
   "outputs": [],
   "source": [
    "## hour의 구간(시간대)별로 어떤 영향이 있지 않을까?\n",
    "# 0~5 : sleep, 6~9 : breakfast, 10~13 : morning routine, 14~17 : , 18~20 : , 21~23 : \n",
    "times_of_day = [0, 0, 0, 0, 0, 0,  1, 1, 1, 1,  2, 2, 2, 2,  3, 3, 3, 3,  4, 4, 4,  5, 5, 5 ]\n",
    "time_of_day = lambda x: times_of_day[datetime.strptime(x, \"%Y-%m-%d %H:%M:%S\").hour]\n",
    "\n",
    "# print('make feature : time_of_day')\n",
    "# df[\"time_of_day\"] = df[\"Timestamp\"].map(time_of_day)"
   ]
  },
  {
   "cell_type": "markdown",
   "metadata": {},
   "source": [
    "## 3. Train/Test 데이터 셋 분리"
   ]
  },
  {
   "cell_type": "code",
   "execution_count": 24,
   "metadata": {
    "ExecuteTime": {
     "end_time": "2021-05-24T09:49:29.684739Z",
     "start_time": "2021-05-24T09:49:28.982Z"
    }
   },
   "outputs": [],
   "source": [
    "# train과 test 데이터셋은 사용자 별로 묶어서 분리를 해주어야함\n",
    "random.seed(42)\n",
    "def custom_train_test_split(df, ratio=0.7, split=True):\n",
    "    users = list(zip(df['userID'].value_counts().index, df['userID'].value_counts()))\n",
    "    random.shuffle(users)\n",
    "    \n",
    "    max_train_data_len = ratio*len(df)\n",
    "    sum_of_train_data = 0\n",
    "    user_ids =[]\n",
    "\n",
    "    for user_id, count in users:\n",
    "        sum_of_train_data += count\n",
    "        if max_train_data_len < sum_of_train_data:\n",
    "            break\n",
    "        user_ids.append(user_id)\n",
    "\n",
    "\n",
    "    train = df[df['userID'].isin(user_ids)]\n",
    "    test = df[df['userID'].isin(user_ids) == False]\n",
    "\n",
    "    #test데이터셋은 각 유저의 마지막 interaction만 추출\n",
    "    test = test[test['userID'] != test['userID'].shift(-1)]\n",
    "    return train, test"
   ]
  },
  {
   "cell_type": "code",
   "execution_count": 25,
   "metadata": {
    "ExecuteTime": {
     "end_time": "2021-05-24T09:49:29.687739Z",
     "start_time": "2021-05-24T09:49:28.985Z"
    }
   },
   "outputs": [],
   "source": [
    "# from optuna.integration.lightgbm import LightGBMTunerCV\n",
    "# import optuna.integration.lightgbm as lgb\n",
    "\n",
    "from sklearn.metrics import roc_auc_score\n",
    "from sklearn.metrics import accuracy_score\n",
    "import numpy as np\n",
    "import optuna                               # 베이지안 최적화 라이브러리  \n",
    "from optuna import Trial\n",
    "import lightgbm as lgb\n",
    "import gc\n",
    "import joblib\n"
   ]
  },
  {
   "cell_type": "code",
   "execution_count": 26,
   "metadata": {},
   "outputs": [
    {
     "name": "stdout",
     "output_type": "stream",
     "text": [
      "(2525956, 41)\n"
     ]
    }
   ],
   "source": [
    "df_train = df.copy().drop(drop_features,axis=1)\n",
    "# y_train = df_train['answerCode']\n",
    "print(df_train.shape)"
   ]
  },
  {
   "cell_type": "code",
   "execution_count": 27,
   "metadata": {},
   "outputs": [],
   "source": [
    "seed = 42\n",
    "early_stop = 100\n",
    "num_rounds = 10000\n",
    "folds=5\n",
    "model_name='all_train_userid_time_diff_No_AfterProcess_lgbm_trial50'\n"
   ]
  },
  {
   "cell_type": "code",
   "execution_count": 28,
   "metadata": {},
   "outputs": [],
   "source": [
    "def fit_lgbm_with_pruning(\n",
    "                        trial, \n",
    "                        train, \n",
    "                        val, \n",
    "                        devices=(-1,), \n",
    "                        seed=seed, \n",
    "                        cat_features=cat_features, \n",
    "                        num_rounds=num_rounds,\n",
    "                        early_stop=early_stop,\n",
    "                        verbose_eval = 50,\n",
    "                        ):\n",
    "\n",
    "    X_train, y_train = train\n",
    "    X_valid, y_valid = val\n",
    "\n",
    "    \"\"\"Train Light GBM model\"\"\"\n",
    "    d_train = lgb.Dataset(X_train, label=y_train,\n",
    "                        #   categorical_feature=cat_features,\n",
    "                          )\n",
    "    d_valid = lgb.Dataset(X_valid, label=y_valid,\n",
    "                        #   categorical_feature=cat_features,\n",
    "                          )\n",
    "    watchlist = [d_train, d_valid]\n",
    "\n",
    "    params = {\n",
    "        'seed':seed,\n",
    "        #'num_leaves': trial.suggest_int('num_leaves', 16,1e+4),     # 16~128 정도\n",
    "        'objective': 'binary',\n",
    "\n",
    "        'max_depth': trial.suggest_int('max_depth', 5,30),  # 8,30\n",
    "        #'learning_rate': trial.suggest_discrete_uniform('learning_rate', 9e-3, 1e-2, 1e-5),   \n",
    "        'learning_rate': trial.suggest_uniform('learning_rate',8e-3,0.1),\n",
    "        \"boosting\": \"gbdt\",#'dart','goss',\n",
    "\n",
    "        'lambda_l1': trial.suggest_uniform('lambda_l1', 0, 25),   # 1~2     #'lambda_l1': trial.suggest_loguniform('lambda_l1', 1e-8, 10.0),\n",
    "        'lambda_l2': trial.suggest_uniform('lambda_l2', 0, 35),   # 3~6   #'lambda_l2': trial.suggest_loguniform('lambda_l2', 1e-8, 10.0),\n",
    "\n",
    "        #\"bagging_freq\": 5,\n",
    "        \"bagging_fraction\": trial.suggest_discrete_uniform('bagging_fraction', 0.05, 0.7, 0.05), \n",
    "        \"feature_fraction\": trial.suggest_discrete_uniform('feature_fraction', 0.05, 0.7, 0.05),  # 0.1, 0.5\n",
    "        #\"bagging_fraction\": trial.suggest_uniform('bagging_fraction', 0.35, 0.35),\n",
    "        #\"feature_fraction\": trial.suggest_uniform('feature_fraction', 0.4, 0.4),  \n",
    "        \"metric\": 'auc',\n",
    "        # \"metric\": 'binary_logloss',\n",
    "\n",
    "        \"verbosity\": -1,\n",
    "    }\n",
    "    device = devices[0]\n",
    "    if device == -1:\n",
    "        # use cpu\n",
    "        pass\n",
    "    else:\n",
    "        # use gpu\n",
    "        print(f'using gpu device_id {device}...')\n",
    "        params.update({'device': 'gpu', 'gpu_device_id': device})\n",
    "\n",
    "    # Add a callback for pruning.\n",
    "    pruning_callback = optuna.integration.LightGBMPruningCallback(trial, 'auc', valid_name='valid_1')    \n",
    "    print('training LGB:')\n",
    "    model = lgb.train(\n",
    "                    params,\n",
    "                    train_set=d_train,\n",
    "                    num_boost_round=num_rounds,\n",
    "                    valid_sets=watchlist,\n",
    "                    verbose_eval=verbose_eval,\n",
    "                    early_stopping_rounds=early_stop,\n",
    "                    callbacks=[pruning_callback],\n",
    "                    # categorical_feature = cat_features,\n",
    "                    categorical_feature = 'auto',\n",
    "                    )\n",
    "\n",
    "    # predictions\n",
    "    y_pred_valid = model.predict(X_valid, num_iteration=model.best_iteration)   # , cat_features=cat_features\n",
    "\n",
    "    print('#'*25,'이번 trial의 fold 중 가장 좋은 스코어는 다음과 같습니다.','#'*25)\n",
    "    print('best_score', model.best_score)\n",
    "    log = {'train_auc': model.best_score['training']['auc'],\n",
    "           'valid_auc': model.best_score['valid_1']['auc']}\n",
    "    return model, y_pred_valid, log\n",
    "\n",
    "def objective_with_prune(\n",
    "                        trial: Trial, \n",
    "                        seed=seed,\n",
    "                        folds=folds,\n",
    "                        cat_features=cat_features,\n",
    "                        model_name=model_name):\n",
    "\n",
    "    \"\"\"This method is completely same with previous `objective` method except calling `fit_lgbm_with_pruning`\"\"\"\n",
    "\n",
    "    gc.collect()\n",
    "    print('='*100)\n",
    "    # print('='*100)\n",
    "    # print('cat_features : ', cat_features)\n",
    "    model_upper_dir = f'../models/{folds}-fold_optuna_{model_name}'\n",
    "\n",
    "    valid_score = 0\n",
    "    fold_counter = 0\n",
    "    kf = KFold(n_splits=5, shuffle=True, random_state=seed)\n",
    "    for train_idx, valid_idx in kf.split(df_train.groupby(['userID']), df_train.groupby(['userID'])):\n",
    "        print(\"=\"*25, f\"{fold_counter}번째 fold\", \"=\"*25)\n",
    "        train_data = df_train.loc[df_train.userID.isin(train_idx),:]\n",
    "        train_data = train_data.drop(['answerCode'],axis=1), train_data['answerCode'] \n",
    "        valid_data = df_train.loc[df_train.userID.isin(valid_idx),:]\n",
    "        valid_data = valid_data.drop(['answerCode'],axis=1), valid_data['answerCode'] \n",
    "\n",
    "        print(f'train length : {train_data[0].shape[0]},  valid length : {valid_data[0].shape[0]}')\n",
    "        # print(train_data[0].shape[0]+valid_data[0].shape[0])\n",
    "\n",
    "        model, y_pred_valid, log = fit_lgbm_with_pruning(trial, train_data, valid_data,\n",
    "                                                        # cat_features=cat_features,\n",
    "                                                        num_rounds=num_rounds)\n",
    "\n",
    "        gc.collect()\n",
    "\n",
    "        # Save Model\n",
    "        os.makedirs(f'{model_upper_dir}/{fold_counter}fold',exist_ok=True)\n",
    "        joblib.dump(model, f'{model_upper_dir}/{fold_counter}fold/lgb.pkl')\n",
    "\n",
    "        valid_score += log[\"valid_auc\"]\n",
    "        fold_counter += 1\n",
    "    valid_score /= folds\n",
    "    return valid_score\n"
   ]
  },
  {
   "cell_type": "markdown",
   "metadata": {},
   "source": [
    "## 4. 훈련 및 검증"
   ]
  },
  {
   "cell_type": "code",
   "execution_count": 29,
   "metadata": {},
   "outputs": [
    {
     "name": "stdout",
     "output_type": "stream",
     "text": [
      "====================================================================================================\n",
      "========================= 0번째 fold =========================\n",
      "train length : 2000157,  valid length : 525799\n",
      "training LGB:\n",
      "Training until validation scores don't improve for 100 rounds\n",
      "[150]\ttraining's auc: 0.792137\tvalid_1's auc: 0.788257\n",
      "[300]\ttraining's auc: 0.797376\tvalid_1's auc: 0.790981\n",
      "[450]\ttraining's auc: 0.80013\tvalid_1's auc: 0.791889\n",
      "[600]\ttraining's auc: 0.80246\tvalid_1's auc: 0.792179\n",
      "[750]\ttraining's auc: 0.804348\tvalid_1's auc: 0.792239\n",
      "Early stopping, best iteration is:\n",
      "[667]\ttraining's auc: 0.803319\tvalid_1's auc: 0.792279\n",
      "######################### 이번 trial의 fold 중 가장 좋은 스코어는 다음과 같습니다. #########################\n",
      "best_score defaultdict(<class 'collections.OrderedDict'>, {'training': OrderedDict([('auc', 0.8033188126574216)]), 'valid_1': OrderedDict([('auc', 0.7922790417015642)])})\n",
      "========================= 1번째 fold =========================\n",
      "train length : 2008829,  valid length : 517127\n",
      "training LGB:\n",
      "Training until validation scores don't improve for 100 rounds\n",
      "[150]\ttraining's auc: 0.792313\tvalid_1's auc: 0.788331\n",
      "[300]\ttraining's auc: 0.797515\tvalid_1's auc: 0.790611\n",
      "[450]\ttraining's auc: 0.800211\tvalid_1's auc: 0.791357\n",
      "[600]\ttraining's auc: 0.80251\tvalid_1's auc: 0.791608\n",
      "[750]\ttraining's auc: 0.804442\tvalid_1's auc: 0.791783\n",
      "[900]\ttraining's auc: 0.806147\tvalid_1's auc: 0.791785\n",
      "Early stopping, best iteration is:\n",
      "[882]\ttraining's auc: 0.805906\tvalid_1's auc: 0.791816\n",
      "######################### 이번 trial의 fold 중 가장 좋은 스코어는 다음과 같습니다. #########################\n",
      "best_score defaultdict(<class 'collections.OrderedDict'>, {'training': OrderedDict([('auc', 0.8059061534064376)]), 'valid_1': OrderedDict([('auc', 0.7918162140632582)])})\n",
      "========================= 2번째 fold =========================\n",
      "train length : 2044934,  valid length : 481022\n",
      "training LGB:\n",
      "Training until validation scores don't improve for 100 rounds\n",
      "[150]\ttraining's auc: 0.785506\tvalid_1's auc: 0.781875\n",
      "[300]\ttraining's auc: 0.793956\tvalid_1's auc: 0.789462\n",
      "[450]\ttraining's auc: 0.797744\tvalid_1's auc: 0.791907\n",
      "[600]\ttraining's auc: 0.799884\tvalid_1's auc: 0.792504\n",
      "[750]\ttraining's auc: 0.801714\tvalid_1's auc: 0.79314\n",
      "[900]\ttraining's auc: 0.803252\tvalid_1's auc: 0.793333\n",
      "Early stopping, best iteration is:\n",
      "[892]\ttraining's auc: 0.803176\tvalid_1's auc: 0.793349\n",
      "######################### 이번 trial의 fold 중 가장 좋은 스코어는 다음과 같습니다. #########################\n",
      "best_score defaultdict(<class 'collections.OrderedDict'>, {'training': OrderedDict([('auc', 0.8031760407845383)]), 'valid_1': OrderedDict([('auc', 0.793348651627528)])})\n",
      "========================= 3번째 fold =========================\n",
      "train length : 2011322,  valid length : 514634\n",
      "training LGB:\n",
      "Training until validation scores don't improve for 100 rounds\n",
      "[150]\ttraining's auc: 0.792184\tvalid_1's auc: 0.787637\n",
      "[300]\ttraining's auc: 0.797405\tvalid_1's auc: 0.790298\n",
      "[450]\ttraining's auc: 0.80024\tvalid_1's auc: 0.791083\n",
      "[600]\ttraining's auc: 0.802638\tvalid_1's auc: 0.791315\n",
      "[750]\ttraining's auc: 0.804422\tvalid_1's auc: 0.791434\n",
      "Early stopping, best iteration is:\n",
      "[739]\ttraining's auc: 0.804276\tvalid_1's auc: 0.791452\n",
      "######################### 이번 trial의 fold 중 가장 좋은 스코어는 다음과 같습니다. #########################\n",
      "best_score defaultdict(<class 'collections.OrderedDict'>, {'training': OrderedDict([('auc', 0.8042761352856674)]), 'valid_1': OrderedDict([('auc', 0.7914518594811397)])})\n",
      "========================= 4번째 fold =========================\n",
      "train length : 2038582,  valid length : 487374\n",
      "training LGB:\n",
      "Training until validation scores don't improve for 100 rounds\n",
      "[150]\ttraining's auc: 0.791771\tvalid_1's auc: 0.789831\n",
      "[300]\ttraining's auc: 0.796999\tvalid_1's auc: 0.792483\n",
      "[450]\ttraining's auc: 0.799797\tvalid_1's auc: 0.793244\n",
      "[600]\ttraining's auc: 0.802107\tvalid_1's auc: 0.793321\n",
      "Early stopping, best iteration is:\n",
      "[586]\ttraining's auc: 0.801829\tvalid_1's auc: 0.79336\n",
      "######################### 이번 trial의 fold 중 가장 좋은 스코어는 다음과 같습니다. #########################\n",
      "best_score defaultdict(<class 'collections.OrderedDict'>, {'training': OrderedDict([('auc', 0.8018286128343072)]), 'valid_1': OrderedDict([('auc', 0.793359745299275)])})\n"
     ]
    },
    {
     "name": "stderr",
     "output_type": "stream",
     "text": [
      "\u001b[32m[I 2021-05-28 21:33:35,269]\u001b[0m Finished trial#0 resulted in value: 0.792451102434553. Current best value is 0.792451102434553 with parameters: {'max_depth': 16, 'learning_rate': 0.050671953554186085, 'lambda_l1': 1.518763655503233, 'lambda_l2': 31.722433922870845, 'bagging_fraction': 0.05, 'feature_fraction': 0.2}.\u001b[0m\n"
     ]
    },
    {
     "name": "stdout",
     "output_type": "stream",
     "text": [
      "====================================================================================================\n",
      "========================= 0번째 fold =========================\n",
      "train length : 2000157,  valid length : 525799\n",
      "training LGB:\n",
      "Training until validation scores don't improve for 100 rounds\n",
      "[150]\ttraining's auc: 0.796952\tvalid_1's auc: 0.791412\n",
      "[300]\ttraining's auc: 0.801645\tvalid_1's auc: 0.792297\n",
      "Early stopping, best iteration is:\n",
      "[346]\ttraining's auc: 0.802622\tvalid_1's auc: 0.792331\n",
      "######################### 이번 trial의 fold 중 가장 좋은 스코어는 다음과 같습니다. #########################\n",
      "best_score defaultdict(<class 'collections.OrderedDict'>, {'training': OrderedDict([('auc', 0.80262204833135)]), 'valid_1': OrderedDict([('auc', 0.792330689018973)])})\n",
      "========================= 1번째 fold =========================\n",
      "train length : 2008829,  valid length : 517127\n",
      "training LGB:\n",
      "Training until validation scores don't improve for 100 rounds\n",
      "[150]\ttraining's auc: 0.797222\tvalid_1's auc: 0.790899\n",
      "[300]\ttraining's auc: 0.801864\tvalid_1's auc: 0.791614\n",
      "[450]\ttraining's auc: 0.80516\tvalid_1's auc: 0.791559\n",
      "Early stopping, best iteration is:\n",
      "[374]\ttraining's auc: 0.803497\tvalid_1's auc: 0.791752\n",
      "######################### 이번 trial의 fold 중 가장 좋은 스코어는 다음과 같습니다. #########################\n",
      "best_score defaultdict(<class 'collections.OrderedDict'>, {'training': OrderedDict([('auc', 0.8034971215754511)]), 'valid_1': OrderedDict([('auc', 0.7917524405265189)])})\n",
      "========================= 2번째 fold =========================\n",
      "train length : 2044934,  valid length : 481022\n",
      "training LGB:\n",
      "Training until validation scores don't improve for 100 rounds\n",
      "[150]\ttraining's auc: 0.795319\tvalid_1's auc: 0.792313\n",
      "[300]\ttraining's auc: 0.799981\tvalid_1's auc: 0.793451\n",
      "[450]\ttraining's auc: 0.802866\tvalid_1's auc: 0.793731\n",
      "Early stopping, best iteration is:\n",
      "[416]\ttraining's auc: 0.802212\tvalid_1's auc: 0.79385\n",
      "######################### 이번 trial의 fold 중 가장 좋은 스코어는 다음과 같습니다. #########################\n",
      "best_score defaultdict(<class 'collections.OrderedDict'>, {'training': OrderedDict([('auc', 0.8022121554944042)]), 'valid_1': OrderedDict([('auc', 0.7938499858135012)])})\n",
      "========================= 3번째 fold =========================\n",
      "train length : 2011322,  valid length : 514634\n",
      "training LGB:\n",
      "Training until validation scores don't improve for 100 rounds\n",
      "[150]\ttraining's auc: 0.797023\tvalid_1's auc: 0.790949\n",
      "[300]\ttraining's auc: 0.801623\tvalid_1's auc: 0.791782\n",
      "[450]\ttraining's auc: 0.804931\tvalid_1's auc: 0.791638\n",
      "Early stopping, best iteration is:\n",
      "[361]\ttraining's auc: 0.802865\tvalid_1's auc: 0.791878\n",
      "######################### 이번 trial의 fold 중 가장 좋은 스코어는 다음과 같습니다. #########################\n",
      "best_score defaultdict(<class 'collections.OrderedDict'>, {'training': OrderedDict([('auc', 0.8028648096140371)]), 'valid_1': OrderedDict([('auc', 0.7918775469037634)])})\n",
      "========================= 4번째 fold =========================\n",
      "train length : 2038582,  valid length : 487374\n",
      "training LGB:\n",
      "Training until validation scores don't improve for 100 rounds\n",
      "[150]\ttraining's auc: 0.79671\tvalid_1's auc: 0.792731\n",
      "[300]\ttraining's auc: 0.801541\tvalid_1's auc: 0.793368\n",
      "[450]\ttraining's auc: 0.80478\tvalid_1's auc: 0.793361\n",
      "Early stopping, best iteration is:\n",
      "[359]\ttraining's auc: 0.802708\tvalid_1's auc: 0.793452\n",
      "######################### 이번 trial의 fold 중 가장 좋은 스코어는 다음과 같습니다. #########################\n",
      "best_score defaultdict(<class 'collections.OrderedDict'>, {'training': OrderedDict([('auc', 0.8027075120993692)]), 'valid_1': OrderedDict([('auc', 0.7934515769908862)])})\n"
     ]
    },
    {
     "name": "stderr",
     "output_type": "stream",
     "text": [
      "\u001b[32m[I 2021-05-28 21:44:18,310]\u001b[0m Finished trial#1 resulted in value: 0.7926524478507286. Current best value is 0.7926524478507286 with parameters: {'max_depth': 7, 'learning_rate': 0.08714769065982761, 'lambda_l1': 8.956842098110462, 'lambda_l2': 31.820411050747754, 'bagging_fraction': 0.1, 'feature_fraction': 0.25}.\u001b[0m\n"
     ]
    },
    {
     "name": "stdout",
     "output_type": "stream",
     "text": [
      "====================================================================================================\n",
      "========================= 0번째 fold =========================\n",
      "train length : 2000157,  valid length : 525799\n",
      "training LGB:\n",
      "Training until validation scores don't improve for 100 rounds\n",
      "[150]\ttraining's auc: 0.799641\tvalid_1's auc: 0.792626\n",
      "Early stopping, best iteration is:\n",
      "[179]\ttraining's auc: 0.800841\tvalid_1's auc: 0.79272\n",
      "######################### 이번 trial의 fold 중 가장 좋은 스코어는 다음과 같습니다. #########################\n",
      "best_score defaultdict(<class 'collections.OrderedDict'>, {'training': OrderedDict([('auc', 0.800840778387536)]), 'valid_1': OrderedDict([('auc', 0.7927197768994597)])})\n",
      "========================= 1번째 fold =========================\n",
      "train length : 2008829,  valid length : 517127\n",
      "training LGB:\n",
      "Training until validation scores don't improve for 100 rounds\n",
      "[150]\ttraining's auc: 0.800106\tvalid_1's auc: 0.791824\n",
      "[300]\ttraining's auc: 0.805427\tvalid_1's auc: 0.791762\n",
      "Early stopping, best iteration is:\n",
      "[205]\ttraining's auc: 0.802289\tvalid_1's auc: 0.791961\n",
      "######################### 이번 trial의 fold 중 가장 좋은 스코어는 다음과 같습니다. #########################\n",
      "best_score defaultdict(<class 'collections.OrderedDict'>, {'training': OrderedDict([('auc', 0.8022888681735572)]), 'valid_1': OrderedDict([('auc', 0.7919605160307195)])})\n",
      "========================= 2번째 fold =========================\n",
      "train length : 2044934,  valid length : 481022\n",
      "training LGB:\n",
      "Training until validation scores don't improve for 100 rounds\n",
      "[150]\ttraining's auc: 0.799782\tvalid_1's auc: 0.793823\n",
      "Early stopping, best iteration is:\n",
      "[190]\ttraining's auc: 0.801448\tvalid_1's auc: 0.794031\n",
      "######################### 이번 trial의 fold 중 가장 좋은 스코어는 다음과 같습니다. #########################\n",
      "best_score defaultdict(<class 'collections.OrderedDict'>, {'training': OrderedDict([('auc', 0.8014481617336596)]), 'valid_1': OrderedDict([('auc', 0.7940314040742719)])})\n",
      "========================= 3번째 fold =========================\n",
      "train length : 2011322,  valid length : 514634\n",
      "training LGB:\n",
      "Training until validation scores don't improve for 100 rounds\n",
      "[150]\ttraining's auc: 0.799686\tvalid_1's auc: 0.792227\n",
      "[300]\ttraining's auc: 0.805037\tvalid_1's auc: 0.792321\n",
      "Early stopping, best iteration is:\n",
      "[209]\ttraining's auc: 0.802008\tvalid_1's auc: 0.792438\n",
      "######################### 이번 trial의 fold 중 가장 좋은 스코어는 다음과 같습니다. #########################\n",
      "best_score defaultdict(<class 'collections.OrderedDict'>, {'training': OrderedDict([('auc', 0.8020084664989856)]), 'valid_1': OrderedDict([('auc', 0.7924377322492545)])})\n",
      "========================= 4번째 fold =========================\n",
      "train length : 2038582,  valid length : 487374\n",
      "training LGB:\n",
      "Training until validation scores don't improve for 100 rounds\n",
      "[150]\ttraining's auc: 0.799651\tvalid_1's auc: 0.793781\n",
      "[300]\ttraining's auc: 0.80495\tvalid_1's auc: 0.793802\n",
      "Early stopping, best iteration is:\n",
      "[235]\ttraining's auc: 0.80286\tvalid_1's auc: 0.79386\n",
      "######################### 이번 trial의 fold 중 가장 좋은 스코어는 다음과 같습니다. #########################\n",
      "best_score defaultdict(<class 'collections.OrderedDict'>, {'training': OrderedDict([('auc', 0.8028597554472646)]), 'valid_1': OrderedDict([('auc', 0.7938603963397831)])})\n"
     ]
    },
    {
     "name": "stderr",
     "output_type": "stream",
     "text": [
      "\u001b[32m[I 2021-05-28 21:52:28,403]\u001b[0m Finished trial#2 resulted in value: 0.7930019651186978. Current best value is 0.7930019651186978 with parameters: {'max_depth': 27, 'learning_rate': 0.09913797027575522, 'lambda_l1': 10.083838308923395, 'lambda_l2': 34.62550067193686, 'bagging_fraction': 0.55, 'feature_fraction': 0.6000000000000001}.\u001b[0m\n"
     ]
    },
    {
     "name": "stdout",
     "output_type": "stream",
     "text": [
      "====================================================================================================\n",
      "========================= 0번째 fold =========================\n",
      "train length : 2000157,  valid length : 525799\n",
      "training LGB:\n",
      "Training until validation scores don't improve for 100 rounds\n",
      "[150]\ttraining's auc: 0.798295\tvalid_1's auc: 0.792164\n",
      "[300]\ttraining's auc: 0.803365\tvalid_1's auc: 0.792517\n",
      "Early stopping, best iteration is:\n",
      "[275]\ttraining's auc: 0.802626\tvalid_1's auc: 0.792588\n",
      "######################### 이번 trial의 fold 중 가장 좋은 스코어는 다음과 같습니다. #########################\n",
      "best_score defaultdict(<class 'collections.OrderedDict'>, {'training': OrderedDict([('auc', 0.8026260285438575)]), 'valid_1': OrderedDict([('auc', 0.7925876112231475)])})\n",
      "========================= 1번째 fold =========================\n",
      "train length : 2008829,  valid length : 517127\n",
      "training LGB:\n",
      "Training until validation scores don't improve for 100 rounds\n",
      "[150]\ttraining's auc: 0.79852\tvalid_1's auc: 0.791682\n",
      "[300]\ttraining's auc: 0.803822\tvalid_1's auc: 0.792016\n",
      "Early stopping, best iteration is:\n",
      "[256]\ttraining's auc: 0.802423\tvalid_1's auc: 0.792112\n",
      "######################### 이번 trial의 fold 중 가장 좋은 스코어는 다음과 같습니다. #########################\n",
      "best_score defaultdict(<class 'collections.OrderedDict'>, {'training': OrderedDict([('auc', 0.8024228789171359)]), 'valid_1': OrderedDict([('auc', 0.7921117433601114)])})\n",
      "========================= 2번째 fold =========================\n",
      "train length : 2044934,  valid length : 481022\n",
      "training LGB:\n",
      "Training until validation scores don't improve for 100 rounds\n",
      "[150]\ttraining's auc: 0.798373\tvalid_1's auc: 0.793499\n",
      "[300]\ttraining's auc: 0.803141\tvalid_1's auc: 0.793971\n",
      "Early stopping, best iteration is:\n",
      "[286]\ttraining's auc: 0.802734\tvalid_1's auc: 0.794031\n",
      "######################### 이번 trial의 fold 중 가장 좋은 스코어는 다음과 같습니다. #########################\n",
      "best_score defaultdict(<class 'collections.OrderedDict'>, {'training': OrderedDict([('auc', 0.8027340705772147)]), 'valid_1': OrderedDict([('auc', 0.7940305828884208)])})\n",
      "========================= 3번째 fold =========================\n",
      "train length : 2011322,  valid length : 514634\n",
      "training LGB:\n",
      "Training until validation scores don't improve for 100 rounds\n",
      "[150]\ttraining's auc: 0.798512\tvalid_1's auc: 0.791786\n",
      "[300]\ttraining's auc: 0.803734\tvalid_1's auc: 0.792161\n",
      "Early stopping, best iteration is:\n",
      "[284]\ttraining's auc: 0.80319\tvalid_1's auc: 0.792208\n",
      "######################### 이번 trial의 fold 중 가장 좋은 스코어는 다음과 같습니다. #########################\n",
      "best_score defaultdict(<class 'collections.OrderedDict'>, {'training': OrderedDict([('auc', 0.8031903540329969)]), 'valid_1': OrderedDict([('auc', 0.7922075347782989)])})\n",
      "========================= 4번째 fold =========================\n",
      "train length : 2038582,  valid length : 487374\n",
      "training LGB:\n",
      "Training until validation scores don't improve for 100 rounds\n",
      "[150]\ttraining's auc: 0.798001\tvalid_1's auc: 0.793489\n",
      "[300]\ttraining's auc: 0.803431\tvalid_1's auc: 0.79366\n",
      "Early stopping, best iteration is:\n",
      "[271]\ttraining's auc: 0.802439\tvalid_1's auc: 0.793779\n",
      "######################### 이번 trial의 fold 중 가장 좋은 스코어는 다음과 같습니다. #########################\n",
      "best_score defaultdict(<class 'collections.OrderedDict'>, {'training': OrderedDict([('auc', 0.8024394874914731)]), 'valid_1': OrderedDict([('auc', 0.7937789698132884)])})\n"
     ]
    },
    {
     "name": "stderr",
     "output_type": "stream",
     "text": [
      "\u001b[32m[I 2021-05-28 22:01:35,145]\u001b[0m Finished trial#3 resulted in value: 0.7929432884126534. Current best value is 0.7930019651186978 with parameters: {'max_depth': 27, 'learning_rate': 0.09913797027575522, 'lambda_l1': 10.083838308923395, 'lambda_l2': 34.62550067193686, 'bagging_fraction': 0.55, 'feature_fraction': 0.6000000000000001}.\u001b[0m\n"
     ]
    },
    {
     "name": "stdout",
     "output_type": "stream",
     "text": [
      "====================================================================================================\n",
      "========================= 0번째 fold =========================\n",
      "train length : 2000157,  valid length : 525799\n",
      "training LGB:\n",
      "Training until validation scores don't improve for 100 rounds\n",
      "[150]\ttraining's auc: 0.796368\tvalid_1's auc: 0.791865\n",
      "[300]\ttraining's auc: 0.800838\tvalid_1's auc: 0.792821\n",
      "[450]\ttraining's auc: 0.803965\tvalid_1's auc: 0.792955\n",
      "Early stopping, best iteration is:\n",
      "[466]\ttraining's auc: 0.804229\tvalid_1's auc: 0.79297\n",
      "######################### 이번 trial의 fold 중 가장 좋은 스코어는 다음과 같습니다. #########################\n",
      "best_score defaultdict(<class 'collections.OrderedDict'>, {'training': OrderedDict([('auc', 0.8042288883678917)]), 'valid_1': OrderedDict([('auc', 0.7929697523296549)])})\n",
      "========================= 1번째 fold =========================\n",
      "train length : 2008829,  valid length : 517127\n",
      "training LGB:\n",
      "Training until validation scores don't improve for 100 rounds\n",
      "[150]\ttraining's auc: 0.796657\tvalid_1's auc: 0.79154\n",
      "[300]\ttraining's auc: 0.801041\tvalid_1's auc: 0.792269\n",
      "Early stopping, best iteration is:\n",
      "[326]\ttraining's auc: 0.801645\tvalid_1's auc: 0.79231\n",
      "######################### 이번 trial의 fold 중 가장 좋은 스코어는 다음과 같습니다. #########################\n",
      "best_score defaultdict(<class 'collections.OrderedDict'>, {'training': OrderedDict([('auc', 0.8016448509722902)]), 'valid_1': OrderedDict([('auc', 0.7923101536062537)])})\n",
      "========================= 2번째 fold =========================\n",
      "train length : 2044934,  valid length : 481022\n",
      "training LGB:\n",
      "Training until validation scores don't improve for 100 rounds\n",
      "[150]\ttraining's auc: 0.796389\tvalid_1's auc: 0.79349\n",
      "[300]\ttraining's auc: 0.800786\tvalid_1's auc: 0.794281\n",
      "[450]\ttraining's auc: 0.804084\tvalid_1's auc: 0.794248\n",
      "Early stopping, best iteration is:\n",
      "[351]\ttraining's auc: 0.801985\tvalid_1's auc: 0.794323\n",
      "######################### 이번 trial의 fold 중 가장 좋은 스코어는 다음과 같습니다. #########################\n",
      "best_score defaultdict(<class 'collections.OrderedDict'>, {'training': OrderedDict([('auc', 0.8019848374254906)]), 'valid_1': OrderedDict([('auc', 0.7943226275781541)])})\n",
      "========================= 3번째 fold =========================\n",
      "train length : 2011322,  valid length : 514634\n",
      "training LGB:\n",
      "Training until validation scores don't improve for 100 rounds\n",
      "[150]\ttraining's auc: 0.796663\tvalid_1's auc: 0.791557\n",
      "[300]\ttraining's auc: 0.800947\tvalid_1's auc: 0.792391\n",
      "[450]\ttraining's auc: 0.804031\tvalid_1's auc: 0.79254\n",
      "Early stopping, best iteration is:\n",
      "[464]\ttraining's auc: 0.804234\tvalid_1's auc: 0.792559\n",
      "######################### 이번 trial의 fold 중 가장 좋은 스코어는 다음과 같습니다. #########################\n",
      "best_score defaultdict(<class 'collections.OrderedDict'>, {'training': OrderedDict([('auc', 0.8042336263596335)]), 'valid_1': OrderedDict([('auc', 0.7925588827374652)])})\n",
      "========================= 4번째 fold =========================\n",
      "train length : 2038582,  valid length : 487374\n",
      "training LGB:\n",
      "Training until validation scores don't improve for 100 rounds\n",
      "[150]\ttraining's auc: 0.796253\tvalid_1's auc: 0.793333\n",
      "[300]\ttraining's auc: 0.800792\tvalid_1's auc: 0.793899\n",
      "[450]\ttraining's auc: 0.803976\tvalid_1's auc: 0.793989\n",
      "Early stopping, best iteration is:\n",
      "[449]\ttraining's auc: 0.803955\tvalid_1's auc: 0.79399\n",
      "######################### 이번 trial의 fold 중 가장 좋은 스코어는 다음과 같습니다. #########################\n",
      "best_score defaultdict(<class 'collections.OrderedDict'>, {'training': OrderedDict([('auc', 0.8039551095217671)]), 'valid_1': OrderedDict([('auc', 0.7939899257041467)])})\n"
     ]
    },
    {
     "name": "stderr",
     "output_type": "stream",
     "text": [
      "\u001b[32m[I 2021-05-28 22:14:14,199]\u001b[0m Finished trial#4 resulted in value: 0.7932302683911349. Current best value is 0.7932302683911349 with parameters: {'max_depth': 13, 'learning_rate': 0.060726770566274624, 'lambda_l1': 17.72458584425072, 'lambda_l2': 26.923327016236897, 'bagging_fraction': 0.45, 'feature_fraction': 0.5}.\u001b[0m\n"
     ]
    },
    {
     "name": "stdout",
     "output_type": "stream",
     "text": [
      "====================================================================================================\n",
      "========================= 0번째 fold =========================\n",
      "train length : 2000157,  valid length : 525799\n",
      "training LGB:\n",
      "Training until validation scores don't improve for 100 rounds\n"
     ]
    },
    {
     "name": "stderr",
     "output_type": "stream",
     "text": [
      "\u001b[32m[I 2021-05-28 22:14:30,235]\u001b[0m Setting status of trial#5 as TrialState.PRUNED. Trial was pruned at iteration 34.\u001b[0m\n"
     ]
    },
    {
     "name": "stdout",
     "output_type": "stream",
     "text": [
      "====================================================================================================\n",
      "========================= 0번째 fold =========================\n",
      "train length : 2000157,  valid length : 525799\n",
      "training LGB:\n",
      "Training until validation scores don't improve for 100 rounds\n"
     ]
    },
    {
     "name": "stderr",
     "output_type": "stream",
     "text": [
      "\u001b[32m[I 2021-05-28 22:14:41,989]\u001b[0m Setting status of trial#6 as TrialState.PRUNED. Trial was pruned at iteration 21.\u001b[0m\n"
     ]
    },
    {
     "name": "stdout",
     "output_type": "stream",
     "text": [
      "====================================================================================================\n",
      "========================= 0번째 fold =========================\n",
      "train length : 2000157,  valid length : 525799\n",
      "training LGB:\n",
      "Training until validation scores don't improve for 100 rounds\n"
     ]
    },
    {
     "name": "stderr",
     "output_type": "stream",
     "text": [
      "\u001b[32m[I 2021-05-28 22:14:51,581]\u001b[0m Setting status of trial#7 as TrialState.PRUNED. Trial was pruned at iteration 21.\u001b[0m\n"
     ]
    },
    {
     "name": "stdout",
     "output_type": "stream",
     "text": [
      "====================================================================================================\n",
      "========================= 0번째 fold =========================\n",
      "train length : 2000157,  valid length : 525799\n",
      "training LGB:\n",
      "Training until validation scores don't improve for 100 rounds\n"
     ]
    },
    {
     "name": "stderr",
     "output_type": "stream",
     "text": [
      "\u001b[32m[I 2021-05-28 22:15:01,964]\u001b[0m Setting status of trial#8 as TrialState.PRUNED. Trial was pruned at iteration 21.\u001b[0m\n"
     ]
    },
    {
     "name": "stdout",
     "output_type": "stream",
     "text": [
      "====================================================================================================\n",
      "========================= 0번째 fold =========================\n",
      "train length : 2000157,  valid length : 525799\n",
      "training LGB:\n",
      "Training until validation scores don't improve for 100 rounds\n"
     ]
    },
    {
     "name": "stderr",
     "output_type": "stream",
     "text": [
      "\u001b[32m[I 2021-05-28 22:15:12,852]\u001b[0m Setting status of trial#9 as TrialState.PRUNED. Trial was pruned at iteration 21.\u001b[0m\n"
     ]
    },
    {
     "name": "stdout",
     "output_type": "stream",
     "text": [
      "====================================================================================================\n",
      "========================= 0번째 fold =========================\n",
      "train length : 2000157,  valid length : 525799\n",
      "training LGB:\n",
      "Training until validation scores don't improve for 100 rounds\n"
     ]
    },
    {
     "name": "stderr",
     "output_type": "stream",
     "text": [
      "\u001b[32m[I 2021-05-28 22:15:24,632]\u001b[0m Setting status of trial#10 as TrialState.PRUNED. Trial was pruned at iteration 21.\u001b[0m\n"
     ]
    },
    {
     "name": "stdout",
     "output_type": "stream",
     "text": [
      "====================================================================================================\n",
      "========================= 0번째 fold =========================\n",
      "train length : 2000157,  valid length : 525799\n",
      "training LGB:\n",
      "Training until validation scores don't improve for 100 rounds\n",
      "[150]\ttraining's auc: 0.79809\tvalid_1's auc: 0.792557\n",
      "[300]\ttraining's auc: 0.802835\tvalid_1's auc: 0.792931\n",
      "Early stopping, best iteration is:\n",
      "[237]\ttraining's auc: 0.80107\tvalid_1's auc: 0.792987\n",
      "######################### 이번 trial의 fold 중 가장 좋은 스코어는 다음과 같습니다. #########################\n",
      "best_score defaultdict(<class 'collections.OrderedDict'>, {'training': OrderedDict([('auc', 0.8010699111926227)]), 'valid_1': OrderedDict([('auc', 0.7929874165391362)])})\n",
      "========================= 1번째 fold =========================\n",
      "train length : 2008829,  valid length : 517127\n",
      "training LGB:\n",
      "Training until validation scores don't improve for 100 rounds\n",
      "[150]\ttraining's auc: 0.798282\tvalid_1's auc: 0.791967\n",
      "[300]\ttraining's auc: 0.803123\tvalid_1's auc: 0.792133\n",
      "Early stopping, best iteration is:\n",
      "[273]\ttraining's auc: 0.802329\tvalid_1's auc: 0.792204\n",
      "######################### 이번 trial의 fold 중 가장 좋은 스코어는 다음과 같습니다. #########################\n",
      "best_score defaultdict(<class 'collections.OrderedDict'>, {'training': OrderedDict([('auc', 0.8023285871695297)]), 'valid_1': OrderedDict([('auc', 0.7922037852039024)])})\n",
      "========================= 2번째 fold =========================\n",
      "train length : 2044934,  valid length : 481022\n",
      "training LGB:\n",
      "Training until validation scores don't improve for 100 rounds\n",
      "[150]\ttraining's auc: 0.797649\tvalid_1's auc: 0.794129\n",
      "[300]\ttraining's auc: 0.802769\tvalid_1's auc: 0.794269\n",
      "Early stopping, best iteration is:\n",
      "[258]\ttraining's auc: 0.801515\tvalid_1's auc: 0.794366\n",
      "######################### 이번 trial의 fold 중 가장 좋은 스코어는 다음과 같습니다. #########################\n",
      "best_score defaultdict(<class 'collections.OrderedDict'>, {'training': OrderedDict([('auc', 0.801514752841875)]), 'valid_1': OrderedDict([('auc', 0.7943659113750059)])})\n",
      "========================= 3번째 fold =========================\n",
      "train length : 2011322,  valid length : 514634\n",
      "training LGB:\n",
      "Training until validation scores don't improve for 100 rounds\n",
      "[150]\ttraining's auc: 0.798085\tvalid_1's auc: 0.792191\n",
      "[300]\ttraining's auc: 0.802537\tvalid_1's auc: 0.792595\n",
      "Early stopping, best iteration is:\n",
      "[275]\ttraining's auc: 0.801901\tvalid_1's auc: 0.792615\n",
      "######################### 이번 trial의 fold 중 가장 좋은 스코어는 다음과 같습니다. #########################\n",
      "best_score defaultdict(<class 'collections.OrderedDict'>, {'training': OrderedDict([('auc', 0.8019007317636024)]), 'valid_1': OrderedDict([('auc', 0.7926151511926286)])})\n",
      "========================= 4번째 fold =========================\n",
      "train length : 2038582,  valid length : 487374\n",
      "training LGB:\n",
      "Training until validation scores don't improve for 100 rounds\n",
      "[150]\ttraining's auc: 0.79792\tvalid_1's auc: 0.793812\n",
      "[300]\ttraining's auc: 0.802612\tvalid_1's auc: 0.793968\n",
      "Early stopping, best iteration is:\n",
      "[255]\ttraining's auc: 0.801284\tvalid_1's auc: 0.794036\n",
      "######################### 이번 trial의 fold 중 가장 좋은 스코어는 다음과 같습니다. #########################\n",
      "best_score defaultdict(<class 'collections.OrderedDict'>, {'training': OrderedDict([('auc', 0.8012839993389294)]), 'valid_1': OrderedDict([('auc', 0.7940357379539823)])})\n"
     ]
    },
    {
     "name": "stderr",
     "output_type": "stream",
     "text": [
      "\u001b[32m[I 2021-05-28 22:24:45,006]\u001b[0m Finished trial#11 resulted in value: 0.7932416004529312. Current best value is 0.7932416004529312 with parameters: {'max_depth': 30, 'learning_rate': 0.07111961859920349, 'lambda_l1': 11.080862756420968, 'lambda_l2': 34.491702962288315, 'bagging_fraction': 0.5, 'feature_fraction': 0.7}.\u001b[0m\n"
     ]
    },
    {
     "name": "stdout",
     "output_type": "stream",
     "text": [
      "====================================================================================================\n",
      "========================= 0번째 fold =========================\n",
      "train length : 2000157,  valid length : 525799\n",
      "training LGB:\n",
      "Training until validation scores don't improve for 100 rounds\n",
      "[150]\ttraining's auc: 0.798019\tvalid_1's auc: 0.79244\n",
      "[300]\ttraining's auc: 0.802565\tvalid_1's auc: 0.792716\n",
      "Early stopping, best iteration is:\n",
      "[255]\ttraining's auc: 0.801374\tvalid_1's auc: 0.792792\n",
      "######################### 이번 trial의 fold 중 가장 좋은 스코어는 다음과 같습니다. #########################\n",
      "best_score defaultdict(<class 'collections.OrderedDict'>, {'training': OrderedDict([('auc', 0.8013737702948601)]), 'valid_1': OrderedDict([('auc', 0.7927922263197427)])})\n",
      "========================= 1번째 fold =========================\n",
      "train length : 2008829,  valid length : 517127\n",
      "training LGB:\n",
      "Training until validation scores don't improve for 100 rounds\n",
      "[150]\ttraining's auc: 0.798213\tvalid_1's auc: 0.79207\n",
      "[300]\ttraining's auc: 0.802973\tvalid_1's auc: 0.792286\n",
      "Early stopping, best iteration is:\n",
      "[323]\ttraining's auc: 0.80352\tvalid_1's auc: 0.792322\n",
      "######################### 이번 trial의 fold 중 가장 좋은 스코어는 다음과 같습니다. #########################\n",
      "best_score defaultdict(<class 'collections.OrderedDict'>, {'training': OrderedDict([('auc', 0.8035195444501381)]), 'valid_1': OrderedDict([('auc', 0.7923222341191951)])})\n",
      "========================= 2번째 fold =========================\n",
      "train length : 2044934,  valid length : 481022\n",
      "training LGB:\n",
      "Training until validation scores don't improve for 100 rounds\n",
      "[150]\ttraining's auc: 0.797623\tvalid_1's auc: 0.794043\n",
      "[300]\ttraining's auc: 0.802651\tvalid_1's auc: 0.794238\n",
      "Early stopping, best iteration is:\n",
      "[294]\ttraining's auc: 0.802456\tvalid_1's auc: 0.794259\n",
      "######################### 이번 trial의 fold 중 가장 좋은 스코어는 다음과 같습니다. #########################\n",
      "best_score defaultdict(<class 'collections.OrderedDict'>, {'training': OrderedDict([('auc', 0.8024562558492814)]), 'valid_1': OrderedDict([('auc', 0.7942586633691329)])})\n",
      "========================= 3번째 fold =========================\n",
      "train length : 2011322,  valid length : 514634\n",
      "training LGB:\n",
      "Training until validation scores don't improve for 100 rounds\n",
      "[150]\ttraining's auc: 0.797964\tvalid_1's auc: 0.792119\n",
      "[300]\ttraining's auc: 0.80283\tvalid_1's auc: 0.792436\n",
      "[450]\ttraining's auc: 0.806367\tvalid_1's auc: 0.79245\n"
     ]
    },
    {
     "name": "stderr",
     "output_type": "stream",
     "text": [
      "\u001b[32m[I 2021-05-28 22:33:16,069]\u001b[0m Setting status of trial#12 as TrialState.PRUNED. Trial was pruned at iteration 474.\u001b[0m\n"
     ]
    },
    {
     "name": "stdout",
     "output_type": "stream",
     "text": [
      "====================================================================================================\n",
      "========================= 0번째 fold =========================\n",
      "train length : 2000157,  valid length : 525799\n",
      "training LGB:\n",
      "Training until validation scores don't improve for 100 rounds\n",
      "[150]\ttraining's auc: 0.797571\tvalid_1's auc: 0.792254\n",
      "[300]\ttraining's auc: 0.802318\tvalid_1's auc: 0.792782\n",
      "Early stopping, best iteration is:\n",
      "[325]\ttraining's auc: 0.802953\tvalid_1's auc: 0.792813\n",
      "######################### 이번 trial의 fold 중 가장 좋은 스코어는 다음과 같습니다. #########################\n",
      "best_score defaultdict(<class 'collections.OrderedDict'>, {'training': OrderedDict([('auc', 0.802952963986007)]), 'valid_1': OrderedDict([('auc', 0.7928131667090542)])})\n",
      "========================= 1번째 fold =========================\n",
      "train length : 2008829,  valid length : 517127\n",
      "training LGB:\n",
      "Training until validation scores don't improve for 100 rounds\n",
      "[150]\ttraining's auc: 0.797757\tvalid_1's auc: 0.791733\n",
      "[300]\ttraining's auc: 0.802709\tvalid_1's auc: 0.79217\n",
      "[450]\ttraining's auc: 0.806275\tvalid_1's auc: 0.792296\n"
     ]
    },
    {
     "name": "stderr",
     "output_type": "stream",
     "text": [
      "\u001b[32m[I 2021-05-28 22:37:49,608]\u001b[0m Setting status of trial#13 as TrialState.PRUNED. Trial was pruned at iteration 474.\u001b[0m\n"
     ]
    },
    {
     "name": "stdout",
     "output_type": "stream",
     "text": [
      "====================================================================================================\n",
      "========================= 0번째 fold =========================\n",
      "train length : 2000157,  valid length : 525799\n",
      "training LGB:\n",
      "Training until validation scores don't improve for 100 rounds\n",
      "[150]\ttraining's auc: 0.798225\tvalid_1's auc: 0.792608\n",
      "[300]\ttraining's auc: 0.802996\tvalid_1's auc: 0.792871\n",
      "Early stopping, best iteration is:\n",
      "[314]\ttraining's auc: 0.803353\tvalid_1's auc: 0.79291\n",
      "######################### 이번 trial의 fold 중 가장 좋은 스코어는 다음과 같습니다. #########################\n",
      "best_score defaultdict(<class 'collections.OrderedDict'>, {'training': OrderedDict([('auc', 0.8033526662191349)]), 'valid_1': OrderedDict([('auc', 0.7929096049962769)])})\n",
      "========================= 1번째 fold =========================\n",
      "train length : 2008829,  valid length : 517127\n",
      "training LGB:\n",
      "Training until validation scores don't improve for 100 rounds\n",
      "[150]\ttraining's auc: 0.798296\tvalid_1's auc: 0.792128\n",
      "Early stopping, best iteration is:\n",
      "[180]\ttraining's auc: 0.799401\tvalid_1's auc: 0.792348\n",
      "######################### 이번 trial의 fold 중 가장 좋은 스코어는 다음과 같습니다. #########################\n",
      "best_score defaultdict(<class 'collections.OrderedDict'>, {'training': OrderedDict([('auc', 0.7994012893848392)]), 'valid_1': OrderedDict([('auc', 0.7923483100713913)])})\n",
      "========================= 2번째 fold =========================\n",
      "train length : 2044934,  valid length : 481022\n",
      "training LGB:\n",
      "Training until validation scores don't improve for 100 rounds\n",
      "[150]\ttraining's auc: 0.797877\tvalid_1's auc: 0.793814\n",
      "[300]\ttraining's auc: 0.802828\tvalid_1's auc: 0.794142\n",
      "[450]\ttraining's auc: 0.806488\tvalid_1's auc: 0.794056\n",
      "Early stopping, best iteration is:\n",
      "[374]\ttraining's auc: 0.804722\tvalid_1's auc: 0.794213\n",
      "######################### 이번 trial의 fold 중 가장 좋은 스코어는 다음과 같습니다. #########################\n",
      "best_score defaultdict(<class 'collections.OrderedDict'>, {'training': OrderedDict([('auc', 0.8047222569621674)]), 'valid_1': OrderedDict([('auc', 0.7942126684537981)])})\n",
      "========================= 3번째 fold =========================\n",
      "train length : 2011322,  valid length : 514634\n",
      "training LGB:\n",
      "Training until validation scores don't improve for 100 rounds\n",
      "[150]\ttraining's auc: 0.798212\tvalid_1's auc: 0.792094\n",
      "[300]\ttraining's auc: 0.802941\tvalid_1's auc: 0.792382\n",
      "[450]\ttraining's auc: 0.806484\tvalid_1's auc: 0.792424\n",
      "Early stopping, best iteration is:\n",
      "[373]\ttraining's auc: 0.804793\tvalid_1's auc: 0.792456\n",
      "######################### 이번 trial의 fold 중 가장 좋은 스코어는 다음과 같습니다. #########################\n",
      "best_score defaultdict(<class 'collections.OrderedDict'>, {'training': OrderedDict([('auc', 0.8047926457897399)]), 'valid_1': OrderedDict([('auc', 0.7924564914765627)])})\n",
      "========================= 4번째 fold =========================\n",
      "train length : 2038582,  valid length : 487374\n",
      "training LGB:\n",
      "Training until validation scores don't improve for 100 rounds\n",
      "[150]\ttraining's auc: 0.798127\tvalid_1's auc: 0.793946\n",
      "[300]\ttraining's auc: 0.803056\tvalid_1's auc: 0.794075\n",
      "Early stopping, best iteration is:\n",
      "[253]\ttraining's auc: 0.801732\tvalid_1's auc: 0.794179\n",
      "######################### 이번 trial의 fold 중 가장 좋은 스코어는 다음과 같습니다. #########################\n",
      "best_score defaultdict(<class 'collections.OrderedDict'>, {'training': OrderedDict([('auc', 0.8017316798369989)]), 'valid_1': OrderedDict([('auc', 0.7941790326616696)])})\n"
     ]
    },
    {
     "name": "stderr",
     "output_type": "stream",
     "text": [
      "\u001b[32m[I 2021-05-28 22:48:20,937]\u001b[0m Finished trial#14 resulted in value: 0.7932212215319396. Current best value is 0.7932416004529312 with parameters: {'max_depth': 30, 'learning_rate': 0.07111961859920349, 'lambda_l1': 11.080862756420968, 'lambda_l2': 34.491702962288315, 'bagging_fraction': 0.5, 'feature_fraction': 0.7}.\u001b[0m\n"
     ]
    },
    {
     "name": "stdout",
     "output_type": "stream",
     "text": [
      "====================================================================================================\n",
      "========================= 0번째 fold =========================\n",
      "train length : 2000157,  valid length : 525799\n",
      "training LGB:\n",
      "Training until validation scores don't improve for 100 rounds\n"
     ]
    },
    {
     "name": "stderr",
     "output_type": "stream",
     "text": [
      "\u001b[32m[I 2021-05-28 22:48:32,383]\u001b[0m Setting status of trial#15 as TrialState.PRUNED. Trial was pruned at iteration 21.\u001b[0m\n"
     ]
    },
    {
     "name": "stdout",
     "output_type": "stream",
     "text": [
      "====================================================================================================\n",
      "========================= 0번째 fold =========================\n",
      "train length : 2000157,  valid length : 525799\n",
      "training LGB:\n",
      "Training until validation scores don't improve for 100 rounds\n"
     ]
    },
    {
     "name": "stderr",
     "output_type": "stream",
     "text": [
      "\u001b[32m[I 2021-05-28 22:48:43,387]\u001b[0m Setting status of trial#16 as TrialState.PRUNED. Trial was pruned at iteration 21.\u001b[0m\n"
     ]
    },
    {
     "name": "stdout",
     "output_type": "stream",
     "text": [
      "====================================================================================================\n",
      "========================= 0번째 fold =========================\n",
      "train length : 2000157,  valid length : 525799\n",
      "training LGB:\n",
      "Training until validation scores don't improve for 100 rounds\n",
      "[150]\ttraining's auc: 0.798498\tvalid_1's auc: 0.792733\n",
      "[300]\ttraining's auc: 0.803372\tvalid_1's auc: 0.792974\n",
      "Early stopping, best iteration is:\n",
      "[280]\ttraining's auc: 0.80278\tvalid_1's auc: 0.793046\n",
      "######################### 이번 trial의 fold 중 가장 좋은 스코어는 다음과 같습니다. #########################\n",
      "best_score defaultdict(<class 'collections.OrderedDict'>, {'training': OrderedDict([('auc', 0.8027799367753987)]), 'valid_1': OrderedDict([('auc', 0.7930461612048114)])})\n",
      "========================= 1번째 fold =========================\n",
      "train length : 2008829,  valid length : 517127\n",
      "training LGB:\n",
      "Training until validation scores don't improve for 100 rounds\n",
      "[150]\ttraining's auc: 0.799106\tvalid_1's auc: 0.791906\n",
      "Early stopping, best iteration is:\n",
      "[188]\ttraining's auc: 0.800447\tvalid_1's auc: 0.79212\n",
      "######################### 이번 trial의 fold 중 가장 좋은 스코어는 다음과 같습니다. #########################\n",
      "best_score defaultdict(<class 'collections.OrderedDict'>, {'training': OrderedDict([('auc', 0.8004472924038857)]), 'valid_1': OrderedDict([('auc', 0.7921199089512978)])})\n",
      "========================= 2번째 fold =========================\n",
      "train length : 2044934,  valid length : 481022\n",
      "training LGB:\n",
      "Training until validation scores don't improve for 100 rounds\n",
      "[150]\ttraining's auc: 0.798472\tvalid_1's auc: 0.793959\n",
      "Early stopping, best iteration is:\n",
      "[156]\ttraining's auc: 0.798704\tvalid_1's auc: 0.793998\n",
      "######################### 이번 trial의 fold 중 가장 좋은 스코어는 다음과 같습니다. #########################\n",
      "best_score defaultdict(<class 'collections.OrderedDict'>, {'training': OrderedDict([('auc', 0.7987037681276985)]), 'valid_1': OrderedDict([('auc', 0.7939981988701459)])})\n",
      "========================= 3번째 fold =========================\n",
      "train length : 2011322,  valid length : 514634\n",
      "training LGB:\n",
      "Training until validation scores don't improve for 100 rounds\n",
      "[150]\ttraining's auc: 0.79864\tvalid_1's auc: 0.79216\n",
      "[300]\ttraining's auc: 0.803721\tvalid_1's auc: 0.792375\n",
      "Early stopping, best iteration is:\n",
      "[274]\ttraining's auc: 0.802783\tvalid_1's auc: 0.79239\n",
      "######################### 이번 trial의 fold 중 가장 좋은 스코어는 다음과 같습니다. #########################\n",
      "best_score defaultdict(<class 'collections.OrderedDict'>, {'training': OrderedDict([('auc', 0.802782890555647)]), 'valid_1': OrderedDict([('auc', 0.7923898616984913)])})\n",
      "========================= 4번째 fold =========================\n",
      "train length : 2038582,  valid length : 487374\n",
      "training LGB:\n",
      "Training until validation scores don't improve for 100 rounds\n",
      "[150]\ttraining's auc: 0.798757\tvalid_1's auc: 0.793902\n",
      "[300]\ttraining's auc: 0.803533\tvalid_1's auc: 0.794088\n",
      "Early stopping, best iteration is:\n",
      "[262]\ttraining's auc: 0.802386\tvalid_1's auc: 0.794152\n",
      "######################### 이번 trial의 fold 중 가장 좋은 스코어는 다음과 같습니다. #########################\n",
      "best_score defaultdict(<class 'collections.OrderedDict'>, {'training': OrderedDict([('auc', 0.8023863496270016)]), 'valid_1': OrderedDict([('auc', 0.7941522263519102)])})\n"
     ]
    },
    {
     "name": "stderr",
     "output_type": "stream",
     "text": [
      "\u001b[32m[I 2021-05-28 22:57:22,540]\u001b[0m Finished trial#17 resulted in value: 0.7931412714153312. Current best value is 0.7932416004529312 with parameters: {'max_depth': 30, 'learning_rate': 0.07111961859920349, 'lambda_l1': 11.080862756420968, 'lambda_l2': 34.491702962288315, 'bagging_fraction': 0.5, 'feature_fraction': 0.7}.\u001b[0m\n"
     ]
    },
    {
     "name": "stdout",
     "output_type": "stream",
     "text": [
      "====================================================================================================\n",
      "========================= 0번째 fold =========================\n",
      "train length : 2000157,  valid length : 525799\n",
      "training LGB:\n",
      "Training until validation scores don't improve for 100 rounds\n"
     ]
    },
    {
     "name": "stderr",
     "output_type": "stream",
     "text": [
      "\u001b[32m[I 2021-05-28 22:57:34,243]\u001b[0m Setting status of trial#18 as TrialState.PRUNED. Trial was pruned at iteration 21.\u001b[0m\n"
     ]
    },
    {
     "name": "stdout",
     "output_type": "stream",
     "text": [
      "====================================================================================================\n",
      "========================= 0번째 fold =========================\n",
      "train length : 2000157,  valid length : 525799\n",
      "training LGB:\n",
      "Training until validation scores don't improve for 100 rounds\n"
     ]
    },
    {
     "name": "stderr",
     "output_type": "stream",
     "text": [
      "\u001b[32m[I 2021-05-28 22:57:46,452]\u001b[0m Setting status of trial#19 as TrialState.PRUNED. Trial was pruned at iteration 21.\u001b[0m\n"
     ]
    },
    {
     "name": "stdout",
     "output_type": "stream",
     "text": [
      "====================================================================================================\n",
      "========================= 0번째 fold =========================\n",
      "train length : 2000157,  valid length : 525799\n",
      "training LGB:\n",
      "Training until validation scores don't improve for 100 rounds\n"
     ]
    },
    {
     "name": "stderr",
     "output_type": "stream",
     "text": [
      "\u001b[32m[I 2021-05-28 22:57:58,050]\u001b[0m Setting status of trial#20 as TrialState.PRUNED. Trial was pruned at iteration 21.\u001b[0m\n"
     ]
    },
    {
     "name": "stdout",
     "output_type": "stream",
     "text": [
      "====================================================================================================\n",
      "========================= 0번째 fold =========================\n",
      "train length : 2000157,  valid length : 525799\n",
      "training LGB:\n",
      "Training until validation scores don't improve for 100 rounds\n",
      "[150]\ttraining's auc: 0.798559\tvalid_1's auc: 0.792508\n",
      "[300]\ttraining's auc: 0.803421\tvalid_1's auc: 0.792996\n",
      "Early stopping, best iteration is:\n",
      "[280]\ttraining's auc: 0.802893\tvalid_1's auc: 0.79304\n",
      "######################### 이번 trial의 fold 중 가장 좋은 스코어는 다음과 같습니다. #########################\n",
      "best_score defaultdict(<class 'collections.OrderedDict'>, {'training': OrderedDict([('auc', 0.8028928184040833)]), 'valid_1': OrderedDict([('auc', 0.793039737474557)])})\n",
      "========================= 1번째 fold =========================\n",
      "train length : 2008829,  valid length : 517127\n",
      "training LGB:\n",
      "Training until validation scores don't improve for 100 rounds\n",
      "[150]\ttraining's auc: 0.798666\tvalid_1's auc: 0.792025\n",
      "[300]\ttraining's auc: 0.803824\tvalid_1's auc: 0.792114\n",
      "Early stopping, best iteration is:\n",
      "[222]\ttraining's auc: 0.801243\tvalid_1's auc: 0.792271\n",
      "######################### 이번 trial의 fold 중 가장 좋은 스코어는 다음과 같습니다. #########################\n",
      "best_score defaultdict(<class 'collections.OrderedDict'>, {'training': OrderedDict([('auc', 0.8012427808402492)]), 'valid_1': OrderedDict([('auc', 0.7922709812302594)])})\n",
      "========================= 2번째 fold =========================\n",
      "train length : 2044934,  valid length : 481022\n",
      "training LGB:\n",
      "Training until validation scores don't improve for 100 rounds\n",
      "[150]\ttraining's auc: 0.798231\tvalid_1's auc: 0.793876\n",
      "[300]\ttraining's auc: 0.803339\tvalid_1's auc: 0.794096\n",
      "Early stopping, best iteration is:\n",
      "[266]\ttraining's auc: 0.802353\tvalid_1's auc: 0.794159\n",
      "######################### 이번 trial의 fold 중 가장 좋은 스코어는 다음과 같습니다. #########################\n",
      "best_score defaultdict(<class 'collections.OrderedDict'>, {'training': OrderedDict([('auc', 0.8023529942417073)]), 'valid_1': OrderedDict([('auc', 0.7941587705380545)])})\n",
      "========================= 3번째 fold =========================\n",
      "train length : 2011322,  valid length : 514634\n",
      "training LGB:\n",
      "Training until validation scores don't improve for 100 rounds\n",
      "[150]\ttraining's auc: 0.798477\tvalid_1's auc: 0.792415\n",
      "Early stopping, best iteration is:\n",
      "[178]\ttraining's auc: 0.799583\tvalid_1's auc: 0.792509\n",
      "######################### 이번 trial의 fold 중 가장 좋은 스코어는 다음과 같습니다. #########################\n",
      "best_score defaultdict(<class 'collections.OrderedDict'>, {'training': OrderedDict([('auc', 0.7995834881831744)]), 'valid_1': OrderedDict([('auc', 0.7925093981719477)])})\n",
      "========================= 4번째 fold =========================\n",
      "train length : 2038582,  valid length : 487374\n",
      "training LGB:\n",
      "Training until validation scores don't improve for 100 rounds\n",
      "[150]\ttraining's auc: 0.798274\tvalid_1's auc: 0.793787\n",
      "[300]\ttraining's auc: 0.803369\tvalid_1's auc: 0.793938\n",
      "Early stopping, best iteration is:\n",
      "[230]\ttraining's auc: 0.801123\tvalid_1's auc: 0.794085\n",
      "######################### 이번 trial의 fold 중 가장 좋은 스코어는 다음과 같습니다. #########################\n",
      "best_score defaultdict(<class 'collections.OrderedDict'>, {'training': OrderedDict([('auc', 0.8011225765955502)]), 'valid_1': OrderedDict([('auc', 0.7940850697481389)])})\n"
     ]
    },
    {
     "name": "stderr",
     "output_type": "stream",
     "text": [
      "\u001b[32m[I 2021-05-28 23:06:58,555]\u001b[0m Finished trial#21 resulted in value: 0.7932127914325915. Current best value is 0.7932416004529312 with parameters: {'max_depth': 30, 'learning_rate': 0.07111961859920349, 'lambda_l1': 11.080862756420968, 'lambda_l2': 34.491702962288315, 'bagging_fraction': 0.5, 'feature_fraction': 0.7}.\u001b[0m\n"
     ]
    },
    {
     "name": "stdout",
     "output_type": "stream",
     "text": [
      "====================================================================================================\n",
      "========================= 0번째 fold =========================\n",
      "train length : 2000157,  valid length : 525799\n",
      "training LGB:\n",
      "Training until validation scores don't improve for 100 rounds\n"
     ]
    },
    {
     "name": "stderr",
     "output_type": "stream",
     "text": [
      "\u001b[32m[I 2021-05-28 23:07:10,641]\u001b[0m Setting status of trial#22 as TrialState.PRUNED. Trial was pruned at iteration 21.\u001b[0m\n"
     ]
    },
    {
     "name": "stdout",
     "output_type": "stream",
     "text": [
      "====================================================================================================\n",
      "========================= 0번째 fold =========================\n",
      "train length : 2000157,  valid length : 525799\n",
      "training LGB:\n",
      "Training until validation scores don't improve for 100 rounds\n"
     ]
    },
    {
     "name": "stderr",
     "output_type": "stream",
     "text": [
      "\u001b[32m[I 2021-05-28 23:07:46,283]\u001b[0m Setting status of trial#23 as TrialState.PRUNED. Trial was pruned at iteration 93.\u001b[0m\n"
     ]
    },
    {
     "name": "stdout",
     "output_type": "stream",
     "text": [
      "====================================================================================================\n",
      "========================= 0번째 fold =========================\n",
      "train length : 2000157,  valid length : 525799\n",
      "training LGB:\n",
      "Training until validation scores don't improve for 100 rounds\n"
     ]
    },
    {
     "name": "stderr",
     "output_type": "stream",
     "text": [
      "\u001b[32m[I 2021-05-28 23:07:58,208]\u001b[0m Setting status of trial#24 as TrialState.PRUNED. Trial was pruned at iteration 21.\u001b[0m\n"
     ]
    },
    {
     "name": "stdout",
     "output_type": "stream",
     "text": [
      "====================================================================================================\n",
      "========================= 0번째 fold =========================\n",
      "train length : 2000157,  valid length : 525799\n",
      "training LGB:\n",
      "Training until validation scores don't improve for 100 rounds\n"
     ]
    },
    {
     "name": "stderr",
     "output_type": "stream",
     "text": [
      "\u001b[32m[I 2021-05-28 23:08:10,102]\u001b[0m Setting status of trial#25 as TrialState.PRUNED. Trial was pruned at iteration 21.\u001b[0m\n"
     ]
    },
    {
     "name": "stdout",
     "output_type": "stream",
     "text": [
      "====================================================================================================\n",
      "========================= 0번째 fold =========================\n",
      "train length : 2000157,  valid length : 525799\n",
      "training LGB:\n",
      "Training until validation scores don't improve for 100 rounds\n"
     ]
    },
    {
     "name": "stderr",
     "output_type": "stream",
     "text": [
      "\u001b[32m[I 2021-05-28 23:08:22,071]\u001b[0m Setting status of trial#26 as TrialState.PRUNED. Trial was pruned at iteration 21.\u001b[0m\n"
     ]
    },
    {
     "name": "stdout",
     "output_type": "stream",
     "text": [
      "====================================================================================================\n",
      "========================= 0번째 fold =========================\n",
      "train length : 2000157,  valid length : 525799\n",
      "training LGB:\n",
      "Training until validation scores don't improve for 100 rounds\n"
     ]
    },
    {
     "name": "stderr",
     "output_type": "stream",
     "text": [
      "\u001b[32m[I 2021-05-28 23:08:34,302]\u001b[0m Setting status of trial#27 as TrialState.PRUNED. Trial was pruned at iteration 21.\u001b[0m\n"
     ]
    },
    {
     "name": "stdout",
     "output_type": "stream",
     "text": [
      "====================================================================================================\n",
      "========================= 0번째 fold =========================\n",
      "train length : 2000157,  valid length : 525799\n",
      "training LGB:\n",
      "Training until validation scores don't improve for 100 rounds\n",
      "[150]\ttraining's auc: 0.800006\tvalid_1's auc: 0.792658\n"
     ]
    },
    {
     "name": "stderr",
     "output_type": "stream",
     "text": [
      "\u001b[32m[I 2021-05-28 23:09:56,100]\u001b[0m Setting status of trial#28 as TrialState.PRUNED. Trial was pruned at iteration 272.\u001b[0m\n"
     ]
    },
    {
     "name": "stdout",
     "output_type": "stream",
     "text": [
      "====================================================================================================\n",
      "========================= 0번째 fold =========================\n",
      "train length : 2000157,  valid length : 525799\n",
      "training LGB:\n",
      "Training until validation scores don't improve for 100 rounds\n"
     ]
    },
    {
     "name": "stderr",
     "output_type": "stream",
     "text": [
      "\u001b[32m[I 2021-05-28 23:10:07,448]\u001b[0m Setting status of trial#29 as TrialState.PRUNED. Trial was pruned at iteration 21.\u001b[0m\n"
     ]
    },
    {
     "name": "stdout",
     "output_type": "stream",
     "text": [
      "====================================================================================================\n",
      "========================= 0번째 fold =========================\n",
      "train length : 2000157,  valid length : 525799\n",
      "training LGB:\n",
      "Training until validation scores don't improve for 100 rounds\n"
     ]
    },
    {
     "name": "stderr",
     "output_type": "stream",
     "text": [
      "\u001b[32m[I 2021-05-28 23:10:19,296]\u001b[0m Setting status of trial#30 as TrialState.PRUNED. Trial was pruned at iteration 21.\u001b[0m\n"
     ]
    },
    {
     "name": "stdout",
     "output_type": "stream",
     "text": [
      "====================================================================================================\n",
      "========================= 0번째 fold =========================\n",
      "train length : 2000157,  valid length : 525799\n",
      "training LGB:\n",
      "Training until validation scores don't improve for 100 rounds\n"
     ]
    },
    {
     "name": "stderr",
     "output_type": "stream",
     "text": [
      "\u001b[32m[I 2021-05-28 23:10:31,302]\u001b[0m Setting status of trial#31 as TrialState.PRUNED. Trial was pruned at iteration 21.\u001b[0m\n"
     ]
    },
    {
     "name": "stdout",
     "output_type": "stream",
     "text": [
      "====================================================================================================\n",
      "========================= 0번째 fold =========================\n",
      "train length : 2000157,  valid length : 525799\n",
      "training LGB:\n",
      "Training until validation scores don't improve for 100 rounds\n"
     ]
    },
    {
     "name": "stderr",
     "output_type": "stream",
     "text": [
      "\u001b[32m[I 2021-05-28 23:11:04,135]\u001b[0m Setting status of trial#32 as TrialState.PRUNED. Trial was pruned at iteration 89.\u001b[0m\n"
     ]
    },
    {
     "name": "stdout",
     "output_type": "stream",
     "text": [
      "====================================================================================================\n",
      "========================= 0번째 fold =========================\n",
      "train length : 2000157,  valid length : 525799\n",
      "training LGB:\n",
      "Training until validation scores don't improve for 100 rounds\n"
     ]
    },
    {
     "name": "stderr",
     "output_type": "stream",
     "text": [
      "\u001b[32m[I 2021-05-28 23:11:16,624]\u001b[0m Setting status of trial#33 as TrialState.PRUNED. Trial was pruned at iteration 21.\u001b[0m\n"
     ]
    },
    {
     "name": "stdout",
     "output_type": "stream",
     "text": [
      "====================================================================================================\n",
      "========================= 0번째 fold =========================\n",
      "train length : 2000157,  valid length : 525799\n",
      "training LGB:\n",
      "Training until validation scores don't improve for 100 rounds\n",
      "[150]\ttraining's auc: 0.799088\tvalid_1's auc: 0.792555\n"
     ]
    },
    {
     "name": "stderr",
     "output_type": "stream",
     "text": [
      "\u001b[32m[I 2021-05-28 23:12:07,163]\u001b[0m Setting status of trial#34 as TrialState.PRUNED. Trial was pruned at iteration 152.\u001b[0m\n"
     ]
    },
    {
     "name": "stdout",
     "output_type": "stream",
     "text": [
      "====================================================================================================\n",
      "========================= 0번째 fold =========================\n",
      "train length : 2000157,  valid length : 525799\n",
      "training LGB:\n",
      "Training until validation scores don't improve for 100 rounds\n"
     ]
    },
    {
     "name": "stderr",
     "output_type": "stream",
     "text": [
      "\u001b[32m[I 2021-05-28 23:12:18,221]\u001b[0m Setting status of trial#35 as TrialState.PRUNED. Trial was pruned at iteration 21.\u001b[0m\n"
     ]
    },
    {
     "name": "stdout",
     "output_type": "stream",
     "text": [
      "====================================================================================================\n",
      "========================= 0번째 fold =========================\n",
      "train length : 2000157,  valid length : 525799\n",
      "training LGB:\n",
      "Training until validation scores don't improve for 100 rounds\n"
     ]
    },
    {
     "name": "stderr",
     "output_type": "stream",
     "text": [
      "\u001b[32m[I 2021-05-28 23:12:30,128]\u001b[0m Setting status of trial#36 as TrialState.PRUNED. Trial was pruned at iteration 21.\u001b[0m\n"
     ]
    },
    {
     "name": "stdout",
     "output_type": "stream",
     "text": [
      "====================================================================================================\n",
      "========================= 0번째 fold =========================\n",
      "train length : 2000157,  valid length : 525799\n",
      "training LGB:\n",
      "Training until validation scores don't improve for 100 rounds\n"
     ]
    },
    {
     "name": "stderr",
     "output_type": "stream",
     "text": [
      "\u001b[32m[I 2021-05-28 23:12:42,894]\u001b[0m Setting status of trial#37 as TrialState.PRUNED. Trial was pruned at iteration 21.\u001b[0m\n"
     ]
    },
    {
     "name": "stdout",
     "output_type": "stream",
     "text": [
      "====================================================================================================\n",
      "========================= 0번째 fold =========================\n",
      "train length : 2000157,  valid length : 525799\n",
      "training LGB:\n",
      "Training until validation scores don't improve for 100 rounds\n",
      "[150]\ttraining's auc: 0.798967\tvalid_1's auc: 0.792605\n",
      "[300]\ttraining's auc: 0.803908\tvalid_1's auc: 0.792878\n",
      "Early stopping, best iteration is:\n",
      "[236]\ttraining's auc: 0.80195\tvalid_1's auc: 0.79299\n",
      "######################### 이번 trial의 fold 중 가장 좋은 스코어는 다음과 같습니다. #########################\n",
      "best_score defaultdict(<class 'collections.OrderedDict'>, {'training': OrderedDict([('auc', 0.8019501890460754)]), 'valid_1': OrderedDict([('auc', 0.7929895889780795)])})\n",
      "========================= 1번째 fold =========================\n",
      "train length : 2008829,  valid length : 517127\n",
      "training LGB:\n",
      "Training until validation scores don't improve for 100 rounds\n",
      "[150]\ttraining's auc: 0.799161\tvalid_1's auc: 0.792045\n",
      "[300]\ttraining's auc: 0.804144\tvalid_1's auc: 0.79221\n",
      "Early stopping, best iteration is:\n",
      "[261]\ttraining's auc: 0.802933\tvalid_1's auc: 0.792331\n",
      "######################### 이번 trial의 fold 중 가장 좋은 스코어는 다음과 같습니다. #########################\n",
      "best_score defaultdict(<class 'collections.OrderedDict'>, {'training': OrderedDict([('auc', 0.8029325211157482)]), 'valid_1': OrderedDict([('auc', 0.7923314311818549)])})\n",
      "========================= 2번째 fold =========================\n",
      "train length : 2044934,  valid length : 481022\n",
      "training LGB:\n",
      "Training until validation scores don't improve for 100 rounds\n",
      "[150]\ttraining's auc: 0.798566\tvalid_1's auc: 0.793884\n",
      "[300]\ttraining's auc: 0.803758\tvalid_1's auc: 0.793973\n",
      "Early stopping, best iteration is:\n",
      "[250]\ttraining's auc: 0.802163\tvalid_1's auc: 0.794081\n",
      "######################### 이번 trial의 fold 중 가장 좋은 스코어는 다음과 같습니다. #########################\n",
      "best_score defaultdict(<class 'collections.OrderedDict'>, {'training': OrderedDict([('auc', 0.8021632990671831)]), 'valid_1': OrderedDict([('auc', 0.7940807882830838)])})\n",
      "========================= 3번째 fold =========================\n",
      "train length : 2011322,  valid length : 514634\n",
      "training LGB:\n",
      "Training until validation scores don't improve for 100 rounds\n",
      "[150]\ttraining's auc: 0.799057\tvalid_1's auc: 0.792171\n",
      "[300]\ttraining's auc: 0.803959\tvalid_1's auc: 0.792437\n",
      "[450]\ttraining's auc: 0.807671\tvalid_1's auc: 0.792477\n",
      "Early stopping, best iteration is:\n",
      "[439]\ttraining's auc: 0.807362\tvalid_1's auc: 0.792514\n",
      "######################### 이번 trial의 fold 중 가장 좋은 스코어는 다음과 같습니다. #########################\n",
      "best_score defaultdict(<class 'collections.OrderedDict'>, {'training': OrderedDict([('auc', 0.8073615823171428)]), 'valid_1': OrderedDict([('auc', 0.7925139715837577)])})\n",
      "========================= 4번째 fold =========================\n",
      "train length : 2038582,  valid length : 487374\n",
      "training LGB:\n",
      "Training until validation scores don't improve for 100 rounds\n",
      "[150]\ttraining's auc: 0.799003\tvalid_1's auc: 0.793863\n",
      "[300]\ttraining's auc: 0.803912\tvalid_1's auc: 0.793971\n",
      "Early stopping, best iteration is:\n",
      "[234]\ttraining's auc: 0.801945\tvalid_1's auc: 0.794015\n",
      "######################### 이번 trial의 fold 중 가장 좋은 스코어는 다음과 같습니다. #########################\n",
      "best_score defaultdict(<class 'collections.OrderedDict'>, {'training': OrderedDict([('auc', 0.8019447132258781)]), 'valid_1': OrderedDict([('auc', 0.794015327304292)])})\n"
     ]
    },
    {
     "name": "stderr",
     "output_type": "stream",
     "text": [
      "\u001b[32m[I 2021-05-28 23:22:55,055]\u001b[0m Finished trial#38 resulted in value: 0.7931862214662135. Current best value is 0.7932416004529312 with parameters: {'max_depth': 30, 'learning_rate': 0.07111961859920349, 'lambda_l1': 11.080862756420968, 'lambda_l2': 34.491702962288315, 'bagging_fraction': 0.5, 'feature_fraction': 0.7}.\u001b[0m\n"
     ]
    },
    {
     "name": "stdout",
     "output_type": "stream",
     "text": [
      "====================================================================================================\n",
      "========================= 0번째 fold =========================\n",
      "train length : 2000157,  valid length : 525799\n",
      "training LGB:\n",
      "Training until validation scores don't improve for 100 rounds\n"
     ]
    },
    {
     "name": "stderr",
     "output_type": "stream",
     "text": [
      "\u001b[32m[I 2021-05-28 23:23:07,178]\u001b[0m Setting status of trial#39 as TrialState.PRUNED. Trial was pruned at iteration 21.\u001b[0m\n"
     ]
    },
    {
     "name": "stdout",
     "output_type": "stream",
     "text": [
      "====================================================================================================\n",
      "========================= 0번째 fold =========================\n",
      "train length : 2000157,  valid length : 525799\n",
      "training LGB:\n",
      "Training until validation scores don't improve for 100 rounds\n",
      "[150]\ttraining's auc: 0.799669\tvalid_1's auc: 0.792805\n",
      "[300]\ttraining's auc: 0.804989\tvalid_1's auc: 0.792784\n",
      "Early stopping, best iteration is:\n",
      "[212]\ttraining's auc: 0.80209\tvalid_1's auc: 0.792922\n",
      "######################### 이번 trial의 fold 중 가장 좋은 스코어는 다음과 같습니다. #########################\n",
      "best_score defaultdict(<class 'collections.OrderedDict'>, {'training': OrderedDict([('auc', 0.8020904669743432)]), 'valid_1': OrderedDict([('auc', 0.7929216002398465)])})\n",
      "========================= 1번째 fold =========================\n",
      "train length : 2008829,  valid length : 517127\n",
      "training LGB:\n",
      "Training until validation scores don't improve for 100 rounds\n",
      "[150]\ttraining's auc: 0.800044\tvalid_1's auc: 0.791781\n",
      "[300]\ttraining's auc: 0.805227\tvalid_1's auc: 0.791834\n",
      "Early stopping, best iteration is:\n",
      "[261]\ttraining's auc: 0.803945\tvalid_1's auc: 0.791936\n",
      "######################### 이번 trial의 fold 중 가장 좋은 스코어는 다음과 같습니다. #########################\n",
      "best_score defaultdict(<class 'collections.OrderedDict'>, {'training': OrderedDict([('auc', 0.8039445584567371)]), 'valid_1': OrderedDict([('auc', 0.7919363018946937)])})\n",
      "========================= 2번째 fold =========================\n",
      "train length : 2044934,  valid length : 481022\n",
      "training LGB:\n",
      "Training until validation scores don't improve for 100 rounds\n",
      "[150]\ttraining's auc: 0.799411\tvalid_1's auc: 0.793702\n",
      "[300]\ttraining's auc: 0.804953\tvalid_1's auc: 0.793683\n",
      "Early stopping, best iteration is:\n",
      "[208]\ttraining's auc: 0.801629\tvalid_1's auc: 0.793992\n",
      "######################### 이번 trial의 fold 중 가장 좋은 스코어는 다음과 같습니다. #########################\n",
      "best_score defaultdict(<class 'collections.OrderedDict'>, {'training': OrderedDict([('auc', 0.8016294930637183)]), 'valid_1': OrderedDict([('auc', 0.793992398303679)])})\n",
      "========================= 3번째 fold =========================\n",
      "train length : 2011322,  valid length : 514634\n",
      "training LGB:\n",
      "Training until validation scores don't improve for 100 rounds\n",
      "[150]\ttraining's auc: 0.799593\tvalid_1's auc: 0.792301\n",
      "[300]\ttraining's auc: 0.805114\tvalid_1's auc: 0.792166\n",
      "Early stopping, best iteration is:\n",
      "[227]\ttraining's auc: 0.80249\tvalid_1's auc: 0.792427\n",
      "######################### 이번 trial의 fold 중 가장 좋은 스코어는 다음과 같습니다. #########################\n",
      "best_score defaultdict(<class 'collections.OrderedDict'>, {'training': OrderedDict([('auc', 0.80249047834427)]), 'valid_1': OrderedDict([('auc', 0.7924271628290405)])})\n",
      "========================= 4번째 fold =========================\n",
      "train length : 2038582,  valid length : 487374\n",
      "training LGB:\n",
      "Training until validation scores don't improve for 100 rounds\n",
      "[150]\ttraining's auc: 0.799539\tvalid_1's auc: 0.793703\n",
      "[300]\ttraining's auc: 0.805038\tvalid_1's auc: 0.793803\n",
      "Early stopping, best iteration is:\n",
      "[255]\ttraining's auc: 0.803322\tvalid_1's auc: 0.794001\n",
      "######################### 이번 trial의 fold 중 가장 좋은 스코어는 다음과 같습니다. #########################\n",
      "best_score defaultdict(<class 'collections.OrderedDict'>, {'training': OrderedDict([('auc', 0.8033222429073793)]), 'valid_1': OrderedDict([('auc', 0.7940005944569208)])})\n"
     ]
    },
    {
     "name": "stderr",
     "output_type": "stream",
     "text": [
      "\u001b[32m[I 2021-05-28 23:32:14,484]\u001b[0m Finished trial#40 resulted in value: 0.7930556115448362. Current best value is 0.7932416004529312 with parameters: {'max_depth': 30, 'learning_rate': 0.07111961859920349, 'lambda_l1': 11.080862756420968, 'lambda_l2': 34.491702962288315, 'bagging_fraction': 0.5, 'feature_fraction': 0.7}.\u001b[0m\n"
     ]
    },
    {
     "name": "stdout",
     "output_type": "stream",
     "text": [
      "====================================================================================================\n",
      "========================= 0번째 fold =========================\n",
      "train length : 2000157,  valid length : 525799\n",
      "training LGB:\n",
      "Training until validation scores don't improve for 100 rounds\n"
     ]
    },
    {
     "name": "stderr",
     "output_type": "stream",
     "text": [
      "\u001b[32m[I 2021-05-28 23:32:28,155]\u001b[0m Setting status of trial#41 as TrialState.PRUNED. Trial was pruned at iteration 24.\u001b[0m\n"
     ]
    },
    {
     "name": "stdout",
     "output_type": "stream",
     "text": [
      "====================================================================================================\n",
      "========================= 0번째 fold =========================\n",
      "train length : 2000157,  valid length : 525799\n",
      "training LGB:\n",
      "Training until validation scores don't improve for 100 rounds\n"
     ]
    },
    {
     "name": "stderr",
     "output_type": "stream",
     "text": [
      "\u001b[32m[I 2021-05-28 23:33:14,092]\u001b[0m Setting status of trial#42 as TrialState.PRUNED. Trial was pruned at iteration 121.\u001b[0m\n"
     ]
    },
    {
     "name": "stdout",
     "output_type": "stream",
     "text": [
      "====================================================================================================\n",
      "========================= 0번째 fold =========================\n",
      "train length : 2000157,  valid length : 525799\n",
      "training LGB:\n",
      "Training until validation scores don't improve for 100 rounds\n",
      "[150]\ttraining's auc: 0.798859\tvalid_1's auc: 0.792663\n",
      "[300]\ttraining's auc: 0.80398\tvalid_1's auc: 0.792915\n",
      "Early stopping, best iteration is:\n",
      "[268]\ttraining's auc: 0.802931\tvalid_1's auc: 0.792985\n",
      "######################### 이번 trial의 fold 중 가장 좋은 스코어는 다음과 같습니다. #########################\n",
      "best_score defaultdict(<class 'collections.OrderedDict'>, {'training': OrderedDict([('auc', 0.802931281383727)]), 'valid_1': OrderedDict([('auc', 0.7929848260085027)])})\n",
      "========================= 1번째 fold =========================\n",
      "train length : 2008829,  valid length : 517127\n",
      "training LGB:\n",
      "Training until validation scores don't improve for 100 rounds\n",
      "[150]\ttraining's auc: 0.799305\tvalid_1's auc: 0.792118\n",
      "[300]\ttraining's auc: 0.804504\tvalid_1's auc: 0.792381\n",
      "Early stopping, best iteration is:\n",
      "[273]\ttraining's auc: 0.803572\tvalid_1's auc: 0.79246\n",
      "######################### 이번 trial의 fold 중 가장 좋은 스코어는 다음과 같습니다. #########################\n",
      "best_score defaultdict(<class 'collections.OrderedDict'>, {'training': OrderedDict([('auc', 0.8035722239157641)]), 'valid_1': OrderedDict([('auc', 0.7924604213532258)])})\n",
      "========================= 2번째 fold =========================\n",
      "train length : 2044934,  valid length : 481022\n",
      "training LGB:\n",
      "Training until validation scores don't improve for 100 rounds\n",
      "[150]\ttraining's auc: 0.798746\tvalid_1's auc: 0.794065\n",
      "[300]\ttraining's auc: 0.804083\tvalid_1's auc: 0.794141\n",
      "Early stopping, best iteration is:\n",
      "[249]\ttraining's auc: 0.802479\tvalid_1's auc: 0.794237\n",
      "######################### 이번 trial의 fold 중 가장 좋은 스코어는 다음과 같습니다. #########################\n",
      "best_score defaultdict(<class 'collections.OrderedDict'>, {'training': OrderedDict([('auc', 0.8024791862813079)]), 'valid_1': OrderedDict([('auc', 0.7942367603289381)])})\n",
      "========================= 3번째 fold =========================\n",
      "train length : 2011322,  valid length : 514634\n",
      "training LGB:\n",
      "Training until validation scores don't improve for 100 rounds\n",
      "[150]\ttraining's auc: 0.798986\tvalid_1's auc: 0.792254\n",
      "[300]\ttraining's auc: 0.804055\tvalid_1's auc: 0.792442\n",
      "Early stopping, best iteration is:\n",
      "[269]\ttraining's auc: 0.803111\tvalid_1's auc: 0.792484\n",
      "######################### 이번 trial의 fold 중 가장 좋은 스코어는 다음과 같습니다. #########################\n",
      "best_score defaultdict(<class 'collections.OrderedDict'>, {'training': OrderedDict([('auc', 0.8031110662674253)]), 'valid_1': OrderedDict([('auc', 0.792483905026407)])})\n",
      "========================= 4번째 fold =========================\n",
      "train length : 2038582,  valid length : 487374\n",
      "training LGB:\n",
      "Training until validation scores don't improve for 100 rounds\n",
      "[150]\ttraining's auc: 0.798913\tvalid_1's auc: 0.793809\n",
      "[300]\ttraining's auc: 0.803924\tvalid_1's auc: 0.793974\n",
      "Early stopping, best iteration is:\n",
      "[344]\ttraining's auc: 0.805304\tvalid_1's auc: 0.794024\n",
      "######################### 이번 trial의 fold 중 가장 좋은 스코어는 다음과 같습니다. #########################\n",
      "best_score defaultdict(<class 'collections.OrderedDict'>, {'training': OrderedDict([('auc', 0.8053040315660084)]), 'valid_1': OrderedDict([('auc', 0.7940243137525846)])})\n"
     ]
    },
    {
     "name": "stderr",
     "output_type": "stream",
     "text": [
      "\u001b[32m[I 2021-05-28 23:43:20,627]\u001b[0m Finished trial#43 resulted in value: 0.7932380452939316. Current best value is 0.7932416004529312 with parameters: {'max_depth': 30, 'learning_rate': 0.07111961859920349, 'lambda_l1': 11.080862756420968, 'lambda_l2': 34.491702962288315, 'bagging_fraction': 0.5, 'feature_fraction': 0.7}.\u001b[0m\n"
     ]
    },
    {
     "name": "stdout",
     "output_type": "stream",
     "text": [
      "====================================================================================================\n",
      "========================= 0번째 fold =========================\n",
      "train length : 2000157,  valid length : 525799\n",
      "training LGB:\n",
      "Training until validation scores don't improve for 100 rounds\n"
     ]
    },
    {
     "name": "stderr",
     "output_type": "stream",
     "text": [
      "\u001b[32m[I 2021-05-28 23:43:32,392]\u001b[0m Setting status of trial#44 as TrialState.PRUNED. Trial was pruned at iteration 21.\u001b[0m\n"
     ]
    },
    {
     "name": "stdout",
     "output_type": "stream",
     "text": [
      "====================================================================================================\n",
      "========================= 0번째 fold =========================\n",
      "train length : 2000157,  valid length : 525799\n",
      "training LGB:\n",
      "Training until validation scores don't improve for 100 rounds\n"
     ]
    },
    {
     "name": "stderr",
     "output_type": "stream",
     "text": [
      "\u001b[32m[I 2021-05-28 23:43:44,410]\u001b[0m Setting status of trial#45 as TrialState.PRUNED. Trial was pruned at iteration 21.\u001b[0m\n"
     ]
    },
    {
     "name": "stdout",
     "output_type": "stream",
     "text": [
      "====================================================================================================\n",
      "========================= 0번째 fold =========================\n",
      "train length : 2000157,  valid length : 525799\n",
      "training LGB:\n",
      "Training until validation scores don't improve for 100 rounds\n"
     ]
    },
    {
     "name": "stderr",
     "output_type": "stream",
     "text": [
      "\u001b[32m[I 2021-05-28 23:43:56,485]\u001b[0m Setting status of trial#46 as TrialState.PRUNED. Trial was pruned at iteration 21.\u001b[0m\n"
     ]
    },
    {
     "name": "stdout",
     "output_type": "stream",
     "text": [
      "====================================================================================================\n",
      "========================= 0번째 fold =========================\n",
      "train length : 2000157,  valid length : 525799\n",
      "training LGB:\n",
      "Training until validation scores don't improve for 100 rounds\n",
      "[150]\ttraining's auc: 0.798804\tvalid_1's auc: 0.792803\n",
      "[300]\ttraining's auc: 0.803894\tvalid_1's auc: 0.79309\n",
      "Early stopping, best iteration is:\n",
      "[275]\ttraining's auc: 0.803226\tvalid_1's auc: 0.793113\n",
      "######################### 이번 trial의 fold 중 가장 좋은 스코어는 다음과 같습니다. #########################\n",
      "best_score defaultdict(<class 'collections.OrderedDict'>, {'training': OrderedDict([('auc', 0.8032255982394457)]), 'valid_1': OrderedDict([('auc', 0.7931131895176299)])})\n",
      "========================= 1번째 fold =========================\n",
      "train length : 2008829,  valid length : 517127\n",
      "training LGB:\n",
      "Training until validation scores don't improve for 100 rounds\n",
      "[150]\ttraining's auc: 0.799238\tvalid_1's auc: 0.791957\n",
      "[300]\ttraining's auc: 0.804152\tvalid_1's auc: 0.792243\n",
      "Early stopping, best iteration is:\n",
      "[266]\ttraining's auc: 0.803239\tvalid_1's auc: 0.792273\n",
      "######################### 이번 trial의 fold 중 가장 좋은 스코어는 다음과 같습니다. #########################\n",
      "best_score defaultdict(<class 'collections.OrderedDict'>, {'training': OrderedDict([('auc', 0.8032393491068058)]), 'valid_1': OrderedDict([('auc', 0.792272545271303)])})\n",
      "========================= 2번째 fold =========================\n",
      "train length : 2044934,  valid length : 481022\n",
      "training LGB:\n",
      "Training until validation scores don't improve for 100 rounds\n",
      "[150]\ttraining's auc: 0.798585\tvalid_1's auc: 0.794081\n",
      "[300]\ttraining's auc: 0.803689\tvalid_1's auc: 0.794201\n",
      "Early stopping, best iteration is:\n",
      "[214]\ttraining's auc: 0.80101\tvalid_1's auc: 0.794308\n",
      "######################### 이번 trial의 fold 중 가장 좋은 스코어는 다음과 같습니다. #########################\n",
      "best_score defaultdict(<class 'collections.OrderedDict'>, {'training': OrderedDict([('auc', 0.8010099810225704)]), 'valid_1': OrderedDict([('auc', 0.7943081335121217)])})\n",
      "========================= 3번째 fold =========================\n",
      "train length : 2011322,  valid length : 514634\n",
      "training LGB:\n",
      "Training until validation scores don't improve for 100 rounds\n",
      "[150]\ttraining's auc: 0.798971\tvalid_1's auc: 0.791967\n",
      "[300]\ttraining's auc: 0.804088\tvalid_1's auc: 0.792306\n",
      "Early stopping, best iteration is:\n",
      "[290]\ttraining's auc: 0.803763\tvalid_1's auc: 0.792361\n",
      "######################### 이번 trial의 fold 중 가장 좋은 스코어는 다음과 같습니다. #########################\n",
      "best_score defaultdict(<class 'collections.OrderedDict'>, {'training': OrderedDict([('auc', 0.8037628406369413)]), 'valid_1': OrderedDict([('auc', 0.7923610670642263)])})\n",
      "========================= 4번째 fold =========================\n",
      "train length : 2038582,  valid length : 487374\n",
      "training LGB:\n",
      "Training until validation scores don't improve for 100 rounds\n",
      "[150]\ttraining's auc: 0.799001\tvalid_1's auc: 0.793845\n",
      "[300]\ttraining's auc: 0.804022\tvalid_1's auc: 0.79413\n",
      "Early stopping, best iteration is:\n",
      "[319]\ttraining's auc: 0.80458\tvalid_1's auc: 0.794147\n",
      "######################### 이번 trial의 fold 중 가장 좋은 스코어는 다음과 같습니다. #########################\n",
      "best_score defaultdict(<class 'collections.OrderedDict'>, {'training': OrderedDict([('auc', 0.8045796098963303)]), 'valid_1': OrderedDict([('auc', 0.794147485518109)])})\n"
     ]
    },
    {
     "name": "stderr",
     "output_type": "stream",
     "text": [
      "\u001b[32m[I 2021-05-28 23:54:06,382]\u001b[0m Finished trial#47 resulted in value: 0.793240484176678. Current best value is 0.7932416004529312 with parameters: {'max_depth': 30, 'learning_rate': 0.07111961859920349, 'lambda_l1': 11.080862756420968, 'lambda_l2': 34.491702962288315, 'bagging_fraction': 0.5, 'feature_fraction': 0.7}.\u001b[0m\n"
     ]
    },
    {
     "name": "stdout",
     "output_type": "stream",
     "text": [
      "====================================================================================================\n",
      "========================= 0번째 fold =========================\n",
      "train length : 2000157,  valid length : 525799\n",
      "training LGB:\n",
      "Training until validation scores don't improve for 100 rounds\n",
      "[150]\ttraining's auc: 0.799379\tvalid_1's auc: 0.792708\n",
      "[300]\ttraining's auc: 0.804811\tvalid_1's auc: 0.7928\n",
      "Early stopping, best iteration is:\n",
      "[211]\ttraining's auc: 0.801857\tvalid_1's auc: 0.792961\n",
      "######################### 이번 trial의 fold 중 가장 좋은 스코어는 다음과 같습니다. #########################\n",
      "best_score defaultdict(<class 'collections.OrderedDict'>, {'training': OrderedDict([('auc', 0.8018572306526757)]), 'valid_1': OrderedDict([('auc', 0.7929614657067988)])})\n",
      "========================= 1번째 fold =========================\n",
      "train length : 2008829,  valid length : 517127\n",
      "training LGB:\n",
      "Training until validation scores don't improve for 100 rounds\n",
      "[150]\ttraining's auc: 0.799838\tvalid_1's auc: 0.792006\n",
      "Early stopping, best iteration is:\n",
      "[186]\ttraining's auc: 0.801327\tvalid_1's auc: 0.792146\n",
      "######################### 이번 trial의 fold 중 가장 좋은 스코어는 다음과 같습니다. #########################\n",
      "best_score defaultdict(<class 'collections.OrderedDict'>, {'training': OrderedDict([('auc', 0.8013269719731764)]), 'valid_1': OrderedDict([('auc', 0.7921459898055859)])})\n",
      "========================= 2번째 fold =========================\n",
      "train length : 2044934,  valid length : 481022\n",
      "training LGB:\n",
      "Training until validation scores don't improve for 100 rounds\n",
      "[150]\ttraining's auc: 0.799337\tvalid_1's auc: 0.793882\n",
      "Early stopping, best iteration is:\n",
      "[170]\ttraining's auc: 0.800103\tvalid_1's auc: 0.794012\n",
      "######################### 이번 trial의 fold 중 가장 좋은 스코어는 다음과 같습니다. #########################\n",
      "best_score defaultdict(<class 'collections.OrderedDict'>, {'training': OrderedDict([('auc', 0.8001030164029246)]), 'valid_1': OrderedDict([('auc', 0.7940115174957337)])})\n",
      "========================= 3번째 fold =========================\n",
      "train length : 2011322,  valid length : 514634\n",
      "training LGB:\n",
      "Training until validation scores don't improve for 100 rounds\n",
      "[150]\ttraining's auc: 0.799464\tvalid_1's auc: 0.79226\n",
      "Early stopping, best iteration is:\n",
      "[184]\ttraining's auc: 0.800942\tvalid_1's auc: 0.792353\n",
      "######################### 이번 trial의 fold 중 가장 좋은 스코어는 다음과 같습니다. #########################\n",
      "best_score defaultdict(<class 'collections.OrderedDict'>, {'training': OrderedDict([('auc', 0.8009417622132995)]), 'valid_1': OrderedDict([('auc', 0.7923530493387076)])})\n",
      "========================= 4번째 fold =========================\n",
      "train length : 2038582,  valid length : 487374\n",
      "training LGB:\n",
      "Training until validation scores don't improve for 100 rounds\n",
      "[150]\ttraining's auc: 0.799533\tvalid_1's auc: 0.79374\n",
      "[300]\ttraining's auc: 0.804606\tvalid_1's auc: 0.793713\n",
      "Early stopping, best iteration is:\n",
      "[215]\ttraining's auc: 0.801741\tvalid_1's auc: 0.793936\n",
      "######################### 이번 trial의 fold 중 가장 좋은 스코어는 다음과 같습니다. #########################\n",
      "best_score defaultdict(<class 'collections.OrderedDict'>, {'training': OrderedDict([('auc', 0.8017409217673588)]), 'valid_1': OrderedDict([('auc', 0.7939360234392326)])})\n"
     ]
    },
    {
     "name": "stderr",
     "output_type": "stream",
     "text": [
      "\u001b[32m[I 2021-05-29 00:02:10,265]\u001b[0m Finished trial#48 resulted in value: 0.7930816091572118. Current best value is 0.7932416004529312 with parameters: {'max_depth': 30, 'learning_rate': 0.07111961859920349, 'lambda_l1': 11.080862756420968, 'lambda_l2': 34.491702962288315, 'bagging_fraction': 0.5, 'feature_fraction': 0.7}.\u001b[0m\n"
     ]
    },
    {
     "name": "stdout",
     "output_type": "stream",
     "text": [
      "====================================================================================================\n",
      "========================= 0번째 fold =========================\n",
      "train length : 2000157,  valid length : 525799\n",
      "training LGB:\n",
      "Training until validation scores don't improve for 100 rounds\n"
     ]
    },
    {
     "name": "stderr",
     "output_type": "stream",
     "text": [
      "\u001b[32m[I 2021-05-29 00:02:22,381]\u001b[0m Setting status of trial#49 as TrialState.PRUNED. Trial was pruned at iteration 21.\u001b[0m\n"
     ]
    }
   ],
   "source": [
    "study = optuna.create_study(direction='maximize',pruner=optuna.pruners.MedianPruner(n_warmup_steps=20))\n",
    "study.optimize(objective_with_prune, n_trials=50)\n",
    "# Best Params 저장\n",
    "with open(f\"../models/5-fold_optuna_{model_name}/best_params.json\", \"w\") as fp:\n",
    "        json.dump(study.best_params, fp, indent=4)"
   ]
  },
  {
   "cell_type": "markdown",
   "metadata": {},
   "source": [
    "### 4-2. 가장 마지막 trial로부터 저장된 모델로 inference하기"
   ]
  },
  {
   "cell_type": "code",
   "execution_count": null,
   "metadata": {},
   "outputs": [],
   "source": [
    "### 가장 마지막에 저장된 모델을 가지고 Inference\n",
    "\n",
    "# LOAD TEST_DATA\n",
    "test_csv_file_path = os.path.join(data_dir, 'test_data.csv')\n",
    "test_df = pd.read_csv(test_csv_file_path)\n",
    "\n",
    "# FEATURE ENGINEERING\n",
    "test_df = feature_engineering(test_df)\n",
    "\n",
    "# LEAVE LAST INTERACTION ONLY\n",
    "test_df = test_df[test_df['userID'] != test_df['userID'].shift(-1)]\n",
    "\n",
    "# DROP ANSWERCODE\n",
    "test_df = test_df.drop(['answerCode'], axis=1)\n",
    "\n",
    "test_df[cat_features] = test_df[cat_features].astype(int)\n",
    "\n",
    "# Load Model\n",
    "total_preds=[]\n",
    "upper_model_dir = '/opt/p4-dkt-freshtomato/models/5-fold_optuna_all_train_userid_lgbm'\n",
    "folders_list = os.listdir(upper_model_dir)\n",
    "for folder_name in folders_list:\n",
    "    model_path = f\"{upper_model_dir}/{folder_name}/lgb.pkl\"\n",
    "    load_model = joblib.load(model_path)\n",
    "    prediction = load_model.predict(test_df.drop(drop_features,axis=1))\n",
    "    total_preds.append(prediction)\n",
    "    \n",
    "total_preds = np.array(total_preds).mean(axis=0)\n",
    "\n",
    "# SAVE OUTPUT\n",
    "output_dir = '../output/lgbm_output/'\n",
    "write_path = os.path.join(output_dir, f\"{upper_model_dir.split('/')[-1]}.csv\")\n",
    "if not os.path.exists(output_dir):\n",
    "    os.makedirs(output_dir)    \n",
    "with open(write_path, 'w', encoding='utf8') as w:\n",
    "    print(\"writing prediction : {}\".format(write_path))\n",
    "    w.write(\"id,prediction\\n\")\n",
    "    for id, p in enumerate(total_preds):\n",
    "        w.write('{},{}\\n'.format(id,p))"
   ]
  },
  {
   "cell_type": "markdown",
   "metadata": {},
   "source": [
    "## 5. 찾아낸 최적의 모수로 모델 피팅시키기"
   ]
  },
  {
   "cell_type": "code",
   "execution_count": 33,
   "metadata": {},
   "outputs": [],
   "source": [
    "def fit_lgbm(\n",
    "            trial, \n",
    "            train, \n",
    "            val, \n",
    "            devices=(-1,), \n",
    "            seed=seed, \n",
    "            num_rounds=num_rounds,\n",
    "            early_stop=early_stop,\n",
    "            cat_features = cat_features\n",
    "            ):\n",
    "    \"\"\"Train Light GBM model\"\"\"\n",
    "    X_train, y_train = train\n",
    "    X_valid, y_valid = val\n",
    "\n",
    "    d_train = lgb.Dataset(X_train, label=y_train,\n",
    "                        # categorical_feature=cat_features\n",
    "                        )\n",
    "    d_valid = lgb.Dataset(X_valid, label=y_valid,\n",
    "                        # categorical_feature=cat_features\n",
    "                        )\n",
    "    watchlist = [d_train, d_valid]\n",
    "\n",
    "    params = {\n",
    "        'seed':seed,\n",
    "        #'num_leaves': trial.suggest_int('num_leaves', 8, 1024),\n",
    "        'objective': 'binary',\n",
    "        'max_depth': trial.suggest_int('max_depth', 2, 30),\n",
    "        'learning_rate': trial.suggest_uniform('learning_rate', 1e-10, 0.1),\n",
    "        \"boosting\": \"gbdt\",#'dart','goss'\n",
    "        #'lambda_l1': trial.suggest_loguniform('lambda_l1', 1e-8, 10.0),\n",
    "        #'lambda_l2': trial.suggest_loguniform('lambda_l2', 1e-8, 10.0),\n",
    "        'lambda_l1': trial.suggest_uniform('lambda_l1', 0, 50), \n",
    "        'lambda_l2': trial.suggest_uniform('lambda_l2', 0, 50),\n",
    "        #\"bagging_freq\": 5,\n",
    "        \"bagging_fraction\": trial.suggest_uniform('bagging_fraction', 0, 1),\n",
    "        \"feature_fraction\": trial.suggest_uniform('feature_fraction', 0, 1),\n",
    "        \"metric\": 'auc',\n",
    "        \"verbosity\": -1,\n",
    "    }\n",
    "    device = devices[0]\n",
    "    if device == -1:\n",
    "        # use cpu\n",
    "        pass\n",
    "    else:\n",
    "        # use gpu\n",
    "        print(f'using gpu device_id {device}...')\n",
    "        params.update({'device': 'gpu', 'gpu_device_id': device})\n",
    "\n",
    "    params['seed'] = seed\n",
    "\n",
    "    verbose_eval = 150\n",
    "\n",
    "\n",
    "    print('training LGB:')\n",
    "    model = lgb.train(params,\n",
    "                      train_set=d_train,\n",
    "                      num_boost_round=num_rounds,\n",
    "                      valid_sets=watchlist,\n",
    "                      verbose_eval=verbose_eval,\n",
    "                      early_stopping_rounds=early_stop,\n",
    "                    #   categorical_feature=cat_features,\n",
    "                      categorical_feature='auto',\n",
    "                      )\n",
    "\n",
    "    # predictions\n",
    "    y_pred_valid = model.predict(X_valid, num_iteration=model.best_iteration)\n",
    "    \n",
    "    print('best_score', model.best_score)\n",
    "    log = {'train/auc': model.best_score['training']['auc'],\n",
    "           'valid/auc': model.best_score['valid_1']['auc']}\n",
    "    return model, y_pred_valid, log\n",
    "\n",
    "\n",
    "def objective(\n",
    "            trial: Trial, \n",
    "            fast_check=True,  \n",
    "            return_info=False,\n",
    "            seed=seed,\n",
    "            folds=folds,\n",
    "            cat_features = cat_features\n",
    "            ):\n",
    "    folds = folds\n",
    "    seed = seed\n",
    "    shuffle = True\n",
    "\n",
    "    gc.collect()\n",
    "    print('='*100)\n",
    "\n",
    "    # print('cat_features', cat_features)\n",
    "    models_list = []\n",
    "    y_train = []\n",
    "    y_valid = []\n",
    "    valid_score = 0\n",
    "    fold_counter = 0\n",
    "    kf = KFold(n_splits=folds, shuffle=shuffle, random_state=seed)\n",
    "    for train_idx, valid_idx in kf.split(df_train.groupby(['userID']), df_train.groupby(['userID'])):\n",
    "        print(\"=\"*25, f\"{fold_counter}번째 fold\", \"=\"*25)\n",
    "        train_data = df_train.loc[df_train.userID.isin(train_idx),:]\n",
    "        y_train.append(train_data['answerCode'])\n",
    "        train_data = train_data.drop(['answerCode'],axis=1), train_data['answerCode'] \n",
    "    \n",
    "        valid_data = df_train.loc[df_train.userID.isin(valid_idx),:]\n",
    "        y_valid.append(valid_data['answerCode'])\n",
    "        valid_data = valid_data.drop(['answerCode'],axis=1), valid_data['answerCode'] \n",
    "\n",
    "        print(f'train length : {train_data[0].shape[0]},  valid length : {valid_data[0].shape[0]}')\n",
    "\n",
    "        model, y_pred_valid, log = fit_lgbm(trial, train_data, valid_data,\n",
    "                                            # cat_features=cat_features,\n",
    "                                            num_rounds=num_rounds)\n",
    "        models_list.append(model)\n",
    "        gc.collect()\n",
    "        valid_score += log[\"valid/auc\"]\n",
    "        fold_counter+=1\n",
    "        if fast_check:\n",
    "            break\n",
    "    valid_score /= folds\n",
    "    if return_info:\n",
    "        return valid_score, models_list, y_train, y_valid\n",
    "    else:\n",
    "        return valid_score\n"
   ]
  },
  {
   "cell_type": "code",
   "execution_count": 34,
   "metadata": {},
   "outputs": [
    {
     "name": "stdout",
     "output_type": "stream",
     "text": [
      "{'max_depth': 30, 'learning_rate': 0.07111961859920349, 'lambda_l1': 11.080862756420968, 'lambda_l2': 34.491702962288315, 'bagging_fraction': 0.5, 'feature_fraction': 0.7}\n"
     ]
    }
   ],
   "source": [
    "print(study.best_params)"
   ]
  },
  {
   "cell_type": "code",
   "execution_count": 35,
   "metadata": {},
   "outputs": [
    {
     "name": "stdout",
     "output_type": "stream",
     "text": [
      "====================================================================================================\n",
      "========================= 0번째 fold =========================\n",
      "train length : 2000157,  valid length : 525799\n",
      "training LGB:\n",
      "Training until validation scores don't improve for 100 rounds\n",
      "[150]\ttraining's auc: 0.79809\tvalid_1's auc: 0.792557\n",
      "[300]\ttraining's auc: 0.802835\tvalid_1's auc: 0.792931\n",
      "Early stopping, best iteration is:\n",
      "[237]\ttraining's auc: 0.80107\tvalid_1's auc: 0.792987\n",
      "best_score defaultdict(<class 'collections.OrderedDict'>, {'training': OrderedDict([('auc', 0.8010699111926227)]), 'valid_1': OrderedDict([('auc', 0.7929874165391362)])})\n",
      "========================= 1번째 fold =========================\n",
      "train length : 2008829,  valid length : 517127\n",
      "training LGB:\n",
      "Training until validation scores don't improve for 100 rounds\n",
      "[150]\ttraining's auc: 0.798282\tvalid_1's auc: 0.791967\n",
      "[300]\ttraining's auc: 0.803123\tvalid_1's auc: 0.792133\n",
      "Early stopping, best iteration is:\n",
      "[273]\ttraining's auc: 0.802329\tvalid_1's auc: 0.792204\n",
      "best_score defaultdict(<class 'collections.OrderedDict'>, {'training': OrderedDict([('auc', 0.8023285871695297)]), 'valid_1': OrderedDict([('auc', 0.7922037852039024)])})\n",
      "========================= 2번째 fold =========================\n",
      "train length : 2044934,  valid length : 481022\n",
      "training LGB:\n",
      "Training until validation scores don't improve for 100 rounds\n",
      "[150]\ttraining's auc: 0.797649\tvalid_1's auc: 0.794129\n",
      "[300]\ttraining's auc: 0.802769\tvalid_1's auc: 0.794269\n",
      "Early stopping, best iteration is:\n",
      "[258]\ttraining's auc: 0.801515\tvalid_1's auc: 0.794366\n",
      "best_score defaultdict(<class 'collections.OrderedDict'>, {'training': OrderedDict([('auc', 0.801514752841875)]), 'valid_1': OrderedDict([('auc', 0.7943659113750059)])})\n",
      "========================= 3번째 fold =========================\n",
      "train length : 2011322,  valid length : 514634\n",
      "training LGB:\n",
      "Training until validation scores don't improve for 100 rounds\n",
      "[150]\ttraining's auc: 0.798085\tvalid_1's auc: 0.792191\n",
      "[300]\ttraining's auc: 0.802537\tvalid_1's auc: 0.792595\n",
      "Early stopping, best iteration is:\n",
      "[275]\ttraining's auc: 0.801901\tvalid_1's auc: 0.792615\n",
      "best_score defaultdict(<class 'collections.OrderedDict'>, {'training': OrderedDict([('auc', 0.8019007317636024)]), 'valid_1': OrderedDict([('auc', 0.7926151511926286)])})\n",
      "========================= 4번째 fold =========================\n",
      "train length : 2038582,  valid length : 487374\n",
      "training LGB:\n",
      "Training until validation scores don't improve for 100 rounds\n",
      "[150]\ttraining's auc: 0.79792\tvalid_1's auc: 0.793812\n",
      "[300]\ttraining's auc: 0.802612\tvalid_1's auc: 0.793968\n",
      "Early stopping, best iteration is:\n",
      "[255]\ttraining's auc: 0.801284\tvalid_1's auc: 0.794036\n",
      "best_score defaultdict(<class 'collections.OrderedDict'>, {'training': OrderedDict([('auc', 0.8012839993389294)]), 'valid_1': OrderedDict([('auc', 0.7940357379539823)])})\n"
     ]
    }
   ],
   "source": [
    "valid_score, models_list, y_train, y_valid = objective(optuna.trial.FixedTrial(study.best_params), fast_check=False, return_info=True)"
   ]
  },
  {
   "cell_type": "code",
   "execution_count": 37,
   "metadata": {},
   "outputs": [
    {
     "name": "stdout",
     "output_type": "stream",
     "text": [
      "make feature : problem_id_num\n",
      "make feature : problem_num\n",
      "make feature : test_total_id\n",
      "make feature : time_solve_problem_in_test\n",
      "make feature : user_correct_answer\n",
      "make feature : user_total_answer\n",
      "make feature : user_acc\n",
      "make feature : test_level\n",
      "make feature : test_part_id\n",
      "make feature : year\n",
      "make feature : day_of_week\n",
      "make feature : month\n",
      "make feature : week_number\n",
      "make feature : season\n",
      "make feature : hour\n",
      "make feature : slicing_ahead_KT\n",
      "make feature : slicing_ahead_KT_with_pad\n",
      "make feature : slicing_behind_KT_no_pad\n",
      "make feature : slicing_behind_KT_no_pad\n"
     ]
    }
   ],
   "source": [
    "\n",
    "# LOAD TEST_DATA\n",
    "test_csv_file_path = os.path.join(data_dir, 'test_data.csv')\n",
    "test_df = pd.read_csv(test_csv_file_path)\n",
    "\n",
    "# FEATURE ENGINEERING\n",
    "test_df = feature_engineering(test_df)\n",
    "test_df['time_solve_problem_in_test'] = test_df['time_solve_problem_in_test'].apply(lambda x: x.seconds)\n",
    "\n",
    "# LEAVE LAST INTERACTION ONLY\n",
    "test_df = test_df[test_df['userID'] != test_df['userID'].shift(-1)]\n",
    "\n",
    "# DROP ANSWERCODE\n",
    "test_df = test_df.drop(['answerCode'], axis=1)\n",
    "\n",
    "test_df[cat_features] = test_df[cat_features].astype(int)\n",
    "\n",
    "\n",
    "total_preds = []\n",
    "for model in models_list:\n",
    "    pred = model.predict(test_df.drop(drop_features,axis=1))\n",
    "    total_preds.append(pred)\n",
    "total_preds = np.mean(total_preds, axis=0)\n"
   ]
  },
  {
   "cell_type": "code",
   "execution_count": 38,
   "metadata": {},
   "outputs": [
    {
     "name": "stdout",
     "output_type": "stream",
     "text": [
      "writing prediction : ../output/lgbm_output/5-fold_optuna_all_train_userid_lgbm_trial50_문제풀이간격후처리X.csv\n"
     ]
    }
   ],
   "source": [
    "upper_model_dir = '5-fold_optuna_all_train_userid_lgbm_trial50_문제풀이간격후처리X'\n",
    "# SAVE OUTPUT\n",
    "output_dir = '../output/lgbm_output/'\n",
    "write_path = os.path.join(output_dir, f\"{upper_model_dir.split('/')[-1]}.csv\")\n",
    "if not os.path.exists(output_dir):\n",
    "    os.makedirs(output_dir)    \n",
    "with open(write_path, 'w', encoding='utf8') as w:\n",
    "    print(\"writing prediction : {}\".format(write_path))\n",
    "    w.write(\"id,prediction\\n\")\n",
    "    for id, p in enumerate(total_preds):\n",
    "        w.write('{},{}\\n'.format(id,p))"
   ]
  },
  {
   "cell_type": "markdown",
   "metadata": {},
   "source": [
    "## 6. Visualization of Modeling"
   ]
  },
  {
   "cell_type": "code",
   "execution_count": null,
   "metadata": {},
   "outputs": [],
   "source": [
    "fig,ax = plt.subplots(len(models_list)//2,2)\n",
    "\n",
    "ax[0].plot(x,y1,'r-*',lw=1)\n",
    "ax[0].grid(True)\n",
    "ax[0].set_ylabel(r'$sin(4 \\pi x)$')\n",
    "ax[0].axis([0,1,-1.5,1.5])\n",
    "\n",
    "ax[1].plot(x,y2,'b--o',lw=1)\n",
    "ax[1].grid(True)\n",
    "ax[1].set_xlabel('x')\n",
    "ax[1].set_ylabel(r'$ e^{-2x} sin(4\\pi x) $')\n",
    "ax[1].axis([0,1,-1.5,1.5])\n",
    "\n",
    "plt.tight_layout()\n",
    "plt.show()"
   ]
  },
  {
   "cell_type": "code",
   "execution_count": 39,
   "metadata": {
    "ExecuteTime": {
     "end_time": "2021-05-24T09:49:29.690738Z",
     "start_time": "2021-05-24T09:49:28.989Z"
    }
   },
   "outputs": [
    {
     "data": {
      "image/png": "[encoded data removed]",
      "text/plain": "<Figure size 864x1296 with 1 Axes>"
     },
     "metadata": {
      "needs_background": "light"
     },
     "output_type": "display_data"
    }
   ],
   "source": [
    "# load_model = joblib.load('/opt/p4-dkt-freshtomato/models/5-fold_optuna_all_train_userid_lgbm/4fold/lgb.pkl')\n",
    "load_model = models_list[0]\n",
    "# INSTALL MATPLOTLIB IN ADVANCE\n",
    "from matplotlib import pylab as plt\n",
    "fig, ax = plt.subplots(figsize=(12,18))\n",
    "lgb.plot_importance(load_model, title=,max_num_features=50, height=0.8, ax=ax)\n",
    "plt.show()"
   ]
  },
  {
   "cell_type": "code",
   "execution_count": 47,
   "metadata": {},
   "outputs": [
    {
     "data": {
      "text/html": "<div>\n<style scoped>\n    .dataframe tbody tr th:only-of-type {\n        vertical-align: middle;\n    }\n\n    .dataframe tbody tr th {\n        vertical-align: top;\n    }\n\n    .dataframe thead th {\n        text-align: right;\n    }\n</style>\n<table border=\"1\" class=\"dataframe\">\n  <thead>\n    <tr style=\"text-align: right;\">\n      <th></th>\n      <th>feature_importance</th>\n    </tr>\n  </thead>\n  <tbody>\n    <tr>\n      <th>user_total_problem</th>\n      <td>904</td>\n    </tr>\n    <tr>\n      <th>user_acc</th>\n      <td>877</td>\n    </tr>\n    <tr>\n      <th>userID</th>\n      <td>774</td>\n    </tr>\n    <tr>\n      <th>problem_mean</th>\n      <td>583</td>\n    </tr>\n    <tr>\n      <th>problem_total_id</th>\n      <td>465</td>\n    </tr>\n    <tr>\n      <th>test_total_id</th>\n      <td>382</td>\n    </tr>\n    <tr>\n      <th>user_correct_answer</th>\n      <td>344</td>\n    </tr>\n    <tr>\n      <th>test_part_id</th>\n      <td>303</td>\n    </tr>\n    <tr>\n      <th>week_number</th>\n      <td>271</td>\n    </tr>\n    <tr>\n      <th>time_solve_problem_in_test</th>\n      <td>270</td>\n    </tr>\n    <tr>\n      <th>user_total_answer</th>\n      <td>254</td>\n    </tr>\n    <tr>\n      <th>hour</th>\n      <td>207</td>\n    </tr>\n    <tr>\n      <th>test_mean</th>\n      <td>203</td>\n    </tr>\n    <tr>\n      <th>problem_sum</th>\n      <td>164</td>\n    </tr>\n    <tr>\n      <th>problem_count</th>\n      <td>115</td>\n    </tr>\n    <tr>\n      <th>test_count</th>\n      <td>102</td>\n    </tr>\n    <tr>\n      <th>slicing_behind3_KT_with_pad</th>\n      <td>98</td>\n    </tr>\n    <tr>\n      <th>month</th>\n      <td>91</td>\n    </tr>\n    <tr>\n      <th>test_sum</th>\n      <td>90</td>\n    </tr>\n    <tr>\n      <th>test_level</th>\n      <td>88</td>\n    </tr>\n    <tr>\n      <th>slicing_ahead3_KT_no_pad</th>\n      <td>78</td>\n    </tr>\n    <tr>\n      <th>problem_num</th>\n      <td>72</td>\n    </tr>\n    <tr>\n      <th>day_of_week</th>\n      <td>68</td>\n    </tr>\n    <tr>\n      <th>KnowledgeTag</th>\n      <td>60</td>\n    </tr>\n    <tr>\n      <th>tag_mean</th>\n      <td>58</td>\n    </tr>\n    <tr>\n      <th>slicing_ahead2_KT_no_pad</th>\n      <td>40</td>\n    </tr>\n    <tr>\n      <th>slicing_behind3_KT_no_pad</th>\n      <td>29</td>\n    </tr>\n    <tr>\n      <th>slicing_behind2_KT_no_pad</th>\n      <td>23</td>\n    </tr>\n    <tr>\n      <th>season</th>\n      <td>22</td>\n    </tr>\n    <tr>\n      <th>tag_count</th>\n      <td>14</td>\n    </tr>\n    <tr>\n      <th>slicing_ahead1_KT_no_pad</th>\n      <td>14</td>\n    </tr>\n    <tr>\n      <th>tag_sum</th>\n      <td>11</td>\n    </tr>\n    <tr>\n      <th>slicing_ahead4_KT_with_pad</th>\n      <td>9</td>\n    </tr>\n    <tr>\n      <th>slicing_ahead3_KT_with_pad</th>\n      <td>8</td>\n    </tr>\n    <tr>\n      <th>slicing_ahead2_KT_with_pad</th>\n      <td>6</td>\n    </tr>\n    <tr>\n      <th>slicing_behind4_KT_with_pad</th>\n      <td>5</td>\n    </tr>\n    <tr>\n      <th>slicing_behind2_KT_with_pad</th>\n      <td>4</td>\n    </tr>\n    <tr>\n      <th>slicing_behind1_KT_no_pad</th>\n      <td>4</td>\n    </tr>\n    <tr>\n      <th>slicing_behind1_KT_with_pad</th>\n      <td>0</td>\n    </tr>\n    <tr>\n      <th>year</th>\n      <td>0</td>\n    </tr>\n  </tbody>\n</table>\n</div>",
      "text/plain": "                             feature_importance\nuser_total_problem                          904\nuser_acc                                    877\nuserID                                      774\nproblem_mean                                583\nproblem_total_id                            465\ntest_total_id                               382\nuser_correct_answer                         344\ntest_part_id                                303\nweek_number                                 271\ntime_solve_problem_in_test                  270\nuser_total_answer                           254\nhour                                        207\ntest_mean                                   203\nproblem_sum                                 164\nproblem_count                               115\ntest_count                                  102\nslicing_behind3_KT_with_pad                  98\nmonth                                        91\ntest_sum                                     90\ntest_level                                   88\nslicing_ahead3_KT_no_pad                     78\nproblem_num                                  72\nday_of_week                                  68\nKnowledgeTag                                 60\ntag_mean                                     58\nslicing_ahead2_KT_no_pad                     40\nslicing_behind3_KT_no_pad                    29\nslicing_behind2_KT_no_pad                    23\nseason                                       22\ntag_count                                    14\nslicing_ahead1_KT_no_pad                     14\ntag_sum                                      11\nslicing_ahead4_KT_with_pad                    9\nslicing_ahead3_KT_with_pad                    8\nslicing_ahead2_KT_with_pad                    6\nslicing_behind4_KT_with_pad                   5\nslicing_behind2_KT_with_pad                   4\nslicing_behind1_KT_no_pad                     4\nslicing_behind1_KT_with_pad                   0\nyear                                          0"
     },
     "execution_count": 47,
     "metadata": {},
     "output_type": "execute_result"
    }
   ],
   "source": [
    "df_feature_importance = pd.DataFrame(load_model.feature_importance(), index=load_model.feature_name(),columns=['feature_importance'])\n",
    "df_feature_importance.sort_values(by=['feature_importance'],ascending=False)"
   ]
  },
  {
   "cell_type": "code",
   "execution_count": 127,
   "metadata": {},
   "outputs": [
    {
     "ename": "ImportError",
     "evalue": "Plotly is not available. Please install plotly to use this feature. Plotly can be installed by executing `$ pip install plotly`. For further information, please refer to the installation guide of plotly. (The actual import error is as follows: No module named 'plotly')",
     "output_type": "error",
     "traceback": [
      "\u001b[0;31m---------------------------------------------------------------------------\u001b[0m",
      "\u001b[0;31mImportError\u001b[0m                               Traceback (most recent call last)",
      "\u001b[0;32m<ipython-input-127-ade51d09e7c4>\u001b[0m in \u001b[0;36m<module>\u001b[0;34m\u001b[0m\n\u001b[1;32m      1\u001b[0m \u001b[0;31m### Visualize study history to analayze the hyperparams-performance relationship\u001b[0m\u001b[0;34m\u001b[0m\u001b[0;34m\u001b[0m\u001b[0;34m\u001b[0m\u001b[0m\n\u001b[1;32m      2\u001b[0m \u001b[0;34m\u001b[0m\u001b[0m\n\u001b[0;32m----> 3\u001b[0;31m \u001b[0moptuna\u001b[0m\u001b[0;34m.\u001b[0m\u001b[0mvisualization\u001b[0m\u001b[0;34m.\u001b[0m\u001b[0mplot_optimization_history\u001b[0m\u001b[0;34m(\u001b[0m\u001b[0mstudy\u001b[0m\u001b[0;34m)\u001b[0m   \u001b[0;31m#Optimization history\u001b[0m\u001b[0;34m\u001b[0m\u001b[0;34m\u001b[0m\u001b[0m\n\u001b[0m\u001b[1;32m      4\u001b[0m \u001b[0;31m#optuna.visualization.plot_intermediate_values(study)   #Visualize pruning history\u001b[0m\u001b[0;34m\u001b[0m\u001b[0;34m\u001b[0m\u001b[0;34m\u001b[0m\u001b[0m\n\u001b[1;32m      5\u001b[0m \u001b[0;31m#optuna.visualization.plot_slice(study)    #Visualize plot slice\u001b[0m\u001b[0;34m\u001b[0m\u001b[0;34m\u001b[0m\u001b[0;34m\u001b[0m\u001b[0m\n",
      "\u001b[0;32m/opt/conda/lib/python3.7/site-packages/optuna/visualization.py\u001b[0m in \u001b[0;36mplot_optimization_history\u001b[0;34m(study)\u001b[0m\n\u001b[1;32m    148\u001b[0m     \"\"\"\n\u001b[1;32m    149\u001b[0m \u001b[0;34m\u001b[0m\u001b[0m\n\u001b[0;32m--> 150\u001b[0;31m     \u001b[0m_check_plotly_availability\u001b[0m\u001b[0;34m(\u001b[0m\u001b[0;34m)\u001b[0m\u001b[0;34m\u001b[0m\u001b[0;34m\u001b[0m\u001b[0m\n\u001b[0m\u001b[1;32m    151\u001b[0m     \u001b[0mfigure\u001b[0m \u001b[0;34m=\u001b[0m \u001b[0m_get_optimization_history_plot\u001b[0m\u001b[0;34m(\u001b[0m\u001b[0mstudy\u001b[0m\u001b[0;34m)\u001b[0m\u001b[0;34m\u001b[0m\u001b[0;34m\u001b[0m\u001b[0m\n\u001b[1;32m    152\u001b[0m     \u001b[0mfigure\u001b[0m\u001b[0;34m.\u001b[0m\u001b[0mshow\u001b[0m\u001b[0;34m(\u001b[0m\u001b[0;34m)\u001b[0m\u001b[0;34m\u001b[0m\u001b[0;34m\u001b[0m\u001b[0m\n",
      "\u001b[0;32m/opt/conda/lib/python3.7/site-packages/optuna/visualization.py\u001b[0m in \u001b[0;36m_check_plotly_availability\u001b[0;34m()\u001b[0m\n\u001b[1;32m    593\u001b[0m             \u001b[0;34m'Plotly can be installed by executing `$ pip install plotly`. '\u001b[0m\u001b[0;34m\u001b[0m\u001b[0;34m\u001b[0m\u001b[0m\n\u001b[1;32m    594\u001b[0m             \u001b[0;34m'For further information, please refer to the installation guide of plotly. '\u001b[0m\u001b[0;34m\u001b[0m\u001b[0;34m\u001b[0m\u001b[0m\n\u001b[0;32m--> 595\u001b[0;31m             '(The actual import error is as follows: ' + str(_import_error) + ')')\n\u001b[0m\u001b[1;32m    596\u001b[0m \u001b[0;34m\u001b[0m\u001b[0m\n\u001b[1;32m    597\u001b[0m     \u001b[0;32mfrom\u001b[0m \u001b[0mdistutils\u001b[0m\u001b[0;34m.\u001b[0m\u001b[0mversion\u001b[0m \u001b[0;32mimport\u001b[0m \u001b[0mStrictVersion\u001b[0m\u001b[0;34m\u001b[0m\u001b[0;34m\u001b[0m\u001b[0m\n",
      "\u001b[0;31mImportError\u001b[0m: Plotly is not available. Please install plotly to use this feature. Plotly can be installed by executing `$ pip install plotly`. For further information, please refer to the installation guide of plotly. (The actual import error is as follows: No module named 'plotly')"
     ]
    }
   ],
   "source": [
    "### Visualize study history to analayze the hyperparams-performance relationship\n",
    "\n",
    "optuna.visualization.plot_optimization_history(study)   #Optimization history\n",
    "#optuna.visualization.plot_intermediate_values(study)   #Visualize pruning history\n",
    "#optuna.visualization.plot_slice(study)    #Visualize plot slice\n",
    "#optuna.visualization.plot_contour(study)    #Visualize plot contour (변수들 pairwise plot => 두 모수의 상호작용효과 확인)\n",
    "#optuna.visualization.plot_parallel_coordinate(study)   #Visualize parallel_coordinate\n"
   ]
  },
  {
   "cell_type": "code",
   "execution_count": null,
   "metadata": {},
   "outputs": [],
   "source": []
  }
 ],
 "metadata": {
  "kernelspec": {
   "display_name": "Python 3.7.7 64-bit ('base': conda)",
   "name": "python377jvsc74a57bd098b0a9b7b4eaaa670588a142fd0a9b87eaafe866f1db4228be72b4211d12040f"
  },
  "language_info": {
   "name": "python",
   "version": ""
  },
  "orig_nbformat": 3
 },
 "nbformat": 4,
 "nbformat_minor": 4
}